{
  "nbformat": 4,
  "nbformat_minor": 0,
  "metadata": {
    "kernelspec": {
      "display_name": "Python 3",
      "language": "python",
      "name": "python3"
    },
    "language_info": {
      "codemirror_mode": {
        "name": "ipython",
        "version": 3
      },
      "file_extension": ".py",
      "mimetype": "text/x-python",
      "name": "python",
      "nbconvert_exporter": "python",
      "pygments_lexer": "ipython3",
      "version": "3.7.9"
    },
    "papermill": {
      "duration": 28.468597,
      "end_time": "2020-10-20T21:34:26.910951",
      "environment_variables": {},
      "exception": null,
      "input_path": "__notebook__.ipynb",
      "output_path": "__notebook__.ipynb",
      "parameters": {},
      "start_time": "2020-10-20T21:33:58.442354",
      "version": "2.1.0"
    },
    "colab": {
      "provenance": []
    }
  },
  "cells": [
    {
      "cell_type": "markdown",
      "metadata": {
        "id": "ka_FkvXBiABo"
      },
      "source": [
        "# Introduction"
      ]
    },
    {
      "cell_type": "markdown",
      "metadata": {
        "papermill": {
          "duration": 0.035434,
          "end_time": "2020-10-20T21:34:01.886225",
          "exception": false,
          "start_time": "2020-10-20T21:34:01.850791",
          "status": "completed"
        },
        "tags": [],
        "id": "AWaMmfxXa-p0"
      },
      "source": [
        "<center><img src=\"https://i.imgur.com/9hLRsjZ.jpg\" height=400></center>\n",
        "\n",
        "This dataset was scraped from [nextspaceflight.com](https://nextspaceflight.com/launches/past/?page=1) and includes all the space missions since the beginning of Space Race between the USA and the Soviet Union in 1957!"
      ]
    },
    {
      "cell_type": "markdown",
      "metadata": {
        "id": "ufzKRKS3bV0r"
      },
      "source": [
        "### Install Package with Country Codes"
      ]
    },
    {
      "cell_type": "code",
      "metadata": {
        "id": "0HxV9o6dbRUE",
        "colab": {
          "base_uri": "https://localhost:8080/"
        },
        "outputId": "d3192be2-58d9-41b1-eab9-e38dc20033e6"
      },
      "source": [
        "!pip install iso3166"
      ],
      "execution_count": 1,
      "outputs": [
        {
          "output_type": "stream",
          "name": "stdout",
          "text": [
            "Collecting iso3166\n",
            "  Downloading iso3166-2.1.1-py3-none-any.whl.metadata (6.6 kB)\n",
            "Downloading iso3166-2.1.1-py3-none-any.whl (9.8 kB)\n",
            "Installing collected packages: iso3166\n",
            "Successfully installed iso3166-2.1.1\n"
          ]
        }
      ]
    },
    {
      "cell_type": "markdown",
      "metadata": {
        "id": "sghkhFoLbof8"
      },
      "source": [
        "### Upgrade Plotly\n",
        "\n",
        "Run the cell below if you are working with Google Colab."
      ]
    },
    {
      "cell_type": "code",
      "metadata": {
        "id": "gQ61wy9gbmxd",
        "colab": {
          "base_uri": "https://localhost:8080/"
        },
        "outputId": "7549508a-9358-4c65-8314-ca1e7442b2e8"
      },
      "source": [
        "!pip install --upgrade plotly"
      ],
      "execution_count": 2,
      "outputs": [
        {
          "output_type": "stream",
          "name": "stdout",
          "text": [
            "Requirement already satisfied: plotly in /usr/local/lib/python3.11/dist-packages (5.24.1)\n",
            "Collecting plotly\n",
            "  Downloading plotly-6.3.0-py3-none-any.whl.metadata (8.5 kB)\n",
            "Requirement already satisfied: narwhals>=1.15.1 in /usr/local/lib/python3.11/dist-packages (from plotly) (2.1.1)\n",
            "Requirement already satisfied: packaging in /usr/local/lib/python3.11/dist-packages (from plotly) (25.0)\n",
            "Downloading plotly-6.3.0-py3-none-any.whl (9.8 MB)\n",
            "\u001b[2K   \u001b[90m━━━━━━━━━━━━━━━━━━━━━━━━━━━━━━━━━━━━━━━━\u001b[0m \u001b[32m9.8/9.8 MB\u001b[0m \u001b[31m35.9 MB/s\u001b[0m eta \u001b[36m0:00:00\u001b[0m\n",
            "\u001b[?25hInstalling collected packages: plotly\n",
            "  Attempting uninstall: plotly\n",
            "    Found existing installation: plotly 5.24.1\n",
            "    Uninstalling plotly-5.24.1:\n",
            "      Successfully uninstalled plotly-5.24.1\n",
            "Successfully installed plotly-6.3.0\n"
          ]
        }
      ]
    },
    {
      "cell_type": "markdown",
      "metadata": {
        "id": "ErFDBihUi1jN"
      },
      "source": [
        "### Import Statements"
      ]
    },
    {
      "cell_type": "code",
      "metadata": {
        "_cell_guid": "b1076dfc-b9ad-4769-8c92-a6c4dae69d19",
        "_kg_hide-input": true,
        "_kg_hide-output": true,
        "_uuid": "8f2839f25d086af736a60e9eeb907d3b93b6e0e5",
        "execution": {
          "iopub.execute_input": "2020-10-20T21:34:02.101551Z",
          "iopub.status.busy": "2020-10-20T21:34:02.101085Z",
          "iopub.status.idle": "2020-10-20T21:34:03.726868Z",
          "shell.execute_reply": "2020-10-20T21:34:03.725783Z"
        },
        "papermill": {
          "duration": 1.665326,
          "end_time": "2020-10-20T21:34:03.726995",
          "exception": false,
          "start_time": "2020-10-20T21:34:02.061669",
          "status": "completed"
        },
        "tags": [],
        "id": "xdolY0-Sa-p1"
      },
      "source": [
        "import numpy as np\n",
        "import pandas as pd\n",
        "import plotly.express as px\n",
        "import matplotlib.pyplot as plt\n",
        "import seaborn as sns\n",
        "\n",
        "# These might be helpful:\n",
        "from iso3166 import countries\n",
        "from datetime import datetime, timedelta"
      ],
      "execution_count": 3,
      "outputs": []
    },
    {
      "cell_type": "markdown",
      "metadata": {
        "id": "lovGPRgKxIgo"
      },
      "source": [
        "### Notebook Presentation"
      ]
    },
    {
      "cell_type": "code",
      "metadata": {
        "id": "DHEULCOjxIIm"
      },
      "source": [
        "pd.options.display.float_format = '{:,.2f}'.format"
      ],
      "execution_count": 4,
      "outputs": []
    },
    {
      "cell_type": "markdown",
      "metadata": {
        "papermill": {
          "duration": 0.034606,
          "end_time": "2020-10-20T21:34:03.798396",
          "exception": false,
          "start_time": "2020-10-20T21:34:03.763790",
          "status": "completed"
        },
        "tags": [],
        "id": "yaT3QbjEa-p4"
      },
      "source": [
        "### Load the Data"
      ]
    },
    {
      "cell_type": "code",
      "metadata": {
        "_cell_guid": "79c7e3d0-c299-4dcb-8224-4455121ee9b0",
        "_kg_hide-input": true,
        "_uuid": "d629ff2d2480ee46fbb7e2d37f6b5fab8052498a",
        "execution": {
          "iopub.execute_input": "2020-10-20T21:34:03.874195Z",
          "iopub.status.busy": "2020-10-20T21:34:03.873775Z",
          "iopub.status.idle": "2020-10-20T21:34:03.921919Z",
          "shell.execute_reply": "2020-10-20T21:34:03.921418Z"
        },
        "papermill": {
          "duration": 0.08876,
          "end_time": "2020-10-20T21:34:03.922028",
          "exception": false,
          "start_time": "2020-10-20T21:34:03.833268",
          "status": "completed"
        },
        "tags": [],
        "id": "0lDOu8aka-p4"
      },
      "source": [
        "df_data = pd.read_csv('mission_launches.csv')"
      ],
      "execution_count": 5,
      "outputs": []
    },
    {
      "cell_type": "markdown",
      "metadata": {
        "id": "jAnMiVcVjuKB"
      },
      "source": [
        "# Preliminary Data Exploration\n",
        "\n",
        "* What is the shape of `df_data`?\n",
        "* How many rows and columns does it have?\n",
        "* What are the column names?\n",
        "* Are there any NaN values or duplicates?"
      ]
    },
    {
      "cell_type": "code",
      "metadata": {
        "id": "0tIuYcYNlPFQ",
        "colab": {
          "base_uri": "https://localhost:8080/"
        },
        "outputId": "efbf205c-a2e8-4de7-ffaa-4b43840b2560"
      },
      "source": [
        "print(f\"The shape of df_data is: {df_data.shape}\")"
      ],
      "execution_count": 6,
      "outputs": [
        {
          "output_type": "stream",
          "name": "stdout",
          "text": [
            "The shape of df_data is: (4324, 9)\n"
          ]
        }
      ]
    },
    {
      "cell_type": "code",
      "metadata": {
        "id": "0dw2hd9UlPmP",
        "colab": {
          "base_uri": "https://localhost:8080/"
        },
        "outputId": "a6e092e1-6768-44f8-a698-1631a72b90c8"
      },
      "source": [
        "print(f\"The column names are: {list(df_data.columns)}\")"
      ],
      "execution_count": 7,
      "outputs": [
        {
          "output_type": "stream",
          "name": "stdout",
          "text": [
            "The column names are: ['Unnamed: 0.1', 'Unnamed: 0', 'Organisation', 'Location', 'Date', 'Detail', 'Rocket_Status', 'Price', 'Mission_Status']\n"
          ]
        }
      ]
    },
    {
      "cell_type": "code",
      "source": [
        "print(\"Missing values per column:\")\n",
        "print(df_data.isnull().sum())\n",
        "\n",
        "print(\"\\nNumber of duplicate rows:\")\n",
        "print(df_data.duplicated().sum())"
      ],
      "metadata": {
        "colab": {
          "base_uri": "https://localhost:8080/"
        },
        "id": "WYE9IBQWPYTz",
        "outputId": "42a97d35-e127-46ee-a512-6fbe0c4da6c1"
      },
      "execution_count": 8,
      "outputs": [
        {
          "output_type": "stream",
          "name": "stdout",
          "text": [
            "Missing values per column:\n",
            "Unnamed: 0.1         0\n",
            "Unnamed: 0           0\n",
            "Organisation         0\n",
            "Location             0\n",
            "Date                 0\n",
            "Detail               0\n",
            "Rocket_Status        0\n",
            "Price             3360\n",
            "Mission_Status       0\n",
            "dtype: int64\n",
            "\n",
            "Number of duplicate rows:\n",
            "0\n"
          ]
        }
      ]
    },
    {
      "cell_type": "markdown",
      "metadata": {
        "papermill": {
          "duration": 0.05406,
          "end_time": "2020-10-20T21:34:04.149973",
          "exception": false,
          "start_time": "2020-10-20T21:34:04.095913",
          "status": "completed"
        },
        "tags": [],
        "id": "KUN30y6ja-p9"
      },
      "source": [
        "## Data Cleaning - Check for Missing Values and Duplicates\n",
        "\n",
        "Consider removing columns containing junk data."
      ]
    },
    {
      "cell_type": "code",
      "metadata": {
        "id": "SfxVooCYk2As",
        "colab": {
          "base_uri": "https://localhost:8080/",
          "height": 293
        },
        "outputId": "bd5e5792-1e59-49ef-ea75-77d36319f1a2"
      },
      "source": [
        "df_data = df_data.drop(columns=['Unnamed: 0.1', 'Unnamed: 0'])\n",
        "df_data.head()"
      ],
      "execution_count": 9,
      "outputs": [
        {
          "output_type": "execute_result",
          "data": {
            "text/plain": [
              "  Organisation                                           Location  \\\n",
              "0       SpaceX         LC-39A, Kennedy Space Center, Florida, USA   \n",
              "1         CASC  Site 9401 (SLS-2), Jiuquan Satellite Launch Ce...   \n",
              "2       SpaceX                      Pad A, Boca Chica, Texas, USA   \n",
              "3    Roscosmos       Site 200/39, Baikonur Cosmodrome, Kazakhstan   \n",
              "4          ULA           SLC-41, Cape Canaveral AFS, Florida, USA   \n",
              "\n",
              "                         Date                                        Detail  \\\n",
              "0  Fri Aug 07, 2020 05:12 UTC  Falcon 9 Block 5 | Starlink V1 L9 & BlackSky   \n",
              "1  Thu Aug 06, 2020 04:01 UTC           Long March 2D | Gaofen-9 04 & Q-SAT   \n",
              "2  Tue Aug 04, 2020 23:57 UTC            Starship Prototype | 150 Meter Hop   \n",
              "3  Thu Jul 30, 2020 21:25 UTC  Proton-M/Briz-M | Ekspress-80 & Ekspress-103   \n",
              "4  Thu Jul 30, 2020 11:50 UTC                    Atlas V 541 | Perseverance   \n",
              "\n",
              "  Rocket_Status  Price Mission_Status  \n",
              "0  StatusActive   50.0        Success  \n",
              "1  StatusActive  29.75        Success  \n",
              "2  StatusActive    NaN        Success  \n",
              "3  StatusActive   65.0        Success  \n",
              "4  StatusActive  145.0        Success  "
            ],
            "text/html": [
              "\n",
              "  <div id=\"df-4e14af84-9858-4a3d-90f1-abc21b2b1020\" class=\"colab-df-container\">\n",
              "    <div>\n",
              "<style scoped>\n",
              "    .dataframe tbody tr th:only-of-type {\n",
              "        vertical-align: middle;\n",
              "    }\n",
              "\n",
              "    .dataframe tbody tr th {\n",
              "        vertical-align: top;\n",
              "    }\n",
              "\n",
              "    .dataframe thead th {\n",
              "        text-align: right;\n",
              "    }\n",
              "</style>\n",
              "<table border=\"1\" class=\"dataframe\">\n",
              "  <thead>\n",
              "    <tr style=\"text-align: right;\">\n",
              "      <th></th>\n",
              "      <th>Organisation</th>\n",
              "      <th>Location</th>\n",
              "      <th>Date</th>\n",
              "      <th>Detail</th>\n",
              "      <th>Rocket_Status</th>\n",
              "      <th>Price</th>\n",
              "      <th>Mission_Status</th>\n",
              "    </tr>\n",
              "  </thead>\n",
              "  <tbody>\n",
              "    <tr>\n",
              "      <th>0</th>\n",
              "      <td>SpaceX</td>\n",
              "      <td>LC-39A, Kennedy Space Center, Florida, USA</td>\n",
              "      <td>Fri Aug 07, 2020 05:12 UTC</td>\n",
              "      <td>Falcon 9 Block 5 | Starlink V1 L9 &amp; BlackSky</td>\n",
              "      <td>StatusActive</td>\n",
              "      <td>50.0</td>\n",
              "      <td>Success</td>\n",
              "    </tr>\n",
              "    <tr>\n",
              "      <th>1</th>\n",
              "      <td>CASC</td>\n",
              "      <td>Site 9401 (SLS-2), Jiuquan Satellite Launch Ce...</td>\n",
              "      <td>Thu Aug 06, 2020 04:01 UTC</td>\n",
              "      <td>Long March 2D | Gaofen-9 04 &amp; Q-SAT</td>\n",
              "      <td>StatusActive</td>\n",
              "      <td>29.75</td>\n",
              "      <td>Success</td>\n",
              "    </tr>\n",
              "    <tr>\n",
              "      <th>2</th>\n",
              "      <td>SpaceX</td>\n",
              "      <td>Pad A, Boca Chica, Texas, USA</td>\n",
              "      <td>Tue Aug 04, 2020 23:57 UTC</td>\n",
              "      <td>Starship Prototype | 150 Meter Hop</td>\n",
              "      <td>StatusActive</td>\n",
              "      <td>NaN</td>\n",
              "      <td>Success</td>\n",
              "    </tr>\n",
              "    <tr>\n",
              "      <th>3</th>\n",
              "      <td>Roscosmos</td>\n",
              "      <td>Site 200/39, Baikonur Cosmodrome, Kazakhstan</td>\n",
              "      <td>Thu Jul 30, 2020 21:25 UTC</td>\n",
              "      <td>Proton-M/Briz-M | Ekspress-80 &amp; Ekspress-103</td>\n",
              "      <td>StatusActive</td>\n",
              "      <td>65.0</td>\n",
              "      <td>Success</td>\n",
              "    </tr>\n",
              "    <tr>\n",
              "      <th>4</th>\n",
              "      <td>ULA</td>\n",
              "      <td>SLC-41, Cape Canaveral AFS, Florida, USA</td>\n",
              "      <td>Thu Jul 30, 2020 11:50 UTC</td>\n",
              "      <td>Atlas V 541 | Perseverance</td>\n",
              "      <td>StatusActive</td>\n",
              "      <td>145.0</td>\n",
              "      <td>Success</td>\n",
              "    </tr>\n",
              "  </tbody>\n",
              "</table>\n",
              "</div>\n",
              "    <div class=\"colab-df-buttons\">\n",
              "\n",
              "  <div class=\"colab-df-container\">\n",
              "    <button class=\"colab-df-convert\" onclick=\"convertToInteractive('df-4e14af84-9858-4a3d-90f1-abc21b2b1020')\"\n",
              "            title=\"Convert this dataframe to an interactive table.\"\n",
              "            style=\"display:none;\">\n",
              "\n",
              "  <svg xmlns=\"http://www.w3.org/2000/svg\" height=\"24px\" viewBox=\"0 -960 960 960\">\n",
              "    <path d=\"M120-120v-720h720v720H120Zm60-500h600v-160H180v160Zm220 220h160v-160H400v160Zm0 220h160v-160H400v160ZM180-400h160v-160H180v160Zm440 0h160v-160H620v160ZM180-180h160v-160H180v160Zm440 0h160v-160H620v160Z\"/>\n",
              "  </svg>\n",
              "    </button>\n",
              "\n",
              "  <style>\n",
              "    .colab-df-container {\n",
              "      display:flex;\n",
              "      gap: 12px;\n",
              "    }\n",
              "\n",
              "    .colab-df-convert {\n",
              "      background-color: #E8F0FE;\n",
              "      border: none;\n",
              "      border-radius: 50%;\n",
              "      cursor: pointer;\n",
              "      display: none;\n",
              "      fill: #1967D2;\n",
              "      height: 32px;\n",
              "      padding: 0 0 0 0;\n",
              "      width: 32px;\n",
              "    }\n",
              "\n",
              "    .colab-df-convert:hover {\n",
              "      background-color: #E2EBFA;\n",
              "      box-shadow: 0px 1px 2px rgba(60, 64, 67, 0.3), 0px 1px 3px 1px rgba(60, 64, 67, 0.15);\n",
              "      fill: #174EA6;\n",
              "    }\n",
              "\n",
              "    .colab-df-buttons div {\n",
              "      margin-bottom: 4px;\n",
              "    }\n",
              "\n",
              "    [theme=dark] .colab-df-convert {\n",
              "      background-color: #3B4455;\n",
              "      fill: #D2E3FC;\n",
              "    }\n",
              "\n",
              "    [theme=dark] .colab-df-convert:hover {\n",
              "      background-color: #434B5C;\n",
              "      box-shadow: 0px 1px 3px 1px rgba(0, 0, 0, 0.15);\n",
              "      filter: drop-shadow(0px 1px 2px rgba(0, 0, 0, 0.3));\n",
              "      fill: #FFFFFF;\n",
              "    }\n",
              "  </style>\n",
              "\n",
              "    <script>\n",
              "      const buttonEl =\n",
              "        document.querySelector('#df-4e14af84-9858-4a3d-90f1-abc21b2b1020 button.colab-df-convert');\n",
              "      buttonEl.style.display =\n",
              "        google.colab.kernel.accessAllowed ? 'block' : 'none';\n",
              "\n",
              "      async function convertToInteractive(key) {\n",
              "        const element = document.querySelector('#df-4e14af84-9858-4a3d-90f1-abc21b2b1020');\n",
              "        const dataTable =\n",
              "          await google.colab.kernel.invokeFunction('convertToInteractive',\n",
              "                                                    [key], {});\n",
              "        if (!dataTable) return;\n",
              "\n",
              "        const docLinkHtml = 'Like what you see? Visit the ' +\n",
              "          '<a target=\"_blank\" href=https://colab.research.google.com/notebooks/data_table.ipynb>data table notebook</a>'\n",
              "          + ' to learn more about interactive tables.';\n",
              "        element.innerHTML = '';\n",
              "        dataTable['output_type'] = 'display_data';\n",
              "        await google.colab.output.renderOutput(dataTable, element);\n",
              "        const docLink = document.createElement('div');\n",
              "        docLink.innerHTML = docLinkHtml;\n",
              "        element.appendChild(docLink);\n",
              "      }\n",
              "    </script>\n",
              "  </div>\n",
              "\n",
              "\n",
              "    <div id=\"df-1fecec6b-5096-4b7c-8ba1-0f0d9b555027\">\n",
              "      <button class=\"colab-df-quickchart\" onclick=\"quickchart('df-1fecec6b-5096-4b7c-8ba1-0f0d9b555027')\"\n",
              "                title=\"Suggest charts\"\n",
              "                style=\"display:none;\">\n",
              "\n",
              "<svg xmlns=\"http://www.w3.org/2000/svg\" height=\"24px\"viewBox=\"0 0 24 24\"\n",
              "     width=\"24px\">\n",
              "    <g>\n",
              "        <path d=\"M19 3H5c-1.1 0-2 .9-2 2v14c0 1.1.9 2 2 2h14c1.1 0 2-.9 2-2V5c0-1.1-.9-2-2-2zM9 17H7v-7h2v7zm4 0h-2V7h2v10zm4 0h-2v-4h2v4z\"/>\n",
              "    </g>\n",
              "</svg>\n",
              "      </button>\n",
              "\n",
              "<style>\n",
              "  .colab-df-quickchart {\n",
              "      --bg-color: #E8F0FE;\n",
              "      --fill-color: #1967D2;\n",
              "      --hover-bg-color: #E2EBFA;\n",
              "      --hover-fill-color: #174EA6;\n",
              "      --disabled-fill-color: #AAA;\n",
              "      --disabled-bg-color: #DDD;\n",
              "  }\n",
              "\n",
              "  [theme=dark] .colab-df-quickchart {\n",
              "      --bg-color: #3B4455;\n",
              "      --fill-color: #D2E3FC;\n",
              "      --hover-bg-color: #434B5C;\n",
              "      --hover-fill-color: #FFFFFF;\n",
              "      --disabled-bg-color: #3B4455;\n",
              "      --disabled-fill-color: #666;\n",
              "  }\n",
              "\n",
              "  .colab-df-quickchart {\n",
              "    background-color: var(--bg-color);\n",
              "    border: none;\n",
              "    border-radius: 50%;\n",
              "    cursor: pointer;\n",
              "    display: none;\n",
              "    fill: var(--fill-color);\n",
              "    height: 32px;\n",
              "    padding: 0;\n",
              "    width: 32px;\n",
              "  }\n",
              "\n",
              "  .colab-df-quickchart:hover {\n",
              "    background-color: var(--hover-bg-color);\n",
              "    box-shadow: 0 1px 2px rgba(60, 64, 67, 0.3), 0 1px 3px 1px rgba(60, 64, 67, 0.15);\n",
              "    fill: var(--button-hover-fill-color);\n",
              "  }\n",
              "\n",
              "  .colab-df-quickchart-complete:disabled,\n",
              "  .colab-df-quickchart-complete:disabled:hover {\n",
              "    background-color: var(--disabled-bg-color);\n",
              "    fill: var(--disabled-fill-color);\n",
              "    box-shadow: none;\n",
              "  }\n",
              "\n",
              "  .colab-df-spinner {\n",
              "    border: 2px solid var(--fill-color);\n",
              "    border-color: transparent;\n",
              "    border-bottom-color: var(--fill-color);\n",
              "    animation:\n",
              "      spin 1s steps(1) infinite;\n",
              "  }\n",
              "\n",
              "  @keyframes spin {\n",
              "    0% {\n",
              "      border-color: transparent;\n",
              "      border-bottom-color: var(--fill-color);\n",
              "      border-left-color: var(--fill-color);\n",
              "    }\n",
              "    20% {\n",
              "      border-color: transparent;\n",
              "      border-left-color: var(--fill-color);\n",
              "      border-top-color: var(--fill-color);\n",
              "    }\n",
              "    30% {\n",
              "      border-color: transparent;\n",
              "      border-left-color: var(--fill-color);\n",
              "      border-top-color: var(--fill-color);\n",
              "      border-right-color: var(--fill-color);\n",
              "    }\n",
              "    40% {\n",
              "      border-color: transparent;\n",
              "      border-right-color: var(--fill-color);\n",
              "      border-top-color: var(--fill-color);\n",
              "    }\n",
              "    60% {\n",
              "      border-color: transparent;\n",
              "      border-right-color: var(--fill-color);\n",
              "    }\n",
              "    80% {\n",
              "      border-color: transparent;\n",
              "      border-right-color: var(--fill-color);\n",
              "      border-bottom-color: var(--fill-color);\n",
              "    }\n",
              "    90% {\n",
              "      border-color: transparent;\n",
              "      border-bottom-color: var(--fill-color);\n",
              "    }\n",
              "  }\n",
              "</style>\n",
              "\n",
              "      <script>\n",
              "        async function quickchart(key) {\n",
              "          const quickchartButtonEl =\n",
              "            document.querySelector('#' + key + ' button');\n",
              "          quickchartButtonEl.disabled = true;  // To prevent multiple clicks.\n",
              "          quickchartButtonEl.classList.add('colab-df-spinner');\n",
              "          try {\n",
              "            const charts = await google.colab.kernel.invokeFunction(\n",
              "                'suggestCharts', [key], {});\n",
              "          } catch (error) {\n",
              "            console.error('Error during call to suggestCharts:', error);\n",
              "          }\n",
              "          quickchartButtonEl.classList.remove('colab-df-spinner');\n",
              "          quickchartButtonEl.classList.add('colab-df-quickchart-complete');\n",
              "        }\n",
              "        (() => {\n",
              "          let quickchartButtonEl =\n",
              "            document.querySelector('#df-1fecec6b-5096-4b7c-8ba1-0f0d9b555027 button');\n",
              "          quickchartButtonEl.style.display =\n",
              "            google.colab.kernel.accessAllowed ? 'block' : 'none';\n",
              "        })();\n",
              "      </script>\n",
              "    </div>\n",
              "\n",
              "    </div>\n",
              "  </div>\n"
            ],
            "application/vnd.google.colaboratory.intrinsic+json": {
              "type": "dataframe",
              "variable_name": "df_data",
              "summary": "{\n  \"name\": \"df_data\",\n  \"rows\": 4324,\n  \"fields\": [\n    {\n      \"column\": \"Organisation\",\n      \"properties\": {\n        \"dtype\": \"category\",\n        \"num_unique_values\": 56,\n        \"samples\": [\n          \"SpaceX\",\n          \"Northrop\",\n          \"Boeing\"\n        ],\n        \"semantic_type\": \"\",\n        \"description\": \"\"\n      }\n    },\n    {\n      \"column\": \"Location\",\n      \"properties\": {\n        \"dtype\": \"category\",\n        \"num_unique_values\": 137,\n        \"samples\": [\n          \"Site 250, Baikonur Cosmodrome, Kazakhstan\",\n          \"SM Launch Tab, San Marco Launch Platform, Kenya\",\n          \"LC-3, Xichang Satellite Launch Center, China\"\n        ],\n        \"semantic_type\": \"\",\n        \"description\": \"\"\n      }\n    },\n    {\n      \"column\": \"Date\",\n      \"properties\": {\n        \"dtype\": \"string\",\n        \"num_unique_values\": 4319,\n        \"samples\": [\n          \"Wed Oct 11, 2017 22:53 UTC\",\n          \"Mon Apr 13, 1959 21:18 UTC\",\n          \"Fri Apr 02, 2010 04:04 UTC\"\n        ],\n        \"semantic_type\": \"\",\n        \"description\": \"\"\n      }\n    },\n    {\n      \"column\": \"Detail\",\n      \"properties\": {\n        \"dtype\": \"string\",\n        \"num_unique_values\": 4278,\n        \"samples\": [\n          \"Atlas V 401 | GPS IIF-7\",\n          \"Shavit-2 | Ofek-11\",\n          \"Molniya-M /Block 2BL | Cosmos 1024\"\n        ],\n        \"semantic_type\": \"\",\n        \"description\": \"\"\n      }\n    },\n    {\n      \"column\": \"Rocket_Status\",\n      \"properties\": {\n        \"dtype\": \"category\",\n        \"num_unique_values\": 2,\n        \"samples\": [\n          \"StatusRetired\",\n          \"StatusActive\"\n        ],\n        \"semantic_type\": \"\",\n        \"description\": \"\"\n      }\n    },\n    {\n      \"column\": \"Price\",\n      \"properties\": {\n        \"dtype\": \"category\",\n        \"num_unique_values\": 56,\n        \"samples\": [\n          \"50.0\",\n          \"48.5\"\n        ],\n        \"semantic_type\": \"\",\n        \"description\": \"\"\n      }\n    },\n    {\n      \"column\": \"Mission_Status\",\n      \"properties\": {\n        \"dtype\": \"category\",\n        \"num_unique_values\": 4,\n        \"samples\": [\n          \"Failure\",\n          \"Partial Failure\"\n        ],\n        \"semantic_type\": \"\",\n        \"description\": \"\"\n      }\n    }\n  ]\n}"
            }
          },
          "metadata": {},
          "execution_count": 9
        }
      ]
    },
    {
      "cell_type": "code",
      "source": [
        "df_data['Date'] = pd.to_datetime(df_data['Date'], format=\"mixed\", utc=True)\n",
        "df_data.dtypes"
      ],
      "metadata": {
        "colab": {
          "base_uri": "https://localhost:8080/",
          "height": 303
        },
        "id": "ESGPdmFTQsy7",
        "outputId": "d2bfea49-8920-4632-c634-866309f396aa"
      },
      "execution_count": 10,
      "outputs": [
        {
          "output_type": "execute_result",
          "data": {
            "text/plain": [
              "Organisation                   object\n",
              "Location                       object\n",
              "Date              datetime64[ns, UTC]\n",
              "Detail                         object\n",
              "Rocket_Status                  object\n",
              "Price                          object\n",
              "Mission_Status                 object\n",
              "dtype: object"
            ],
            "text/html": [
              "<div>\n",
              "<style scoped>\n",
              "    .dataframe tbody tr th:only-of-type {\n",
              "        vertical-align: middle;\n",
              "    }\n",
              "\n",
              "    .dataframe tbody tr th {\n",
              "        vertical-align: top;\n",
              "    }\n",
              "\n",
              "    .dataframe thead th {\n",
              "        text-align: right;\n",
              "    }\n",
              "</style>\n",
              "<table border=\"1\" class=\"dataframe\">\n",
              "  <thead>\n",
              "    <tr style=\"text-align: right;\">\n",
              "      <th></th>\n",
              "      <th>0</th>\n",
              "    </tr>\n",
              "  </thead>\n",
              "  <tbody>\n",
              "    <tr>\n",
              "      <th>Organisation</th>\n",
              "      <td>object</td>\n",
              "    </tr>\n",
              "    <tr>\n",
              "      <th>Location</th>\n",
              "      <td>object</td>\n",
              "    </tr>\n",
              "    <tr>\n",
              "      <th>Date</th>\n",
              "      <td>datetime64[ns, UTC]</td>\n",
              "    </tr>\n",
              "    <tr>\n",
              "      <th>Detail</th>\n",
              "      <td>object</td>\n",
              "    </tr>\n",
              "    <tr>\n",
              "      <th>Rocket_Status</th>\n",
              "      <td>object</td>\n",
              "    </tr>\n",
              "    <tr>\n",
              "      <th>Price</th>\n",
              "      <td>object</td>\n",
              "    </tr>\n",
              "    <tr>\n",
              "      <th>Mission_Status</th>\n",
              "      <td>object</td>\n",
              "    </tr>\n",
              "  </tbody>\n",
              "</table>\n",
              "</div><br><label><b>dtype:</b> object</label>"
            ]
          },
          "metadata": {},
          "execution_count": 10
        }
      ]
    },
    {
      "cell_type": "markdown",
      "metadata": {
        "papermill": {
          "duration": 0.036712,
          "end_time": "2020-10-20T21:34:05.227032",
          "exception": false,
          "start_time": "2020-10-20T21:34:05.190320",
          "status": "completed"
        },
        "tags": [],
        "id": "QHon_T5sa-p_"
      },
      "source": [
        "## Descriptive Statistics"
      ]
    },
    {
      "cell_type": "code",
      "metadata": {
        "id": "dGZa5HdbkJBT",
        "colab": {
          "base_uri": "https://localhost:8080/",
          "height": 397
        },
        "outputId": "257d7521-ca35-40f5-906b-dc6cb1ef8840"
      },
      "source": [
        "df_data.describe()"
      ],
      "execution_count": 11,
      "outputs": [
        {
          "output_type": "execute_result",
          "data": {
            "text/plain": [
              "       Organisation                                    Location  \\\n",
              "count          4324                                        4324   \n",
              "unique           56                                         137   \n",
              "top       RVSN USSR  Site 31/6, Baikonur Cosmodrome, Kazakhstan   \n",
              "freq           1777                                         235   \n",
              "mean            NaN                                         NaN   \n",
              "min             NaN                                         NaN   \n",
              "25%             NaN                                         NaN   \n",
              "50%             NaN                                         NaN   \n",
              "75%             NaN                                         NaN   \n",
              "max             NaN                                         NaN   \n",
              "\n",
              "                                       Date  \\\n",
              "count                                  4324   \n",
              "unique                                  NaN   \n",
              "top                                     NaN   \n",
              "freq                                    NaN   \n",
              "mean    1987-11-28 17:10:45.735430208+00:00   \n",
              "min               1957-10-04 19:28:00+00:00   \n",
              "25%               1972-04-20 07:28:30+00:00   \n",
              "50%               1984-12-17 00:17:30+00:00   \n",
              "75%               2002-09-10 20:50:45+00:00   \n",
              "max               2020-08-07 05:12:00+00:00   \n",
              "\n",
              "                                     Detail  Rocket_Status  Price  \\\n",
              "count                                  4324           4324    964   \n",
              "unique                                 4278              2     56   \n",
              "top     Cosmos-3MRB (65MRB) | BOR-5 Shuttle  StatusRetired  450.0   \n",
              "freq                                      6           3534    136   \n",
              "mean                                    NaN            NaN    NaN   \n",
              "min                                     NaN            NaN    NaN   \n",
              "25%                                     NaN            NaN    NaN   \n",
              "50%                                     NaN            NaN    NaN   \n",
              "75%                                     NaN            NaN    NaN   \n",
              "max                                     NaN            NaN    NaN   \n",
              "\n",
              "       Mission_Status  \n",
              "count            4324  \n",
              "unique              4  \n",
              "top           Success  \n",
              "freq             3879  \n",
              "mean              NaN  \n",
              "min               NaN  \n",
              "25%               NaN  \n",
              "50%               NaN  \n",
              "75%               NaN  \n",
              "max               NaN  "
            ],
            "text/html": [
              "\n",
              "  <div id=\"df-0140aa66-85df-4da4-9f9d-18d12be58b96\" class=\"colab-df-container\">\n",
              "    <div>\n",
              "<style scoped>\n",
              "    .dataframe tbody tr th:only-of-type {\n",
              "        vertical-align: middle;\n",
              "    }\n",
              "\n",
              "    .dataframe tbody tr th {\n",
              "        vertical-align: top;\n",
              "    }\n",
              "\n",
              "    .dataframe thead th {\n",
              "        text-align: right;\n",
              "    }\n",
              "</style>\n",
              "<table border=\"1\" class=\"dataframe\">\n",
              "  <thead>\n",
              "    <tr style=\"text-align: right;\">\n",
              "      <th></th>\n",
              "      <th>Organisation</th>\n",
              "      <th>Location</th>\n",
              "      <th>Date</th>\n",
              "      <th>Detail</th>\n",
              "      <th>Rocket_Status</th>\n",
              "      <th>Price</th>\n",
              "      <th>Mission_Status</th>\n",
              "    </tr>\n",
              "  </thead>\n",
              "  <tbody>\n",
              "    <tr>\n",
              "      <th>count</th>\n",
              "      <td>4324</td>\n",
              "      <td>4324</td>\n",
              "      <td>4324</td>\n",
              "      <td>4324</td>\n",
              "      <td>4324</td>\n",
              "      <td>964</td>\n",
              "      <td>4324</td>\n",
              "    </tr>\n",
              "    <tr>\n",
              "      <th>unique</th>\n",
              "      <td>56</td>\n",
              "      <td>137</td>\n",
              "      <td>NaN</td>\n",
              "      <td>4278</td>\n",
              "      <td>2</td>\n",
              "      <td>56</td>\n",
              "      <td>4</td>\n",
              "    </tr>\n",
              "    <tr>\n",
              "      <th>top</th>\n",
              "      <td>RVSN USSR</td>\n",
              "      <td>Site 31/6, Baikonur Cosmodrome, Kazakhstan</td>\n",
              "      <td>NaN</td>\n",
              "      <td>Cosmos-3MRB (65MRB) | BOR-5 Shuttle</td>\n",
              "      <td>StatusRetired</td>\n",
              "      <td>450.0</td>\n",
              "      <td>Success</td>\n",
              "    </tr>\n",
              "    <tr>\n",
              "      <th>freq</th>\n",
              "      <td>1777</td>\n",
              "      <td>235</td>\n",
              "      <td>NaN</td>\n",
              "      <td>6</td>\n",
              "      <td>3534</td>\n",
              "      <td>136</td>\n",
              "      <td>3879</td>\n",
              "    </tr>\n",
              "    <tr>\n",
              "      <th>mean</th>\n",
              "      <td>NaN</td>\n",
              "      <td>NaN</td>\n",
              "      <td>1987-11-28 17:10:45.735430208+00:00</td>\n",
              "      <td>NaN</td>\n",
              "      <td>NaN</td>\n",
              "      <td>NaN</td>\n",
              "      <td>NaN</td>\n",
              "    </tr>\n",
              "    <tr>\n",
              "      <th>min</th>\n",
              "      <td>NaN</td>\n",
              "      <td>NaN</td>\n",
              "      <td>1957-10-04 19:28:00+00:00</td>\n",
              "      <td>NaN</td>\n",
              "      <td>NaN</td>\n",
              "      <td>NaN</td>\n",
              "      <td>NaN</td>\n",
              "    </tr>\n",
              "    <tr>\n",
              "      <th>25%</th>\n",
              "      <td>NaN</td>\n",
              "      <td>NaN</td>\n",
              "      <td>1972-04-20 07:28:30+00:00</td>\n",
              "      <td>NaN</td>\n",
              "      <td>NaN</td>\n",
              "      <td>NaN</td>\n",
              "      <td>NaN</td>\n",
              "    </tr>\n",
              "    <tr>\n",
              "      <th>50%</th>\n",
              "      <td>NaN</td>\n",
              "      <td>NaN</td>\n",
              "      <td>1984-12-17 00:17:30+00:00</td>\n",
              "      <td>NaN</td>\n",
              "      <td>NaN</td>\n",
              "      <td>NaN</td>\n",
              "      <td>NaN</td>\n",
              "    </tr>\n",
              "    <tr>\n",
              "      <th>75%</th>\n",
              "      <td>NaN</td>\n",
              "      <td>NaN</td>\n",
              "      <td>2002-09-10 20:50:45+00:00</td>\n",
              "      <td>NaN</td>\n",
              "      <td>NaN</td>\n",
              "      <td>NaN</td>\n",
              "      <td>NaN</td>\n",
              "    </tr>\n",
              "    <tr>\n",
              "      <th>max</th>\n",
              "      <td>NaN</td>\n",
              "      <td>NaN</td>\n",
              "      <td>2020-08-07 05:12:00+00:00</td>\n",
              "      <td>NaN</td>\n",
              "      <td>NaN</td>\n",
              "      <td>NaN</td>\n",
              "      <td>NaN</td>\n",
              "    </tr>\n",
              "  </tbody>\n",
              "</table>\n",
              "</div>\n",
              "    <div class=\"colab-df-buttons\">\n",
              "\n",
              "  <div class=\"colab-df-container\">\n",
              "    <button class=\"colab-df-convert\" onclick=\"convertToInteractive('df-0140aa66-85df-4da4-9f9d-18d12be58b96')\"\n",
              "            title=\"Convert this dataframe to an interactive table.\"\n",
              "            style=\"display:none;\">\n",
              "\n",
              "  <svg xmlns=\"http://www.w3.org/2000/svg\" height=\"24px\" viewBox=\"0 -960 960 960\">\n",
              "    <path d=\"M120-120v-720h720v720H120Zm60-500h600v-160H180v160Zm220 220h160v-160H400v160Zm0 220h160v-160H400v160ZM180-400h160v-160H180v160Zm440 0h160v-160H620v160ZM180-180h160v-160H180v160Zm440 0h160v-160H620v160Z\"/>\n",
              "  </svg>\n",
              "    </button>\n",
              "\n",
              "  <style>\n",
              "    .colab-df-container {\n",
              "      display:flex;\n",
              "      gap: 12px;\n",
              "    }\n",
              "\n",
              "    .colab-df-convert {\n",
              "      background-color: #E8F0FE;\n",
              "      border: none;\n",
              "      border-radius: 50%;\n",
              "      cursor: pointer;\n",
              "      display: none;\n",
              "      fill: #1967D2;\n",
              "      height: 32px;\n",
              "      padding: 0 0 0 0;\n",
              "      width: 32px;\n",
              "    }\n",
              "\n",
              "    .colab-df-convert:hover {\n",
              "      background-color: #E2EBFA;\n",
              "      box-shadow: 0px 1px 2px rgba(60, 64, 67, 0.3), 0px 1px 3px 1px rgba(60, 64, 67, 0.15);\n",
              "      fill: #174EA6;\n",
              "    }\n",
              "\n",
              "    .colab-df-buttons div {\n",
              "      margin-bottom: 4px;\n",
              "    }\n",
              "\n",
              "    [theme=dark] .colab-df-convert {\n",
              "      background-color: #3B4455;\n",
              "      fill: #D2E3FC;\n",
              "    }\n",
              "\n",
              "    [theme=dark] .colab-df-convert:hover {\n",
              "      background-color: #434B5C;\n",
              "      box-shadow: 0px 1px 3px 1px rgba(0, 0, 0, 0.15);\n",
              "      filter: drop-shadow(0px 1px 2px rgba(0, 0, 0, 0.3));\n",
              "      fill: #FFFFFF;\n",
              "    }\n",
              "  </style>\n",
              "\n",
              "    <script>\n",
              "      const buttonEl =\n",
              "        document.querySelector('#df-0140aa66-85df-4da4-9f9d-18d12be58b96 button.colab-df-convert');\n",
              "      buttonEl.style.display =\n",
              "        google.colab.kernel.accessAllowed ? 'block' : 'none';\n",
              "\n",
              "      async function convertToInteractive(key) {\n",
              "        const element = document.querySelector('#df-0140aa66-85df-4da4-9f9d-18d12be58b96');\n",
              "        const dataTable =\n",
              "          await google.colab.kernel.invokeFunction('convertToInteractive',\n",
              "                                                    [key], {});\n",
              "        if (!dataTable) return;\n",
              "\n",
              "        const docLinkHtml = 'Like what you see? Visit the ' +\n",
              "          '<a target=\"_blank\" href=https://colab.research.google.com/notebooks/data_table.ipynb>data table notebook</a>'\n",
              "          + ' to learn more about interactive tables.';\n",
              "        element.innerHTML = '';\n",
              "        dataTable['output_type'] = 'display_data';\n",
              "        await google.colab.output.renderOutput(dataTable, element);\n",
              "        const docLink = document.createElement('div');\n",
              "        docLink.innerHTML = docLinkHtml;\n",
              "        element.appendChild(docLink);\n",
              "      }\n",
              "    </script>\n",
              "  </div>\n",
              "\n",
              "\n",
              "    <div id=\"df-8ed2c980-304d-47c3-9e68-9969fd47e3f4\">\n",
              "      <button class=\"colab-df-quickchart\" onclick=\"quickchart('df-8ed2c980-304d-47c3-9e68-9969fd47e3f4')\"\n",
              "                title=\"Suggest charts\"\n",
              "                style=\"display:none;\">\n",
              "\n",
              "<svg xmlns=\"http://www.w3.org/2000/svg\" height=\"24px\"viewBox=\"0 0 24 24\"\n",
              "     width=\"24px\">\n",
              "    <g>\n",
              "        <path d=\"M19 3H5c-1.1 0-2 .9-2 2v14c0 1.1.9 2 2 2h14c1.1 0 2-.9 2-2V5c0-1.1-.9-2-2-2zM9 17H7v-7h2v7zm4 0h-2V7h2v10zm4 0h-2v-4h2v4z\"/>\n",
              "    </g>\n",
              "</svg>\n",
              "      </button>\n",
              "\n",
              "<style>\n",
              "  .colab-df-quickchart {\n",
              "      --bg-color: #E8F0FE;\n",
              "      --fill-color: #1967D2;\n",
              "      --hover-bg-color: #E2EBFA;\n",
              "      --hover-fill-color: #174EA6;\n",
              "      --disabled-fill-color: #AAA;\n",
              "      --disabled-bg-color: #DDD;\n",
              "  }\n",
              "\n",
              "  [theme=dark] .colab-df-quickchart {\n",
              "      --bg-color: #3B4455;\n",
              "      --fill-color: #D2E3FC;\n",
              "      --hover-bg-color: #434B5C;\n",
              "      --hover-fill-color: #FFFFFF;\n",
              "      --disabled-bg-color: #3B4455;\n",
              "      --disabled-fill-color: #666;\n",
              "  }\n",
              "\n",
              "  .colab-df-quickchart {\n",
              "    background-color: var(--bg-color);\n",
              "    border: none;\n",
              "    border-radius: 50%;\n",
              "    cursor: pointer;\n",
              "    display: none;\n",
              "    fill: var(--fill-color);\n",
              "    height: 32px;\n",
              "    padding: 0;\n",
              "    width: 32px;\n",
              "  }\n",
              "\n",
              "  .colab-df-quickchart:hover {\n",
              "    background-color: var(--hover-bg-color);\n",
              "    box-shadow: 0 1px 2px rgba(60, 64, 67, 0.3), 0 1px 3px 1px rgba(60, 64, 67, 0.15);\n",
              "    fill: var(--button-hover-fill-color);\n",
              "  }\n",
              "\n",
              "  .colab-df-quickchart-complete:disabled,\n",
              "  .colab-df-quickchart-complete:disabled:hover {\n",
              "    background-color: var(--disabled-bg-color);\n",
              "    fill: var(--disabled-fill-color);\n",
              "    box-shadow: none;\n",
              "  }\n",
              "\n",
              "  .colab-df-spinner {\n",
              "    border: 2px solid var(--fill-color);\n",
              "    border-color: transparent;\n",
              "    border-bottom-color: var(--fill-color);\n",
              "    animation:\n",
              "      spin 1s steps(1) infinite;\n",
              "  }\n",
              "\n",
              "  @keyframes spin {\n",
              "    0% {\n",
              "      border-color: transparent;\n",
              "      border-bottom-color: var(--fill-color);\n",
              "      border-left-color: var(--fill-color);\n",
              "    }\n",
              "    20% {\n",
              "      border-color: transparent;\n",
              "      border-left-color: var(--fill-color);\n",
              "      border-top-color: var(--fill-color);\n",
              "    }\n",
              "    30% {\n",
              "      border-color: transparent;\n",
              "      border-left-color: var(--fill-color);\n",
              "      border-top-color: var(--fill-color);\n",
              "      border-right-color: var(--fill-color);\n",
              "    }\n",
              "    40% {\n",
              "      border-color: transparent;\n",
              "      border-right-color: var(--fill-color);\n",
              "      border-top-color: var(--fill-color);\n",
              "    }\n",
              "    60% {\n",
              "      border-color: transparent;\n",
              "      border-right-color: var(--fill-color);\n",
              "    }\n",
              "    80% {\n",
              "      border-color: transparent;\n",
              "      border-right-color: var(--fill-color);\n",
              "      border-bottom-color: var(--fill-color);\n",
              "    }\n",
              "    90% {\n",
              "      border-color: transparent;\n",
              "      border-bottom-color: var(--fill-color);\n",
              "    }\n",
              "  }\n",
              "</style>\n",
              "\n",
              "      <script>\n",
              "        async function quickchart(key) {\n",
              "          const quickchartButtonEl =\n",
              "            document.querySelector('#' + key + ' button');\n",
              "          quickchartButtonEl.disabled = true;  // To prevent multiple clicks.\n",
              "          quickchartButtonEl.classList.add('colab-df-spinner');\n",
              "          try {\n",
              "            const charts = await google.colab.kernel.invokeFunction(\n",
              "                'suggestCharts', [key], {});\n",
              "          } catch (error) {\n",
              "            console.error('Error during call to suggestCharts:', error);\n",
              "          }\n",
              "          quickchartButtonEl.classList.remove('colab-df-spinner');\n",
              "          quickchartButtonEl.classList.add('colab-df-quickchart-complete');\n",
              "        }\n",
              "        (() => {\n",
              "          let quickchartButtonEl =\n",
              "            document.querySelector('#df-8ed2c980-304d-47c3-9e68-9969fd47e3f4 button');\n",
              "          quickchartButtonEl.style.display =\n",
              "            google.colab.kernel.accessAllowed ? 'block' : 'none';\n",
              "        })();\n",
              "      </script>\n",
              "    </div>\n",
              "\n",
              "    </div>\n",
              "  </div>\n"
            ],
            "application/vnd.google.colaboratory.intrinsic+json": {
              "type": "dataframe",
              "summary": "{\n  \"name\": \"df_data\",\n  \"rows\": 10,\n  \"fields\": [\n    {\n      \"column\": \"Organisation\",\n      \"properties\": {\n        \"dtype\": \"category\",\n        \"num_unique_values\": 4,\n        \"samples\": [\n          56,\n          \"1777\",\n          \"4324\"\n        ],\n        \"semantic_type\": \"\",\n        \"description\": \"\"\n      }\n    },\n    {\n      \"column\": \"Location\",\n      \"properties\": {\n        \"dtype\": \"category\",\n        \"num_unique_values\": 4,\n        \"samples\": [\n          137,\n          \"235\",\n          \"4324\"\n        ],\n        \"semantic_type\": \"\",\n        \"description\": \"\"\n      }\n    },\n    {\n      \"column\": \"Date\",\n      \"properties\": {\n        \"dtype\": \"string\",\n        \"num_unique_values\": 7,\n        \"samples\": [\n          \"4324\",\n          \"1987-11-28 17:10:45.735430208+00:00\",\n          \"2002-09-10 20:50:45+00:00\"\n        ],\n        \"semantic_type\": \"\",\n        \"description\": \"\"\n      }\n    },\n    {\n      \"column\": \"Detail\",\n      \"properties\": {\n        \"dtype\": \"category\",\n        \"num_unique_values\": 4,\n        \"samples\": [\n          4278,\n          \"6\",\n          \"4324\"\n        ],\n        \"semantic_type\": \"\",\n        \"description\": \"\"\n      }\n    },\n    {\n      \"column\": \"Rocket_Status\",\n      \"properties\": {\n        \"dtype\": \"category\",\n        \"num_unique_values\": 4,\n        \"samples\": [\n          2,\n          \"3534\",\n          \"4324\"\n        ],\n        \"semantic_type\": \"\",\n        \"description\": \"\"\n      }\n    },\n    {\n      \"column\": \"Price\",\n      \"properties\": {\n        \"dtype\": \"category\",\n        \"num_unique_values\": 4,\n        \"samples\": [\n          56,\n          \"136\",\n          \"964\"\n        ],\n        \"semantic_type\": \"\",\n        \"description\": \"\"\n      }\n    },\n    {\n      \"column\": \"Mission_Status\",\n      \"properties\": {\n        \"dtype\": \"category\",\n        \"num_unique_values\": 4,\n        \"samples\": [\n          4,\n          \"3879\",\n          \"4324\"\n        ],\n        \"semantic_type\": \"\",\n        \"description\": \"\"\n      }\n    }\n  ]\n}"
            }
          },
          "metadata": {},
          "execution_count": 11
        }
      ]
    },
    {
      "cell_type": "markdown",
      "metadata": {
        "id": "cgCjcpeUkKPW"
      },
      "source": [
        "# Number of Launches per Company\n",
        "\n",
        "Create a chart that shows the number of space mission launches by organisation."
      ]
    },
    {
      "cell_type": "code",
      "metadata": {
        "id": "rxvcIrtskxYB",
        "colab": {
          "base_uri": "https://localhost:8080/",
          "height": 542
        },
        "outputId": "a6fb776e-4968-4822-f108-f91874e59db3"
      },
      "source": [
        "org_launches = df_data['Organisation'].value_counts().reset_index()\n",
        "org_launches.columns = ['Organisation', 'Launch Count']\n",
        "\n",
        "fig = px.bar(org_launches,\n",
        "             x='Organisation',\n",
        "             y='Launch Count',\n",
        "             title='Number of Space Mission Launches per Organisation')\n",
        "\n",
        "fig.show()"
      ],
      "execution_count": 12,
      "outputs": [
        {
          "output_type": "display_data",
          "data": {
            "text/html": [
              "<html>\n",
              "<head><meta charset=\"utf-8\" /></head>\n",
              "<body>\n",
              "    <div>            <script src=\"https://cdnjs.cloudflare.com/ajax/libs/mathjax/2.7.5/MathJax.js?config=TeX-AMS-MML_SVG\"></script><script type=\"text/javascript\">if (window.MathJax && window.MathJax.Hub && window.MathJax.Hub.Config) {window.MathJax.Hub.Config({SVG: {font: \"STIX-Web\"}});}</script>                <script type=\"text/javascript\">window.PlotlyConfig = {MathJaxConfig: 'local'};</script>\n",
              "        <script charset=\"utf-8\" src=\"https://cdn.plot.ly/plotly-3.1.0.min.js\" integrity=\"sha256-Ei4740bWZhaUTQuD6q9yQlgVCMPBz6CZWhevDYPv93A=\" crossorigin=\"anonymous\"></script>                <div id=\"4ef3e176-5d8d-48fa-8e93-02bff81e3525\" class=\"plotly-graph-div\" style=\"height:525px; width:100%;\"></div>            <script type=\"text/javascript\">                window.PLOTLYENV=window.PLOTLYENV || {};                                if (document.getElementById(\"4ef3e176-5d8d-48fa-8e93-02bff81e3525\")) {                    Plotly.newPlot(                        \"4ef3e176-5d8d-48fa-8e93-02bff81e3525\",                        [{\"hovertemplate\":\"Organisation=%{x}\\u003cbr\\u003eLaunch Count=%{y}\\u003cextra\\u003e\\u003c\\u002fextra\\u003e\",\"legendgroup\":\"\",\"marker\":{\"color\":\"#636efa\",\"pattern\":{\"shape\":\"\"}},\"name\":\"\",\"orientation\":\"v\",\"showlegend\":false,\"textposition\":\"auto\",\"x\":[\"RVSN USSR\",\"Arianespace\",\"General Dynamics\",\"CASC\",\"NASA\",\"VKS RF\",\"US Air Force\",\"ULA\",\"Boeing\",\"Martin Marietta\",\"SpaceX\",\"MHI\",\"Northrop\",\"Lockheed\",\"ISRO\",\"Roscosmos\",\"ILS\",\"Sea Launch\",\"ISAS\",\"Kosmotras\",\"US Navy\",\"Rocket Lab\",\"ISA\",\"Eurockot\",\"ESA\",\"Blue Origin\",\"IAI\",\"ExPace\",\"ASI\",\"CNES\",\"AMBA\",\"JAXA\",\"Land Launch\",\"MITT\",\"UT\",\"CASIC\",\"KCST\",\"Exos\",\"CECLES\",\"Arm??e de l'Air\",\"SRC\",\"KARI\",\"AEB\",\"RAE\",\"Yuzhmash\",\"OKB-586\",\"Virgin Orbit\",\"IRGC\",\"OneSpace\",\"Landspace\",\"i-Space\",\"Sandia\",\"Starsem\",\"Khrunichev\",\"Douglas\",\"EER\"],\"xaxis\":\"x\",\"y\":{\"dtype\":\"i2\",\"bdata\":\"8QYXAfsA+wDLAMkAoQCMAIgAcgBkAFQAUwBPAEwANwAuACQAHgAWABEADQANAA0ADQAMAAsACgAJAAgACAAHAAcABwAFAAUABQAEAAQABAADAAMAAwACAAIAAgABAAEAAQABAAEAAQABAAEAAQABAA==\"},\"yaxis\":\"y\",\"type\":\"bar\"}],                        {\"template\":{\"data\":{\"histogram2dcontour\":[{\"type\":\"histogram2dcontour\",\"colorbar\":{\"outlinewidth\":0,\"ticks\":\"\"},\"colorscale\":[[0.0,\"#0d0887\"],[0.1111111111111111,\"#46039f\"],[0.2222222222222222,\"#7201a8\"],[0.3333333333333333,\"#9c179e\"],[0.4444444444444444,\"#bd3786\"],[0.5555555555555556,\"#d8576b\"],[0.6666666666666666,\"#ed7953\"],[0.7777777777777778,\"#fb9f3a\"],[0.8888888888888888,\"#fdca26\"],[1.0,\"#f0f921\"]]}],\"choropleth\":[{\"type\":\"choropleth\",\"colorbar\":{\"outlinewidth\":0,\"ticks\":\"\"}}],\"histogram2d\":[{\"type\":\"histogram2d\",\"colorbar\":{\"outlinewidth\":0,\"ticks\":\"\"},\"colorscale\":[[0.0,\"#0d0887\"],[0.1111111111111111,\"#46039f\"],[0.2222222222222222,\"#7201a8\"],[0.3333333333333333,\"#9c179e\"],[0.4444444444444444,\"#bd3786\"],[0.5555555555555556,\"#d8576b\"],[0.6666666666666666,\"#ed7953\"],[0.7777777777777778,\"#fb9f3a\"],[0.8888888888888888,\"#fdca26\"],[1.0,\"#f0f921\"]]}],\"heatmap\":[{\"type\":\"heatmap\",\"colorbar\":{\"outlinewidth\":0,\"ticks\":\"\"},\"colorscale\":[[0.0,\"#0d0887\"],[0.1111111111111111,\"#46039f\"],[0.2222222222222222,\"#7201a8\"],[0.3333333333333333,\"#9c179e\"],[0.4444444444444444,\"#bd3786\"],[0.5555555555555556,\"#d8576b\"],[0.6666666666666666,\"#ed7953\"],[0.7777777777777778,\"#fb9f3a\"],[0.8888888888888888,\"#fdca26\"],[1.0,\"#f0f921\"]]}],\"contourcarpet\":[{\"type\":\"contourcarpet\",\"colorbar\":{\"outlinewidth\":0,\"ticks\":\"\"}}],\"contour\":[{\"type\":\"contour\",\"colorbar\":{\"outlinewidth\":0,\"ticks\":\"\"},\"colorscale\":[[0.0,\"#0d0887\"],[0.1111111111111111,\"#46039f\"],[0.2222222222222222,\"#7201a8\"],[0.3333333333333333,\"#9c179e\"],[0.4444444444444444,\"#bd3786\"],[0.5555555555555556,\"#d8576b\"],[0.6666666666666666,\"#ed7953\"],[0.7777777777777778,\"#fb9f3a\"],[0.8888888888888888,\"#fdca26\"],[1.0,\"#f0f921\"]]}],\"surface\":[{\"type\":\"surface\",\"colorbar\":{\"outlinewidth\":0,\"ticks\":\"\"},\"colorscale\":[[0.0,\"#0d0887\"],[0.1111111111111111,\"#46039f\"],[0.2222222222222222,\"#7201a8\"],[0.3333333333333333,\"#9c179e\"],[0.4444444444444444,\"#bd3786\"],[0.5555555555555556,\"#d8576b\"],[0.6666666666666666,\"#ed7953\"],[0.7777777777777778,\"#fb9f3a\"],[0.8888888888888888,\"#fdca26\"],[1.0,\"#f0f921\"]]}],\"mesh3d\":[{\"type\":\"mesh3d\",\"colorbar\":{\"outlinewidth\":0,\"ticks\":\"\"}}],\"scatter\":[{\"fillpattern\":{\"fillmode\":\"overlay\",\"size\":10,\"solidity\":0.2},\"type\":\"scatter\"}],\"parcoords\":[{\"type\":\"parcoords\",\"line\":{\"colorbar\":{\"outlinewidth\":0,\"ticks\":\"\"}}}],\"scatterpolargl\":[{\"type\":\"scatterpolargl\",\"marker\":{\"colorbar\":{\"outlinewidth\":0,\"ticks\":\"\"}}}],\"bar\":[{\"error_x\":{\"color\":\"#2a3f5f\"},\"error_y\":{\"color\":\"#2a3f5f\"},\"marker\":{\"line\":{\"color\":\"#E5ECF6\",\"width\":0.5},\"pattern\":{\"fillmode\":\"overlay\",\"size\":10,\"solidity\":0.2}},\"type\":\"bar\"}],\"scattergeo\":[{\"type\":\"scattergeo\",\"marker\":{\"colorbar\":{\"outlinewidth\":0,\"ticks\":\"\"}}}],\"scatterpolar\":[{\"type\":\"scatterpolar\",\"marker\":{\"colorbar\":{\"outlinewidth\":0,\"ticks\":\"\"}}}],\"histogram\":[{\"marker\":{\"pattern\":{\"fillmode\":\"overlay\",\"size\":10,\"solidity\":0.2}},\"type\":\"histogram\"}],\"scattergl\":[{\"type\":\"scattergl\",\"marker\":{\"colorbar\":{\"outlinewidth\":0,\"ticks\":\"\"}}}],\"scatter3d\":[{\"type\":\"scatter3d\",\"line\":{\"colorbar\":{\"outlinewidth\":0,\"ticks\":\"\"}},\"marker\":{\"colorbar\":{\"outlinewidth\":0,\"ticks\":\"\"}}}],\"scattermap\":[{\"type\":\"scattermap\",\"marker\":{\"colorbar\":{\"outlinewidth\":0,\"ticks\":\"\"}}}],\"scattermapbox\":[{\"type\":\"scattermapbox\",\"marker\":{\"colorbar\":{\"outlinewidth\":0,\"ticks\":\"\"}}}],\"scatterternary\":[{\"type\":\"scatterternary\",\"marker\":{\"colorbar\":{\"outlinewidth\":0,\"ticks\":\"\"}}}],\"scattercarpet\":[{\"type\":\"scattercarpet\",\"marker\":{\"colorbar\":{\"outlinewidth\":0,\"ticks\":\"\"}}}],\"carpet\":[{\"aaxis\":{\"endlinecolor\":\"#2a3f5f\",\"gridcolor\":\"white\",\"linecolor\":\"white\",\"minorgridcolor\":\"white\",\"startlinecolor\":\"#2a3f5f\"},\"baxis\":{\"endlinecolor\":\"#2a3f5f\",\"gridcolor\":\"white\",\"linecolor\":\"white\",\"minorgridcolor\":\"white\",\"startlinecolor\":\"#2a3f5f\"},\"type\":\"carpet\"}],\"table\":[{\"cells\":{\"fill\":{\"color\":\"#EBF0F8\"},\"line\":{\"color\":\"white\"}},\"header\":{\"fill\":{\"color\":\"#C8D4E3\"},\"line\":{\"color\":\"white\"}},\"type\":\"table\"}],\"barpolar\":[{\"marker\":{\"line\":{\"color\":\"#E5ECF6\",\"width\":0.5},\"pattern\":{\"fillmode\":\"overlay\",\"size\":10,\"solidity\":0.2}},\"type\":\"barpolar\"}],\"pie\":[{\"automargin\":true,\"type\":\"pie\"}]},\"layout\":{\"autotypenumbers\":\"strict\",\"colorway\":[\"#636efa\",\"#EF553B\",\"#00cc96\",\"#ab63fa\",\"#FFA15A\",\"#19d3f3\",\"#FF6692\",\"#B6E880\",\"#FF97FF\",\"#FECB52\"],\"font\":{\"color\":\"#2a3f5f\"},\"hovermode\":\"closest\",\"hoverlabel\":{\"align\":\"left\"},\"paper_bgcolor\":\"white\",\"plot_bgcolor\":\"#E5ECF6\",\"polar\":{\"bgcolor\":\"#E5ECF6\",\"angularaxis\":{\"gridcolor\":\"white\",\"linecolor\":\"white\",\"ticks\":\"\"},\"radialaxis\":{\"gridcolor\":\"white\",\"linecolor\":\"white\",\"ticks\":\"\"}},\"ternary\":{\"bgcolor\":\"#E5ECF6\",\"aaxis\":{\"gridcolor\":\"white\",\"linecolor\":\"white\",\"ticks\":\"\"},\"baxis\":{\"gridcolor\":\"white\",\"linecolor\":\"white\",\"ticks\":\"\"},\"caxis\":{\"gridcolor\":\"white\",\"linecolor\":\"white\",\"ticks\":\"\"}},\"coloraxis\":{\"colorbar\":{\"outlinewidth\":0,\"ticks\":\"\"}},\"colorscale\":{\"sequential\":[[0.0,\"#0d0887\"],[0.1111111111111111,\"#46039f\"],[0.2222222222222222,\"#7201a8\"],[0.3333333333333333,\"#9c179e\"],[0.4444444444444444,\"#bd3786\"],[0.5555555555555556,\"#d8576b\"],[0.6666666666666666,\"#ed7953\"],[0.7777777777777778,\"#fb9f3a\"],[0.8888888888888888,\"#fdca26\"],[1.0,\"#f0f921\"]],\"sequentialminus\":[[0.0,\"#0d0887\"],[0.1111111111111111,\"#46039f\"],[0.2222222222222222,\"#7201a8\"],[0.3333333333333333,\"#9c179e\"],[0.4444444444444444,\"#bd3786\"],[0.5555555555555556,\"#d8576b\"],[0.6666666666666666,\"#ed7953\"],[0.7777777777777778,\"#fb9f3a\"],[0.8888888888888888,\"#fdca26\"],[1.0,\"#f0f921\"]],\"diverging\":[[0,\"#8e0152\"],[0.1,\"#c51b7d\"],[0.2,\"#de77ae\"],[0.3,\"#f1b6da\"],[0.4,\"#fde0ef\"],[0.5,\"#f7f7f7\"],[0.6,\"#e6f5d0\"],[0.7,\"#b8e186\"],[0.8,\"#7fbc41\"],[0.9,\"#4d9221\"],[1,\"#276419\"]]},\"xaxis\":{\"gridcolor\":\"white\",\"linecolor\":\"white\",\"ticks\":\"\",\"title\":{\"standoff\":15},\"zerolinecolor\":\"white\",\"automargin\":true,\"zerolinewidth\":2},\"yaxis\":{\"gridcolor\":\"white\",\"linecolor\":\"white\",\"ticks\":\"\",\"title\":{\"standoff\":15},\"zerolinecolor\":\"white\",\"automargin\":true,\"zerolinewidth\":2},\"scene\":{\"xaxis\":{\"backgroundcolor\":\"#E5ECF6\",\"gridcolor\":\"white\",\"linecolor\":\"white\",\"showbackground\":true,\"ticks\":\"\",\"zerolinecolor\":\"white\",\"gridwidth\":2},\"yaxis\":{\"backgroundcolor\":\"#E5ECF6\",\"gridcolor\":\"white\",\"linecolor\":\"white\",\"showbackground\":true,\"ticks\":\"\",\"zerolinecolor\":\"white\",\"gridwidth\":2},\"zaxis\":{\"backgroundcolor\":\"#E5ECF6\",\"gridcolor\":\"white\",\"linecolor\":\"white\",\"showbackground\":true,\"ticks\":\"\",\"zerolinecolor\":\"white\",\"gridwidth\":2}},\"shapedefaults\":{\"line\":{\"color\":\"#2a3f5f\"}},\"annotationdefaults\":{\"arrowcolor\":\"#2a3f5f\",\"arrowhead\":0,\"arrowwidth\":1},\"geo\":{\"bgcolor\":\"white\",\"landcolor\":\"#E5ECF6\",\"subunitcolor\":\"white\",\"showland\":true,\"showlakes\":true,\"lakecolor\":\"white\"},\"title\":{\"x\":0.05},\"mapbox\":{\"style\":\"light\"}}},\"xaxis\":{\"anchor\":\"y\",\"domain\":[0.0,1.0],\"title\":{\"text\":\"Organisation\"}},\"yaxis\":{\"anchor\":\"x\",\"domain\":[0.0,1.0],\"title\":{\"text\":\"Launch Count\"}},\"legend\":{\"tracegroupgap\":0},\"title\":{\"text\":\"Number of Space Mission Launches per Organisation\"},\"barmode\":\"relative\"},                        {\"responsive\": true}                    ).then(function(){\n",
              "                            \n",
              "var gd = document.getElementById('4ef3e176-5d8d-48fa-8e93-02bff81e3525');\n",
              "var x = new MutationObserver(function (mutations, observer) {{\n",
              "        var display = window.getComputedStyle(gd).display;\n",
              "        if (!display || display === 'none') {{\n",
              "            console.log([gd, 'removed!']);\n",
              "            Plotly.purge(gd);\n",
              "            observer.disconnect();\n",
              "        }}\n",
              "}});\n",
              "\n",
              "// Listen for the removal of the full notebook cells\n",
              "var notebookContainer = gd.closest('#notebook-container');\n",
              "if (notebookContainer) {{\n",
              "    x.observe(notebookContainer, {childList: true});\n",
              "}}\n",
              "\n",
              "// Listen for the clearing of the current output cell\n",
              "var outputEl = gd.closest('.output');\n",
              "if (outputEl) {{\n",
              "    x.observe(outputEl, {childList: true});\n",
              "}}\n",
              "\n",
              "                        })                };            </script>        </div>\n",
              "</body>\n",
              "</html>"
            ]
          },
          "metadata": {}
        }
      ]
    },
    {
      "cell_type": "markdown",
      "metadata": {
        "id": "7Gwteht2kR_h"
      },
      "source": [
        "# Number of Active versus Retired Rockets\n",
        "\n",
        "How many rockets are active compared to those that are decomissioned?"
      ]
    },
    {
      "cell_type": "code",
      "metadata": {
        "id": "SxmOWS9cmTq6",
        "colab": {
          "base_uri": "https://localhost:8080/",
          "height": 542
        },
        "outputId": "53e7bf1b-94e2-4f98-ce39-4af2825fb047"
      },
      "source": [
        "rocket_status = df_data['Rocket_Status'].value_counts().reset_index()\n",
        "rocket_status.columns = ['Status', 'Count']\n",
        "\n",
        "fig = px.bar(rocket_status,\n",
        "             x='Status',\n",
        "             y='Count',\n",
        "             title='Number of Space Active versus Retired Rockets')\n",
        "\n",
        "fig.show()"
      ],
      "execution_count": 13,
      "outputs": [
        {
          "output_type": "display_data",
          "data": {
            "text/html": [
              "<html>\n",
              "<head><meta charset=\"utf-8\" /></head>\n",
              "<body>\n",
              "    <div>            <script src=\"https://cdnjs.cloudflare.com/ajax/libs/mathjax/2.7.5/MathJax.js?config=TeX-AMS-MML_SVG\"></script><script type=\"text/javascript\">if (window.MathJax && window.MathJax.Hub && window.MathJax.Hub.Config) {window.MathJax.Hub.Config({SVG: {font: \"STIX-Web\"}});}</script>                <script type=\"text/javascript\">window.PlotlyConfig = {MathJaxConfig: 'local'};</script>\n",
              "        <script charset=\"utf-8\" src=\"https://cdn.plot.ly/plotly-3.1.0.min.js\" integrity=\"sha256-Ei4740bWZhaUTQuD6q9yQlgVCMPBz6CZWhevDYPv93A=\" crossorigin=\"anonymous\"></script>                <div id=\"216df4f9-0abc-4aaa-9ab3-512de1c4bf12\" class=\"plotly-graph-div\" style=\"height:525px; width:100%;\"></div>            <script type=\"text/javascript\">                window.PLOTLYENV=window.PLOTLYENV || {};                                if (document.getElementById(\"216df4f9-0abc-4aaa-9ab3-512de1c4bf12\")) {                    Plotly.newPlot(                        \"216df4f9-0abc-4aaa-9ab3-512de1c4bf12\",                        [{\"hovertemplate\":\"Status=%{x}\\u003cbr\\u003eCount=%{y}\\u003cextra\\u003e\\u003c\\u002fextra\\u003e\",\"legendgroup\":\"\",\"marker\":{\"color\":\"#636efa\",\"pattern\":{\"shape\":\"\"}},\"name\":\"\",\"orientation\":\"v\",\"showlegend\":false,\"textposition\":\"auto\",\"x\":[\"StatusRetired\",\"StatusActive\"],\"xaxis\":\"x\",\"y\":{\"dtype\":\"i2\",\"bdata\":\"zg0WAw==\"},\"yaxis\":\"y\",\"type\":\"bar\"}],                        {\"template\":{\"data\":{\"histogram2dcontour\":[{\"type\":\"histogram2dcontour\",\"colorbar\":{\"outlinewidth\":0,\"ticks\":\"\"},\"colorscale\":[[0.0,\"#0d0887\"],[0.1111111111111111,\"#46039f\"],[0.2222222222222222,\"#7201a8\"],[0.3333333333333333,\"#9c179e\"],[0.4444444444444444,\"#bd3786\"],[0.5555555555555556,\"#d8576b\"],[0.6666666666666666,\"#ed7953\"],[0.7777777777777778,\"#fb9f3a\"],[0.8888888888888888,\"#fdca26\"],[1.0,\"#f0f921\"]]}],\"choropleth\":[{\"type\":\"choropleth\",\"colorbar\":{\"outlinewidth\":0,\"ticks\":\"\"}}],\"histogram2d\":[{\"type\":\"histogram2d\",\"colorbar\":{\"outlinewidth\":0,\"ticks\":\"\"},\"colorscale\":[[0.0,\"#0d0887\"],[0.1111111111111111,\"#46039f\"],[0.2222222222222222,\"#7201a8\"],[0.3333333333333333,\"#9c179e\"],[0.4444444444444444,\"#bd3786\"],[0.5555555555555556,\"#d8576b\"],[0.6666666666666666,\"#ed7953\"],[0.7777777777777778,\"#fb9f3a\"],[0.8888888888888888,\"#fdca26\"],[1.0,\"#f0f921\"]]}],\"heatmap\":[{\"type\":\"heatmap\",\"colorbar\":{\"outlinewidth\":0,\"ticks\":\"\"},\"colorscale\":[[0.0,\"#0d0887\"],[0.1111111111111111,\"#46039f\"],[0.2222222222222222,\"#7201a8\"],[0.3333333333333333,\"#9c179e\"],[0.4444444444444444,\"#bd3786\"],[0.5555555555555556,\"#d8576b\"],[0.6666666666666666,\"#ed7953\"],[0.7777777777777778,\"#fb9f3a\"],[0.8888888888888888,\"#fdca26\"],[1.0,\"#f0f921\"]]}],\"contourcarpet\":[{\"type\":\"contourcarpet\",\"colorbar\":{\"outlinewidth\":0,\"ticks\":\"\"}}],\"contour\":[{\"type\":\"contour\",\"colorbar\":{\"outlinewidth\":0,\"ticks\":\"\"},\"colorscale\":[[0.0,\"#0d0887\"],[0.1111111111111111,\"#46039f\"],[0.2222222222222222,\"#7201a8\"],[0.3333333333333333,\"#9c179e\"],[0.4444444444444444,\"#bd3786\"],[0.5555555555555556,\"#d8576b\"],[0.6666666666666666,\"#ed7953\"],[0.7777777777777778,\"#fb9f3a\"],[0.8888888888888888,\"#fdca26\"],[1.0,\"#f0f921\"]]}],\"surface\":[{\"type\":\"surface\",\"colorbar\":{\"outlinewidth\":0,\"ticks\":\"\"},\"colorscale\":[[0.0,\"#0d0887\"],[0.1111111111111111,\"#46039f\"],[0.2222222222222222,\"#7201a8\"],[0.3333333333333333,\"#9c179e\"],[0.4444444444444444,\"#bd3786\"],[0.5555555555555556,\"#d8576b\"],[0.6666666666666666,\"#ed7953\"],[0.7777777777777778,\"#fb9f3a\"],[0.8888888888888888,\"#fdca26\"],[1.0,\"#f0f921\"]]}],\"mesh3d\":[{\"type\":\"mesh3d\",\"colorbar\":{\"outlinewidth\":0,\"ticks\":\"\"}}],\"scatter\":[{\"fillpattern\":{\"fillmode\":\"overlay\",\"size\":10,\"solidity\":0.2},\"type\":\"scatter\"}],\"parcoords\":[{\"type\":\"parcoords\",\"line\":{\"colorbar\":{\"outlinewidth\":0,\"ticks\":\"\"}}}],\"scatterpolargl\":[{\"type\":\"scatterpolargl\",\"marker\":{\"colorbar\":{\"outlinewidth\":0,\"ticks\":\"\"}}}],\"bar\":[{\"error_x\":{\"color\":\"#2a3f5f\"},\"error_y\":{\"color\":\"#2a3f5f\"},\"marker\":{\"line\":{\"color\":\"#E5ECF6\",\"width\":0.5},\"pattern\":{\"fillmode\":\"overlay\",\"size\":10,\"solidity\":0.2}},\"type\":\"bar\"}],\"scattergeo\":[{\"type\":\"scattergeo\",\"marker\":{\"colorbar\":{\"outlinewidth\":0,\"ticks\":\"\"}}}],\"scatterpolar\":[{\"type\":\"scatterpolar\",\"marker\":{\"colorbar\":{\"outlinewidth\":0,\"ticks\":\"\"}}}],\"histogram\":[{\"marker\":{\"pattern\":{\"fillmode\":\"overlay\",\"size\":10,\"solidity\":0.2}},\"type\":\"histogram\"}],\"scattergl\":[{\"type\":\"scattergl\",\"marker\":{\"colorbar\":{\"outlinewidth\":0,\"ticks\":\"\"}}}],\"scatter3d\":[{\"type\":\"scatter3d\",\"line\":{\"colorbar\":{\"outlinewidth\":0,\"ticks\":\"\"}},\"marker\":{\"colorbar\":{\"outlinewidth\":0,\"ticks\":\"\"}}}],\"scattermap\":[{\"type\":\"scattermap\",\"marker\":{\"colorbar\":{\"outlinewidth\":0,\"ticks\":\"\"}}}],\"scattermapbox\":[{\"type\":\"scattermapbox\",\"marker\":{\"colorbar\":{\"outlinewidth\":0,\"ticks\":\"\"}}}],\"scatterternary\":[{\"type\":\"scatterternary\",\"marker\":{\"colorbar\":{\"outlinewidth\":0,\"ticks\":\"\"}}}],\"scattercarpet\":[{\"type\":\"scattercarpet\",\"marker\":{\"colorbar\":{\"outlinewidth\":0,\"ticks\":\"\"}}}],\"carpet\":[{\"aaxis\":{\"endlinecolor\":\"#2a3f5f\",\"gridcolor\":\"white\",\"linecolor\":\"white\",\"minorgridcolor\":\"white\",\"startlinecolor\":\"#2a3f5f\"},\"baxis\":{\"endlinecolor\":\"#2a3f5f\",\"gridcolor\":\"white\",\"linecolor\":\"white\",\"minorgridcolor\":\"white\",\"startlinecolor\":\"#2a3f5f\"},\"type\":\"carpet\"}],\"table\":[{\"cells\":{\"fill\":{\"color\":\"#EBF0F8\"},\"line\":{\"color\":\"white\"}},\"header\":{\"fill\":{\"color\":\"#C8D4E3\"},\"line\":{\"color\":\"white\"}},\"type\":\"table\"}],\"barpolar\":[{\"marker\":{\"line\":{\"color\":\"#E5ECF6\",\"width\":0.5},\"pattern\":{\"fillmode\":\"overlay\",\"size\":10,\"solidity\":0.2}},\"type\":\"barpolar\"}],\"pie\":[{\"automargin\":true,\"type\":\"pie\"}]},\"layout\":{\"autotypenumbers\":\"strict\",\"colorway\":[\"#636efa\",\"#EF553B\",\"#00cc96\",\"#ab63fa\",\"#FFA15A\",\"#19d3f3\",\"#FF6692\",\"#B6E880\",\"#FF97FF\",\"#FECB52\"],\"font\":{\"color\":\"#2a3f5f\"},\"hovermode\":\"closest\",\"hoverlabel\":{\"align\":\"left\"},\"paper_bgcolor\":\"white\",\"plot_bgcolor\":\"#E5ECF6\",\"polar\":{\"bgcolor\":\"#E5ECF6\",\"angularaxis\":{\"gridcolor\":\"white\",\"linecolor\":\"white\",\"ticks\":\"\"},\"radialaxis\":{\"gridcolor\":\"white\",\"linecolor\":\"white\",\"ticks\":\"\"}},\"ternary\":{\"bgcolor\":\"#E5ECF6\",\"aaxis\":{\"gridcolor\":\"white\",\"linecolor\":\"white\",\"ticks\":\"\"},\"baxis\":{\"gridcolor\":\"white\",\"linecolor\":\"white\",\"ticks\":\"\"},\"caxis\":{\"gridcolor\":\"white\",\"linecolor\":\"white\",\"ticks\":\"\"}},\"coloraxis\":{\"colorbar\":{\"outlinewidth\":0,\"ticks\":\"\"}},\"colorscale\":{\"sequential\":[[0.0,\"#0d0887\"],[0.1111111111111111,\"#46039f\"],[0.2222222222222222,\"#7201a8\"],[0.3333333333333333,\"#9c179e\"],[0.4444444444444444,\"#bd3786\"],[0.5555555555555556,\"#d8576b\"],[0.6666666666666666,\"#ed7953\"],[0.7777777777777778,\"#fb9f3a\"],[0.8888888888888888,\"#fdca26\"],[1.0,\"#f0f921\"]],\"sequentialminus\":[[0.0,\"#0d0887\"],[0.1111111111111111,\"#46039f\"],[0.2222222222222222,\"#7201a8\"],[0.3333333333333333,\"#9c179e\"],[0.4444444444444444,\"#bd3786\"],[0.5555555555555556,\"#d8576b\"],[0.6666666666666666,\"#ed7953\"],[0.7777777777777778,\"#fb9f3a\"],[0.8888888888888888,\"#fdca26\"],[1.0,\"#f0f921\"]],\"diverging\":[[0,\"#8e0152\"],[0.1,\"#c51b7d\"],[0.2,\"#de77ae\"],[0.3,\"#f1b6da\"],[0.4,\"#fde0ef\"],[0.5,\"#f7f7f7\"],[0.6,\"#e6f5d0\"],[0.7,\"#b8e186\"],[0.8,\"#7fbc41\"],[0.9,\"#4d9221\"],[1,\"#276419\"]]},\"xaxis\":{\"gridcolor\":\"white\",\"linecolor\":\"white\",\"ticks\":\"\",\"title\":{\"standoff\":15},\"zerolinecolor\":\"white\",\"automargin\":true,\"zerolinewidth\":2},\"yaxis\":{\"gridcolor\":\"white\",\"linecolor\":\"white\",\"ticks\":\"\",\"title\":{\"standoff\":15},\"zerolinecolor\":\"white\",\"automargin\":true,\"zerolinewidth\":2},\"scene\":{\"xaxis\":{\"backgroundcolor\":\"#E5ECF6\",\"gridcolor\":\"white\",\"linecolor\":\"white\",\"showbackground\":true,\"ticks\":\"\",\"zerolinecolor\":\"white\",\"gridwidth\":2},\"yaxis\":{\"backgroundcolor\":\"#E5ECF6\",\"gridcolor\":\"white\",\"linecolor\":\"white\",\"showbackground\":true,\"ticks\":\"\",\"zerolinecolor\":\"white\",\"gridwidth\":2},\"zaxis\":{\"backgroundcolor\":\"#E5ECF6\",\"gridcolor\":\"white\",\"linecolor\":\"white\",\"showbackground\":true,\"ticks\":\"\",\"zerolinecolor\":\"white\",\"gridwidth\":2}},\"shapedefaults\":{\"line\":{\"color\":\"#2a3f5f\"}},\"annotationdefaults\":{\"arrowcolor\":\"#2a3f5f\",\"arrowhead\":0,\"arrowwidth\":1},\"geo\":{\"bgcolor\":\"white\",\"landcolor\":\"#E5ECF6\",\"subunitcolor\":\"white\",\"showland\":true,\"showlakes\":true,\"lakecolor\":\"white\"},\"title\":{\"x\":0.05},\"mapbox\":{\"style\":\"light\"}}},\"xaxis\":{\"anchor\":\"y\",\"domain\":[0.0,1.0],\"title\":{\"text\":\"Status\"}},\"yaxis\":{\"anchor\":\"x\",\"domain\":[0.0,1.0],\"title\":{\"text\":\"Count\"}},\"legend\":{\"tracegroupgap\":0},\"title\":{\"text\":\"Number of Space Active versus Retired Rockets\"},\"barmode\":\"relative\"},                        {\"responsive\": true}                    ).then(function(){\n",
              "                            \n",
              "var gd = document.getElementById('216df4f9-0abc-4aaa-9ab3-512de1c4bf12');\n",
              "var x = new MutationObserver(function (mutations, observer) {{\n",
              "        var display = window.getComputedStyle(gd).display;\n",
              "        if (!display || display === 'none') {{\n",
              "            console.log([gd, 'removed!']);\n",
              "            Plotly.purge(gd);\n",
              "            observer.disconnect();\n",
              "        }}\n",
              "}});\n",
              "\n",
              "// Listen for the removal of the full notebook cells\n",
              "var notebookContainer = gd.closest('#notebook-container');\n",
              "if (notebookContainer) {{\n",
              "    x.observe(notebookContainer, {childList: true});\n",
              "}}\n",
              "\n",
              "// Listen for the clearing of the current output cell\n",
              "var outputEl = gd.closest('.output');\n",
              "if (outputEl) {{\n",
              "    x.observe(outputEl, {childList: true});\n",
              "}}\n",
              "\n",
              "                        })                };            </script>        </div>\n",
              "</body>\n",
              "</html>"
            ]
          },
          "metadata": {}
        }
      ]
    },
    {
      "cell_type": "markdown",
      "metadata": {
        "id": "y9WtP5xWkYkp"
      },
      "source": [
        "# Distribution of Mission Status\n",
        "\n",
        "How many missions were successful?\n",
        "How many missions failed?"
      ]
    },
    {
      "cell_type": "code",
      "metadata": {
        "id": "83kY1alqmUhb",
        "colab": {
          "base_uri": "https://localhost:8080/",
          "height": 542
        },
        "outputId": "62837d7e-addb-4a02-9a0d-8c4d282d9256"
      },
      "source": [
        "mission_status = df_data['Mission_Status'].value_counts().reset_index()\n",
        "mission_status.columns = ['Mission Status', 'Count']\n",
        "\n",
        "fig = px.bar(mission_status,\n",
        "             x='Mission Status',\n",
        "             y='Count',\n",
        "             title='Distribution of Mission Status')\n",
        "\n",
        "fig.show()"
      ],
      "execution_count": 14,
      "outputs": [
        {
          "output_type": "display_data",
          "data": {
            "text/html": [
              "<html>\n",
              "<head><meta charset=\"utf-8\" /></head>\n",
              "<body>\n",
              "    <div>            <script src=\"https://cdnjs.cloudflare.com/ajax/libs/mathjax/2.7.5/MathJax.js?config=TeX-AMS-MML_SVG\"></script><script type=\"text/javascript\">if (window.MathJax && window.MathJax.Hub && window.MathJax.Hub.Config) {window.MathJax.Hub.Config({SVG: {font: \"STIX-Web\"}});}</script>                <script type=\"text/javascript\">window.PlotlyConfig = {MathJaxConfig: 'local'};</script>\n",
              "        <script charset=\"utf-8\" src=\"https://cdn.plot.ly/plotly-3.1.0.min.js\" integrity=\"sha256-Ei4740bWZhaUTQuD6q9yQlgVCMPBz6CZWhevDYPv93A=\" crossorigin=\"anonymous\"></script>                <div id=\"2333ddce-0d2b-4a38-9318-da98d3633607\" class=\"plotly-graph-div\" style=\"height:525px; width:100%;\"></div>            <script type=\"text/javascript\">                window.PLOTLYENV=window.PLOTLYENV || {};                                if (document.getElementById(\"2333ddce-0d2b-4a38-9318-da98d3633607\")) {                    Plotly.newPlot(                        \"2333ddce-0d2b-4a38-9318-da98d3633607\",                        [{\"hovertemplate\":\"Mission Status=%{x}\\u003cbr\\u003eCount=%{y}\\u003cextra\\u003e\\u003c\\u002fextra\\u003e\",\"legendgroup\":\"\",\"marker\":{\"color\":\"#636efa\",\"pattern\":{\"shape\":\"\"}},\"name\":\"\",\"orientation\":\"v\",\"showlegend\":false,\"textposition\":\"auto\",\"x\":[\"Success\",\"Failure\",\"Partial Failure\",\"Prelaunch Failure\"],\"xaxis\":\"x\",\"y\":{\"dtype\":\"i2\",\"bdata\":\"Jw9TAWYABAA=\"},\"yaxis\":\"y\",\"type\":\"bar\"}],                        {\"template\":{\"data\":{\"histogram2dcontour\":[{\"type\":\"histogram2dcontour\",\"colorbar\":{\"outlinewidth\":0,\"ticks\":\"\"},\"colorscale\":[[0.0,\"#0d0887\"],[0.1111111111111111,\"#46039f\"],[0.2222222222222222,\"#7201a8\"],[0.3333333333333333,\"#9c179e\"],[0.4444444444444444,\"#bd3786\"],[0.5555555555555556,\"#d8576b\"],[0.6666666666666666,\"#ed7953\"],[0.7777777777777778,\"#fb9f3a\"],[0.8888888888888888,\"#fdca26\"],[1.0,\"#f0f921\"]]}],\"choropleth\":[{\"type\":\"choropleth\",\"colorbar\":{\"outlinewidth\":0,\"ticks\":\"\"}}],\"histogram2d\":[{\"type\":\"histogram2d\",\"colorbar\":{\"outlinewidth\":0,\"ticks\":\"\"},\"colorscale\":[[0.0,\"#0d0887\"],[0.1111111111111111,\"#46039f\"],[0.2222222222222222,\"#7201a8\"],[0.3333333333333333,\"#9c179e\"],[0.4444444444444444,\"#bd3786\"],[0.5555555555555556,\"#d8576b\"],[0.6666666666666666,\"#ed7953\"],[0.7777777777777778,\"#fb9f3a\"],[0.8888888888888888,\"#fdca26\"],[1.0,\"#f0f921\"]]}],\"heatmap\":[{\"type\":\"heatmap\",\"colorbar\":{\"outlinewidth\":0,\"ticks\":\"\"},\"colorscale\":[[0.0,\"#0d0887\"],[0.1111111111111111,\"#46039f\"],[0.2222222222222222,\"#7201a8\"],[0.3333333333333333,\"#9c179e\"],[0.4444444444444444,\"#bd3786\"],[0.5555555555555556,\"#d8576b\"],[0.6666666666666666,\"#ed7953\"],[0.7777777777777778,\"#fb9f3a\"],[0.8888888888888888,\"#fdca26\"],[1.0,\"#f0f921\"]]}],\"contourcarpet\":[{\"type\":\"contourcarpet\",\"colorbar\":{\"outlinewidth\":0,\"ticks\":\"\"}}],\"contour\":[{\"type\":\"contour\",\"colorbar\":{\"outlinewidth\":0,\"ticks\":\"\"},\"colorscale\":[[0.0,\"#0d0887\"],[0.1111111111111111,\"#46039f\"],[0.2222222222222222,\"#7201a8\"],[0.3333333333333333,\"#9c179e\"],[0.4444444444444444,\"#bd3786\"],[0.5555555555555556,\"#d8576b\"],[0.6666666666666666,\"#ed7953\"],[0.7777777777777778,\"#fb9f3a\"],[0.8888888888888888,\"#fdca26\"],[1.0,\"#f0f921\"]]}],\"surface\":[{\"type\":\"surface\",\"colorbar\":{\"outlinewidth\":0,\"ticks\":\"\"},\"colorscale\":[[0.0,\"#0d0887\"],[0.1111111111111111,\"#46039f\"],[0.2222222222222222,\"#7201a8\"],[0.3333333333333333,\"#9c179e\"],[0.4444444444444444,\"#bd3786\"],[0.5555555555555556,\"#d8576b\"],[0.6666666666666666,\"#ed7953\"],[0.7777777777777778,\"#fb9f3a\"],[0.8888888888888888,\"#fdca26\"],[1.0,\"#f0f921\"]]}],\"mesh3d\":[{\"type\":\"mesh3d\",\"colorbar\":{\"outlinewidth\":0,\"ticks\":\"\"}}],\"scatter\":[{\"fillpattern\":{\"fillmode\":\"overlay\",\"size\":10,\"solidity\":0.2},\"type\":\"scatter\"}],\"parcoords\":[{\"type\":\"parcoords\",\"line\":{\"colorbar\":{\"outlinewidth\":0,\"ticks\":\"\"}}}],\"scatterpolargl\":[{\"type\":\"scatterpolargl\",\"marker\":{\"colorbar\":{\"outlinewidth\":0,\"ticks\":\"\"}}}],\"bar\":[{\"error_x\":{\"color\":\"#2a3f5f\"},\"error_y\":{\"color\":\"#2a3f5f\"},\"marker\":{\"line\":{\"color\":\"#E5ECF6\",\"width\":0.5},\"pattern\":{\"fillmode\":\"overlay\",\"size\":10,\"solidity\":0.2}},\"type\":\"bar\"}],\"scattergeo\":[{\"type\":\"scattergeo\",\"marker\":{\"colorbar\":{\"outlinewidth\":0,\"ticks\":\"\"}}}],\"scatterpolar\":[{\"type\":\"scatterpolar\",\"marker\":{\"colorbar\":{\"outlinewidth\":0,\"ticks\":\"\"}}}],\"histogram\":[{\"marker\":{\"pattern\":{\"fillmode\":\"overlay\",\"size\":10,\"solidity\":0.2}},\"type\":\"histogram\"}],\"scattergl\":[{\"type\":\"scattergl\",\"marker\":{\"colorbar\":{\"outlinewidth\":0,\"ticks\":\"\"}}}],\"scatter3d\":[{\"type\":\"scatter3d\",\"line\":{\"colorbar\":{\"outlinewidth\":0,\"ticks\":\"\"}},\"marker\":{\"colorbar\":{\"outlinewidth\":0,\"ticks\":\"\"}}}],\"scattermap\":[{\"type\":\"scattermap\",\"marker\":{\"colorbar\":{\"outlinewidth\":0,\"ticks\":\"\"}}}],\"scattermapbox\":[{\"type\":\"scattermapbox\",\"marker\":{\"colorbar\":{\"outlinewidth\":0,\"ticks\":\"\"}}}],\"scatterternary\":[{\"type\":\"scatterternary\",\"marker\":{\"colorbar\":{\"outlinewidth\":0,\"ticks\":\"\"}}}],\"scattercarpet\":[{\"type\":\"scattercarpet\",\"marker\":{\"colorbar\":{\"outlinewidth\":0,\"ticks\":\"\"}}}],\"carpet\":[{\"aaxis\":{\"endlinecolor\":\"#2a3f5f\",\"gridcolor\":\"white\",\"linecolor\":\"white\",\"minorgridcolor\":\"white\",\"startlinecolor\":\"#2a3f5f\"},\"baxis\":{\"endlinecolor\":\"#2a3f5f\",\"gridcolor\":\"white\",\"linecolor\":\"white\",\"minorgridcolor\":\"white\",\"startlinecolor\":\"#2a3f5f\"},\"type\":\"carpet\"}],\"table\":[{\"cells\":{\"fill\":{\"color\":\"#EBF0F8\"},\"line\":{\"color\":\"white\"}},\"header\":{\"fill\":{\"color\":\"#C8D4E3\"},\"line\":{\"color\":\"white\"}},\"type\":\"table\"}],\"barpolar\":[{\"marker\":{\"line\":{\"color\":\"#E5ECF6\",\"width\":0.5},\"pattern\":{\"fillmode\":\"overlay\",\"size\":10,\"solidity\":0.2}},\"type\":\"barpolar\"}],\"pie\":[{\"automargin\":true,\"type\":\"pie\"}]},\"layout\":{\"autotypenumbers\":\"strict\",\"colorway\":[\"#636efa\",\"#EF553B\",\"#00cc96\",\"#ab63fa\",\"#FFA15A\",\"#19d3f3\",\"#FF6692\",\"#B6E880\",\"#FF97FF\",\"#FECB52\"],\"font\":{\"color\":\"#2a3f5f\"},\"hovermode\":\"closest\",\"hoverlabel\":{\"align\":\"left\"},\"paper_bgcolor\":\"white\",\"plot_bgcolor\":\"#E5ECF6\",\"polar\":{\"bgcolor\":\"#E5ECF6\",\"angularaxis\":{\"gridcolor\":\"white\",\"linecolor\":\"white\",\"ticks\":\"\"},\"radialaxis\":{\"gridcolor\":\"white\",\"linecolor\":\"white\",\"ticks\":\"\"}},\"ternary\":{\"bgcolor\":\"#E5ECF6\",\"aaxis\":{\"gridcolor\":\"white\",\"linecolor\":\"white\",\"ticks\":\"\"},\"baxis\":{\"gridcolor\":\"white\",\"linecolor\":\"white\",\"ticks\":\"\"},\"caxis\":{\"gridcolor\":\"white\",\"linecolor\":\"white\",\"ticks\":\"\"}},\"coloraxis\":{\"colorbar\":{\"outlinewidth\":0,\"ticks\":\"\"}},\"colorscale\":{\"sequential\":[[0.0,\"#0d0887\"],[0.1111111111111111,\"#46039f\"],[0.2222222222222222,\"#7201a8\"],[0.3333333333333333,\"#9c179e\"],[0.4444444444444444,\"#bd3786\"],[0.5555555555555556,\"#d8576b\"],[0.6666666666666666,\"#ed7953\"],[0.7777777777777778,\"#fb9f3a\"],[0.8888888888888888,\"#fdca26\"],[1.0,\"#f0f921\"]],\"sequentialminus\":[[0.0,\"#0d0887\"],[0.1111111111111111,\"#46039f\"],[0.2222222222222222,\"#7201a8\"],[0.3333333333333333,\"#9c179e\"],[0.4444444444444444,\"#bd3786\"],[0.5555555555555556,\"#d8576b\"],[0.6666666666666666,\"#ed7953\"],[0.7777777777777778,\"#fb9f3a\"],[0.8888888888888888,\"#fdca26\"],[1.0,\"#f0f921\"]],\"diverging\":[[0,\"#8e0152\"],[0.1,\"#c51b7d\"],[0.2,\"#de77ae\"],[0.3,\"#f1b6da\"],[0.4,\"#fde0ef\"],[0.5,\"#f7f7f7\"],[0.6,\"#e6f5d0\"],[0.7,\"#b8e186\"],[0.8,\"#7fbc41\"],[0.9,\"#4d9221\"],[1,\"#276419\"]]},\"xaxis\":{\"gridcolor\":\"white\",\"linecolor\":\"white\",\"ticks\":\"\",\"title\":{\"standoff\":15},\"zerolinecolor\":\"white\",\"automargin\":true,\"zerolinewidth\":2},\"yaxis\":{\"gridcolor\":\"white\",\"linecolor\":\"white\",\"ticks\":\"\",\"title\":{\"standoff\":15},\"zerolinecolor\":\"white\",\"automargin\":true,\"zerolinewidth\":2},\"scene\":{\"xaxis\":{\"backgroundcolor\":\"#E5ECF6\",\"gridcolor\":\"white\",\"linecolor\":\"white\",\"showbackground\":true,\"ticks\":\"\",\"zerolinecolor\":\"white\",\"gridwidth\":2},\"yaxis\":{\"backgroundcolor\":\"#E5ECF6\",\"gridcolor\":\"white\",\"linecolor\":\"white\",\"showbackground\":true,\"ticks\":\"\",\"zerolinecolor\":\"white\",\"gridwidth\":2},\"zaxis\":{\"backgroundcolor\":\"#E5ECF6\",\"gridcolor\":\"white\",\"linecolor\":\"white\",\"showbackground\":true,\"ticks\":\"\",\"zerolinecolor\":\"white\",\"gridwidth\":2}},\"shapedefaults\":{\"line\":{\"color\":\"#2a3f5f\"}},\"annotationdefaults\":{\"arrowcolor\":\"#2a3f5f\",\"arrowhead\":0,\"arrowwidth\":1},\"geo\":{\"bgcolor\":\"white\",\"landcolor\":\"#E5ECF6\",\"subunitcolor\":\"white\",\"showland\":true,\"showlakes\":true,\"lakecolor\":\"white\"},\"title\":{\"x\":0.05},\"mapbox\":{\"style\":\"light\"}}},\"xaxis\":{\"anchor\":\"y\",\"domain\":[0.0,1.0],\"title\":{\"text\":\"Mission Status\"}},\"yaxis\":{\"anchor\":\"x\",\"domain\":[0.0,1.0],\"title\":{\"text\":\"Count\"}},\"legend\":{\"tracegroupgap\":0},\"title\":{\"text\":\"Distribution of Mission Status\"},\"barmode\":\"relative\"},                        {\"responsive\": true}                    ).then(function(){\n",
              "                            \n",
              "var gd = document.getElementById('2333ddce-0d2b-4a38-9318-da98d3633607');\n",
              "var x = new MutationObserver(function (mutations, observer) {{\n",
              "        var display = window.getComputedStyle(gd).display;\n",
              "        if (!display || display === 'none') {{\n",
              "            console.log([gd, 'removed!']);\n",
              "            Plotly.purge(gd);\n",
              "            observer.disconnect();\n",
              "        }}\n",
              "}});\n",
              "\n",
              "// Listen for the removal of the full notebook cells\n",
              "var notebookContainer = gd.closest('#notebook-container');\n",
              "if (notebookContainer) {{\n",
              "    x.observe(notebookContainer, {childList: true});\n",
              "}}\n",
              "\n",
              "// Listen for the clearing of the current output cell\n",
              "var outputEl = gd.closest('.output');\n",
              "if (outputEl) {{\n",
              "    x.observe(outputEl, {childList: true});\n",
              "}}\n",
              "\n",
              "                        })                };            </script>        </div>\n",
              "</body>\n",
              "</html>"
            ]
          },
          "metadata": {}
        }
      ]
    },
    {
      "cell_type": "markdown",
      "metadata": {
        "papermill": {
          "duration": 0.03854,
          "end_time": "2020-10-20T21:34:05.968626",
          "exception": false,
          "start_time": "2020-10-20T21:34:05.930086",
          "status": "completed"
        },
        "tags": [],
        "id": "jgTCihuoa-qH"
      },
      "source": [
        "# How Expensive are the Launches?"
      ]
    },
    {
      "cell_type": "code",
      "metadata": {
        "id": "PLOMhzZFnSCO",
        "colab": {
          "base_uri": "https://localhost:8080/",
          "height": 820
        },
        "outputId": "bf4c8a0c-0783-4bae-aa72-bc97e8754f27"
      },
      "source": [
        "df_price = df_data[df_data['Price'].apply(lambda x: str(x).replace(',', '').replace('.', '', 1).isdigit() or x is None)]\n",
        "df_price['Price'] = df_price['Price'].astype(str).str.replace(',', '', regex=False)\n",
        "df_price['Price'] = pd.to_numeric(df_price['Price'], errors='coerce')\n",
        "df_price = df_price.dropna(subset=['Price'])\n",
        "\n",
        "fig = px.histogram(df_price,\n",
        "                   x='Price',\n",
        "                   nbins=50,\n",
        "                   title='Distribution of Space Mission Launch Prices (USD Millions)')\n",
        "\n",
        "fig.show()"
      ],
      "execution_count": 15,
      "outputs": [
        {
          "output_type": "stream",
          "name": "stderr",
          "text": [
            "/tmp/ipython-input-463880098.py:2: SettingWithCopyWarning:\n",
            "\n",
            "\n",
            "A value is trying to be set on a copy of a slice from a DataFrame.\n",
            "Try using .loc[row_indexer,col_indexer] = value instead\n",
            "\n",
            "See the caveats in the documentation: https://pandas.pydata.org/pandas-docs/stable/user_guide/indexing.html#returning-a-view-versus-a-copy\n",
            "\n",
            "/tmp/ipython-input-463880098.py:3: SettingWithCopyWarning:\n",
            "\n",
            "\n",
            "A value is trying to be set on a copy of a slice from a DataFrame.\n",
            "Try using .loc[row_indexer,col_indexer] = value instead\n",
            "\n",
            "See the caveats in the documentation: https://pandas.pydata.org/pandas-docs/stable/user_guide/indexing.html#returning-a-view-versus-a-copy\n",
            "\n"
          ]
        },
        {
          "output_type": "display_data",
          "data": {
            "text/html": [
              "<html>\n",
              "<head><meta charset=\"utf-8\" /></head>\n",
              "<body>\n",
              "    <div>            <script src=\"https://cdnjs.cloudflare.com/ajax/libs/mathjax/2.7.5/MathJax.js?config=TeX-AMS-MML_SVG\"></script><script type=\"text/javascript\">if (window.MathJax && window.MathJax.Hub && window.MathJax.Hub.Config) {window.MathJax.Hub.Config({SVG: {font: \"STIX-Web\"}});}</script>                <script type=\"text/javascript\">window.PlotlyConfig = {MathJaxConfig: 'local'};</script>\n",
              "        <script charset=\"utf-8\" src=\"https://cdn.plot.ly/plotly-3.1.0.min.js\" integrity=\"sha256-Ei4740bWZhaUTQuD6q9yQlgVCMPBz6CZWhevDYPv93A=\" crossorigin=\"anonymous\"></script>                <div id=\"711048aa-f194-46ca-bb20-43ccad92dbde\" class=\"plotly-graph-div\" style=\"height:525px; width:100%;\"></div>            <script type=\"text/javascript\">                window.PLOTLYENV=window.PLOTLYENV || {};                                if (document.getElementById(\"711048aa-f194-46ca-bb20-43ccad92dbde\")) {                    Plotly.newPlot(                        \"711048aa-f194-46ca-bb20-43ccad92dbde\",                        [{\"bingroup\":\"x\",\"hovertemplate\":\"Price=%{x}\\u003cbr\\u003ecount=%{y}\\u003cextra\\u003e\\u003c\\u002fextra\\u003e\",\"legendgroup\":\"\",\"marker\":{\"color\":\"#636efa\",\"pattern\":{\"shape\":\"\"}},\"name\":\"\",\"nbinsx\":50,\"orientation\":\"v\",\"showlegend\":false,\"x\":{\"dtype\":\"f8\",\"bdata\":\"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\\u002fQAAAAAAAAGlAAAAAAABAW0AAAAAAAABPQGZmZmZmJj1AAAAAAADAPUAAAAAAAABpQAAAAAAAwD1AAAAAAABAYEAAAAAAAABEQGZmZmZmJj1AAAAAAAAgXEAAAAAAAAA\\u002fQAAAAAAAgEJAAAAAAAAgYkAAAAAAAMA9QAAAAAAAQFtAMzMzMzMzFUAAAAAAAIBWQAAAAAAAQFVAAAAAAAAAaUAAAAAAAAA5QAAAAAAAgEJAAAAAAADAXEAAAAAAAIBHQAAAAAAAAE9A7FG4HoUrUEAAAAAAAABpQAAAAAAAgGRAAAAAAADAPUAAAAAAAABPQOxRuB6FK1BAZmZmZmYmPUAAAAAAAMBeQAAAAAAAAE9A7FG4HoUrUEAAAAAAACBjQAAAAAAAAD9AAAAAAAAAaUAAAAAAAABPQAAAAAAA4HVAAAAAAABAUEBmZmZmZuZEQOxRuB6FK1BAAAAAAABASEAAAAAAAABPQAAAAAAAwD1AAAAAAAAAT0AAAAAAAAA\\u002fQAAAAAAAAE9AAAAAAADAPUAAAAAAAEBIQM3MzMzMbFFAAAAAAABASEAAAAAAAEBbQAAAAAAAQFBAAAAAAACAQUAAAAAAAAA\\u002fQAAAAAAAAGlAAAAAAAAAT0AAAAAAAIBWQGZmZmZm5kRAAAAAAABASEAAAAAAAEBbQAAAAAAAQFBAAAAAAAAAaUAAAAAAAAA\\u002fQAAAAAAAQExAZmZmZmYmPUAAAAAAAABPQAAAAAAAADVAAAAAAABAW0AAAAAAAIBCQAAAAAAAAGlAAAAAAAAALkAAAAAAAEBbQAAAAAAAQFtAAAAAAADAXkAAAAAAAABpQAAAAAAAAD9AMzMzMzMzFUBmZmZmZuZEQAAAAAAAIGNAAAAAAACAR0AAAAAAAABpQAAAAAAAIFxAAAAAAAAAaUAAAAAAAEBbQAAAAAAAAD9AAAAAAABATEAAAAAAAIBCQAAAAAAAAGlAAAAAAAAAXkAAAAAAAEBMQAAAAAAAAGlAAAAAAABATEBmZmZmZuZEQAAAAAAAAD9AAAAAAACAVkAAAAAAAAA9QAAAAAAAgGRAAAAAAADAXkAAAAAAAEBMQAAAAAAAQExAAAAAAACAQkAAAAAAAIBWQAAAAAAAIGNAAAAAAABATEAAAAAAAABPQAAAAAAAIGJAAAAAAAAAaUAAAAAAAOB1QAAAAAAAgFZAAAAAAAAAPUAAAAAAAEBbQAAAAAAAAFRAAAAAAAAAaUAAAAAAAAA\\u002fQAAAAAAAgFZAAAAAAABATEAAAAAAAEBbQAAAAAAAAGlAAAAAAABATEAAAAAAAEBbQAAAAAAAQExAAAAAAABAW0AAAAAAAIBkQAAAAAAAQExAAAAAAAAAVEBmZmZmZuZEQAAAAAAAADVAAAAAAAAAPUAAAAAAAIBWQGZmZmZm5kRAAAAAAABAW0AAAAAAAIBkQAAAAAAAgEJAAAAAAABATEAAAAAAACBiQAAAAAAAAD9AAAAAAABAW0AAAAAAAABpQAAAAAAAgFZAAAAAAACAZEAAAAAAAABpQAAAAAAAQFtAAAAAAAAAVEAAAAAAAEBMQAAAAAAAgEdAZmZmZmbmREAAAAAAAABeQAAAAAAAQExAZmZmZmbmREAAAAAAAAA9QAAAAAAAAERAAAAAAABAW0AAAAAAAAA\\u002fQAAAAAAAQExAAAAAAACAYUAAAAAAAABUQGZmZmZm5kRAAAAAAACAS0AAAAAAAABpQAAAAAAA4HVAAAAAAAAAPUAAAAAAACBcQAAAAAAAAGlAAAAAAAAgY0AAAAAAAEBQQAAAAAAAAD9AAAAAAAAAREAAAAAAAEBbQAAAAAAAgEJAAAAAAAAAVEAAAAAAAEBbQAAAAAAAwE1AAAAAAAAANUAAAAAAAEBbQAAAAAAAAGlAAAAAAABAW0AAAAAAAIBWQGZmZmZm5kRAAAAAAAAAaUAAAAAAAABeQAAAAAAAAFRAAAAAAAAAaUAAAAAAAMBNQAAAAAAAgGRAAAAAAAAAaUAAAAAAAEBbQAAAAAAAADVAAAAAAABAW0AAAAAAAABpQGZmZmZm5kRAAAAAAAAgXEAAAAAAAABpQAAAAAAA4HVAAAAAAABAW0AAAAAAAABEQAAAAAAAwE1AAAAAAACAVkAAAAAAAABpQAAAAAAAgGFAAAAAAAAAP0AAAAAAAAA\\u002fQAAAAAAAIGNAAAAAAACAQkAAAAAAAABUQAAAAAAAgFZAAAAAAAAgYkAAAAAAAAA1QAAAAAAAAEdAAAAAAACAVkAAAAAAAABpQAAAAAAAgFZAAAAAAAAAPUAAAAAAAABpQAAAAAAAIGNAAAAAAACAZEAAAAAAAAA\\u002fQAAAAAAAIHxAAAAAAAAAREAAAAAAAABpQAAAAAAAIHxAAAAAAABAW0AAAAAAAABpQAAAAAAAADlAAAAAAADAXEAAAAAAAIBkQAAAAAAAAF5AAAAAAACARkAAAAAAACB8QAAAAAAAAERAZmZmZmbmREAAAAAAACBcQAAAAAAA4HVAAAAAAAAAaUAAAAAAAIBHQAAAAAAAwE1AAAAAAAAAaUAAAAAAAOB1QAAAAAAAAEdAAAAAAAAAaUAAAAAAAABHQAAAAAAAAF5AZmZmZmbmREAAAAAAAIBhQAAAAAAAAGlAAAAAAAAANUAAAAAAAABpQAAAAAAAAD1AAAAAAAAAPUAAAAAAAMBNQGZmZmZm5kRAAAAAAACAZEAAAAAAAABpQAAAAAAAIHxAAAAAAACAVkAAAAAAAABeQAAAAAAAgEdAAAAAAAAAPUAAAAAAACB8QAAAAAAAgGRAAAAAAABAW0AAAAAAACB8QAAAAAAAgFZAAAAAAABAYEAAAAAAACB8QGZmZmZm5kRAAAAAAAAAaUAAAAAAACB8QAAAAAAAQFtAAAAAAAAAaUAAAAAAAAA1QAAAAAAAIFxAAAAAAABAW0AAAAAAACB8QAAAAAAAAGlAAAAAAAAAPUAAAAAAACB8QAAAAAAAABxAZmZmZmbmREAAAAAAAABpQAAAAAAAgGRAAAAAAADAXkAAAAAAAABEQAAAAAAAAGlAAAAAAAAgfEAAAAAAAAA1QAAAAAAAwF5AZmZmZmbmREAAAAAAACB8QAAAAAAAgEZAAAAAAAAAaUAAAAAAAIBWQAAAAAAA4HVAAAAAAAAAaUAAAAAAACB8QAAAAAAAwD1AAAAAAADAPUBmZmZmZiY9QOxRuB6FK1BAAAAAAAAAP0AAAAAAAABEQAAAAAAAAD1AAAAAAAAAHEAAAAAAAAA9QAAAAAAAAGlAAAAAAAAAHEAAAAAAAABpQAAAAAAAAGlAAAAAAAAgfEDsUbgehStQQGZmZmZm5kRAAAAAAAAANUCkcD0K1yM0QAAAAAAAAGlAAAAAAAAAREAAAAAAAMBeQAAAAAAAwFxAAAAAAAAgfEAAAAAAAIBWQAAAAAAAIHxAAAAAAAAANUAAAAAAAEBbQAAAAAAAAGlA7FG4HoUrUEAAAAAAAOB1QAAAAAAAIHxAAAAAAADAXkDsUbgehStQQAAAAAAAgEdAAAAAAAAAaUAAAAAAACB8QAAAAAAAAD1AAAAAAABAW0AAAAAAAAA9QAAAAAAAIHxAzczMzMxsUUAAAAAAAMA9QGZmZmZmJj1AAAAAAAAAaUAAAAAAAABEQAAAAAAAAERAAAAAAAAANUAAAAAAAAA9QM3MzMzMbFFAzczMzMzMPkAAAAAAAAAcQAAAAAAAAGlAAAAAAABAW0DNzMzMzGxRQAAAAAAAADlAAAAAAAAAREAAAAAAACB8QAAAAAAAAGlAzczMzMxsUUAAAAAAAKBgQOxRuB6FK1BAAAAAAAAAaUDNzMzMzGxRQAAAAAAAgFZAAAAAAAAgfEDNzMzMzMw+QAAAAAAAAGlAZmZmZmbmREAAAAAAAAA9QAAAAAAAAD1AAAAAAACAR0AAAAAAACB8QAAAAAAAgGRAAAAAAAAAaUAAAAAAAIBkQOxRuB6FK1BAAAAAAADAXEAAAAAAAABEQAAAAAAAAERAAAAAAAAAHEAAAAAAAABpQAAAAAAAIGNAAAAAAAAAaUBmZmZmZuZEQAAAAAAAAERAAAAAAADAPUBmZmZmZuZEQAAAAAAAAD1AAAAAAABAW0DNzMzMzMw+QAAAAAAAIHxAAAAAAADAPUAAAAAAAAA5QAAAAAAAAERAAAAAAAAAREAAAAAAAEBgQAAAAAAAAGlAAAAAAADgdUAAAAAAAMBnQAAAAAAA4GBAzczMzMzMPkAAAAAAAEBIQOxRuB6FK1BAzczMzMxsUUAAAAAAAMA9QAAAAAAAgEdA7FG4HoUrUEDNzMzMzMw+QM3MzMzMzD5AAAAAAADAZ0AAAAAAAAA9QAAAAAAAgEZAzczMzMzMPkAAAAAAAMBnQM3MzMzMzD5AzczMzMxsUUAAAAAAAMA9QGZmZmZm5kRA7FG4HoUrUEAAAAAAAIBBQAAAAAAAADlAAAAAAACgYEAAAAAAAABEQAAAAAAA4GBAZmZmZmbmREAAAAAAAABEQM3MzMzMbFFAAAAAAABAW0AAAAAAAIBHQAAAAAAAAERAAAAAAACgYEAAAAAAAABEQAAAAAAAIHxAAAAAAACAQUAAAAAAAAA9QAAAAAAAgFZAAAAAAAAAaUAAAAAAACB8QAAAAAAAgGRA7FG4HoUrUEAAAAAAACB8QAAAAAAAADlAAAAAAABAW0AAAAAAAIBBQGZmZmZm5kRAAAAAAAAgfEDsUbgehStQQAAAAAAAIHxAZmZmZmbmREAAAAAAACB8QAAAAAAAAERAAAAAAAAgfEAAAAAAAAA5QAAAAAAAgEZAAAAAAACAVkAAAAAAACB8QAAAAAAAIHxAAAAAAAAgfEAAAAAAAIBHQAAAAAAAIHxAAAAAAAAgfEDNzMzMzGxRQAAAAAAAIHxAzczMzMxsUUAAAAAAACB8QAAAAAAAAERAAAAAAAAAPUAAAAAAAIBBQAAAAAAAIHxAAAAAAAAAREAAAAAAAABEQAAAAAAAIHxAZmZmZmbmREAAAAAAAIBGQAAAAAAAIHxAAAAAAAAAREDNzMzMzGxRQAAAAAAAgEZAAAAAAAAgfEAAAAAAAIBBQAAAAAAAAERA7FG4HoUrUEAAAAAAACB8QAAAAAAAgEFAzczMzMzMPkAAAAAAAAA5QAAAAAAAIHxAAAAAAAAAREDsUbgehStQQAAAAAAAAD1AAAAAAAAAREDNzMzMzMw+QAAAAAAAAERAAAAAAAAgfEAAAAAAACB8QAAAAAAAAERAAAAAAACARkAAAAAAAABEQM3MzMzMzD5AAAAAAAAAREAAAAAAACB8QAAAAAAAgEFAzczMzMzMPkAAAAAAACB8QAAAAAAAAERAzczMzMzMPkAAAAAAAABEQAAAAAAAgEZAAAAAAAAgfEAAAAAAAABEQM3MzMzMzD5AAAAAAAAgfEAAAAAAAABEQAAAAAAAADlAAAAAAAAgfEDNzMzMzMw+QAAAAAAAAERAAAAAAAAgfEAAAAAAAABEQAAAAAAAIHxAAAAAAAAgfEDNzMzMzGxRQAAAAAAAAERAAAAAAAAgfEAAAAAAAIBBQAAAAAAAIHxAAAAAAAAgfEAAAAAAACB8QAAAAAAAAERAAAAAAADAPUAAAAAAACB8QAAAAAAAAERAAAAAAAAAREAAAAAAACB8QAAAAAAAIHxAAAAAAAAAREAAAAAAACB8QAAAAAAAADlAAAAAAAAAREAAAAAAACB8QAAAAAAAIHxAAAAAAAAgfEAAAAAAAAA0QAAAAAAAIHxAAAAAAAAgfEAAAAAAACB8QAAAAAAAIHxAAAAAAAAAREAAAAAAAABEQAAAAAAAIHxAAAAAAAAgfEDNzMzMzGxRQAAAAAAAIHxAAAAAAAAAOUAAAAAAACB8QAAAAAAAIHxAAAAAAAAAREAAAAAAACB8QAAAAAAAwD1AAAAAAAAAREAAAAAAAABEQAAAAAAAIHxAAAAAAACARkAAAAAAACB8QM3MzMzMbFFAAAAAAAAgfEAAAAAAAIBBQAAAAAAAIHxAAAAAAAAgfEDNzMzMzMw+QAAAAAAAgEFAAAAAAAAAOUAAAAAAACB8QAAAAAAAIHxAAAAAAAAgfEAAAAAAAABEQAAAAAAAIHxAAAAAAAAAREAAAAAAACB8QAAAAAAAIHxAAAAAAAAgfEDNzMzMzMw+QDMzMzMzE2FAAAAAAAAgfEAAAAAAAMA9QAAAAAAAIHxAAAAAAAAgfEAAAAAAACB8QAAAAAAAgEFAAAAAAAAgfEAAAAAAACB8QAAAAAAAIHxAAAAAAAAgfEAAAAAAACB8QAAAAAAAAERAAAAAAAAgfEAAAAAAACB8QAAAAAAAIHxAAAAAAAAgfEAAAAAAACB8QAAAAAAAIHxAzczMzMzMPkAzMzMzMxNhQAAAAAAAIHxAAAAAAAAAREAzMzMzMxNhQAAAAAAAIHxAAAAAAAAgfEAzMzMzMxNhQAAAAAAAIHxAAAAAAAAgfEAAAAAAAIBBQAAAAAAAIHxAAAAAAAAgfEAAAAAAACB8QAAAAAAAIHxAAAAAAACIs0AAAAAAACB8QAAAAAAAgEFAzczMzMzMPkDNzMzMzMw+QM3MzMzMzD5AAAAAAACIs0DNzMzMzMw+QAAAAAAAIHxAAAAAAAAgfEAAAAAAACB8QAAAAAAAIHxAzczMzMzMPkAAAAAAACB8QAAAAAAAIHxAAAAAAAAgfEAAAAAAACB8QAAAAAAAIHxAAAAAAAAgfEAAAAAAACB8QAAAAAAAIHxAAAAAAAAgfEDNzMzMzMw+QAAAAAAAIHxAAAAAAAAgfEAAAAAAACB8QAAAAAAAIHxAAAAAAAAgfEDNzMzMzMw+QAAAAAAAIHxAAAAAAAAgfEAAAAAAACB8QM3MzMzMzD5AAAAAAAAgfEAAAAAAACB8QAAAAAAAIHxAAAAAAAAgfEAAAAAAACCSQAAAAAAAIJJAAAAAAAAgkkAAAAAAACCSQAAAAAAAIJJAAAAAAAAgkkAAAAAAACCSQAAAAAAAIJJAAAAAAACATUAAAAAAACCSQAAAAAAAgE1AAAAAAACATUAAAAAAACCSQAAAAAAAgE1AAAAAAAAgkkAAAAAAAIBNQAAAAAAAgE1AAAAAAACATUAAAAAAAIBNQAAAAAAAgE1AAAAAAACATUAAAAAAACCSQAAAAAAAgE1AAAAAAACATUAAAAAAAIBNQAAAAAAAIJJAAAAAAACATUAAAAAAAIBNQAAAAAAAgE1AAAAAAACATUAAAAAAAIBNQAAAAAAAgE1AAAAAAACATUAAAAAAAIBNQAAAAAAAgE1APQrXo3CdT0A9CtejcJ1PQD0K16NwnU9APQrXo3CdT0A=\"},\"xaxis\":\"x\",\"yaxis\":\"y\",\"type\":\"histogram\"}],                        {\"template\":{\"data\":{\"histogram2dcontour\":[{\"type\":\"histogram2dcontour\",\"colorbar\":{\"outlinewidth\":0,\"ticks\":\"\"},\"colorscale\":[[0.0,\"#0d0887\"],[0.1111111111111111,\"#46039f\"],[0.2222222222222222,\"#7201a8\"],[0.3333333333333333,\"#9c179e\"],[0.4444444444444444,\"#bd3786\"],[0.5555555555555556,\"#d8576b\"],[0.6666666666666666,\"#ed7953\"],[0.7777777777777778,\"#fb9f3a\"],[0.8888888888888888,\"#fdca26\"],[1.0,\"#f0f921\"]]}],\"choropleth\":[{\"type\":\"choropleth\",\"colorbar\":{\"outlinewidth\":0,\"ticks\":\"\"}}],\"histogram2d\":[{\"type\":\"histogram2d\",\"colorbar\":{\"outlinewidth\":0,\"ticks\":\"\"},\"colorscale\":[[0.0,\"#0d0887\"],[0.1111111111111111,\"#46039f\"],[0.2222222222222222,\"#7201a8\"],[0.3333333333333333,\"#9c179e\"],[0.4444444444444444,\"#bd3786\"],[0.5555555555555556,\"#d8576b\"],[0.6666666666666666,\"#ed7953\"],[0.7777777777777778,\"#fb9f3a\"],[0.8888888888888888,\"#fdca26\"],[1.0,\"#f0f921\"]]}],\"heatmap\":[{\"type\":\"heatmap\",\"colorbar\":{\"outlinewidth\":0,\"ticks\":\"\"},\"colorscale\":[[0.0,\"#0d0887\"],[0.1111111111111111,\"#46039f\"],[0.2222222222222222,\"#7201a8\"],[0.3333333333333333,\"#9c179e\"],[0.4444444444444444,\"#bd3786\"],[0.5555555555555556,\"#d8576b\"],[0.6666666666666666,\"#ed7953\"],[0.7777777777777778,\"#fb9f3a\"],[0.8888888888888888,\"#fdca26\"],[1.0,\"#f0f921\"]]}],\"contourcarpet\":[{\"type\":\"contourcarpet\",\"colorbar\":{\"outlinewidth\":0,\"ticks\":\"\"}}],\"contour\":[{\"type\":\"contour\",\"colorbar\":{\"outlinewidth\":0,\"ticks\":\"\"},\"colorscale\":[[0.0,\"#0d0887\"],[0.1111111111111111,\"#46039f\"],[0.2222222222222222,\"#7201a8\"],[0.3333333333333333,\"#9c179e\"],[0.4444444444444444,\"#bd3786\"],[0.5555555555555556,\"#d8576b\"],[0.6666666666666666,\"#ed7953\"],[0.7777777777777778,\"#fb9f3a\"],[0.8888888888888888,\"#fdca26\"],[1.0,\"#f0f921\"]]}],\"surface\":[{\"type\":\"surface\",\"colorbar\":{\"outlinewidth\":0,\"ticks\":\"\"},\"colorscale\":[[0.0,\"#0d0887\"],[0.1111111111111111,\"#46039f\"],[0.2222222222222222,\"#7201a8\"],[0.3333333333333333,\"#9c179e\"],[0.4444444444444444,\"#bd3786\"],[0.5555555555555556,\"#d8576b\"],[0.6666666666666666,\"#ed7953\"],[0.7777777777777778,\"#fb9f3a\"],[0.8888888888888888,\"#fdca26\"],[1.0,\"#f0f921\"]]}],\"mesh3d\":[{\"type\":\"mesh3d\",\"colorbar\":{\"outlinewidth\":0,\"ticks\":\"\"}}],\"scatter\":[{\"fillpattern\":{\"fillmode\":\"overlay\",\"size\":10,\"solidity\":0.2},\"type\":\"scatter\"}],\"parcoords\":[{\"type\":\"parcoords\",\"line\":{\"colorbar\":{\"outlinewidth\":0,\"ticks\":\"\"}}}],\"scatterpolargl\":[{\"type\":\"scatterpolargl\",\"marker\":{\"colorbar\":{\"outlinewidth\":0,\"ticks\":\"\"}}}],\"bar\":[{\"error_x\":{\"color\":\"#2a3f5f\"},\"error_y\":{\"color\":\"#2a3f5f\"},\"marker\":{\"line\":{\"color\":\"#E5ECF6\",\"width\":0.5},\"pattern\":{\"fillmode\":\"overlay\",\"size\":10,\"solidity\":0.2}},\"type\":\"bar\"}],\"scattergeo\":[{\"type\":\"scattergeo\",\"marker\":{\"colorbar\":{\"outlinewidth\":0,\"ticks\":\"\"}}}],\"scatterpolar\":[{\"type\":\"scatterpolar\",\"marker\":{\"colorbar\":{\"outlinewidth\":0,\"ticks\":\"\"}}}],\"histogram\":[{\"marker\":{\"pattern\":{\"fillmode\":\"overlay\",\"size\":10,\"solidity\":0.2}},\"type\":\"histogram\"}],\"scattergl\":[{\"type\":\"scattergl\",\"marker\":{\"colorbar\":{\"outlinewidth\":0,\"ticks\":\"\"}}}],\"scatter3d\":[{\"type\":\"scatter3d\",\"line\":{\"colorbar\":{\"outlinewidth\":0,\"ticks\":\"\"}},\"marker\":{\"colorbar\":{\"outlinewidth\":0,\"ticks\":\"\"}}}],\"scattermap\":[{\"type\":\"scattermap\",\"marker\":{\"colorbar\":{\"outlinewidth\":0,\"ticks\":\"\"}}}],\"scattermapbox\":[{\"type\":\"scattermapbox\",\"marker\":{\"colorbar\":{\"outlinewidth\":0,\"ticks\":\"\"}}}],\"scatterternary\":[{\"type\":\"scatterternary\",\"marker\":{\"colorbar\":{\"outlinewidth\":0,\"ticks\":\"\"}}}],\"scattercarpet\":[{\"type\":\"scattercarpet\",\"marker\":{\"colorbar\":{\"outlinewidth\":0,\"ticks\":\"\"}}}],\"carpet\":[{\"aaxis\":{\"endlinecolor\":\"#2a3f5f\",\"gridcolor\":\"white\",\"linecolor\":\"white\",\"minorgridcolor\":\"white\",\"startlinecolor\":\"#2a3f5f\"},\"baxis\":{\"endlinecolor\":\"#2a3f5f\",\"gridcolor\":\"white\",\"linecolor\":\"white\",\"minorgridcolor\":\"white\",\"startlinecolor\":\"#2a3f5f\"},\"type\":\"carpet\"}],\"table\":[{\"cells\":{\"fill\":{\"color\":\"#EBF0F8\"},\"line\":{\"color\":\"white\"}},\"header\":{\"fill\":{\"color\":\"#C8D4E3\"},\"line\":{\"color\":\"white\"}},\"type\":\"table\"}],\"barpolar\":[{\"marker\":{\"line\":{\"color\":\"#E5ECF6\",\"width\":0.5},\"pattern\":{\"fillmode\":\"overlay\",\"size\":10,\"solidity\":0.2}},\"type\":\"barpolar\"}],\"pie\":[{\"automargin\":true,\"type\":\"pie\"}]},\"layout\":{\"autotypenumbers\":\"strict\",\"colorway\":[\"#636efa\",\"#EF553B\",\"#00cc96\",\"#ab63fa\",\"#FFA15A\",\"#19d3f3\",\"#FF6692\",\"#B6E880\",\"#FF97FF\",\"#FECB52\"],\"font\":{\"color\":\"#2a3f5f\"},\"hovermode\":\"closest\",\"hoverlabel\":{\"align\":\"left\"},\"paper_bgcolor\":\"white\",\"plot_bgcolor\":\"#E5ECF6\",\"polar\":{\"bgcolor\":\"#E5ECF6\",\"angularaxis\":{\"gridcolor\":\"white\",\"linecolor\":\"white\",\"ticks\":\"\"},\"radialaxis\":{\"gridcolor\":\"white\",\"linecolor\":\"white\",\"ticks\":\"\"}},\"ternary\":{\"bgcolor\":\"#E5ECF6\",\"aaxis\":{\"gridcolor\":\"white\",\"linecolor\":\"white\",\"ticks\":\"\"},\"baxis\":{\"gridcolor\":\"white\",\"linecolor\":\"white\",\"ticks\":\"\"},\"caxis\":{\"gridcolor\":\"white\",\"linecolor\":\"white\",\"ticks\":\"\"}},\"coloraxis\":{\"colorbar\":{\"outlinewidth\":0,\"ticks\":\"\"}},\"colorscale\":{\"sequential\":[[0.0,\"#0d0887\"],[0.1111111111111111,\"#46039f\"],[0.2222222222222222,\"#7201a8\"],[0.3333333333333333,\"#9c179e\"],[0.4444444444444444,\"#bd3786\"],[0.5555555555555556,\"#d8576b\"],[0.6666666666666666,\"#ed7953\"],[0.7777777777777778,\"#fb9f3a\"],[0.8888888888888888,\"#fdca26\"],[1.0,\"#f0f921\"]],\"sequentialminus\":[[0.0,\"#0d0887\"],[0.1111111111111111,\"#46039f\"],[0.2222222222222222,\"#7201a8\"],[0.3333333333333333,\"#9c179e\"],[0.4444444444444444,\"#bd3786\"],[0.5555555555555556,\"#d8576b\"],[0.6666666666666666,\"#ed7953\"],[0.7777777777777778,\"#fb9f3a\"],[0.8888888888888888,\"#fdca26\"],[1.0,\"#f0f921\"]],\"diverging\":[[0,\"#8e0152\"],[0.1,\"#c51b7d\"],[0.2,\"#de77ae\"],[0.3,\"#f1b6da\"],[0.4,\"#fde0ef\"],[0.5,\"#f7f7f7\"],[0.6,\"#e6f5d0\"],[0.7,\"#b8e186\"],[0.8,\"#7fbc41\"],[0.9,\"#4d9221\"],[1,\"#276419\"]]},\"xaxis\":{\"gridcolor\":\"white\",\"linecolor\":\"white\",\"ticks\":\"\",\"title\":{\"standoff\":15},\"zerolinecolor\":\"white\",\"automargin\":true,\"zerolinewidth\":2},\"yaxis\":{\"gridcolor\":\"white\",\"linecolor\":\"white\",\"ticks\":\"\",\"title\":{\"standoff\":15},\"zerolinecolor\":\"white\",\"automargin\":true,\"zerolinewidth\":2},\"scene\":{\"xaxis\":{\"backgroundcolor\":\"#E5ECF6\",\"gridcolor\":\"white\",\"linecolor\":\"white\",\"showbackground\":true,\"ticks\":\"\",\"zerolinecolor\":\"white\",\"gridwidth\":2},\"yaxis\":{\"backgroundcolor\":\"#E5ECF6\",\"gridcolor\":\"white\",\"linecolor\":\"white\",\"showbackground\":true,\"ticks\":\"\",\"zerolinecolor\":\"white\",\"gridwidth\":2},\"zaxis\":{\"backgroundcolor\":\"#E5ECF6\",\"gridcolor\":\"white\",\"linecolor\":\"white\",\"showbackground\":true,\"ticks\":\"\",\"zerolinecolor\":\"white\",\"gridwidth\":2}},\"shapedefaults\":{\"line\":{\"color\":\"#2a3f5f\"}},\"annotationdefaults\":{\"arrowcolor\":\"#2a3f5f\",\"arrowhead\":0,\"arrowwidth\":1},\"geo\":{\"bgcolor\":\"white\",\"landcolor\":\"#E5ECF6\",\"subunitcolor\":\"white\",\"showland\":true,\"showlakes\":true,\"lakecolor\":\"white\"},\"title\":{\"x\":0.05},\"mapbox\":{\"style\":\"light\"}}},\"xaxis\":{\"anchor\":\"y\",\"domain\":[0.0,1.0],\"title\":{\"text\":\"Price\"}},\"yaxis\":{\"anchor\":\"x\",\"domain\":[0.0,1.0],\"title\":{\"text\":\"count\"}},\"legend\":{\"tracegroupgap\":0},\"title\":{\"text\":\"Distribution of Space Mission Launch Prices (USD Millions)\"},\"barmode\":\"relative\"},                        {\"responsive\": true}                    ).then(function(){\n",
              "                            \n",
              "var gd = document.getElementById('711048aa-f194-46ca-bb20-43ccad92dbde');\n",
              "var x = new MutationObserver(function (mutations, observer) {{\n",
              "        var display = window.getComputedStyle(gd).display;\n",
              "        if (!display || display === 'none') {{\n",
              "            console.log([gd, 'removed!']);\n",
              "            Plotly.purge(gd);\n",
              "            observer.disconnect();\n",
              "        }}\n",
              "}});\n",
              "\n",
              "// Listen for the removal of the full notebook cells\n",
              "var notebookContainer = gd.closest('#notebook-container');\n",
              "if (notebookContainer) {{\n",
              "    x.observe(notebookContainer, {childList: true});\n",
              "}}\n",
              "\n",
              "// Listen for the clearing of the current output cell\n",
              "var outputEl = gd.closest('.output');\n",
              "if (outputEl) {{\n",
              "    x.observe(outputEl, {childList: true});\n",
              "}}\n",
              "\n",
              "                        })                };            </script>        </div>\n",
              "</body>\n",
              "</html>"
            ]
          },
          "metadata": {}
        }
      ]
    },
    {
      "cell_type": "markdown",
      "metadata": {
        "id": "QiNtigQDne3E"
      },
      "source": [
        "# Use a Choropleth Map to Show the Number of Launches by Country"
      ]
    },
    {
      "cell_type": "code",
      "metadata": {
        "id": "Y46-4GHrozhF",
        "colab": {
          "base_uri": "https://localhost:8080/",
          "height": 542
        },
        "outputId": "a6ae84cb-38b1-49ab-afed-5d98b1ef25e4"
      },
      "source": [
        "# Extract country from Location\n",
        "df_data['Country'] = df_data['Location'].apply(lambda x: x.split(',')[-1].strip())\n",
        "\n",
        "# Wrangle country names\n",
        "country_mapping = {\n",
        "    'Russia': 'Russian Federation',\n",
        "    'New Mexico': 'USA',\n",
        "    'Yellow Sea': 'China',\n",
        "    'Shahrud Missile Test Site': 'Iran',\n",
        "    'Pacific Missile Range Facility': 'USA',\n",
        "    'Barents Sea': 'Russian Federation',\n",
        "    'Gran Canaria': 'USA'\n",
        "}\n",
        "df_data['Country'] = df_data['Country'].replace(country_mapping)\n",
        "\n",
        "# Convert country names to Alpha3 format using iso3166\n",
        "def get_country_alpha3(country):\n",
        "    try:\n",
        "        return countries.get(country).alpha3\n",
        "    except KeyError:\n",
        "        return None\n",
        "\n",
        "df_data['Country_Alpha3'] = df_data['Country'].apply(get_country_alpha3)\n",
        "\n",
        "# Count launches per country\n",
        "country_launch_counts = df_data['Country_Alpha3'].value_counts().reset_index()\n",
        "country_launch_counts.columns = ['Country_Alpha3', 'Launch Count']\n",
        "\n",
        "# Create choropleth map\n",
        "fig = px.choropleth(country_launch_counts,\n",
        "                    locations=\"Country_Alpha3\",\n",
        "                    color=\"Launch Count\",\n",
        "                    hover_name=\"Country_Alpha3\",\n",
        "                    color_continuous_scale=px.colors.sequential.matter,\n",
        "                    title=\"Number of Space Mission Launches by Country\")\n",
        "fig.show()"
      ],
      "execution_count": 16,
      "outputs": [
        {
          "output_type": "display_data",
          "data": {
            "text/html": [
              "<html>\n",
              "<head><meta charset=\"utf-8\" /></head>\n",
              "<body>\n",
              "    <div>            <script src=\"https://cdnjs.cloudflare.com/ajax/libs/mathjax/2.7.5/MathJax.js?config=TeX-AMS-MML_SVG\"></script><script type=\"text/javascript\">if (window.MathJax && window.MathJax.Hub && window.MathJax.Hub.Config) {window.MathJax.Hub.Config({SVG: {font: \"STIX-Web\"}});}</script>                <script type=\"text/javascript\">window.PlotlyConfig = {MathJaxConfig: 'local'};</script>\n",
              "        <script charset=\"utf-8\" src=\"https://cdn.plot.ly/plotly-3.1.0.min.js\" integrity=\"sha256-Ei4740bWZhaUTQuD6q9yQlgVCMPBz6CZWhevDYPv93A=\" crossorigin=\"anonymous\"></script>                <div id=\"e9ce15a6-5beb-4fbf-aa63-48c33813abd6\" class=\"plotly-graph-div\" style=\"height:525px; width:100%;\"></div>            <script type=\"text/javascript\">                window.PLOTLYENV=window.PLOTLYENV || {};                                if (document.getElementById(\"e9ce15a6-5beb-4fbf-aa63-48c33813abd6\")) {                    Plotly.newPlot(                        \"e9ce15a6-5beb-4fbf-aa63-48c33813abd6\",                        [{\"coloraxis\":\"coloraxis\",\"geo\":\"geo\",\"hovertemplate\":\"\\u003cb\\u003e%{hovertext}\\u003c\\u002fb\\u003e\\u003cbr\\u003e\\u003cbr\\u003eCountry_Alpha3=%{location}\\u003cbr\\u003eLaunch Count=%{z}\\u003cextra\\u003e\\u003c\\u002fextra\\u003e\",\"hovertext\":[\"RUS\",\"USA\",\"KAZ\",\"FRA\",\"CHN\",\"JPN\",\"IND\",\"NZL\",\"ISR\",\"KEN\",\"AUS\",\"BRA\"],\"locations\":[\"RUS\",\"USA\",\"KAZ\",\"FRA\",\"CHN\",\"JPN\",\"IND\",\"NZL\",\"ISR\",\"KEN\",\"AUS\",\"BRA\"],\"name\":\"\",\"z\":{\"dtype\":\"i2\",\"bdata\":\"dgVHBb0CLwENAX4ATAANAAsACQAGAAMA\"},\"type\":\"choropleth\"}],                        {\"template\":{\"data\":{\"histogram2dcontour\":[{\"type\":\"histogram2dcontour\",\"colorbar\":{\"outlinewidth\":0,\"ticks\":\"\"},\"colorscale\":[[0.0,\"#0d0887\"],[0.1111111111111111,\"#46039f\"],[0.2222222222222222,\"#7201a8\"],[0.3333333333333333,\"#9c179e\"],[0.4444444444444444,\"#bd3786\"],[0.5555555555555556,\"#d8576b\"],[0.6666666666666666,\"#ed7953\"],[0.7777777777777778,\"#fb9f3a\"],[0.8888888888888888,\"#fdca26\"],[1.0,\"#f0f921\"]]}],\"choropleth\":[{\"type\":\"choropleth\",\"colorbar\":{\"outlinewidth\":0,\"ticks\":\"\"}}],\"histogram2d\":[{\"type\":\"histogram2d\",\"colorbar\":{\"outlinewidth\":0,\"ticks\":\"\"},\"colorscale\":[[0.0,\"#0d0887\"],[0.1111111111111111,\"#46039f\"],[0.2222222222222222,\"#7201a8\"],[0.3333333333333333,\"#9c179e\"],[0.4444444444444444,\"#bd3786\"],[0.5555555555555556,\"#d8576b\"],[0.6666666666666666,\"#ed7953\"],[0.7777777777777778,\"#fb9f3a\"],[0.8888888888888888,\"#fdca26\"],[1.0,\"#f0f921\"]]}],\"heatmap\":[{\"type\":\"heatmap\",\"colorbar\":{\"outlinewidth\":0,\"ticks\":\"\"},\"colorscale\":[[0.0,\"#0d0887\"],[0.1111111111111111,\"#46039f\"],[0.2222222222222222,\"#7201a8\"],[0.3333333333333333,\"#9c179e\"],[0.4444444444444444,\"#bd3786\"],[0.5555555555555556,\"#d8576b\"],[0.6666666666666666,\"#ed7953\"],[0.7777777777777778,\"#fb9f3a\"],[0.8888888888888888,\"#fdca26\"],[1.0,\"#f0f921\"]]}],\"contourcarpet\":[{\"type\":\"contourcarpet\",\"colorbar\":{\"outlinewidth\":0,\"ticks\":\"\"}}],\"contour\":[{\"type\":\"contour\",\"colorbar\":{\"outlinewidth\":0,\"ticks\":\"\"},\"colorscale\":[[0.0,\"#0d0887\"],[0.1111111111111111,\"#46039f\"],[0.2222222222222222,\"#7201a8\"],[0.3333333333333333,\"#9c179e\"],[0.4444444444444444,\"#bd3786\"],[0.5555555555555556,\"#d8576b\"],[0.6666666666666666,\"#ed7953\"],[0.7777777777777778,\"#fb9f3a\"],[0.8888888888888888,\"#fdca26\"],[1.0,\"#f0f921\"]]}],\"surface\":[{\"type\":\"surface\",\"colorbar\":{\"outlinewidth\":0,\"ticks\":\"\"},\"colorscale\":[[0.0,\"#0d0887\"],[0.1111111111111111,\"#46039f\"],[0.2222222222222222,\"#7201a8\"],[0.3333333333333333,\"#9c179e\"],[0.4444444444444444,\"#bd3786\"],[0.5555555555555556,\"#d8576b\"],[0.6666666666666666,\"#ed7953\"],[0.7777777777777778,\"#fb9f3a\"],[0.8888888888888888,\"#fdca26\"],[1.0,\"#f0f921\"]]}],\"mesh3d\":[{\"type\":\"mesh3d\",\"colorbar\":{\"outlinewidth\":0,\"ticks\":\"\"}}],\"scatter\":[{\"fillpattern\":{\"fillmode\":\"overlay\",\"size\":10,\"solidity\":0.2},\"type\":\"scatter\"}],\"parcoords\":[{\"type\":\"parcoords\",\"line\":{\"colorbar\":{\"outlinewidth\":0,\"ticks\":\"\"}}}],\"scatterpolargl\":[{\"type\":\"scatterpolargl\",\"marker\":{\"colorbar\":{\"outlinewidth\":0,\"ticks\":\"\"}}}],\"bar\":[{\"error_x\":{\"color\":\"#2a3f5f\"},\"error_y\":{\"color\":\"#2a3f5f\"},\"marker\":{\"line\":{\"color\":\"#E5ECF6\",\"width\":0.5},\"pattern\":{\"fillmode\":\"overlay\",\"size\":10,\"solidity\":0.2}},\"type\":\"bar\"}],\"scattergeo\":[{\"type\":\"scattergeo\",\"marker\":{\"colorbar\":{\"outlinewidth\":0,\"ticks\":\"\"}}}],\"scatterpolar\":[{\"type\":\"scatterpolar\",\"marker\":{\"colorbar\":{\"outlinewidth\":0,\"ticks\":\"\"}}}],\"histogram\":[{\"marker\":{\"pattern\":{\"fillmode\":\"overlay\",\"size\":10,\"solidity\":0.2}},\"type\":\"histogram\"}],\"scattergl\":[{\"type\":\"scattergl\",\"marker\":{\"colorbar\":{\"outlinewidth\":0,\"ticks\":\"\"}}}],\"scatter3d\":[{\"type\":\"scatter3d\",\"line\":{\"colorbar\":{\"outlinewidth\":0,\"ticks\":\"\"}},\"marker\":{\"colorbar\":{\"outlinewidth\":0,\"ticks\":\"\"}}}],\"scattermap\":[{\"type\":\"scattermap\",\"marker\":{\"colorbar\":{\"outlinewidth\":0,\"ticks\":\"\"}}}],\"scattermapbox\":[{\"type\":\"scattermapbox\",\"marker\":{\"colorbar\":{\"outlinewidth\":0,\"ticks\":\"\"}}}],\"scatterternary\":[{\"type\":\"scatterternary\",\"marker\":{\"colorbar\":{\"outlinewidth\":0,\"ticks\":\"\"}}}],\"scattercarpet\":[{\"type\":\"scattercarpet\",\"marker\":{\"colorbar\":{\"outlinewidth\":0,\"ticks\":\"\"}}}],\"carpet\":[{\"aaxis\":{\"endlinecolor\":\"#2a3f5f\",\"gridcolor\":\"white\",\"linecolor\":\"white\",\"minorgridcolor\":\"white\",\"startlinecolor\":\"#2a3f5f\"},\"baxis\":{\"endlinecolor\":\"#2a3f5f\",\"gridcolor\":\"white\",\"linecolor\":\"white\",\"minorgridcolor\":\"white\",\"startlinecolor\":\"#2a3f5f\"},\"type\":\"carpet\"}],\"table\":[{\"cells\":{\"fill\":{\"color\":\"#EBF0F8\"},\"line\":{\"color\":\"white\"}},\"header\":{\"fill\":{\"color\":\"#C8D4E3\"},\"line\":{\"color\":\"white\"}},\"type\":\"table\"}],\"barpolar\":[{\"marker\":{\"line\":{\"color\":\"#E5ECF6\",\"width\":0.5},\"pattern\":{\"fillmode\":\"overlay\",\"size\":10,\"solidity\":0.2}},\"type\":\"barpolar\"}],\"pie\":[{\"automargin\":true,\"type\":\"pie\"}]},\"layout\":{\"autotypenumbers\":\"strict\",\"colorway\":[\"#636efa\",\"#EF553B\",\"#00cc96\",\"#ab63fa\",\"#FFA15A\",\"#19d3f3\",\"#FF6692\",\"#B6E880\",\"#FF97FF\",\"#FECB52\"],\"font\":{\"color\":\"#2a3f5f\"},\"hovermode\":\"closest\",\"hoverlabel\":{\"align\":\"left\"},\"paper_bgcolor\":\"white\",\"plot_bgcolor\":\"#E5ECF6\",\"polar\":{\"bgcolor\":\"#E5ECF6\",\"angularaxis\":{\"gridcolor\":\"white\",\"linecolor\":\"white\",\"ticks\":\"\"},\"radialaxis\":{\"gridcolor\":\"white\",\"linecolor\":\"white\",\"ticks\":\"\"}},\"ternary\":{\"bgcolor\":\"#E5ECF6\",\"aaxis\":{\"gridcolor\":\"white\",\"linecolor\":\"white\",\"ticks\":\"\"},\"baxis\":{\"gridcolor\":\"white\",\"linecolor\":\"white\",\"ticks\":\"\"},\"caxis\":{\"gridcolor\":\"white\",\"linecolor\":\"white\",\"ticks\":\"\"}},\"coloraxis\":{\"colorbar\":{\"outlinewidth\":0,\"ticks\":\"\"}},\"colorscale\":{\"sequential\":[[0.0,\"#0d0887\"],[0.1111111111111111,\"#46039f\"],[0.2222222222222222,\"#7201a8\"],[0.3333333333333333,\"#9c179e\"],[0.4444444444444444,\"#bd3786\"],[0.5555555555555556,\"#d8576b\"],[0.6666666666666666,\"#ed7953\"],[0.7777777777777778,\"#fb9f3a\"],[0.8888888888888888,\"#fdca26\"],[1.0,\"#f0f921\"]],\"sequentialminus\":[[0.0,\"#0d0887\"],[0.1111111111111111,\"#46039f\"],[0.2222222222222222,\"#7201a8\"],[0.3333333333333333,\"#9c179e\"],[0.4444444444444444,\"#bd3786\"],[0.5555555555555556,\"#d8576b\"],[0.6666666666666666,\"#ed7953\"],[0.7777777777777778,\"#fb9f3a\"],[0.8888888888888888,\"#fdca26\"],[1.0,\"#f0f921\"]],\"diverging\":[[0,\"#8e0152\"],[0.1,\"#c51b7d\"],[0.2,\"#de77ae\"],[0.3,\"#f1b6da\"],[0.4,\"#fde0ef\"],[0.5,\"#f7f7f7\"],[0.6,\"#e6f5d0\"],[0.7,\"#b8e186\"],[0.8,\"#7fbc41\"],[0.9,\"#4d9221\"],[1,\"#276419\"]]},\"xaxis\":{\"gridcolor\":\"white\",\"linecolor\":\"white\",\"ticks\":\"\",\"title\":{\"standoff\":15},\"zerolinecolor\":\"white\",\"automargin\":true,\"zerolinewidth\":2},\"yaxis\":{\"gridcolor\":\"white\",\"linecolor\":\"white\",\"ticks\":\"\",\"title\":{\"standoff\":15},\"zerolinecolor\":\"white\",\"automargin\":true,\"zerolinewidth\":2},\"scene\":{\"xaxis\":{\"backgroundcolor\":\"#E5ECF6\",\"gridcolor\":\"white\",\"linecolor\":\"white\",\"showbackground\":true,\"ticks\":\"\",\"zerolinecolor\":\"white\",\"gridwidth\":2},\"yaxis\":{\"backgroundcolor\":\"#E5ECF6\",\"gridcolor\":\"white\",\"linecolor\":\"white\",\"showbackground\":true,\"ticks\":\"\",\"zerolinecolor\":\"white\",\"gridwidth\":2},\"zaxis\":{\"backgroundcolor\":\"#E5ECF6\",\"gridcolor\":\"white\",\"linecolor\":\"white\",\"showbackground\":true,\"ticks\":\"\",\"zerolinecolor\":\"white\",\"gridwidth\":2}},\"shapedefaults\":{\"line\":{\"color\":\"#2a3f5f\"}},\"annotationdefaults\":{\"arrowcolor\":\"#2a3f5f\",\"arrowhead\":0,\"arrowwidth\":1},\"geo\":{\"bgcolor\":\"white\",\"landcolor\":\"#E5ECF6\",\"subunitcolor\":\"white\",\"showland\":true,\"showlakes\":true,\"lakecolor\":\"white\"},\"title\":{\"x\":0.05},\"mapbox\":{\"style\":\"light\"}}},\"geo\":{\"domain\":{\"x\":[0.0,1.0],\"y\":[0.0,1.0]},\"center\":{}},\"coloraxis\":{\"colorbar\":{\"title\":{\"text\":\"Launch Count\"}},\"colorscale\":[[0.0,\"rgb(253, 237, 176)\"],[0.09090909090909091,\"rgb(250, 205, 145)\"],[0.18181818181818182,\"rgb(246, 173, 119)\"],[0.2727272727272727,\"rgb(240, 142, 98)\"],[0.36363636363636365,\"rgb(231, 109, 84)\"],[0.45454545454545453,\"rgb(216, 80, 83)\"],[0.5454545454545454,\"rgb(195, 56, 90)\"],[0.6363636363636364,\"rgb(168, 40, 96)\"],[0.7272727272727273,\"rgb(138, 29, 99)\"],[0.8181818181818182,\"rgb(107, 24, 93)\"],[0.9090909090909091,\"rgb(76, 21, 80)\"],[1.0,\"rgb(47, 15, 61)\"]]},\"legend\":{\"tracegroupgap\":0},\"title\":{\"text\":\"Number of Space Mission Launches by Country\"}},                        {\"responsive\": true}                    ).then(function(){\n",
              "                            \n",
              "var gd = document.getElementById('e9ce15a6-5beb-4fbf-aa63-48c33813abd6');\n",
              "var x = new MutationObserver(function (mutations, observer) {{\n",
              "        var display = window.getComputedStyle(gd).display;\n",
              "        if (!display || display === 'none') {{\n",
              "            console.log([gd, 'removed!']);\n",
              "            Plotly.purge(gd);\n",
              "            observer.disconnect();\n",
              "        }}\n",
              "}});\n",
              "\n",
              "// Listen for the removal of the full notebook cells\n",
              "var notebookContainer = gd.closest('#notebook-container');\n",
              "if (notebookContainer) {{\n",
              "    x.observe(notebookContainer, {childList: true});\n",
              "}}\n",
              "\n",
              "// Listen for the clearing of the current output cell\n",
              "var outputEl = gd.closest('.output');\n",
              "if (outputEl) {{\n",
              "    x.observe(outputEl, {childList: true});\n",
              "}}\n",
              "\n",
              "                        })                };            </script>        </div>\n",
              "</body>\n",
              "</html>"
            ]
          },
          "metadata": {}
        }
      ]
    },
    {
      "cell_type": "markdown",
      "metadata": {
        "id": "F3pwYSUlo_AK"
      },
      "source": [
        "# Use a Choropleth Map to Show the Number of Failures by Country\n"
      ]
    },
    {
      "cell_type": "code",
      "metadata": {
        "id": "8BH4ICtro9I0",
        "colab": {
          "base_uri": "https://localhost:8080/",
          "height": 542
        },
        "outputId": "e226a129-8479-45a4-a8d2-e7d6f1d18eb2"
      },
      "source": [
        "# Count launches per country\n",
        "country_failure_counts = df_data[df_data['Mission_Status'] != 'Success']['Country_Alpha3'].value_counts().reset_index()\n",
        "country_failure_counts.columns = ['Country_Alpha3', 'Failure Count']\n",
        "\n",
        "# Create choropleth map\n",
        "fig = px.choropleth(country_failure_counts,\n",
        "                    locations=\"Country_Alpha3\",\n",
        "                    color=\"Failure Count\",\n",
        "                    hover_name=\"Country_Alpha3\",\n",
        "                    color_continuous_scale=px.colors.sequential.matter,\n",
        "                    title=\"Number of Failures by Country\")\n",
        "fig.show()"
      ],
      "execution_count": 17,
      "outputs": [
        {
          "output_type": "display_data",
          "data": {
            "text/html": [
              "<html>\n",
              "<head><meta charset=\"utf-8\" /></head>\n",
              "<body>\n",
              "    <div>            <script src=\"https://cdnjs.cloudflare.com/ajax/libs/mathjax/2.7.5/MathJax.js?config=TeX-AMS-MML_SVG\"></script><script type=\"text/javascript\">if (window.MathJax && window.MathJax.Hub && window.MathJax.Hub.Config) {window.MathJax.Hub.Config({SVG: {font: \"STIX-Web\"}});}</script>                <script type=\"text/javascript\">window.PlotlyConfig = {MathJaxConfig: 'local'};</script>\n",
              "        <script charset=\"utf-8\" src=\"https://cdn.plot.ly/plotly-3.1.0.min.js\" integrity=\"sha256-Ei4740bWZhaUTQuD6q9yQlgVCMPBz6CZWhevDYPv93A=\" crossorigin=\"anonymous\"></script>                <div id=\"281be4f0-c66a-4028-ab42-d67ea1ab592b\" class=\"plotly-graph-div\" style=\"height:525px; width:100%;\"></div>            <script type=\"text/javascript\">                window.PLOTLYENV=window.PLOTLYENV || {};                                if (document.getElementById(\"281be4f0-c66a-4028-ab42-d67ea1ab592b\")) {                    Plotly.newPlot(                        \"281be4f0-c66a-4028-ab42-d67ea1ab592b\",                        [{\"coloraxis\":\"coloraxis\",\"geo\":\"geo\",\"hovertemplate\":\"\\u003cb\\u003e%{hovertext}\\u003c\\u002fb\\u003e\\u003cbr\\u003e\\u003cbr\\u003eCountry_Alpha3=%{location}\\u003cbr\\u003eFailure Count=%{z}\\u003cextra\\u003e\\u003c\\u002fextra\\u003e\",\"hovertext\":[\"USA\",\"RUS\",\"KAZ\",\"CHN\",\"FRA\",\"JPN\",\"IND\",\"AUS\",\"BRA\",\"NZL\",\"ISR\"],\"locations\":[\"USA\",\"RUS\",\"KAZ\",\"CHN\",\"FRA\",\"JPN\",\"IND\",\"AUS\",\"BRA\",\"NZL\",\"ISR\"],\"name\":\"\",\"z\":{\"dtype\":\"i2\",\"bdata\":\"owBdAF0AGQASAA0ADQADAAMAAgACAA==\"},\"type\":\"choropleth\"}],                        {\"template\":{\"data\":{\"histogram2dcontour\":[{\"type\":\"histogram2dcontour\",\"colorbar\":{\"outlinewidth\":0,\"ticks\":\"\"},\"colorscale\":[[0.0,\"#0d0887\"],[0.1111111111111111,\"#46039f\"],[0.2222222222222222,\"#7201a8\"],[0.3333333333333333,\"#9c179e\"],[0.4444444444444444,\"#bd3786\"],[0.5555555555555556,\"#d8576b\"],[0.6666666666666666,\"#ed7953\"],[0.7777777777777778,\"#fb9f3a\"],[0.8888888888888888,\"#fdca26\"],[1.0,\"#f0f921\"]]}],\"choropleth\":[{\"type\":\"choropleth\",\"colorbar\":{\"outlinewidth\":0,\"ticks\":\"\"}}],\"histogram2d\":[{\"type\":\"histogram2d\",\"colorbar\":{\"outlinewidth\":0,\"ticks\":\"\"},\"colorscale\":[[0.0,\"#0d0887\"],[0.1111111111111111,\"#46039f\"],[0.2222222222222222,\"#7201a8\"],[0.3333333333333333,\"#9c179e\"],[0.4444444444444444,\"#bd3786\"],[0.5555555555555556,\"#d8576b\"],[0.6666666666666666,\"#ed7953\"],[0.7777777777777778,\"#fb9f3a\"],[0.8888888888888888,\"#fdca26\"],[1.0,\"#f0f921\"]]}],\"heatmap\":[{\"type\":\"heatmap\",\"colorbar\":{\"outlinewidth\":0,\"ticks\":\"\"},\"colorscale\":[[0.0,\"#0d0887\"],[0.1111111111111111,\"#46039f\"],[0.2222222222222222,\"#7201a8\"],[0.3333333333333333,\"#9c179e\"],[0.4444444444444444,\"#bd3786\"],[0.5555555555555556,\"#d8576b\"],[0.6666666666666666,\"#ed7953\"],[0.7777777777777778,\"#fb9f3a\"],[0.8888888888888888,\"#fdca26\"],[1.0,\"#f0f921\"]]}],\"contourcarpet\":[{\"type\":\"contourcarpet\",\"colorbar\":{\"outlinewidth\":0,\"ticks\":\"\"}}],\"contour\":[{\"type\":\"contour\",\"colorbar\":{\"outlinewidth\":0,\"ticks\":\"\"},\"colorscale\":[[0.0,\"#0d0887\"],[0.1111111111111111,\"#46039f\"],[0.2222222222222222,\"#7201a8\"],[0.3333333333333333,\"#9c179e\"],[0.4444444444444444,\"#bd3786\"],[0.5555555555555556,\"#d8576b\"],[0.6666666666666666,\"#ed7953\"],[0.7777777777777778,\"#fb9f3a\"],[0.8888888888888888,\"#fdca26\"],[1.0,\"#f0f921\"]]}],\"surface\":[{\"type\":\"surface\",\"colorbar\":{\"outlinewidth\":0,\"ticks\":\"\"},\"colorscale\":[[0.0,\"#0d0887\"],[0.1111111111111111,\"#46039f\"],[0.2222222222222222,\"#7201a8\"],[0.3333333333333333,\"#9c179e\"],[0.4444444444444444,\"#bd3786\"],[0.5555555555555556,\"#d8576b\"],[0.6666666666666666,\"#ed7953\"],[0.7777777777777778,\"#fb9f3a\"],[0.8888888888888888,\"#fdca26\"],[1.0,\"#f0f921\"]]}],\"mesh3d\":[{\"type\":\"mesh3d\",\"colorbar\":{\"outlinewidth\":0,\"ticks\":\"\"}}],\"scatter\":[{\"fillpattern\":{\"fillmode\":\"overlay\",\"size\":10,\"solidity\":0.2},\"type\":\"scatter\"}],\"parcoords\":[{\"type\":\"parcoords\",\"line\":{\"colorbar\":{\"outlinewidth\":0,\"ticks\":\"\"}}}],\"scatterpolargl\":[{\"type\":\"scatterpolargl\",\"marker\":{\"colorbar\":{\"outlinewidth\":0,\"ticks\":\"\"}}}],\"bar\":[{\"error_x\":{\"color\":\"#2a3f5f\"},\"error_y\":{\"color\":\"#2a3f5f\"},\"marker\":{\"line\":{\"color\":\"#E5ECF6\",\"width\":0.5},\"pattern\":{\"fillmode\":\"overlay\",\"size\":10,\"solidity\":0.2}},\"type\":\"bar\"}],\"scattergeo\":[{\"type\":\"scattergeo\",\"marker\":{\"colorbar\":{\"outlinewidth\":0,\"ticks\":\"\"}}}],\"scatterpolar\":[{\"type\":\"scatterpolar\",\"marker\":{\"colorbar\":{\"outlinewidth\":0,\"ticks\":\"\"}}}],\"histogram\":[{\"marker\":{\"pattern\":{\"fillmode\":\"overlay\",\"size\":10,\"solidity\":0.2}},\"type\":\"histogram\"}],\"scattergl\":[{\"type\":\"scattergl\",\"marker\":{\"colorbar\":{\"outlinewidth\":0,\"ticks\":\"\"}}}],\"scatter3d\":[{\"type\":\"scatter3d\",\"line\":{\"colorbar\":{\"outlinewidth\":0,\"ticks\":\"\"}},\"marker\":{\"colorbar\":{\"outlinewidth\":0,\"ticks\":\"\"}}}],\"scattermap\":[{\"type\":\"scattermap\",\"marker\":{\"colorbar\":{\"outlinewidth\":0,\"ticks\":\"\"}}}],\"scattermapbox\":[{\"type\":\"scattermapbox\",\"marker\":{\"colorbar\":{\"outlinewidth\":0,\"ticks\":\"\"}}}],\"scatterternary\":[{\"type\":\"scatterternary\",\"marker\":{\"colorbar\":{\"outlinewidth\":0,\"ticks\":\"\"}}}],\"scattercarpet\":[{\"type\":\"scattercarpet\",\"marker\":{\"colorbar\":{\"outlinewidth\":0,\"ticks\":\"\"}}}],\"carpet\":[{\"aaxis\":{\"endlinecolor\":\"#2a3f5f\",\"gridcolor\":\"white\",\"linecolor\":\"white\",\"minorgridcolor\":\"white\",\"startlinecolor\":\"#2a3f5f\"},\"baxis\":{\"endlinecolor\":\"#2a3f5f\",\"gridcolor\":\"white\",\"linecolor\":\"white\",\"minorgridcolor\":\"white\",\"startlinecolor\":\"#2a3f5f\"},\"type\":\"carpet\"}],\"table\":[{\"cells\":{\"fill\":{\"color\":\"#EBF0F8\"},\"line\":{\"color\":\"white\"}},\"header\":{\"fill\":{\"color\":\"#C8D4E3\"},\"line\":{\"color\":\"white\"}},\"type\":\"table\"}],\"barpolar\":[{\"marker\":{\"line\":{\"color\":\"#E5ECF6\",\"width\":0.5},\"pattern\":{\"fillmode\":\"overlay\",\"size\":10,\"solidity\":0.2}},\"type\":\"barpolar\"}],\"pie\":[{\"automargin\":true,\"type\":\"pie\"}]},\"layout\":{\"autotypenumbers\":\"strict\",\"colorway\":[\"#636efa\",\"#EF553B\",\"#00cc96\",\"#ab63fa\",\"#FFA15A\",\"#19d3f3\",\"#FF6692\",\"#B6E880\",\"#FF97FF\",\"#FECB52\"],\"font\":{\"color\":\"#2a3f5f\"},\"hovermode\":\"closest\",\"hoverlabel\":{\"align\":\"left\"},\"paper_bgcolor\":\"white\",\"plot_bgcolor\":\"#E5ECF6\",\"polar\":{\"bgcolor\":\"#E5ECF6\",\"angularaxis\":{\"gridcolor\":\"white\",\"linecolor\":\"white\",\"ticks\":\"\"},\"radialaxis\":{\"gridcolor\":\"white\",\"linecolor\":\"white\",\"ticks\":\"\"}},\"ternary\":{\"bgcolor\":\"#E5ECF6\",\"aaxis\":{\"gridcolor\":\"white\",\"linecolor\":\"white\",\"ticks\":\"\"},\"baxis\":{\"gridcolor\":\"white\",\"linecolor\":\"white\",\"ticks\":\"\"},\"caxis\":{\"gridcolor\":\"white\",\"linecolor\":\"white\",\"ticks\":\"\"}},\"coloraxis\":{\"colorbar\":{\"outlinewidth\":0,\"ticks\":\"\"}},\"colorscale\":{\"sequential\":[[0.0,\"#0d0887\"],[0.1111111111111111,\"#46039f\"],[0.2222222222222222,\"#7201a8\"],[0.3333333333333333,\"#9c179e\"],[0.4444444444444444,\"#bd3786\"],[0.5555555555555556,\"#d8576b\"],[0.6666666666666666,\"#ed7953\"],[0.7777777777777778,\"#fb9f3a\"],[0.8888888888888888,\"#fdca26\"],[1.0,\"#f0f921\"]],\"sequentialminus\":[[0.0,\"#0d0887\"],[0.1111111111111111,\"#46039f\"],[0.2222222222222222,\"#7201a8\"],[0.3333333333333333,\"#9c179e\"],[0.4444444444444444,\"#bd3786\"],[0.5555555555555556,\"#d8576b\"],[0.6666666666666666,\"#ed7953\"],[0.7777777777777778,\"#fb9f3a\"],[0.8888888888888888,\"#fdca26\"],[1.0,\"#f0f921\"]],\"diverging\":[[0,\"#8e0152\"],[0.1,\"#c51b7d\"],[0.2,\"#de77ae\"],[0.3,\"#f1b6da\"],[0.4,\"#fde0ef\"],[0.5,\"#f7f7f7\"],[0.6,\"#e6f5d0\"],[0.7,\"#b8e186\"],[0.8,\"#7fbc41\"],[0.9,\"#4d9221\"],[1,\"#276419\"]]},\"xaxis\":{\"gridcolor\":\"white\",\"linecolor\":\"white\",\"ticks\":\"\",\"title\":{\"standoff\":15},\"zerolinecolor\":\"white\",\"automargin\":true,\"zerolinewidth\":2},\"yaxis\":{\"gridcolor\":\"white\",\"linecolor\":\"white\",\"ticks\":\"\",\"title\":{\"standoff\":15},\"zerolinecolor\":\"white\",\"automargin\":true,\"zerolinewidth\":2},\"scene\":{\"xaxis\":{\"backgroundcolor\":\"#E5ECF6\",\"gridcolor\":\"white\",\"linecolor\":\"white\",\"showbackground\":true,\"ticks\":\"\",\"zerolinecolor\":\"white\",\"gridwidth\":2},\"yaxis\":{\"backgroundcolor\":\"#E5ECF6\",\"gridcolor\":\"white\",\"linecolor\":\"white\",\"showbackground\":true,\"ticks\":\"\",\"zerolinecolor\":\"white\",\"gridwidth\":2},\"zaxis\":{\"backgroundcolor\":\"#E5ECF6\",\"gridcolor\":\"white\",\"linecolor\":\"white\",\"showbackground\":true,\"ticks\":\"\",\"zerolinecolor\":\"white\",\"gridwidth\":2}},\"shapedefaults\":{\"line\":{\"color\":\"#2a3f5f\"}},\"annotationdefaults\":{\"arrowcolor\":\"#2a3f5f\",\"arrowhead\":0,\"arrowwidth\":1},\"geo\":{\"bgcolor\":\"white\",\"landcolor\":\"#E5ECF6\",\"subunitcolor\":\"white\",\"showland\":true,\"showlakes\":true,\"lakecolor\":\"white\"},\"title\":{\"x\":0.05},\"mapbox\":{\"style\":\"light\"}}},\"geo\":{\"domain\":{\"x\":[0.0,1.0],\"y\":[0.0,1.0]},\"center\":{}},\"coloraxis\":{\"colorbar\":{\"title\":{\"text\":\"Failure Count\"}},\"colorscale\":[[0.0,\"rgb(253, 237, 176)\"],[0.09090909090909091,\"rgb(250, 205, 145)\"],[0.18181818181818182,\"rgb(246, 173, 119)\"],[0.2727272727272727,\"rgb(240, 142, 98)\"],[0.36363636363636365,\"rgb(231, 109, 84)\"],[0.45454545454545453,\"rgb(216, 80, 83)\"],[0.5454545454545454,\"rgb(195, 56, 90)\"],[0.6363636363636364,\"rgb(168, 40, 96)\"],[0.7272727272727273,\"rgb(138, 29, 99)\"],[0.8181818181818182,\"rgb(107, 24, 93)\"],[0.9090909090909091,\"rgb(76, 21, 80)\"],[1.0,\"rgb(47, 15, 61)\"]]},\"legend\":{\"tracegroupgap\":0},\"title\":{\"text\":\"Number of Failures by Country\"}},                        {\"responsive\": true}                    ).then(function(){\n",
              "                            \n",
              "var gd = document.getElementById('281be4f0-c66a-4028-ab42-d67ea1ab592b');\n",
              "var x = new MutationObserver(function (mutations, observer) {{\n",
              "        var display = window.getComputedStyle(gd).display;\n",
              "        if (!display || display === 'none') {{\n",
              "            console.log([gd, 'removed!']);\n",
              "            Plotly.purge(gd);\n",
              "            observer.disconnect();\n",
              "        }}\n",
              "}});\n",
              "\n",
              "// Listen for the removal of the full notebook cells\n",
              "var notebookContainer = gd.closest('#notebook-container');\n",
              "if (notebookContainer) {{\n",
              "    x.observe(notebookContainer, {childList: true});\n",
              "}}\n",
              "\n",
              "// Listen for the clearing of the current output cell\n",
              "var outputEl = gd.closest('.output');\n",
              "if (outputEl) {{\n",
              "    x.observe(outputEl, {childList: true});\n",
              "}}\n",
              "\n",
              "                        })                };            </script>        </div>\n",
              "</body>\n",
              "</html>"
            ]
          },
          "metadata": {}
        }
      ]
    },
    {
      "cell_type": "markdown",
      "metadata": {
        "papermill": {
          "duration": 0.039343,
          "end_time": "2020-10-20T21:34:06.591694",
          "exception": false,
          "start_time": "2020-10-20T21:34:06.552351",
          "status": "completed"
        },
        "tags": [],
        "id": "9LqcqSrKa-qN"
      },
      "source": [
        "# Create a Plotly Sunburst Chart of the countries, organisations, and mission status."
      ]
    },
    {
      "cell_type": "code",
      "metadata": {
        "id": "MwUfpoByo3_J",
        "colab": {
          "base_uri": "https://localhost:8080/",
          "height": 542
        },
        "outputId": "2b64ccd5-3775-4cdf-b973-37bbeac39362"
      },
      "source": [
        "fig = px.sunburst(df_data,\n",
        "                  path=['Country', 'Organisation', 'Mission_Status'],\n",
        "                  title='Launches by Country, Organisation, and Mission Status')\n",
        "fig.show()"
      ],
      "execution_count": 18,
      "outputs": [
        {
          "output_type": "display_data",
          "data": {
            "text/html": [
              "<html>\n",
              "<head><meta charset=\"utf-8\" /></head>\n",
              "<body>\n",
              "    <div>            <script src=\"https://cdnjs.cloudflare.com/ajax/libs/mathjax/2.7.5/MathJax.js?config=TeX-AMS-MML_SVG\"></script><script type=\"text/javascript\">if (window.MathJax && window.MathJax.Hub && window.MathJax.Hub.Config) {window.MathJax.Hub.Config({SVG: {font: \"STIX-Web\"}});}</script>                <script type=\"text/javascript\">window.PlotlyConfig = {MathJaxConfig: 'local'};</script>\n",
              "        <script charset=\"utf-8\" src=\"https://cdn.plot.ly/plotly-3.1.0.min.js\" integrity=\"sha256-Ei4740bWZhaUTQuD6q9yQlgVCMPBz6CZWhevDYPv93A=\" crossorigin=\"anonymous\"></script>                <div id=\"c4e01367-581f-4bf0-90e9-46322fe04697\" class=\"plotly-graph-div\" style=\"height:525px; width:100%;\"></div>            <script type=\"text/javascript\">                window.PLOTLYENV=window.PLOTLYENV || {};                                if (document.getElementById(\"c4e01367-581f-4bf0-90e9-46322fe04697\")) {                    Plotly.newPlot(                        \"c4e01367-581f-4bf0-90e9-46322fe04697\",                        [{\"branchvalues\":\"total\",\"domain\":{\"x\":[0.0,1.0],\"y\":[0.0,1.0]},\"hovertemplate\":\"labels=%{label}\\u003cbr\\u003ecount=%{value}\\u003cbr\\u003eparent=%{parent}\\u003cbr\\u003eid=%{id}\\u003cextra\\u003e\\u003c\\u002fextra\\u003e\",\"ids\":[\"USA\\u002fSpaceX\\u002fSuccess\",\"China\\u002fCASC\\u002fSuccess\",\"Kazakhstan\\u002fRoscosmos\\u002fSuccess\",\"USA\\u002fULA\\u002fSuccess\",\"Japan\\u002fJAXA\\u002fSuccess\",\"USA\\u002fNorthrop\\u002fSuccess\",\"China\\u002fExPace\\u002fFailure\",\"Israel\\u002fIAI\\u002fSuccess\",\"New Zealand\\u002fRocket Lab\\u002fFailure\",\"New Zealand\\u002fRocket Lab\\u002fSuccess\",\"USA\\u002fVirgin Orbit\\u002fFailure\",\"Russian Federation\\u002fVKS RF\\u002fSuccess\",\"Japan\\u002fMHI\\u002fSuccess\",\"China\\u002fExPace\\u002fSuccess\",\"Iran\\u002fIRGC\\u002fSuccess\",\"China\\u002fCASC\\u002fFailure\",\"Kazakhstan\\u002fArianespace\\u002fSuccess\",\"France\\u002fArianespace\\u002fSuccess\",\"Iran\\u002fISA\\u002fFailure\",\"USA\\u002fBlue Origin\\u002fSuccess\",\"India\\u002fISRO\\u002fSuccess\",\"USA\\u002fExos\\u002fFailure\",\"Kazakhstan\\u002fILS\\u002fSuccess\",\"Iran\\u002fISA\\u002fPrelaunch Failure\",\"China\\u002fi-Space\\u002fSuccess\",\"France\\u002fArianespace\\u002fFailure\",\"Russian Federation\\u002fRoscosmos\\u002fSuccess\",\"USA\\u002fExos\\u002fPartial Failure\",\"China\\u002fOneSpace\\u002fFailure\",\"Kazakhstan\\u002fVKS RF\\u002fSuccess\",\"China\\u002fLandspace\\u002fFailure\",\"Kazakhstan\\u002fRoscosmos\\u002fFailure\",\"Russian Federation\\u002fEurockot\\u002fSuccess\",\"France\\u002fArianespace\\u002fPartial Failure\",\"Kazakhstan\\u002fLand Launch\\u002fSuccess\",\"Russian Federation\\u002fRoscosmos\\u002fFailure\",\"India\\u002fISRO\\u002fFailure\",\"Kazakhstan\\u002fRoscosmos\\u002fPartial Failure\",\"China\\u002fCASC\\u002fPartial Failure\",\"China\\u002fCASIC\\u002fSuccess\",\"Japan\\u002fJAXA\\u002fFailure\",\"USA\\u002fSpaceX\\u002fPrelaunch Failure\",\"North Korea\\u002fKCST\\u002fSuccess\",\"Russian Federation\\u002fVKS RF\\u002fPartial Failure\",\"USA\\u002fSandia\\u002fFailure\",\"USA\\u002fSpaceX\\u002fFailure\",\"Russian Federation\\u002fKosmotras\\u002fSuccess\",\"Iran\\u002fISA\\u002fSuccess\",\"Russian Federation\\u002fKhrunichev\\u002fSuccess\",\"USA\\u002fNorthrop\\u002fFailure\",\"Pacific Ocean\\u002fSea Launch\\u002fSuccess\",\"Kazakhstan\\u002fVKS RF\\u002fFailure\",\"Pacific Ocean\\u002fSea Launch\\u002fFailure\",\"South Korea\\u002fKARI\\u002fSuccess\",\"USA\\u002fSpaceX\\u002fPartial Failure\",\"North Korea\\u002fKCST\\u002fFailure\",\"France\\u002fESA\\u002fSuccess\",\"USA\\u002fNASA\\u002fSuccess\",\"Kazakhstan\\u002fKosmotras\\u002fSuccess\",\"South Korea\\u002fKARI\\u002fFailure\",\"Kazakhstan\\u002fLand Launch\\u002fPartial Failure\",\"India\\u002fISRO\\u002fPartial Failure\",\"USA\\u002fULA\\u002fPartial Failure\",\"USA\\u002fBoeing\\u002fSuccess\",\"Japan\\u002fISAS\\u002fSuccess\",\"Kazakhstan\\u002fKosmotras\\u002fFailure\",\"Russian Federation\\u002fSRC\\u002fSuccess\",\"Russian Federation\\u002fMITT\\u002fSuccess\",\"USA\\u002fILS\\u002fSuccess\",\"USA\\u002fLockheed\\u002fSuccess\",\"Russian Federation\\u002fEurockot\\u002fFailure\",\"Russian Federation\\u002fSRC\\u002fFailure\",\"Russian Federation\\u002fVKS RF\\u002fFailure\",\"USA\\u002fBoeing\\u002fPartial Failure\",\"Israel\\u002fIAI\\u002fFailure\",\"Japan\\u002fMHI\\u002fFailure\",\"China\\u002fCASIC\\u002fFailure\",\"Brazil\\u002fAEB\\u002fPrelaunch Failure\",\"Kazakhstan\\u002fStarsem\\u002fSuccess\",\"USA\\u002fNASA\\u002fFailure\",\"Japan\\u002fISAS\\u002fFailure\",\"Brazil\\u002fAEB\\u002fFailure\",\"USA\\u002fBoeing\\u002fFailure\",\"USA\\u002fLockheed\\u002fFailure\",\"Russian Federation\\u002fRVSN USSR\\u002fSuccess\",\"Japan\\u002fMHI\\u002fPartial Failure\",\"Kazakhstan\\u002fILS\\u002fPartial Failure\",\"France\\u002fESA\\u002fPartial Failure\",\"France\\u002fESA\\u002fFailure\",\"USA\\u002fEER\\u002fFailure\",\"Russian Federation\\u002fMITT\\u002fFailure\",\"USA\\u002fGeneral Dynamics\\u002fSuccess\",\"Japan\\u002fISAS\\u002fPartial Failure\",\"USA\\u002fMartin Marietta\\u002fSuccess\",\"USA\\u002fNorthrop\\u002fPartial Failure\",\"USA\\u002fMartin Marietta\\u002fFailure\",\"USA\\u002fGeneral Dynamics\\u002fFailure\",\"Kazakhstan\\u002fRVSN USSR\\u002fFailure\",\"Kazakhstan\\u002fRVSN USSR\\u002fSuccess\",\"Russian Federation\\u002fYuzhmash\\u002fSuccess\",\"Russian Federation\\u002fRVSN USSR\\u002fFailure\",\"Russian Federation\\u002fRVSN USSR\\u002fPartial Failure\",\"USA\\u002fDouglas\\u002fSuccess\",\"USA\\u002fMartin Marietta\\u002fPartial Failure\",\"Kenya\\u002fASI\\u002fSuccess\",\"Kazakhstan\\u002fRVSN USSR\\u002fPartial Failure\",\"USA\\u002fUS Air Force\\u002fSuccess\",\"USA\\u002fGeneral Dynamics\\u002fPartial Failure\",\"France\\u002fCNES\\u002fSuccess\",\"USA\\u002fUS Air Force\\u002fFailure\",\"France\\u002fCNES\\u002fFailure\",\"France\\u002fCECLES\\u002fFailure\",\"Australia\\u002fRAE\\u002fSuccess\",\"Australia\\u002fRAE\\u002fFailure\",\"Australia\\u002fCECLES\\u002fFailure\",\"Japan\\u002fUT\\u002fSuccess\",\"Kazakhstan\\u002fYuzhmash\\u002fSuccess\",\"Japan\\u002fUT\\u002fFailure\",\"Australia\\u002fCECLES\\u002fSuccess\",\"USA\\u002fNASA\\u002fPartial Failure\",\"Kazakhstan\\u002fOKB-586\\u002fSuccess\",\"Australia\\u002fAMBA\\u002fSuccess\",\"USA\\u002fUS Air Force\\u002fPartial Failure\",\"France\\u002fArm??e de l'Air\\u002fSuccess\",\"France\\u002fArm??e de l'Air\\u002fPartial Failure\",\"Kazakhstan\\u002fRVSN USSR\\u002fPrelaunch Failure\",\"USA\\u002fUS Navy\\u002fPartial Failure\",\"USA\\u002fUS Navy\\u002fFailure\",\"USA\\u002fUS Navy\\u002fSuccess\",\"USA\\u002fAMBA\\u002fPartial Failure\",\"USA\\u002fAMBA\\u002fFailure\",\"USA\\u002fAMBA\\u002fSuccess\",\"USA\\u002fSpaceX\",\"China\\u002fCASC\",\"Kazakhstan\\u002fRoscosmos\",\"USA\\u002fULA\",\"Japan\\u002fJAXA\",\"USA\\u002fNorthrop\",\"China\\u002fExPace\",\"Israel\\u002fIAI\",\"New Zealand\\u002fRocket Lab\",\"USA\\u002fVirgin Orbit\",\"Russian Federation\\u002fVKS RF\",\"Japan\\u002fMHI\",\"Iran\\u002fIRGC\",\"Kazakhstan\\u002fArianespace\",\"France\\u002fArianespace\",\"Iran\\u002fISA\",\"USA\\u002fBlue Origin\",\"India\\u002fISRO\",\"USA\\u002fExos\",\"Kazakhstan\\u002fILS\",\"China\\u002fi-Space\",\"Russian Federation\\u002fRoscosmos\",\"China\\u002fOneSpace\",\"Kazakhstan\\u002fVKS RF\",\"China\\u002fLandspace\",\"Russian Federation\\u002fEurockot\",\"Kazakhstan\\u002fLand Launch\",\"China\\u002fCASIC\",\"North Korea\\u002fKCST\",\"USA\\u002fSandia\",\"Russian Federation\\u002fKosmotras\",\"Russian Federation\\u002fKhrunichev\",\"Pacific Ocean\\u002fSea Launch\",\"South Korea\\u002fKARI\",\"France\\u002fESA\",\"USA\\u002fNASA\",\"Kazakhstan\\u002fKosmotras\",\"USA\\u002fBoeing\",\"Japan\\u002fISAS\",\"Russian Federation\\u002fSRC\",\"Russian Federation\\u002fMITT\",\"USA\\u002fILS\",\"USA\\u002fLockheed\",\"Brazil\\u002fAEB\",\"Kazakhstan\\u002fStarsem\",\"Russian Federation\\u002fRVSN USSR\",\"USA\\u002fEER\",\"USA\\u002fGeneral Dynamics\",\"USA\\u002fMartin Marietta\",\"Kazakhstan\\u002fRVSN USSR\",\"Russian Federation\\u002fYuzhmash\",\"USA\\u002fDouglas\",\"Kenya\\u002fASI\",\"USA\\u002fUS Air Force\",\"France\\u002fCNES\",\"France\\u002fCECLES\",\"Australia\\u002fRAE\",\"Australia\\u002fCECLES\",\"Japan\\u002fUT\",\"Kazakhstan\\u002fYuzhmash\",\"Kazakhstan\\u002fOKB-586\",\"Australia\\u002fAMBA\",\"France\\u002fArm??e de l'Air\",\"USA\\u002fUS Navy\",\"USA\\u002fAMBA\",\"USA\",\"China\",\"Kazakhstan\",\"Japan\",\"Israel\",\"New Zealand\",\"Russian Federation\",\"Iran\",\"France\",\"India\",\"North Korea\",\"Pacific Ocean\",\"South Korea\",\"Brazil\",\"Kenya\",\"Australia\"],\"labels\":[\"Success\",\"Success\",\"Success\",\"Success\",\"Success\",\"Success\",\"Failure\",\"Success\",\"Failure\",\"Success\",\"Failure\",\"Success\",\"Success\",\"Success\",\"Success\",\"Failure\",\"Success\",\"Success\",\"Failure\",\"Success\",\"Success\",\"Failure\",\"Success\",\"Prelaunch Failure\",\"Success\",\"Failure\",\"Success\",\"Partial Failure\",\"Failure\",\"Success\",\"Failure\",\"Failure\",\"Success\",\"Partial Failure\",\"Success\",\"Failure\",\"Failure\",\"Partial Failure\",\"Partial Failure\",\"Success\",\"Failure\",\"Prelaunch Failure\",\"Success\",\"Partial Failure\",\"Failure\",\"Failure\",\"Success\",\"Success\",\"Success\",\"Failure\",\"Success\",\"Failure\",\"Failure\",\"Success\",\"Partial Failure\",\"Failure\",\"Success\",\"Success\",\"Success\",\"Failure\",\"Partial Failure\",\"Partial Failure\",\"Partial Failure\",\"Success\",\"Success\",\"Failure\",\"Success\",\"Success\",\"Success\",\"Success\",\"Failure\",\"Failure\",\"Failure\",\"Partial Failure\",\"Failure\",\"Failure\",\"Failure\",\"Prelaunch Failure\",\"Success\",\"Failure\",\"Failure\",\"Failure\",\"Failure\",\"Failure\",\"Success\",\"Partial Failure\",\"Partial Failure\",\"Partial Failure\",\"Failure\",\"Failure\",\"Failure\",\"Success\",\"Partial Failure\",\"Success\",\"Partial Failure\",\"Failure\",\"Failure\",\"Failure\",\"Success\",\"Success\",\"Failure\",\"Partial Failure\",\"Success\",\"Partial Failure\",\"Success\",\"Partial Failure\",\"Success\",\"Partial Failure\",\"Success\",\"Failure\",\"Failure\",\"Failure\",\"Success\",\"Failure\",\"Failure\",\"Success\",\"Success\",\"Failure\",\"Success\",\"Partial Failure\",\"Success\",\"Success\",\"Partial Failure\",\"Success\",\"Partial Failure\",\"Prelaunch Failure\",\"Partial Failure\",\"Failure\",\"Success\",\"Partial Failure\",\"Failure\",\"Success\",\"SpaceX\",\"CASC\",\"Roscosmos\",\"ULA\",\"JAXA\",\"Northrop\",\"ExPace\",\"IAI\",\"Rocket Lab\",\"Virgin Orbit\",\"VKS RF\",\"MHI\",\"IRGC\",\"Arianespace\",\"Arianespace\",\"ISA\",\"Blue Origin\",\"ISRO\",\"Exos\",\"ILS\",\"i-Space\",\"Roscosmos\",\"OneSpace\",\"VKS RF\",\"Landspace\",\"Eurockot\",\"Land Launch\",\"CASIC\",\"KCST\",\"Sandia\",\"Kosmotras\",\"Khrunichev\",\"Sea Launch\",\"KARI\",\"ESA\",\"NASA\",\"Kosmotras\",\"Boeing\",\"ISAS\",\"SRC\",\"MITT\",\"ILS\",\"Lockheed\",\"AEB\",\"Starsem\",\"RVSN USSR\",\"EER\",\"General Dynamics\",\"Martin Marietta\",\"RVSN USSR\",\"Yuzhmash\",\"Douglas\",\"ASI\",\"US Air Force\",\"CNES\",\"CECLES\",\"RAE\",\"CECLES\",\"UT\",\"Yuzhmash\",\"OKB-586\",\"AMBA\",\"Arm??e de l'Air\",\"US Navy\",\"AMBA\",\"USA\",\"China\",\"Kazakhstan\",\"Japan\",\"Israel\",\"New Zealand\",\"Russian Federation\",\"Iran\",\"France\",\"India\",\"North Korea\",\"Pacific Ocean\",\"South Korea\",\"Brazil\",\"Kenya\",\"Australia\"],\"name\":\"\",\"parents\":[\"USA\\u002fSpaceX\",\"China\\u002fCASC\",\"Kazakhstan\\u002fRoscosmos\",\"USA\\u002fULA\",\"Japan\\u002fJAXA\",\"USA\\u002fNorthrop\",\"China\\u002fExPace\",\"Israel\\u002fIAI\",\"New Zealand\\u002fRocket Lab\",\"New Zealand\\u002fRocket Lab\",\"USA\\u002fVirgin Orbit\",\"Russian Federation\\u002fVKS RF\",\"Japan\\u002fMHI\",\"China\\u002fExPace\",\"Iran\\u002fIRGC\",\"China\\u002fCASC\",\"Kazakhstan\\u002fArianespace\",\"France\\u002fArianespace\",\"Iran\\u002fISA\",\"USA\\u002fBlue Origin\",\"India\\u002fISRO\",\"USA\\u002fExos\",\"Kazakhstan\\u002fILS\",\"Iran\\u002fISA\",\"China\\u002fi-Space\",\"France\\u002fArianespace\",\"Russian Federation\\u002fRoscosmos\",\"USA\\u002fExos\",\"China\\u002fOneSpace\",\"Kazakhstan\\u002fVKS RF\",\"China\\u002fLandspace\",\"Kazakhstan\\u002fRoscosmos\",\"Russian Federation\\u002fEurockot\",\"France\\u002fArianespace\",\"Kazakhstan\\u002fLand Launch\",\"Russian Federation\\u002fRoscosmos\",\"India\\u002fISRO\",\"Kazakhstan\\u002fRoscosmos\",\"China\\u002fCASC\",\"China\\u002fCASIC\",\"Japan\\u002fJAXA\",\"USA\\u002fSpaceX\",\"North Korea\\u002fKCST\",\"Russian Federation\\u002fVKS RF\",\"USA\\u002fSandia\",\"USA\\u002fSpaceX\",\"Russian Federation\\u002fKosmotras\",\"Iran\\u002fISA\",\"Russian Federation\\u002fKhrunichev\",\"USA\\u002fNorthrop\",\"Pacific Ocean\\u002fSea Launch\",\"Kazakhstan\\u002fVKS RF\",\"Pacific Ocean\\u002fSea Launch\",\"South Korea\\u002fKARI\",\"USA\\u002fSpaceX\",\"North Korea\\u002fKCST\",\"France\\u002fESA\",\"USA\\u002fNASA\",\"Kazakhstan\\u002fKosmotras\",\"South Korea\\u002fKARI\",\"Kazakhstan\\u002fLand Launch\",\"India\\u002fISRO\",\"USA\\u002fULA\",\"USA\\u002fBoeing\",\"Japan\\u002fISAS\",\"Kazakhstan\\u002fKosmotras\",\"Russian Federation\\u002fSRC\",\"Russian Federation\\u002fMITT\",\"USA\\u002fILS\",\"USA\\u002fLockheed\",\"Russian Federation\\u002fEurockot\",\"Russian Federation\\u002fSRC\",\"Russian Federation\\u002fVKS RF\",\"USA\\u002fBoeing\",\"Israel\\u002fIAI\",\"Japan\\u002fMHI\",\"China\\u002fCASIC\",\"Brazil\\u002fAEB\",\"Kazakhstan\\u002fStarsem\",\"USA\\u002fNASA\",\"Japan\\u002fISAS\",\"Brazil\\u002fAEB\",\"USA\\u002fBoeing\",\"USA\\u002fLockheed\",\"Russian Federation\\u002fRVSN USSR\",\"Japan\\u002fMHI\",\"Kazakhstan\\u002fILS\",\"France\\u002fESA\",\"France\\u002fESA\",\"USA\\u002fEER\",\"Russian Federation\\u002fMITT\",\"USA\\u002fGeneral Dynamics\",\"Japan\\u002fISAS\",\"USA\\u002fMartin Marietta\",\"USA\\u002fNorthrop\",\"USA\\u002fMartin Marietta\",\"USA\\u002fGeneral Dynamics\",\"Kazakhstan\\u002fRVSN USSR\",\"Kazakhstan\\u002fRVSN USSR\",\"Russian Federation\\u002fYuzhmash\",\"Russian Federation\\u002fRVSN USSR\",\"Russian Federation\\u002fRVSN USSR\",\"USA\\u002fDouglas\",\"USA\\u002fMartin Marietta\",\"Kenya\\u002fASI\",\"Kazakhstan\\u002fRVSN USSR\",\"USA\\u002fUS Air Force\",\"USA\\u002fGeneral Dynamics\",\"France\\u002fCNES\",\"USA\\u002fUS Air Force\",\"France\\u002fCNES\",\"France\\u002fCECLES\",\"Australia\\u002fRAE\",\"Australia\\u002fRAE\",\"Australia\\u002fCECLES\",\"Japan\\u002fUT\",\"Kazakhstan\\u002fYuzhmash\",\"Japan\\u002fUT\",\"Australia\\u002fCECLES\",\"USA\\u002fNASA\",\"Kazakhstan\\u002fOKB-586\",\"Australia\\u002fAMBA\",\"USA\\u002fUS Air Force\",\"France\\u002fArm??e de l'Air\",\"France\\u002fArm??e de l'Air\",\"Kazakhstan\\u002fRVSN USSR\",\"USA\\u002fUS Navy\",\"USA\\u002fUS Navy\",\"USA\\u002fUS Navy\",\"USA\\u002fAMBA\",\"USA\\u002fAMBA\",\"USA\\u002fAMBA\",\"USA\",\"China\",\"Kazakhstan\",\"USA\",\"Japan\",\"USA\",\"China\",\"Israel\",\"New Zealand\",\"USA\",\"Russian Federation\",\"Japan\",\"Iran\",\"Kazakhstan\",\"France\",\"Iran\",\"USA\",\"India\",\"USA\",\"Kazakhstan\",\"China\",\"Russian Federation\",\"China\",\"Kazakhstan\",\"China\",\"Russian Federation\",\"Kazakhstan\",\"China\",\"North Korea\",\"USA\",\"Russian Federation\",\"Russian Federation\",\"Pacific Ocean\",\"South Korea\",\"France\",\"USA\",\"Kazakhstan\",\"USA\",\"Japan\",\"Russian Federation\",\"Russian Federation\",\"USA\",\"USA\",\"Brazil\",\"Kazakhstan\",\"Russian Federation\",\"USA\",\"USA\",\"USA\",\"Kazakhstan\",\"Russian Federation\",\"USA\",\"Kenya\",\"USA\",\"France\",\"France\",\"Australia\",\"Australia\",\"Japan\",\"Kazakhstan\",\"Kazakhstan\",\"Australia\",\"France\",\"USA\",\"USA\",\"\",\"\",\"\",\"\",\"\",\"\",\"\",\"\",\"\",\"\",\"\",\"\",\"\",\"\",\"\",\"\"],\"values\":{\"dtype\":\"i2\",\"bdata\":\"XgDnACwAiwAGAEoAAQAJAAIACwABAJMAUAAJAAEADgACAAsBCAAMAD8AAQAFAAEAAQAHAAcAAwABACkAAQACAAwAAwAGAAEACAABAAYAAwABAAEAAgAGAAEABAAKAAQAAQAHACEAAwADAAEAAQADAAkAugALAAIAAQAFAAEAgwAaAAEAAgAGACgASgABAAEABAACAAIAAgACAAEAAQALAAMAAgADAAUAXwQCAAEAAQADAAEAAQDLAAEAZAACAAsAJQBCAO8BAQA3ABgAAQADAAkAEQCBAAsABgAeAAIAAQABAAEAAgABAAEABAABAAYAAgABAAIAAwABAAEAAQAOAAIAAQADAAMAZAD7AC8AjAAHAFMACgALAA0AAQCdAFQAAQACABUBDQAMAEwABAAGAAEACAABACwAAQANAAcABQAFAAEACgABACQAAwANAMsADACIAB4AAwAHACgATwADAAEArgQBAPsAcgBDAgEAAQAJAKEACAABAAIAAwAFAAEAAgABAAQAEQAHAEcFDQG9An4ACwANAHYFDgAvAUwABQAkAAMAAwAJAAYA\"},\"type\":\"sunburst\"}],                        {\"template\":{\"data\":{\"histogram2dcontour\":[{\"type\":\"histogram2dcontour\",\"colorbar\":{\"outlinewidth\":0,\"ticks\":\"\"},\"colorscale\":[[0.0,\"#0d0887\"],[0.1111111111111111,\"#46039f\"],[0.2222222222222222,\"#7201a8\"],[0.3333333333333333,\"#9c179e\"],[0.4444444444444444,\"#bd3786\"],[0.5555555555555556,\"#d8576b\"],[0.6666666666666666,\"#ed7953\"],[0.7777777777777778,\"#fb9f3a\"],[0.8888888888888888,\"#fdca26\"],[1.0,\"#f0f921\"]]}],\"choropleth\":[{\"type\":\"choropleth\",\"colorbar\":{\"outlinewidth\":0,\"ticks\":\"\"}}],\"histogram2d\":[{\"type\":\"histogram2d\",\"colorbar\":{\"outlinewidth\":0,\"ticks\":\"\"},\"colorscale\":[[0.0,\"#0d0887\"],[0.1111111111111111,\"#46039f\"],[0.2222222222222222,\"#7201a8\"],[0.3333333333333333,\"#9c179e\"],[0.4444444444444444,\"#bd3786\"],[0.5555555555555556,\"#d8576b\"],[0.6666666666666666,\"#ed7953\"],[0.7777777777777778,\"#fb9f3a\"],[0.8888888888888888,\"#fdca26\"],[1.0,\"#f0f921\"]]}],\"heatmap\":[{\"type\":\"heatmap\",\"colorbar\":{\"outlinewidth\":0,\"ticks\":\"\"},\"colorscale\":[[0.0,\"#0d0887\"],[0.1111111111111111,\"#46039f\"],[0.2222222222222222,\"#7201a8\"],[0.3333333333333333,\"#9c179e\"],[0.4444444444444444,\"#bd3786\"],[0.5555555555555556,\"#d8576b\"],[0.6666666666666666,\"#ed7953\"],[0.7777777777777778,\"#fb9f3a\"],[0.8888888888888888,\"#fdca26\"],[1.0,\"#f0f921\"]]}],\"contourcarpet\":[{\"type\":\"contourcarpet\",\"colorbar\":{\"outlinewidth\":0,\"ticks\":\"\"}}],\"contour\":[{\"type\":\"contour\",\"colorbar\":{\"outlinewidth\":0,\"ticks\":\"\"},\"colorscale\":[[0.0,\"#0d0887\"],[0.1111111111111111,\"#46039f\"],[0.2222222222222222,\"#7201a8\"],[0.3333333333333333,\"#9c179e\"],[0.4444444444444444,\"#bd3786\"],[0.5555555555555556,\"#d8576b\"],[0.6666666666666666,\"#ed7953\"],[0.7777777777777778,\"#fb9f3a\"],[0.8888888888888888,\"#fdca26\"],[1.0,\"#f0f921\"]]}],\"surface\":[{\"type\":\"surface\",\"colorbar\":{\"outlinewidth\":0,\"ticks\":\"\"},\"colorscale\":[[0.0,\"#0d0887\"],[0.1111111111111111,\"#46039f\"],[0.2222222222222222,\"#7201a8\"],[0.3333333333333333,\"#9c179e\"],[0.4444444444444444,\"#bd3786\"],[0.5555555555555556,\"#d8576b\"],[0.6666666666666666,\"#ed7953\"],[0.7777777777777778,\"#fb9f3a\"],[0.8888888888888888,\"#fdca26\"],[1.0,\"#f0f921\"]]}],\"mesh3d\":[{\"type\":\"mesh3d\",\"colorbar\":{\"outlinewidth\":0,\"ticks\":\"\"}}],\"scatter\":[{\"fillpattern\":{\"fillmode\":\"overlay\",\"size\":10,\"solidity\":0.2},\"type\":\"scatter\"}],\"parcoords\":[{\"type\":\"parcoords\",\"line\":{\"colorbar\":{\"outlinewidth\":0,\"ticks\":\"\"}}}],\"scatterpolargl\":[{\"type\":\"scatterpolargl\",\"marker\":{\"colorbar\":{\"outlinewidth\":0,\"ticks\":\"\"}}}],\"bar\":[{\"error_x\":{\"color\":\"#2a3f5f\"},\"error_y\":{\"color\":\"#2a3f5f\"},\"marker\":{\"line\":{\"color\":\"#E5ECF6\",\"width\":0.5},\"pattern\":{\"fillmode\":\"overlay\",\"size\":10,\"solidity\":0.2}},\"type\":\"bar\"}],\"scattergeo\":[{\"type\":\"scattergeo\",\"marker\":{\"colorbar\":{\"outlinewidth\":0,\"ticks\":\"\"}}}],\"scatterpolar\":[{\"type\":\"scatterpolar\",\"marker\":{\"colorbar\":{\"outlinewidth\":0,\"ticks\":\"\"}}}],\"histogram\":[{\"marker\":{\"pattern\":{\"fillmode\":\"overlay\",\"size\":10,\"solidity\":0.2}},\"type\":\"histogram\"}],\"scattergl\":[{\"type\":\"scattergl\",\"marker\":{\"colorbar\":{\"outlinewidth\":0,\"ticks\":\"\"}}}],\"scatter3d\":[{\"type\":\"scatter3d\",\"line\":{\"colorbar\":{\"outlinewidth\":0,\"ticks\":\"\"}},\"marker\":{\"colorbar\":{\"outlinewidth\":0,\"ticks\":\"\"}}}],\"scattermap\":[{\"type\":\"scattermap\",\"marker\":{\"colorbar\":{\"outlinewidth\":0,\"ticks\":\"\"}}}],\"scattermapbox\":[{\"type\":\"scattermapbox\",\"marker\":{\"colorbar\":{\"outlinewidth\":0,\"ticks\":\"\"}}}],\"scatterternary\":[{\"type\":\"scatterternary\",\"marker\":{\"colorbar\":{\"outlinewidth\":0,\"ticks\":\"\"}}}],\"scattercarpet\":[{\"type\":\"scattercarpet\",\"marker\":{\"colorbar\":{\"outlinewidth\":0,\"ticks\":\"\"}}}],\"carpet\":[{\"aaxis\":{\"endlinecolor\":\"#2a3f5f\",\"gridcolor\":\"white\",\"linecolor\":\"white\",\"minorgridcolor\":\"white\",\"startlinecolor\":\"#2a3f5f\"},\"baxis\":{\"endlinecolor\":\"#2a3f5f\",\"gridcolor\":\"white\",\"linecolor\":\"white\",\"minorgridcolor\":\"white\",\"startlinecolor\":\"#2a3f5f\"},\"type\":\"carpet\"}],\"table\":[{\"cells\":{\"fill\":{\"color\":\"#EBF0F8\"},\"line\":{\"color\":\"white\"}},\"header\":{\"fill\":{\"color\":\"#C8D4E3\"},\"line\":{\"color\":\"white\"}},\"type\":\"table\"}],\"barpolar\":[{\"marker\":{\"line\":{\"color\":\"#E5ECF6\",\"width\":0.5},\"pattern\":{\"fillmode\":\"overlay\",\"size\":10,\"solidity\":0.2}},\"type\":\"barpolar\"}],\"pie\":[{\"automargin\":true,\"type\":\"pie\"}]},\"layout\":{\"autotypenumbers\":\"strict\",\"colorway\":[\"#636efa\",\"#EF553B\",\"#00cc96\",\"#ab63fa\",\"#FFA15A\",\"#19d3f3\",\"#FF6692\",\"#B6E880\",\"#FF97FF\",\"#FECB52\"],\"font\":{\"color\":\"#2a3f5f\"},\"hovermode\":\"closest\",\"hoverlabel\":{\"align\":\"left\"},\"paper_bgcolor\":\"white\",\"plot_bgcolor\":\"#E5ECF6\",\"polar\":{\"bgcolor\":\"#E5ECF6\",\"angularaxis\":{\"gridcolor\":\"white\",\"linecolor\":\"white\",\"ticks\":\"\"},\"radialaxis\":{\"gridcolor\":\"white\",\"linecolor\":\"white\",\"ticks\":\"\"}},\"ternary\":{\"bgcolor\":\"#E5ECF6\",\"aaxis\":{\"gridcolor\":\"white\",\"linecolor\":\"white\",\"ticks\":\"\"},\"baxis\":{\"gridcolor\":\"white\",\"linecolor\":\"white\",\"ticks\":\"\"},\"caxis\":{\"gridcolor\":\"white\",\"linecolor\":\"white\",\"ticks\":\"\"}},\"coloraxis\":{\"colorbar\":{\"outlinewidth\":0,\"ticks\":\"\"}},\"colorscale\":{\"sequential\":[[0.0,\"#0d0887\"],[0.1111111111111111,\"#46039f\"],[0.2222222222222222,\"#7201a8\"],[0.3333333333333333,\"#9c179e\"],[0.4444444444444444,\"#bd3786\"],[0.5555555555555556,\"#d8576b\"],[0.6666666666666666,\"#ed7953\"],[0.7777777777777778,\"#fb9f3a\"],[0.8888888888888888,\"#fdca26\"],[1.0,\"#f0f921\"]],\"sequentialminus\":[[0.0,\"#0d0887\"],[0.1111111111111111,\"#46039f\"],[0.2222222222222222,\"#7201a8\"],[0.3333333333333333,\"#9c179e\"],[0.4444444444444444,\"#bd3786\"],[0.5555555555555556,\"#d8576b\"],[0.6666666666666666,\"#ed7953\"],[0.7777777777777778,\"#fb9f3a\"],[0.8888888888888888,\"#fdca26\"],[1.0,\"#f0f921\"]],\"diverging\":[[0,\"#8e0152\"],[0.1,\"#c51b7d\"],[0.2,\"#de77ae\"],[0.3,\"#f1b6da\"],[0.4,\"#fde0ef\"],[0.5,\"#f7f7f7\"],[0.6,\"#e6f5d0\"],[0.7,\"#b8e186\"],[0.8,\"#7fbc41\"],[0.9,\"#4d9221\"],[1,\"#276419\"]]},\"xaxis\":{\"gridcolor\":\"white\",\"linecolor\":\"white\",\"ticks\":\"\",\"title\":{\"standoff\":15},\"zerolinecolor\":\"white\",\"automargin\":true,\"zerolinewidth\":2},\"yaxis\":{\"gridcolor\":\"white\",\"linecolor\":\"white\",\"ticks\":\"\",\"title\":{\"standoff\":15},\"zerolinecolor\":\"white\",\"automargin\":true,\"zerolinewidth\":2},\"scene\":{\"xaxis\":{\"backgroundcolor\":\"#E5ECF6\",\"gridcolor\":\"white\",\"linecolor\":\"white\",\"showbackground\":true,\"ticks\":\"\",\"zerolinecolor\":\"white\",\"gridwidth\":2},\"yaxis\":{\"backgroundcolor\":\"#E5ECF6\",\"gridcolor\":\"white\",\"linecolor\":\"white\",\"showbackground\":true,\"ticks\":\"\",\"zerolinecolor\":\"white\",\"gridwidth\":2},\"zaxis\":{\"backgroundcolor\":\"#E5ECF6\",\"gridcolor\":\"white\",\"linecolor\":\"white\",\"showbackground\":true,\"ticks\":\"\",\"zerolinecolor\":\"white\",\"gridwidth\":2}},\"shapedefaults\":{\"line\":{\"color\":\"#2a3f5f\"}},\"annotationdefaults\":{\"arrowcolor\":\"#2a3f5f\",\"arrowhead\":0,\"arrowwidth\":1},\"geo\":{\"bgcolor\":\"white\",\"landcolor\":\"#E5ECF6\",\"subunitcolor\":\"white\",\"showland\":true,\"showlakes\":true,\"lakecolor\":\"white\"},\"title\":{\"x\":0.05},\"mapbox\":{\"style\":\"light\"}}},\"legend\":{\"tracegroupgap\":0},\"title\":{\"text\":\"Launches by Country, Organisation, and Mission Status\"}},                        {\"responsive\": true}                    ).then(function(){\n",
              "                            \n",
              "var gd = document.getElementById('c4e01367-581f-4bf0-90e9-46322fe04697');\n",
              "var x = new MutationObserver(function (mutations, observer) {{\n",
              "        var display = window.getComputedStyle(gd).display;\n",
              "        if (!display || display === 'none') {{\n",
              "            console.log([gd, 'removed!']);\n",
              "            Plotly.purge(gd);\n",
              "            observer.disconnect();\n",
              "        }}\n",
              "}});\n",
              "\n",
              "// Listen for the removal of the full notebook cells\n",
              "var notebookContainer = gd.closest('#notebook-container');\n",
              "if (notebookContainer) {{\n",
              "    x.observe(notebookContainer, {childList: true});\n",
              "}}\n",
              "\n",
              "// Listen for the clearing of the current output cell\n",
              "var outputEl = gd.closest('.output');\n",
              "if (outputEl) {{\n",
              "    x.observe(outputEl, {childList: true});\n",
              "}}\n",
              "\n",
              "                        })                };            </script>        </div>\n",
              "</body>\n",
              "</html>"
            ]
          },
          "metadata": {}
        }
      ]
    },
    {
      "cell_type": "markdown",
      "metadata": {
        "papermill": {
          "duration": 0.062712,
          "end_time": "2020-10-20T21:34:07.951200",
          "exception": false,
          "start_time": "2020-10-20T21:34:07.888488",
          "status": "completed"
        },
        "tags": [],
        "id": "70pG1BCZa-qY"
      },
      "source": [
        "# Analyse the Total Amount of Money Spent by Organisation on Space Missions"
      ]
    },
    {
      "cell_type": "code",
      "metadata": {
        "id": "IaJYxwEVpKHy"
      },
      "source": [
        "# Count launches per country\n",
        "money_by_organization = df_price.groupby('Organisation')['Price'].sum().reset_index()\n",
        "money_by_organization.columns = ['Organisation', 'Total Price (USD Millions)']"
      ],
      "execution_count": 19,
      "outputs": []
    },
    {
      "cell_type": "code",
      "metadata": {
        "id": "86OMPfpEpO7R",
        "colab": {
          "base_uri": "https://localhost:8080/",
          "height": 542
        },
        "outputId": "2ab78ff3-14b0-4812-efd2-654442a79734"
      },
      "source": [
        "fig = px.bar(money_by_organization.sort_values('Total Price (USD Millions)', ascending=False),\n",
        "             x='Organisation',\n",
        "             y='Total Price (USD Millions)',\n",
        "             title='Total Money Spent by Organisation on Space Missions (USD Millions)')\n",
        "fig.show()"
      ],
      "execution_count": 20,
      "outputs": [
        {
          "output_type": "display_data",
          "data": {
            "text/html": [
              "<html>\n",
              "<head><meta charset=\"utf-8\" /></head>\n",
              "<body>\n",
              "    <div>            <script src=\"https://cdnjs.cloudflare.com/ajax/libs/mathjax/2.7.5/MathJax.js?config=TeX-AMS-MML_SVG\"></script><script type=\"text/javascript\">if (window.MathJax && window.MathJax.Hub && window.MathJax.Hub.Config) {window.MathJax.Hub.Config({SVG: {font: \"STIX-Web\"}});}</script>                <script type=\"text/javascript\">window.PlotlyConfig = {MathJaxConfig: 'local'};</script>\n",
              "        <script charset=\"utf-8\" src=\"https://cdn.plot.ly/plotly-3.1.0.min.js\" integrity=\"sha256-Ei4740bWZhaUTQuD6q9yQlgVCMPBz6CZWhevDYPv93A=\" crossorigin=\"anonymous\"></script>                <div id=\"77a3b68f-0a43-440d-96c8-39999e77c454\" class=\"plotly-graph-div\" style=\"height:525px; width:100%;\"></div>            <script type=\"text/javascript\">                window.PLOTLYENV=window.PLOTLYENV || {};                                if (document.getElementById(\"77a3b68f-0a43-440d-96c8-39999e77c454\")) {                    Plotly.newPlot(                        \"77a3b68f-0a43-440d-96c8-39999e77c454\",                        [{\"hovertemplate\":\"Organisation=%{x}\\u003cbr\\u003eTotal Price (USD Millions)=%{y}\\u003cextra\\u003e\\u003c\\u002fextra\\u003e\",\"legendgroup\":\"\",\"marker\":{\"color\":\"#636efa\",\"pattern\":{\"shape\":\"\"}},\"name\":\"\",\"orientation\":\"v\",\"showlegend\":false,\"textposition\":\"auto\",\"x\":[\"NASA\",\"Arianespace\",\"ULA\",\"RVSN USSR\",\"CASC\",\"SpaceX\",\"Northrop\",\"MHI\",\"ISRO\",\"US Air Force\",\"VKS RF\",\"ILS\",\"Boeing\",\"Roscosmos\",\"Martin Marietta\",\"Kosmotras\",\"Eurockot\",\"Lockheed\",\"JAXA\",\"Rocket Lab\",\"ESA\",\"ExPace\",\"EER\",\"Sandia\",\"Virgin Orbit\"],\"xaxis\":\"x\",\"y\":{\"dtype\":\"f8\",\"bdata\":\"AAAAAICf8kAAAAAAgOzPQAAAAAAA58xAAAAAAACIw0D2KFyPQsS4QAAAAAAARLVAAAAAAAC0rkAAAAAAAJmrQAAAAAAAAqFASOF6FK47mECZmZmZmTOYQAAAAAAAoJRAAAAAAABkk0AAAAAAAI6SQDMzMzMzi4ZAAAAAAADwg0AzMzMzM\\u002fuAQAAAAAAAgHFAAAAAAAAAZUAAAAAAAGBYQAAAAAAAgEJAzczMzMxMPEAAAAAAAAA0QAAAAAAAAC5AAAAAAAAAKEA=\"},\"yaxis\":\"y\",\"type\":\"bar\"}],                        {\"template\":{\"data\":{\"histogram2dcontour\":[{\"type\":\"histogram2dcontour\",\"colorbar\":{\"outlinewidth\":0,\"ticks\":\"\"},\"colorscale\":[[0.0,\"#0d0887\"],[0.1111111111111111,\"#46039f\"],[0.2222222222222222,\"#7201a8\"],[0.3333333333333333,\"#9c179e\"],[0.4444444444444444,\"#bd3786\"],[0.5555555555555556,\"#d8576b\"],[0.6666666666666666,\"#ed7953\"],[0.7777777777777778,\"#fb9f3a\"],[0.8888888888888888,\"#fdca26\"],[1.0,\"#f0f921\"]]}],\"choropleth\":[{\"type\":\"choropleth\",\"colorbar\":{\"outlinewidth\":0,\"ticks\":\"\"}}],\"histogram2d\":[{\"type\":\"histogram2d\",\"colorbar\":{\"outlinewidth\":0,\"ticks\":\"\"},\"colorscale\":[[0.0,\"#0d0887\"],[0.1111111111111111,\"#46039f\"],[0.2222222222222222,\"#7201a8\"],[0.3333333333333333,\"#9c179e\"],[0.4444444444444444,\"#bd3786\"],[0.5555555555555556,\"#d8576b\"],[0.6666666666666666,\"#ed7953\"],[0.7777777777777778,\"#fb9f3a\"],[0.8888888888888888,\"#fdca26\"],[1.0,\"#f0f921\"]]}],\"heatmap\":[{\"type\":\"heatmap\",\"colorbar\":{\"outlinewidth\":0,\"ticks\":\"\"},\"colorscale\":[[0.0,\"#0d0887\"],[0.1111111111111111,\"#46039f\"],[0.2222222222222222,\"#7201a8\"],[0.3333333333333333,\"#9c179e\"],[0.4444444444444444,\"#bd3786\"],[0.5555555555555556,\"#d8576b\"],[0.6666666666666666,\"#ed7953\"],[0.7777777777777778,\"#fb9f3a\"],[0.8888888888888888,\"#fdca26\"],[1.0,\"#f0f921\"]]}],\"contourcarpet\":[{\"type\":\"contourcarpet\",\"colorbar\":{\"outlinewidth\":0,\"ticks\":\"\"}}],\"contour\":[{\"type\":\"contour\",\"colorbar\":{\"outlinewidth\":0,\"ticks\":\"\"},\"colorscale\":[[0.0,\"#0d0887\"],[0.1111111111111111,\"#46039f\"],[0.2222222222222222,\"#7201a8\"],[0.3333333333333333,\"#9c179e\"],[0.4444444444444444,\"#bd3786\"],[0.5555555555555556,\"#d8576b\"],[0.6666666666666666,\"#ed7953\"],[0.7777777777777778,\"#fb9f3a\"],[0.8888888888888888,\"#fdca26\"],[1.0,\"#f0f921\"]]}],\"surface\":[{\"type\":\"surface\",\"colorbar\":{\"outlinewidth\":0,\"ticks\":\"\"},\"colorscale\":[[0.0,\"#0d0887\"],[0.1111111111111111,\"#46039f\"],[0.2222222222222222,\"#7201a8\"],[0.3333333333333333,\"#9c179e\"],[0.4444444444444444,\"#bd3786\"],[0.5555555555555556,\"#d8576b\"],[0.6666666666666666,\"#ed7953\"],[0.7777777777777778,\"#fb9f3a\"],[0.8888888888888888,\"#fdca26\"],[1.0,\"#f0f921\"]]}],\"mesh3d\":[{\"type\":\"mesh3d\",\"colorbar\":{\"outlinewidth\":0,\"ticks\":\"\"}}],\"scatter\":[{\"fillpattern\":{\"fillmode\":\"overlay\",\"size\":10,\"solidity\":0.2},\"type\":\"scatter\"}],\"parcoords\":[{\"type\":\"parcoords\",\"line\":{\"colorbar\":{\"outlinewidth\":0,\"ticks\":\"\"}}}],\"scatterpolargl\":[{\"type\":\"scatterpolargl\",\"marker\":{\"colorbar\":{\"outlinewidth\":0,\"ticks\":\"\"}}}],\"bar\":[{\"error_x\":{\"color\":\"#2a3f5f\"},\"error_y\":{\"color\":\"#2a3f5f\"},\"marker\":{\"line\":{\"color\":\"#E5ECF6\",\"width\":0.5},\"pattern\":{\"fillmode\":\"overlay\",\"size\":10,\"solidity\":0.2}},\"type\":\"bar\"}],\"scattergeo\":[{\"type\":\"scattergeo\",\"marker\":{\"colorbar\":{\"outlinewidth\":0,\"ticks\":\"\"}}}],\"scatterpolar\":[{\"type\":\"scatterpolar\",\"marker\":{\"colorbar\":{\"outlinewidth\":0,\"ticks\":\"\"}}}],\"histogram\":[{\"marker\":{\"pattern\":{\"fillmode\":\"overlay\",\"size\":10,\"solidity\":0.2}},\"type\":\"histogram\"}],\"scattergl\":[{\"type\":\"scattergl\",\"marker\":{\"colorbar\":{\"outlinewidth\":0,\"ticks\":\"\"}}}],\"scatter3d\":[{\"type\":\"scatter3d\",\"line\":{\"colorbar\":{\"outlinewidth\":0,\"ticks\":\"\"}},\"marker\":{\"colorbar\":{\"outlinewidth\":0,\"ticks\":\"\"}}}],\"scattermap\":[{\"type\":\"scattermap\",\"marker\":{\"colorbar\":{\"outlinewidth\":0,\"ticks\":\"\"}}}],\"scattermapbox\":[{\"type\":\"scattermapbox\",\"marker\":{\"colorbar\":{\"outlinewidth\":0,\"ticks\":\"\"}}}],\"scatterternary\":[{\"type\":\"scatterternary\",\"marker\":{\"colorbar\":{\"outlinewidth\":0,\"ticks\":\"\"}}}],\"scattercarpet\":[{\"type\":\"scattercarpet\",\"marker\":{\"colorbar\":{\"outlinewidth\":0,\"ticks\":\"\"}}}],\"carpet\":[{\"aaxis\":{\"endlinecolor\":\"#2a3f5f\",\"gridcolor\":\"white\",\"linecolor\":\"white\",\"minorgridcolor\":\"white\",\"startlinecolor\":\"#2a3f5f\"},\"baxis\":{\"endlinecolor\":\"#2a3f5f\",\"gridcolor\":\"white\",\"linecolor\":\"white\",\"minorgridcolor\":\"white\",\"startlinecolor\":\"#2a3f5f\"},\"type\":\"carpet\"}],\"table\":[{\"cells\":{\"fill\":{\"color\":\"#EBF0F8\"},\"line\":{\"color\":\"white\"}},\"header\":{\"fill\":{\"color\":\"#C8D4E3\"},\"line\":{\"color\":\"white\"}},\"type\":\"table\"}],\"barpolar\":[{\"marker\":{\"line\":{\"color\":\"#E5ECF6\",\"width\":0.5},\"pattern\":{\"fillmode\":\"overlay\",\"size\":10,\"solidity\":0.2}},\"type\":\"barpolar\"}],\"pie\":[{\"automargin\":true,\"type\":\"pie\"}]},\"layout\":{\"autotypenumbers\":\"strict\",\"colorway\":[\"#636efa\",\"#EF553B\",\"#00cc96\",\"#ab63fa\",\"#FFA15A\",\"#19d3f3\",\"#FF6692\",\"#B6E880\",\"#FF97FF\",\"#FECB52\"],\"font\":{\"color\":\"#2a3f5f\"},\"hovermode\":\"closest\",\"hoverlabel\":{\"align\":\"left\"},\"paper_bgcolor\":\"white\",\"plot_bgcolor\":\"#E5ECF6\",\"polar\":{\"bgcolor\":\"#E5ECF6\",\"angularaxis\":{\"gridcolor\":\"white\",\"linecolor\":\"white\",\"ticks\":\"\"},\"radialaxis\":{\"gridcolor\":\"white\",\"linecolor\":\"white\",\"ticks\":\"\"}},\"ternary\":{\"bgcolor\":\"#E5ECF6\",\"aaxis\":{\"gridcolor\":\"white\",\"linecolor\":\"white\",\"ticks\":\"\"},\"baxis\":{\"gridcolor\":\"white\",\"linecolor\":\"white\",\"ticks\":\"\"},\"caxis\":{\"gridcolor\":\"white\",\"linecolor\":\"white\",\"ticks\":\"\"}},\"coloraxis\":{\"colorbar\":{\"outlinewidth\":0,\"ticks\":\"\"}},\"colorscale\":{\"sequential\":[[0.0,\"#0d0887\"],[0.1111111111111111,\"#46039f\"],[0.2222222222222222,\"#7201a8\"],[0.3333333333333333,\"#9c179e\"],[0.4444444444444444,\"#bd3786\"],[0.5555555555555556,\"#d8576b\"],[0.6666666666666666,\"#ed7953\"],[0.7777777777777778,\"#fb9f3a\"],[0.8888888888888888,\"#fdca26\"],[1.0,\"#f0f921\"]],\"sequentialminus\":[[0.0,\"#0d0887\"],[0.1111111111111111,\"#46039f\"],[0.2222222222222222,\"#7201a8\"],[0.3333333333333333,\"#9c179e\"],[0.4444444444444444,\"#bd3786\"],[0.5555555555555556,\"#d8576b\"],[0.6666666666666666,\"#ed7953\"],[0.7777777777777778,\"#fb9f3a\"],[0.8888888888888888,\"#fdca26\"],[1.0,\"#f0f921\"]],\"diverging\":[[0,\"#8e0152\"],[0.1,\"#c51b7d\"],[0.2,\"#de77ae\"],[0.3,\"#f1b6da\"],[0.4,\"#fde0ef\"],[0.5,\"#f7f7f7\"],[0.6,\"#e6f5d0\"],[0.7,\"#b8e186\"],[0.8,\"#7fbc41\"],[0.9,\"#4d9221\"],[1,\"#276419\"]]},\"xaxis\":{\"gridcolor\":\"white\",\"linecolor\":\"white\",\"ticks\":\"\",\"title\":{\"standoff\":15},\"zerolinecolor\":\"white\",\"automargin\":true,\"zerolinewidth\":2},\"yaxis\":{\"gridcolor\":\"white\",\"linecolor\":\"white\",\"ticks\":\"\",\"title\":{\"standoff\":15},\"zerolinecolor\":\"white\",\"automargin\":true,\"zerolinewidth\":2},\"scene\":{\"xaxis\":{\"backgroundcolor\":\"#E5ECF6\",\"gridcolor\":\"white\",\"linecolor\":\"white\",\"showbackground\":true,\"ticks\":\"\",\"zerolinecolor\":\"white\",\"gridwidth\":2},\"yaxis\":{\"backgroundcolor\":\"#E5ECF6\",\"gridcolor\":\"white\",\"linecolor\":\"white\",\"showbackground\":true,\"ticks\":\"\",\"zerolinecolor\":\"white\",\"gridwidth\":2},\"zaxis\":{\"backgroundcolor\":\"#E5ECF6\",\"gridcolor\":\"white\",\"linecolor\":\"white\",\"showbackground\":true,\"ticks\":\"\",\"zerolinecolor\":\"white\",\"gridwidth\":2}},\"shapedefaults\":{\"line\":{\"color\":\"#2a3f5f\"}},\"annotationdefaults\":{\"arrowcolor\":\"#2a3f5f\",\"arrowhead\":0,\"arrowwidth\":1},\"geo\":{\"bgcolor\":\"white\",\"landcolor\":\"#E5ECF6\",\"subunitcolor\":\"white\",\"showland\":true,\"showlakes\":true,\"lakecolor\":\"white\"},\"title\":{\"x\":0.05},\"mapbox\":{\"style\":\"light\"}}},\"xaxis\":{\"anchor\":\"y\",\"domain\":[0.0,1.0],\"title\":{\"text\":\"Organisation\"}},\"yaxis\":{\"anchor\":\"x\",\"domain\":[0.0,1.0],\"title\":{\"text\":\"Total Price (USD Millions)\"}},\"legend\":{\"tracegroupgap\":0},\"title\":{\"text\":\"Total Money Spent by Organisation on Space Missions (USD Millions)\"},\"barmode\":\"relative\"},                        {\"responsive\": true}                    ).then(function(){\n",
              "                            \n",
              "var gd = document.getElementById('77a3b68f-0a43-440d-96c8-39999e77c454');\n",
              "var x = new MutationObserver(function (mutations, observer) {{\n",
              "        var display = window.getComputedStyle(gd).display;\n",
              "        if (!display || display === 'none') {{\n",
              "            console.log([gd, 'removed!']);\n",
              "            Plotly.purge(gd);\n",
              "            observer.disconnect();\n",
              "        }}\n",
              "}});\n",
              "\n",
              "// Listen for the removal of the full notebook cells\n",
              "var notebookContainer = gd.closest('#notebook-container');\n",
              "if (notebookContainer) {{\n",
              "    x.observe(notebookContainer, {childList: true});\n",
              "}}\n",
              "\n",
              "// Listen for the clearing of the current output cell\n",
              "var outputEl = gd.closest('.output');\n",
              "if (outputEl) {{\n",
              "    x.observe(outputEl, {childList: true});\n",
              "}}\n",
              "\n",
              "                        })                };            </script>        </div>\n",
              "</body>\n",
              "</html>"
            ]
          },
          "metadata": {}
        }
      ]
    },
    {
      "cell_type": "markdown",
      "metadata": {
        "id": "DpsWkPxzpPXs"
      },
      "source": [
        "# Analyse the Amount of Money Spent by Organisation per Launch"
      ]
    },
    {
      "cell_type": "code",
      "metadata": {
        "id": "opYJ6GiRpTk5"
      },
      "source": [
        "money_by_organization_per_launch = df_price.groupby('Organisation')['Price'].mean().reset_index()\n",
        "money_by_organization_per_launch.columns = ['Organisation', 'Average Price (USD Millions)']"
      ],
      "execution_count": 21,
      "outputs": []
    },
    {
      "cell_type": "code",
      "metadata": {
        "id": "VEkHzAk2pTvj",
        "colab": {
          "base_uri": "https://localhost:8080/",
          "height": 542
        },
        "outputId": "b6c5fa50-ce32-4682-cc97-f647ea15da60"
      },
      "source": [
        "fig = px.bar(money_by_organization_per_launch.sort_values('Average Price (USD Millions)', ascending=False),\n",
        "             x='Organisation',\n",
        "             y='Average Price (USD Millions)',\n",
        "             title='Average Money Spent by Organisation on Space Missions (USD Millions)')\n",
        "fig.show()"
      ],
      "execution_count": 22,
      "outputs": [
        {
          "output_type": "display_data",
          "data": {
            "text/html": [
              "<html>\n",
              "<head><meta charset=\"utf-8\" /></head>\n",
              "<body>\n",
              "    <div>            <script src=\"https://cdnjs.cloudflare.com/ajax/libs/mathjax/2.7.5/MathJax.js?config=TeX-AMS-MML_SVG\"></script><script type=\"text/javascript\">if (window.MathJax && window.MathJax.Hub && window.MathJax.Hub.Config) {window.MathJax.Hub.Config({SVG: {font: \"STIX-Web\"}});}</script>                <script type=\"text/javascript\">window.PlotlyConfig = {MathJaxConfig: 'local'};</script>\n",
              "        <script charset=\"utf-8\" src=\"https://cdn.plot.ly/plotly-3.1.0.min.js\" integrity=\"sha256-Ei4740bWZhaUTQuD6q9yQlgVCMPBz6CZWhevDYPv93A=\" crossorigin=\"anonymous\"></script>                <div id=\"1af5a1b1-4698-460d-885b-33fe975e744e\" class=\"plotly-graph-div\" style=\"height:525px; width:100%;\"></div>            <script type=\"text/javascript\">                window.PLOTLYENV=window.PLOTLYENV || {};                                if (document.getElementById(\"1af5a1b1-4698-460d-885b-33fe975e744e\")) {                    Plotly.newPlot(                        \"1af5a1b1-4698-460d-885b-33fe975e744e\",                        [{\"hovertemplate\":\"Organisation=%{x}\\u003cbr\\u003eAverage Price (USD Millions)=%{y}\\u003cextra\\u003e\\u003c\\u002fextra\\u003e\",\"legendgroup\":\"\",\"marker\":{\"color\":\"#636efa\",\"pattern\":{\"shape\":\"\"}},\"name\":\"\",\"orientation\":\"v\",\"showlegend\":false,\"textposition\":\"auto\",\"x\":[\"RVSN USSR\",\"NASA\",\"Boeing\",\"Arianespace\",\"ULA\",\"ILS\",\"MHI\",\"Martin Marietta\",\"US Air Force\",\"JAXA\",\"SpaceX\",\"Roscosmos\",\"Northrop\",\"VKS RF\",\"Eurockot\",\"CASC\",\"ESA\",\"Lockheed\",\"ISRO\",\"Kosmotras\",\"ExPace\",\"EER\",\"Sandia\",\"Virgin Orbit\",\"Rocket Lab\"],\"xaxis\":\"x\",\"y\":{\"dtype\":\"f8\",\"bdata\":\"AAAAAACIs0AuEZ4UJP9\\u002fQJIkSZIkKWZAVVVVVVVIZUAAAAAAAOBiQCd2Yid2YllA5LNuMEXeV0Cf9Emf9AlUQM+y+WdM001AAAAAAAAATEDU+pUCtX5LQFnIQhay0ElAqvNrD7msR0A3rH3D2ndHQGZmZmZm5kRABQQnxWkQREAAAAAAAIBCQAAAAAAAgEFAeqBydgs\\u002fQEAAAAAAAAA9QM3MzMzMTDxAAAAAAAAANEAAAAAAAAAuQAAAAAAAAChAAAAAAAAAHkA=\"},\"yaxis\":\"y\",\"type\":\"bar\"}],                        {\"template\":{\"data\":{\"histogram2dcontour\":[{\"type\":\"histogram2dcontour\",\"colorbar\":{\"outlinewidth\":0,\"ticks\":\"\"},\"colorscale\":[[0.0,\"#0d0887\"],[0.1111111111111111,\"#46039f\"],[0.2222222222222222,\"#7201a8\"],[0.3333333333333333,\"#9c179e\"],[0.4444444444444444,\"#bd3786\"],[0.5555555555555556,\"#d8576b\"],[0.6666666666666666,\"#ed7953\"],[0.7777777777777778,\"#fb9f3a\"],[0.8888888888888888,\"#fdca26\"],[1.0,\"#f0f921\"]]}],\"choropleth\":[{\"type\":\"choropleth\",\"colorbar\":{\"outlinewidth\":0,\"ticks\":\"\"}}],\"histogram2d\":[{\"type\":\"histogram2d\",\"colorbar\":{\"outlinewidth\":0,\"ticks\":\"\"},\"colorscale\":[[0.0,\"#0d0887\"],[0.1111111111111111,\"#46039f\"],[0.2222222222222222,\"#7201a8\"],[0.3333333333333333,\"#9c179e\"],[0.4444444444444444,\"#bd3786\"],[0.5555555555555556,\"#d8576b\"],[0.6666666666666666,\"#ed7953\"],[0.7777777777777778,\"#fb9f3a\"],[0.8888888888888888,\"#fdca26\"],[1.0,\"#f0f921\"]]}],\"heatmap\":[{\"type\":\"heatmap\",\"colorbar\":{\"outlinewidth\":0,\"ticks\":\"\"},\"colorscale\":[[0.0,\"#0d0887\"],[0.1111111111111111,\"#46039f\"],[0.2222222222222222,\"#7201a8\"],[0.3333333333333333,\"#9c179e\"],[0.4444444444444444,\"#bd3786\"],[0.5555555555555556,\"#d8576b\"],[0.6666666666666666,\"#ed7953\"],[0.7777777777777778,\"#fb9f3a\"],[0.8888888888888888,\"#fdca26\"],[1.0,\"#f0f921\"]]}],\"contourcarpet\":[{\"type\":\"contourcarpet\",\"colorbar\":{\"outlinewidth\":0,\"ticks\":\"\"}}],\"contour\":[{\"type\":\"contour\",\"colorbar\":{\"outlinewidth\":0,\"ticks\":\"\"},\"colorscale\":[[0.0,\"#0d0887\"],[0.1111111111111111,\"#46039f\"],[0.2222222222222222,\"#7201a8\"],[0.3333333333333333,\"#9c179e\"],[0.4444444444444444,\"#bd3786\"],[0.5555555555555556,\"#d8576b\"],[0.6666666666666666,\"#ed7953\"],[0.7777777777777778,\"#fb9f3a\"],[0.8888888888888888,\"#fdca26\"],[1.0,\"#f0f921\"]]}],\"surface\":[{\"type\":\"surface\",\"colorbar\":{\"outlinewidth\":0,\"ticks\":\"\"},\"colorscale\":[[0.0,\"#0d0887\"],[0.1111111111111111,\"#46039f\"],[0.2222222222222222,\"#7201a8\"],[0.3333333333333333,\"#9c179e\"],[0.4444444444444444,\"#bd3786\"],[0.5555555555555556,\"#d8576b\"],[0.6666666666666666,\"#ed7953\"],[0.7777777777777778,\"#fb9f3a\"],[0.8888888888888888,\"#fdca26\"],[1.0,\"#f0f921\"]]}],\"mesh3d\":[{\"type\":\"mesh3d\",\"colorbar\":{\"outlinewidth\":0,\"ticks\":\"\"}}],\"scatter\":[{\"fillpattern\":{\"fillmode\":\"overlay\",\"size\":10,\"solidity\":0.2},\"type\":\"scatter\"}],\"parcoords\":[{\"type\":\"parcoords\",\"line\":{\"colorbar\":{\"outlinewidth\":0,\"ticks\":\"\"}}}],\"scatterpolargl\":[{\"type\":\"scatterpolargl\",\"marker\":{\"colorbar\":{\"outlinewidth\":0,\"ticks\":\"\"}}}],\"bar\":[{\"error_x\":{\"color\":\"#2a3f5f\"},\"error_y\":{\"color\":\"#2a3f5f\"},\"marker\":{\"line\":{\"color\":\"#E5ECF6\",\"width\":0.5},\"pattern\":{\"fillmode\":\"overlay\",\"size\":10,\"solidity\":0.2}},\"type\":\"bar\"}],\"scattergeo\":[{\"type\":\"scattergeo\",\"marker\":{\"colorbar\":{\"outlinewidth\":0,\"ticks\":\"\"}}}],\"scatterpolar\":[{\"type\":\"scatterpolar\",\"marker\":{\"colorbar\":{\"outlinewidth\":0,\"ticks\":\"\"}}}],\"histogram\":[{\"marker\":{\"pattern\":{\"fillmode\":\"overlay\",\"size\":10,\"solidity\":0.2}},\"type\":\"histogram\"}],\"scattergl\":[{\"type\":\"scattergl\",\"marker\":{\"colorbar\":{\"outlinewidth\":0,\"ticks\":\"\"}}}],\"scatter3d\":[{\"type\":\"scatter3d\",\"line\":{\"colorbar\":{\"outlinewidth\":0,\"ticks\":\"\"}},\"marker\":{\"colorbar\":{\"outlinewidth\":0,\"ticks\":\"\"}}}],\"scattermap\":[{\"type\":\"scattermap\",\"marker\":{\"colorbar\":{\"outlinewidth\":0,\"ticks\":\"\"}}}],\"scattermapbox\":[{\"type\":\"scattermapbox\",\"marker\":{\"colorbar\":{\"outlinewidth\":0,\"ticks\":\"\"}}}],\"scatterternary\":[{\"type\":\"scatterternary\",\"marker\":{\"colorbar\":{\"outlinewidth\":0,\"ticks\":\"\"}}}],\"scattercarpet\":[{\"type\":\"scattercarpet\",\"marker\":{\"colorbar\":{\"outlinewidth\":0,\"ticks\":\"\"}}}],\"carpet\":[{\"aaxis\":{\"endlinecolor\":\"#2a3f5f\",\"gridcolor\":\"white\",\"linecolor\":\"white\",\"minorgridcolor\":\"white\",\"startlinecolor\":\"#2a3f5f\"},\"baxis\":{\"endlinecolor\":\"#2a3f5f\",\"gridcolor\":\"white\",\"linecolor\":\"white\",\"minorgridcolor\":\"white\",\"startlinecolor\":\"#2a3f5f\"},\"type\":\"carpet\"}],\"table\":[{\"cells\":{\"fill\":{\"color\":\"#EBF0F8\"},\"line\":{\"color\":\"white\"}},\"header\":{\"fill\":{\"color\":\"#C8D4E3\"},\"line\":{\"color\":\"white\"}},\"type\":\"table\"}],\"barpolar\":[{\"marker\":{\"line\":{\"color\":\"#E5ECF6\",\"width\":0.5},\"pattern\":{\"fillmode\":\"overlay\",\"size\":10,\"solidity\":0.2}},\"type\":\"barpolar\"}],\"pie\":[{\"automargin\":true,\"type\":\"pie\"}]},\"layout\":{\"autotypenumbers\":\"strict\",\"colorway\":[\"#636efa\",\"#EF553B\",\"#00cc96\",\"#ab63fa\",\"#FFA15A\",\"#19d3f3\",\"#FF6692\",\"#B6E880\",\"#FF97FF\",\"#FECB52\"],\"font\":{\"color\":\"#2a3f5f\"},\"hovermode\":\"closest\",\"hoverlabel\":{\"align\":\"left\"},\"paper_bgcolor\":\"white\",\"plot_bgcolor\":\"#E5ECF6\",\"polar\":{\"bgcolor\":\"#E5ECF6\",\"angularaxis\":{\"gridcolor\":\"white\",\"linecolor\":\"white\",\"ticks\":\"\"},\"radialaxis\":{\"gridcolor\":\"white\",\"linecolor\":\"white\",\"ticks\":\"\"}},\"ternary\":{\"bgcolor\":\"#E5ECF6\",\"aaxis\":{\"gridcolor\":\"white\",\"linecolor\":\"white\",\"ticks\":\"\"},\"baxis\":{\"gridcolor\":\"white\",\"linecolor\":\"white\",\"ticks\":\"\"},\"caxis\":{\"gridcolor\":\"white\",\"linecolor\":\"white\",\"ticks\":\"\"}},\"coloraxis\":{\"colorbar\":{\"outlinewidth\":0,\"ticks\":\"\"}},\"colorscale\":{\"sequential\":[[0.0,\"#0d0887\"],[0.1111111111111111,\"#46039f\"],[0.2222222222222222,\"#7201a8\"],[0.3333333333333333,\"#9c179e\"],[0.4444444444444444,\"#bd3786\"],[0.5555555555555556,\"#d8576b\"],[0.6666666666666666,\"#ed7953\"],[0.7777777777777778,\"#fb9f3a\"],[0.8888888888888888,\"#fdca26\"],[1.0,\"#f0f921\"]],\"sequentialminus\":[[0.0,\"#0d0887\"],[0.1111111111111111,\"#46039f\"],[0.2222222222222222,\"#7201a8\"],[0.3333333333333333,\"#9c179e\"],[0.4444444444444444,\"#bd3786\"],[0.5555555555555556,\"#d8576b\"],[0.6666666666666666,\"#ed7953\"],[0.7777777777777778,\"#fb9f3a\"],[0.8888888888888888,\"#fdca26\"],[1.0,\"#f0f921\"]],\"diverging\":[[0,\"#8e0152\"],[0.1,\"#c51b7d\"],[0.2,\"#de77ae\"],[0.3,\"#f1b6da\"],[0.4,\"#fde0ef\"],[0.5,\"#f7f7f7\"],[0.6,\"#e6f5d0\"],[0.7,\"#b8e186\"],[0.8,\"#7fbc41\"],[0.9,\"#4d9221\"],[1,\"#276419\"]]},\"xaxis\":{\"gridcolor\":\"white\",\"linecolor\":\"white\",\"ticks\":\"\",\"title\":{\"standoff\":15},\"zerolinecolor\":\"white\",\"automargin\":true,\"zerolinewidth\":2},\"yaxis\":{\"gridcolor\":\"white\",\"linecolor\":\"white\",\"ticks\":\"\",\"title\":{\"standoff\":15},\"zerolinecolor\":\"white\",\"automargin\":true,\"zerolinewidth\":2},\"scene\":{\"xaxis\":{\"backgroundcolor\":\"#E5ECF6\",\"gridcolor\":\"white\",\"linecolor\":\"white\",\"showbackground\":true,\"ticks\":\"\",\"zerolinecolor\":\"white\",\"gridwidth\":2},\"yaxis\":{\"backgroundcolor\":\"#E5ECF6\",\"gridcolor\":\"white\",\"linecolor\":\"white\",\"showbackground\":true,\"ticks\":\"\",\"zerolinecolor\":\"white\",\"gridwidth\":2},\"zaxis\":{\"backgroundcolor\":\"#E5ECF6\",\"gridcolor\":\"white\",\"linecolor\":\"white\",\"showbackground\":true,\"ticks\":\"\",\"zerolinecolor\":\"white\",\"gridwidth\":2}},\"shapedefaults\":{\"line\":{\"color\":\"#2a3f5f\"}},\"annotationdefaults\":{\"arrowcolor\":\"#2a3f5f\",\"arrowhead\":0,\"arrowwidth\":1},\"geo\":{\"bgcolor\":\"white\",\"landcolor\":\"#E5ECF6\",\"subunitcolor\":\"white\",\"showland\":true,\"showlakes\":true,\"lakecolor\":\"white\"},\"title\":{\"x\":0.05},\"mapbox\":{\"style\":\"light\"}}},\"xaxis\":{\"anchor\":\"y\",\"domain\":[0.0,1.0],\"title\":{\"text\":\"Organisation\"}},\"yaxis\":{\"anchor\":\"x\",\"domain\":[0.0,1.0],\"title\":{\"text\":\"Average Price (USD Millions)\"}},\"legend\":{\"tracegroupgap\":0},\"title\":{\"text\":\"Average Money Spent by Organisation on Space Missions (USD Millions)\"},\"barmode\":\"relative\"},                        {\"responsive\": true}                    ).then(function(){\n",
              "                            \n",
              "var gd = document.getElementById('1af5a1b1-4698-460d-885b-33fe975e744e');\n",
              "var x = new MutationObserver(function (mutations, observer) {{\n",
              "        var display = window.getComputedStyle(gd).display;\n",
              "        if (!display || display === 'none') {{\n",
              "            console.log([gd, 'removed!']);\n",
              "            Plotly.purge(gd);\n",
              "            observer.disconnect();\n",
              "        }}\n",
              "}});\n",
              "\n",
              "// Listen for the removal of the full notebook cells\n",
              "var notebookContainer = gd.closest('#notebook-container');\n",
              "if (notebookContainer) {{\n",
              "    x.observe(notebookContainer, {childList: true});\n",
              "}}\n",
              "\n",
              "// Listen for the clearing of the current output cell\n",
              "var outputEl = gd.closest('.output');\n",
              "if (outputEl) {{\n",
              "    x.observe(outputEl, {childList: true});\n",
              "}}\n",
              "\n",
              "                        })                };            </script>        </div>\n",
              "</body>\n",
              "</html>"
            ]
          },
          "metadata": {}
        }
      ]
    },
    {
      "cell_type": "markdown",
      "metadata": {
        "papermill": {
          "duration": 0.042662,
          "end_time": "2020-10-20T21:34:09.943196",
          "exception": false,
          "start_time": "2020-10-20T21:34:09.900534",
          "status": "completed"
        },
        "tags": [],
        "id": "yRa1BbPoa-qf"
      },
      "source": [
        "# Chart the Number of Launches per Year"
      ]
    },
    {
      "cell_type": "code",
      "metadata": {
        "id": "b2pggcZBpb4x"
      },
      "source": [
        "df_data['Year'] = df_data['Date'].dt.year\n",
        "\n",
        "# Count launches per year\n",
        "launch_counts_by_year = df_data['Year'].value_counts().reset_index()\n",
        "launch_counts_by_year.columns = ['Year', 'Launch Count']"
      ],
      "execution_count": 23,
      "outputs": []
    },
    {
      "cell_type": "code",
      "source": [
        "fig = px.bar(launch_counts_by_year,\n",
        "             x='Year',\n",
        "             y='Launch Count',\n",
        "             title='Number of Launches per Year')\n",
        "fig.show()"
      ],
      "metadata": {
        "colab": {
          "base_uri": "https://localhost:8080/",
          "height": 542
        },
        "id": "jzKQxESKAk5Z",
        "outputId": "50d01a60-6068-4360-b105-c5f29c9496af"
      },
      "execution_count": 24,
      "outputs": [
        {
          "output_type": "display_data",
          "data": {
            "text/html": [
              "<html>\n",
              "<head><meta charset=\"utf-8\" /></head>\n",
              "<body>\n",
              "    <div>            <script src=\"https://cdnjs.cloudflare.com/ajax/libs/mathjax/2.7.5/MathJax.js?config=TeX-AMS-MML_SVG\"></script><script type=\"text/javascript\">if (window.MathJax && window.MathJax.Hub && window.MathJax.Hub.Config) {window.MathJax.Hub.Config({SVG: {font: \"STIX-Web\"}});}</script>                <script type=\"text/javascript\">window.PlotlyConfig = {MathJaxConfig: 'local'};</script>\n",
              "        <script charset=\"utf-8\" src=\"https://cdn.plot.ly/plotly-3.1.0.min.js\" integrity=\"sha256-Ei4740bWZhaUTQuD6q9yQlgVCMPBz6CZWhevDYPv93A=\" crossorigin=\"anonymous\"></script>                <div id=\"19b9b18c-b404-43bf-844b-a2736f4732e6\" class=\"plotly-graph-div\" style=\"height:525px; width:100%;\"></div>            <script type=\"text/javascript\">                window.PLOTLYENV=window.PLOTLYENV || {};                                if (document.getElementById(\"19b9b18c-b404-43bf-844b-a2736f4732e6\")) {                    Plotly.newPlot(                        \"19b9b18c-b404-43bf-844b-a2736f4732e6\",                        [{\"hovertemplate\":\"Year=%{x}\\u003cbr\\u003eLaunch Count=%{y}\\u003cextra\\u003e\\u003c\\u002fextra\\u003e\",\"legendgroup\":\"\",\"marker\":{\"color\":\"#636efa\",\"pattern\":{\"shape\":\"\"}},\"name\":\"\",\"orientation\":\"v\",\"showlegend\":false,\"textposition\":\"auto\",\"x\":{\"dtype\":\"i4\",\"bdata\":\"swcAAOIHAAC5BwAAtwcAALgHAADjBwAAsgcAAK8HAAC1BwAAsQcAALAHAACuBwAAtAcAALYHAAC6BwAA4QcAAOAHAACtBwAAqgcAAMYHAADBBwAAvQcAAM0HAADABwAAzgcAAL4HAAC\\u002fBwAAygcAAOQHAADIBwAAwgcAAMsHAADJBwAArAcAAMwHAADHBwAAxAcAANAHAADPBwAAwwcAALwHAADeBwAA3wcAAKkHAADTBwAAxQcAANcHAADZBwAA0gcAANYHAAC7BwAA2AcAAN0HAADRBwAA2wcAAKsHAADUBwAAqAcAANwHAADVBwAA2gcAAKYHAACnBwAApQcAAA==\"},\"xaxis\":\"x\",\"y\":{\"dtype\":\"i1\",\"bdata\":\"d3VycXFta2pnZ2dlY2JhXFpXUlBKR0ZFRENCQD8+Pj09PDw7Ozk5ODc1NDQ0NDIyMTExMC4rKikoJyYlJRwUAw==\"},\"yaxis\":\"y\",\"type\":\"bar\"}],                        {\"template\":{\"data\":{\"histogram2dcontour\":[{\"type\":\"histogram2dcontour\",\"colorbar\":{\"outlinewidth\":0,\"ticks\":\"\"},\"colorscale\":[[0.0,\"#0d0887\"],[0.1111111111111111,\"#46039f\"],[0.2222222222222222,\"#7201a8\"],[0.3333333333333333,\"#9c179e\"],[0.4444444444444444,\"#bd3786\"],[0.5555555555555556,\"#d8576b\"],[0.6666666666666666,\"#ed7953\"],[0.7777777777777778,\"#fb9f3a\"],[0.8888888888888888,\"#fdca26\"],[1.0,\"#f0f921\"]]}],\"choropleth\":[{\"type\":\"choropleth\",\"colorbar\":{\"outlinewidth\":0,\"ticks\":\"\"}}],\"histogram2d\":[{\"type\":\"histogram2d\",\"colorbar\":{\"outlinewidth\":0,\"ticks\":\"\"},\"colorscale\":[[0.0,\"#0d0887\"],[0.1111111111111111,\"#46039f\"],[0.2222222222222222,\"#7201a8\"],[0.3333333333333333,\"#9c179e\"],[0.4444444444444444,\"#bd3786\"],[0.5555555555555556,\"#d8576b\"],[0.6666666666666666,\"#ed7953\"],[0.7777777777777778,\"#fb9f3a\"],[0.8888888888888888,\"#fdca26\"],[1.0,\"#f0f921\"]]}],\"heatmap\":[{\"type\":\"heatmap\",\"colorbar\":{\"outlinewidth\":0,\"ticks\":\"\"},\"colorscale\":[[0.0,\"#0d0887\"],[0.1111111111111111,\"#46039f\"],[0.2222222222222222,\"#7201a8\"],[0.3333333333333333,\"#9c179e\"],[0.4444444444444444,\"#bd3786\"],[0.5555555555555556,\"#d8576b\"],[0.6666666666666666,\"#ed7953\"],[0.7777777777777778,\"#fb9f3a\"],[0.8888888888888888,\"#fdca26\"],[1.0,\"#f0f921\"]]}],\"contourcarpet\":[{\"type\":\"contourcarpet\",\"colorbar\":{\"outlinewidth\":0,\"ticks\":\"\"}}],\"contour\":[{\"type\":\"contour\",\"colorbar\":{\"outlinewidth\":0,\"ticks\":\"\"},\"colorscale\":[[0.0,\"#0d0887\"],[0.1111111111111111,\"#46039f\"],[0.2222222222222222,\"#7201a8\"],[0.3333333333333333,\"#9c179e\"],[0.4444444444444444,\"#bd3786\"],[0.5555555555555556,\"#d8576b\"],[0.6666666666666666,\"#ed7953\"],[0.7777777777777778,\"#fb9f3a\"],[0.8888888888888888,\"#fdca26\"],[1.0,\"#f0f921\"]]}],\"surface\":[{\"type\":\"surface\",\"colorbar\":{\"outlinewidth\":0,\"ticks\":\"\"},\"colorscale\":[[0.0,\"#0d0887\"],[0.1111111111111111,\"#46039f\"],[0.2222222222222222,\"#7201a8\"],[0.3333333333333333,\"#9c179e\"],[0.4444444444444444,\"#bd3786\"],[0.5555555555555556,\"#d8576b\"],[0.6666666666666666,\"#ed7953\"],[0.7777777777777778,\"#fb9f3a\"],[0.8888888888888888,\"#fdca26\"],[1.0,\"#f0f921\"]]}],\"mesh3d\":[{\"type\":\"mesh3d\",\"colorbar\":{\"outlinewidth\":0,\"ticks\":\"\"}}],\"scatter\":[{\"fillpattern\":{\"fillmode\":\"overlay\",\"size\":10,\"solidity\":0.2},\"type\":\"scatter\"}],\"parcoords\":[{\"type\":\"parcoords\",\"line\":{\"colorbar\":{\"outlinewidth\":0,\"ticks\":\"\"}}}],\"scatterpolargl\":[{\"type\":\"scatterpolargl\",\"marker\":{\"colorbar\":{\"outlinewidth\":0,\"ticks\":\"\"}}}],\"bar\":[{\"error_x\":{\"color\":\"#2a3f5f\"},\"error_y\":{\"color\":\"#2a3f5f\"},\"marker\":{\"line\":{\"color\":\"#E5ECF6\",\"width\":0.5},\"pattern\":{\"fillmode\":\"overlay\",\"size\":10,\"solidity\":0.2}},\"type\":\"bar\"}],\"scattergeo\":[{\"type\":\"scattergeo\",\"marker\":{\"colorbar\":{\"outlinewidth\":0,\"ticks\":\"\"}}}],\"scatterpolar\":[{\"type\":\"scatterpolar\",\"marker\":{\"colorbar\":{\"outlinewidth\":0,\"ticks\":\"\"}}}],\"histogram\":[{\"marker\":{\"pattern\":{\"fillmode\":\"overlay\",\"size\":10,\"solidity\":0.2}},\"type\":\"histogram\"}],\"scattergl\":[{\"type\":\"scattergl\",\"marker\":{\"colorbar\":{\"outlinewidth\":0,\"ticks\":\"\"}}}],\"scatter3d\":[{\"type\":\"scatter3d\",\"line\":{\"colorbar\":{\"outlinewidth\":0,\"ticks\":\"\"}},\"marker\":{\"colorbar\":{\"outlinewidth\":0,\"ticks\":\"\"}}}],\"scattermap\":[{\"type\":\"scattermap\",\"marker\":{\"colorbar\":{\"outlinewidth\":0,\"ticks\":\"\"}}}],\"scattermapbox\":[{\"type\":\"scattermapbox\",\"marker\":{\"colorbar\":{\"outlinewidth\":0,\"ticks\":\"\"}}}],\"scatterternary\":[{\"type\":\"scatterternary\",\"marker\":{\"colorbar\":{\"outlinewidth\":0,\"ticks\":\"\"}}}],\"scattercarpet\":[{\"type\":\"scattercarpet\",\"marker\":{\"colorbar\":{\"outlinewidth\":0,\"ticks\":\"\"}}}],\"carpet\":[{\"aaxis\":{\"endlinecolor\":\"#2a3f5f\",\"gridcolor\":\"white\",\"linecolor\":\"white\",\"minorgridcolor\":\"white\",\"startlinecolor\":\"#2a3f5f\"},\"baxis\":{\"endlinecolor\":\"#2a3f5f\",\"gridcolor\":\"white\",\"linecolor\":\"white\",\"minorgridcolor\":\"white\",\"startlinecolor\":\"#2a3f5f\"},\"type\":\"carpet\"}],\"table\":[{\"cells\":{\"fill\":{\"color\":\"#EBF0F8\"},\"line\":{\"color\":\"white\"}},\"header\":{\"fill\":{\"color\":\"#C8D4E3\"},\"line\":{\"color\":\"white\"}},\"type\":\"table\"}],\"barpolar\":[{\"marker\":{\"line\":{\"color\":\"#E5ECF6\",\"width\":0.5},\"pattern\":{\"fillmode\":\"overlay\",\"size\":10,\"solidity\":0.2}},\"type\":\"barpolar\"}],\"pie\":[{\"automargin\":true,\"type\":\"pie\"}]},\"layout\":{\"autotypenumbers\":\"strict\",\"colorway\":[\"#636efa\",\"#EF553B\",\"#00cc96\",\"#ab63fa\",\"#FFA15A\",\"#19d3f3\",\"#FF6692\",\"#B6E880\",\"#FF97FF\",\"#FECB52\"],\"font\":{\"color\":\"#2a3f5f\"},\"hovermode\":\"closest\",\"hoverlabel\":{\"align\":\"left\"},\"paper_bgcolor\":\"white\",\"plot_bgcolor\":\"#E5ECF6\",\"polar\":{\"bgcolor\":\"#E5ECF6\",\"angularaxis\":{\"gridcolor\":\"white\",\"linecolor\":\"white\",\"ticks\":\"\"},\"radialaxis\":{\"gridcolor\":\"white\",\"linecolor\":\"white\",\"ticks\":\"\"}},\"ternary\":{\"bgcolor\":\"#E5ECF6\",\"aaxis\":{\"gridcolor\":\"white\",\"linecolor\":\"white\",\"ticks\":\"\"},\"baxis\":{\"gridcolor\":\"white\",\"linecolor\":\"white\",\"ticks\":\"\"},\"caxis\":{\"gridcolor\":\"white\",\"linecolor\":\"white\",\"ticks\":\"\"}},\"coloraxis\":{\"colorbar\":{\"outlinewidth\":0,\"ticks\":\"\"}},\"colorscale\":{\"sequential\":[[0.0,\"#0d0887\"],[0.1111111111111111,\"#46039f\"],[0.2222222222222222,\"#7201a8\"],[0.3333333333333333,\"#9c179e\"],[0.4444444444444444,\"#bd3786\"],[0.5555555555555556,\"#d8576b\"],[0.6666666666666666,\"#ed7953\"],[0.7777777777777778,\"#fb9f3a\"],[0.8888888888888888,\"#fdca26\"],[1.0,\"#f0f921\"]],\"sequentialminus\":[[0.0,\"#0d0887\"],[0.1111111111111111,\"#46039f\"],[0.2222222222222222,\"#7201a8\"],[0.3333333333333333,\"#9c179e\"],[0.4444444444444444,\"#bd3786\"],[0.5555555555555556,\"#d8576b\"],[0.6666666666666666,\"#ed7953\"],[0.7777777777777778,\"#fb9f3a\"],[0.8888888888888888,\"#fdca26\"],[1.0,\"#f0f921\"]],\"diverging\":[[0,\"#8e0152\"],[0.1,\"#c51b7d\"],[0.2,\"#de77ae\"],[0.3,\"#f1b6da\"],[0.4,\"#fde0ef\"],[0.5,\"#f7f7f7\"],[0.6,\"#e6f5d0\"],[0.7,\"#b8e186\"],[0.8,\"#7fbc41\"],[0.9,\"#4d9221\"],[1,\"#276419\"]]},\"xaxis\":{\"gridcolor\":\"white\",\"linecolor\":\"white\",\"ticks\":\"\",\"title\":{\"standoff\":15},\"zerolinecolor\":\"white\",\"automargin\":true,\"zerolinewidth\":2},\"yaxis\":{\"gridcolor\":\"white\",\"linecolor\":\"white\",\"ticks\":\"\",\"title\":{\"standoff\":15},\"zerolinecolor\":\"white\",\"automargin\":true,\"zerolinewidth\":2},\"scene\":{\"xaxis\":{\"backgroundcolor\":\"#E5ECF6\",\"gridcolor\":\"white\",\"linecolor\":\"white\",\"showbackground\":true,\"ticks\":\"\",\"zerolinecolor\":\"white\",\"gridwidth\":2},\"yaxis\":{\"backgroundcolor\":\"#E5ECF6\",\"gridcolor\":\"white\",\"linecolor\":\"white\",\"showbackground\":true,\"ticks\":\"\",\"zerolinecolor\":\"white\",\"gridwidth\":2},\"zaxis\":{\"backgroundcolor\":\"#E5ECF6\",\"gridcolor\":\"white\",\"linecolor\":\"white\",\"showbackground\":true,\"ticks\":\"\",\"zerolinecolor\":\"white\",\"gridwidth\":2}},\"shapedefaults\":{\"line\":{\"color\":\"#2a3f5f\"}},\"annotationdefaults\":{\"arrowcolor\":\"#2a3f5f\",\"arrowhead\":0,\"arrowwidth\":1},\"geo\":{\"bgcolor\":\"white\",\"landcolor\":\"#E5ECF6\",\"subunitcolor\":\"white\",\"showland\":true,\"showlakes\":true,\"lakecolor\":\"white\"},\"title\":{\"x\":0.05},\"mapbox\":{\"style\":\"light\"}}},\"xaxis\":{\"anchor\":\"y\",\"domain\":[0.0,1.0],\"title\":{\"text\":\"Year\"}},\"yaxis\":{\"anchor\":\"x\",\"domain\":[0.0,1.0],\"title\":{\"text\":\"Launch Count\"}},\"legend\":{\"tracegroupgap\":0},\"title\":{\"text\":\"Number of Launches per Year\"},\"barmode\":\"relative\"},                        {\"responsive\": true}                    ).then(function(){\n",
              "                            \n",
              "var gd = document.getElementById('19b9b18c-b404-43bf-844b-a2736f4732e6');\n",
              "var x = new MutationObserver(function (mutations, observer) {{\n",
              "        var display = window.getComputedStyle(gd).display;\n",
              "        if (!display || display === 'none') {{\n",
              "            console.log([gd, 'removed!']);\n",
              "            Plotly.purge(gd);\n",
              "            observer.disconnect();\n",
              "        }}\n",
              "}});\n",
              "\n",
              "// Listen for the removal of the full notebook cells\n",
              "var notebookContainer = gd.closest('#notebook-container');\n",
              "if (notebookContainer) {{\n",
              "    x.observe(notebookContainer, {childList: true});\n",
              "}}\n",
              "\n",
              "// Listen for the clearing of the current output cell\n",
              "var outputEl = gd.closest('.output');\n",
              "if (outputEl) {{\n",
              "    x.observe(outputEl, {childList: true});\n",
              "}}\n",
              "\n",
              "                        })                };            </script>        </div>\n",
              "</body>\n",
              "</html>"
            ]
          },
          "metadata": {}
        }
      ]
    },
    {
      "cell_type": "markdown",
      "metadata": {
        "id": "NomJVLi3tIaM"
      },
      "source": [
        "# Chart the Number of Launches Month-on-Month until the Present\n",
        "\n",
        "Which month has seen the highest number of launches in all time? Superimpose a rolling average on the month on month time series chart."
      ]
    },
    {
      "cell_type": "code",
      "metadata": {
        "id": "H1N2aBs5tH9z",
        "colab": {
          "base_uri": "https://localhost:8080/",
          "height": 611
        },
        "outputId": "58e569f4-cd80-4abb-bda5-37edd370296a"
      },
      "source": [
        "df_data['Month_Year'] = df_data['Date'].dt.to_period('M').astype(str)\n",
        "\n",
        "launches_by_month_year = df_data['Month_Year'].value_counts().sort_index().reset_index()\n",
        "launches_by_month_year.columns = ['Month_Year', 'Launch Count']\n",
        "\n",
        "launches_by_month_year['Rolling Average'] = launches_by_month_year['Launch Count'].rolling(window=12).mean()\n",
        "\n",
        "fig = px.line(launches_by_month_year,\n",
        "              x='Month_Year',\n",
        "              y=['Launch Count', 'Rolling Average'],\n",
        "              title='Number of Launches Month-on-Month with Rolling Average')\n",
        "fig.show()"
      ],
      "execution_count": 25,
      "outputs": [
        {
          "output_type": "stream",
          "name": "stderr",
          "text": [
            "/tmp/ipython-input-137402778.py:1: UserWarning:\n",
            "\n",
            "Converting to PeriodArray/Index representation will drop timezone information.\n",
            "\n"
          ]
        },
        {
          "output_type": "display_data",
          "data": {
            "text/html": [
              "<html>\n",
              "<head><meta charset=\"utf-8\" /></head>\n",
              "<body>\n",
              "    <div>            <script src=\"https://cdnjs.cloudflare.com/ajax/libs/mathjax/2.7.5/MathJax.js?config=TeX-AMS-MML_SVG\"></script><script type=\"text/javascript\">if (window.MathJax && window.MathJax.Hub && window.MathJax.Hub.Config) {window.MathJax.Hub.Config({SVG: {font: \"STIX-Web\"}});}</script>                <script type=\"text/javascript\">window.PlotlyConfig = {MathJaxConfig: 'local'};</script>\n",
              "        <script charset=\"utf-8\" src=\"https://cdn.plot.ly/plotly-3.1.0.min.js\" integrity=\"sha256-Ei4740bWZhaUTQuD6q9yQlgVCMPBz6CZWhevDYPv93A=\" crossorigin=\"anonymous\"></script>                <div id=\"c563be21-ab41-45b5-a286-1d697cce111b\" class=\"plotly-graph-div\" style=\"height:525px; width:100%;\"></div>            <script type=\"text/javascript\">                window.PLOTLYENV=window.PLOTLYENV || {};                                if (document.getElementById(\"c563be21-ab41-45b5-a286-1d697cce111b\")) {                    Plotly.newPlot(                        \"c563be21-ab41-45b5-a286-1d697cce111b\",                        [{\"hovertemplate\":\"variable=Launch Count\\u003cbr\\u003eMonth_Year=%{x}\\u003cbr\\u003evalue=%{y}\\u003cextra\\u003e\\u003c\\u002fextra\\u003e\",\"legendgroup\":\"Launch Count\",\"line\":{\"color\":\"#636efa\",\"dash\":\"solid\"},\"marker\":{\"symbol\":\"circle\"},\"mode\":\"lines\",\"name\":\"Launch Count\",\"showlegend\":true,\"x\":[\"1957-10\",\"1957-11\",\"1957-12\",\"1958-02\",\"1958-03\",\"1958-04\",\"1958-05\",\"1958-06\",\"1958-07\",\"1958-08\",\"1958-09\",\"1958-10\",\"1958-11\",\"1958-12\",\"1959-01\",\"1959-02\",\"1959-04\",\"1959-06\",\"1959-08\",\"1959-09\",\"1959-10\",\"1959-11\",\"1960-02\",\"1960-03\",\"1960-04\",\"1960-05\",\"1960-06\",\"1960-07\",\"1960-08\",\"1960-09\",\"1960-10\",\"1960-11\",\"1960-12\",\"1961-01\",\"1961-02\",\"1961-03\",\"1961-04\",\"1961-05\",\"1961-06\",\"1961-07\",\"1961-08\",\"1961-09\",\"1961-10\",\"1961-11\",\"1961-12\",\"1962-01\",\"1962-02\",\"1962-03\",\"1962-04\",\"1962-05\",\"1962-06\",\"1962-07\",\"1962-08\",\"1962-09\",\"1962-10\",\"1962-11\",\"1962-12\",\"1963-01\",\"1963-02\",\"1963-03\",\"1963-04\",\"1963-05\",\"1963-06\",\"1963-07\",\"1963-08\",\"1963-09\",\"1963-10\",\"1963-11\",\"1963-12\",\"1964-01\",\"1964-02\",\"1964-03\",\"1964-04\",\"1964-05\",\"1964-06\",\"1964-07\",\"1964-08\",\"1964-09\",\"1964-10\",\"1964-11\",\"1964-12\",\"1965-01\",\"1965-02\",\"1965-03\",\"1965-04\",\"1965-05\",\"1965-06\",\"1965-07\",\"1965-08\",\"1965-09\",\"1965-10\",\"1965-11\",\"1965-12\",\"1966-01\",\"1966-02\",\"1966-03\",\"1966-04\",\"1966-05\",\"1966-06\",\"1966-07\",\"1966-08\",\"1966-09\",\"1966-10\",\"1966-11\",\"1966-12\",\"1967-01\",\"1967-02\",\"1967-03\",\"1967-04\",\"1967-05\",\"1967-06\",\"1967-07\",\"1967-08\",\"1967-09\",\"1967-10\",\"1967-11\",\"1967-12\",\"1968-01\",\"1968-02\",\"1968-03\",\"1968-04\",\"1968-05\",\"1968-06\",\"1968-07\",\"1968-08\",\"1968-09\",\"1968-10\",\"1968-11\",\"1968-12\",\"1969-01\",\"1969-02\",\"1969-03\",\"1969-04\",\"1969-05\",\"1969-06\",\"1969-07\",\"1969-08\",\"1969-09\",\"1969-10\",\"1969-11\",\"1969-12\",\"1970-01\",\"1970-02\",\"1970-03\",\"1970-04\",\"1970-05\",\"1970-06\",\"1970-07\",\"1970-08\",\"1970-09\",\"1970-10\",\"1970-11\",\"1970-12\",\"1971-01\",\"1971-02\",\"1971-03\",\"1971-04\",\"1971-05\",\"1971-06\",\"1971-07\",\"1971-08\",\"1971-09\",\"1971-10\",\"1971-11\",\"1971-12\",\"1972-01\",\"1972-02\",\"1972-03\",\"1972-04\",\"1972-05\",\"1972-06\",\"1972-07\",\"1972-08\",\"1972-09\",\"1972-10\",\"1972-11\",\"1972-12\",\"1973-01\",\"1973-02\",\"1973-03\",\"1973-04\",\"1973-05\",\"1973-06\",\"1973-07\",\"1973-08\",\"1973-09\",\"1973-10\",\"1973-11\",\"1973-12\",\"1974-01\",\"1974-02\",\"1974-03\",\"1974-04\",\"1974-05\",\"1974-06\",\"1974-07\",\"1974-08\",\"1974-09\",\"1974-10\",\"1974-11\",\"1974-12\",\"1975-01\",\"1975-02\",\"1975-03\",\"1975-04\",\"1975-05\",\"1975-06\",\"1975-07\",\"1975-08\",\"1975-09\",\"1975-10\",\"1975-11\",\"1975-12\",\"1976-01\",\"1976-02\",\"1976-03\",\"1976-04\",\"1976-05\",\"1976-06\",\"1976-07\",\"1976-08\",\"1976-09\",\"1976-10\",\"1976-11\",\"1976-12\",\"1977-01\",\"1977-02\",\"1977-03\",\"1977-04\",\"1977-05\",\"1977-06\",\"1977-07\",\"1977-08\",\"1977-09\",\"1977-10\",\"1977-11\",\"1977-12\",\"1978-01\",\"1978-02\",\"1978-03\",\"1978-04\",\"1978-05\",\"1978-06\",\"1978-07\",\"1978-08\",\"1978-09\",\"1978-10\",\"1978-11\",\"1978-12\",\"1979-01\",\"1979-02\",\"1979-03\",\"1979-04\",\"1979-05\",\"1979-06\",\"1979-07\",\"1979-08\",\"1979-09\",\"1979-10\",\"1979-11\",\"1979-12\",\"1980-01\",\"1980-02\",\"1980-03\",\"1980-04\",\"1980-05\",\"1980-06\",\"1980-07\",\"1980-08\",\"1980-09\",\"1980-10\",\"1980-11\",\"1980-12\",\"1981-01\",\"1981-02\",\"1981-03\",\"1981-04\",\"1981-05\",\"1981-06\",\"1981-07\",\"1981-08\",\"1981-09\",\"1981-10\",\"1981-11\",\"1981-12\",\"1982-01\",\"1982-02\",\"1982-03\",\"1982-04\",\"1982-05\",\"1982-06\",\"1982-07\",\"1982-08\",\"1982-09\",\"1982-10\",\"1982-11\",\"1982-12\",\"1983-01\",\"1983-02\",\"1983-03\",\"1983-04\",\"1983-05\",\"1983-06\",\"1983-07\",\"1983-08\",\"1983-09\",\"1983-10\",\"1983-11\",\"1983-12\",\"1984-01\",\"1984-02\",\"1984-03\",\"1984-04\",\"1984-05\",\"1984-06\",\"1984-07\",\"1984-08\",\"1984-09\",\"1984-10\",\"1984-11\",\"1984-12\",\"1985-01\",\"1985-02\",\"1985-03\",\"1985-04\",\"1985-05\",\"1985-06\",\"1985-07\",\"1985-08\",\"1985-09\",\"1985-10\",\"1985-11\",\"1985-12\",\"1986-01\",\"1986-02\",\"1986-03\",\"1986-04\",\"1986-05\",\"1986-06\",\"1986-07\",\"1986-08\",\"1986-09\",\"1986-10\",\"1986-11\",\"1986-12\",\"1987-01\",\"1987-02\",\"1987-03\",\"1987-04\",\"1987-05\",\"1987-06\",\"1987-07\",\"1987-08\",\"1987-09\",\"1987-10\",\"1987-11\",\"1987-12\",\"1988-01\",\"1988-02\",\"1988-03\",\"1988-04\",\"1988-05\",\"1988-06\",\"1988-07\",\"1988-08\",\"1988-09\",\"1988-10\",\"1988-11\",\"1988-12\",\"1989-01\",\"1989-02\",\"1989-03\",\"1989-04\",\"1989-05\",\"1989-06\",\"1989-07\",\"1989-08\",\"1989-09\",\"1989-10\",\"1989-11\",\"1989-12\",\"1990-01\",\"1990-02\",\"1990-03\",\"1990-04\",\"1990-05\",\"1990-06\",\"1990-07\",\"1990-08\",\"1990-09\",\"1990-10\",\"1990-11\",\"1990-12\",\"1991-01\",\"1991-02\",\"1991-03\",\"1991-04\",\"1991-05\",\"1991-06\",\"1991-07\",\"1991-08\",\"1991-09\",\"1991-10\",\"1991-11\",\"1991-12\",\"1992-01\",\"1992-02\",\"1992-03\",\"1992-04\",\"1992-05\",\"1992-06\",\"1992-07\",\"1992-08\",\"1992-09\",\"1992-10\",\"1992-11\",\"1992-12\",\"1993-01\",\"1993-02\",\"1993-03\",\"1993-04\",\"1993-05\",\"1993-06\",\"1993-07\",\"1993-08\",\"1993-09\",\"1993-10\",\"1993-11\",\"1993-12\",\"1994-01\",\"1994-02\",\"1994-03\",\"1994-04\",\"1994-05\",\"1994-06\",\"1994-07\",\"1994-08\",\"1994-09\",\"1994-10\",\"1994-11\",\"1994-12\",\"1995-01\",\"1995-02\",\"1995-03\",\"1995-04\",\"1995-05\",\"1995-06\",\"1995-07\",\"1995-08\",\"1995-09\",\"1995-10\",\"1995-11\",\"1995-12\",\"1996-01\",\"1996-02\",\"1996-03\",\"1996-04\",\"1996-05\",\"1996-06\",\"1996-07\",\"1996-08\",\"1996-09\",\"1996-10\",\"1996-11\",\"1996-12\",\"1997-01\",\"1997-02\",\"1997-03\",\"1997-04\",\"1997-05\",\"1997-06\",\"1997-07\",\"1997-08\",\"1997-09\",\"1997-10\",\"1997-11\",\"1997-12\",\"1998-01\",\"1998-02\",\"1998-03\",\"1998-04\",\"1998-05\",\"1998-06\",\"1998-07\",\"1998-08\",\"1998-09\",\"1998-10\",\"1998-11\",\"1998-12\",\"1999-01\",\"1999-02\",\"1999-03\",\"1999-04\",\"1999-05\",\"1999-06\",\"1999-07\",\"1999-08\",\"1999-09\",\"1999-10\",\"1999-11\",\"1999-12\",\"2000-01\",\"2000-02\",\"2000-03\",\"2000-04\",\"2000-05\",\"2000-06\",\"2000-07\",\"2000-08\",\"2000-09\",\"2000-10\",\"2000-11\",\"2000-12\",\"2001-01\",\"2001-02\",\"2001-03\",\"2001-04\",\"2001-05\",\"2001-06\",\"2001-07\",\"2001-08\",\"2001-09\",\"2001-10\",\"2001-11\",\"2001-12\",\"2002-01\",\"2002-02\",\"2002-03\",\"2002-04\",\"2002-05\",\"2002-06\",\"2002-07\",\"2002-08\",\"2002-09\",\"2002-10\",\"2002-11\",\"2002-12\",\"2003-01\",\"2003-02\",\"2003-03\",\"2003-04\",\"2003-05\",\"2003-06\",\"2003-07\",\"2003-08\",\"2003-09\",\"2003-10\",\"2003-11\",\"2003-12\",\"2004-01\",\"2004-02\",\"2004-03\",\"2004-04\",\"2004-05\",\"2004-06\",\"2004-07\",\"2004-08\",\"2004-09\",\"2004-10\",\"2004-11\",\"2004-12\",\"2005-01\",\"2005-02\",\"2005-03\",\"2005-04\",\"2005-05\",\"2005-06\",\"2005-07\",\"2005-08\",\"2005-09\",\"2005-10\",\"2005-11\",\"2005-12\",\"2006-01\",\"2006-02\",\"2006-03\",\"2006-04\",\"2006-05\",\"2006-06\",\"2006-07\",\"2006-08\",\"2006-09\",\"2006-10\",\"2006-11\",\"2006-12\",\"2007-01\",\"2007-02\",\"2007-03\",\"2007-04\",\"2007-05\",\"2007-06\",\"2007-07\",\"2007-08\",\"2007-09\",\"2007-10\",\"2007-11\",\"2007-12\",\"2008-01\",\"2008-02\",\"2008-03\",\"2008-04\",\"2008-05\",\"2008-06\",\"2008-07\",\"2008-08\",\"2008-09\",\"2008-10\",\"2008-11\",\"2008-12\",\"2009-01\",\"2009-02\",\"2009-03\",\"2009-04\",\"2009-05\",\"2009-06\",\"2009-07\",\"2009-08\",\"2009-09\",\"2009-10\",\"2009-11\",\"2009-12\",\"2010-02\",\"2010-03\",\"2010-04\",\"2010-05\",\"2010-06\",\"2010-07\",\"2010-08\",\"2010-09\",\"2010-10\",\"2010-11\",\"2010-12\",\"2011-01\",\"2011-02\",\"2011-03\",\"2011-04\",\"2011-05\",\"2011-06\",\"2011-07\",\"2011-08\",\"2011-09\",\"2011-10\",\"2011-11\",\"2011-12\",\"2012-01\",\"2012-02\",\"2012-03\",\"2012-04\",\"2012-05\",\"2012-06\",\"2012-07\",\"2012-08\",\"2012-09\",\"2012-10\",\"2012-11\",\"2012-12\",\"2013-01\",\"2013-02\",\"2013-03\",\"2013-04\",\"2013-05\",\"2013-06\",\"2013-07\",\"2013-08\",\"2013-09\",\"2013-11\",\"2013-12\",\"2014-01\",\"2014-02\",\"2014-03\",\"2014-04\",\"2014-05\",\"2014-06\",\"2014-07\",\"2014-08\",\"2014-09\",\"2014-10\",\"2014-11\",\"2014-12\",\"2015-01\",\"2015-02\",\"2015-03\",\"2015-04\",\"2015-05\",\"2015-06\",\"2015-07\",\"2015-08\",\"2015-09\",\"2015-10\",\"2015-11\",\"2015-12\",\"2016-01\",\"2016-02\",\"2016-03\",\"2016-04\",\"2016-05\",\"2016-06\",\"2016-07\",\"2016-08\",\"2016-09\",\"2016-10\",\"2016-11\",\"2016-12\",\"2017-01\",\"2017-02\",\"2017-03\",\"2017-04\",\"2017-05\",\"2017-06\",\"2017-07\",\"2017-08\",\"2017-09\",\"2017-10\",\"2017-11\",\"2017-12\",\"2018-01\",\"2018-02\",\"2018-03\",\"2018-04\",\"2018-05\",\"2018-06\",\"2018-07\",\"2018-08\",\"2018-09\",\"2018-10\",\"2018-11\",\"2018-12\",\"2019-01\",\"2019-02\",\"2019-03\",\"2019-04\",\"2019-05\",\"2019-06\",\"2019-07\",\"2019-08\",\"2019-09\",\"2019-10\",\"2019-11\",\"2019-12\",\"2020-01\",\"2020-02\",\"2020-03\",\"2020-04\",\"2020-05\",\"2020-06\",\"2020-07\",\"2020-08\"],\"xaxis\":\"x\",\"y\":{\"dtype\":\"f8\",\"bdata\":\"AAAAAAAA8D8AAAAAAADwPwAAAAAAAPA\\u002fAAAAAAAAAEAAAAAAAAAIQAAAAAAAAABAAAAAAAAAAEAAAAAAAADwPwAAAAAAAABAAAAAAAAAHEAAAAAAAAAAQAAAAAAAAAhAAAAAAAAA8D8AAAAAAAAIQAAAAAAAAPA\\u002fAAAAAAAAAEAAAAAAAAAAQAAAAAAAABBAAAAAAAAACEAAAAAAAAAQQAAAAAAAAPA\\u002fAAAAAAAACEAAAAAAAAAIQAAAAAAAAPA\\u002fAAAAAAAAFEAAAAAAAAAIQAAAAAAAAABAAAAAAAAAAEAAAAAAAAAUQAAAAAAAAABAAAAAAAAAFEAAAAAAAAAQQAAAAAAAABxAAAAAAAAAAEAAAAAAAAAcQAAAAAAAABRAAAAAAAAACEAAAAAAAADwPwAAAAAAABBAAAAAAAAAFEAAAAAAAAAYQAAAAAAAABBAAAAAAAAAEEAAAAAAAAAcQAAAAAAAABBAAAAAAAAACEAAAAAAAAAQQAAAAAAAAAhAAAAAAAAAJEAAAAAAAAAcQAAAAAAAACBAAAAAAAAAGEAAAAAAAAAiQAAAAAAAACBAAAAAAAAAJkAAAAAAAAAUQAAAAAAAACBAAAAAAAAA8D8AAAAAAAAAQAAAAAAAAPA\\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\\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\\u002fAAAAAAAAAEAAAAAAAAAQQAAAAAAAAPA\\u002fAAAAAAAAEEAAAAAAAAAIQAAAAAAAAAhAAAAAAAAAEEAAAAAAAAAIQAAAAAAAAAhAAAAAAAAACEAAAAAAAAAIQAAAAAAAABBAAAAAAAAACEAAAAAAAAAcQAAAAAAAABRAAAAAAAAAAEAAAAAAAAAAQAAAAAAAAPA\\u002fAAAAAAAACEAAAAAAAADwPwAAAAAAABBAAAAAAAAAFEAAAAAAAAAUQAAAAAAAAAhAAAAAAAAACEAAAAAAAAAQQAAAAAAAAAhAAAAAAAAA8D8AAAAAAAAUQAAAAAAAABBAAAAAAAAAEEAAAAAAAAAAQAAAAAAAAPA\\u002fAAAAAAAACEAAAAAAAAAUQAAAAAAAABBAAAAAAAAAGEAAAAAAAAAcQAAAAAAAABRAAAAAAAAAFEAAAAAAAAAQQAAAAAAAAAhAAAAAAAAA8D8AAAAAAAAcQAAAAAAAABRAAAAAAAAAAEAAAAAAAAAgQAAAAAAAABBAAAAAAAAAEEAAAAAAAAAUQAAAAAAAAABAAAAAAAAAIEAAAAAAAAAIQAAAAAAAABRAAAAAAAAAIEAAAAAAAAAQQAAAAAAAAABAAAAAAAAAAEAAAAAAAAAQQAAAAAAAAAhAAAAAAAAAHEAAAAAAAAAIQAAAAAAAABBAAAAAAAAAHEAAAAAAAAAYQAAAAAAAABxAAAAAAAAAJEAAAAAAAAAYQAAAAAAAABhAAAAAAAAAJkAAAAAAAAAQQAAAAAAAABxAAAAAAAAAHEAAAAAAAAAUQAAAAAAAACJAAAAAAAAAKEAAAAAAAAAcQAAAAAAAABBAAAAAAAAAHEAAAAAAAAAQQAAAAAAAABxAAAAAAAAAKkAAAAAAAAAUQAAAAAAAACRAAAAAAAAAGEAAAAAAAAAiQAAAAAAAACBAAAAAAAAAKEAAAAAAAAAqQAAAAAAAACBAAAAAAAAAJEAAAAAAAAAkQAAAAAAAABxAAAAAAAAAIEAAAAAAAAAiQAAAAAAAABRAAAAAAAAAIEAAAAAAAAAmQAAAAAAAACpAAAAAAAAALkAAAAAAAAAgQAAAAAAAABRAAAAAAAAAIkAAAAAAAAAcQAAAAAAAACJAAAAAAAAAHEAAAAAAAAAmQAAAAAAAAChAAAAAAAAAHEAAAAAAAAAYQAAAAAAAAChAAAAAAAAAMEAAAAAAAAAgQAAAAAAAACJAAAAAAAAAIEAAAAAAAAAUQAAAAAAAACJAAAAAAAAAHEAAAAAAAAAsQAAAAAAAAAhA\"},\"yaxis\":\"y\",\"type\":\"scattergl\"},{\"hovertemplate\":\"variable=Rolling Average\\u003cbr\\u003eMonth_Year=%{x}\\u003cbr\\u003evalue=%{y}\\u003cextra\\u003e\\u003c\\u002fextra\\u003e\",\"legendgroup\":\"Rolling Average\",\"line\":{\"color\":\"#EF553B\",\"dash\":\"solid\"},\"marker\":{\"symbol\":\"circle\"},\"mode\":\"lines\",\"name\":\"Rolling Average\",\"showlegend\":true,\"x\":[\"1957-10\",\"1957-11\",\"1957-12\",\"1958-02\",\"1958-03\",\"1958-04\",\"1958-05\",\"1958-06\",\"1958-07\",\"1958-08\",\"1958-09\",\"1958-10\",\"1958-11\",\"1958-12\",\"1959-01\",\"1959-02\",\"1959-04\",\"1959-06\",\"1959-08\",\"1959-09\",\"1959-10\",\"1959-11\",\"1960-02\",\"1960-03\",\"1960-04\",\"1960-05\",\"1960-06\",\"1960-07\",\"1960-08\",\"1960-09\",\"1960-10\",\"1960-11\",\"1960-12\",\"1961-01\",\"1961-02\",\"1961-03\",\"1961-04\",\"1961-05\",\"1961-06\",\"1961-07\",\"1961-08\",\"1961-09\",\"1961-10\",\"1961-11\",\"1961-12\",\"1962-01\",\"1962-02\",\"1962-03\",\"1962-04\",\"1962-05\",\"1962-06\",\"1962-07\",\"1962-08\",\"1962-09\",\"1962-10\",\"1962-11\",\"1962-12\",\"1963-01\",\"1963-02\",\"1963-03\",\"1963-04\",\"1963-05\",\"1963-06\",\"1963-07\",\"1963-08\",\"1963-09\",\"1963-10\",\"1963-11\",\"1963-12\",\"1964-01\",\"1964-02\",\"1964-03\",\"1964-04\",\"1964-05\",\"1964-06\",\"1964-07\",\"1964-08\",\"1964-09\",\"1964-10\",\"1964-11\",\"1964-12\",\"1965-01\",\"1965-02\",\"1965-03\",\"1965-04\",\"1965-05\",\"1965-06\",\"1965-07\",\"1965-08\",\"1965-09\",\"1965-10\",\"1965-11\",\"1965-12\",\"1966-01\",\"1966-02\",\"1966-03\",\"1966-04\",\"1966-05\",\"1966-06\",\"1966-07\",\"1966-08\",\"1966-09\",\"1966-10\",\"1966-11\",\"1966-12\",\"1967-01\",\"1967-02\",\"1967-03\",\"1967-04\",\"1967-05\",\"1967-06\",\"1967-07\",\"1967-08\",\"1967-09\",\"1967-10\",\"1967-11\",\"1967-12\",\"1968-01\",\"1968-02\",\"1968-03\",\"1968-04\",\"1968-05\",\"1968-06\",\"1968-07\",\"1968-08\",\"1968-09\",\"1968-10\",\"1968-11\",\"1968-12\",\"1969-01\",\"1969-02\",\"1969-03\",\"1969-04\",\"1969-05\",\"1969-06\",\"1969-07\",\"1969-08\",\"1969-09\",\"1969-10\",\"1969-11\",\"1969-12\",\"1970-01\",\"1970-02\",\"1970-03\",\"1970-04\",\"1970-05\",\"1970-06\",\"1970-07\",\"1970-08\",\"1970-09\",\"1970-10\",\"1970-11\",\"1970-12\",\"1971-01\",\"1971-02\",\"1971-03\",\"1971-04\",\"1971-05\",\"1971-06\",\"1971-07\",\"1971-08\",\"1971-09\",\"1971-10\",\"1971-11\",\"1971-12\",\"1972-01\",\"1972-02\",\"1972-03\",\"1972-04\",\"1972-05\",\"1972-06\",\"1972-07\",\"1972-08\",\"1972-09\",\"1972-10\",\"1972-11\",\"1972-12\",\"1973-01\",\"1973-02\",\"1973-03\",\"1973-04\",\"1973-05\",\"1973-06\",\"1973-07\",\"1973-08\",\"1973-09\",\"1973-10\",\"1973-11\",\"1973-12\",\"1974-01\",\"1974-02\",\"1974-03\",\"1974-04\",\"1974-05\",\"1974-06\",\"1974-07\",\"1974-08\",\"1974-09\",\"1974-10\",\"1974-11\",\"1974-12\",\"1975-01\",\"1975-02\",\"1975-03\",\"1975-04\",\"1975-05\",\"1975-06\",\"1975-07\",\"1975-08\",\"1975-09\",\"1975-10\",\"1975-11\",\"1975-12\",\"1976-01\",\"1976-02\",\"1976-03\",\"1976-04\",\"1976-05\",\"1976-06\",\"1976-07\",\"1976-08\",\"1976-09\",\"1976-10\",\"1976-11\",\"1976-12\",\"1977-01\",\"1977-02\",\"1977-03\",\"1977-04\",\"1977-05\",\"1977-06\",\"1977-07\",\"1977-08\",\"1977-09\",\"1977-10\",\"1977-11\",\"1977-12\",\"1978-01\",\"1978-02\",\"1978-03\",\"1978-04\",\"1978-05\",\"1978-06\",\"1978-07\",\"1978-08\",\"1978-09\",\"1978-10\",\"1978-11\",\"1978-12\",\"1979-01\",\"1979-02\",\"1979-03\",\"1979-04\",\"1979-05\",\"1979-06\",\"1979-07\",\"1979-08\",\"1979-09\",\"1979-10\",\"1979-11\",\"1979-12\",\"1980-01\",\"1980-02\",\"1980-03\",\"1980-04\",\"1980-05\",\"1980-06\",\"1980-07\",\"1980-08\",\"1980-09\",\"1980-10\",\"1980-11\",\"1980-12\",\"1981-01\",\"1981-02\",\"1981-03\",\"1981-04\",\"1981-05\",\"1981-06\",\"1981-07\",\"1981-08\",\"1981-09\",\"1981-10\",\"1981-11\",\"1981-12\",\"1982-01\",\"1982-02\",\"1982-03\",\"1982-04\",\"1982-05\",\"1982-06\",\"1982-07\",\"1982-08\",\"1982-09\",\"1982-10\",\"1982-11\",\"1982-12\",\"1983-01\",\"1983-02\",\"1983-03\",\"1983-04\",\"1983-05\",\"1983-06\",\"1983-07\",\"1983-08\",\"1983-09\",\"1983-10\",\"1983-11\",\"1983-12\",\"1984-01\",\"1984-02\",\"1984-03\",\"1984-04\",\"1984-05\",\"1984-06\",\"1984-07\",\"1984-08\",\"1984-09\",\"1984-10\",\"1984-11\",\"1984-12\",\"1985-01\",\"1985-02\",\"1985-03\",\"1985-04\",\"1985-05\",\"1985-06\",\"1985-07\",\"1985-08\",\"1985-09\",\"1985-10\",\"1985-11\",\"1985-12\",\"1986-01\",\"1986-02\",\"1986-03\",\"1986-04\",\"1986-05\",\"1986-06\",\"1986-07\",\"1986-08\",\"1986-09\",\"1986-10\",\"1986-11\",\"1986-12\",\"1987-01\",\"1987-02\",\"1987-03\",\"1987-04\",\"1987-05\",\"1987-06\",\"1987-07\",\"1987-08\",\"1987-09\",\"1987-10\",\"1987-11\",\"1987-12\",\"1988-01\",\"1988-02\",\"1988-03\",\"1988-04\",\"1988-05\",\"1988-06\",\"1988-07\",\"1988-08\",\"1988-09\",\"1988-10\",\"1988-11\",\"1988-12\",\"1989-01\",\"1989-02\",\"1989-03\",\"1989-04\",\"1989-05\",\"1989-06\",\"1989-07\",\"1989-08\",\"1989-09\",\"1989-10\",\"1989-11\",\"1989-12\",\"1990-01\",\"1990-02\",\"1990-03\",\"1990-04\",\"1990-05\",\"1990-06\",\"1990-07\",\"1990-08\",\"1990-09\",\"1990-10\",\"1990-11\",\"1990-12\",\"1991-01\",\"1991-02\",\"1991-03\",\"1991-04\",\"1991-05\",\"1991-06\",\"1991-07\",\"1991-08\",\"1991-09\",\"1991-10\",\"1991-11\",\"1991-12\",\"1992-01\",\"1992-02\",\"1992-03\",\"1992-04\",\"1992-05\",\"1992-06\",\"1992-07\",\"1992-08\",\"1992-09\",\"1992-10\",\"1992-11\",\"1992-12\",\"1993-01\",\"1993-02\",\"1993-03\",\"1993-04\",\"1993-05\",\"1993-06\",\"1993-07\",\"1993-08\",\"1993-09\",\"1993-10\",\"1993-11\",\"1993-12\",\"1994-01\",\"1994-02\",\"1994-03\",\"1994-04\",\"1994-05\",\"1994-06\",\"1994-07\",\"1994-08\",\"1994-09\",\"1994-10\",\"1994-11\",\"1994-12\",\"1995-01\",\"1995-02\",\"1995-03\",\"1995-04\",\"1995-05\",\"1995-06\",\"1995-07\",\"1995-08\",\"1995-09\",\"1995-10\",\"1995-11\",\"1995-12\",\"1996-01\",\"1996-02\",\"1996-03\",\"1996-04\",\"1996-05\",\"1996-06\",\"1996-07\",\"1996-08\",\"1996-09\",\"1996-10\",\"1996-11\",\"1996-12\",\"1997-01\",\"1997-02\",\"1997-03\",\"1997-04\",\"1997-05\",\"1997-06\",\"1997-07\",\"1997-08\",\"1997-09\",\"1997-10\",\"1997-11\",\"1997-12\",\"1998-01\",\"1998-02\",\"1998-03\",\"1998-04\",\"1998-05\",\"1998-06\",\"1998-07\",\"1998-08\",\"1998-09\",\"1998-10\",\"1998-11\",\"1998-12\",\"1999-01\",\"1999-02\",\"1999-03\",\"1999-04\",\"1999-05\",\"1999-06\",\"1999-07\",\"1999-08\",\"1999-09\",\"1999-10\",\"1999-11\",\"1999-12\",\"2000-01\",\"2000-02\",\"2000-03\",\"2000-04\",\"2000-05\",\"2000-06\",\"2000-07\",\"2000-08\",\"2000-09\",\"2000-10\",\"2000-11\",\"2000-12\",\"2001-01\",\"2001-02\",\"2001-03\",\"2001-04\",\"2001-05\",\"2001-06\",\"2001-07\",\"2001-08\",\"2001-09\",\"2001-10\",\"2001-11\",\"2001-12\",\"2002-01\",\"2002-02\",\"2002-03\",\"2002-04\",\"2002-05\",\"2002-06\",\"2002-07\",\"2002-08\",\"2002-09\",\"2002-10\",\"2002-11\",\"2002-12\",\"2003-01\",\"2003-02\",\"2003-03\",\"2003-04\",\"2003-05\",\"2003-06\",\"2003-07\",\"2003-08\",\"2003-09\",\"2003-10\",\"2003-11\",\"2003-12\",\"2004-01\",\"2004-02\",\"2004-03\",\"2004-04\",\"2004-05\",\"2004-06\",\"2004-07\",\"2004-08\",\"2004-09\",\"2004-10\",\"2004-11\",\"2004-12\",\"2005-01\",\"2005-02\",\"2005-03\",\"2005-04\",\"2005-05\",\"2005-06\",\"2005-07\",\"2005-08\",\"2005-09\",\"2005-10\",\"2005-11\",\"2005-12\",\"2006-01\",\"2006-02\",\"2006-03\",\"2006-04\",\"2006-05\",\"2006-06\",\"2006-07\",\"2006-08\",\"2006-09\",\"2006-10\",\"2006-11\",\"2006-12\",\"2007-01\",\"2007-02\",\"2007-03\",\"2007-04\",\"2007-05\",\"2007-06\",\"2007-07\",\"2007-08\",\"2007-09\",\"2007-10\",\"2007-11\",\"2007-12\",\"2008-01\",\"2008-02\",\"2008-03\",\"2008-04\",\"2008-05\",\"2008-06\",\"2008-07\",\"2008-08\",\"2008-09\",\"2008-10\",\"2008-11\",\"2008-12\",\"2009-01\",\"2009-02\",\"2009-03\",\"2009-04\",\"2009-05\",\"2009-06\",\"2009-07\",\"2009-08\",\"2009-09\",\"2009-10\",\"2009-11\",\"2009-12\",\"2010-02\",\"2010-03\",\"2010-04\",\"2010-05\",\"2010-06\",\"2010-07\",\"2010-08\",\"2010-09\",\"2010-10\",\"2010-11\",\"2010-12\",\"2011-01\",\"2011-02\",\"2011-03\",\"2011-04\",\"2011-05\",\"2011-06\",\"2011-07\",\"2011-08\",\"2011-09\",\"2011-10\",\"2011-11\",\"2011-12\",\"2012-01\",\"2012-02\",\"2012-03\",\"2012-04\",\"2012-05\",\"2012-06\",\"2012-07\",\"2012-08\",\"2012-09\",\"2012-10\",\"2012-11\",\"2012-12\",\"2013-01\",\"2013-02\",\"2013-03\",\"2013-04\",\"2013-05\",\"2013-06\",\"2013-07\",\"2013-08\",\"2013-09\",\"2013-11\",\"2013-12\",\"2014-01\",\"2014-02\",\"2014-03\",\"2014-04\",\"2014-05\",\"2014-06\",\"2014-07\",\"2014-08\",\"2014-09\",\"2014-10\",\"2014-11\",\"2014-12\",\"2015-01\",\"2015-02\",\"2015-03\",\"2015-04\",\"2015-05\",\"2015-06\",\"2015-07\",\"2015-08\",\"2015-09\",\"2015-10\",\"2015-11\",\"2015-12\",\"2016-01\",\"2016-02\",\"2016-03\",\"2016-04\",\"2016-05\",\"2016-06\",\"2016-07\",\"2016-08\",\"2016-09\",\"2016-10\",\"2016-11\",\"2016-12\",\"2017-01\",\"2017-02\",\"2017-03\",\"2017-04\",\"2017-05\",\"2017-06\",\"2017-07\",\"2017-08\",\"2017-09\",\"2017-10\",\"2017-11\",\"2017-12\",\"2018-01\",\"2018-02\",\"2018-03\",\"2018-04\",\"2018-05\",\"2018-06\",\"2018-07\",\"2018-08\",\"2018-09\",\"2018-10\",\"2018-11\",\"2018-12\",\"2019-01\",\"2019-02\",\"2019-03\",\"2019-04\",\"2019-05\",\"2019-06\",\"2019-07\",\"2019-08\",\"2019-09\",\"2019-10\",\"2019-11\",\"2019-12\",\"2020-01\",\"2020-02\",\"2020-03\",\"2020-04\",\"2020-05\",\"2020-06\",\"2020-07\",\"2020-08\"],\"xaxis\":\"x\",\"y\":{\"dtype\":\"f8\",\"bdata\":\"AAAAAAAA+H8AAAAAAAD4fwAAAAAAAPh\\u002fAAAAAAAA+H8AAAAAAAD4fwAAAAAAAPh\\u002fAAAAAAAA+H8AAAAAAAD4fwAAAAAAAPh\\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\"},\"yaxis\":\"y\",\"type\":\"scattergl\"}],                        {\"template\":{\"data\":{\"histogram2dcontour\":[{\"type\":\"histogram2dcontour\",\"colorbar\":{\"outlinewidth\":0,\"ticks\":\"\"},\"colorscale\":[[0.0,\"#0d0887\"],[0.1111111111111111,\"#46039f\"],[0.2222222222222222,\"#7201a8\"],[0.3333333333333333,\"#9c179e\"],[0.4444444444444444,\"#bd3786\"],[0.5555555555555556,\"#d8576b\"],[0.6666666666666666,\"#ed7953\"],[0.7777777777777778,\"#fb9f3a\"],[0.8888888888888888,\"#fdca26\"],[1.0,\"#f0f921\"]]}],\"choropleth\":[{\"type\":\"choropleth\",\"colorbar\":{\"outlinewidth\":0,\"ticks\":\"\"}}],\"histogram2d\":[{\"type\":\"histogram2d\",\"colorbar\":{\"outlinewidth\":0,\"ticks\":\"\"},\"colorscale\":[[0.0,\"#0d0887\"],[0.1111111111111111,\"#46039f\"],[0.2222222222222222,\"#7201a8\"],[0.3333333333333333,\"#9c179e\"],[0.4444444444444444,\"#bd3786\"],[0.5555555555555556,\"#d8576b\"],[0.6666666666666666,\"#ed7953\"],[0.7777777777777778,\"#fb9f3a\"],[0.8888888888888888,\"#fdca26\"],[1.0,\"#f0f921\"]]}],\"heatmap\":[{\"type\":\"heatmap\",\"colorbar\":{\"outlinewidth\":0,\"ticks\":\"\"},\"colorscale\":[[0.0,\"#0d0887\"],[0.1111111111111111,\"#46039f\"],[0.2222222222222222,\"#7201a8\"],[0.3333333333333333,\"#9c179e\"],[0.4444444444444444,\"#bd3786\"],[0.5555555555555556,\"#d8576b\"],[0.6666666666666666,\"#ed7953\"],[0.7777777777777778,\"#fb9f3a\"],[0.8888888888888888,\"#fdca26\"],[1.0,\"#f0f921\"]]}],\"contourcarpet\":[{\"type\":\"contourcarpet\",\"colorbar\":{\"outlinewidth\":0,\"ticks\":\"\"}}],\"contour\":[{\"type\":\"contour\",\"colorbar\":{\"outlinewidth\":0,\"ticks\":\"\"},\"colorscale\":[[0.0,\"#0d0887\"],[0.1111111111111111,\"#46039f\"],[0.2222222222222222,\"#7201a8\"],[0.3333333333333333,\"#9c179e\"],[0.4444444444444444,\"#bd3786\"],[0.5555555555555556,\"#d8576b\"],[0.6666666666666666,\"#ed7953\"],[0.7777777777777778,\"#fb9f3a\"],[0.8888888888888888,\"#fdca26\"],[1.0,\"#f0f921\"]]}],\"surface\":[{\"type\":\"surface\",\"colorbar\":{\"outlinewidth\":0,\"ticks\":\"\"},\"colorscale\":[[0.0,\"#0d0887\"],[0.1111111111111111,\"#46039f\"],[0.2222222222222222,\"#7201a8\"],[0.3333333333333333,\"#9c179e\"],[0.4444444444444444,\"#bd3786\"],[0.5555555555555556,\"#d8576b\"],[0.6666666666666666,\"#ed7953\"],[0.7777777777777778,\"#fb9f3a\"],[0.8888888888888888,\"#fdca26\"],[1.0,\"#f0f921\"]]}],\"mesh3d\":[{\"type\":\"mesh3d\",\"colorbar\":{\"outlinewidth\":0,\"ticks\":\"\"}}],\"scatter\":[{\"fillpattern\":{\"fillmode\":\"overlay\",\"size\":10,\"solidity\":0.2},\"type\":\"scatter\"}],\"parcoords\":[{\"type\":\"parcoords\",\"line\":{\"colorbar\":{\"outlinewidth\":0,\"ticks\":\"\"}}}],\"scatterpolargl\":[{\"type\":\"scatterpolargl\",\"marker\":{\"colorbar\":{\"outlinewidth\":0,\"ticks\":\"\"}}}],\"bar\":[{\"error_x\":{\"color\":\"#2a3f5f\"},\"error_y\":{\"color\":\"#2a3f5f\"},\"marker\":{\"line\":{\"color\":\"#E5ECF6\",\"width\":0.5},\"pattern\":{\"fillmode\":\"overlay\",\"size\":10,\"solidity\":0.2}},\"type\":\"bar\"}],\"scattergeo\":[{\"type\":\"scattergeo\",\"marker\":{\"colorbar\":{\"outlinewidth\":0,\"ticks\":\"\"}}}],\"scatterpolar\":[{\"type\":\"scatterpolar\",\"marker\":{\"colorbar\":{\"outlinewidth\":0,\"ticks\":\"\"}}}],\"histogram\":[{\"marker\":{\"pattern\":{\"fillmode\":\"overlay\",\"size\":10,\"solidity\":0.2}},\"type\":\"histogram\"}],\"scattergl\":[{\"type\":\"scattergl\",\"marker\":{\"colorbar\":{\"outlinewidth\":0,\"ticks\":\"\"}}}],\"scatter3d\":[{\"type\":\"scatter3d\",\"line\":{\"colorbar\":{\"outlinewidth\":0,\"ticks\":\"\"}},\"marker\":{\"colorbar\":{\"outlinewidth\":0,\"ticks\":\"\"}}}],\"scattermap\":[{\"type\":\"scattermap\",\"marker\":{\"colorbar\":{\"outlinewidth\":0,\"ticks\":\"\"}}}],\"scattermapbox\":[{\"type\":\"scattermapbox\",\"marker\":{\"colorbar\":{\"outlinewidth\":0,\"ticks\":\"\"}}}],\"scatterternary\":[{\"type\":\"scatterternary\",\"marker\":{\"colorbar\":{\"outlinewidth\":0,\"ticks\":\"\"}}}],\"scattercarpet\":[{\"type\":\"scattercarpet\",\"marker\":{\"colorbar\":{\"outlinewidth\":0,\"ticks\":\"\"}}}],\"carpet\":[{\"aaxis\":{\"endlinecolor\":\"#2a3f5f\",\"gridcolor\":\"white\",\"linecolor\":\"white\",\"minorgridcolor\":\"white\",\"startlinecolor\":\"#2a3f5f\"},\"baxis\":{\"endlinecolor\":\"#2a3f5f\",\"gridcolor\":\"white\",\"linecolor\":\"white\",\"minorgridcolor\":\"white\",\"startlinecolor\":\"#2a3f5f\"},\"type\":\"carpet\"}],\"table\":[{\"cells\":{\"fill\":{\"color\":\"#EBF0F8\"},\"line\":{\"color\":\"white\"}},\"header\":{\"fill\":{\"color\":\"#C8D4E3\"},\"line\":{\"color\":\"white\"}},\"type\":\"table\"}],\"barpolar\":[{\"marker\":{\"line\":{\"color\":\"#E5ECF6\",\"width\":0.5},\"pattern\":{\"fillmode\":\"overlay\",\"size\":10,\"solidity\":0.2}},\"type\":\"barpolar\"}],\"pie\":[{\"automargin\":true,\"type\":\"pie\"}]},\"layout\":{\"autotypenumbers\":\"strict\",\"colorway\":[\"#636efa\",\"#EF553B\",\"#00cc96\",\"#ab63fa\",\"#FFA15A\",\"#19d3f3\",\"#FF6692\",\"#B6E880\",\"#FF97FF\",\"#FECB52\"],\"font\":{\"color\":\"#2a3f5f\"},\"hovermode\":\"closest\",\"hoverlabel\":{\"align\":\"left\"},\"paper_bgcolor\":\"white\",\"plot_bgcolor\":\"#E5ECF6\",\"polar\":{\"bgcolor\":\"#E5ECF6\",\"angularaxis\":{\"gridcolor\":\"white\",\"linecolor\":\"white\",\"ticks\":\"\"},\"radialaxis\":{\"gridcolor\":\"white\",\"linecolor\":\"white\",\"ticks\":\"\"}},\"ternary\":{\"bgcolor\":\"#E5ECF6\",\"aaxis\":{\"gridcolor\":\"white\",\"linecolor\":\"white\",\"ticks\":\"\"},\"baxis\":{\"gridcolor\":\"white\",\"linecolor\":\"white\",\"ticks\":\"\"},\"caxis\":{\"gridcolor\":\"white\",\"linecolor\":\"white\",\"ticks\":\"\"}},\"coloraxis\":{\"colorbar\":{\"outlinewidth\":0,\"ticks\":\"\"}},\"colorscale\":{\"sequential\":[[0.0,\"#0d0887\"],[0.1111111111111111,\"#46039f\"],[0.2222222222222222,\"#7201a8\"],[0.3333333333333333,\"#9c179e\"],[0.4444444444444444,\"#bd3786\"],[0.5555555555555556,\"#d8576b\"],[0.6666666666666666,\"#ed7953\"],[0.7777777777777778,\"#fb9f3a\"],[0.8888888888888888,\"#fdca26\"],[1.0,\"#f0f921\"]],\"sequentialminus\":[[0.0,\"#0d0887\"],[0.1111111111111111,\"#46039f\"],[0.2222222222222222,\"#7201a8\"],[0.3333333333333333,\"#9c179e\"],[0.4444444444444444,\"#bd3786\"],[0.5555555555555556,\"#d8576b\"],[0.6666666666666666,\"#ed7953\"],[0.7777777777777778,\"#fb9f3a\"],[0.8888888888888888,\"#fdca26\"],[1.0,\"#f0f921\"]],\"diverging\":[[0,\"#8e0152\"],[0.1,\"#c51b7d\"],[0.2,\"#de77ae\"],[0.3,\"#f1b6da\"],[0.4,\"#fde0ef\"],[0.5,\"#f7f7f7\"],[0.6,\"#e6f5d0\"],[0.7,\"#b8e186\"],[0.8,\"#7fbc41\"],[0.9,\"#4d9221\"],[1,\"#276419\"]]},\"xaxis\":{\"gridcolor\":\"white\",\"linecolor\":\"white\",\"ticks\":\"\",\"title\":{\"standoff\":15},\"zerolinecolor\":\"white\",\"automargin\":true,\"zerolinewidth\":2},\"yaxis\":{\"gridcolor\":\"white\",\"linecolor\":\"white\",\"ticks\":\"\",\"title\":{\"standoff\":15},\"zerolinecolor\":\"white\",\"automargin\":true,\"zerolinewidth\":2},\"scene\":{\"xaxis\":{\"backgroundcolor\":\"#E5ECF6\",\"gridcolor\":\"white\",\"linecolor\":\"white\",\"showbackground\":true,\"ticks\":\"\",\"zerolinecolor\":\"white\",\"gridwidth\":2},\"yaxis\":{\"backgroundcolor\":\"#E5ECF6\",\"gridcolor\":\"white\",\"linecolor\":\"white\",\"showbackground\":true,\"ticks\":\"\",\"zerolinecolor\":\"white\",\"gridwidth\":2},\"zaxis\":{\"backgroundcolor\":\"#E5ECF6\",\"gridcolor\":\"white\",\"linecolor\":\"white\",\"showbackground\":true,\"ticks\":\"\",\"zerolinecolor\":\"white\",\"gridwidth\":2}},\"shapedefaults\":{\"line\":{\"color\":\"#2a3f5f\"}},\"annotationdefaults\":{\"arrowcolor\":\"#2a3f5f\",\"arrowhead\":0,\"arrowwidth\":1},\"geo\":{\"bgcolor\":\"white\",\"landcolor\":\"#E5ECF6\",\"subunitcolor\":\"white\",\"showland\":true,\"showlakes\":true,\"lakecolor\":\"white\"},\"title\":{\"x\":0.05},\"mapbox\":{\"style\":\"light\"}}},\"xaxis\":{\"anchor\":\"y\",\"domain\":[0.0,1.0],\"title\":{\"text\":\"Month_Year\"}},\"yaxis\":{\"anchor\":\"x\",\"domain\":[0.0,1.0],\"title\":{\"text\":\"value\"}},\"legend\":{\"title\":{\"text\":\"variable\"},\"tracegroupgap\":0},\"title\":{\"text\":\"Number of Launches Month-on-Month with Rolling Average\"}},                        {\"responsive\": true}                    ).then(function(){\n",
              "                            \n",
              "var gd = document.getElementById('c563be21-ab41-45b5-a286-1d697cce111b');\n",
              "var x = new MutationObserver(function (mutations, observer) {{\n",
              "        var display = window.getComputedStyle(gd).display;\n",
              "        if (!display || display === 'none') {{\n",
              "            console.log([gd, 'removed!']);\n",
              "            Plotly.purge(gd);\n",
              "            observer.disconnect();\n",
              "        }}\n",
              "}});\n",
              "\n",
              "// Listen for the removal of the full notebook cells\n",
              "var notebookContainer = gd.closest('#notebook-container');\n",
              "if (notebookContainer) {{\n",
              "    x.observe(notebookContainer, {childList: true});\n",
              "}}\n",
              "\n",
              "// Listen for the clearing of the current output cell\n",
              "var outputEl = gd.closest('.output');\n",
              "if (outputEl) {{\n",
              "    x.observe(outputEl, {childList: true});\n",
              "}}\n",
              "\n",
              "                        })                };            </script>        </div>\n",
              "</body>\n",
              "</html>"
            ]
          },
          "metadata": {}
        }
      ]
    },
    {
      "cell_type": "markdown",
      "metadata": {
        "papermill": {
          "duration": 0.044409,
          "end_time": "2020-10-20T21:34:10.162592",
          "exception": false,
          "start_time": "2020-10-20T21:34:10.118183",
          "status": "completed"
        },
        "tags": [],
        "id": "t-avMIZoa-qh"
      },
      "source": [
        "# Launches per Month: Which months are most popular and least popular for launches?\n",
        "\n",
        "Some months have better weather than others. Which time of year seems to be best for space missions?"
      ]
    },
    {
      "cell_type": "code",
      "metadata": {
        "id": "zmtp5uBHppFG"
      },
      "source": [
        "df_data['Month'] = df_data['Date'].dt.month\n",
        "\n",
        "# Count launches per year\n",
        "launch_counts_by_month = df_data['Month'].value_counts().reset_index()\n",
        "launch_counts_by_month.columns = ['Month', 'Launch Count']"
      ],
      "execution_count": 26,
      "outputs": []
    },
    {
      "cell_type": "code",
      "metadata": {
        "id": "fnk2m_cpppJo",
        "colab": {
          "base_uri": "https://localhost:8080/",
          "height": 542
        },
        "outputId": "f1fb6abf-6095-4cd3-b14d-1984a82ff1f1"
      },
      "source": [
        "fig = px.bar(launch_counts_by_month,\n",
        "             x='Month',\n",
        "             y='Launch Count',\n",
        "             title='Number of Launches per Month')\n",
        "fig.show()"
      ],
      "execution_count": 27,
      "outputs": [
        {
          "output_type": "display_data",
          "data": {
            "text/html": [
              "<html>\n",
              "<head><meta charset=\"utf-8\" /></head>\n",
              "<body>\n",
              "    <div>            <script src=\"https://cdnjs.cloudflare.com/ajax/libs/mathjax/2.7.5/MathJax.js?config=TeX-AMS-MML_SVG\"></script><script type=\"text/javascript\">if (window.MathJax && window.MathJax.Hub && window.MathJax.Hub.Config) {window.MathJax.Hub.Config({SVG: {font: \"STIX-Web\"}});}</script>                <script type=\"text/javascript\">window.PlotlyConfig = {MathJaxConfig: 'local'};</script>\n",
              "        <script charset=\"utf-8\" src=\"https://cdn.plot.ly/plotly-3.1.0.min.js\" integrity=\"sha256-Ei4740bWZhaUTQuD6q9yQlgVCMPBz6CZWhevDYPv93A=\" crossorigin=\"anonymous\"></script>                <div id=\"d89cb928-5a06-4975-9939-293a0507482f\" class=\"plotly-graph-div\" style=\"height:525px; width:100%;\"></div>            <script type=\"text/javascript\">                window.PLOTLYENV=window.PLOTLYENV || {};                                if (document.getElementById(\"d89cb928-5a06-4975-9939-293a0507482f\")) {                    Plotly.newPlot(                        \"d89cb928-5a06-4975-9939-293a0507482f\",                        [{\"hovertemplate\":\"Month=%{x}\\u003cbr\\u003eLaunch Count=%{y}\\u003cextra\\u003e\\u003c\\u002fextra\\u003e\",\"legendgroup\":\"\",\"marker\":{\"color\":\"#636efa\",\"pattern\":{\"shape\":\"\"}},\"name\":\"\",\"orientation\":\"v\",\"showlegend\":false,\"textposition\":\"auto\",\"x\":{\"dtype\":\"i4\",\"bdata\":\"DAAAAAYAAAAEAAAACgAAAAgAAAAJAAAAAwAAAAcAAAALAAAAAgAAAAUAAAABAAAA\"},\"xaxis\":\"x\",\"y\":{\"dtype\":\"i2\",\"bdata\":\"wgGSAX8BfQF1AW0BYQFfAVABUAFGAQwB\"},\"yaxis\":\"y\",\"type\":\"bar\"}],                        {\"template\":{\"data\":{\"histogram2dcontour\":[{\"type\":\"histogram2dcontour\",\"colorbar\":{\"outlinewidth\":0,\"ticks\":\"\"},\"colorscale\":[[0.0,\"#0d0887\"],[0.1111111111111111,\"#46039f\"],[0.2222222222222222,\"#7201a8\"],[0.3333333333333333,\"#9c179e\"],[0.4444444444444444,\"#bd3786\"],[0.5555555555555556,\"#d8576b\"],[0.6666666666666666,\"#ed7953\"],[0.7777777777777778,\"#fb9f3a\"],[0.8888888888888888,\"#fdca26\"],[1.0,\"#f0f921\"]]}],\"choropleth\":[{\"type\":\"choropleth\",\"colorbar\":{\"outlinewidth\":0,\"ticks\":\"\"}}],\"histogram2d\":[{\"type\":\"histogram2d\",\"colorbar\":{\"outlinewidth\":0,\"ticks\":\"\"},\"colorscale\":[[0.0,\"#0d0887\"],[0.1111111111111111,\"#46039f\"],[0.2222222222222222,\"#7201a8\"],[0.3333333333333333,\"#9c179e\"],[0.4444444444444444,\"#bd3786\"],[0.5555555555555556,\"#d8576b\"],[0.6666666666666666,\"#ed7953\"],[0.7777777777777778,\"#fb9f3a\"],[0.8888888888888888,\"#fdca26\"],[1.0,\"#f0f921\"]]}],\"heatmap\":[{\"type\":\"heatmap\",\"colorbar\":{\"outlinewidth\":0,\"ticks\":\"\"},\"colorscale\":[[0.0,\"#0d0887\"],[0.1111111111111111,\"#46039f\"],[0.2222222222222222,\"#7201a8\"],[0.3333333333333333,\"#9c179e\"],[0.4444444444444444,\"#bd3786\"],[0.5555555555555556,\"#d8576b\"],[0.6666666666666666,\"#ed7953\"],[0.7777777777777778,\"#fb9f3a\"],[0.8888888888888888,\"#fdca26\"],[1.0,\"#f0f921\"]]}],\"contourcarpet\":[{\"type\":\"contourcarpet\",\"colorbar\":{\"outlinewidth\":0,\"ticks\":\"\"}}],\"contour\":[{\"type\":\"contour\",\"colorbar\":{\"outlinewidth\":0,\"ticks\":\"\"},\"colorscale\":[[0.0,\"#0d0887\"],[0.1111111111111111,\"#46039f\"],[0.2222222222222222,\"#7201a8\"],[0.3333333333333333,\"#9c179e\"],[0.4444444444444444,\"#bd3786\"],[0.5555555555555556,\"#d8576b\"],[0.6666666666666666,\"#ed7953\"],[0.7777777777777778,\"#fb9f3a\"],[0.8888888888888888,\"#fdca26\"],[1.0,\"#f0f921\"]]}],\"surface\":[{\"type\":\"surface\",\"colorbar\":{\"outlinewidth\":0,\"ticks\":\"\"},\"colorscale\":[[0.0,\"#0d0887\"],[0.1111111111111111,\"#46039f\"],[0.2222222222222222,\"#7201a8\"],[0.3333333333333333,\"#9c179e\"],[0.4444444444444444,\"#bd3786\"],[0.5555555555555556,\"#d8576b\"],[0.6666666666666666,\"#ed7953\"],[0.7777777777777778,\"#fb9f3a\"],[0.8888888888888888,\"#fdca26\"],[1.0,\"#f0f921\"]]}],\"mesh3d\":[{\"type\":\"mesh3d\",\"colorbar\":{\"outlinewidth\":0,\"ticks\":\"\"}}],\"scatter\":[{\"fillpattern\":{\"fillmode\":\"overlay\",\"size\":10,\"solidity\":0.2},\"type\":\"scatter\"}],\"parcoords\":[{\"type\":\"parcoords\",\"line\":{\"colorbar\":{\"outlinewidth\":0,\"ticks\":\"\"}}}],\"scatterpolargl\":[{\"type\":\"scatterpolargl\",\"marker\":{\"colorbar\":{\"outlinewidth\":0,\"ticks\":\"\"}}}],\"bar\":[{\"error_x\":{\"color\":\"#2a3f5f\"},\"error_y\":{\"color\":\"#2a3f5f\"},\"marker\":{\"line\":{\"color\":\"#E5ECF6\",\"width\":0.5},\"pattern\":{\"fillmode\":\"overlay\",\"size\":10,\"solidity\":0.2}},\"type\":\"bar\"}],\"scattergeo\":[{\"type\":\"scattergeo\",\"marker\":{\"colorbar\":{\"outlinewidth\":0,\"ticks\":\"\"}}}],\"scatterpolar\":[{\"type\":\"scatterpolar\",\"marker\":{\"colorbar\":{\"outlinewidth\":0,\"ticks\":\"\"}}}],\"histogram\":[{\"marker\":{\"pattern\":{\"fillmode\":\"overlay\",\"size\":10,\"solidity\":0.2}},\"type\":\"histogram\"}],\"scattergl\":[{\"type\":\"scattergl\",\"marker\":{\"colorbar\":{\"outlinewidth\":0,\"ticks\":\"\"}}}],\"scatter3d\":[{\"type\":\"scatter3d\",\"line\":{\"colorbar\":{\"outlinewidth\":0,\"ticks\":\"\"}},\"marker\":{\"colorbar\":{\"outlinewidth\":0,\"ticks\":\"\"}}}],\"scattermap\":[{\"type\":\"scattermap\",\"marker\":{\"colorbar\":{\"outlinewidth\":0,\"ticks\":\"\"}}}],\"scattermapbox\":[{\"type\":\"scattermapbox\",\"marker\":{\"colorbar\":{\"outlinewidth\":0,\"ticks\":\"\"}}}],\"scatterternary\":[{\"type\":\"scatterternary\",\"marker\":{\"colorbar\":{\"outlinewidth\":0,\"ticks\":\"\"}}}],\"scattercarpet\":[{\"type\":\"scattercarpet\",\"marker\":{\"colorbar\":{\"outlinewidth\":0,\"ticks\":\"\"}}}],\"carpet\":[{\"aaxis\":{\"endlinecolor\":\"#2a3f5f\",\"gridcolor\":\"white\",\"linecolor\":\"white\",\"minorgridcolor\":\"white\",\"startlinecolor\":\"#2a3f5f\"},\"baxis\":{\"endlinecolor\":\"#2a3f5f\",\"gridcolor\":\"white\",\"linecolor\":\"white\",\"minorgridcolor\":\"white\",\"startlinecolor\":\"#2a3f5f\"},\"type\":\"carpet\"}],\"table\":[{\"cells\":{\"fill\":{\"color\":\"#EBF0F8\"},\"line\":{\"color\":\"white\"}},\"header\":{\"fill\":{\"color\":\"#C8D4E3\"},\"line\":{\"color\":\"white\"}},\"type\":\"table\"}],\"barpolar\":[{\"marker\":{\"line\":{\"color\":\"#E5ECF6\",\"width\":0.5},\"pattern\":{\"fillmode\":\"overlay\",\"size\":10,\"solidity\":0.2}},\"type\":\"barpolar\"}],\"pie\":[{\"automargin\":true,\"type\":\"pie\"}]},\"layout\":{\"autotypenumbers\":\"strict\",\"colorway\":[\"#636efa\",\"#EF553B\",\"#00cc96\",\"#ab63fa\",\"#FFA15A\",\"#19d3f3\",\"#FF6692\",\"#B6E880\",\"#FF97FF\",\"#FECB52\"],\"font\":{\"color\":\"#2a3f5f\"},\"hovermode\":\"closest\",\"hoverlabel\":{\"align\":\"left\"},\"paper_bgcolor\":\"white\",\"plot_bgcolor\":\"#E5ECF6\",\"polar\":{\"bgcolor\":\"#E5ECF6\",\"angularaxis\":{\"gridcolor\":\"white\",\"linecolor\":\"white\",\"ticks\":\"\"},\"radialaxis\":{\"gridcolor\":\"white\",\"linecolor\":\"white\",\"ticks\":\"\"}},\"ternary\":{\"bgcolor\":\"#E5ECF6\",\"aaxis\":{\"gridcolor\":\"white\",\"linecolor\":\"white\",\"ticks\":\"\"},\"baxis\":{\"gridcolor\":\"white\",\"linecolor\":\"white\",\"ticks\":\"\"},\"caxis\":{\"gridcolor\":\"white\",\"linecolor\":\"white\",\"ticks\":\"\"}},\"coloraxis\":{\"colorbar\":{\"outlinewidth\":0,\"ticks\":\"\"}},\"colorscale\":{\"sequential\":[[0.0,\"#0d0887\"],[0.1111111111111111,\"#46039f\"],[0.2222222222222222,\"#7201a8\"],[0.3333333333333333,\"#9c179e\"],[0.4444444444444444,\"#bd3786\"],[0.5555555555555556,\"#d8576b\"],[0.6666666666666666,\"#ed7953\"],[0.7777777777777778,\"#fb9f3a\"],[0.8888888888888888,\"#fdca26\"],[1.0,\"#f0f921\"]],\"sequentialminus\":[[0.0,\"#0d0887\"],[0.1111111111111111,\"#46039f\"],[0.2222222222222222,\"#7201a8\"],[0.3333333333333333,\"#9c179e\"],[0.4444444444444444,\"#bd3786\"],[0.5555555555555556,\"#d8576b\"],[0.6666666666666666,\"#ed7953\"],[0.7777777777777778,\"#fb9f3a\"],[0.8888888888888888,\"#fdca26\"],[1.0,\"#f0f921\"]],\"diverging\":[[0,\"#8e0152\"],[0.1,\"#c51b7d\"],[0.2,\"#de77ae\"],[0.3,\"#f1b6da\"],[0.4,\"#fde0ef\"],[0.5,\"#f7f7f7\"],[0.6,\"#e6f5d0\"],[0.7,\"#b8e186\"],[0.8,\"#7fbc41\"],[0.9,\"#4d9221\"],[1,\"#276419\"]]},\"xaxis\":{\"gridcolor\":\"white\",\"linecolor\":\"white\",\"ticks\":\"\",\"title\":{\"standoff\":15},\"zerolinecolor\":\"white\",\"automargin\":true,\"zerolinewidth\":2},\"yaxis\":{\"gridcolor\":\"white\",\"linecolor\":\"white\",\"ticks\":\"\",\"title\":{\"standoff\":15},\"zerolinecolor\":\"white\",\"automargin\":true,\"zerolinewidth\":2},\"scene\":{\"xaxis\":{\"backgroundcolor\":\"#E5ECF6\",\"gridcolor\":\"white\",\"linecolor\":\"white\",\"showbackground\":true,\"ticks\":\"\",\"zerolinecolor\":\"white\",\"gridwidth\":2},\"yaxis\":{\"backgroundcolor\":\"#E5ECF6\",\"gridcolor\":\"white\",\"linecolor\":\"white\",\"showbackground\":true,\"ticks\":\"\",\"zerolinecolor\":\"white\",\"gridwidth\":2},\"zaxis\":{\"backgroundcolor\":\"#E5ECF6\",\"gridcolor\":\"white\",\"linecolor\":\"white\",\"showbackground\":true,\"ticks\":\"\",\"zerolinecolor\":\"white\",\"gridwidth\":2}},\"shapedefaults\":{\"line\":{\"color\":\"#2a3f5f\"}},\"annotationdefaults\":{\"arrowcolor\":\"#2a3f5f\",\"arrowhead\":0,\"arrowwidth\":1},\"geo\":{\"bgcolor\":\"white\",\"landcolor\":\"#E5ECF6\",\"subunitcolor\":\"white\",\"showland\":true,\"showlakes\":true,\"lakecolor\":\"white\"},\"title\":{\"x\":0.05},\"mapbox\":{\"style\":\"light\"}}},\"xaxis\":{\"anchor\":\"y\",\"domain\":[0.0,1.0],\"title\":{\"text\":\"Month\"}},\"yaxis\":{\"anchor\":\"x\",\"domain\":[0.0,1.0],\"title\":{\"text\":\"Launch Count\"}},\"legend\":{\"tracegroupgap\":0},\"title\":{\"text\":\"Number of Launches per Month\"},\"barmode\":\"relative\"},                        {\"responsive\": true}                    ).then(function(){\n",
              "                            \n",
              "var gd = document.getElementById('d89cb928-5a06-4975-9939-293a0507482f');\n",
              "var x = new MutationObserver(function (mutations, observer) {{\n",
              "        var display = window.getComputedStyle(gd).display;\n",
              "        if (!display || display === 'none') {{\n",
              "            console.log([gd, 'removed!']);\n",
              "            Plotly.purge(gd);\n",
              "            observer.disconnect();\n",
              "        }}\n",
              "}});\n",
              "\n",
              "// Listen for the removal of the full notebook cells\n",
              "var notebookContainer = gd.closest('#notebook-container');\n",
              "if (notebookContainer) {{\n",
              "    x.observe(notebookContainer, {childList: true});\n",
              "}}\n",
              "\n",
              "// Listen for the clearing of the current output cell\n",
              "var outputEl = gd.closest('.output');\n",
              "if (outputEl) {{\n",
              "    x.observe(outputEl, {childList: true});\n",
              "}}\n",
              "\n",
              "                        })                };            </script>        </div>\n",
              "</body>\n",
              "</html>"
            ]
          },
          "metadata": {}
        }
      ]
    },
    {
      "cell_type": "markdown",
      "metadata": {
        "papermill": {
          "duration": 0.067915,
          "end_time": "2020-10-20T21:34:11.122539",
          "exception": false,
          "start_time": "2020-10-20T21:34:11.054624",
          "status": "completed"
        },
        "tags": [],
        "id": "dPQ_N_sfa-qo"
      },
      "source": [
        "# How has the Launch Price varied Over Time?\n",
        "\n",
        "Create a line chart that shows the average price of rocket launches over time."
      ]
    },
    {
      "cell_type": "code",
      "metadata": {
        "id": "hFc-2M5-qCrv"
      },
      "source": [
        "launch_price_over_time = df_price.groupby('Date')['Price'].mean().reset_index()"
      ],
      "execution_count": 28,
      "outputs": []
    },
    {
      "cell_type": "code",
      "metadata": {
        "id": "ggYFiAsEqC6J",
        "colab": {
          "base_uri": "https://localhost:8080/",
          "height": 542
        },
        "outputId": "fe7ed98b-83b3-46e9-b78c-91cae0dcb495"
      },
      "source": [
        "fig = px.line(launch_price_over_time,\n",
        "             x='Date',\n",
        "             y='Price',\n",
        "             title='Average Launch Price Over Time')\n",
        "fig.show()"
      ],
      "execution_count": 29,
      "outputs": [
        {
          "output_type": "display_data",
          "data": {
            "text/html": [
              "<html>\n",
              "<head><meta charset=\"utf-8\" /></head>\n",
              "<body>\n",
              "    <div>            <script src=\"https://cdnjs.cloudflare.com/ajax/libs/mathjax/2.7.5/MathJax.js?config=TeX-AMS-MML_SVG\"></script><script type=\"text/javascript\">if (window.MathJax && window.MathJax.Hub && window.MathJax.Hub.Config) {window.MathJax.Hub.Config({SVG: {font: \"STIX-Web\"}});}</script>                <script type=\"text/javascript\">window.PlotlyConfig = {MathJaxConfig: 'local'};</script>\n",
              "        <script charset=\"utf-8\" src=\"https://cdn.plot.ly/plotly-3.1.0.min.js\" integrity=\"sha256-Ei4740bWZhaUTQuD6q9yQlgVCMPBz6CZWhevDYPv93A=\" crossorigin=\"anonymous\"></script>                <div id=\"63d0c0ba-47d7-4288-9e10-c8a88e989dda\" class=\"plotly-graph-div\" style=\"height:525px; width:100%;\"></div>            <script type=\"text/javascript\">                window.PLOTLYENV=window.PLOTLYENV || {};                                if (document.getElementById(\"63d0c0ba-47d7-4288-9e10-c8a88e989dda\")) {                    Plotly.newPlot(                        \"63d0c0ba-47d7-4288-9e10-c8a88e989dda\",                        [{\"hovertemplate\":\"Date=%{x}\\u003cbr\\u003ePrice=%{y}\\u003cextra\\u003e\\u003c\\u002fextra\\u003e\",\"legendgroup\":\"\",\"line\":{\"color\":\"#636efa\",\"dash\":\"solid\"},\"marker\":{\"symbol\":\"circle\"},\"mode\":\"lines\",\"name\":\"\",\"orientation\":\"v\",\"showlegend\":false,\"x\":[\"1964-09-01T15:00:00\",\"1964-12-10T16:52:00\",\"1965-02-11T15:19:00\",\"1965-05-06T15:00:00\",\"1966-07-29T18:43:00\",\"1966-09-28T19:12:00\",\"1966-12-14T18:14:00\",\"1967-02-24T19:55:00\",\"1967-04-26T00:00:00\",\"1967-06-20T16:19:00\",\"1967-08-16T17:02:00\",\"1967-09-19T18:28:00\",\"1967-10-25T19:15:00\",\"1967-11-09T12:00:00\",\"1967-12-05T18:45:00\",\"1968-01-18T19:04:00\",\"1968-03-13T19:55:00\",\"1968-04-04T12:00:00\",\"1968-04-17T17:00:00\",\"1968-06-05T17:31:00\",\"1968-08-06T16:33:00\",\"1968-08-06T18:30:00\",\"1968-11-06T19:10:00\",\"1968-12-04T19:23:00\",\"1968-12-21T12:51:00\",\"1969-01-22T19:10:00\",\"1969-03-03T16:00:00\",\"1969-03-04T19:30:00\",\"1969-04-15T17:30:00\",\"1969-05-18T16:49:00\",\"1969-06-03T16:49:00\",\"1969-07-16T13:32:00\",\"1969-11-14T16:22:00\",\"1970-04-11T19:13:00\",\"1971-01-31T21:03:00\",\"1971-07-26T13:34:00\",\"1972-04-16T17:54:00\",\"1972-12-19T19:24:00\",\"1973-05-14T17:30:00\",\"1981-04-12T12:00:00\",\"1981-11-12T15:09:00\",\"1982-03-22T16:00:00\",\"1982-06-27T16:09:00\",\"1982-09-09T07:19:00\",\"1982-11-11T12:19:00\",\"1983-04-04T18:30:00\",\"1983-06-18T11:33:00\",\"1983-08-19T06:00:00\",\"1983-09-05T07:40:00\",\"1983-11-28T16:00:00\",\"1984-02-03T13:00:00\",\"1984-04-06T13:58:00\",\"1984-08-30T12:41:00\",\"1984-09-12T05:44:00\",\"1984-10-05T11:03:00\",\"1984-11-08T12:15:00\",\"1985-01-24T19:50:00\",\"1985-04-12T13:59:00\",\"1985-05-06T16:02:00\",\"1985-06-17T11:33:00\",\"1985-07-25T21:00:00\",\"1985-08-27T10:58:00\",\"1985-10-03T15:15:00\",\"1985-10-21T05:04:00\",\"1985-11-06T17:00:00\",\"1985-11-27T00:29:00\",\"1986-01-12T11:55:00\",\"1986-01-28T16:38:00\",\"1986-10-06T05:40:00\",\"1987-05-15T17:30:00\",\"1987-08-05T06:39:00\",\"1987-09-09T07:15:00\",\"1988-08-05T07:29:00\",\"1988-09-05T09:25:00\",\"1988-09-29T15:37:00\",\"1988-11-15T03:00:00\",\"1988-12-02T14:30:00\",\"1989-03-13T14:57:00\",\"1989-05-04T18:46:00\",\"1989-08-08T12:37:00\",\"1989-09-06T01:48:00\",\"1989-10-18T16:53:00\",\"1989-11-23T00:23:00\",\"1990-01-01T00:07:00\",\"1990-01-09T12:35:00\",\"1990-02-28T07:50:00\",\"1990-03-14T11:52:00\",\"1990-04-05T19:10:00\",\"1990-04-24T12:33:00\",\"1990-06-23T11:19:00\",\"1990-10-05T06:14:00\",\"1990-10-06T11:47:00\",\"1990-11-15T23:48:00\",\"1990-12-02T06:49:00\",\"1991-04-05T14:22:00\",\"1991-04-28T11:33:00\",\"1991-06-05T13:24:00\",\"1991-07-21T17:33:00\",\"1991-08-02T15:02:00\",\"1991-09-12T23:11:00\",\"1991-11-24T23:44:00\",\"1992-01-22T14:52:00\",\"1992-03-24T13:13:00\",\"1992-04-25T08:53:00\",\"1992-05-07T23:40:00\",\"1992-06-25T16:12:00\",\"1992-07-31T13:56:00\",\"1992-08-09T08:00:00\",\"1992-09-12T14:23:00\",\"1992-09-25T17:05:00\",\"1992-10-06T06:20:00\",\"1992-10-22T17:09:00\",\"1992-12-02T13:24:00\",\"1993-01-13T13:59:00\",\"1993-02-09T14:30:00\",\"1993-04-08T05:29:00\",\"1993-04-25T13:56:00\",\"1993-04-26T14:50:00\",\"1993-06-21T13:07:00\",\"1993-09-12T11:45:00\",\"1993-09-20T05:12:00\",\"1993-10-05T17:56:00\",\"1993-10-08T08:00:00\",\"1993-10-18T14:53:00\",\"1993-12-02T09:27:00\",\"1994-01-25T16:34:00\",\"1994-02-03T12:10:00\",\"1994-02-08T08:34:00\",\"1994-03-04T13:53:00\",\"1994-03-13T22:32:00\",\"1994-04-09T11:05:00\",\"1994-05-19T17:03:00\",\"1994-06-27T21:15:00\",\"1994-07-03T08:00:00\",\"1994-07-08T04:43:00\",\"1994-09-03T14:38:00\",\"1994-09-09T22:22:00\",\"1994-09-30T11:16:00\",\"1994-10-15T05:05:00\",\"1994-11-03T16:59:00\",\"1994-11-29T17:02:00\",\"1995-02-03T05:22:00\",\"1995-03-02T06:38:00\",\"1995-04-03T13:48:00\",\"1995-06-22T19:58:00\",\"1995-06-27T19:32:00\",\"1995-07-13T13:41:00\",\"1995-09-07T15:09:00\",\"1995-10-20T13:53:00\",\"1995-10-23T22:03:00\",\"1995-11-12T12:30:00\",\"1996-01-11T09:41:00\",\"1996-02-22T20:18:00\",\"1996-03-09T01:53:00\",\"1996-03-21T04:53:00\",\"1996-03-22T08:13:00\",\"1996-05-17T02:44:00\",\"1996-05-19T10:30:00\",\"1996-06-20T14:49:00\",\"1996-07-02T07:48:00\",\"1996-08-21T09:47:00\",\"1996-09-16T08:54:00\",\"1996-10-20T07:20:00\",\"1996-11-04T17:08:00\",\"1996-12-07T11:49:00\",\"1997-01-12T09:27:00\",\"1997-02-11T08:55:00\",\"1997-04-04T16:47:00\",\"1997-04-04T19:20:00\",\"1997-04-21T11:59:00\",\"1997-05-11T16:17:00\",\"1997-05-15T08:07:00\",\"1997-07-01T18:02:00\",\"1997-08-01T20:20:00\",\"1997-08-07T14:41:00\",\"1997-08-29T15:02:00\",\"1997-09-01T14:00:00\",\"1997-09-25T14:34:00\",\"1997-09-29T10:20:00\",\"1997-10-22T13:13:00\",\"1997-11-19T19:46:00\",\"1997-12-08T07:16:00\",\"1997-12-23T19:11:00\",\"1998-01-22T02:48:00\",\"1998-02-10T13:20:00\",\"1998-02-26T07:07:00\",\"1998-03-25T17:01:00\",\"1998-04-02T16:24:00\",\"1998-04-17T18:19:00\",\"1998-05-02T09:16:00\",\"1998-05-13T15:52:00\",\"1998-06-02T22:06:00\",\"1998-08-02T16:24:00\",\"1998-08-19T23:01:00\",\"1998-09-23T05:06:00\",\"1998-10-03T10:04:00\",\"1998-10-22T00:02:00\",\"1998-10-29T19:19:00\",\"1998-12-04T08:35:00\",\"1998-12-06T00:57:00\",\"1998-12-19T11:39:00\",\"1999-03-05T02:56:00\",\"1999-04-21T00:00:00\",\"1999-05-10T01:33:00\",\"1999-05-18T05:09:00\",\"1999-05-27T10:49:00\",\"1999-05-29T11:52:00\",\"1999-06-11T17:15:00\",\"1999-06-20T02:15:00\",\"1999-07-23T04:31:00\",\"1999-10-14T03:15:00\",\"1999-12-04T18:53:00\",\"1999-12-12T17:36:00\",\"1999-12-20T00:50:00\",\"1999-12-31T07:13:00\",\"2000-01-25T16:45:00\",\"2000-01-27T03:03:00\",\"2000-02-11T16:43:00\",\"2000-03-12T09:29:00\",\"2000-05-16T08:27:00\",\"2000-05-19T10:11:00\",\"2000-06-07T13:19:00\",\"2000-07-19T20:09:00\",\"2000-09-08T12:45:00\",\"2000-09-21T10:22:00\",\"2000-09-26T10:05:00\",\"2000-10-09T05:38:00\",\"2000-10-11T23:17:00\",\"2000-10-30T16:02:00\",\"2000-11-30T03:06:00\",\"2000-12-20T16:20:00\",\"2001-02-07T23:13:00\",\"2001-03-08T11:42:00\",\"2001-04-18T10:13:00\",\"2001-04-19T18:40:00\",\"2001-07-12T09:03:00\",\"2001-08-10T21:10:00\",\"2001-08-29T07:00:00\",\"2001-09-21T18:49:00\",\"2001-10-22T10:23:00\",\"2001-12-05T22:19:00\",\"2002-02-05T20:58:00\",\"2002-03-01T11:22:00\",\"2002-03-17T09:21:00\",\"2002-04-08T20:44:00\",\"2002-05-15T01:50:00\",\"2002-06-05T21:22:00\",\"2002-06-20T09:33:00\",\"2002-06-24T18:23:00\",\"2002-08-21T22:05:00\",\"2002-09-12T10:23:00\",\"2002-10-07T19:45:00\",\"2002-10-27T03:17:00\",\"2002-11-20T22:39:00\",\"2002-11-24T00:49:00\",\"2002-12-11T22:22:00\",\"2002-12-14T01:31:00\",\"2002-12-20T00:00:00\",\"2003-01-06T14:19:00\",\"2003-01-16T15:39:00\",\"2003-01-25T20:13:00\",\"2003-03-11T00:59:00\",\"2003-04-28T12:00:00\",\"2003-05-08T11:28:00\",\"2003-05-13T22:10:00\",\"2003-05-24T16:34:00\",\"2003-06-26T18:55:00\",\"2003-06-30T14:15:00\",\"2003-07-17T23:45:00\",\"2003-08-13T02:09:00\",\"2003-08-29T23:13:00\",\"2003-10-17T04:52:00\",\"2003-10-18T16:17:00\",\"2003-10-21T03:16:00\",\"2003-10-30T13:43:00\",\"2003-11-03T07:20:00\",\"2003-11-14T16:01:00\",\"2003-12-29T19:06:00\",\"2004-03-02T07:17:00\",\"2004-04-18T15:59:00\",\"2004-05-20T17:47:00\",\"2004-06-29T06:30:00\",\"2004-07-18T00:44:00\",\"2004-07-25T07:05:00\",\"2004-08-29T07:50:00\",\"2004-09-08T23:14:00\",\"2004-09-20T10:31:00\",\"2004-09-27T08:00:00\",\"2004-10-19T01:20:00\",\"2004-11-06T03:10:00\",\"2004-11-08T18:29:00\",\"2004-11-18T10:45:00\",\"2004-12-17T12:07:00\",\"2004-12-18T16:26:00\",\"2004-12-21T21:50:00\",\"2005-02-12T21:03:00\",\"2005-03-11T21:42:00\",\"2005-04-11T13:35:00\",\"2005-04-15T17:27:00\",\"2005-05-05T04:45:00\",\"2005-07-05T22:40:00\",\"2005-07-26T14:39:00\",\"2005-08-02T07:30:00\",\"2005-08-12T11:43:00\",\"2005-08-23T21:09:00\",\"2005-08-26T18:34:00\",\"2005-08-29T08:45:00\",\"2005-09-22T19:24:00\",\"2005-10-08T15:02:00\",\"2005-11-16T23:46:00\",\"2006-01-19T19:00:00\",\"2006-03-11T22:33:00\",\"2006-03-24T21:30:00\",\"2006-03-28T20:10:00\",\"2006-04-15T01:40:00\",\"2006-04-20T20:27:00\",\"2006-04-26T22:48:00\",\"2006-05-24T22:11:00\",\"2006-05-27T21:09:00\",\"2006-06-28T03:33:00\",\"2006-07-04T18:37:00\",\"2006-07-10T12:08:00\",\"2006-07-12T14:53:00\",\"2006-07-26T19:43:00\",\"2006-07-28T07:05:00\",\"2006-08-11T22:15:00\",\"2006-09-09T07:00:00\",\"2006-09-09T15:14:00\",\"2006-09-11T04:35:00\",\"2006-09-12T16:02:00\",\"2006-10-13T20:56:00\",\"2006-10-23T23:34:00\",\"2006-11-04T13:53:00\",\"2006-12-08T00:53:00\",\"2006-12-08T22:08:00\",\"2006-12-10T00:47:00\",\"2006-12-16T12:00:00\",\"2007-01-10T03:54:00\",\"2007-02-02T16:28:00\",\"2007-03-09T03:10:00\",\"2007-03-11T22:03:00\",\"2007-03-21T01:10:00\",\"2007-04-11T03:27:00\",\"2007-04-13T20:11:00\",\"2007-04-17T06:46:00\",\"2007-04-23T10:00:00\",\"2007-04-24T06:48:00\",\"2007-04-25T20:26:00\",\"2007-05-04T22:29:00\",\"2007-05-13T16:01:00\",\"2007-05-25T07:12:00\",\"2007-05-31T16:08:00\",\"2007-06-08T23:38:00\",\"2007-06-15T02:14:00\",\"2007-06-15T15:11:00\",\"2007-06-28T15:02:00\",\"2007-08-08T22:36:00\",\"2007-08-14T23:44:00\",\"2007-09-02T12:51:00\",\"2007-09-19T03:26:00\",\"2007-10-11T00:22:00\",\"2007-10-23T03:38:00\",\"2007-11-11T01:50:00\",\"2007-11-11T22:48:00\",\"2007-11-14T22:03:00\",\"2007-12-10T22:05:00\",\"2008-01-21T03:45:00\",\"2008-02-07T19:45:00\",\"2008-02-23T08:55:00\",\"2008-03-11T06:28:00\",\"2008-03-13T10:02:00\",\"2008-04-14T20:12:00\",\"2008-04-15T17:01:00\",\"2008-04-18T22:17:00\",\"2008-04-25T15:35:00\",\"2008-04-28T03:53:00\",\"2008-05-23T15:20:00\",\"2008-05-27T03:02:00\",\"2008-05-31T21:02:00\",\"2008-06-12T22:05:00\",\"2008-07-07T21:47:00\",\"2008-08-03T03:34:00\",\"2008-08-14T20:44:00\",\"2008-08-29T07:15:00\",\"2008-09-28T23:15:00\",\"2008-10-01T06:37:00\",\"2008-10-19T17:47:00\",\"2008-10-22T00:52:00\",\"2008-10-25T01:15:00\",\"2008-10-29T16:53:00\",\"2008-11-05T00:15:00\",\"2008-11-15T00:55:00\",\"2008-12-20T22:35:00\",\"2009-01-18T02:47:00\",\"2009-01-23T03:54:00\",\"2009-02-12T22:09:00\",\"2009-02-24T09:55:00\",\"2009-03-15T23:43:00\",\"2009-03-17T14:21:00\",\"2009-04-04T00:31:00\",\"2009-04-20T01:15:00\",\"2009-05-11T18:01:00\",\"2009-05-14T13:12:00\",\"2009-05-19T23:55:00\",\"2009-06-18T17:32:00\",\"2009-06-27T22:51:00\",\"2009-07-01T19:52:00\",\"2009-07-06T01:26:00\",\"2009-07-14T03:35:00\",\"2009-07-15T22:03:00\",\"2009-07-29T18:46:00\",\"2009-08-21T22:09:00\",\"2009-08-28T03:59:00\",\"2009-09-08T21:35:00\",\"2009-09-10T17:01:00\",\"2009-09-23T06:21:00\",\"2009-10-01T21:59:00\",\"2009-10-18T16:12:00\",\"2009-10-28T15:30:00\",\"2009-10-29T20:00:00\",\"2009-11-02T01:50:00\",\"2009-11-16T19:28:00\",\"2009-11-23T06:55:00\",\"2009-11-28T01:21:00\",\"2010-02-08T09:14:00\",\"2010-02-11T15:23:00\",\"2010-03-04T23:57:00\",\"2010-04-05T10:21:00\",\"2010-04-08T13:57:00\",\"2010-04-15T10:57:00\",\"2010-04-22T23:52:00\",\"2010-05-10T21:58:00\",\"2010-05-14T18:20:00\",\"2010-05-21T22:01:00\",\"2010-05-28T03:00:00\",\"2010-06-02T01:59:00\",\"2010-06-04T18:45:00\",\"2010-06-15T14:42:00\",\"2010-06-21T02:14:00\",\"2010-06-26T21:41:00\",\"2010-07-12T03:52:00\",\"2010-08-04T20:45:00\",\"2010-08-14T11:07:00\",\"2010-09-08T03:30:00\",\"2010-09-21T04:03:00\",\"2010-09-26T04:41:00\",\"2010-10-28T23:51:00\",\"2010-11-20T01:25:00\",\"2010-11-21T22:58:00\",\"2010-11-26T18:39:00\",\"2010-12-08T15:43:00\",\"2010-12-25T10:34:00\",\"2010-12-29T21:27:00\",\"2011-01-20T21:10:00\",\"2011-01-22T05:37:00\",\"2011-02-01T14:00:00\",\"2011-02-06T12:26:00\",\"2011-02-24T21:53:00\",\"2011-03-04T10:09:00\",\"2011-03-05T22:46:00\",\"2011-03-11T22:38:00\",\"2011-04-15T04:24:00\",\"2011-04-20T04:42:00\",\"2011-04-22T21:37:00\",\"2011-05-07T18:10:00\",\"2011-05-16T12:56:00\",\"2011-05-20T20:38:00\",\"2011-06-30T03:09:00\",\"2011-07-08T15:29:00\",\"2011-07-15T11:18:00\",\"2011-07-16T06:41:00\",\"2011-08-05T16:25:00\",\"2011-08-06T22:52:00\",\"2011-08-17T07:12:00\",\"2011-09-11T11:17:00\",\"2011-09-21T21:38:00\",\"2011-09-23T04:36:00\",\"2011-09-27T15:49:00\",\"2011-10-12T05:31:00\",\"2011-11-26T15:02:00\",\"2011-12-12T01:21:00\",\"2011-12-17T02:03:00\",\"2012-02-13T10:00:00\",\"2012-02-24T22:15:00\",\"2012-04-26T00:00:00\",\"2012-04-26T00:17:00\",\"2012-05-04T18:42:00\",\"2012-05-15T22:13:00\",\"2012-05-17T16:39:00\",\"2012-05-22T07:44:00\",\"2012-06-13T16:00:00\",\"2012-06-20T12:28:00\",\"2012-06-29T13:15:00\",\"2012-07-05T21:36:00\",\"2012-07-21T02:06:00\",\"2012-07-28T01:35:00\",\"2012-08-02T20:54:00\",\"2012-08-30T08:05:00\",\"2012-09-09T04:23:00\",\"2012-09-13T21:39:00\",\"2012-09-28T21:18:00\",\"2012-10-04T12:10:00\",\"2012-10-08T00:35:00\",\"2012-11-10T21:05:00\",\"2012-12-02T02:02:00\",\"2012-12-11T18:03:00\",\"2012-12-19T21:49:00\",\"2013-01-15T16:24:00\",\"2013-01-27T04:40:00\",\"2013-01-31T01:48:00\",\"2013-02-07T21:36:00\",\"2013-02-11T18:02:00\",\"2013-02-25T12:31:00\",\"2013-03-01T15:10:00\",\"2013-03-19T21:21:00\",\"2013-04-21T21:00:00\",\"2013-05-07T02:06:00\",\"2013-05-15T21:38:00\",\"2013-06-28T02:27:00\",\"2013-07-01T18:11:00\",\"2013-07-02T02:38:00\",\"2013-07-19T13:00:00\",\"2013-07-25T19:54:00\",\"2013-08-03T19:48:00\",\"2013-08-22T14:39:00\",\"2013-08-28T18:03:00\",\"2013-08-29T20:30:00\",\"2013-09-07T03:27:00\",\"2013-09-11T23:23:00\",\"2013-09-13T14:58:00\",\"2013-09-18T08:10:00\",\"2013-09-29T16:00:00\",\"2013-11-05T09:08:00\",\"2013-11-18T18:28:00\",\"2013-11-20T01:15:00\",\"2013-11-21T07:10:00\",\"2013-11-22T12:02:00\",\"2013-12-03T22:41:00\",\"2013-12-06T07:14:00\",\"2013-12-25T00:31:00\",\"2014-01-05T10:48:00\",\"2014-01-06T22:06:00\",\"2014-01-09T18:07:00\",\"2014-01-24T02:33:00\",\"2014-02-06T21:30:00\",\"2014-02-21T01:59:00\",\"2014-02-27T18:37:00\",\"2014-03-22T22:04:00\",\"2014-04-03T14:46:00\",\"2014-04-04T11:44:00\",\"2014-04-10T17:45:00\",\"2014-04-18T19:25:00\",\"2014-04-30T01:35:00\",\"2014-05-17T00:03:00\",\"2014-05-22T13:09:00\",\"2014-05-23T05:27:00\",\"2014-05-24T03:05:00\",\"2014-06-19T19:11:00\",\"2014-06-30T04:22:00\",\"2014-07-03T12:43:00\",\"2014-07-13T16:52:00\",\"2014-07-14T15:15:00\",\"2014-07-28T23:28:00\",\"2014-08-02T03:23:00\",\"2014-08-05T08:00:00\",\"2014-08-13T18:30:00\",\"2014-09-07T05:00:00\",\"2014-09-11T22:05:00\",\"2014-09-17T00:10:00\",\"2014-09-21T05:52:00\",\"2014-10-07T05:16:00\",\"2014-10-16T20:02:00\",\"2014-10-16T21:43:00\",\"2014-10-28T22:22:00\",\"2014-10-29T17:21:00\",\"2014-11-06T07:35:00\",\"2014-12-03T04:22:00\",\"2014-12-05T12:05:00\",\"2014-12-06T20:40:00\",\"2014-12-13T03:19:00\",\"2014-12-18T04:00:00\",\"2015-01-10T09:47:00\",\"2015-01-21T01:04:00\",\"2015-02-01T01:21:00\",\"2015-02-11T13:40:00\",\"2015-02-11T23:03:00\",\"2015-03-02T03:50:00\",\"2015-03-13T02:44:00\",\"2015-03-25T18:36:00\",\"2015-03-25T22:08:00\",\"2015-03-26T01:21:00\",\"2015-03-28T11:49:00\",\"2015-03-31T13:47:00\",\"2015-04-15T20:10:00\",\"2015-04-26T20:00:00\",\"2015-04-27T23:03:00\",\"2015-05-20T15:05:00\",\"2015-05-27T21:16:00\",\"2015-06-23T01:51:00\",\"2015-06-28T14:21:00\",\"2015-07-10T16:28:00\",\"2015-07-15T15:36:00\",\"2015-07-15T21:42:00\",\"2015-08-19T11:50:00\",\"2015-08-20T20:34:00\",\"2015-08-27T11:22:00\",\"2015-09-02T10:18:00\",\"2015-09-23T21:59:00\",\"2015-09-25T00:00:00\",\"2015-09-28T04:30:00\",\"2015-09-30T20:30:00\",\"2015-10-02T10:28:00\",\"2015-10-08T12:49:00\",\"2015-10-31T16:13:00\",\"2015-11-04T00:00:00\",\"2015-11-10T21:34:00\",\"2015-12-03T04:04:00\",\"2015-12-06T21:44:00\",\"2015-12-16T12:30:00\",\"2015-12-22T01:29:00\",\"2016-01-15T16:57:00\",\"2016-01-17T18:42:00\",\"2016-01-20T04:01:00\",\"2016-01-27T23:20:00\",\"2016-01-29T22:20:00\",\"2016-02-05T13:38:00\",\"2016-02-07T00:21:00\",\"2016-02-16T17:57:00\",\"2016-02-17T08:45:00\",\"2016-03-04T23:35:00\",\"2016-03-09T05:20:00\",\"2016-03-10T10:31:00\",\"2016-03-13T18:56:00\",\"2016-03-14T09:31:00\",\"2016-03-23T03:05:00\",\"2016-03-24T09:42:00\",\"2016-03-29T20:11:00\",\"2016-03-31T16:23:00\",\"2016-04-05T17:38:00\",\"2016-04-08T20:43:00\",\"2016-04-28T07:20:00\",\"2016-05-06T05:21:00\",\"2016-05-15T02:43:00\",\"2016-05-27T21:39:00\",\"2016-05-29T08:44:00\",\"2016-05-30T03:17:00\",\"2016-06-04T14:00:00\",\"2016-06-09T07:10:00\",\"2016-06-11T17:51:00\",\"2016-06-15T14:29:00\",\"2016-06-18T05:20:00\",\"2016-06-22T03:56:00\",\"2016-06-24T14:30:00\",\"2016-06-29T03:21:00\",\"2016-07-18T04:45:00\",\"2016-07-28T12:37:00\",\"2016-08-05T16:22:00\",\"2016-08-09T22:55:00\",\"2016-08-14T05:26:00\",\"2016-08-15T17:40:00\",\"2016-08-19T04:52:00\",\"2016-08-24T22:16:00\",\"2016-08-31T18:50:00\",\"2016-09-01T13:07:00\",\"2016-09-08T11:20:00\",\"2016-09-08T23:05:00\",\"2016-09-16T01:43:00\",\"2016-09-26T03:42:00\",\"2016-10-05T20:30:00\",\"2016-10-17T23:45:00\",\"2016-11-02T06:20:00\",\"2016-11-09T23:42:00\",\"2016-11-11T18:30:00\",\"2016-11-11T23:14:00\",\"2016-11-19T23:42:00\",\"2016-12-05T13:51:00\",\"2016-12-07T04:54:00\",\"2016-12-09T13:26:00\",\"2016-12-10T16:11:00\",\"2016-12-15T13:37:00\",\"2016-12-18T19:13:00\",\"2016-12-21T19:22:00\",\"2016-12-21T20:30:00\",\"2016-12-28T03:23:00\",\"2017-01-05T15:18:00\",\"2017-01-14T17:54:00\",\"2017-01-21T00:42:00\",\"2017-02-14T21:39:00\",\"2017-02-15T03:58:00\",\"2017-02-19T14:39:00\",\"2017-03-01T17:49:00\",\"2017-03-07T01:49:00\",\"2017-03-16T06:00:00\",\"2017-03-17T01:20:00\",\"2017-03-30T22:27:00\",\"2017-04-12T11:04:00\",\"2017-04-18T15:11:00\",\"2017-05-01T11:15:00\",\"2017-05-04T21:50:00\",\"2017-05-05T11:27:00\",\"2017-05-15T23:21:00\",\"2017-05-25T04:20:00\",\"2017-06-01T00:17:00\",\"2017-06-01T23:45:00\",\"2017-06-03T21:07:00\",\"2017-06-05T11:58:00\",\"2017-06-08T03:45:00\",\"2017-06-14T09:20:00\",\"2017-06-15T03:15:00\",\"2017-06-18T16:12:00\",\"2017-06-23T03:59:00\",\"2017-06-23T19:10:00\",\"2017-06-25T20:25:00\",\"2017-06-28T21:15:00\",\"2017-07-05T20:25:00\",\"2017-07-14T06:36:00\",\"2017-08-02T01:58:00\",\"2017-08-14T16:31:00\",\"2017-08-16T22:07:00\",\"2017-08-18T12:29:00\",\"2017-08-24T18:51:00\",\"2017-08-25T06:04:00\",\"2017-08-31T13:30:00\",\"2017-09-07T14:00:00\",\"2017-09-11T19:23:00\",\"2017-09-24T05:49:00\",\"2017-09-28T18:52:00\",\"2017-09-29T04:21:00\",\"2017-09-29T21:56:00\",\"2017-10-09T04:13:00\",\"2017-10-09T12:37:00\",\"2017-10-09T22:01:00\",\"2017-10-11T22:53:00\",\"2017-10-13T09:27:00\",\"2017-10-14T08:46:00\",\"2017-10-15T07:28:00\",\"2017-10-30T19:34:00\",\"2017-10-31T21:37:00\",\"2017-11-08T01:42:00\",\"2017-11-12T12:19:00\",\"2017-11-14T18:35:00\",\"2017-11-24T18:10:00\",\"2017-12-02T10:43:00\",\"2017-12-03T04:11:00\",\"2017-12-10T16:41:00\",\"2017-12-15T15:36:00\",\"2017-12-23T01:26:00\",\"2017-12-23T01:27:00\",\"2017-12-23T04:14:00\",\"2017-12-25T19:44:00\",\"2018-01-08T01:00:00\",\"2018-01-09T03:24:00\",\"2018-01-12T03:58:00\",\"2018-01-13T07:20:00\",\"2018-01-17T21:06:00\",\"2018-01-19T04:12:00\",\"2018-01-20T00:48:00\",\"2018-01-21T01:43:00\",\"2018-01-25T05:39:00\",\"2018-01-25T22:20:00\",\"2018-01-31T21:25:00\",\"2018-02-01T02:07:00\",\"2018-02-02T07:50:00\",\"2018-02-06T20:45:00\",\"2018-02-13T08:13:00\",\"2018-02-22T14:17:00\",\"2018-02-27T04:34:00\",\"2018-03-01T22:02:00\",\"2018-03-06T05:33:00\",\"2018-03-17T07:10:00\",\"2018-03-29T11:26:00\",\"2018-03-30T14:14:00\",\"2018-03-31T03:22:00\",\"2018-04-02T20:30:00\",\"2018-04-05T21:34:00\",\"2018-04-10T04:25:00\",\"2018-04-11T22:34:00\",\"2018-04-14T23:13:00\",\"2018-04-18T22:12:00\",\"2018-04-18T22:51:00\",\"2018-04-25T17:57:00\",\"2018-04-26T04:42:00\",\"2018-05-03T16:05:00\",\"2018-05-05T11:05:00\",\"2018-05-08T18:28:00\",\"2018-05-11T20:14:00\",\"2018-05-20T21:28:00\",\"2018-05-21T04:44:00\",\"2018-05-22T19:47:00\",\"2018-06-02T04:13:00\",\"2018-06-04T04:29:00\",\"2018-06-05T13:07:00\",\"2018-06-12T04:20:00\",\"2018-06-27T03:30:00\",\"2018-06-29T09:42:00\",\"2018-07-09T03:56:00\",\"2018-07-09T20:50:00\",\"2018-07-09T21:51:00\",\"2018-07-22T05:50:00\",\"2018-07-25T11:39:00\",\"2018-07-31T03:00:00\",\"2018-08-07T05:18:00\",\"2018-08-12T07:31:00\",\"2018-08-22T21:20:00\",\"2018-09-07T03:15:00\",\"2018-09-10T04:45:00\",\"2018-09-16T16:38:00\",\"2018-09-22T17:52:00\",\"2018-09-25T22:38:00\",\"2018-10-08T02:21:00\",\"2018-10-09T02:43:00\",\"2018-10-17T04:15:00\",\"2018-10-20T01:45:00\",\"2018-10-24T22:57:00\",\"2018-10-25T00:15:00\",\"2018-10-29T00:47:00\",\"2018-10-29T04:08:00\",\"2018-11-01T15:57:00\",\"2018-11-03T20:17:00\",\"2018-11-11T03:50:00\",\"2018-11-14T11:38:00\",\"2018-11-15T20:46:00\",\"2018-11-17T09:01:00\",\"2018-11-19T23:40:00\",\"2018-11-21T01:42:00\",\"2018-11-29T04:27:00\",\"2018-11-30T02:27:00\",\"2018-12-03T18:34:00\",\"2018-12-04T20:37:00\",\"2018-12-05T18:16:00\",\"2018-12-07T04:12:00\",\"2018-12-07T18:23:00\",\"2018-12-16T06:33:00\",\"2018-12-19T10:40:00\",\"2018-12-21T00:20:00\",\"2018-12-21T23:51:00\",\"2018-12-23T13:51:00\",\"2018-12-27T02:07:00\",\"2019-01-10T17:11:00\",\"2019-01-11T15:31:00\",\"2019-01-18T00:50:00\",\"2019-01-19T19:10:00\",\"2019-01-21T05:42:00\",\"2019-02-05T21:01:00\",\"2019-02-22T01:45:00\",\"2019-03-02T07:49:00\",\"2019-03-09T16:28:00\",\"2019-03-22T01:50:00\",\"2019-03-28T23:27:00\",\"2019-03-31T15:51:00\",\"2019-04-01T03:57:00\",\"2019-04-04T11:01:00\",\"2019-04-11T22:35:00\",\"2019-04-17T20:46:00\",\"2019-04-20T14:30:00\",\"2019-04-29T22:52:00\",\"2019-05-04T06:48:00\",\"2019-05-05T06:00:00\",\"2019-05-22T00:00:00\",\"2019-05-22T22:55:00\",\"2019-05-24T02:30:00\",\"2019-05-30T17:42:00\",\"2019-06-05T04:06:00\",\"2019-06-12T14:17:00\",\"2019-06-20T21:43:00\",\"2019-06-24T18:09:00\",\"2019-06-25T06:30:00\",\"2019-06-29T04:30:00\",\"2019-07-11T01:53:00\",\"2019-07-13T12:31:00\",\"2019-07-22T09:13:00\",\"2019-07-25T22:01:00\",\"2019-07-26T03:57:00\",\"2019-07-30T05:56:00\",\"2019-07-31T12:10:00\",\"2019-08-05T21:56:00\",\"2019-08-06T19:30:00\",\"2019-08-06T23:23:00\",\"2019-08-08T10:13:00\",\"2019-08-17T04:11:00\",\"2019-08-19T12:03:00\",\"2019-08-19T12:12:00\",\"2019-08-22T03:38:00\",\"2019-08-22T13:06:00\",\"2019-08-30T14:00:00\",\"2019-09-12T03:26:00\",\"2019-09-19T06:42:00\",\"2019-09-24T16:05:00\",\"2019-09-25T00:54:00\",\"2019-09-26T07:46:00\",\"2019-10-04T18:51:00\",\"2019-10-09T10:17:00\",\"2019-10-11T01:59:00\",\"2019-10-17T01:22:00\",\"2019-10-17T15:21:00\",\"2019-11-02T13:59:00\",\"2019-11-03T03:22:00\",\"2019-11-04T17:43:00\",\"2019-11-11T14:56:00\",\"2019-11-26T21:23:00\",\"2019-11-27T03:58:00\",\"2019-11-27T23:52:00\",\"2019-12-05T17:29:00\",\"2019-12-06T08:18:00\",\"2019-12-06T09:34:00\",\"2019-12-11T08:54:00\",\"2019-12-11T09:55:00\",\"2019-12-17T00:10:00\",\"2019-12-20T03:22:00\",\"2019-12-24T12:03:00\",\"2019-12-26T23:11:00\",\"2020-01-07T02:19:00\",\"2020-01-07T15:20:00\",\"2020-01-15T02:53:00\",\"2020-01-16T21:05:00\",\"2020-01-19T15:30:00\",\"2020-01-29T14:06:00\",\"2020-01-31T02:56:00\",\"2020-02-06T21:42:00\",\"2020-02-09T01:34:00\",\"2020-02-10T04:03:00\",\"2020-02-15T20:21:00\",\"2020-02-17T15:05:00\",\"2020-02-18T22:18:00\",\"2020-02-19T21:07:00\",\"2020-02-20T08:24:00\",\"2020-03-07T04:50:00\",\"2020-03-09T11:55:00\",\"2020-03-18T12:16:00\",\"2020-03-21T17:06:00\",\"2020-03-24T03:43:00\",\"2020-03-26T20:18:00\",\"2020-04-09T08:05:00\",\"2020-04-09T11:46:00\",\"2020-04-22T19:30:00\",\"2020-04-25T01:51:00\",\"2020-05-17T13:14:00\",\"2020-05-20T17:31:00\",\"2020-05-25T19:50:00\",\"2020-05-29T20:13:00\",\"2020-05-30T19:22:00\",\"2020-05-31T08:53:00\",\"2020-06-04T01:25:00\",\"2020-06-10T18:31:00\",\"2020-06-13T05:12:00\",\"2020-06-13T09:21:00\",\"2020-06-17T07:19:00\",\"2020-06-23T01:43:00\",\"2020-06-30T20:10:00\",\"2020-07-03T03:10:00\",\"2020-07-04T21:19:00\",\"2020-07-04T23:44:00\",\"2020-07-09T12:11:00\",\"2020-07-10T04:17:00\",\"2020-07-15T13:46:00\",\"2020-07-19T21:58:00\",\"2020-07-20T21:30:00\",\"2020-07-23T14:26:00\",\"2020-07-25T03:13:00\",\"2020-07-30T11:50:00\",\"2020-07-30T21:25:00\",\"2020-08-06T04:01:00\",\"2020-08-07T05:12:00\"],\"xaxis\":\"x\",\"y\":{\"dtype\":\"f8\",\"bdata\":\"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\\u002fQAAAAAAAgGRAAAAAAAAgY0AAAAAAAABpQAAAAAAAAD1AAAAAAACAVkAAAAAAAABpQAAAAAAAgFZAAAAAAAAAR0AAAAAAAAA1QAAAAAAAIGJAAAAAAACAVkAAAAAAAABUQAAAAAAAgEJAAAAAAAAgY0AAAAAAAAA\\u002fQAAAAAAAAD9AAAAAAACAYUAAAAAAAABpQAAAAAAAgFZAAAAAAADATUAAAAAAAABEQAAAAAAAQFtAAAAAAADgdUAAAAAAAABpQAAAAAAAIFxAZmZmZmbmREAAAAAAAABpQAAAAAAAQFtAAAAAAAAANUAAAAAAAEBbQAAAAAAAAGlAAAAAAACAZEAAAAAAAMBNQAAAAAAAAGlAAAAAAAAAVEAAAAAAAABeQAAAAAAAAGlAZmZmZmbmREAAAAAAAIBWQAAAAAAAQFtAAAAAAAAAaUAAAAAAAEBbQAAAAAAAADVAAAAAAADATUAAAAAAAEBbQAAAAAAAAFRAAAAAAACAQkAAAAAAAEBbQAAAAAAAAERAAAAAAAAAP0AAAAAAAEBQQAAAAAAAIGNAAAAAAAAAaUAAAAAAACBcQAAAAAAAAD1AAAAAAADgdUAAAAAAAABpQAAAAAAAgEtAZmZmZmbmREAAAAAAAABUQAAAAAAAgGFAAAAAAABATEAAAAAAAAA\\u002fQAAAAAAAQFtAAAAAAAAAREAAAAAAAAA9QGZmZmZm5kRAAAAAAABATEAAAAAAAABeQGZmZmZm5kRAAAAAAACAR0AAAAAAAEBMQAAAAAAAAFRAAAAAAABAW0AAAAAAAABpQAAAAAAAgGRAAAAAAACAVkAAAAAAAABpQAAAAAAAQFtAAAAAAAAAP0AAAAAAACBiQAAAAAAAQExAAAAAAACAQkAAAAAAAIBkQAAAAAAAQFtAZmZmZmbmREAAAAAAAIBWQAAAAAAAAD1AAAAAAAAANUBmZmZmZuZEQAAAAAAAAFRAAAAAAABATEAAAAAAAIBkQAAAAAAAQFtAAAAAAABATEAAAAAAAEBbQAAAAAAAQExAAAAAAAAAaUAAAAAAAEBbQAAAAAAAQExAAAAAAACAVkAAAAAAAAA\\u002fQAAAAAAAAGlAAAAAAAAAVEAAAAAAAEBbQAAAAAAAAD1AAAAAAACAVkAAAAAAAOB1QAAAAAAAAGlAAAAAAAAgYkAAAAAAAABPQAAAAAAAQExAAAAAAAAgY0AAAAAAAIBWQAAAAAAAgEJAAAAAAABATEAAAAAAAEBMQAAAAAAAwF5AAAAAAACAZEAAAAAAAAA9QAAAAAAAgFZAAAAAAAAAP0BmZmZmZuZEQAAAAAAAQExAAAAAAAAAaUAAAAAAAEBMQAAAAAAAAF5AAAAAAAAAaUAAAAAAAIBCQAAAAAAAQExAAAAAAAAAP0AAAAAAAEBbQAAAAAAAAGlAAAAAAAAgXEAAAAAAAABpQAAAAAAAgEdAAAAAAAAgY0BmZmZmZuZEQDMzMzMzMxVAAAAAAAAAP0AAAAAAAABpQAAAAAAAwF5AAAAAAABAW0AAAAAAAEBbQAAAAAAAAC5AAAAAAAAAaUAAAAAAAIBCQAAAAAAAQFtAAAAAAAAANUAAAAAAAABPQGZmZmZmJj1AAAAAAABATEAAAAAAAAA\\u002fQAAAAAAAAGlAAAAAAABAUEAAAAAAAEBbQAAAAAAAQEhAZmZmZmbmREAAAAAAAIBWQAAAAAAAAE9AAAAAAAAAaUAAAAAAAAA\\u002fQAAAAAAAgEFAAAAAAABAUEAAAAAAAEBbQAAAAAAAQEhAzczMzMxsUUAAAAAAAEBIQAAAAAAAwD1AAAAAAAAAT0AAAAAAAAA\\u002fQAAAAAAAAE9AAAAAAADAPUAAAAAAAABPQAAAAAAAQEhA7FG4HoUrUEBmZmZmZuZEQAAAAAAAQFBAAAAAAADgdUAAAAAAAABPQAAAAAAAAGlAAAAAAAAAP0AAAAAAACBjQOxRuB6FK1BAAAAAAAAAT0AAAAAAAMBeQGZmZmZmJj1A7FG4HoUrUEAAAAAAAABPQAAAAAAAwD1AAAAAAACAZEAAAAAAAABpQOxRuB6FK1BAAAAAAAAAT0AAAAAAAIBHQAAAAAAAwFxAAAAAAACAQkAAAAAAAAA5QAAAAAAAAGlAAAAAAABAVUAAAAAAAIBWQDMzMzMzMxVAAAAAAABAW0AAAAAAAMA9QAAAAAAAIGJAAAAAAACAQkAAAAAAAAA\\u002fQAAAAAAAIFxAZmZmZmYmPUAAAAAAAABEQAAAAAAAQGBAAAAAAADAPUAAAAAAAABpQAAAAAAAwD1AZmZmZmYmPUAAAAAAAABPQAAAAAAAQFtAAAAAAAAAaUAAAAAAAAA\\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\"},\"yaxis\":\"y\",\"type\":\"scatter\"}],                        {\"template\":{\"data\":{\"histogram2dcontour\":[{\"type\":\"histogram2dcontour\",\"colorbar\":{\"outlinewidth\":0,\"ticks\":\"\"},\"colorscale\":[[0.0,\"#0d0887\"],[0.1111111111111111,\"#46039f\"],[0.2222222222222222,\"#7201a8\"],[0.3333333333333333,\"#9c179e\"],[0.4444444444444444,\"#bd3786\"],[0.5555555555555556,\"#d8576b\"],[0.6666666666666666,\"#ed7953\"],[0.7777777777777778,\"#fb9f3a\"],[0.8888888888888888,\"#fdca26\"],[1.0,\"#f0f921\"]]}],\"choropleth\":[{\"type\":\"choropleth\",\"colorbar\":{\"outlinewidth\":0,\"ticks\":\"\"}}],\"histogram2d\":[{\"type\":\"histogram2d\",\"colorbar\":{\"outlinewidth\":0,\"ticks\":\"\"},\"colorscale\":[[0.0,\"#0d0887\"],[0.1111111111111111,\"#46039f\"],[0.2222222222222222,\"#7201a8\"],[0.3333333333333333,\"#9c179e\"],[0.4444444444444444,\"#bd3786\"],[0.5555555555555556,\"#d8576b\"],[0.6666666666666666,\"#ed7953\"],[0.7777777777777778,\"#fb9f3a\"],[0.8888888888888888,\"#fdca26\"],[1.0,\"#f0f921\"]]}],\"heatmap\":[{\"type\":\"heatmap\",\"colorbar\":{\"outlinewidth\":0,\"ticks\":\"\"},\"colorscale\":[[0.0,\"#0d0887\"],[0.1111111111111111,\"#46039f\"],[0.2222222222222222,\"#7201a8\"],[0.3333333333333333,\"#9c179e\"],[0.4444444444444444,\"#bd3786\"],[0.5555555555555556,\"#d8576b\"],[0.6666666666666666,\"#ed7953\"],[0.7777777777777778,\"#fb9f3a\"],[0.8888888888888888,\"#fdca26\"],[1.0,\"#f0f921\"]]}],\"contourcarpet\":[{\"type\":\"contourcarpet\",\"colorbar\":{\"outlinewidth\":0,\"ticks\":\"\"}}],\"contour\":[{\"type\":\"contour\",\"colorbar\":{\"outlinewidth\":0,\"ticks\":\"\"},\"colorscale\":[[0.0,\"#0d0887\"],[0.1111111111111111,\"#46039f\"],[0.2222222222222222,\"#7201a8\"],[0.3333333333333333,\"#9c179e\"],[0.4444444444444444,\"#bd3786\"],[0.5555555555555556,\"#d8576b\"],[0.6666666666666666,\"#ed7953\"],[0.7777777777777778,\"#fb9f3a\"],[0.8888888888888888,\"#fdca26\"],[1.0,\"#f0f921\"]]}],\"surface\":[{\"type\":\"surface\",\"colorbar\":{\"outlinewidth\":0,\"ticks\":\"\"},\"colorscale\":[[0.0,\"#0d0887\"],[0.1111111111111111,\"#46039f\"],[0.2222222222222222,\"#7201a8\"],[0.3333333333333333,\"#9c179e\"],[0.4444444444444444,\"#bd3786\"],[0.5555555555555556,\"#d8576b\"],[0.6666666666666666,\"#ed7953\"],[0.7777777777777778,\"#fb9f3a\"],[0.8888888888888888,\"#fdca26\"],[1.0,\"#f0f921\"]]}],\"mesh3d\":[{\"type\":\"mesh3d\",\"colorbar\":{\"outlinewidth\":0,\"ticks\":\"\"}}],\"scatter\":[{\"fillpattern\":{\"fillmode\":\"overlay\",\"size\":10,\"solidity\":0.2},\"type\":\"scatter\"}],\"parcoords\":[{\"type\":\"parcoords\",\"line\":{\"colorbar\":{\"outlinewidth\":0,\"ticks\":\"\"}}}],\"scatterpolargl\":[{\"type\":\"scatterpolargl\",\"marker\":{\"colorbar\":{\"outlinewidth\":0,\"ticks\":\"\"}}}],\"bar\":[{\"error_x\":{\"color\":\"#2a3f5f\"},\"error_y\":{\"color\":\"#2a3f5f\"},\"marker\":{\"line\":{\"color\":\"#E5ECF6\",\"width\":0.5},\"pattern\":{\"fillmode\":\"overlay\",\"size\":10,\"solidity\":0.2}},\"type\":\"bar\"}],\"scattergeo\":[{\"type\":\"scattergeo\",\"marker\":{\"colorbar\":{\"outlinewidth\":0,\"ticks\":\"\"}}}],\"scatterpolar\":[{\"type\":\"scatterpolar\",\"marker\":{\"colorbar\":{\"outlinewidth\":0,\"ticks\":\"\"}}}],\"histogram\":[{\"marker\":{\"pattern\":{\"fillmode\":\"overlay\",\"size\":10,\"solidity\":0.2}},\"type\":\"histogram\"}],\"scattergl\":[{\"type\":\"scattergl\",\"marker\":{\"colorbar\":{\"outlinewidth\":0,\"ticks\":\"\"}}}],\"scatter3d\":[{\"type\":\"scatter3d\",\"line\":{\"colorbar\":{\"outlinewidth\":0,\"ticks\":\"\"}},\"marker\":{\"colorbar\":{\"outlinewidth\":0,\"ticks\":\"\"}}}],\"scattermap\":[{\"type\":\"scattermap\",\"marker\":{\"colorbar\":{\"outlinewidth\":0,\"ticks\":\"\"}}}],\"scattermapbox\":[{\"type\":\"scattermapbox\",\"marker\":{\"colorbar\":{\"outlinewidth\":0,\"ticks\":\"\"}}}],\"scatterternary\":[{\"type\":\"scatterternary\",\"marker\":{\"colorbar\":{\"outlinewidth\":0,\"ticks\":\"\"}}}],\"scattercarpet\":[{\"type\":\"scattercarpet\",\"marker\":{\"colorbar\":{\"outlinewidth\":0,\"ticks\":\"\"}}}],\"carpet\":[{\"aaxis\":{\"endlinecolor\":\"#2a3f5f\",\"gridcolor\":\"white\",\"linecolor\":\"white\",\"minorgridcolor\":\"white\",\"startlinecolor\":\"#2a3f5f\"},\"baxis\":{\"endlinecolor\":\"#2a3f5f\",\"gridcolor\":\"white\",\"linecolor\":\"white\",\"minorgridcolor\":\"white\",\"startlinecolor\":\"#2a3f5f\"},\"type\":\"carpet\"}],\"table\":[{\"cells\":{\"fill\":{\"color\":\"#EBF0F8\"},\"line\":{\"color\":\"white\"}},\"header\":{\"fill\":{\"color\":\"#C8D4E3\"},\"line\":{\"color\":\"white\"}},\"type\":\"table\"}],\"barpolar\":[{\"marker\":{\"line\":{\"color\":\"#E5ECF6\",\"width\":0.5},\"pattern\":{\"fillmode\":\"overlay\",\"size\":10,\"solidity\":0.2}},\"type\":\"barpolar\"}],\"pie\":[{\"automargin\":true,\"type\":\"pie\"}]},\"layout\":{\"autotypenumbers\":\"strict\",\"colorway\":[\"#636efa\",\"#EF553B\",\"#00cc96\",\"#ab63fa\",\"#FFA15A\",\"#19d3f3\",\"#FF6692\",\"#B6E880\",\"#FF97FF\",\"#FECB52\"],\"font\":{\"color\":\"#2a3f5f\"},\"hovermode\":\"closest\",\"hoverlabel\":{\"align\":\"left\"},\"paper_bgcolor\":\"white\",\"plot_bgcolor\":\"#E5ECF6\",\"polar\":{\"bgcolor\":\"#E5ECF6\",\"angularaxis\":{\"gridcolor\":\"white\",\"linecolor\":\"white\",\"ticks\":\"\"},\"radialaxis\":{\"gridcolor\":\"white\",\"linecolor\":\"white\",\"ticks\":\"\"}},\"ternary\":{\"bgcolor\":\"#E5ECF6\",\"aaxis\":{\"gridcolor\":\"white\",\"linecolor\":\"white\",\"ticks\":\"\"},\"baxis\":{\"gridcolor\":\"white\",\"linecolor\":\"white\",\"ticks\":\"\"},\"caxis\":{\"gridcolor\":\"white\",\"linecolor\":\"white\",\"ticks\":\"\"}},\"coloraxis\":{\"colorbar\":{\"outlinewidth\":0,\"ticks\":\"\"}},\"colorscale\":{\"sequential\":[[0.0,\"#0d0887\"],[0.1111111111111111,\"#46039f\"],[0.2222222222222222,\"#7201a8\"],[0.3333333333333333,\"#9c179e\"],[0.4444444444444444,\"#bd3786\"],[0.5555555555555556,\"#d8576b\"],[0.6666666666666666,\"#ed7953\"],[0.7777777777777778,\"#fb9f3a\"],[0.8888888888888888,\"#fdca26\"],[1.0,\"#f0f921\"]],\"sequentialminus\":[[0.0,\"#0d0887\"],[0.1111111111111111,\"#46039f\"],[0.2222222222222222,\"#7201a8\"],[0.3333333333333333,\"#9c179e\"],[0.4444444444444444,\"#bd3786\"],[0.5555555555555556,\"#d8576b\"],[0.6666666666666666,\"#ed7953\"],[0.7777777777777778,\"#fb9f3a\"],[0.8888888888888888,\"#fdca26\"],[1.0,\"#f0f921\"]],\"diverging\":[[0,\"#8e0152\"],[0.1,\"#c51b7d\"],[0.2,\"#de77ae\"],[0.3,\"#f1b6da\"],[0.4,\"#fde0ef\"],[0.5,\"#f7f7f7\"],[0.6,\"#e6f5d0\"],[0.7,\"#b8e186\"],[0.8,\"#7fbc41\"],[0.9,\"#4d9221\"],[1,\"#276419\"]]},\"xaxis\":{\"gridcolor\":\"white\",\"linecolor\":\"white\",\"ticks\":\"\",\"title\":{\"standoff\":15},\"zerolinecolor\":\"white\",\"automargin\":true,\"zerolinewidth\":2},\"yaxis\":{\"gridcolor\":\"white\",\"linecolor\":\"white\",\"ticks\":\"\",\"title\":{\"standoff\":15},\"zerolinecolor\":\"white\",\"automargin\":true,\"zerolinewidth\":2},\"scene\":{\"xaxis\":{\"backgroundcolor\":\"#E5ECF6\",\"gridcolor\":\"white\",\"linecolor\":\"white\",\"showbackground\":true,\"ticks\":\"\",\"zerolinecolor\":\"white\",\"gridwidth\":2},\"yaxis\":{\"backgroundcolor\":\"#E5ECF6\",\"gridcolor\":\"white\",\"linecolor\":\"white\",\"showbackground\":true,\"ticks\":\"\",\"zerolinecolor\":\"white\",\"gridwidth\":2},\"zaxis\":{\"backgroundcolor\":\"#E5ECF6\",\"gridcolor\":\"white\",\"linecolor\":\"white\",\"showbackground\":true,\"ticks\":\"\",\"zerolinecolor\":\"white\",\"gridwidth\":2}},\"shapedefaults\":{\"line\":{\"color\":\"#2a3f5f\"}},\"annotationdefaults\":{\"arrowcolor\":\"#2a3f5f\",\"arrowhead\":0,\"arrowwidth\":1},\"geo\":{\"bgcolor\":\"white\",\"landcolor\":\"#E5ECF6\",\"subunitcolor\":\"white\",\"showland\":true,\"showlakes\":true,\"lakecolor\":\"white\"},\"title\":{\"x\":0.05},\"mapbox\":{\"style\":\"light\"}}},\"xaxis\":{\"anchor\":\"y\",\"domain\":[0.0,1.0],\"title\":{\"text\":\"Date\"}},\"yaxis\":{\"anchor\":\"x\",\"domain\":[0.0,1.0],\"title\":{\"text\":\"Price\"}},\"legend\":{\"tracegroupgap\":0},\"title\":{\"text\":\"Average Launch Price Over Time\"}},                        {\"responsive\": true}                    ).then(function(){\n",
              "                            \n",
              "var gd = document.getElementById('63d0c0ba-47d7-4288-9e10-c8a88e989dda');\n",
              "var x = new MutationObserver(function (mutations, observer) {{\n",
              "        var display = window.getComputedStyle(gd).display;\n",
              "        if (!display || display === 'none') {{\n",
              "            console.log([gd, 'removed!']);\n",
              "            Plotly.purge(gd);\n",
              "            observer.disconnect();\n",
              "        }}\n",
              "}});\n",
              "\n",
              "// Listen for the removal of the full notebook cells\n",
              "var notebookContainer = gd.closest('#notebook-container');\n",
              "if (notebookContainer) {{\n",
              "    x.observe(notebookContainer, {childList: true});\n",
              "}}\n",
              "\n",
              "// Listen for the clearing of the current output cell\n",
              "var outputEl = gd.closest('.output');\n",
              "if (outputEl) {{\n",
              "    x.observe(outputEl, {childList: true});\n",
              "}}\n",
              "\n",
              "                        })                };            </script>        </div>\n",
              "</body>\n",
              "</html>"
            ]
          },
          "metadata": {}
        }
      ]
    },
    {
      "cell_type": "markdown",
      "metadata": {
        "papermill": {
          "duration": 0.047152,
          "end_time": "2020-10-20T21:34:11.681371",
          "exception": false,
          "start_time": "2020-10-20T21:34:11.634219",
          "status": "completed"
        },
        "tags": [],
        "id": "8OYrWyiOa-qs"
      },
      "source": [
        "# Chart the Number of Launches over Time by the Top 10 Organisations.\n",
        "\n",
        "How has the dominance of launches changed over time between the different players?"
      ]
    },
    {
      "cell_type": "code",
      "source": [
        "yearly_org_launches = df_data.groupby(['Year', 'Organisation']).size().reset_index(name='Launch Count')\n",
        "top_10_organisations = df_data['Organisation'].value_counts().nlargest(10).index\n",
        "yearly_top_10_launches = yearly_org_launches[yearly_org_launches['Organisation'].isin(top_10_organisations)]\n",
        "\n",
        "fig = px.bar(yearly_top_10_launches,\n",
        "             x='Year',\n",
        "             y='Launch Count',\n",
        "             color='Organisation',\n",
        "             title='Number of Launches per Year by Top 10 Organizations')\n",
        "fig.show()"
      ],
      "metadata": {
        "colab": {
          "base_uri": "https://localhost:8080/",
          "height": 542
        },
        "id": "fbczi8RoWpt-",
        "outputId": "971d17c0-0089-4513-d60c-7afa43d992f4"
      },
      "execution_count": 30,
      "outputs": [
        {
          "output_type": "display_data",
          "data": {
            "text/html": [
              "<html>\n",
              "<head><meta charset=\"utf-8\" /></head>\n",
              "<body>\n",
              "    <div>            <script src=\"https://cdnjs.cloudflare.com/ajax/libs/mathjax/2.7.5/MathJax.js?config=TeX-AMS-MML_SVG\"></script><script type=\"text/javascript\">if (window.MathJax && window.MathJax.Hub && window.MathJax.Hub.Config) {window.MathJax.Hub.Config({SVG: {font: \"STIX-Web\"}});}</script>                <script type=\"text/javascript\">window.PlotlyConfig = {MathJaxConfig: 'local'};</script>\n",
              "        <script charset=\"utf-8\" src=\"https://cdn.plot.ly/plotly-3.1.0.min.js\" integrity=\"sha256-Ei4740bWZhaUTQuD6q9yQlgVCMPBz6CZWhevDYPv93A=\" crossorigin=\"anonymous\"></script>                <div id=\"73714760-97e8-422f-ba00-46af77d28197\" class=\"plotly-graph-div\" style=\"height:525px; width:100%;\"></div>            <script type=\"text/javascript\">                window.PLOTLYENV=window.PLOTLYENV || {};                                if (document.getElementById(\"73714760-97e8-422f-ba00-46af77d28197\")) {                    Plotly.newPlot(                        \"73714760-97e8-422f-ba00-46af77d28197\",                        [{\"hovertemplate\":\"Organisation=RVSN USSR\\u003cbr\\u003eYear=%{x}\\u003cbr\\u003eLaunch Count=%{y}\\u003cextra\\u003e\\u003c\\u002fextra\\u003e\",\"legendgroup\":\"RVSN USSR\",\"marker\":{\"color\":\"#636efa\",\"pattern\":{\"shape\":\"\"}},\"name\":\"RVSN USSR\",\"orientation\":\"v\",\"showlegend\":true,\"textposition\":\"auto\",\"x\":{\"dtype\":\"i4\",\"bdata\":\"pQcAAKYHAACnBwAAqAcAAKkHAACqBwAAqwcAAKwHAACtBwAArgcAAK8HAACwBwAAsQcAALIHAACzBwAAtAcAALUHAAC2BwAAtwcAALgHAAC5BwAAugcAALsHAAC8BwAAvQcAAL4HAAC\\u002fBwAAwAcAAMEHAADCBwAAwwcAAMQHAADFBwAAxgcAAMcHAADIBwAAywcAAMwHAADOBwAA\"},\"xaxis\":\"x\",\"y\":{\"dtype\":\"i1\",\"bdata\":\"AgUECQkWGCQ1M0pPUlddT1RTWV9hRyQoMzUuKjMxKiQaJRwJAQEB\"},\"yaxis\":\"y\",\"type\":\"bar\"},{\"hovertemplate\":\"Organisation=NASA\\u003cbr\\u003eYear=%{x}\\u003cbr\\u003eLaunch Count=%{y}\\u003cextra\\u003e\\u003c\\u002fextra\\u003e\",\"legendgroup\":\"NASA\",\"marker\":{\"color\":\"#EF553B\",\"pattern\":{\"shape\":\"\"}},\"name\":\"NASA\",\"orientation\":\"v\",\"showlegend\":true,\"textposition\":\"auto\",\"x\":{\"dtype\":\"i4\",\"bdata\":\"pgcAAKcHAACoBwAAqQcAAKoHAACrBwAArAcAAK0HAACuBwAArwcAALAHAACxBwAAsgcAALMHAAC0BwAAtQcAALcHAAC9BwAAvgcAAL8HAADABwAAwQcAAMIHAADEBwAAxQcAAMYHAADHBwAAyAcAAMkHAADKBwAAywcAAMwHAADNBwAAzgcAAM8HAADQBwAA0QcAANIHAADTBwAA1QcAANYHAADXBwAA2AcAANkHAADaBwAA2wcAAA==\"},\"xaxis\":\"x\",\"y\":{\"dtype\":\"i1\",\"bdata\":\"AgEEDAUCBAkIAgQEAQICBAECAwQFCQICBQYGCAcHBwcIBQMFBgUBAQMDBAYDAw==\"},\"yaxis\":\"y\",\"type\":\"bar\"},{\"hovertemplate\":\"Organisation=US Air Force\\u003cbr\\u003eYear=%{x}\\u003cbr\\u003eLaunch Count=%{y}\\u003cextra\\u003e\\u003c\\u002fextra\\u003e\",\"legendgroup\":\"US Air Force\",\"marker\":{\"color\":\"#00cc96\",\"pattern\":{\"shape\":\"\"}},\"name\":\"US Air Force\",\"orientation\":\"v\",\"showlegend\":true,\"textposition\":\"auto\",\"x\":{\"dtype\":\"i4\",\"bdata\":\"pgcAAKcHAACoBwAAqQcAAKoHAACrBwAArAcAAK0HAACuBwAArwcAALAHAACxBwAAsgcAALMHAAC0BwAAtQcAALYHAAC3BwAAuAcAALkHAAC7BwAAvQcAAL4HAAC\\u002fBwAAwAcAAA==\"},\"xaxis\":\"x\",\"y\":{\"dtype\":\"i1\",\"bdata\":\"AgoVFykGAgIDBwgGBQQEAwMCAgIBAQEBAQ==\"},\"yaxis\":\"y\",\"type\":\"bar\"},{\"hovertemplate\":\"Organisation=General Dynamics\\u003cbr\\u003eYear=%{x}\\u003cbr\\u003eLaunch Count=%{y}\\u003cextra\\u003e\\u003c\\u002fextra\\u003e\",\"legendgroup\":\"General Dynamics\",\"marker\":{\"color\":\"#ab63fa\",\"pattern\":{\"shape\":\"\"}},\"name\":\"General Dynamics\",\"orientation\":\"v\",\"showlegend\":true,\"textposition\":\"auto\",\"x\":{\"dtype\":\"i4\",\"bdata\":\"pwcAAKgHAACpBwAAqgcAAKsHAACsBwAArQcAAK4HAACvBwAAsAcAALEHAACyBwAAswcAALQHAAC1BwAAtgcAALcHAAC4BwAAuQcAALoHAAC7BwAAvAcAAL0HAAC+BwAAvwcAAMAHAADBBwAAwgcAAMMHAADEBwAAxQcAAMYHAADHBwAAyAcAAMkHAADKBwAAywcAAA==\"},\"xaxis\":\"x\",\"y\":{\"dtype\":\"i1\",\"bdata\":\"AQUIDgkSEyEOCAUDBgYEAgUEBw4ECAYDBgUFAwMCAQIEBQYCAQ==\"},\"yaxis\":\"y\",\"type\":\"bar\"},{\"hovertemplate\":\"Organisation=Martin Marietta\\u003cbr\\u003eYear=%{x}\\u003cbr\\u003eLaunch Count=%{y}\\u003cextra\\u003e\\u003c\\u002fextra\\u003e\",\"legendgroup\":\"Martin Marietta\",\"marker\":{\"color\":\"#FFA15A\",\"pattern\":{\"shape\":\"\"}},\"name\":\"Martin Marietta\",\"orientation\":\"v\",\"showlegend\":true,\"textposition\":\"auto\",\"x\":{\"dtype\":\"i4\",\"bdata\":\"rQcAAK4HAACvBwAAsAcAALEHAACyBwAAswcAALQHAAC1BwAAtgcAALcHAAC4BwAAuQcAALoHAAC7BwAAvAcAAL0HAAC+BwAAvwcAAMAHAADBBwAAwgcAAMMHAADEBwAAxQcAAMYHAADHBwAAyAcAAMkHAADKBwAA\"},\"xaxis\":\"x\",\"y\":{\"dtype\":\"i1\",\"bdata\":\"AwMDAgICBAUGBQcHBQcEAwQEAgYCAQMDBAUCAwIF\"},\"yaxis\":\"y\",\"type\":\"bar\"},{\"hovertemplate\":\"Organisation=CASC\\u003cbr\\u003eYear=%{x}\\u003cbr\\u003eLaunch Count=%{y}\\u003cextra\\u003e\\u003c\\u002fextra\\u003e\",\"legendgroup\":\"CASC\",\"marker\":{\"color\":\"#19d3f3\",\"pattern\":{\"shape\":\"\"}},\"name\":\"CASC\",\"orientation\":\"v\",\"showlegend\":true,\"textposition\":\"auto\",\"x\":{\"dtype\":\"i4\",\"bdata\":\"sQcAALIHAACzBwAAtAcAALUHAAC2BwAAtwcAALgHAAC5BwAAugcAALsHAAC9BwAAvgcAAL8HAADABwAAwQcAAMIHAADDBwAAxAcAAMYHAADHBwAAyAcAAMkHAADKBwAAywcAAMwHAADNBwAAzgcAAM8HAADQBwAA0QcAANIHAADTBwAA1AcAANUHAADWBwAA1wcAANgHAADbBwAA3AcAAN0HAADfBwAA4AcAAOEHAADiBwAA4wcAAOQHAAA=\"},\"xaxis\":\"x\",\"y\":{\"dtype\":\"i1\",\"bdata\":\"AQEBAQECAwMBAgEBAQEDAQICBAUBBAEFAwQGBgQEAQQGCAUGCgkCAQECFhAlGxM=\"},\"yaxis\":\"y\",\"type\":\"bar\"},{\"hovertemplate\":\"Organisation=Arianespace\\u003cbr\\u003eYear=%{x}\\u003cbr\\u003eLaunch Count=%{y}\\u003cextra\\u003e\\u003c\\u002fextra\\u003e\",\"legendgroup\":\"Arianespace\",\"marker\":{\"color\":\"#FF6692\",\"pattern\":{\"shape\":\"\"}},\"name\":\"Arianespace\",\"orientation\":\"v\",\"showlegend\":true,\"textposition\":\"auto\",\"x\":{\"dtype\":\"i4\",\"bdata\":\"wAcAAMEHAADCBwAAwwcAAMQHAADFBwAAxgcAAMcHAADIBwAAyQcAAMoHAADLBwAAzAcAAM0HAADOBwAAzwcAANAHAADRBwAA0gcAANMHAADUBwAA1QcAANYHAADXBwAA2AcAANkHAADaBwAA2wcAANwHAADdBwAA3gcAAN8HAADgBwAA4QcAAOIHAADjBwAA5AcAAA==\"},\"xaxis\":\"x\",\"y\":{\"dtype\":\"i1\",\"bdata\":\"AwQDAgYHBggHBwgLCgsKCgwIDAQDBQUGBgcGBwkHCwwLCwsJBA==\"},\"yaxis\":\"y\",\"type\":\"bar\"},{\"hovertemplate\":\"Organisation=Boeing\\u003cbr\\u003eYear=%{x}\\u003cbr\\u003eLaunch Count=%{y}\\u003cextra\\u003e\\u003c\\u002fextra\\u003e\",\"legendgroup\":\"Boeing\",\"marker\":{\"color\":\"#B6E880\",\"pattern\":{\"shape\":\"\"}},\"name\":\"Boeing\",\"orientation\":\"v\",\"showlegend\":true,\"textposition\":\"auto\",\"x\":{\"dtype\":\"i4\",\"bdata\":\"xQcAAMYHAADHBwAAyAcAAMkHAADKBwAAywcAAMwHAADNBwAAzgcAAM8HAADQBwAA0QcAANIHAADTBwAA1AcAANUHAADWBwAA\"},\"xaxis\":\"x\",\"y\":{\"dtype\":\"i1\",\"bdata\":\"BQsFCwcDAwoLDQsHBwQJCAMI\"},\"yaxis\":\"y\",\"type\":\"bar\"},{\"hovertemplate\":\"Organisation=VKS RF\\u003cbr\\u003eYear=%{x}\\u003cbr\\u003eLaunch Count=%{y}\\u003cextra\\u003e\\u003c\\u002fextra\\u003e\",\"legendgroup\":\"VKS RF\",\"marker\":{\"color\":\"#FF97FF\",\"pattern\":{\"shape\":\"\"}},\"name\":\"VKS RF\",\"orientation\":\"v\",\"showlegend\":true,\"textposition\":\"auto\",\"x\":{\"dtype\":\"i4\",\"bdata\":\"yAcAAMkHAADKBwAAywcAAMwHAADNBwAAzgcAAM8HAADQBwAA0QcAANIHAADTBwAA1AcAANUHAADWBwAA1wcAANgHAADZBwAA2gcAANsHAADcBwAA3QcAAN4HAADfBwAA4AcAAOEHAADiBwAA4wcAAOQHAAA=\"},\"xaxis\":\"x\",\"y\":{\"dtype\":\"i1\",\"bdata\":\"DhoVDAkHCQYGBgYGBwUDBQUDAwEBBwQDBAYFCAM=\"},\"yaxis\":\"y\",\"type\":\"bar\"},{\"hovertemplate\":\"Organisation=ULA\\u003cbr\\u003eYear=%{x}\\u003cbr\\u003eLaunch Count=%{y}\\u003cextra\\u003e\\u003c\\u002fextra\\u003e\",\"legendgroup\":\"ULA\",\"marker\":{\"color\":\"#FECB52\",\"pattern\":{\"shape\":\"\"}},\"name\":\"ULA\",\"orientation\":\"v\",\"showlegend\":true,\"textposition\":\"auto\",\"x\":{\"dtype\":\"i4\",\"bdata\":\"1gcAANcHAADYBwAA2QcAANoHAADbBwAA3AcAAN0HAADeBwAA3wcAAOAHAADhBwAA4gcAAOMHAADkBwAA\"},\"xaxis\":\"x\",\"y\":{\"dtype\":\"i1\",\"bdata\":\"AQ0HEAgLCgsODAwICAUE\"},\"yaxis\":\"y\",\"type\":\"bar\"}],                        {\"template\":{\"data\":{\"histogram2dcontour\":[{\"type\":\"histogram2dcontour\",\"colorbar\":{\"outlinewidth\":0,\"ticks\":\"\"},\"colorscale\":[[0.0,\"#0d0887\"],[0.1111111111111111,\"#46039f\"],[0.2222222222222222,\"#7201a8\"],[0.3333333333333333,\"#9c179e\"],[0.4444444444444444,\"#bd3786\"],[0.5555555555555556,\"#d8576b\"],[0.6666666666666666,\"#ed7953\"],[0.7777777777777778,\"#fb9f3a\"],[0.8888888888888888,\"#fdca26\"],[1.0,\"#f0f921\"]]}],\"choropleth\":[{\"type\":\"choropleth\",\"colorbar\":{\"outlinewidth\":0,\"ticks\":\"\"}}],\"histogram2d\":[{\"type\":\"histogram2d\",\"colorbar\":{\"outlinewidth\":0,\"ticks\":\"\"},\"colorscale\":[[0.0,\"#0d0887\"],[0.1111111111111111,\"#46039f\"],[0.2222222222222222,\"#7201a8\"],[0.3333333333333333,\"#9c179e\"],[0.4444444444444444,\"#bd3786\"],[0.5555555555555556,\"#d8576b\"],[0.6666666666666666,\"#ed7953\"],[0.7777777777777778,\"#fb9f3a\"],[0.8888888888888888,\"#fdca26\"],[1.0,\"#f0f921\"]]}],\"heatmap\":[{\"type\":\"heatmap\",\"colorbar\":{\"outlinewidth\":0,\"ticks\":\"\"},\"colorscale\":[[0.0,\"#0d0887\"],[0.1111111111111111,\"#46039f\"],[0.2222222222222222,\"#7201a8\"],[0.3333333333333333,\"#9c179e\"],[0.4444444444444444,\"#bd3786\"],[0.5555555555555556,\"#d8576b\"],[0.6666666666666666,\"#ed7953\"],[0.7777777777777778,\"#fb9f3a\"],[0.8888888888888888,\"#fdca26\"],[1.0,\"#f0f921\"]]}],\"contourcarpet\":[{\"type\":\"contourcarpet\",\"colorbar\":{\"outlinewidth\":0,\"ticks\":\"\"}}],\"contour\":[{\"type\":\"contour\",\"colorbar\":{\"outlinewidth\":0,\"ticks\":\"\"},\"colorscale\":[[0.0,\"#0d0887\"],[0.1111111111111111,\"#46039f\"],[0.2222222222222222,\"#7201a8\"],[0.3333333333333333,\"#9c179e\"],[0.4444444444444444,\"#bd3786\"],[0.5555555555555556,\"#d8576b\"],[0.6666666666666666,\"#ed7953\"],[0.7777777777777778,\"#fb9f3a\"],[0.8888888888888888,\"#fdca26\"],[1.0,\"#f0f921\"]]}],\"surface\":[{\"type\":\"surface\",\"colorbar\":{\"outlinewidth\":0,\"ticks\":\"\"},\"colorscale\":[[0.0,\"#0d0887\"],[0.1111111111111111,\"#46039f\"],[0.2222222222222222,\"#7201a8\"],[0.3333333333333333,\"#9c179e\"],[0.4444444444444444,\"#bd3786\"],[0.5555555555555556,\"#d8576b\"],[0.6666666666666666,\"#ed7953\"],[0.7777777777777778,\"#fb9f3a\"],[0.8888888888888888,\"#fdca26\"],[1.0,\"#f0f921\"]]}],\"mesh3d\":[{\"type\":\"mesh3d\",\"colorbar\":{\"outlinewidth\":0,\"ticks\":\"\"}}],\"scatter\":[{\"fillpattern\":{\"fillmode\":\"overlay\",\"size\":10,\"solidity\":0.2},\"type\":\"scatter\"}],\"parcoords\":[{\"type\":\"parcoords\",\"line\":{\"colorbar\":{\"outlinewidth\":0,\"ticks\":\"\"}}}],\"scatterpolargl\":[{\"type\":\"scatterpolargl\",\"marker\":{\"colorbar\":{\"outlinewidth\":0,\"ticks\":\"\"}}}],\"bar\":[{\"error_x\":{\"color\":\"#2a3f5f\"},\"error_y\":{\"color\":\"#2a3f5f\"},\"marker\":{\"line\":{\"color\":\"#E5ECF6\",\"width\":0.5},\"pattern\":{\"fillmode\":\"overlay\",\"size\":10,\"solidity\":0.2}},\"type\":\"bar\"}],\"scattergeo\":[{\"type\":\"scattergeo\",\"marker\":{\"colorbar\":{\"outlinewidth\":0,\"ticks\":\"\"}}}],\"scatterpolar\":[{\"type\":\"scatterpolar\",\"marker\":{\"colorbar\":{\"outlinewidth\":0,\"ticks\":\"\"}}}],\"histogram\":[{\"marker\":{\"pattern\":{\"fillmode\":\"overlay\",\"size\":10,\"solidity\":0.2}},\"type\":\"histogram\"}],\"scattergl\":[{\"type\":\"scattergl\",\"marker\":{\"colorbar\":{\"outlinewidth\":0,\"ticks\":\"\"}}}],\"scatter3d\":[{\"type\":\"scatter3d\",\"line\":{\"colorbar\":{\"outlinewidth\":0,\"ticks\":\"\"}},\"marker\":{\"colorbar\":{\"outlinewidth\":0,\"ticks\":\"\"}}}],\"scattermap\":[{\"type\":\"scattermap\",\"marker\":{\"colorbar\":{\"outlinewidth\":0,\"ticks\":\"\"}}}],\"scattermapbox\":[{\"type\":\"scattermapbox\",\"marker\":{\"colorbar\":{\"outlinewidth\":0,\"ticks\":\"\"}}}],\"scatterternary\":[{\"type\":\"scatterternary\",\"marker\":{\"colorbar\":{\"outlinewidth\":0,\"ticks\":\"\"}}}],\"scattercarpet\":[{\"type\":\"scattercarpet\",\"marker\":{\"colorbar\":{\"outlinewidth\":0,\"ticks\":\"\"}}}],\"carpet\":[{\"aaxis\":{\"endlinecolor\":\"#2a3f5f\",\"gridcolor\":\"white\",\"linecolor\":\"white\",\"minorgridcolor\":\"white\",\"startlinecolor\":\"#2a3f5f\"},\"baxis\":{\"endlinecolor\":\"#2a3f5f\",\"gridcolor\":\"white\",\"linecolor\":\"white\",\"minorgridcolor\":\"white\",\"startlinecolor\":\"#2a3f5f\"},\"type\":\"carpet\"}],\"table\":[{\"cells\":{\"fill\":{\"color\":\"#EBF0F8\"},\"line\":{\"color\":\"white\"}},\"header\":{\"fill\":{\"color\":\"#C8D4E3\"},\"line\":{\"color\":\"white\"}},\"type\":\"table\"}],\"barpolar\":[{\"marker\":{\"line\":{\"color\":\"#E5ECF6\",\"width\":0.5},\"pattern\":{\"fillmode\":\"overlay\",\"size\":10,\"solidity\":0.2}},\"type\":\"barpolar\"}],\"pie\":[{\"automargin\":true,\"type\":\"pie\"}]},\"layout\":{\"autotypenumbers\":\"strict\",\"colorway\":[\"#636efa\",\"#EF553B\",\"#00cc96\",\"#ab63fa\",\"#FFA15A\",\"#19d3f3\",\"#FF6692\",\"#B6E880\",\"#FF97FF\",\"#FECB52\"],\"font\":{\"color\":\"#2a3f5f\"},\"hovermode\":\"closest\",\"hoverlabel\":{\"align\":\"left\"},\"paper_bgcolor\":\"white\",\"plot_bgcolor\":\"#E5ECF6\",\"polar\":{\"bgcolor\":\"#E5ECF6\",\"angularaxis\":{\"gridcolor\":\"white\",\"linecolor\":\"white\",\"ticks\":\"\"},\"radialaxis\":{\"gridcolor\":\"white\",\"linecolor\":\"white\",\"ticks\":\"\"}},\"ternary\":{\"bgcolor\":\"#E5ECF6\",\"aaxis\":{\"gridcolor\":\"white\",\"linecolor\":\"white\",\"ticks\":\"\"},\"baxis\":{\"gridcolor\":\"white\",\"linecolor\":\"white\",\"ticks\":\"\"},\"caxis\":{\"gridcolor\":\"white\",\"linecolor\":\"white\",\"ticks\":\"\"}},\"coloraxis\":{\"colorbar\":{\"outlinewidth\":0,\"ticks\":\"\"}},\"colorscale\":{\"sequential\":[[0.0,\"#0d0887\"],[0.1111111111111111,\"#46039f\"],[0.2222222222222222,\"#7201a8\"],[0.3333333333333333,\"#9c179e\"],[0.4444444444444444,\"#bd3786\"],[0.5555555555555556,\"#d8576b\"],[0.6666666666666666,\"#ed7953\"],[0.7777777777777778,\"#fb9f3a\"],[0.8888888888888888,\"#fdca26\"],[1.0,\"#f0f921\"]],\"sequentialminus\":[[0.0,\"#0d0887\"],[0.1111111111111111,\"#46039f\"],[0.2222222222222222,\"#7201a8\"],[0.3333333333333333,\"#9c179e\"],[0.4444444444444444,\"#bd3786\"],[0.5555555555555556,\"#d8576b\"],[0.6666666666666666,\"#ed7953\"],[0.7777777777777778,\"#fb9f3a\"],[0.8888888888888888,\"#fdca26\"],[1.0,\"#f0f921\"]],\"diverging\":[[0,\"#8e0152\"],[0.1,\"#c51b7d\"],[0.2,\"#de77ae\"],[0.3,\"#f1b6da\"],[0.4,\"#fde0ef\"],[0.5,\"#f7f7f7\"],[0.6,\"#e6f5d0\"],[0.7,\"#b8e186\"],[0.8,\"#7fbc41\"],[0.9,\"#4d9221\"],[1,\"#276419\"]]},\"xaxis\":{\"gridcolor\":\"white\",\"linecolor\":\"white\",\"ticks\":\"\",\"title\":{\"standoff\":15},\"zerolinecolor\":\"white\",\"automargin\":true,\"zerolinewidth\":2},\"yaxis\":{\"gridcolor\":\"white\",\"linecolor\":\"white\",\"ticks\":\"\",\"title\":{\"standoff\":15},\"zerolinecolor\":\"white\",\"automargin\":true,\"zerolinewidth\":2},\"scene\":{\"xaxis\":{\"backgroundcolor\":\"#E5ECF6\",\"gridcolor\":\"white\",\"linecolor\":\"white\",\"showbackground\":true,\"ticks\":\"\",\"zerolinecolor\":\"white\",\"gridwidth\":2},\"yaxis\":{\"backgroundcolor\":\"#E5ECF6\",\"gridcolor\":\"white\",\"linecolor\":\"white\",\"showbackground\":true,\"ticks\":\"\",\"zerolinecolor\":\"white\",\"gridwidth\":2},\"zaxis\":{\"backgroundcolor\":\"#E5ECF6\",\"gridcolor\":\"white\",\"linecolor\":\"white\",\"showbackground\":true,\"ticks\":\"\",\"zerolinecolor\":\"white\",\"gridwidth\":2}},\"shapedefaults\":{\"line\":{\"color\":\"#2a3f5f\"}},\"annotationdefaults\":{\"arrowcolor\":\"#2a3f5f\",\"arrowhead\":0,\"arrowwidth\":1},\"geo\":{\"bgcolor\":\"white\",\"landcolor\":\"#E5ECF6\",\"subunitcolor\":\"white\",\"showland\":true,\"showlakes\":true,\"lakecolor\":\"white\"},\"title\":{\"x\":0.05},\"mapbox\":{\"style\":\"light\"}}},\"xaxis\":{\"anchor\":\"y\",\"domain\":[0.0,1.0],\"title\":{\"text\":\"Year\"}},\"yaxis\":{\"anchor\":\"x\",\"domain\":[0.0,1.0],\"title\":{\"text\":\"Launch Count\"}},\"legend\":{\"title\":{\"text\":\"Organisation\"},\"tracegroupgap\":0},\"title\":{\"text\":\"Number of Launches per Year by Top 10 Organizations\"},\"barmode\":\"relative\"},                        {\"responsive\": true}                    ).then(function(){\n",
              "                            \n",
              "var gd = document.getElementById('73714760-97e8-422f-ba00-46af77d28197');\n",
              "var x = new MutationObserver(function (mutations, observer) {{\n",
              "        var display = window.getComputedStyle(gd).display;\n",
              "        if (!display || display === 'none') {{\n",
              "            console.log([gd, 'removed!']);\n",
              "            Plotly.purge(gd);\n",
              "            observer.disconnect();\n",
              "        }}\n",
              "}});\n",
              "\n",
              "// Listen for the removal of the full notebook cells\n",
              "var notebookContainer = gd.closest('#notebook-container');\n",
              "if (notebookContainer) {{\n",
              "    x.observe(notebookContainer, {childList: true});\n",
              "}}\n",
              "\n",
              "// Listen for the clearing of the current output cell\n",
              "var outputEl = gd.closest('.output');\n",
              "if (outputEl) {{\n",
              "    x.observe(outputEl, {childList: true});\n",
              "}}\n",
              "\n",
              "                        })                };            </script>        </div>\n",
              "</body>\n",
              "</html>"
            ]
          },
          "metadata": {}
        }
      ]
    },
    {
      "cell_type": "markdown",
      "metadata": {
        "papermill": {
          "duration": 0.052399,
          "end_time": "2020-10-20T21:34:13.756781",
          "exception": false,
          "start_time": "2020-10-20T21:34:13.704382",
          "status": "completed"
        },
        "tags": [],
        "id": "6Cm8_ch6a-q7"
      },
      "source": [
        "# Cold War Space Race: USA vs USSR\n",
        "\n",
        "The cold war lasted from the start of the dataset up until 1991."
      ]
    },
    {
      "cell_type": "code",
      "source": [
        "# Keep Cold War years only\n",
        "cold_war_df = df_data[df_data['Year'] <= 1991].copy()\n",
        "\n",
        "# Accept common alpha-3 codes\n",
        "usa_codes  = {'USA'}\n",
        "ussr_codes = {'SUN', 'URS', 'RUS', 'KAZ'}\n",
        "\n",
        "# Filter to just USA + USSR-related rows\n",
        "cold_war_df = cold_war_df[\n",
        "    cold_war_df['Country_Alpha3'].isin(usa_codes | ussr_codes)\n",
        "].copy()\n",
        "\n",
        "# Create the comparison label\n",
        "cold_war_df['Country_'] = np.where(\n",
        "    cold_war_df['Country_Alpha3'].isin(usa_codes), 'USA', 'USSR'\n",
        ")"
      ],
      "metadata": {
        "id": "eLLFF0ardtcC"
      },
      "execution_count": 40,
      "outputs": []
    },
    {
      "cell_type": "markdown",
      "metadata": {
        "papermill": {
          "duration": 0.052921,
          "end_time": "2020-10-20T21:34:14.340085",
          "exception": false,
          "start_time": "2020-10-20T21:34:14.287164",
          "status": "completed"
        },
        "tags": [],
        "id": "0C29Zz4xa-rA"
      },
      "source": [
        "## Create a Chart that Shows the Total Number of Launches Year-On-Year by the Two Superpowers"
      ]
    },
    {
      "cell_type": "code",
      "metadata": {
        "id": "9ISKvOiCrS73",
        "colab": {
          "base_uri": "https://localhost:8080/",
          "height": 542
        },
        "outputId": "78eea097-af0d-46ad-91d5-d5bf0ffb76fc"
      },
      "source": [
        "# Group by year and country and count launches\n",
        "cold_war_launches = cold_war_df.groupby(['Year', 'Country_'])['Detail'].count().reset_index()\n",
        "cold_war_launches.columns = ['Year', 'Country_', 'Launch Count']\n",
        "\n",
        "# Create a line chart\n",
        "fig = px.line(cold_war_launches,\n",
        "              x='Year',\n",
        "              y='Launch Count',\n",
        "              color='Country_',\n",
        "              title='Total Number of Launches Year-on-Year: USA vs USSR')\n",
        "fig.show()"
      ],
      "execution_count": 41,
      "outputs": [
        {
          "output_type": "display_data",
          "data": {
            "text/html": [
              "<html>\n",
              "<head><meta charset=\"utf-8\" /></head>\n",
              "<body>\n",
              "    <div>            <script src=\"https://cdnjs.cloudflare.com/ajax/libs/mathjax/2.7.5/MathJax.js?config=TeX-AMS-MML_SVG\"></script><script type=\"text/javascript\">if (window.MathJax && window.MathJax.Hub && window.MathJax.Hub.Config) {window.MathJax.Hub.Config({SVG: {font: \"STIX-Web\"}});}</script>                <script type=\"text/javascript\">window.PlotlyConfig = {MathJaxConfig: 'local'};</script>\n",
              "        <script charset=\"utf-8\" src=\"https://cdn.plot.ly/plotly-3.1.0.min.js\" integrity=\"sha256-Ei4740bWZhaUTQuD6q9yQlgVCMPBz6CZWhevDYPv93A=\" crossorigin=\"anonymous\"></script>                <div id=\"16b5e052-592f-48a1-aa77-20149a7fcdbe\" class=\"plotly-graph-div\" style=\"height:525px; width:100%;\"></div>            <script type=\"text/javascript\">                window.PLOTLYENV=window.PLOTLYENV || {};                                if (document.getElementById(\"16b5e052-592f-48a1-aa77-20149a7fcdbe\")) {                    Plotly.newPlot(                        \"16b5e052-592f-48a1-aa77-20149a7fcdbe\",                        [{\"hovertemplate\":\"Country_=USA\\u003cbr\\u003eYear=%{x}\\u003cbr\\u003eLaunch Count=%{y}\\u003cextra\\u003e\\u003c\\u002fextra\\u003e\",\"legendgroup\":\"USA\",\"line\":{\"color\":\"#636efa\",\"dash\":\"solid\"},\"marker\":{\"symbol\":\"circle\"},\"mode\":\"lines\",\"name\":\"USA\",\"orientation\":\"v\",\"showlegend\":true,\"x\":{\"dtype\":\"i4\",\"bdata\":\"pQcAAKYHAACnBwAAqAcAAKkHAACqBwAAqwcAAKwHAACtBwAArgcAAK8HAACwBwAAsQcAALIHAACzBwAAtAcAALUHAAC2BwAAtwcAALgHAAC5BwAAugcAALsHAAC8BwAAvQcAAL4HAAC\\u002fBwAAwAcAAMEHAADCBwAAwwcAAMQHAADFBwAAxgcAAMcHAAA=\"},\"xaxis\":\"x\",\"y\":{\"dtype\":\"i1\",\"bdata\":\"ARcQHis8ERghLxoWEQsQEREKDw0OFQkLDQsNERAGBgcQGhI=\"},\"yaxis\":\"y\",\"type\":\"scatter\"},{\"hovertemplate\":\"Country_=USSR\\u003cbr\\u003eYear=%{x}\\u003cbr\\u003eLaunch Count=%{y}\\u003cextra\\u003e\\u003c\\u002fextra\\u003e\",\"legendgroup\":\"USSR\",\"line\":{\"color\":\"#EF553B\",\"dash\":\"solid\"},\"marker\":{\"symbol\":\"circle\"},\"mode\":\"lines\",\"name\":\"USSR\",\"orientation\":\"v\",\"showlegend\":true,\"x\":{\"dtype\":\"i4\",\"bdata\":\"pQcAAKYHAACnBwAAqAcAAKkHAACqBwAAqwcAAKwHAACtBwAArgcAAK8HAACwBwAAsQcAALIHAACzBwAAtAcAALUHAAC2BwAAtwcAALgHAAC5BwAAugcAALsHAAC8BwAAvQcAAL4HAAC\\u002fBwAAwAcAAMEHAADCBwAAwwcAAMQHAADFBwAAxgcAAMcHAAA=\"},\"xaxis\":\"x\",\"y\":{\"dtype\":\"i1\",\"bdata\":\"AgUECQkWGCQ1M0tQU1hdT1RTWV9hRyQoMzUuKjMxKiQaJR0=\"},\"yaxis\":\"y\",\"type\":\"scatter\"}],                        {\"template\":{\"data\":{\"histogram2dcontour\":[{\"type\":\"histogram2dcontour\",\"colorbar\":{\"outlinewidth\":0,\"ticks\":\"\"},\"colorscale\":[[0.0,\"#0d0887\"],[0.1111111111111111,\"#46039f\"],[0.2222222222222222,\"#7201a8\"],[0.3333333333333333,\"#9c179e\"],[0.4444444444444444,\"#bd3786\"],[0.5555555555555556,\"#d8576b\"],[0.6666666666666666,\"#ed7953\"],[0.7777777777777778,\"#fb9f3a\"],[0.8888888888888888,\"#fdca26\"],[1.0,\"#f0f921\"]]}],\"choropleth\":[{\"type\":\"choropleth\",\"colorbar\":{\"outlinewidth\":0,\"ticks\":\"\"}}],\"histogram2d\":[{\"type\":\"histogram2d\",\"colorbar\":{\"outlinewidth\":0,\"ticks\":\"\"},\"colorscale\":[[0.0,\"#0d0887\"],[0.1111111111111111,\"#46039f\"],[0.2222222222222222,\"#7201a8\"],[0.3333333333333333,\"#9c179e\"],[0.4444444444444444,\"#bd3786\"],[0.5555555555555556,\"#d8576b\"],[0.6666666666666666,\"#ed7953\"],[0.7777777777777778,\"#fb9f3a\"],[0.8888888888888888,\"#fdca26\"],[1.0,\"#f0f921\"]]}],\"heatmap\":[{\"type\":\"heatmap\",\"colorbar\":{\"outlinewidth\":0,\"ticks\":\"\"},\"colorscale\":[[0.0,\"#0d0887\"],[0.1111111111111111,\"#46039f\"],[0.2222222222222222,\"#7201a8\"],[0.3333333333333333,\"#9c179e\"],[0.4444444444444444,\"#bd3786\"],[0.5555555555555556,\"#d8576b\"],[0.6666666666666666,\"#ed7953\"],[0.7777777777777778,\"#fb9f3a\"],[0.8888888888888888,\"#fdca26\"],[1.0,\"#f0f921\"]]}],\"contourcarpet\":[{\"type\":\"contourcarpet\",\"colorbar\":{\"outlinewidth\":0,\"ticks\":\"\"}}],\"contour\":[{\"type\":\"contour\",\"colorbar\":{\"outlinewidth\":0,\"ticks\":\"\"},\"colorscale\":[[0.0,\"#0d0887\"],[0.1111111111111111,\"#46039f\"],[0.2222222222222222,\"#7201a8\"],[0.3333333333333333,\"#9c179e\"],[0.4444444444444444,\"#bd3786\"],[0.5555555555555556,\"#d8576b\"],[0.6666666666666666,\"#ed7953\"],[0.7777777777777778,\"#fb9f3a\"],[0.8888888888888888,\"#fdca26\"],[1.0,\"#f0f921\"]]}],\"surface\":[{\"type\":\"surface\",\"colorbar\":{\"outlinewidth\":0,\"ticks\":\"\"},\"colorscale\":[[0.0,\"#0d0887\"],[0.1111111111111111,\"#46039f\"],[0.2222222222222222,\"#7201a8\"],[0.3333333333333333,\"#9c179e\"],[0.4444444444444444,\"#bd3786\"],[0.5555555555555556,\"#d8576b\"],[0.6666666666666666,\"#ed7953\"],[0.7777777777777778,\"#fb9f3a\"],[0.8888888888888888,\"#fdca26\"],[1.0,\"#f0f921\"]]}],\"mesh3d\":[{\"type\":\"mesh3d\",\"colorbar\":{\"outlinewidth\":0,\"ticks\":\"\"}}],\"scatter\":[{\"fillpattern\":{\"fillmode\":\"overlay\",\"size\":10,\"solidity\":0.2},\"type\":\"scatter\"}],\"parcoords\":[{\"type\":\"parcoords\",\"line\":{\"colorbar\":{\"outlinewidth\":0,\"ticks\":\"\"}}}],\"scatterpolargl\":[{\"type\":\"scatterpolargl\",\"marker\":{\"colorbar\":{\"outlinewidth\":0,\"ticks\":\"\"}}}],\"bar\":[{\"error_x\":{\"color\":\"#2a3f5f\"},\"error_y\":{\"color\":\"#2a3f5f\"},\"marker\":{\"line\":{\"color\":\"#E5ECF6\",\"width\":0.5},\"pattern\":{\"fillmode\":\"overlay\",\"size\":10,\"solidity\":0.2}},\"type\":\"bar\"}],\"scattergeo\":[{\"type\":\"scattergeo\",\"marker\":{\"colorbar\":{\"outlinewidth\":0,\"ticks\":\"\"}}}],\"scatterpolar\":[{\"type\":\"scatterpolar\",\"marker\":{\"colorbar\":{\"outlinewidth\":0,\"ticks\":\"\"}}}],\"histogram\":[{\"marker\":{\"pattern\":{\"fillmode\":\"overlay\",\"size\":10,\"solidity\":0.2}},\"type\":\"histogram\"}],\"scattergl\":[{\"type\":\"scattergl\",\"marker\":{\"colorbar\":{\"outlinewidth\":0,\"ticks\":\"\"}}}],\"scatter3d\":[{\"type\":\"scatter3d\",\"line\":{\"colorbar\":{\"outlinewidth\":0,\"ticks\":\"\"}},\"marker\":{\"colorbar\":{\"outlinewidth\":0,\"ticks\":\"\"}}}],\"scattermap\":[{\"type\":\"scattermap\",\"marker\":{\"colorbar\":{\"outlinewidth\":0,\"ticks\":\"\"}}}],\"scattermapbox\":[{\"type\":\"scattermapbox\",\"marker\":{\"colorbar\":{\"outlinewidth\":0,\"ticks\":\"\"}}}],\"scatterternary\":[{\"type\":\"scatterternary\",\"marker\":{\"colorbar\":{\"outlinewidth\":0,\"ticks\":\"\"}}}],\"scattercarpet\":[{\"type\":\"scattercarpet\",\"marker\":{\"colorbar\":{\"outlinewidth\":0,\"ticks\":\"\"}}}],\"carpet\":[{\"aaxis\":{\"endlinecolor\":\"#2a3f5f\",\"gridcolor\":\"white\",\"linecolor\":\"white\",\"minorgridcolor\":\"white\",\"startlinecolor\":\"#2a3f5f\"},\"baxis\":{\"endlinecolor\":\"#2a3f5f\",\"gridcolor\":\"white\",\"linecolor\":\"white\",\"minorgridcolor\":\"white\",\"startlinecolor\":\"#2a3f5f\"},\"type\":\"carpet\"}],\"table\":[{\"cells\":{\"fill\":{\"color\":\"#EBF0F8\"},\"line\":{\"color\":\"white\"}},\"header\":{\"fill\":{\"color\":\"#C8D4E3\"},\"line\":{\"color\":\"white\"}},\"type\":\"table\"}],\"barpolar\":[{\"marker\":{\"line\":{\"color\":\"#E5ECF6\",\"width\":0.5},\"pattern\":{\"fillmode\":\"overlay\",\"size\":10,\"solidity\":0.2}},\"type\":\"barpolar\"}],\"pie\":[{\"automargin\":true,\"type\":\"pie\"}]},\"layout\":{\"autotypenumbers\":\"strict\",\"colorway\":[\"#636efa\",\"#EF553B\",\"#00cc96\",\"#ab63fa\",\"#FFA15A\",\"#19d3f3\",\"#FF6692\",\"#B6E880\",\"#FF97FF\",\"#FECB52\"],\"font\":{\"color\":\"#2a3f5f\"},\"hovermode\":\"closest\",\"hoverlabel\":{\"align\":\"left\"},\"paper_bgcolor\":\"white\",\"plot_bgcolor\":\"#E5ECF6\",\"polar\":{\"bgcolor\":\"#E5ECF6\",\"angularaxis\":{\"gridcolor\":\"white\",\"linecolor\":\"white\",\"ticks\":\"\"},\"radialaxis\":{\"gridcolor\":\"white\",\"linecolor\":\"white\",\"ticks\":\"\"}},\"ternary\":{\"bgcolor\":\"#E5ECF6\",\"aaxis\":{\"gridcolor\":\"white\",\"linecolor\":\"white\",\"ticks\":\"\"},\"baxis\":{\"gridcolor\":\"white\",\"linecolor\":\"white\",\"ticks\":\"\"},\"caxis\":{\"gridcolor\":\"white\",\"linecolor\":\"white\",\"ticks\":\"\"}},\"coloraxis\":{\"colorbar\":{\"outlinewidth\":0,\"ticks\":\"\"}},\"colorscale\":{\"sequential\":[[0.0,\"#0d0887\"],[0.1111111111111111,\"#46039f\"],[0.2222222222222222,\"#7201a8\"],[0.3333333333333333,\"#9c179e\"],[0.4444444444444444,\"#bd3786\"],[0.5555555555555556,\"#d8576b\"],[0.6666666666666666,\"#ed7953\"],[0.7777777777777778,\"#fb9f3a\"],[0.8888888888888888,\"#fdca26\"],[1.0,\"#f0f921\"]],\"sequentialminus\":[[0.0,\"#0d0887\"],[0.1111111111111111,\"#46039f\"],[0.2222222222222222,\"#7201a8\"],[0.3333333333333333,\"#9c179e\"],[0.4444444444444444,\"#bd3786\"],[0.5555555555555556,\"#d8576b\"],[0.6666666666666666,\"#ed7953\"],[0.7777777777777778,\"#fb9f3a\"],[0.8888888888888888,\"#fdca26\"],[1.0,\"#f0f921\"]],\"diverging\":[[0,\"#8e0152\"],[0.1,\"#c51b7d\"],[0.2,\"#de77ae\"],[0.3,\"#f1b6da\"],[0.4,\"#fde0ef\"],[0.5,\"#f7f7f7\"],[0.6,\"#e6f5d0\"],[0.7,\"#b8e186\"],[0.8,\"#7fbc41\"],[0.9,\"#4d9221\"],[1,\"#276419\"]]},\"xaxis\":{\"gridcolor\":\"white\",\"linecolor\":\"white\",\"ticks\":\"\",\"title\":{\"standoff\":15},\"zerolinecolor\":\"white\",\"automargin\":true,\"zerolinewidth\":2},\"yaxis\":{\"gridcolor\":\"white\",\"linecolor\":\"white\",\"ticks\":\"\",\"title\":{\"standoff\":15},\"zerolinecolor\":\"white\",\"automargin\":true,\"zerolinewidth\":2},\"scene\":{\"xaxis\":{\"backgroundcolor\":\"#E5ECF6\",\"gridcolor\":\"white\",\"linecolor\":\"white\",\"showbackground\":true,\"ticks\":\"\",\"zerolinecolor\":\"white\",\"gridwidth\":2},\"yaxis\":{\"backgroundcolor\":\"#E5ECF6\",\"gridcolor\":\"white\",\"linecolor\":\"white\",\"showbackground\":true,\"ticks\":\"\",\"zerolinecolor\":\"white\",\"gridwidth\":2},\"zaxis\":{\"backgroundcolor\":\"#E5ECF6\",\"gridcolor\":\"white\",\"linecolor\":\"white\",\"showbackground\":true,\"ticks\":\"\",\"zerolinecolor\":\"white\",\"gridwidth\":2}},\"shapedefaults\":{\"line\":{\"color\":\"#2a3f5f\"}},\"annotationdefaults\":{\"arrowcolor\":\"#2a3f5f\",\"arrowhead\":0,\"arrowwidth\":1},\"geo\":{\"bgcolor\":\"white\",\"landcolor\":\"#E5ECF6\",\"subunitcolor\":\"white\",\"showland\":true,\"showlakes\":true,\"lakecolor\":\"white\"},\"title\":{\"x\":0.05},\"mapbox\":{\"style\":\"light\"}}},\"xaxis\":{\"anchor\":\"y\",\"domain\":[0.0,1.0],\"title\":{\"text\":\"Year\"}},\"yaxis\":{\"anchor\":\"x\",\"domain\":[0.0,1.0],\"title\":{\"text\":\"Launch Count\"}},\"legend\":{\"title\":{\"text\":\"Country_\"},\"tracegroupgap\":0},\"title\":{\"text\":\"Total Number of Launches Year-on-Year: USA vs USSR\"}},                        {\"responsive\": true}                    ).then(function(){\n",
              "                            \n",
              "var gd = document.getElementById('16b5e052-592f-48a1-aa77-20149a7fcdbe');\n",
              "var x = new MutationObserver(function (mutations, observer) {{\n",
              "        var display = window.getComputedStyle(gd).display;\n",
              "        if (!display || display === 'none') {{\n",
              "            console.log([gd, 'removed!']);\n",
              "            Plotly.purge(gd);\n",
              "            observer.disconnect();\n",
              "        }}\n",
              "}});\n",
              "\n",
              "// Listen for the removal of the full notebook cells\n",
              "var notebookContainer = gd.closest('#notebook-container');\n",
              "if (notebookContainer) {{\n",
              "    x.observe(notebookContainer, {childList: true});\n",
              "}}\n",
              "\n",
              "// Listen for the clearing of the current output cell\n",
              "var outputEl = gd.closest('.output');\n",
              "if (outputEl) {{\n",
              "    x.observe(outputEl, {childList: true});\n",
              "}}\n",
              "\n",
              "                        })                };            </script>        </div>\n",
              "</body>\n",
              "</html>"
            ]
          },
          "metadata": {}
        }
      ]
    },
    {
      "cell_type": "markdown",
      "metadata": {
        "papermill": {
          "duration": 0.079311,
          "end_time": "2020-10-20T21:34:14.933058",
          "exception": false,
          "start_time": "2020-10-20T21:34:14.853747",
          "status": "completed"
        },
        "tags": [],
        "id": "eWv4iZmra-rE"
      },
      "source": [
        "## Chart the Total Number of Mission Failures Year on Year."
      ]
    },
    {
      "cell_type": "code",
      "metadata": {
        "id": "I-Zss5-Mre-4",
        "colab": {
          "base_uri": "https://localhost:8080/",
          "height": 542
        },
        "outputId": "368915bd-f706-4829-d440-442350ea03f8"
      },
      "source": [
        "# Group by year and country and count launches\n",
        "cold_war_failures = cold_war_df[cold_war_df['Mission_Status'] != 'Success']\n",
        "failures_yearly = cold_war_failures.groupby(['Year', 'Country_'])['Detail'].count().reset_index()\n",
        "failures_yearly.columns = ['Year', 'Country_', 'Failure Count']\n",
        "\n",
        "# Create a line chart\n",
        "fig = px.line(failures_yearly,\n",
        "              x='Year',\n",
        "              y='Failure Count',\n",
        "              color='Country_',\n",
        "              title='Total Number of Mission Failures Year-on-Year: USA vs USSR')\n",
        "fig.show()"
      ],
      "execution_count": 44,
      "outputs": [
        {
          "output_type": "display_data",
          "data": {
            "text/html": [
              "<html>\n",
              "<head><meta charset=\"utf-8\" /></head>\n",
              "<body>\n",
              "    <div>            <script src=\"https://cdnjs.cloudflare.com/ajax/libs/mathjax/2.7.5/MathJax.js?config=TeX-AMS-MML_SVG\"></script><script type=\"text/javascript\">if (window.MathJax && window.MathJax.Hub && window.MathJax.Hub.Config) {window.MathJax.Hub.Config({SVG: {font: \"STIX-Web\"}});}</script>                <script type=\"text/javascript\">window.PlotlyConfig = {MathJaxConfig: 'local'};</script>\n",
              "        <script charset=\"utf-8\" src=\"https://cdn.plot.ly/plotly-3.1.0.min.js\" integrity=\"sha256-Ei4740bWZhaUTQuD6q9yQlgVCMPBz6CZWhevDYPv93A=\" crossorigin=\"anonymous\"></script>                <div id=\"2a72f83d-a219-4711-aab0-89ec0b407af8\" class=\"plotly-graph-div\" style=\"height:525px; width:100%;\"></div>            <script type=\"text/javascript\">                window.PLOTLYENV=window.PLOTLYENV || {};                                if (document.getElementById(\"2a72f83d-a219-4711-aab0-89ec0b407af8\")) {                    Plotly.newPlot(                        \"2a72f83d-a219-4711-aab0-89ec0b407af8\",                        [{\"hovertemplate\":\"Country_=USA\\u003cbr\\u003eYear=%{x}\\u003cbr\\u003eFailure Count=%{y}\\u003cextra\\u003e\\u003c\\u002fextra\\u003e\",\"legendgroup\":\"USA\",\"line\":{\"color\":\"#636efa\",\"dash\":\"solid\"},\"marker\":{\"symbol\":\"circle\"},\"mode\":\"lines\",\"name\":\"USA\",\"orientation\":\"v\",\"showlegend\":true,\"x\":{\"dtype\":\"i4\",\"bdata\":\"pQcAAKYHAACnBwAAqAcAAKkHAACqBwAAqwcAAKwHAACtBwAArgcAAK8HAACwBwAAsgcAALMHAAC0BwAAtQcAALYHAAC3BwAAuQcAALoHAAC8BwAAvQcAAMAHAADBBwAAwgcAAMMHAADEBwAAxgcAAMcHAAA=\"},\"xaxis\":\"x\",\"y\":{\"dtype\":\"i1\",\"bdata\":\"ARIKDhAKBAUHBwUDAgICAQEDAQECAgEBAgEBAQI=\"},\"yaxis\":\"y\",\"type\":\"scatter\"},{\"hovertemplate\":\"Country_=USSR\\u003cbr\\u003eYear=%{x}\\u003cbr\\u003eFailure Count=%{y}\\u003cextra\\u003e\\u003c\\u002fextra\\u003e\",\"legendgroup\":\"USSR\",\"line\":{\"color\":\"#EF553B\",\"dash\":\"solid\"},\"marker\":{\"symbol\":\"circle\"},\"mode\":\"lines\",\"name\":\"USSR\",\"orientation\":\"v\",\"showlegend\":true,\"x\":{\"dtype\":\"i4\",\"bdata\":\"pgcAAKcHAACoBwAAqQcAAKoHAACrBwAArAcAAK0HAACuBwAArwcAALAHAACxBwAAsgcAALMHAAC0BwAAtQcAALYHAAC3BwAAuAcAALkHAAC6BwAAvAcAAL0HAAC+BwAAvwcAAMAHAADBBwAAwgcAAMMHAADFBwAAxgcAAMcHAAA=\"},\"xaxis\":\"x\",\"y\":{\"dtype\":\"i1\",\"bdata\":\"BAIGBAcIBwYLDAgPCQoIBAUDAwMCAwMEAQEEAwEBAgI=\"},\"yaxis\":\"y\",\"type\":\"scatter\"}],                        {\"template\":{\"data\":{\"histogram2dcontour\":[{\"type\":\"histogram2dcontour\",\"colorbar\":{\"outlinewidth\":0,\"ticks\":\"\"},\"colorscale\":[[0.0,\"#0d0887\"],[0.1111111111111111,\"#46039f\"],[0.2222222222222222,\"#7201a8\"],[0.3333333333333333,\"#9c179e\"],[0.4444444444444444,\"#bd3786\"],[0.5555555555555556,\"#d8576b\"],[0.6666666666666666,\"#ed7953\"],[0.7777777777777778,\"#fb9f3a\"],[0.8888888888888888,\"#fdca26\"],[1.0,\"#f0f921\"]]}],\"choropleth\":[{\"type\":\"choropleth\",\"colorbar\":{\"outlinewidth\":0,\"ticks\":\"\"}}],\"histogram2d\":[{\"type\":\"histogram2d\",\"colorbar\":{\"outlinewidth\":0,\"ticks\":\"\"},\"colorscale\":[[0.0,\"#0d0887\"],[0.1111111111111111,\"#46039f\"],[0.2222222222222222,\"#7201a8\"],[0.3333333333333333,\"#9c179e\"],[0.4444444444444444,\"#bd3786\"],[0.5555555555555556,\"#d8576b\"],[0.6666666666666666,\"#ed7953\"],[0.7777777777777778,\"#fb9f3a\"],[0.8888888888888888,\"#fdca26\"],[1.0,\"#f0f921\"]]}],\"heatmap\":[{\"type\":\"heatmap\",\"colorbar\":{\"outlinewidth\":0,\"ticks\":\"\"},\"colorscale\":[[0.0,\"#0d0887\"],[0.1111111111111111,\"#46039f\"],[0.2222222222222222,\"#7201a8\"],[0.3333333333333333,\"#9c179e\"],[0.4444444444444444,\"#bd3786\"],[0.5555555555555556,\"#d8576b\"],[0.6666666666666666,\"#ed7953\"],[0.7777777777777778,\"#fb9f3a\"],[0.8888888888888888,\"#fdca26\"],[1.0,\"#f0f921\"]]}],\"contourcarpet\":[{\"type\":\"contourcarpet\",\"colorbar\":{\"outlinewidth\":0,\"ticks\":\"\"}}],\"contour\":[{\"type\":\"contour\",\"colorbar\":{\"outlinewidth\":0,\"ticks\":\"\"},\"colorscale\":[[0.0,\"#0d0887\"],[0.1111111111111111,\"#46039f\"],[0.2222222222222222,\"#7201a8\"],[0.3333333333333333,\"#9c179e\"],[0.4444444444444444,\"#bd3786\"],[0.5555555555555556,\"#d8576b\"],[0.6666666666666666,\"#ed7953\"],[0.7777777777777778,\"#fb9f3a\"],[0.8888888888888888,\"#fdca26\"],[1.0,\"#f0f921\"]]}],\"surface\":[{\"type\":\"surface\",\"colorbar\":{\"outlinewidth\":0,\"ticks\":\"\"},\"colorscale\":[[0.0,\"#0d0887\"],[0.1111111111111111,\"#46039f\"],[0.2222222222222222,\"#7201a8\"],[0.3333333333333333,\"#9c179e\"],[0.4444444444444444,\"#bd3786\"],[0.5555555555555556,\"#d8576b\"],[0.6666666666666666,\"#ed7953\"],[0.7777777777777778,\"#fb9f3a\"],[0.8888888888888888,\"#fdca26\"],[1.0,\"#f0f921\"]]}],\"mesh3d\":[{\"type\":\"mesh3d\",\"colorbar\":{\"outlinewidth\":0,\"ticks\":\"\"}}],\"scatter\":[{\"fillpattern\":{\"fillmode\":\"overlay\",\"size\":10,\"solidity\":0.2},\"type\":\"scatter\"}],\"parcoords\":[{\"type\":\"parcoords\",\"line\":{\"colorbar\":{\"outlinewidth\":0,\"ticks\":\"\"}}}],\"scatterpolargl\":[{\"type\":\"scatterpolargl\",\"marker\":{\"colorbar\":{\"outlinewidth\":0,\"ticks\":\"\"}}}],\"bar\":[{\"error_x\":{\"color\":\"#2a3f5f\"},\"error_y\":{\"color\":\"#2a3f5f\"},\"marker\":{\"line\":{\"color\":\"#E5ECF6\",\"width\":0.5},\"pattern\":{\"fillmode\":\"overlay\",\"size\":10,\"solidity\":0.2}},\"type\":\"bar\"}],\"scattergeo\":[{\"type\":\"scattergeo\",\"marker\":{\"colorbar\":{\"outlinewidth\":0,\"ticks\":\"\"}}}],\"scatterpolar\":[{\"type\":\"scatterpolar\",\"marker\":{\"colorbar\":{\"outlinewidth\":0,\"ticks\":\"\"}}}],\"histogram\":[{\"marker\":{\"pattern\":{\"fillmode\":\"overlay\",\"size\":10,\"solidity\":0.2}},\"type\":\"histogram\"}],\"scattergl\":[{\"type\":\"scattergl\",\"marker\":{\"colorbar\":{\"outlinewidth\":0,\"ticks\":\"\"}}}],\"scatter3d\":[{\"type\":\"scatter3d\",\"line\":{\"colorbar\":{\"outlinewidth\":0,\"ticks\":\"\"}},\"marker\":{\"colorbar\":{\"outlinewidth\":0,\"ticks\":\"\"}}}],\"scattermap\":[{\"type\":\"scattermap\",\"marker\":{\"colorbar\":{\"outlinewidth\":0,\"ticks\":\"\"}}}],\"scattermapbox\":[{\"type\":\"scattermapbox\",\"marker\":{\"colorbar\":{\"outlinewidth\":0,\"ticks\":\"\"}}}],\"scatterternary\":[{\"type\":\"scatterternary\",\"marker\":{\"colorbar\":{\"outlinewidth\":0,\"ticks\":\"\"}}}],\"scattercarpet\":[{\"type\":\"scattercarpet\",\"marker\":{\"colorbar\":{\"outlinewidth\":0,\"ticks\":\"\"}}}],\"carpet\":[{\"aaxis\":{\"endlinecolor\":\"#2a3f5f\",\"gridcolor\":\"white\",\"linecolor\":\"white\",\"minorgridcolor\":\"white\",\"startlinecolor\":\"#2a3f5f\"},\"baxis\":{\"endlinecolor\":\"#2a3f5f\",\"gridcolor\":\"white\",\"linecolor\":\"white\",\"minorgridcolor\":\"white\",\"startlinecolor\":\"#2a3f5f\"},\"type\":\"carpet\"}],\"table\":[{\"cells\":{\"fill\":{\"color\":\"#EBF0F8\"},\"line\":{\"color\":\"white\"}},\"header\":{\"fill\":{\"color\":\"#C8D4E3\"},\"line\":{\"color\":\"white\"}},\"type\":\"table\"}],\"barpolar\":[{\"marker\":{\"line\":{\"color\":\"#E5ECF6\",\"width\":0.5},\"pattern\":{\"fillmode\":\"overlay\",\"size\":10,\"solidity\":0.2}},\"type\":\"barpolar\"}],\"pie\":[{\"automargin\":true,\"type\":\"pie\"}]},\"layout\":{\"autotypenumbers\":\"strict\",\"colorway\":[\"#636efa\",\"#EF553B\",\"#00cc96\",\"#ab63fa\",\"#FFA15A\",\"#19d3f3\",\"#FF6692\",\"#B6E880\",\"#FF97FF\",\"#FECB52\"],\"font\":{\"color\":\"#2a3f5f\"},\"hovermode\":\"closest\",\"hoverlabel\":{\"align\":\"left\"},\"paper_bgcolor\":\"white\",\"plot_bgcolor\":\"#E5ECF6\",\"polar\":{\"bgcolor\":\"#E5ECF6\",\"angularaxis\":{\"gridcolor\":\"white\",\"linecolor\":\"white\",\"ticks\":\"\"},\"radialaxis\":{\"gridcolor\":\"white\",\"linecolor\":\"white\",\"ticks\":\"\"}},\"ternary\":{\"bgcolor\":\"#E5ECF6\",\"aaxis\":{\"gridcolor\":\"white\",\"linecolor\":\"white\",\"ticks\":\"\"},\"baxis\":{\"gridcolor\":\"white\",\"linecolor\":\"white\",\"ticks\":\"\"},\"caxis\":{\"gridcolor\":\"white\",\"linecolor\":\"white\",\"ticks\":\"\"}},\"coloraxis\":{\"colorbar\":{\"outlinewidth\":0,\"ticks\":\"\"}},\"colorscale\":{\"sequential\":[[0.0,\"#0d0887\"],[0.1111111111111111,\"#46039f\"],[0.2222222222222222,\"#7201a8\"],[0.3333333333333333,\"#9c179e\"],[0.4444444444444444,\"#bd3786\"],[0.5555555555555556,\"#d8576b\"],[0.6666666666666666,\"#ed7953\"],[0.7777777777777778,\"#fb9f3a\"],[0.8888888888888888,\"#fdca26\"],[1.0,\"#f0f921\"]],\"sequentialminus\":[[0.0,\"#0d0887\"],[0.1111111111111111,\"#46039f\"],[0.2222222222222222,\"#7201a8\"],[0.3333333333333333,\"#9c179e\"],[0.4444444444444444,\"#bd3786\"],[0.5555555555555556,\"#d8576b\"],[0.6666666666666666,\"#ed7953\"],[0.7777777777777778,\"#fb9f3a\"],[0.8888888888888888,\"#fdca26\"],[1.0,\"#f0f921\"]],\"diverging\":[[0,\"#8e0152\"],[0.1,\"#c51b7d\"],[0.2,\"#de77ae\"],[0.3,\"#f1b6da\"],[0.4,\"#fde0ef\"],[0.5,\"#f7f7f7\"],[0.6,\"#e6f5d0\"],[0.7,\"#b8e186\"],[0.8,\"#7fbc41\"],[0.9,\"#4d9221\"],[1,\"#276419\"]]},\"xaxis\":{\"gridcolor\":\"white\",\"linecolor\":\"white\",\"ticks\":\"\",\"title\":{\"standoff\":15},\"zerolinecolor\":\"white\",\"automargin\":true,\"zerolinewidth\":2},\"yaxis\":{\"gridcolor\":\"white\",\"linecolor\":\"white\",\"ticks\":\"\",\"title\":{\"standoff\":15},\"zerolinecolor\":\"white\",\"automargin\":true,\"zerolinewidth\":2},\"scene\":{\"xaxis\":{\"backgroundcolor\":\"#E5ECF6\",\"gridcolor\":\"white\",\"linecolor\":\"white\",\"showbackground\":true,\"ticks\":\"\",\"zerolinecolor\":\"white\",\"gridwidth\":2},\"yaxis\":{\"backgroundcolor\":\"#E5ECF6\",\"gridcolor\":\"white\",\"linecolor\":\"white\",\"showbackground\":true,\"ticks\":\"\",\"zerolinecolor\":\"white\",\"gridwidth\":2},\"zaxis\":{\"backgroundcolor\":\"#E5ECF6\",\"gridcolor\":\"white\",\"linecolor\":\"white\",\"showbackground\":true,\"ticks\":\"\",\"zerolinecolor\":\"white\",\"gridwidth\":2}},\"shapedefaults\":{\"line\":{\"color\":\"#2a3f5f\"}},\"annotationdefaults\":{\"arrowcolor\":\"#2a3f5f\",\"arrowhead\":0,\"arrowwidth\":1},\"geo\":{\"bgcolor\":\"white\",\"landcolor\":\"#E5ECF6\",\"subunitcolor\":\"white\",\"showland\":true,\"showlakes\":true,\"lakecolor\":\"white\"},\"title\":{\"x\":0.05},\"mapbox\":{\"style\":\"light\"}}},\"xaxis\":{\"anchor\":\"y\",\"domain\":[0.0,1.0],\"title\":{\"text\":\"Year\"}},\"yaxis\":{\"anchor\":\"x\",\"domain\":[0.0,1.0],\"title\":{\"text\":\"Failure Count\"}},\"legend\":{\"title\":{\"text\":\"Country_\"},\"tracegroupgap\":0},\"title\":{\"text\":\"Total Number of Mission Failures Year-on-Year: USA vs USSR\"}},                        {\"responsive\": true}                    ).then(function(){\n",
              "                            \n",
              "var gd = document.getElementById('2a72f83d-a219-4711-aab0-89ec0b407af8');\n",
              "var x = new MutationObserver(function (mutations, observer) {{\n",
              "        var display = window.getComputedStyle(gd).display;\n",
              "        if (!display || display === 'none') {{\n",
              "            console.log([gd, 'removed!']);\n",
              "            Plotly.purge(gd);\n",
              "            observer.disconnect();\n",
              "        }}\n",
              "}});\n",
              "\n",
              "// Listen for the removal of the full notebook cells\n",
              "var notebookContainer = gd.closest('#notebook-container');\n",
              "if (notebookContainer) {{\n",
              "    x.observe(notebookContainer, {childList: true});\n",
              "}}\n",
              "\n",
              "// Listen for the clearing of the current output cell\n",
              "var outputEl = gd.closest('.output');\n",
              "if (outputEl) {{\n",
              "    x.observe(outputEl, {childList: true});\n",
              "}}\n",
              "\n",
              "                        })                };            </script>        </div>\n",
              "</body>\n",
              "</html>"
            ]
          },
          "metadata": {}
        }
      ]
    },
    {
      "cell_type": "markdown",
      "metadata": {
        "id": "XNp-NkrJriEF"
      },
      "source": [
        "## Chart the Percentage of Failures over Time\n",
        "\n",
        "Did failures go up or down over time? Did the countries get better at minimising risk and improving their chances of success over time?"
      ]
    },
    {
      "cell_type": "code",
      "metadata": {
        "id": "Kj3-zsI0rhOS",
        "colab": {
          "base_uri": "https://localhost:8080/",
          "height": 542
        },
        "outputId": "673c8fdc-ab39-464e-edfe-c13d13d833d9"
      },
      "source": [
        "# Merge total launches and failures\n",
        "failure_analysis_df = pd.merge(cold_war_launches, failures_yearly, on=['Year', 'Country_'], how='left').fillna(0)\n",
        "\n",
        "# Calculate failure percentage\n",
        "failure_analysis_df['Failure Percentage'] = (failure_analysis_df['Failure Count'] / failure_analysis_df['Launch Count']) * 100\n",
        "\n",
        "# Create a line chart\n",
        "fig = px.line(failure_analysis_df,\n",
        "              x='Year',\n",
        "              y='Failure Percentage',\n",
        "              color='Country_',\n",
        "              title='Percentage of Mission Failures Year-on-Year: USA vs USSR (Cold War)')\n",
        "fig.show()"
      ],
      "execution_count": 46,
      "outputs": [
        {
          "output_type": "display_data",
          "data": {
            "text/html": [
              "<html>\n",
              "<head><meta charset=\"utf-8\" /></head>\n",
              "<body>\n",
              "    <div>            <script src=\"https://cdnjs.cloudflare.com/ajax/libs/mathjax/2.7.5/MathJax.js?config=TeX-AMS-MML_SVG\"></script><script type=\"text/javascript\">if (window.MathJax && window.MathJax.Hub && window.MathJax.Hub.Config) {window.MathJax.Hub.Config({SVG: {font: \"STIX-Web\"}});}</script>                <script type=\"text/javascript\">window.PlotlyConfig = {MathJaxConfig: 'local'};</script>\n",
              "        <script charset=\"utf-8\" src=\"https://cdn.plot.ly/plotly-3.1.0.min.js\" integrity=\"sha256-Ei4740bWZhaUTQuD6q9yQlgVCMPBz6CZWhevDYPv93A=\" crossorigin=\"anonymous\"></script>                <div id=\"ec3a3ad8-08ee-4bdb-9dda-d215c3a97d93\" class=\"plotly-graph-div\" style=\"height:525px; width:100%;\"></div>            <script type=\"text/javascript\">                window.PLOTLYENV=window.PLOTLYENV || {};                                if (document.getElementById(\"ec3a3ad8-08ee-4bdb-9dda-d215c3a97d93\")) {                    Plotly.newPlot(                        \"ec3a3ad8-08ee-4bdb-9dda-d215c3a97d93\",                        [{\"hovertemplate\":\"Country_=USA\\u003cbr\\u003eYear=%{x}\\u003cbr\\u003eFailure Percentage=%{y}\\u003cextra\\u003e\\u003c\\u002fextra\\u003e\",\"legendgroup\":\"USA\",\"line\":{\"color\":\"#636efa\",\"dash\":\"solid\"},\"marker\":{\"symbol\":\"circle\"},\"mode\":\"lines\",\"name\":\"USA\",\"orientation\":\"v\",\"showlegend\":true,\"x\":{\"dtype\":\"i4\",\"bdata\":\"pQcAAKYHAACnBwAAqAcAAKkHAACqBwAAqwcAAKwHAACtBwAArgcAAK8HAACwBwAAsQcAALIHAACzBwAAtAcAALUHAAC2BwAAtwcAALgHAAC5BwAAugcAALsHAAC8BwAAvQcAAL4HAAC\\u002fBwAAwAcAAMEHAADCBwAAwwcAAMQHAADFBwAAxgcAAMcHAAA=\"},\"xaxis\":\"x\",\"y\":{\"dtype\":\"f8\",\"bdata\":\"AAAAAAAAWUBZyEIWspBTQAAAAAAAQE9AVVVVVVVVR0CnrClryppCQKqqqqqqqjBAh4eHh4eHN0BWVVVVVdU0QDbZZJNNNjVAVxCTK4jJLUCyEzuxEzszQEUXXXTRRStAAAAAAAAAAAAvuuiiiy4yQAAAAAAAAClAh4eHh4eHJ0CHh4eHh4cXQAAAAAAAACRAAAAAAAAANEAAAAAAAAAAACRJkiRJkhxAwzAMwzAME0AAAAAAAAAAAC+66KKLLjJAT+zETuzELkAAAAAAAAAAAAAAAAAAAAAAh4eHh4eHF0AAAAAAAAAZQKqqqqqqqkBAqqqqqqqqMEAkSZIkSZIsQAAAAAAAAAAAT+zETuzEDkCO4ziO4zgmQA==\"},\"yaxis\":\"y\",\"type\":\"scatter\"},{\"hovertemplate\":\"Country_=USSR\\u003cbr\\u003eYear=%{x}\\u003cbr\\u003eFailure Percentage=%{y}\\u003cextra\\u003e\\u003c\\u002fextra\\u003e\",\"legendgroup\":\"USSR\",\"line\":{\"color\":\"#EF553B\",\"dash\":\"solid\"},\"marker\":{\"symbol\":\"circle\"},\"mode\":\"lines\",\"name\":\"USSR\",\"orientation\":\"v\",\"showlegend\":true,\"x\":{\"dtype\":\"i4\",\"bdata\":\"pQcAAKYHAACnBwAAqAcAAKkHAACqBwAAqwcAAKwHAACtBwAArgcAAK8HAACwBwAAsQcAALIHAACzBwAAtAcAALUHAAC2BwAAtwcAALgHAAC5BwAAugcAALsHAAC8BwAAvQcAAL4HAAC\\u002fBwAAwAcAAMEHAADCBwAAwwcAAMQHAADFBwAAxgcAAMcHAAA=\"},\"xaxis\":\"x\",\"y\":{\"dtype\":\"f8\",\"bdata\":\"AAAAAAAAAAAAAAAAAABUQAAAAAAAAElAqqqqqqqqUECO4ziO4zhGQNFFF1100T9AqqqqqqqqQEAdx3Ecx3EzQIPxVvY5pCZAkpGRkZGRNUAAAAAAAAAwQAAAAAAAACRA95DLioESMkB10UUXXXQkQIEFFlhggSVAgqh0ZM9AJEDDMAzDMAwTQPRrD7msGBhAr3vd6173CkA2lNdQXkMJQLn6QUcFvghAIdEKmwOJBkAAAAAAAAAAAAAAAAAAAB5Ah4eHh4eHF0Cu7HNITTAeQBaykIUsZAFAwzAMwzAMA0BfX19fX18fQB8a60NjfRhAwzAMwzAMA0AAAAAAAAAAAE\\u002fsxE7sxA5A8lk3mCKfFUAaYbmnEZYbQA==\"},\"yaxis\":\"y\",\"type\":\"scatter\"}],                        {\"template\":{\"data\":{\"histogram2dcontour\":[{\"type\":\"histogram2dcontour\",\"colorbar\":{\"outlinewidth\":0,\"ticks\":\"\"},\"colorscale\":[[0.0,\"#0d0887\"],[0.1111111111111111,\"#46039f\"],[0.2222222222222222,\"#7201a8\"],[0.3333333333333333,\"#9c179e\"],[0.4444444444444444,\"#bd3786\"],[0.5555555555555556,\"#d8576b\"],[0.6666666666666666,\"#ed7953\"],[0.7777777777777778,\"#fb9f3a\"],[0.8888888888888888,\"#fdca26\"],[1.0,\"#f0f921\"]]}],\"choropleth\":[{\"type\":\"choropleth\",\"colorbar\":{\"outlinewidth\":0,\"ticks\":\"\"}}],\"histogram2d\":[{\"type\":\"histogram2d\",\"colorbar\":{\"outlinewidth\":0,\"ticks\":\"\"},\"colorscale\":[[0.0,\"#0d0887\"],[0.1111111111111111,\"#46039f\"],[0.2222222222222222,\"#7201a8\"],[0.3333333333333333,\"#9c179e\"],[0.4444444444444444,\"#bd3786\"],[0.5555555555555556,\"#d8576b\"],[0.6666666666666666,\"#ed7953\"],[0.7777777777777778,\"#fb9f3a\"],[0.8888888888888888,\"#fdca26\"],[1.0,\"#f0f921\"]]}],\"heatmap\":[{\"type\":\"heatmap\",\"colorbar\":{\"outlinewidth\":0,\"ticks\":\"\"},\"colorscale\":[[0.0,\"#0d0887\"],[0.1111111111111111,\"#46039f\"],[0.2222222222222222,\"#7201a8\"],[0.3333333333333333,\"#9c179e\"],[0.4444444444444444,\"#bd3786\"],[0.5555555555555556,\"#d8576b\"],[0.6666666666666666,\"#ed7953\"],[0.7777777777777778,\"#fb9f3a\"],[0.8888888888888888,\"#fdca26\"],[1.0,\"#f0f921\"]]}],\"contourcarpet\":[{\"type\":\"contourcarpet\",\"colorbar\":{\"outlinewidth\":0,\"ticks\":\"\"}}],\"contour\":[{\"type\":\"contour\",\"colorbar\":{\"outlinewidth\":0,\"ticks\":\"\"},\"colorscale\":[[0.0,\"#0d0887\"],[0.1111111111111111,\"#46039f\"],[0.2222222222222222,\"#7201a8\"],[0.3333333333333333,\"#9c179e\"],[0.4444444444444444,\"#bd3786\"],[0.5555555555555556,\"#d8576b\"],[0.6666666666666666,\"#ed7953\"],[0.7777777777777778,\"#fb9f3a\"],[0.8888888888888888,\"#fdca26\"],[1.0,\"#f0f921\"]]}],\"surface\":[{\"type\":\"surface\",\"colorbar\":{\"outlinewidth\":0,\"ticks\":\"\"},\"colorscale\":[[0.0,\"#0d0887\"],[0.1111111111111111,\"#46039f\"],[0.2222222222222222,\"#7201a8\"],[0.3333333333333333,\"#9c179e\"],[0.4444444444444444,\"#bd3786\"],[0.5555555555555556,\"#d8576b\"],[0.6666666666666666,\"#ed7953\"],[0.7777777777777778,\"#fb9f3a\"],[0.8888888888888888,\"#fdca26\"],[1.0,\"#f0f921\"]]}],\"mesh3d\":[{\"type\":\"mesh3d\",\"colorbar\":{\"outlinewidth\":0,\"ticks\":\"\"}}],\"scatter\":[{\"fillpattern\":{\"fillmode\":\"overlay\",\"size\":10,\"solidity\":0.2},\"type\":\"scatter\"}],\"parcoords\":[{\"type\":\"parcoords\",\"line\":{\"colorbar\":{\"outlinewidth\":0,\"ticks\":\"\"}}}],\"scatterpolargl\":[{\"type\":\"scatterpolargl\",\"marker\":{\"colorbar\":{\"outlinewidth\":0,\"ticks\":\"\"}}}],\"bar\":[{\"error_x\":{\"color\":\"#2a3f5f\"},\"error_y\":{\"color\":\"#2a3f5f\"},\"marker\":{\"line\":{\"color\":\"#E5ECF6\",\"width\":0.5},\"pattern\":{\"fillmode\":\"overlay\",\"size\":10,\"solidity\":0.2}},\"type\":\"bar\"}],\"scattergeo\":[{\"type\":\"scattergeo\",\"marker\":{\"colorbar\":{\"outlinewidth\":0,\"ticks\":\"\"}}}],\"scatterpolar\":[{\"type\":\"scatterpolar\",\"marker\":{\"colorbar\":{\"outlinewidth\":0,\"ticks\":\"\"}}}],\"histogram\":[{\"marker\":{\"pattern\":{\"fillmode\":\"overlay\",\"size\":10,\"solidity\":0.2}},\"type\":\"histogram\"}],\"scattergl\":[{\"type\":\"scattergl\",\"marker\":{\"colorbar\":{\"outlinewidth\":0,\"ticks\":\"\"}}}],\"scatter3d\":[{\"type\":\"scatter3d\",\"line\":{\"colorbar\":{\"outlinewidth\":0,\"ticks\":\"\"}},\"marker\":{\"colorbar\":{\"outlinewidth\":0,\"ticks\":\"\"}}}],\"scattermap\":[{\"type\":\"scattermap\",\"marker\":{\"colorbar\":{\"outlinewidth\":0,\"ticks\":\"\"}}}],\"scattermapbox\":[{\"type\":\"scattermapbox\",\"marker\":{\"colorbar\":{\"outlinewidth\":0,\"ticks\":\"\"}}}],\"scatterternary\":[{\"type\":\"scatterternary\",\"marker\":{\"colorbar\":{\"outlinewidth\":0,\"ticks\":\"\"}}}],\"scattercarpet\":[{\"type\":\"scattercarpet\",\"marker\":{\"colorbar\":{\"outlinewidth\":0,\"ticks\":\"\"}}}],\"carpet\":[{\"aaxis\":{\"endlinecolor\":\"#2a3f5f\",\"gridcolor\":\"white\",\"linecolor\":\"white\",\"minorgridcolor\":\"white\",\"startlinecolor\":\"#2a3f5f\"},\"baxis\":{\"endlinecolor\":\"#2a3f5f\",\"gridcolor\":\"white\",\"linecolor\":\"white\",\"minorgridcolor\":\"white\",\"startlinecolor\":\"#2a3f5f\"},\"type\":\"carpet\"}],\"table\":[{\"cells\":{\"fill\":{\"color\":\"#EBF0F8\"},\"line\":{\"color\":\"white\"}},\"header\":{\"fill\":{\"color\":\"#C8D4E3\"},\"line\":{\"color\":\"white\"}},\"type\":\"table\"}],\"barpolar\":[{\"marker\":{\"line\":{\"color\":\"#E5ECF6\",\"width\":0.5},\"pattern\":{\"fillmode\":\"overlay\",\"size\":10,\"solidity\":0.2}},\"type\":\"barpolar\"}],\"pie\":[{\"automargin\":true,\"type\":\"pie\"}]},\"layout\":{\"autotypenumbers\":\"strict\",\"colorway\":[\"#636efa\",\"#EF553B\",\"#00cc96\",\"#ab63fa\",\"#FFA15A\",\"#19d3f3\",\"#FF6692\",\"#B6E880\",\"#FF97FF\",\"#FECB52\"],\"font\":{\"color\":\"#2a3f5f\"},\"hovermode\":\"closest\",\"hoverlabel\":{\"align\":\"left\"},\"paper_bgcolor\":\"white\",\"plot_bgcolor\":\"#E5ECF6\",\"polar\":{\"bgcolor\":\"#E5ECF6\",\"angularaxis\":{\"gridcolor\":\"white\",\"linecolor\":\"white\",\"ticks\":\"\"},\"radialaxis\":{\"gridcolor\":\"white\",\"linecolor\":\"white\",\"ticks\":\"\"}},\"ternary\":{\"bgcolor\":\"#E5ECF6\",\"aaxis\":{\"gridcolor\":\"white\",\"linecolor\":\"white\",\"ticks\":\"\"},\"baxis\":{\"gridcolor\":\"white\",\"linecolor\":\"white\",\"ticks\":\"\"},\"caxis\":{\"gridcolor\":\"white\",\"linecolor\":\"white\",\"ticks\":\"\"}},\"coloraxis\":{\"colorbar\":{\"outlinewidth\":0,\"ticks\":\"\"}},\"colorscale\":{\"sequential\":[[0.0,\"#0d0887\"],[0.1111111111111111,\"#46039f\"],[0.2222222222222222,\"#7201a8\"],[0.3333333333333333,\"#9c179e\"],[0.4444444444444444,\"#bd3786\"],[0.5555555555555556,\"#d8576b\"],[0.6666666666666666,\"#ed7953\"],[0.7777777777777778,\"#fb9f3a\"],[0.8888888888888888,\"#fdca26\"],[1.0,\"#f0f921\"]],\"sequentialminus\":[[0.0,\"#0d0887\"],[0.1111111111111111,\"#46039f\"],[0.2222222222222222,\"#7201a8\"],[0.3333333333333333,\"#9c179e\"],[0.4444444444444444,\"#bd3786\"],[0.5555555555555556,\"#d8576b\"],[0.6666666666666666,\"#ed7953\"],[0.7777777777777778,\"#fb9f3a\"],[0.8888888888888888,\"#fdca26\"],[1.0,\"#f0f921\"]],\"diverging\":[[0,\"#8e0152\"],[0.1,\"#c51b7d\"],[0.2,\"#de77ae\"],[0.3,\"#f1b6da\"],[0.4,\"#fde0ef\"],[0.5,\"#f7f7f7\"],[0.6,\"#e6f5d0\"],[0.7,\"#b8e186\"],[0.8,\"#7fbc41\"],[0.9,\"#4d9221\"],[1,\"#276419\"]]},\"xaxis\":{\"gridcolor\":\"white\",\"linecolor\":\"white\",\"ticks\":\"\",\"title\":{\"standoff\":15},\"zerolinecolor\":\"white\",\"automargin\":true,\"zerolinewidth\":2},\"yaxis\":{\"gridcolor\":\"white\",\"linecolor\":\"white\",\"ticks\":\"\",\"title\":{\"standoff\":15},\"zerolinecolor\":\"white\",\"automargin\":true,\"zerolinewidth\":2},\"scene\":{\"xaxis\":{\"backgroundcolor\":\"#E5ECF6\",\"gridcolor\":\"white\",\"linecolor\":\"white\",\"showbackground\":true,\"ticks\":\"\",\"zerolinecolor\":\"white\",\"gridwidth\":2},\"yaxis\":{\"backgroundcolor\":\"#E5ECF6\",\"gridcolor\":\"white\",\"linecolor\":\"white\",\"showbackground\":true,\"ticks\":\"\",\"zerolinecolor\":\"white\",\"gridwidth\":2},\"zaxis\":{\"backgroundcolor\":\"#E5ECF6\",\"gridcolor\":\"white\",\"linecolor\":\"white\",\"showbackground\":true,\"ticks\":\"\",\"zerolinecolor\":\"white\",\"gridwidth\":2}},\"shapedefaults\":{\"line\":{\"color\":\"#2a3f5f\"}},\"annotationdefaults\":{\"arrowcolor\":\"#2a3f5f\",\"arrowhead\":0,\"arrowwidth\":1},\"geo\":{\"bgcolor\":\"white\",\"landcolor\":\"#E5ECF6\",\"subunitcolor\":\"white\",\"showland\":true,\"showlakes\":true,\"lakecolor\":\"white\"},\"title\":{\"x\":0.05},\"mapbox\":{\"style\":\"light\"}}},\"xaxis\":{\"anchor\":\"y\",\"domain\":[0.0,1.0],\"title\":{\"text\":\"Year\"}},\"yaxis\":{\"anchor\":\"x\",\"domain\":[0.0,1.0],\"title\":{\"text\":\"Failure Percentage\"}},\"legend\":{\"title\":{\"text\":\"Country_\"},\"tracegroupgap\":0},\"title\":{\"text\":\"Percentage of Mission Failures Year-on-Year: USA vs USSR (Cold War)\"}},                        {\"responsive\": true}                    ).then(function(){\n",
              "                            \n",
              "var gd = document.getElementById('ec3a3ad8-08ee-4bdb-9dda-d215c3a97d93');\n",
              "var x = new MutationObserver(function (mutations, observer) {{\n",
              "        var display = window.getComputedStyle(gd).display;\n",
              "        if (!display || display === 'none') {{\n",
              "            console.log([gd, 'removed!']);\n",
              "            Plotly.purge(gd);\n",
              "            observer.disconnect();\n",
              "        }}\n",
              "}});\n",
              "\n",
              "// Listen for the removal of the full notebook cells\n",
              "var notebookContainer = gd.closest('#notebook-container');\n",
              "if (notebookContainer) {{\n",
              "    x.observe(notebookContainer, {childList: true});\n",
              "}}\n",
              "\n",
              "// Listen for the clearing of the current output cell\n",
              "var outputEl = gd.closest('.output');\n",
              "if (outputEl) {{\n",
              "    x.observe(outputEl, {childList: true});\n",
              "}}\n",
              "\n",
              "                        })                };            </script>        </div>\n",
              "</body>\n",
              "</html>"
            ]
          },
          "metadata": {}
        }
      ]
    },
    {
      "cell_type": "markdown",
      "metadata": {
        "id": "S5aOC7bGr2OX"
      },
      "source": [
        "# For Every Year Show which Country was in the Lead in terms of Total Number of Launches up to and including including 2020)\n",
        "\n",
        "Do the results change if we only look at the number of successful launches?"
      ]
    },
    {
      "cell_type": "code",
      "source": [
        "# Calculate total successful launches per country per year\n",
        "yearly_country_launches = df_data.groupby(['Year', 'Country'])['Detail'].count().reset_index()\n",
        "yearly_country_launches.columns = ['Year', 'Country', 'Launch Count']\n",
        "\n",
        "# Calculate cumulative successful launches per country over time\n",
        "yearly_country_launches['Cumulative Launches'] = yearly_country_launches.groupby('Country')['Launch Count'].cumsum()\n",
        "\n",
        "# For each year, find the country with the maximum cumulative successful launches\n",
        "yearly_leader = yearly_country_launches.loc[yearly_country_launches.groupby('Year')['Cumulative Launches'].idxmax()].reset_index(drop=True)\n",
        "\n",
        "#Graph\n",
        "fig = px.bar(yearly_leader,\n",
        "             x='Year',\n",
        "             y='Cumulative Launches',\n",
        "             color='Country',\n",
        "             title='Country with the Most Launches Year-on-Year (Cumulative)')\n",
        "fig.show()"
      ],
      "metadata": {
        "colab": {
          "base_uri": "https://localhost:8080/",
          "height": 542
        },
        "id": "JBN_FcmAbxIA",
        "outputId": "14cd14f5-0b68-40f2-d317-f7c03f065a9c"
      },
      "execution_count": 59,
      "outputs": [
        {
          "output_type": "display_data",
          "data": {
            "text/html": [
              "<html>\n",
              "<head><meta charset=\"utf-8\" /></head>\n",
              "<body>\n",
              "    <div>            <script src=\"https://cdnjs.cloudflare.com/ajax/libs/mathjax/2.7.5/MathJax.js?config=TeX-AMS-MML_SVG\"></script><script type=\"text/javascript\">if (window.MathJax && window.MathJax.Hub && window.MathJax.Hub.Config) {window.MathJax.Hub.Config({SVG: {font: \"STIX-Web\"}});}</script>                <script type=\"text/javascript\">window.PlotlyConfig = {MathJaxConfig: 'local'};</script>\n",
              "        <script charset=\"utf-8\" src=\"https://cdn.plot.ly/plotly-3.1.0.min.js\" integrity=\"sha256-Ei4740bWZhaUTQuD6q9yQlgVCMPBz6CZWhevDYPv93A=\" crossorigin=\"anonymous\"></script>                <div id=\"67dae07f-529f-47c2-b96e-31e41110a56d\" class=\"plotly-graph-div\" style=\"height:525px; width:100%;\"></div>            <script type=\"text/javascript\">                window.PLOTLYENV=window.PLOTLYENV || {};                                if (document.getElementById(\"67dae07f-529f-47c2-b96e-31e41110a56d\")) {                    Plotly.newPlot(                        \"67dae07f-529f-47c2-b96e-31e41110a56d\",                        [{\"hovertemplate\":\"Country=Kazakhstan\\u003cbr\\u003eYear=%{x}\\u003cbr\\u003eCumulative Launches=%{y}\\u003cextra\\u003e\\u003c\\u002fextra\\u003e\",\"legendgroup\":\"Kazakhstan\",\"marker\":{\"color\":\"#636efa\",\"pattern\":{\"shape\":\"\"}},\"name\":\"Kazakhstan\",\"orientation\":\"v\",\"showlegend\":true,\"textposition\":\"auto\",\"x\":{\"dtype\":\"i4\",\"bdata\":\"pQcAAA==\"},\"xaxis\":\"x\",\"y\":{\"dtype\":\"i1\",\"bdata\":\"Ag==\"},\"yaxis\":\"y\",\"type\":\"bar\"},{\"hovertemplate\":\"Country=USA\\u003cbr\\u003eYear=%{x}\\u003cbr\\u003eCumulative Launches=%{y}\\u003cextra\\u003e\\u003c\\u002fextra\\u003e\",\"legendgroup\":\"USA\",\"marker\":{\"color\":\"#EF553B\",\"pattern\":{\"shape\":\"\"}},\"name\":\"USA\",\"orientation\":\"v\",\"showlegend\":true,\"textposition\":\"auto\",\"x\":{\"dtype\":\"i4\",\"bdata\":\"pgcAAKcHAACoBwAAqQcAAKoHAACrBwAArAcAAK0HAACuBwAArwcAALAHAACxBwAAsgcAALMHAAC0BwAAtQcAAA==\"},\"xaxis\":\"x\",\"y\":{\"dtype\":\"i2\",\"bdata\":\"GAAoAEYAcQCtAL4A1gD3ACYBQAFWAWcBcgGCAZMBpAE=\"},\"yaxis\":\"y\",\"type\":\"bar\"},{\"hovertemplate\":\"Country=Russian Federation\\u003cbr\\u003eYear=%{x}\\u003cbr\\u003eCumulative Launches=%{y}\\u003cextra\\u003e\\u003c\\u002fextra\\u003e\",\"legendgroup\":\"Russian Federation\",\"marker\":{\"color\":\"#00cc96\",\"pattern\":{\"shape\":\"\"}},\"name\":\"Russian Federation\",\"orientation\":\"v\",\"showlegend\":true,\"textposition\":\"auto\",\"x\":{\"dtype\":\"i4\",\"bdata\":\"tgcAALcHAAC4BwAAuQcAALoHAAC7BwAAvAcAAL0HAAC+BwAAvwcAAMAHAADBBwAAwgcAAMMHAADEBwAAxQcAAMYHAADHBwAAyAcAAMkHAADKBwAAywcAAMwHAADNBwAAzgcAAM8HAADQBwAA0QcAANIHAADTBwAA1AcAANUHAADWBwAA1wcAANgHAADZBwAA2gcAANsHAADcBwAA3QcAAN4HAADfBwAA4AcAAOEHAADiBwAA4wcAAOQHAAA=\"},\"xaxis\":\"x\",\"y\":{\"dtype\":\"i2\",\"bdata\":\"3gEgAmICqgLoAgkDKwNUA38DpwPNA\\u002fQDHgQ8BFcEbQSLBKQEuATNBNwE5gTuBPUE\\u002fQQBBQcFDAUUBRsFIAUnBS0FMgU4BT0FQgVEBUUFTAVSBVYFXAViBWoFcwV2BQ==\"},\"yaxis\":\"y\",\"type\":\"bar\"}],                        {\"template\":{\"data\":{\"histogram2dcontour\":[{\"type\":\"histogram2dcontour\",\"colorbar\":{\"outlinewidth\":0,\"ticks\":\"\"},\"colorscale\":[[0.0,\"#0d0887\"],[0.1111111111111111,\"#46039f\"],[0.2222222222222222,\"#7201a8\"],[0.3333333333333333,\"#9c179e\"],[0.4444444444444444,\"#bd3786\"],[0.5555555555555556,\"#d8576b\"],[0.6666666666666666,\"#ed7953\"],[0.7777777777777778,\"#fb9f3a\"],[0.8888888888888888,\"#fdca26\"],[1.0,\"#f0f921\"]]}],\"choropleth\":[{\"type\":\"choropleth\",\"colorbar\":{\"outlinewidth\":0,\"ticks\":\"\"}}],\"histogram2d\":[{\"type\":\"histogram2d\",\"colorbar\":{\"outlinewidth\":0,\"ticks\":\"\"},\"colorscale\":[[0.0,\"#0d0887\"],[0.1111111111111111,\"#46039f\"],[0.2222222222222222,\"#7201a8\"],[0.3333333333333333,\"#9c179e\"],[0.4444444444444444,\"#bd3786\"],[0.5555555555555556,\"#d8576b\"],[0.6666666666666666,\"#ed7953\"],[0.7777777777777778,\"#fb9f3a\"],[0.8888888888888888,\"#fdca26\"],[1.0,\"#f0f921\"]]}],\"heatmap\":[{\"type\":\"heatmap\",\"colorbar\":{\"outlinewidth\":0,\"ticks\":\"\"},\"colorscale\":[[0.0,\"#0d0887\"],[0.1111111111111111,\"#46039f\"],[0.2222222222222222,\"#7201a8\"],[0.3333333333333333,\"#9c179e\"],[0.4444444444444444,\"#bd3786\"],[0.5555555555555556,\"#d8576b\"],[0.6666666666666666,\"#ed7953\"],[0.7777777777777778,\"#fb9f3a\"],[0.8888888888888888,\"#fdca26\"],[1.0,\"#f0f921\"]]}],\"contourcarpet\":[{\"type\":\"contourcarpet\",\"colorbar\":{\"outlinewidth\":0,\"ticks\":\"\"}}],\"contour\":[{\"type\":\"contour\",\"colorbar\":{\"outlinewidth\":0,\"ticks\":\"\"},\"colorscale\":[[0.0,\"#0d0887\"],[0.1111111111111111,\"#46039f\"],[0.2222222222222222,\"#7201a8\"],[0.3333333333333333,\"#9c179e\"],[0.4444444444444444,\"#bd3786\"],[0.5555555555555556,\"#d8576b\"],[0.6666666666666666,\"#ed7953\"],[0.7777777777777778,\"#fb9f3a\"],[0.8888888888888888,\"#fdca26\"],[1.0,\"#f0f921\"]]}],\"surface\":[{\"type\":\"surface\",\"colorbar\":{\"outlinewidth\":0,\"ticks\":\"\"},\"colorscale\":[[0.0,\"#0d0887\"],[0.1111111111111111,\"#46039f\"],[0.2222222222222222,\"#7201a8\"],[0.3333333333333333,\"#9c179e\"],[0.4444444444444444,\"#bd3786\"],[0.5555555555555556,\"#d8576b\"],[0.6666666666666666,\"#ed7953\"],[0.7777777777777778,\"#fb9f3a\"],[0.8888888888888888,\"#fdca26\"],[1.0,\"#f0f921\"]]}],\"mesh3d\":[{\"type\":\"mesh3d\",\"colorbar\":{\"outlinewidth\":0,\"ticks\":\"\"}}],\"scatter\":[{\"fillpattern\":{\"fillmode\":\"overlay\",\"size\":10,\"solidity\":0.2},\"type\":\"scatter\"}],\"parcoords\":[{\"type\":\"parcoords\",\"line\":{\"colorbar\":{\"outlinewidth\":0,\"ticks\":\"\"}}}],\"scatterpolargl\":[{\"type\":\"scatterpolargl\",\"marker\":{\"colorbar\":{\"outlinewidth\":0,\"ticks\":\"\"}}}],\"bar\":[{\"error_x\":{\"color\":\"#2a3f5f\"},\"error_y\":{\"color\":\"#2a3f5f\"},\"marker\":{\"line\":{\"color\":\"#E5ECF6\",\"width\":0.5},\"pattern\":{\"fillmode\":\"overlay\",\"size\":10,\"solidity\":0.2}},\"type\":\"bar\"}],\"scattergeo\":[{\"type\":\"scattergeo\",\"marker\":{\"colorbar\":{\"outlinewidth\":0,\"ticks\":\"\"}}}],\"scatterpolar\":[{\"type\":\"scatterpolar\",\"marker\":{\"colorbar\":{\"outlinewidth\":0,\"ticks\":\"\"}}}],\"histogram\":[{\"marker\":{\"pattern\":{\"fillmode\":\"overlay\",\"size\":10,\"solidity\":0.2}},\"type\":\"histogram\"}],\"scattergl\":[{\"type\":\"scattergl\",\"marker\":{\"colorbar\":{\"outlinewidth\":0,\"ticks\":\"\"}}}],\"scatter3d\":[{\"type\":\"scatter3d\",\"line\":{\"colorbar\":{\"outlinewidth\":0,\"ticks\":\"\"}},\"marker\":{\"colorbar\":{\"outlinewidth\":0,\"ticks\":\"\"}}}],\"scattermap\":[{\"type\":\"scattermap\",\"marker\":{\"colorbar\":{\"outlinewidth\":0,\"ticks\":\"\"}}}],\"scattermapbox\":[{\"type\":\"scattermapbox\",\"marker\":{\"colorbar\":{\"outlinewidth\":0,\"ticks\":\"\"}}}],\"scatterternary\":[{\"type\":\"scatterternary\",\"marker\":{\"colorbar\":{\"outlinewidth\":0,\"ticks\":\"\"}}}],\"scattercarpet\":[{\"type\":\"scattercarpet\",\"marker\":{\"colorbar\":{\"outlinewidth\":0,\"ticks\":\"\"}}}],\"carpet\":[{\"aaxis\":{\"endlinecolor\":\"#2a3f5f\",\"gridcolor\":\"white\",\"linecolor\":\"white\",\"minorgridcolor\":\"white\",\"startlinecolor\":\"#2a3f5f\"},\"baxis\":{\"endlinecolor\":\"#2a3f5f\",\"gridcolor\":\"white\",\"linecolor\":\"white\",\"minorgridcolor\":\"white\",\"startlinecolor\":\"#2a3f5f\"},\"type\":\"carpet\"}],\"table\":[{\"cells\":{\"fill\":{\"color\":\"#EBF0F8\"},\"line\":{\"color\":\"white\"}},\"header\":{\"fill\":{\"color\":\"#C8D4E3\"},\"line\":{\"color\":\"white\"}},\"type\":\"table\"}],\"barpolar\":[{\"marker\":{\"line\":{\"color\":\"#E5ECF6\",\"width\":0.5},\"pattern\":{\"fillmode\":\"overlay\",\"size\":10,\"solidity\":0.2}},\"type\":\"barpolar\"}],\"pie\":[{\"automargin\":true,\"type\":\"pie\"}]},\"layout\":{\"autotypenumbers\":\"strict\",\"colorway\":[\"#636efa\",\"#EF553B\",\"#00cc96\",\"#ab63fa\",\"#FFA15A\",\"#19d3f3\",\"#FF6692\",\"#B6E880\",\"#FF97FF\",\"#FECB52\"],\"font\":{\"color\":\"#2a3f5f\"},\"hovermode\":\"closest\",\"hoverlabel\":{\"align\":\"left\"},\"paper_bgcolor\":\"white\",\"plot_bgcolor\":\"#E5ECF6\",\"polar\":{\"bgcolor\":\"#E5ECF6\",\"angularaxis\":{\"gridcolor\":\"white\",\"linecolor\":\"white\",\"ticks\":\"\"},\"radialaxis\":{\"gridcolor\":\"white\",\"linecolor\":\"white\",\"ticks\":\"\"}},\"ternary\":{\"bgcolor\":\"#E5ECF6\",\"aaxis\":{\"gridcolor\":\"white\",\"linecolor\":\"white\",\"ticks\":\"\"},\"baxis\":{\"gridcolor\":\"white\",\"linecolor\":\"white\",\"ticks\":\"\"},\"caxis\":{\"gridcolor\":\"white\",\"linecolor\":\"white\",\"ticks\":\"\"}},\"coloraxis\":{\"colorbar\":{\"outlinewidth\":0,\"ticks\":\"\"}},\"colorscale\":{\"sequential\":[[0.0,\"#0d0887\"],[0.1111111111111111,\"#46039f\"],[0.2222222222222222,\"#7201a8\"],[0.3333333333333333,\"#9c179e\"],[0.4444444444444444,\"#bd3786\"],[0.5555555555555556,\"#d8576b\"],[0.6666666666666666,\"#ed7953\"],[0.7777777777777778,\"#fb9f3a\"],[0.8888888888888888,\"#fdca26\"],[1.0,\"#f0f921\"]],\"sequentialminus\":[[0.0,\"#0d0887\"],[0.1111111111111111,\"#46039f\"],[0.2222222222222222,\"#7201a8\"],[0.3333333333333333,\"#9c179e\"],[0.4444444444444444,\"#bd3786\"],[0.5555555555555556,\"#d8576b\"],[0.6666666666666666,\"#ed7953\"],[0.7777777777777778,\"#fb9f3a\"],[0.8888888888888888,\"#fdca26\"],[1.0,\"#f0f921\"]],\"diverging\":[[0,\"#8e0152\"],[0.1,\"#c51b7d\"],[0.2,\"#de77ae\"],[0.3,\"#f1b6da\"],[0.4,\"#fde0ef\"],[0.5,\"#f7f7f7\"],[0.6,\"#e6f5d0\"],[0.7,\"#b8e186\"],[0.8,\"#7fbc41\"],[0.9,\"#4d9221\"],[1,\"#276419\"]]},\"xaxis\":{\"gridcolor\":\"white\",\"linecolor\":\"white\",\"ticks\":\"\",\"title\":{\"standoff\":15},\"zerolinecolor\":\"white\",\"automargin\":true,\"zerolinewidth\":2},\"yaxis\":{\"gridcolor\":\"white\",\"linecolor\":\"white\",\"ticks\":\"\",\"title\":{\"standoff\":15},\"zerolinecolor\":\"white\",\"automargin\":true,\"zerolinewidth\":2},\"scene\":{\"xaxis\":{\"backgroundcolor\":\"#E5ECF6\",\"gridcolor\":\"white\",\"linecolor\":\"white\",\"showbackground\":true,\"ticks\":\"\",\"zerolinecolor\":\"white\",\"gridwidth\":2},\"yaxis\":{\"backgroundcolor\":\"#E5ECF6\",\"gridcolor\":\"white\",\"linecolor\":\"white\",\"showbackground\":true,\"ticks\":\"\",\"zerolinecolor\":\"white\",\"gridwidth\":2},\"zaxis\":{\"backgroundcolor\":\"#E5ECF6\",\"gridcolor\":\"white\",\"linecolor\":\"white\",\"showbackground\":true,\"ticks\":\"\",\"zerolinecolor\":\"white\",\"gridwidth\":2}},\"shapedefaults\":{\"line\":{\"color\":\"#2a3f5f\"}},\"annotationdefaults\":{\"arrowcolor\":\"#2a3f5f\",\"arrowhead\":0,\"arrowwidth\":1},\"geo\":{\"bgcolor\":\"white\",\"landcolor\":\"#E5ECF6\",\"subunitcolor\":\"white\",\"showland\":true,\"showlakes\":true,\"lakecolor\":\"white\"},\"title\":{\"x\":0.05},\"mapbox\":{\"style\":\"light\"}}},\"xaxis\":{\"anchor\":\"y\",\"domain\":[0.0,1.0],\"title\":{\"text\":\"Year\"}},\"yaxis\":{\"anchor\":\"x\",\"domain\":[0.0,1.0],\"title\":{\"text\":\"Cumulative Launches\"}},\"legend\":{\"title\":{\"text\":\"Country\"},\"tracegroupgap\":0},\"title\":{\"text\":\"Country with the Most Launches Year-on-Year (Cumulative)\"},\"barmode\":\"relative\"},                        {\"responsive\": true}                    ).then(function(){\n",
              "                            \n",
              "var gd = document.getElementById('67dae07f-529f-47c2-b96e-31e41110a56d');\n",
              "var x = new MutationObserver(function (mutations, observer) {{\n",
              "        var display = window.getComputedStyle(gd).display;\n",
              "        if (!display || display === 'none') {{\n",
              "            console.log([gd, 'removed!']);\n",
              "            Plotly.purge(gd);\n",
              "            observer.disconnect();\n",
              "        }}\n",
              "}});\n",
              "\n",
              "// Listen for the removal of the full notebook cells\n",
              "var notebookContainer = gd.closest('#notebook-container');\n",
              "if (notebookContainer) {{\n",
              "    x.observe(notebookContainer, {childList: true});\n",
              "}}\n",
              "\n",
              "// Listen for the clearing of the current output cell\n",
              "var outputEl = gd.closest('.output');\n",
              "if (outputEl) {{\n",
              "    x.observe(outputEl, {childList: true});\n",
              "}}\n",
              "\n",
              "                        })                };            </script>        </div>\n",
              "</body>\n",
              "</html>"
            ]
          },
          "metadata": {}
        }
      ]
    },
    {
      "cell_type": "code",
      "source": [
        "# Filter for successful launches\n",
        "success_launches = df_data[df_data['Mission_Status'] == 'Success'].copy()\n",
        "\n",
        "# Calculate total successful launches per country per year\n",
        "yearly_country_success_launches = success_launches.groupby(['Year', 'Country'])['Detail'].count().reset_index()\n",
        "yearly_country_success_launches.columns = ['Year', 'Country', 'Launch Count']\n",
        "\n",
        "# Calculate cumulative successful launches per country over time\n",
        "yearly_country_success_launches['Cumulative Launches'] = yearly_country_success_launches.groupby('Country')['Launch Count'].cumsum()\n",
        "\n",
        "# For each year, find the country with the maximum cumulative successful launches\n",
        "yearly_success_leader = yearly_country_success_launches.loc[yearly_country_success_launches.groupby('Year')['Cumulative Launches'].idxmax()].reset_index(drop=True)\n",
        "\n",
        "#Graph\n",
        "fig = px.bar(yearly_success_leader,\n",
        "             x='Year',\n",
        "             y='Cumulative Launches',\n",
        "             color='Country',\n",
        "             title='Country with the Most Successful Launches Year-on-Year (Cumulative)')\n",
        "fig.show()"
      ],
      "metadata": {
        "colab": {
          "base_uri": "https://localhost:8080/",
          "height": 542
        },
        "id": "QaUh5O0qbVeB",
        "outputId": "78273657-d480-4fa5-a5c8-1bdbc118eeaf"
      },
      "execution_count": 60,
      "outputs": [
        {
          "output_type": "display_data",
          "data": {
            "text/html": [
              "<html>\n",
              "<head><meta charset=\"utf-8\" /></head>\n",
              "<body>\n",
              "    <div>            <script src=\"https://cdnjs.cloudflare.com/ajax/libs/mathjax/2.7.5/MathJax.js?config=TeX-AMS-MML_SVG\"></script><script type=\"text/javascript\">if (window.MathJax && window.MathJax.Hub && window.MathJax.Hub.Config) {window.MathJax.Hub.Config({SVG: {font: \"STIX-Web\"}});}</script>                <script type=\"text/javascript\">window.PlotlyConfig = {MathJaxConfig: 'local'};</script>\n",
              "        <script charset=\"utf-8\" src=\"https://cdn.plot.ly/plotly-3.1.0.min.js\" integrity=\"sha256-Ei4740bWZhaUTQuD6q9yQlgVCMPBz6CZWhevDYPv93A=\" crossorigin=\"anonymous\"></script>                <div id=\"e29d42e8-250b-4000-b031-c1597cca5891\" class=\"plotly-graph-div\" style=\"height:525px; width:100%;\"></div>            <script type=\"text/javascript\">                window.PLOTLYENV=window.PLOTLYENV || {};                                if (document.getElementById(\"e29d42e8-250b-4000-b031-c1597cca5891\")) {                    Plotly.newPlot(                        \"e29d42e8-250b-4000-b031-c1597cca5891\",                        [{\"hovertemplate\":\"Country=Kazakhstan\\u003cbr\\u003eYear=%{x}\\u003cbr\\u003eCumulative Launches=%{y}\\u003cextra\\u003e\\u003c\\u002fextra\\u003e\",\"legendgroup\":\"Kazakhstan\",\"marker\":{\"color\":\"#636efa\",\"pattern\":{\"shape\":\"\"}},\"name\":\"Kazakhstan\",\"orientation\":\"v\",\"showlegend\":true,\"textposition\":\"auto\",\"x\":{\"dtype\":\"i4\",\"bdata\":\"pQcAAA==\"},\"xaxis\":\"x\",\"y\":{\"dtype\":\"i1\",\"bdata\":\"Ag==\"},\"yaxis\":\"y\",\"type\":\"bar\"},{\"hovertemplate\":\"Country=USA\\u003cbr\\u003eYear=%{x}\\u003cbr\\u003eCumulative Launches=%{y}\\u003cextra\\u003e\\u003c\\u002fextra\\u003e\",\"legendgroup\":\"USA\",\"marker\":{\"color\":\"#EF553B\",\"pattern\":{\"shape\":\"\"}},\"name\":\"USA\",\"orientation\":\"v\",\"showlegend\":true,\"textposition\":\"auto\",\"x\":{\"dtype\":\"i4\",\"bdata\":\"pgcAAKcHAACoBwAAqQcAAKoHAACrBwAArAcAAK0HAACuBwAArwcAALAHAACxBwAAsgcAALMHAAA=\"},\"xaxis\":\"x\",\"y\":{\"dtype\":\"i2\",\"bdata\":\"BQALABsANgBoAHUAiACiAMoA3wDyAAMBDAEaAQ==\"},\"yaxis\":\"y\",\"type\":\"bar\"},{\"hovertemplate\":\"Country=Russian Federation\\u003cbr\\u003eYear=%{x}\\u003cbr\\u003eCumulative Launches=%{y}\\u003cextra\\u003e\\u003c\\u002fextra\\u003e\",\"legendgroup\":\"Russian Federation\",\"marker\":{\"color\":\"#00cc96\",\"pattern\":{\"shape\":\"\"}},\"name\":\"Russian Federation\",\"orientation\":\"v\",\"showlegend\":true,\"textposition\":\"auto\",\"x\":{\"dtype\":\"i4\",\"bdata\":\"tAcAALUHAAC2BwAAtwcAALgHAAC5BwAAugcAALsHAAC8BwAAvQcAAL4HAAC\\u002fBwAAwAcAAMEHAADCBwAAwwcAAMQHAADFBwAAxgcAAMcHAADIBwAAyQcAAMoHAADLBwAAzAcAAM0HAADOBwAAzwcAANAHAADRBwAA0gcAANMHAADUBwAA1QcAANYHAADXBwAA2AcAANkHAADaBwAA2wcAANwHAADdBwAA3gcAAN8HAADgBwAA4QcAAOIHAADjBwAA5AcAAA==\"},\"xaxis\":\"x\",\"y\":{\"dtype\":\"i2\",\"bdata\":\"MgFyAaoB6gEpAnACrALNAuwCEgM6A2EDhgOsA9MD8AMLBCAEPQRVBGkEfgSMBJQEnASjBKoErgSyBLcEvwTGBMoEzgTUBNkE3wTkBOkE6gTrBPEE9wT6BAAFBQUNBRYFGQU=\"},\"yaxis\":\"y\",\"type\":\"bar\"}],                        {\"template\":{\"data\":{\"histogram2dcontour\":[{\"type\":\"histogram2dcontour\",\"colorbar\":{\"outlinewidth\":0,\"ticks\":\"\"},\"colorscale\":[[0.0,\"#0d0887\"],[0.1111111111111111,\"#46039f\"],[0.2222222222222222,\"#7201a8\"],[0.3333333333333333,\"#9c179e\"],[0.4444444444444444,\"#bd3786\"],[0.5555555555555556,\"#d8576b\"],[0.6666666666666666,\"#ed7953\"],[0.7777777777777778,\"#fb9f3a\"],[0.8888888888888888,\"#fdca26\"],[1.0,\"#f0f921\"]]}],\"choropleth\":[{\"type\":\"choropleth\",\"colorbar\":{\"outlinewidth\":0,\"ticks\":\"\"}}],\"histogram2d\":[{\"type\":\"histogram2d\",\"colorbar\":{\"outlinewidth\":0,\"ticks\":\"\"},\"colorscale\":[[0.0,\"#0d0887\"],[0.1111111111111111,\"#46039f\"],[0.2222222222222222,\"#7201a8\"],[0.3333333333333333,\"#9c179e\"],[0.4444444444444444,\"#bd3786\"],[0.5555555555555556,\"#d8576b\"],[0.6666666666666666,\"#ed7953\"],[0.7777777777777778,\"#fb9f3a\"],[0.8888888888888888,\"#fdca26\"],[1.0,\"#f0f921\"]]}],\"heatmap\":[{\"type\":\"heatmap\",\"colorbar\":{\"outlinewidth\":0,\"ticks\":\"\"},\"colorscale\":[[0.0,\"#0d0887\"],[0.1111111111111111,\"#46039f\"],[0.2222222222222222,\"#7201a8\"],[0.3333333333333333,\"#9c179e\"],[0.4444444444444444,\"#bd3786\"],[0.5555555555555556,\"#d8576b\"],[0.6666666666666666,\"#ed7953\"],[0.7777777777777778,\"#fb9f3a\"],[0.8888888888888888,\"#fdca26\"],[1.0,\"#f0f921\"]]}],\"contourcarpet\":[{\"type\":\"contourcarpet\",\"colorbar\":{\"outlinewidth\":0,\"ticks\":\"\"}}],\"contour\":[{\"type\":\"contour\",\"colorbar\":{\"outlinewidth\":0,\"ticks\":\"\"},\"colorscale\":[[0.0,\"#0d0887\"],[0.1111111111111111,\"#46039f\"],[0.2222222222222222,\"#7201a8\"],[0.3333333333333333,\"#9c179e\"],[0.4444444444444444,\"#bd3786\"],[0.5555555555555556,\"#d8576b\"],[0.6666666666666666,\"#ed7953\"],[0.7777777777777778,\"#fb9f3a\"],[0.8888888888888888,\"#fdca26\"],[1.0,\"#f0f921\"]]}],\"surface\":[{\"type\":\"surface\",\"colorbar\":{\"outlinewidth\":0,\"ticks\":\"\"},\"colorscale\":[[0.0,\"#0d0887\"],[0.1111111111111111,\"#46039f\"],[0.2222222222222222,\"#7201a8\"],[0.3333333333333333,\"#9c179e\"],[0.4444444444444444,\"#bd3786\"],[0.5555555555555556,\"#d8576b\"],[0.6666666666666666,\"#ed7953\"],[0.7777777777777778,\"#fb9f3a\"],[0.8888888888888888,\"#fdca26\"],[1.0,\"#f0f921\"]]}],\"mesh3d\":[{\"type\":\"mesh3d\",\"colorbar\":{\"outlinewidth\":0,\"ticks\":\"\"}}],\"scatter\":[{\"fillpattern\":{\"fillmode\":\"overlay\",\"size\":10,\"solidity\":0.2},\"type\":\"scatter\"}],\"parcoords\":[{\"type\":\"parcoords\",\"line\":{\"colorbar\":{\"outlinewidth\":0,\"ticks\":\"\"}}}],\"scatterpolargl\":[{\"type\":\"scatterpolargl\",\"marker\":{\"colorbar\":{\"outlinewidth\":0,\"ticks\":\"\"}}}],\"bar\":[{\"error_x\":{\"color\":\"#2a3f5f\"},\"error_y\":{\"color\":\"#2a3f5f\"},\"marker\":{\"line\":{\"color\":\"#E5ECF6\",\"width\":0.5},\"pattern\":{\"fillmode\":\"overlay\",\"size\":10,\"solidity\":0.2}},\"type\":\"bar\"}],\"scattergeo\":[{\"type\":\"scattergeo\",\"marker\":{\"colorbar\":{\"outlinewidth\":0,\"ticks\":\"\"}}}],\"scatterpolar\":[{\"type\":\"scatterpolar\",\"marker\":{\"colorbar\":{\"outlinewidth\":0,\"ticks\":\"\"}}}],\"histogram\":[{\"marker\":{\"pattern\":{\"fillmode\":\"overlay\",\"size\":10,\"solidity\":0.2}},\"type\":\"histogram\"}],\"scattergl\":[{\"type\":\"scattergl\",\"marker\":{\"colorbar\":{\"outlinewidth\":0,\"ticks\":\"\"}}}],\"scatter3d\":[{\"type\":\"scatter3d\",\"line\":{\"colorbar\":{\"outlinewidth\":0,\"ticks\":\"\"}},\"marker\":{\"colorbar\":{\"outlinewidth\":0,\"ticks\":\"\"}}}],\"scattermap\":[{\"type\":\"scattermap\",\"marker\":{\"colorbar\":{\"outlinewidth\":0,\"ticks\":\"\"}}}],\"scattermapbox\":[{\"type\":\"scattermapbox\",\"marker\":{\"colorbar\":{\"outlinewidth\":0,\"ticks\":\"\"}}}],\"scatterternary\":[{\"type\":\"scatterternary\",\"marker\":{\"colorbar\":{\"outlinewidth\":0,\"ticks\":\"\"}}}],\"scattercarpet\":[{\"type\":\"scattercarpet\",\"marker\":{\"colorbar\":{\"outlinewidth\":0,\"ticks\":\"\"}}}],\"carpet\":[{\"aaxis\":{\"endlinecolor\":\"#2a3f5f\",\"gridcolor\":\"white\",\"linecolor\":\"white\",\"minorgridcolor\":\"white\",\"startlinecolor\":\"#2a3f5f\"},\"baxis\":{\"endlinecolor\":\"#2a3f5f\",\"gridcolor\":\"white\",\"linecolor\":\"white\",\"minorgridcolor\":\"white\",\"startlinecolor\":\"#2a3f5f\"},\"type\":\"carpet\"}],\"table\":[{\"cells\":{\"fill\":{\"color\":\"#EBF0F8\"},\"line\":{\"color\":\"white\"}},\"header\":{\"fill\":{\"color\":\"#C8D4E3\"},\"line\":{\"color\":\"white\"}},\"type\":\"table\"}],\"barpolar\":[{\"marker\":{\"line\":{\"color\":\"#E5ECF6\",\"width\":0.5},\"pattern\":{\"fillmode\":\"overlay\",\"size\":10,\"solidity\":0.2}},\"type\":\"barpolar\"}],\"pie\":[{\"automargin\":true,\"type\":\"pie\"}]},\"layout\":{\"autotypenumbers\":\"strict\",\"colorway\":[\"#636efa\",\"#EF553B\",\"#00cc96\",\"#ab63fa\",\"#FFA15A\",\"#19d3f3\",\"#FF6692\",\"#B6E880\",\"#FF97FF\",\"#FECB52\"],\"font\":{\"color\":\"#2a3f5f\"},\"hovermode\":\"closest\",\"hoverlabel\":{\"align\":\"left\"},\"paper_bgcolor\":\"white\",\"plot_bgcolor\":\"#E5ECF6\",\"polar\":{\"bgcolor\":\"#E5ECF6\",\"angularaxis\":{\"gridcolor\":\"white\",\"linecolor\":\"white\",\"ticks\":\"\"},\"radialaxis\":{\"gridcolor\":\"white\",\"linecolor\":\"white\",\"ticks\":\"\"}},\"ternary\":{\"bgcolor\":\"#E5ECF6\",\"aaxis\":{\"gridcolor\":\"white\",\"linecolor\":\"white\",\"ticks\":\"\"},\"baxis\":{\"gridcolor\":\"white\",\"linecolor\":\"white\",\"ticks\":\"\"},\"caxis\":{\"gridcolor\":\"white\",\"linecolor\":\"white\",\"ticks\":\"\"}},\"coloraxis\":{\"colorbar\":{\"outlinewidth\":0,\"ticks\":\"\"}},\"colorscale\":{\"sequential\":[[0.0,\"#0d0887\"],[0.1111111111111111,\"#46039f\"],[0.2222222222222222,\"#7201a8\"],[0.3333333333333333,\"#9c179e\"],[0.4444444444444444,\"#bd3786\"],[0.5555555555555556,\"#d8576b\"],[0.6666666666666666,\"#ed7953\"],[0.7777777777777778,\"#fb9f3a\"],[0.8888888888888888,\"#fdca26\"],[1.0,\"#f0f921\"]],\"sequentialminus\":[[0.0,\"#0d0887\"],[0.1111111111111111,\"#46039f\"],[0.2222222222222222,\"#7201a8\"],[0.3333333333333333,\"#9c179e\"],[0.4444444444444444,\"#bd3786\"],[0.5555555555555556,\"#d8576b\"],[0.6666666666666666,\"#ed7953\"],[0.7777777777777778,\"#fb9f3a\"],[0.8888888888888888,\"#fdca26\"],[1.0,\"#f0f921\"]],\"diverging\":[[0,\"#8e0152\"],[0.1,\"#c51b7d\"],[0.2,\"#de77ae\"],[0.3,\"#f1b6da\"],[0.4,\"#fde0ef\"],[0.5,\"#f7f7f7\"],[0.6,\"#e6f5d0\"],[0.7,\"#b8e186\"],[0.8,\"#7fbc41\"],[0.9,\"#4d9221\"],[1,\"#276419\"]]},\"xaxis\":{\"gridcolor\":\"white\",\"linecolor\":\"white\",\"ticks\":\"\",\"title\":{\"standoff\":15},\"zerolinecolor\":\"white\",\"automargin\":true,\"zerolinewidth\":2},\"yaxis\":{\"gridcolor\":\"white\",\"linecolor\":\"white\",\"ticks\":\"\",\"title\":{\"standoff\":15},\"zerolinecolor\":\"white\",\"automargin\":true,\"zerolinewidth\":2},\"scene\":{\"xaxis\":{\"backgroundcolor\":\"#E5ECF6\",\"gridcolor\":\"white\",\"linecolor\":\"white\",\"showbackground\":true,\"ticks\":\"\",\"zerolinecolor\":\"white\",\"gridwidth\":2},\"yaxis\":{\"backgroundcolor\":\"#E5ECF6\",\"gridcolor\":\"white\",\"linecolor\":\"white\",\"showbackground\":true,\"ticks\":\"\",\"zerolinecolor\":\"white\",\"gridwidth\":2},\"zaxis\":{\"backgroundcolor\":\"#E5ECF6\",\"gridcolor\":\"white\",\"linecolor\":\"white\",\"showbackground\":true,\"ticks\":\"\",\"zerolinecolor\":\"white\",\"gridwidth\":2}},\"shapedefaults\":{\"line\":{\"color\":\"#2a3f5f\"}},\"annotationdefaults\":{\"arrowcolor\":\"#2a3f5f\",\"arrowhead\":0,\"arrowwidth\":1},\"geo\":{\"bgcolor\":\"white\",\"landcolor\":\"#E5ECF6\",\"subunitcolor\":\"white\",\"showland\":true,\"showlakes\":true,\"lakecolor\":\"white\"},\"title\":{\"x\":0.05},\"mapbox\":{\"style\":\"light\"}}},\"xaxis\":{\"anchor\":\"y\",\"domain\":[0.0,1.0],\"title\":{\"text\":\"Year\"}},\"yaxis\":{\"anchor\":\"x\",\"domain\":[0.0,1.0],\"title\":{\"text\":\"Cumulative Launches\"}},\"legend\":{\"title\":{\"text\":\"Country\"},\"tracegroupgap\":0},\"title\":{\"text\":\"Country with the Most Successful Launches Year-on-Year (Cumulative)\"},\"barmode\":\"relative\"},                        {\"responsive\": true}                    ).then(function(){\n",
              "                            \n",
              "var gd = document.getElementById('e29d42e8-250b-4000-b031-c1597cca5891');\n",
              "var x = new MutationObserver(function (mutations, observer) {{\n",
              "        var display = window.getComputedStyle(gd).display;\n",
              "        if (!display || display === 'none') {{\n",
              "            console.log([gd, 'removed!']);\n",
              "            Plotly.purge(gd);\n",
              "            observer.disconnect();\n",
              "        }}\n",
              "}});\n",
              "\n",
              "// Listen for the removal of the full notebook cells\n",
              "var notebookContainer = gd.closest('#notebook-container');\n",
              "if (notebookContainer) {{\n",
              "    x.observe(notebookContainer, {childList: true});\n",
              "}}\n",
              "\n",
              "// Listen for the clearing of the current output cell\n",
              "var outputEl = gd.closest('.output');\n",
              "if (outputEl) {{\n",
              "    x.observe(outputEl, {childList: true});\n",
              "}}\n",
              "\n",
              "                        })                };            </script>        </div>\n",
              "</body>\n",
              "</html>"
            ]
          },
          "metadata": {}
        }
      ]
    },
    {
      "cell_type": "markdown",
      "metadata": {
        "id": "jQcqBfJ8serG"
      },
      "source": [
        "# Create a Year-on-Year Chart Showing the Organisation Doing the Most Number of Launches\n",
        "\n",
        "Which organisation was dominant in the 1970s and 1980s? Which organisation was dominant in 2018, 2019 and 2020?"
      ]
    },
    {
      "cell_type": "code",
      "metadata": {
        "id": "jc9ImQEWsztG",
        "colab": {
          "base_uri": "https://localhost:8080/",
          "height": 542
        },
        "outputId": "d7af2529-f6e1-4024-a708-8bfc34f8fcbd"
      },
      "source": [
        "# Calculate yearly launch counts for each organization\n",
        "yearly_org_launches = df_data.groupby(['Year', 'Organisation']).size().reset_index(name='Launch Count')\n",
        "\n",
        "# For each year, find the organization with the maximum launch count\n",
        "yearly_org_leader = yearly_org_launches.loc[yearly_org_launches.groupby('Year')['Launch Count'].idxmax()].reset_index(drop=True)\n",
        "\n",
        "# Create a bar chart\n",
        "fig = px.bar(yearly_org_leader,\n",
        "             x='Year',\n",
        "             y='Launch Count',\n",
        "             color='Organisation',\n",
        "             title='Organisation with the Most Launches Year-on-Year')\n",
        "fig.show()"
      ],
      "execution_count": 52,
      "outputs": [
        {
          "output_type": "display_data",
          "data": {
            "text/html": [
              "<html>\n",
              "<head><meta charset=\"utf-8\" /></head>\n",
              "<body>\n",
              "    <div>            <script src=\"https://cdnjs.cloudflare.com/ajax/libs/mathjax/2.7.5/MathJax.js?config=TeX-AMS-MML_SVG\"></script><script type=\"text/javascript\">if (window.MathJax && window.MathJax.Hub && window.MathJax.Hub.Config) {window.MathJax.Hub.Config({SVG: {font: \"STIX-Web\"}});}</script>                <script type=\"text/javascript\">window.PlotlyConfig = {MathJaxConfig: 'local'};</script>\n",
              "        <script charset=\"utf-8\" src=\"https://cdn.plot.ly/plotly-3.1.0.min.js\" integrity=\"sha256-Ei4740bWZhaUTQuD6q9yQlgVCMPBz6CZWhevDYPv93A=\" crossorigin=\"anonymous\"></script>                <div id=\"76672b69-f28c-49df-a9e1-541dd655937d\" class=\"plotly-graph-div\" style=\"height:525px; width:100%;\"></div>            <script type=\"text/javascript\">                window.PLOTLYENV=window.PLOTLYENV || {};                                if (document.getElementById(\"76672b69-f28c-49df-a9e1-541dd655937d\")) {                    Plotly.newPlot(                        \"76672b69-f28c-49df-a9e1-541dd655937d\",                        [{\"hovertemplate\":\"Organisation=RVSN USSR\\u003cbr\\u003eYear=%{x}\\u003cbr\\u003eLaunch Count=%{y}\\u003cextra\\u003e\\u003c\\u002fextra\\u003e\",\"legendgroup\":\"RVSN USSR\",\"marker\":{\"color\":\"#636efa\",\"pattern\":{\"shape\":\"\"}},\"name\":\"RVSN USSR\",\"orientation\":\"v\",\"showlegend\":true,\"textposition\":\"auto\",\"x\":{\"dtype\":\"i4\",\"bdata\":\"pQcAAKsHAACsBwAArQcAAK4HAACvBwAAsAcAALEHAACyBwAAswcAALQHAAC1BwAAtgcAALcHAAC4BwAAuQcAALoHAAC7BwAAvAcAAL0HAAC+BwAAvwcAAMAHAADBBwAAwgcAAMMHAADEBwAAxQcAAMYHAADHBwAA\"},\"xaxis\":\"x\",\"y\":{\"dtype\":\"i1\",\"bdata\":\"AhgkNTNKT1JXXU9UU1lfYUckKDM1LiozMSokGiUc\"},\"yaxis\":\"y\",\"type\":\"bar\"},{\"hovertemplate\":\"Organisation=US Navy\\u003cbr\\u003eYear=%{x}\\u003cbr\\u003eLaunch Count=%{y}\\u003cextra\\u003e\\u003c\\u002fextra\\u003e\",\"legendgroup\":\"US Navy\",\"marker\":{\"color\":\"#EF553B\",\"pattern\":{\"shape\":\"\"}},\"name\":\"US Navy\",\"orientation\":\"v\",\"showlegend\":true,\"textposition\":\"auto\",\"x\":{\"dtype\":\"i4\",\"bdata\":\"pgcAAA==\"},\"xaxis\":\"x\",\"y\":{\"dtype\":\"i1\",\"bdata\":\"DA==\"},\"yaxis\":\"y\",\"type\":\"bar\"},{\"hovertemplate\":\"Organisation=US Air Force\\u003cbr\\u003eYear=%{x}\\u003cbr\\u003eLaunch Count=%{y}\\u003cextra\\u003e\\u003c\\u002fextra\\u003e\",\"legendgroup\":\"US Air Force\",\"marker\":{\"color\":\"#00cc96\",\"pattern\":{\"shape\":\"\"}},\"name\":\"US Air Force\",\"orientation\":\"v\",\"showlegend\":true,\"textposition\":\"auto\",\"x\":{\"dtype\":\"i4\",\"bdata\":\"pwcAAKgHAACpBwAAqgcAAA==\"},\"xaxis\":\"x\",\"y\":{\"dtype\":\"i1\",\"bdata\":\"ChUXKQ==\"},\"yaxis\":\"y\",\"type\":\"bar\"},{\"hovertemplate\":\"Organisation=VKS RF\\u003cbr\\u003eYear=%{x}\\u003cbr\\u003eLaunch Count=%{y}\\u003cextra\\u003e\\u003c\\u002fextra\\u003e\",\"legendgroup\":\"VKS RF\",\"marker\":{\"color\":\"#ab63fa\",\"pattern\":{\"shape\":\"\"}},\"name\":\"VKS RF\",\"orientation\":\"v\",\"showlegend\":true,\"textposition\":\"auto\",\"x\":{\"dtype\":\"i4\",\"bdata\":\"yAcAAMkHAADKBwAA\"},\"xaxis\":\"x\",\"y\":{\"dtype\":\"i1\",\"bdata\":\"DhoV\"},\"yaxis\":\"y\",\"type\":\"bar\"},{\"hovertemplate\":\"Organisation=Lockheed\\u003cbr\\u003eYear=%{x}\\u003cbr\\u003eLaunch Count=%{y}\\u003cextra\\u003e\\u003c\\u002fextra\\u003e\",\"legendgroup\":\"Lockheed\",\"marker\":{\"color\":\"#FFA15A\",\"pattern\":{\"shape\":\"\"}},\"name\":\"Lockheed\",\"orientation\":\"v\",\"showlegend\":true,\"textposition\":\"auto\",\"x\":{\"dtype\":\"i4\",\"bdata\":\"ywcAAA==\"},\"xaxis\":\"x\",\"y\":{\"dtype\":\"i1\",\"bdata\":\"DA==\"},\"yaxis\":\"y\",\"type\":\"bar\"},{\"hovertemplate\":\"Organisation=Arianespace\\u003cbr\\u003eYear=%{x}\\u003cbr\\u003eLaunch Count=%{y}\\u003cextra\\u003e\\u003c\\u002fextra\\u003e\",\"legendgroup\":\"Arianespace\",\"marker\":{\"color\":\"#19d3f3\",\"pattern\":{\"shape\":\"\"}},\"name\":\"Arianespace\",\"orientation\":\"v\",\"showlegend\":true,\"textposition\":\"auto\",\"x\":{\"dtype\":\"i4\",\"bdata\":\"zAcAAM0HAADQBwAA0QcAANIHAADVBwAA3wcAAA==\"},\"xaxis\":\"x\",\"y\":{\"dtype\":\"i1\",\"bdata\":\"CgsMCAwFDA==\"},\"yaxis\":\"y\",\"type\":\"bar\"},{\"hovertemplate\":\"Organisation=Boeing\\u003cbr\\u003eYear=%{x}\\u003cbr\\u003eLaunch Count=%{y}\\u003cextra\\u003e\\u003c\\u002fextra\\u003e\",\"legendgroup\":\"Boeing\",\"marker\":{\"color\":\"#FF6692\",\"pattern\":{\"shape\":\"\"}},\"name\":\"Boeing\",\"orientation\":\"v\",\"showlegend\":true,\"textposition\":\"auto\",\"x\":{\"dtype\":\"i4\",\"bdata\":\"zgcAAM8HAADTBwAA1AcAANYHAAA=\"},\"xaxis\":\"x\",\"y\":{\"dtype\":\"i1\",\"bdata\":\"DQsJCAg=\"},\"yaxis\":\"y\",\"type\":\"bar\"},{\"hovertemplate\":\"Organisation=ULA\\u003cbr\\u003eYear=%{x}\\u003cbr\\u003eLaunch Count=%{y}\\u003cextra\\u003e\\u003c\\u002fextra\\u003e\",\"legendgroup\":\"ULA\",\"marker\":{\"color\":\"#B6E880\",\"pattern\":{\"shape\":\"\"}},\"name\":\"ULA\",\"orientation\":\"v\",\"showlegend\":true,\"textposition\":\"auto\",\"x\":{\"dtype\":\"i4\",\"bdata\":\"1wcAANkHAADaBwAA2wcAANwHAADdBwAA3gcAAA==\"},\"xaxis\":\"x\",\"y\":{\"dtype\":\"i1\",\"bdata\":\"DRAICwoLDg==\"},\"yaxis\":\"y\",\"type\":\"bar\"},{\"hovertemplate\":\"Organisation=CASC\\u003cbr\\u003eYear=%{x}\\u003cbr\\u003eLaunch Count=%{y}\\u003cextra\\u003e\\u003c\\u002fextra\\u003e\",\"legendgroup\":\"CASC\",\"marker\":{\"color\":\"#FF97FF\",\"pattern\":{\"shape\":\"\"}},\"name\":\"CASC\",\"orientation\":\"v\",\"showlegend\":true,\"textposition\":\"auto\",\"x\":{\"dtype\":\"i4\",\"bdata\":\"2AcAAOAHAADiBwAA4wcAAOQHAAA=\"},\"xaxis\":\"x\",\"y\":{\"dtype\":\"i1\",\"bdata\":\"CRYlGxM=\"},\"yaxis\":\"y\",\"type\":\"bar\"},{\"hovertemplate\":\"Organisation=SpaceX\\u003cbr\\u003eYear=%{x}\\u003cbr\\u003eLaunch Count=%{y}\\u003cextra\\u003e\\u003c\\u002fextra\\u003e\",\"legendgroup\":\"SpaceX\",\"marker\":{\"color\":\"#FECB52\",\"pattern\":{\"shape\":\"\"}},\"name\":\"SpaceX\",\"orientation\":\"v\",\"showlegend\":true,\"textposition\":\"auto\",\"x\":{\"dtype\":\"i4\",\"bdata\":\"4QcAAA==\"},\"xaxis\":\"x\",\"y\":{\"dtype\":\"i1\",\"bdata\":\"Eg==\"},\"yaxis\":\"y\",\"type\":\"bar\"}],                        {\"template\":{\"data\":{\"histogram2dcontour\":[{\"type\":\"histogram2dcontour\",\"colorbar\":{\"outlinewidth\":0,\"ticks\":\"\"},\"colorscale\":[[0.0,\"#0d0887\"],[0.1111111111111111,\"#46039f\"],[0.2222222222222222,\"#7201a8\"],[0.3333333333333333,\"#9c179e\"],[0.4444444444444444,\"#bd3786\"],[0.5555555555555556,\"#d8576b\"],[0.6666666666666666,\"#ed7953\"],[0.7777777777777778,\"#fb9f3a\"],[0.8888888888888888,\"#fdca26\"],[1.0,\"#f0f921\"]]}],\"choropleth\":[{\"type\":\"choropleth\",\"colorbar\":{\"outlinewidth\":0,\"ticks\":\"\"}}],\"histogram2d\":[{\"type\":\"histogram2d\",\"colorbar\":{\"outlinewidth\":0,\"ticks\":\"\"},\"colorscale\":[[0.0,\"#0d0887\"],[0.1111111111111111,\"#46039f\"],[0.2222222222222222,\"#7201a8\"],[0.3333333333333333,\"#9c179e\"],[0.4444444444444444,\"#bd3786\"],[0.5555555555555556,\"#d8576b\"],[0.6666666666666666,\"#ed7953\"],[0.7777777777777778,\"#fb9f3a\"],[0.8888888888888888,\"#fdca26\"],[1.0,\"#f0f921\"]]}],\"heatmap\":[{\"type\":\"heatmap\",\"colorbar\":{\"outlinewidth\":0,\"ticks\":\"\"},\"colorscale\":[[0.0,\"#0d0887\"],[0.1111111111111111,\"#46039f\"],[0.2222222222222222,\"#7201a8\"],[0.3333333333333333,\"#9c179e\"],[0.4444444444444444,\"#bd3786\"],[0.5555555555555556,\"#d8576b\"],[0.6666666666666666,\"#ed7953\"],[0.7777777777777778,\"#fb9f3a\"],[0.8888888888888888,\"#fdca26\"],[1.0,\"#f0f921\"]]}],\"contourcarpet\":[{\"type\":\"contourcarpet\",\"colorbar\":{\"outlinewidth\":0,\"ticks\":\"\"}}],\"contour\":[{\"type\":\"contour\",\"colorbar\":{\"outlinewidth\":0,\"ticks\":\"\"},\"colorscale\":[[0.0,\"#0d0887\"],[0.1111111111111111,\"#46039f\"],[0.2222222222222222,\"#7201a8\"],[0.3333333333333333,\"#9c179e\"],[0.4444444444444444,\"#bd3786\"],[0.5555555555555556,\"#d8576b\"],[0.6666666666666666,\"#ed7953\"],[0.7777777777777778,\"#fb9f3a\"],[0.8888888888888888,\"#fdca26\"],[1.0,\"#f0f921\"]]}],\"surface\":[{\"type\":\"surface\",\"colorbar\":{\"outlinewidth\":0,\"ticks\":\"\"},\"colorscale\":[[0.0,\"#0d0887\"],[0.1111111111111111,\"#46039f\"],[0.2222222222222222,\"#7201a8\"],[0.3333333333333333,\"#9c179e\"],[0.4444444444444444,\"#bd3786\"],[0.5555555555555556,\"#d8576b\"],[0.6666666666666666,\"#ed7953\"],[0.7777777777777778,\"#fb9f3a\"],[0.8888888888888888,\"#fdca26\"],[1.0,\"#f0f921\"]]}],\"mesh3d\":[{\"type\":\"mesh3d\",\"colorbar\":{\"outlinewidth\":0,\"ticks\":\"\"}}],\"scatter\":[{\"fillpattern\":{\"fillmode\":\"overlay\",\"size\":10,\"solidity\":0.2},\"type\":\"scatter\"}],\"parcoords\":[{\"type\":\"parcoords\",\"line\":{\"colorbar\":{\"outlinewidth\":0,\"ticks\":\"\"}}}],\"scatterpolargl\":[{\"type\":\"scatterpolargl\",\"marker\":{\"colorbar\":{\"outlinewidth\":0,\"ticks\":\"\"}}}],\"bar\":[{\"error_x\":{\"color\":\"#2a3f5f\"},\"error_y\":{\"color\":\"#2a3f5f\"},\"marker\":{\"line\":{\"color\":\"#E5ECF6\",\"width\":0.5},\"pattern\":{\"fillmode\":\"overlay\",\"size\":10,\"solidity\":0.2}},\"type\":\"bar\"}],\"scattergeo\":[{\"type\":\"scattergeo\",\"marker\":{\"colorbar\":{\"outlinewidth\":0,\"ticks\":\"\"}}}],\"scatterpolar\":[{\"type\":\"scatterpolar\",\"marker\":{\"colorbar\":{\"outlinewidth\":0,\"ticks\":\"\"}}}],\"histogram\":[{\"marker\":{\"pattern\":{\"fillmode\":\"overlay\",\"size\":10,\"solidity\":0.2}},\"type\":\"histogram\"}],\"scattergl\":[{\"type\":\"scattergl\",\"marker\":{\"colorbar\":{\"outlinewidth\":0,\"ticks\":\"\"}}}],\"scatter3d\":[{\"type\":\"scatter3d\",\"line\":{\"colorbar\":{\"outlinewidth\":0,\"ticks\":\"\"}},\"marker\":{\"colorbar\":{\"outlinewidth\":0,\"ticks\":\"\"}}}],\"scattermap\":[{\"type\":\"scattermap\",\"marker\":{\"colorbar\":{\"outlinewidth\":0,\"ticks\":\"\"}}}],\"scattermapbox\":[{\"type\":\"scattermapbox\",\"marker\":{\"colorbar\":{\"outlinewidth\":0,\"ticks\":\"\"}}}],\"scatterternary\":[{\"type\":\"scatterternary\",\"marker\":{\"colorbar\":{\"outlinewidth\":0,\"ticks\":\"\"}}}],\"scattercarpet\":[{\"type\":\"scattercarpet\",\"marker\":{\"colorbar\":{\"outlinewidth\":0,\"ticks\":\"\"}}}],\"carpet\":[{\"aaxis\":{\"endlinecolor\":\"#2a3f5f\",\"gridcolor\":\"white\",\"linecolor\":\"white\",\"minorgridcolor\":\"white\",\"startlinecolor\":\"#2a3f5f\"},\"baxis\":{\"endlinecolor\":\"#2a3f5f\",\"gridcolor\":\"white\",\"linecolor\":\"white\",\"minorgridcolor\":\"white\",\"startlinecolor\":\"#2a3f5f\"},\"type\":\"carpet\"}],\"table\":[{\"cells\":{\"fill\":{\"color\":\"#EBF0F8\"},\"line\":{\"color\":\"white\"}},\"header\":{\"fill\":{\"color\":\"#C8D4E3\"},\"line\":{\"color\":\"white\"}},\"type\":\"table\"}],\"barpolar\":[{\"marker\":{\"line\":{\"color\":\"#E5ECF6\",\"width\":0.5},\"pattern\":{\"fillmode\":\"overlay\",\"size\":10,\"solidity\":0.2}},\"type\":\"barpolar\"}],\"pie\":[{\"automargin\":true,\"type\":\"pie\"}]},\"layout\":{\"autotypenumbers\":\"strict\",\"colorway\":[\"#636efa\",\"#EF553B\",\"#00cc96\",\"#ab63fa\",\"#FFA15A\",\"#19d3f3\",\"#FF6692\",\"#B6E880\",\"#FF97FF\",\"#FECB52\"],\"font\":{\"color\":\"#2a3f5f\"},\"hovermode\":\"closest\",\"hoverlabel\":{\"align\":\"left\"},\"paper_bgcolor\":\"white\",\"plot_bgcolor\":\"#E5ECF6\",\"polar\":{\"bgcolor\":\"#E5ECF6\",\"angularaxis\":{\"gridcolor\":\"white\",\"linecolor\":\"white\",\"ticks\":\"\"},\"radialaxis\":{\"gridcolor\":\"white\",\"linecolor\":\"white\",\"ticks\":\"\"}},\"ternary\":{\"bgcolor\":\"#E5ECF6\",\"aaxis\":{\"gridcolor\":\"white\",\"linecolor\":\"white\",\"ticks\":\"\"},\"baxis\":{\"gridcolor\":\"white\",\"linecolor\":\"white\",\"ticks\":\"\"},\"caxis\":{\"gridcolor\":\"white\",\"linecolor\":\"white\",\"ticks\":\"\"}},\"coloraxis\":{\"colorbar\":{\"outlinewidth\":0,\"ticks\":\"\"}},\"colorscale\":{\"sequential\":[[0.0,\"#0d0887\"],[0.1111111111111111,\"#46039f\"],[0.2222222222222222,\"#7201a8\"],[0.3333333333333333,\"#9c179e\"],[0.4444444444444444,\"#bd3786\"],[0.5555555555555556,\"#d8576b\"],[0.6666666666666666,\"#ed7953\"],[0.7777777777777778,\"#fb9f3a\"],[0.8888888888888888,\"#fdca26\"],[1.0,\"#f0f921\"]],\"sequentialminus\":[[0.0,\"#0d0887\"],[0.1111111111111111,\"#46039f\"],[0.2222222222222222,\"#7201a8\"],[0.3333333333333333,\"#9c179e\"],[0.4444444444444444,\"#bd3786\"],[0.5555555555555556,\"#d8576b\"],[0.6666666666666666,\"#ed7953\"],[0.7777777777777778,\"#fb9f3a\"],[0.8888888888888888,\"#fdca26\"],[1.0,\"#f0f921\"]],\"diverging\":[[0,\"#8e0152\"],[0.1,\"#c51b7d\"],[0.2,\"#de77ae\"],[0.3,\"#f1b6da\"],[0.4,\"#fde0ef\"],[0.5,\"#f7f7f7\"],[0.6,\"#e6f5d0\"],[0.7,\"#b8e186\"],[0.8,\"#7fbc41\"],[0.9,\"#4d9221\"],[1,\"#276419\"]]},\"xaxis\":{\"gridcolor\":\"white\",\"linecolor\":\"white\",\"ticks\":\"\",\"title\":{\"standoff\":15},\"zerolinecolor\":\"white\",\"automargin\":true,\"zerolinewidth\":2},\"yaxis\":{\"gridcolor\":\"white\",\"linecolor\":\"white\",\"ticks\":\"\",\"title\":{\"standoff\":15},\"zerolinecolor\":\"white\",\"automargin\":true,\"zerolinewidth\":2},\"scene\":{\"xaxis\":{\"backgroundcolor\":\"#E5ECF6\",\"gridcolor\":\"white\",\"linecolor\":\"white\",\"showbackground\":true,\"ticks\":\"\",\"zerolinecolor\":\"white\",\"gridwidth\":2},\"yaxis\":{\"backgroundcolor\":\"#E5ECF6\",\"gridcolor\":\"white\",\"linecolor\":\"white\",\"showbackground\":true,\"ticks\":\"\",\"zerolinecolor\":\"white\",\"gridwidth\":2},\"zaxis\":{\"backgroundcolor\":\"#E5ECF6\",\"gridcolor\":\"white\",\"linecolor\":\"white\",\"showbackground\":true,\"ticks\":\"\",\"zerolinecolor\":\"white\",\"gridwidth\":2}},\"shapedefaults\":{\"line\":{\"color\":\"#2a3f5f\"}},\"annotationdefaults\":{\"arrowcolor\":\"#2a3f5f\",\"arrowhead\":0,\"arrowwidth\":1},\"geo\":{\"bgcolor\":\"white\",\"landcolor\":\"#E5ECF6\",\"subunitcolor\":\"white\",\"showland\":true,\"showlakes\":true,\"lakecolor\":\"white\"},\"title\":{\"x\":0.05},\"mapbox\":{\"style\":\"light\"}}},\"xaxis\":{\"anchor\":\"y\",\"domain\":[0.0,1.0],\"title\":{\"text\":\"Year\"}},\"yaxis\":{\"anchor\":\"x\",\"domain\":[0.0,1.0],\"title\":{\"text\":\"Launch Count\"}},\"legend\":{\"title\":{\"text\":\"Organisation\"},\"tracegroupgap\":0},\"title\":{\"text\":\"Organisation with the Most Launches Year-on-Year\"},\"barmode\":\"relative\"},                        {\"responsive\": true}                    ).then(function(){\n",
              "                            \n",
              "var gd = document.getElementById('76672b69-f28c-49df-a9e1-541dd655937d');\n",
              "var x = new MutationObserver(function (mutations, observer) {{\n",
              "        var display = window.getComputedStyle(gd).display;\n",
              "        if (!display || display === 'none') {{\n",
              "            console.log([gd, 'removed!']);\n",
              "            Plotly.purge(gd);\n",
              "            observer.disconnect();\n",
              "        }}\n",
              "}});\n",
              "\n",
              "// Listen for the removal of the full notebook cells\n",
              "var notebookContainer = gd.closest('#notebook-container');\n",
              "if (notebookContainer) {{\n",
              "    x.observe(notebookContainer, {childList: true});\n",
              "}}\n",
              "\n",
              "// Listen for the clearing of the current output cell\n",
              "var outputEl = gd.closest('.output');\n",
              "if (outputEl) {{\n",
              "    x.observe(outputEl, {childList: true});\n",
              "}}\n",
              "\n",
              "                        })                };            </script>        </div>\n",
              "</body>\n",
              "</html>"
            ]
          },
          "metadata": {}
        }
      ]
    }
  ]
}