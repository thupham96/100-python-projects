{
  "nbformat": 4,
  "nbformat_minor": 0,
  "metadata": {
    "kernelspec": {
      "display_name": "Python 3",
      "language": "python",
      "name": "python3"
    },
    "language_info": {
      "codemirror_mode": {
        "name": "ipython",
        "version": 3
      },
      "file_extension": ".py",
      "mimetype": "text/x-python",
      "name": "python",
      "nbconvert_exporter": "python",
      "pygments_lexer": "ipython3",
      "version": "3.7.9"
    },
    "colab": {
      "provenance": []
    }
  },
  "cells": [
    {
      "cell_type": "markdown",
      "metadata": {
        "id": "0KrR-Qd_wXf-"
      },
      "source": [
        "# Introduction"
      ]
    },
    {
      "cell_type": "markdown",
      "metadata": {
        "id": "I6e2m4XsuRoL"
      },
      "source": [
        "Since Jan. 1, 2015, [The Washington Post](https://www.washingtonpost.com/) has been compiling a database of every fatal shooting in the US by a police officer in the line of duty.\n",
        "\n",
        "<center><img src=https://i.imgur.com/sX3K62b.png></center>\n",
        "\n",
        "While there are many challenges regarding data collection and reporting, The Washington Post has been tracking more than a dozen details about each killing. This includes the race, age and gender of the deceased, whether the person was armed, and whether the victim was experiencing a mental-health crisis. The Washington Post has gathered this supplemental information from law enforcement websites, local new reports, social media, and by monitoring independent databases such as \"Killed by police\" and \"Fatal Encounters\". The Post has also conducted additional reporting in many cases.\n",
        "\n",
        "There are 4 additional datasets: US census data on poverty rate, high school graduation rate, median household income, and racial demographics. [Source of census data](https://factfinder.census.gov/faces/nav/jsf/pages/community_facts.xhtml)."
      ]
    },
    {
      "cell_type": "markdown",
      "metadata": {
        "id": "JwGJl3mnw2Af"
      },
      "source": [
        "### Upgrade Plotly\n",
        "\n",
        "Run the cell below if you are working with Google Colab"
      ]
    },
    {
      "cell_type": "code",
      "metadata": {
        "id": "KvA9PBoRwvQG",
        "outputId": "10c9b38e-c965-4c18-ad3c-baf80394c8a8",
        "colab": {
          "base_uri": "https://localhost:8080/"
        }
      },
      "source": [
        "%pip install --upgrade plotly"
      ],
      "execution_count": 1,
      "outputs": [
        {
          "output_type": "stream",
          "name": "stdout",
          "text": [
            "Requirement already satisfied: plotly in /usr/local/lib/python3.12/dist-packages (5.24.1)\n",
            "Collecting plotly\n",
            "  Downloading plotly-6.3.0-py3-none-any.whl.metadata (8.5 kB)\n",
            "Requirement already satisfied: narwhals>=1.15.1 in /usr/local/lib/python3.12/dist-packages (from plotly) (2.1.2)\n",
            "Requirement already satisfied: packaging in /usr/local/lib/python3.12/dist-packages (from plotly) (25.0)\n",
            "Downloading plotly-6.3.0-py3-none-any.whl (9.8 MB)\n",
            "\u001b[2K   \u001b[90m━━━━━━━━━━━━━━━━━━━━━━━━━━━━━━━━━━━━━━━━\u001b[0m \u001b[32m9.8/9.8 MB\u001b[0m \u001b[31m68.6 MB/s\u001b[0m eta \u001b[36m0:00:00\u001b[0m\n",
            "\u001b[?25hInstalling collected packages: plotly\n",
            "  Attempting uninstall: plotly\n",
            "    Found existing installation: plotly 5.24.1\n",
            "    Uninstalling plotly-5.24.1:\n",
            "      Successfully uninstalled plotly-5.24.1\n",
            "Successfully installed plotly-6.3.0\n"
          ]
        }
      ]
    },
    {
      "cell_type": "markdown",
      "metadata": {
        "id": "jqXsMLNJxELp"
      },
      "source": [
        "## Import Statements"
      ]
    },
    {
      "cell_type": "code",
      "metadata": {
        "id": "TPhEXC2FxGSr"
      },
      "source": [
        "import numpy as np\n",
        "import pandas as pd\n",
        "import plotly.express as px\n",
        "import matplotlib.pyplot as plt\n",
        "import seaborn as sns\n",
        "\n",
        "# This might be helpful:\n",
        "from collections import Counter"
      ],
      "execution_count": 2,
      "outputs": []
    },
    {
      "cell_type": "markdown",
      "metadata": {
        "id": "SwKGmmaLxS2s"
      },
      "source": [
        "## Notebook Presentation"
      ]
    },
    {
      "cell_type": "code",
      "metadata": {
        "id": "ayQQqhKtxBxj"
      },
      "source": [
        "pd.options.display.float_format = '{:,.2f}'.format"
      ],
      "execution_count": 3,
      "outputs": []
    },
    {
      "cell_type": "markdown",
      "metadata": {
        "id": "nKxJMOiMyAUF"
      },
      "source": [
        "## Load the Data"
      ]
    },
    {
      "cell_type": "code",
      "metadata": {
        "_cell_guid": "abb0685f-f844-43f8-84c0-4cd54361c7bf",
        "_uuid": "9c06ed7c41db79ae9d940f2d52aeff23621b3037",
        "id": "8KmGeg6ouRoP"
      },
      "source": [
        "df_hh_income = pd.read_csv('Median_Household_Income_2015.csv', encoding=\"windows-1252\")\n",
        "df_pct_poverty = pd.read_csv('Pct_People_Below_Poverty_Level.csv', encoding=\"windows-1252\")\n",
        "df_pct_completed_hs = pd.read_csv('Pct_Over_25_Completed_High_School.csv', encoding=\"windows-1252\")\n",
        "df_share_race_city = pd.read_csv('Share_of_Race_By_City.csv', encoding=\"windows-1252\")\n",
        "df_fatalities = pd.read_csv('Deaths_by_Police_US.csv', encoding=\"windows-1252\")"
      ],
      "execution_count": 4,
      "outputs": []
    },
    {
      "cell_type": "markdown",
      "metadata": {
        "id": "6RuA5SvUyEaB"
      },
      "source": [
        "# Preliminary Data Exploration\n",
        "\n",
        "* What is the shape of the DataFrames?\n",
        "* How many rows and columns do they have?\n",
        "* What are the column names?\n",
        "* Are there any NaN values or duplicates?"
      ]
    },
    {
      "cell_type": "code",
      "metadata": {
        "id": "3U9RcS1WyrRJ",
        "colab": {
          "base_uri": "https://localhost:8080/"
        },
        "outputId": "78338128-a107-454e-eddc-f4e5e4e05633"
      },
      "source": [
        "print(\"Shape of df_hh_income:\", df_hh_income.shape)\n",
        "print(\"Shape of df_pct_poverty:\", df_pct_poverty.shape)\n",
        "print(\"Shape of df_pct_completed_hs:\", df_pct_completed_hs.shape)\n",
        "print(\"Shape of df_share_race_city:\", df_share_race_city.shape)\n",
        "print(\"Shape of df_fatalities:\", df_fatalities.shape)"
      ],
      "execution_count": 5,
      "outputs": [
        {
          "output_type": "stream",
          "name": "stdout",
          "text": [
            "Shape of df_hh_income: (29322, 3)\n",
            "Shape of df_pct_poverty: (29329, 3)\n",
            "Shape of df_pct_completed_hs: (29329, 3)\n",
            "Shape of df_share_race_city: (29268, 7)\n",
            "Shape of df_fatalities: (2535, 14)\n"
          ]
        }
      ]
    },
    {
      "cell_type": "code",
      "metadata": {
        "id": "DmIARadGyrgs",
        "colab": {
          "base_uri": "https://localhost:8080/"
        },
        "outputId": "5855015a-74fd-48ca-868a-488a5b881cc1"
      },
      "source": [
        "print(\"Column names of df_hh_income:\", df_hh_income.columns)\n",
        "print(\"Column names of df_pct_poverty:\", df_pct_poverty.columns)\n",
        "print(\"Column names of df_pct_completed_hs:\", df_pct_completed_hs.columns)\n",
        "print(\"Column names of df_share_race_city:\", df_share_race_city.columns)\n",
        "print(\"Column names of df_fatalities:\", df_fatalities.columns)"
      ],
      "execution_count": 6,
      "outputs": [
        {
          "output_type": "stream",
          "name": "stdout",
          "text": [
            "Column names of df_hh_income: Index(['Geographic Area', 'City', 'Median Income'], dtype='object')\n",
            "Column names of df_pct_poverty: Index(['Geographic Area', 'City', 'poverty_rate'], dtype='object')\n",
            "Column names of df_pct_completed_hs: Index(['Geographic Area', 'City', 'percent_completed_hs'], dtype='object')\n",
            "Column names of df_share_race_city: Index(['Geographic area', 'City', 'share_white', 'share_black',\n",
            "       'share_native_american', 'share_asian', 'share_hispanic'],\n",
            "      dtype='object')\n",
            "Column names of df_fatalities: Index(['id', 'name', 'date', 'manner_of_death', 'armed', 'age', 'gender',\n",
            "       'race', 'city', 'state', 'signs_of_mental_illness', 'threat_level',\n",
            "       'flee', 'body_camera'],\n",
            "      dtype='object')\n"
          ]
        }
      ]
    },
    {
      "cell_type": "code",
      "metadata": {
        "id": "OSgTJoX7yrcS",
        "colab": {
          "base_uri": "https://localhost:8080/"
        },
        "outputId": "e292f62b-62c6-486e-aca9-195148f51dc0"
      },
      "source": [
        "print(\"Missing values in df_hh_income:\\n\", df_hh_income.isnull().sum())\n",
        "print(\"\\nMissing values in df_pct_poverty:\\n\", df_pct_poverty.isnull().sum())\n",
        "print(\"\\nMissing values in df_pct_completed_hs:\\n\", df_pct_completed_hs.isnull().sum())\n",
        "print(\"\\nMissing values in df_share_race_city:\\n\", df_share_race_city.isnull().sum())\n",
        "print(\"\\nMissing values in df_fatalities:\\n\", df_fatalities.isnull().sum())"
      ],
      "execution_count": 7,
      "outputs": [
        {
          "output_type": "stream",
          "name": "stdout",
          "text": [
            "Missing values in df_hh_income:\n",
            " Geographic Area     0\n",
            "City                0\n",
            "Median Income      51\n",
            "dtype: int64\n",
            "\n",
            "Missing values in df_pct_poverty:\n",
            " Geographic Area    0\n",
            "City               0\n",
            "poverty_rate       0\n",
            "dtype: int64\n",
            "\n",
            "Missing values in df_pct_completed_hs:\n",
            " Geographic Area         0\n",
            "City                    0\n",
            "percent_completed_hs    0\n",
            "dtype: int64\n",
            "\n",
            "Missing values in df_share_race_city:\n",
            " Geographic area          0\n",
            "City                     0\n",
            "share_white              0\n",
            "share_black              0\n",
            "share_native_american    0\n",
            "share_asian              0\n",
            "share_hispanic           0\n",
            "dtype: int64\n",
            "\n",
            "Missing values in df_fatalities:\n",
            " id                           0\n",
            "name                         0\n",
            "date                         0\n",
            "manner_of_death              0\n",
            "armed                        9\n",
            "age                         77\n",
            "gender                       0\n",
            "race                       195\n",
            "city                         0\n",
            "state                        0\n",
            "signs_of_mental_illness      0\n",
            "threat_level                 0\n",
            "flee                        65\n",
            "body_camera                  0\n",
            "dtype: int64\n"
          ]
        }
      ]
    },
    {
      "cell_type": "code",
      "source": [
        "print(\"\\nDuplicates in df_hh_income:\", df_hh_income.duplicated().sum())\n",
        "print(\"Duplicates in df_pct_poverty:\", df_pct_poverty.duplicated().sum())\n",
        "print(\"Duplicates in df_pct_completed_hs:\", df_pct_completed_hs.duplicated().sum())\n",
        "print(\"Duplicates in df_share_race_city:\", df_share_race_city.duplicated().sum())\n",
        "print(\"Duplicates in df_fatalities:\", df_fatalities.duplicated().sum())"
      ],
      "metadata": {
        "colab": {
          "base_uri": "https://localhost:8080/"
        },
        "id": "xySlwnDMIgA5",
        "outputId": "0ffafa4f-e186-4039-a50a-46ba7d025fef"
      },
      "execution_count": 8,
      "outputs": [
        {
          "output_type": "stream",
          "name": "stdout",
          "text": [
            "\n",
            "Duplicates in df_hh_income: 0\n",
            "Duplicates in df_pct_poverty: 0\n",
            "Duplicates in df_pct_completed_hs: 0\n",
            "Duplicates in df_share_race_city: 0\n",
            "Duplicates in df_fatalities: 0\n"
          ]
        }
      ]
    },
    {
      "cell_type": "markdown",
      "metadata": {
        "id": "p72TfMvayr2C"
      },
      "source": [
        "## Data Cleaning - Check for Missing Values and Duplicates\n",
        "\n",
        "Consider how to deal with the NaN values. Perhaps substituting 0 is appropriate."
      ]
    },
    {
      "cell_type": "code",
      "metadata": {
        "id": "WEZuPaXvyxxp",
        "colab": {
          "base_uri": "https://localhost:8080/"
        },
        "outputId": "983177f6-a355-4c90-cba2-f3ed49779dac"
      },
      "source": [
        "df_hh_income.fillna(0, inplace=True)\n",
        "df_fatalities.fillna(0, inplace=True)\n",
        "df_pct_poverty.fillna(0, inplace=True)\n",
        "df_pct_completed_hs.fillna(0, inplace=True)\n",
        "\n",
        "print(\"Missing values in df_hh_income after filling:\\n\", df_hh_income.isnull().sum())\n",
        "print(\"\\nMissing values in df_fatalities after filling:\\n\", df_fatalities.isnull().sum())\n",
        "print(\"\\nMissing values in df_pct_poverty after filling:\\n\", df_pct_poverty.isnull().sum())\n",
        "print(\"\\nMissing values in df_pct_completed_hs after filling:\\n\", df_pct_completed_hs.isnull().sum())"
      ],
      "execution_count": 9,
      "outputs": [
        {
          "output_type": "stream",
          "name": "stdout",
          "text": [
            "Missing values in df_hh_income after filling:\n",
            " Geographic Area    0\n",
            "City               0\n",
            "Median Income      0\n",
            "dtype: int64\n",
            "\n",
            "Missing values in df_fatalities after filling:\n",
            " id                         0\n",
            "name                       0\n",
            "date                       0\n",
            "manner_of_death            0\n",
            "armed                      0\n",
            "age                        0\n",
            "gender                     0\n",
            "race                       0\n",
            "city                       0\n",
            "state                      0\n",
            "signs_of_mental_illness    0\n",
            "threat_level               0\n",
            "flee                       0\n",
            "body_camera                0\n",
            "dtype: int64\n",
            "\n",
            "Missing values in df_pct_poverty after filling:\n",
            " Geographic Area    0\n",
            "City               0\n",
            "poverty_rate       0\n",
            "dtype: int64\n",
            "\n",
            "Missing values in df_pct_completed_hs after filling:\n",
            " Geographic Area         0\n",
            "City                    0\n",
            "percent_completed_hs    0\n",
            "dtype: int64\n"
          ]
        }
      ]
    },
    {
      "cell_type": "markdown",
      "metadata": {
        "_uuid": "52b308c936f5835c5cd186497fe3f96e96372483",
        "id": "n3DrcXVQuRoZ"
      },
      "source": [
        "# Chart the Poverty Rate in each US State\n",
        "\n",
        "Create a bar chart that ranks the poverty rate from highest to lowest by US state. Which state has the highest poverty rate? Which state has the lowest poverty rate?  Bar Plot"
      ]
    },
    {
      "cell_type": "code",
      "metadata": {
        "id": "mGxEzMDqzqmn",
        "colab": {
          "base_uri": "https://localhost:8080/",
          "height": 542
        },
        "outputId": "42412fba-77dd-43b3-f09f-9c0ce9642f40"
      },
      "source": [
        "df_pct_poverty['poverty_rate'] = pd.to_numeric(df_pct_poverty['poverty_rate'], errors='coerce')\n",
        "pct_poverty_by_state = df_pct_poverty.groupby('Geographic Area')['poverty_rate'].mean().reset_index()\n",
        "pct_poverty_by_state.columns = ['State', 'Poverty Rate']\n",
        "\n",
        "fig1 = px.bar(pct_poverty_by_state.sort_values(by='Poverty Rate', ascending=False),\n",
        "             x = 'State',\n",
        "             y = 'Poverty Rate',\n",
        "             title = 'Poverty Rate in each US State')\n",
        "\n",
        "fig1.show()"
      ],
      "execution_count": 10,
      "outputs": [
        {
          "output_type": "display_data",
          "data": {
            "text/html": [
              "<html>\n",
              "<head><meta charset=\"utf-8\" /></head>\n",
              "<body>\n",
              "    <div>            <script src=\"https://cdnjs.cloudflare.com/ajax/libs/mathjax/2.7.5/MathJax.js?config=TeX-AMS-MML_SVG\"></script><script type=\"text/javascript\">if (window.MathJax && window.MathJax.Hub && window.MathJax.Hub.Config) {window.MathJax.Hub.Config({SVG: {font: \"STIX-Web\"}});}</script>                <script type=\"text/javascript\">window.PlotlyConfig = {MathJaxConfig: 'local'};</script>\n",
              "        <script charset=\"utf-8\" src=\"https://cdn.plot.ly/plotly-3.1.0.min.js\" integrity=\"sha256-Ei4740bWZhaUTQuD6q9yQlgVCMPBz6CZWhevDYPv93A=\" crossorigin=\"anonymous\"></script>                <div id=\"20895a05-2c63-4568-89fe-00b8e3d3f5da\" class=\"plotly-graph-div\" style=\"height:525px; width:100%;\"></div>            <script type=\"text/javascript\">                window.PLOTLYENV=window.PLOTLYENV || {};                                if (document.getElementById(\"20895a05-2c63-4568-89fe-00b8e3d3f5da\")) {                    Plotly.newPlot(                        \"20895a05-2c63-4568-89fe-00b8e3d3f5da\",                        [{\"hovertemplate\":\"State=%{x}\\u003cbr\\u003ePoverty Rate=%{y}\\u003cextra\\u003e\\u003c\\u002fextra\\u003e\",\"legendgroup\":\"\",\"marker\":{\"color\":\"#636efa\",\"pattern\":{\"shape\":\"\"}},\"name\":\"\",\"orientation\":\"v\",\"showlegend\":false,\"textposition\":\"auto\",\"x\":[\"MS\",\"AZ\",\"GA\",\"NM\",\"AR\",\"LA\",\"SC\",\"WV\",\"OK\",\"AL\",\"MO\",\"KY\",\"TX\",\"TN\",\"AK\",\"NC\",\"ID\",\"DC\",\"MI\",\"FL\",\"CA\",\"ME\",\"OR\",\"MT\",\"SD\",\"IN\",\"WA\",\"OH\",\"KS\",\"VA\",\"IL\",\"VT\",\"MN\",\"HI\",\"CO\",\"NE\",\"WI\",\"NH\",\"DE\",\"PA\",\"NV\",\"IA\",\"ND\",\"UT\",\"NY\",\"RI\",\"MD\",\"WY\",\"MA\",\"CT\",\"NJ\"],\"xaxis\":\"x\",\"y\":{\"dtype\":\"f8\",\"bdata\":\"VlDEel7iOkCqsAPom6o5QPADP\\u002fADxzdAywOSda4UN0AGMVpXlfY2QPSxJDHCVjZA4lDwTlkpNkBWPX9taCI1QKr6Avs3qDRAWhudoKelNECamZmZGRs0QBWuR+F6FDRAF\\u002fGipQbrM0ACMhomIOMzQPceydBd2jNAqjtKZU6\\u002fM0BFkA7ApDwyQAAAAAAAADJAKHiqwJXmMUC9EZ0X5pAxQBLw4hPpHzFAs2z+GdPkMEAl4VXpAYYwQGElIbOGgzBAREREREQIMEAgU4a57P8uQLiqkA0ECS5A7MVfE8WzLUCPt836pYYtQHNx5ofyKy1AWz+PjXLCK0BjJLIXaJIrQBLddyrRfStAjjRHmiPNKkBSnOsYxbkqQNmL+EMa+ClAexs726W3KUCBL65+0FEpQPgL7pqXHClAJPLJ3\\u002foHKUBRRYi3q+4oQByaE4DFlShAT42XbhJTKEBp4QwIJfcnQBzdYGsiVidA0yd90ie9JECf\\u002fc3l2Z8kQMfdOq+AxiNARiJ8Pq0rI0BmZmZmZkYiQNTcLp3HYSBA\"},\"yaxis\":\"y\",\"type\":\"bar\"}],                        {\"template\":{\"data\":{\"histogram2dcontour\":[{\"type\":\"histogram2dcontour\",\"colorbar\":{\"outlinewidth\":0,\"ticks\":\"\"},\"colorscale\":[[0.0,\"#0d0887\"],[0.1111111111111111,\"#46039f\"],[0.2222222222222222,\"#7201a8\"],[0.3333333333333333,\"#9c179e\"],[0.4444444444444444,\"#bd3786\"],[0.5555555555555556,\"#d8576b\"],[0.6666666666666666,\"#ed7953\"],[0.7777777777777778,\"#fb9f3a\"],[0.8888888888888888,\"#fdca26\"],[1.0,\"#f0f921\"]]}],\"choropleth\":[{\"type\":\"choropleth\",\"colorbar\":{\"outlinewidth\":0,\"ticks\":\"\"}}],\"histogram2d\":[{\"type\":\"histogram2d\",\"colorbar\":{\"outlinewidth\":0,\"ticks\":\"\"},\"colorscale\":[[0.0,\"#0d0887\"],[0.1111111111111111,\"#46039f\"],[0.2222222222222222,\"#7201a8\"],[0.3333333333333333,\"#9c179e\"],[0.4444444444444444,\"#bd3786\"],[0.5555555555555556,\"#d8576b\"],[0.6666666666666666,\"#ed7953\"],[0.7777777777777778,\"#fb9f3a\"],[0.8888888888888888,\"#fdca26\"],[1.0,\"#f0f921\"]]}],\"heatmap\":[{\"type\":\"heatmap\",\"colorbar\":{\"outlinewidth\":0,\"ticks\":\"\"},\"colorscale\":[[0.0,\"#0d0887\"],[0.1111111111111111,\"#46039f\"],[0.2222222222222222,\"#7201a8\"],[0.3333333333333333,\"#9c179e\"],[0.4444444444444444,\"#bd3786\"],[0.5555555555555556,\"#d8576b\"],[0.6666666666666666,\"#ed7953\"],[0.7777777777777778,\"#fb9f3a\"],[0.8888888888888888,\"#fdca26\"],[1.0,\"#f0f921\"]]}],\"contourcarpet\":[{\"type\":\"contourcarpet\",\"colorbar\":{\"outlinewidth\":0,\"ticks\":\"\"}}],\"contour\":[{\"type\":\"contour\",\"colorbar\":{\"outlinewidth\":0,\"ticks\":\"\"},\"colorscale\":[[0.0,\"#0d0887\"],[0.1111111111111111,\"#46039f\"],[0.2222222222222222,\"#7201a8\"],[0.3333333333333333,\"#9c179e\"],[0.4444444444444444,\"#bd3786\"],[0.5555555555555556,\"#d8576b\"],[0.6666666666666666,\"#ed7953\"],[0.7777777777777778,\"#fb9f3a\"],[0.8888888888888888,\"#fdca26\"],[1.0,\"#f0f921\"]]}],\"surface\":[{\"type\":\"surface\",\"colorbar\":{\"outlinewidth\":0,\"ticks\":\"\"},\"colorscale\":[[0.0,\"#0d0887\"],[0.1111111111111111,\"#46039f\"],[0.2222222222222222,\"#7201a8\"],[0.3333333333333333,\"#9c179e\"],[0.4444444444444444,\"#bd3786\"],[0.5555555555555556,\"#d8576b\"],[0.6666666666666666,\"#ed7953\"],[0.7777777777777778,\"#fb9f3a\"],[0.8888888888888888,\"#fdca26\"],[1.0,\"#f0f921\"]]}],\"mesh3d\":[{\"type\":\"mesh3d\",\"colorbar\":{\"outlinewidth\":0,\"ticks\":\"\"}}],\"scatter\":[{\"fillpattern\":{\"fillmode\":\"overlay\",\"size\":10,\"solidity\":0.2},\"type\":\"scatter\"}],\"parcoords\":[{\"type\":\"parcoords\",\"line\":{\"colorbar\":{\"outlinewidth\":0,\"ticks\":\"\"}}}],\"scatterpolargl\":[{\"type\":\"scatterpolargl\",\"marker\":{\"colorbar\":{\"outlinewidth\":0,\"ticks\":\"\"}}}],\"bar\":[{\"error_x\":{\"color\":\"#2a3f5f\"},\"error_y\":{\"color\":\"#2a3f5f\"},\"marker\":{\"line\":{\"color\":\"#E5ECF6\",\"width\":0.5},\"pattern\":{\"fillmode\":\"overlay\",\"size\":10,\"solidity\":0.2}},\"type\":\"bar\"}],\"scattergeo\":[{\"type\":\"scattergeo\",\"marker\":{\"colorbar\":{\"outlinewidth\":0,\"ticks\":\"\"}}}],\"scatterpolar\":[{\"type\":\"scatterpolar\",\"marker\":{\"colorbar\":{\"outlinewidth\":0,\"ticks\":\"\"}}}],\"histogram\":[{\"marker\":{\"pattern\":{\"fillmode\":\"overlay\",\"size\":10,\"solidity\":0.2}},\"type\":\"histogram\"}],\"scattergl\":[{\"type\":\"scattergl\",\"marker\":{\"colorbar\":{\"outlinewidth\":0,\"ticks\":\"\"}}}],\"scatter3d\":[{\"type\":\"scatter3d\",\"line\":{\"colorbar\":{\"outlinewidth\":0,\"ticks\":\"\"}},\"marker\":{\"colorbar\":{\"outlinewidth\":0,\"ticks\":\"\"}}}],\"scattermap\":[{\"type\":\"scattermap\",\"marker\":{\"colorbar\":{\"outlinewidth\":0,\"ticks\":\"\"}}}],\"scattermapbox\":[{\"type\":\"scattermapbox\",\"marker\":{\"colorbar\":{\"outlinewidth\":0,\"ticks\":\"\"}}}],\"scatterternary\":[{\"type\":\"scatterternary\",\"marker\":{\"colorbar\":{\"outlinewidth\":0,\"ticks\":\"\"}}}],\"scattercarpet\":[{\"type\":\"scattercarpet\",\"marker\":{\"colorbar\":{\"outlinewidth\":0,\"ticks\":\"\"}}}],\"carpet\":[{\"aaxis\":{\"endlinecolor\":\"#2a3f5f\",\"gridcolor\":\"white\",\"linecolor\":\"white\",\"minorgridcolor\":\"white\",\"startlinecolor\":\"#2a3f5f\"},\"baxis\":{\"endlinecolor\":\"#2a3f5f\",\"gridcolor\":\"white\",\"linecolor\":\"white\",\"minorgridcolor\":\"white\",\"startlinecolor\":\"#2a3f5f\"},\"type\":\"carpet\"}],\"table\":[{\"cells\":{\"fill\":{\"color\":\"#EBF0F8\"},\"line\":{\"color\":\"white\"}},\"header\":{\"fill\":{\"color\":\"#C8D4E3\"},\"line\":{\"color\":\"white\"}},\"type\":\"table\"}],\"barpolar\":[{\"marker\":{\"line\":{\"color\":\"#E5ECF6\",\"width\":0.5},\"pattern\":{\"fillmode\":\"overlay\",\"size\":10,\"solidity\":0.2}},\"type\":\"barpolar\"}],\"pie\":[{\"automargin\":true,\"type\":\"pie\"}]},\"layout\":{\"autotypenumbers\":\"strict\",\"colorway\":[\"#636efa\",\"#EF553B\",\"#00cc96\",\"#ab63fa\",\"#FFA15A\",\"#19d3f3\",\"#FF6692\",\"#B6E880\",\"#FF97FF\",\"#FECB52\"],\"font\":{\"color\":\"#2a3f5f\"},\"hovermode\":\"closest\",\"hoverlabel\":{\"align\":\"left\"},\"paper_bgcolor\":\"white\",\"plot_bgcolor\":\"#E5ECF6\",\"polar\":{\"bgcolor\":\"#E5ECF6\",\"angularaxis\":{\"gridcolor\":\"white\",\"linecolor\":\"white\",\"ticks\":\"\"},\"radialaxis\":{\"gridcolor\":\"white\",\"linecolor\":\"white\",\"ticks\":\"\"}},\"ternary\":{\"bgcolor\":\"#E5ECF6\",\"aaxis\":{\"gridcolor\":\"white\",\"linecolor\":\"white\",\"ticks\":\"\"},\"baxis\":{\"gridcolor\":\"white\",\"linecolor\":\"white\",\"ticks\":\"\"},\"caxis\":{\"gridcolor\":\"white\",\"linecolor\":\"white\",\"ticks\":\"\"}},\"coloraxis\":{\"colorbar\":{\"outlinewidth\":0,\"ticks\":\"\"}},\"colorscale\":{\"sequential\":[[0.0,\"#0d0887\"],[0.1111111111111111,\"#46039f\"],[0.2222222222222222,\"#7201a8\"],[0.3333333333333333,\"#9c179e\"],[0.4444444444444444,\"#bd3786\"],[0.5555555555555556,\"#d8576b\"],[0.6666666666666666,\"#ed7953\"],[0.7777777777777778,\"#fb9f3a\"],[0.8888888888888888,\"#fdca26\"],[1.0,\"#f0f921\"]],\"sequentialminus\":[[0.0,\"#0d0887\"],[0.1111111111111111,\"#46039f\"],[0.2222222222222222,\"#7201a8\"],[0.3333333333333333,\"#9c179e\"],[0.4444444444444444,\"#bd3786\"],[0.5555555555555556,\"#d8576b\"],[0.6666666666666666,\"#ed7953\"],[0.7777777777777778,\"#fb9f3a\"],[0.8888888888888888,\"#fdca26\"],[1.0,\"#f0f921\"]],\"diverging\":[[0,\"#8e0152\"],[0.1,\"#c51b7d\"],[0.2,\"#de77ae\"],[0.3,\"#f1b6da\"],[0.4,\"#fde0ef\"],[0.5,\"#f7f7f7\"],[0.6,\"#e6f5d0\"],[0.7,\"#b8e186\"],[0.8,\"#7fbc41\"],[0.9,\"#4d9221\"],[1,\"#276419\"]]},\"xaxis\":{\"gridcolor\":\"white\",\"linecolor\":\"white\",\"ticks\":\"\",\"title\":{\"standoff\":15},\"zerolinecolor\":\"white\",\"automargin\":true,\"zerolinewidth\":2},\"yaxis\":{\"gridcolor\":\"white\",\"linecolor\":\"white\",\"ticks\":\"\",\"title\":{\"standoff\":15},\"zerolinecolor\":\"white\",\"automargin\":true,\"zerolinewidth\":2},\"scene\":{\"xaxis\":{\"backgroundcolor\":\"#E5ECF6\",\"gridcolor\":\"white\",\"linecolor\":\"white\",\"showbackground\":true,\"ticks\":\"\",\"zerolinecolor\":\"white\",\"gridwidth\":2},\"yaxis\":{\"backgroundcolor\":\"#E5ECF6\",\"gridcolor\":\"white\",\"linecolor\":\"white\",\"showbackground\":true,\"ticks\":\"\",\"zerolinecolor\":\"white\",\"gridwidth\":2},\"zaxis\":{\"backgroundcolor\":\"#E5ECF6\",\"gridcolor\":\"white\",\"linecolor\":\"white\",\"showbackground\":true,\"ticks\":\"\",\"zerolinecolor\":\"white\",\"gridwidth\":2}},\"shapedefaults\":{\"line\":{\"color\":\"#2a3f5f\"}},\"annotationdefaults\":{\"arrowcolor\":\"#2a3f5f\",\"arrowhead\":0,\"arrowwidth\":1},\"geo\":{\"bgcolor\":\"white\",\"landcolor\":\"#E5ECF6\",\"subunitcolor\":\"white\",\"showland\":true,\"showlakes\":true,\"lakecolor\":\"white\"},\"title\":{\"x\":0.05},\"mapbox\":{\"style\":\"light\"}}},\"xaxis\":{\"anchor\":\"y\",\"domain\":[0.0,1.0],\"title\":{\"text\":\"State\"}},\"yaxis\":{\"anchor\":\"x\",\"domain\":[0.0,1.0],\"title\":{\"text\":\"Poverty Rate\"}},\"legend\":{\"tracegroupgap\":0},\"title\":{\"text\":\"Poverty Rate in each US State\"},\"barmode\":\"relative\"},                        {\"responsive\": true}                    ).then(function(){\n",
              "                            \n",
              "var gd = document.getElementById('20895a05-2c63-4568-89fe-00b8e3d3f5da');\n",
              "var x = new MutationObserver(function (mutations, observer) {{\n",
              "        var display = window.getComputedStyle(gd).display;\n",
              "        if (!display || display === 'none') {{\n",
              "            console.log([gd, 'removed!']);\n",
              "            Plotly.purge(gd);\n",
              "            observer.disconnect();\n",
              "        }}\n",
              "}});\n",
              "\n",
              "// Listen for the removal of the full notebook cells\n",
              "var notebookContainer = gd.closest('#notebook-container');\n",
              "if (notebookContainer) {{\n",
              "    x.observe(notebookContainer, {childList: true});\n",
              "}}\n",
              "\n",
              "// Listen for the clearing of the current output cell\n",
              "var outputEl = gd.closest('.output');\n",
              "if (outputEl) {{\n",
              "    x.observe(outputEl, {childList: true});\n",
              "}}\n",
              "\n",
              "                        })                };            </script>        </div>\n",
              "</body>\n",
              "</html>"
            ]
          },
          "metadata": {}
        }
      ]
    },
    {
      "cell_type": "markdown",
      "source": [
        "Mississippi (MS) has the highest poverty rate, followed by Arizona (AZ) and Georgia (GA). The top 5 states with the highest poverty are concentrated in the South and Southwest, reflecting long-standing economic challenges in these regions.\n",
        "\n",
        "New Jersey (NJ), Connecticut (CT), and Massachusetts (MA) have the lowest poverty rates. These states are in the Northeast and have stronger economies, higher median incomes, and more robust social services.\n",
        "\n",
        "The Southern states (MS, AR, LA, WV, KY, etc.) generally show higher poverty rates. The Northeast and some Northern states (NJ, CT, MA, MN, WI, NH) tend to have lower poverty rates.\n",
        "\n",
        "Poverty rates range from about 8% (lowest) to 27% (highest). This indicates significant inequality in poverty levels across the U.S., with nearly a 3x difference between the highest and lowest states."
      ],
      "metadata": {
        "id": "Qr9PBdhGMdOL"
      }
    },
    {
      "cell_type": "markdown",
      "metadata": {
        "id": "GhUibVz5z4sn"
      },
      "source": [
        "# Chart the High School Graduation Rate by US State\n",
        "\n",
        "Show the High School Graduation Rate in ascending order of US States. Which state has the lowest high school graduation rate? Which state has the highest?"
      ]
    },
    {
      "cell_type": "code",
      "metadata": {
        "id": "laD6W9eG0JFR",
        "colab": {
          "base_uri": "https://localhost:8080/",
          "height": 542
        },
        "outputId": "115ed02a-7735-430c-9842-4dfe048fbb69"
      },
      "source": [
        "df_pct_completed_hs['percent_completed_hs'] = pd.to_numeric(df_pct_completed_hs['percent_completed_hs'], errors='coerce')\n",
        "pct_completed_hs_by_state = df_pct_completed_hs.groupby('Geographic Area')['percent_completed_hs'].mean().reset_index()\n",
        "pct_completed_hs_by_state.columns = ['State', 'High School Graduation Rate']\n",
        "\n",
        "fig2 = px.bar(pct_completed_hs_by_state.sort_values(by='High School Graduation Rate', ascending=False),\n",
        "              x = 'State',\n",
        "              y = 'High School Graduation Rate',\n",
        "              title = 'High School Graduation Rate by US State')\n",
        "\n",
        "fig2.show()"
      ],
      "execution_count": 11,
      "outputs": [
        {
          "output_type": "display_data",
          "data": {
            "text/html": [
              "<html>\n",
              "<head><meta charset=\"utf-8\" /></head>\n",
              "<body>\n",
              "    <div>            <script src=\"https://cdnjs.cloudflare.com/ajax/libs/mathjax/2.7.5/MathJax.js?config=TeX-AMS-MML_SVG\"></script><script type=\"text/javascript\">if (window.MathJax && window.MathJax.Hub && window.MathJax.Hub.Config) {window.MathJax.Hub.Config({SVG: {font: \"STIX-Web\"}});}</script>                <script type=\"text/javascript\">window.PlotlyConfig = {MathJaxConfig: 'local'};</script>\n",
              "        <script charset=\"utf-8\" src=\"https://cdn.plot.ly/plotly-3.1.0.min.js\" integrity=\"sha256-Ei4740bWZhaUTQuD6q9yQlgVCMPBz6CZWhevDYPv93A=\" crossorigin=\"anonymous\"></script>                <div id=\"f15f780c-2a5f-4f55-9ce3-7544f287b7db\" class=\"plotly-graph-div\" style=\"height:525px; width:100%;\"></div>            <script type=\"text/javascript\">                window.PLOTLYENV=window.PLOTLYENV || {};                                if (document.getElementById(\"f15f780c-2a5f-4f55-9ce3-7544f287b7db\")) {                    Plotly.newPlot(                        \"f15f780c-2a5f-4f55-9ce3-7544f287b7db\",                        [{\"hovertemplate\":\"State=%{x}\\u003cbr\\u003eHigh School Graduation Rate=%{y}\\u003cextra\\u003e\\u003c\\u002fextra\\u003e\",\"legendgroup\":\"\",\"marker\":{\"color\":\"#636efa\",\"pattern\":{\"shape\":\"\"}},\"name\":\"\",\"orientation\":\"v\",\"showlegend\":false,\"textposition\":\"auto\",\"x\":[\"MA\",\"WY\",\"HI\",\"UT\",\"CT\",\"ME\",\"NJ\",\"NH\",\"NY\",\"MT\",\"WI\",\"IA\",\"CO\",\"NE\",\"VT\",\"MN\",\"DC\",\"MI\",\"PA\",\"RI\",\"DE\",\"IL\",\"MD\",\"OH\",\"OR\",\"KS\",\"WA\",\"ND\",\"SD\",\"NV\",\"IN\",\"FL\",\"ID\",\"VA\",\"AK\",\"MO\",\"NC\",\"OK\",\"KY\",\"WV\",\"CA\",\"TN\",\"NM\",\"SC\",\"AZ\",\"AL\",\"AR\",\"LA\",\"GA\",\"MS\",\"TX\"],\"xaxis\":\"x\",\"y\":{\"dtype\":\"f8\",\"bdata\":\"MEo1edwZV0BX82Y1bwZXQGIqMZWY6lZA+xxSE4znVkDe3d3d3eVWQLmRG7mR21ZAEViuRae2VkBneRKZhq1WQBh1ZUBHp1ZAHeHcbkKfVkAPIxzJ5JBWQARFCFIvh1ZAMm2zJNOGVkAqYeU7OX9WQDnCud2EflZATQEDuctdVkAzMzMzM1NWQNv7zUhKTVZAIqYWUX9BVkDMzMzMzDRWQP2EOCs\\u002fIVZAVYrYu\\u002fAeVkCfsCfsCRtWQOaW2e0NFlZAxNo3rH0TVkDycPenvw5WQD6d5RilDFZAGARWDi30VUAAAAAAQPBVQN3IjdzI7VVACKI71W6UVUB0GBVZOG9VQJduEoPASlVAcDw0V1Y4VUACJ3ACJyhVQM3MzMxs4VRAlRyqHvfPVEAYUEQ6ObpUQMHeMTWwl1RA29CEShWWVECsTavCJX1UQOkfnvhkaFRAjuM4juM+VECjtnlTZDZUQN9aMT\\u002flHVRANM4CbD4TVEBx9pQ6xfxTQK+FsXiJ0lNAzczMzMzAU0CxEF0\\u002fIJ5TQFyPwvUo7FJA\"},\"yaxis\":\"y\",\"type\":\"bar\"}],                        {\"template\":{\"data\":{\"histogram2dcontour\":[{\"type\":\"histogram2dcontour\",\"colorbar\":{\"outlinewidth\":0,\"ticks\":\"\"},\"colorscale\":[[0.0,\"#0d0887\"],[0.1111111111111111,\"#46039f\"],[0.2222222222222222,\"#7201a8\"],[0.3333333333333333,\"#9c179e\"],[0.4444444444444444,\"#bd3786\"],[0.5555555555555556,\"#d8576b\"],[0.6666666666666666,\"#ed7953\"],[0.7777777777777778,\"#fb9f3a\"],[0.8888888888888888,\"#fdca26\"],[1.0,\"#f0f921\"]]}],\"choropleth\":[{\"type\":\"choropleth\",\"colorbar\":{\"outlinewidth\":0,\"ticks\":\"\"}}],\"histogram2d\":[{\"type\":\"histogram2d\",\"colorbar\":{\"outlinewidth\":0,\"ticks\":\"\"},\"colorscale\":[[0.0,\"#0d0887\"],[0.1111111111111111,\"#46039f\"],[0.2222222222222222,\"#7201a8\"],[0.3333333333333333,\"#9c179e\"],[0.4444444444444444,\"#bd3786\"],[0.5555555555555556,\"#d8576b\"],[0.6666666666666666,\"#ed7953\"],[0.7777777777777778,\"#fb9f3a\"],[0.8888888888888888,\"#fdca26\"],[1.0,\"#f0f921\"]]}],\"heatmap\":[{\"type\":\"heatmap\",\"colorbar\":{\"outlinewidth\":0,\"ticks\":\"\"},\"colorscale\":[[0.0,\"#0d0887\"],[0.1111111111111111,\"#46039f\"],[0.2222222222222222,\"#7201a8\"],[0.3333333333333333,\"#9c179e\"],[0.4444444444444444,\"#bd3786\"],[0.5555555555555556,\"#d8576b\"],[0.6666666666666666,\"#ed7953\"],[0.7777777777777778,\"#fb9f3a\"],[0.8888888888888888,\"#fdca26\"],[1.0,\"#f0f921\"]]}],\"contourcarpet\":[{\"type\":\"contourcarpet\",\"colorbar\":{\"outlinewidth\":0,\"ticks\":\"\"}}],\"contour\":[{\"type\":\"contour\",\"colorbar\":{\"outlinewidth\":0,\"ticks\":\"\"},\"colorscale\":[[0.0,\"#0d0887\"],[0.1111111111111111,\"#46039f\"],[0.2222222222222222,\"#7201a8\"],[0.3333333333333333,\"#9c179e\"],[0.4444444444444444,\"#bd3786\"],[0.5555555555555556,\"#d8576b\"],[0.6666666666666666,\"#ed7953\"],[0.7777777777777778,\"#fb9f3a\"],[0.8888888888888888,\"#fdca26\"],[1.0,\"#f0f921\"]]}],\"surface\":[{\"type\":\"surface\",\"colorbar\":{\"outlinewidth\":0,\"ticks\":\"\"},\"colorscale\":[[0.0,\"#0d0887\"],[0.1111111111111111,\"#46039f\"],[0.2222222222222222,\"#7201a8\"],[0.3333333333333333,\"#9c179e\"],[0.4444444444444444,\"#bd3786\"],[0.5555555555555556,\"#d8576b\"],[0.6666666666666666,\"#ed7953\"],[0.7777777777777778,\"#fb9f3a\"],[0.8888888888888888,\"#fdca26\"],[1.0,\"#f0f921\"]]}],\"mesh3d\":[{\"type\":\"mesh3d\",\"colorbar\":{\"outlinewidth\":0,\"ticks\":\"\"}}],\"scatter\":[{\"fillpattern\":{\"fillmode\":\"overlay\",\"size\":10,\"solidity\":0.2},\"type\":\"scatter\"}],\"parcoords\":[{\"type\":\"parcoords\",\"line\":{\"colorbar\":{\"outlinewidth\":0,\"ticks\":\"\"}}}],\"scatterpolargl\":[{\"type\":\"scatterpolargl\",\"marker\":{\"colorbar\":{\"outlinewidth\":0,\"ticks\":\"\"}}}],\"bar\":[{\"error_x\":{\"color\":\"#2a3f5f\"},\"error_y\":{\"color\":\"#2a3f5f\"},\"marker\":{\"line\":{\"color\":\"#E5ECF6\",\"width\":0.5},\"pattern\":{\"fillmode\":\"overlay\",\"size\":10,\"solidity\":0.2}},\"type\":\"bar\"}],\"scattergeo\":[{\"type\":\"scattergeo\",\"marker\":{\"colorbar\":{\"outlinewidth\":0,\"ticks\":\"\"}}}],\"scatterpolar\":[{\"type\":\"scatterpolar\",\"marker\":{\"colorbar\":{\"outlinewidth\":0,\"ticks\":\"\"}}}],\"histogram\":[{\"marker\":{\"pattern\":{\"fillmode\":\"overlay\",\"size\":10,\"solidity\":0.2}},\"type\":\"histogram\"}],\"scattergl\":[{\"type\":\"scattergl\",\"marker\":{\"colorbar\":{\"outlinewidth\":0,\"ticks\":\"\"}}}],\"scatter3d\":[{\"type\":\"scatter3d\",\"line\":{\"colorbar\":{\"outlinewidth\":0,\"ticks\":\"\"}},\"marker\":{\"colorbar\":{\"outlinewidth\":0,\"ticks\":\"\"}}}],\"scattermap\":[{\"type\":\"scattermap\",\"marker\":{\"colorbar\":{\"outlinewidth\":0,\"ticks\":\"\"}}}],\"scattermapbox\":[{\"type\":\"scattermapbox\",\"marker\":{\"colorbar\":{\"outlinewidth\":0,\"ticks\":\"\"}}}],\"scatterternary\":[{\"type\":\"scatterternary\",\"marker\":{\"colorbar\":{\"outlinewidth\":0,\"ticks\":\"\"}}}],\"scattercarpet\":[{\"type\":\"scattercarpet\",\"marker\":{\"colorbar\":{\"outlinewidth\":0,\"ticks\":\"\"}}}],\"carpet\":[{\"aaxis\":{\"endlinecolor\":\"#2a3f5f\",\"gridcolor\":\"white\",\"linecolor\":\"white\",\"minorgridcolor\":\"white\",\"startlinecolor\":\"#2a3f5f\"},\"baxis\":{\"endlinecolor\":\"#2a3f5f\",\"gridcolor\":\"white\",\"linecolor\":\"white\",\"minorgridcolor\":\"white\",\"startlinecolor\":\"#2a3f5f\"},\"type\":\"carpet\"}],\"table\":[{\"cells\":{\"fill\":{\"color\":\"#EBF0F8\"},\"line\":{\"color\":\"white\"}},\"header\":{\"fill\":{\"color\":\"#C8D4E3\"},\"line\":{\"color\":\"white\"}},\"type\":\"table\"}],\"barpolar\":[{\"marker\":{\"line\":{\"color\":\"#E5ECF6\",\"width\":0.5},\"pattern\":{\"fillmode\":\"overlay\",\"size\":10,\"solidity\":0.2}},\"type\":\"barpolar\"}],\"pie\":[{\"automargin\":true,\"type\":\"pie\"}]},\"layout\":{\"autotypenumbers\":\"strict\",\"colorway\":[\"#636efa\",\"#EF553B\",\"#00cc96\",\"#ab63fa\",\"#FFA15A\",\"#19d3f3\",\"#FF6692\",\"#B6E880\",\"#FF97FF\",\"#FECB52\"],\"font\":{\"color\":\"#2a3f5f\"},\"hovermode\":\"closest\",\"hoverlabel\":{\"align\":\"left\"},\"paper_bgcolor\":\"white\",\"plot_bgcolor\":\"#E5ECF6\",\"polar\":{\"bgcolor\":\"#E5ECF6\",\"angularaxis\":{\"gridcolor\":\"white\",\"linecolor\":\"white\",\"ticks\":\"\"},\"radialaxis\":{\"gridcolor\":\"white\",\"linecolor\":\"white\",\"ticks\":\"\"}},\"ternary\":{\"bgcolor\":\"#E5ECF6\",\"aaxis\":{\"gridcolor\":\"white\",\"linecolor\":\"white\",\"ticks\":\"\"},\"baxis\":{\"gridcolor\":\"white\",\"linecolor\":\"white\",\"ticks\":\"\"},\"caxis\":{\"gridcolor\":\"white\",\"linecolor\":\"white\",\"ticks\":\"\"}},\"coloraxis\":{\"colorbar\":{\"outlinewidth\":0,\"ticks\":\"\"}},\"colorscale\":{\"sequential\":[[0.0,\"#0d0887\"],[0.1111111111111111,\"#46039f\"],[0.2222222222222222,\"#7201a8\"],[0.3333333333333333,\"#9c179e\"],[0.4444444444444444,\"#bd3786\"],[0.5555555555555556,\"#d8576b\"],[0.6666666666666666,\"#ed7953\"],[0.7777777777777778,\"#fb9f3a\"],[0.8888888888888888,\"#fdca26\"],[1.0,\"#f0f921\"]],\"sequentialminus\":[[0.0,\"#0d0887\"],[0.1111111111111111,\"#46039f\"],[0.2222222222222222,\"#7201a8\"],[0.3333333333333333,\"#9c179e\"],[0.4444444444444444,\"#bd3786\"],[0.5555555555555556,\"#d8576b\"],[0.6666666666666666,\"#ed7953\"],[0.7777777777777778,\"#fb9f3a\"],[0.8888888888888888,\"#fdca26\"],[1.0,\"#f0f921\"]],\"diverging\":[[0,\"#8e0152\"],[0.1,\"#c51b7d\"],[0.2,\"#de77ae\"],[0.3,\"#f1b6da\"],[0.4,\"#fde0ef\"],[0.5,\"#f7f7f7\"],[0.6,\"#e6f5d0\"],[0.7,\"#b8e186\"],[0.8,\"#7fbc41\"],[0.9,\"#4d9221\"],[1,\"#276419\"]]},\"xaxis\":{\"gridcolor\":\"white\",\"linecolor\":\"white\",\"ticks\":\"\",\"title\":{\"standoff\":15},\"zerolinecolor\":\"white\",\"automargin\":true,\"zerolinewidth\":2},\"yaxis\":{\"gridcolor\":\"white\",\"linecolor\":\"white\",\"ticks\":\"\",\"title\":{\"standoff\":15},\"zerolinecolor\":\"white\",\"automargin\":true,\"zerolinewidth\":2},\"scene\":{\"xaxis\":{\"backgroundcolor\":\"#E5ECF6\",\"gridcolor\":\"white\",\"linecolor\":\"white\",\"showbackground\":true,\"ticks\":\"\",\"zerolinecolor\":\"white\",\"gridwidth\":2},\"yaxis\":{\"backgroundcolor\":\"#E5ECF6\",\"gridcolor\":\"white\",\"linecolor\":\"white\",\"showbackground\":true,\"ticks\":\"\",\"zerolinecolor\":\"white\",\"gridwidth\":2},\"zaxis\":{\"backgroundcolor\":\"#E5ECF6\",\"gridcolor\":\"white\",\"linecolor\":\"white\",\"showbackground\":true,\"ticks\":\"\",\"zerolinecolor\":\"white\",\"gridwidth\":2}},\"shapedefaults\":{\"line\":{\"color\":\"#2a3f5f\"}},\"annotationdefaults\":{\"arrowcolor\":\"#2a3f5f\",\"arrowhead\":0,\"arrowwidth\":1},\"geo\":{\"bgcolor\":\"white\",\"landcolor\":\"#E5ECF6\",\"subunitcolor\":\"white\",\"showland\":true,\"showlakes\":true,\"lakecolor\":\"white\"},\"title\":{\"x\":0.05},\"mapbox\":{\"style\":\"light\"}}},\"xaxis\":{\"anchor\":\"y\",\"domain\":[0.0,1.0],\"title\":{\"text\":\"State\"}},\"yaxis\":{\"anchor\":\"x\",\"domain\":[0.0,1.0],\"title\":{\"text\":\"High School Graduation Rate\"}},\"legend\":{\"tracegroupgap\":0},\"title\":{\"text\":\"High School Graduation Rate by US State\"},\"barmode\":\"relative\"},                        {\"responsive\": true}                    ).then(function(){\n",
              "                            \n",
              "var gd = document.getElementById('f15f780c-2a5f-4f55-9ce3-7544f287b7db');\n",
              "var x = new MutationObserver(function (mutations, observer) {{\n",
              "        var display = window.getComputedStyle(gd).display;\n",
              "        if (!display || display === 'none') {{\n",
              "            console.log([gd, 'removed!']);\n",
              "            Plotly.purge(gd);\n",
              "            observer.disconnect();\n",
              "        }}\n",
              "}});\n",
              "\n",
              "// Listen for the removal of the full notebook cells\n",
              "var notebookContainer = gd.closest('#notebook-container');\n",
              "if (notebookContainer) {{\n",
              "    x.observe(notebookContainer, {childList: true});\n",
              "}}\n",
              "\n",
              "// Listen for the clearing of the current output cell\n",
              "var outputEl = gd.closest('.output');\n",
              "if (outputEl) {{\n",
              "    x.observe(outputEl, {childList: true});\n",
              "}}\n",
              "\n",
              "                        })                };            </script>        </div>\n",
              "</body>\n",
              "</html>"
            ]
          },
          "metadata": {}
        }
      ]
    },
    {
      "cell_type": "markdown",
      "source": [
        "Massachusetts (MA), Wyoming (WY), Hawaii (HI), Utah (UT), and Connecticut (CT) have the highest graduation rates, close to or above 92–94%. Many of these states have strong education systems, higher funding levels, and smaller gaps in access to resources.\n",
        "\n",
        "Texas (TX), Mississippi (MS), Georgia (GA), and Louisiana (LA) show the lowest graduation rates, around 75–80%. Interestingly, these states also ranked high in poverty rates, suggesting a strong negative correlation between poverty and graduation rates.\n",
        "\n",
        "Northeast states (MA, CT, NJ, NY, etc.) generally show higher graduation rates. Southern states (MS, LA, GA, AL, AR, TX) are clustered near the bottom of the rankings. Western states are mixed: Utah and Hawaii perform well, while Arizona and New Mexico lag behind.\n",
        "\n",
        "Graduation rates across the U.S. are mostly high, with the majority of states between 82%–92%. However, the gap between the highest (94%) and lowest (76%) states is nearly 20 percentage points, which is significant when considering national education standards."
      ],
      "metadata": {
        "id": "lPTd6gZfPj35"
      }
    },
    {
      "cell_type": "markdown",
      "metadata": {
        "id": "ENGTEmPQ0Rvt"
      },
      "source": [
        "# Visualise the Relationship between Poverty Rates and High School Graduation Rates"
      ]
    },
    {
      "cell_type": "code",
      "metadata": {
        "id": "MkNk5U8v0JPB",
        "colab": {
          "base_uri": "https://localhost:8080/",
          "height": 607
        },
        "outputId": "9c202503-6c62-43ea-fd61-5f74875f00db"
      },
      "source": [
        "merged = (pct_poverty_by_state\n",
        "          .merge(pct_completed_hs_by_state, on=\"State\"))\n",
        "\n",
        "plt.figure(figsize=(7,6))\n",
        "plt.scatter(merged[\"Poverty Rate\"], merged[\"High School Graduation Rate\"])\n",
        "\n",
        "plt.xlabel(\"Poverty Rate (%)\")\n",
        "plt.ylabel(\"High School Graduation Rate (%)\")\n",
        "plt.title(\"Relationship Between Poverty and Graduation Rates\")\n",
        "plt.grid(alpha=0.3)\n",
        "plt.xlim(0, merged[\"Poverty Rate\"].max()+2)\n",
        "plt.ylim(0, 100)\n",
        "plt.xlim(0, 100)\n",
        "plt.tight_layout()\n",
        "plt.show()\n"
      ],
      "execution_count": 12,
      "outputs": [
        {
          "output_type": "display_data",
          "data": {
            "text/plain": [
              "<Figure size 700x600 with 1 Axes>"
            ],
            "image/png": "[encoded data removed]"
          },
          "metadata": {}
        }
      ]
    },
    {
      "cell_type": "markdown",
      "metadata": {
        "id": "Zavx_8PL1Jy9"
      },
      "source": [
        "#### Now use a Seaborn .jointplot() with a Kernel Density Estimate (KDE) and/or scatter plot to visualise the same relationship"
      ]
    },
    {
      "cell_type": "code",
      "metadata": {
        "id": "u77CHfdX0pjW",
        "colab": {
          "base_uri": "https://localhost:8080/",
          "height": 633
        },
        "outputId": "39208016-58df-4665-9358-2df2f4542903"
      },
      "source": [
        "# Scatter + KDE contours\n",
        "sns.jointplot(\n",
        "    data=merged,\n",
        "    x=\"Poverty Rate\",\n",
        "    y=\"High School Graduation Rate\",\n",
        "    kind=\"kde\",      # can use \"scatter\", \"kde\", \"reg\", or \"hex\"\n",
        "    fill=True,\n",
        "    cmap=\"Blues\"\n",
        ")\n",
        "\n",
        "plt.ylim(0, 100)\n",
        "plt.xlim(0, 100)\n",
        "plt.suptitle(\"Poverty vs High School Graduation Rate\", y=1.02)\n",
        "plt.show()"
      ],
      "execution_count": 13,
      "outputs": [
        {
          "output_type": "display_data",
          "data": {
            "text/plain": [
              "<Figure size 600x600 with 3 Axes>"
            ],
            "image/png": "[encoded data removed]"
          },
          "metadata": {}
        }
      ]
    },
    {
      "cell_type": "markdown",
      "metadata": {
        "id": "PXNFQmHl10Fx"
      },
      "source": [
        "#### Seaborn's `.lmplot()` or `.regplot()` to show a linear regression between the poverty ratio and the high school graduation ratio."
      ]
    },
    {
      "cell_type": "code",
      "metadata": {
        "id": "F1xrjFgT1znI",
        "colab": {
          "base_uri": "https://localhost:8080/",
          "height": 497
        },
        "outputId": "684b1bf3-b924-4525-af55-37743adfe4a5"
      },
      "source": [
        "# Scatter + KDE contours\n",
        "sns.regplot(\n",
        "    data=merged,\n",
        "    x=\"Poverty Rate\",\n",
        "    y=\"High School Graduation Rate\"\n",
        ")\n",
        "plt.ylim(0, 100)\n",
        "plt.xlim(0, 100)\n",
        "plt.suptitle(\"Poverty vs High School Graduation Rate\")\n",
        "plt.show()"
      ],
      "execution_count": 14,
      "outputs": [
        {
          "output_type": "display_data",
          "data": {
            "text/plain": [
              "<Figure size 640x480 with 1 Axes>"
            ],
            "image/png": "[encoded data removed]"
          },
          "metadata": {}
        }
      ]
    },
    {
      "cell_type": "markdown",
      "source": [
        "In all plots, as the poverty rate increases, the high school graduation rate decreases. States with low poverty (below ~15%) tend to have high graduation rates (90%+). States with high poverty (20%+) show lower graduation rates (75–85%).\n",
        "\n",
        "The cluster is tight, suggesting a strong negative correlation. The density plot (2nd image) confirms most states fall in a range of 10–20% poverty and 80–90% graduation.\n",
        "\n",
        "A few states with ~20% poverty still manage mid-to-high 80% graduation rates, showing that local education policy and support systems can offset poverty to some extent. Conversely, some states with moderate poverty still underperform on graduation, suggesting additional systemic issues (funding, teacher shortages, etc.)."
      ],
      "metadata": {
        "id": "Bdq0XgXEnkIm"
      }
    },
    {
      "cell_type": "markdown",
      "metadata": {
        "id": "QJTbZZKg0p6i"
      },
      "source": [
        "# Create a Bar Chart with Subsections Showing the Racial Makeup of Each US State\n",
        "\n",
        "Visualise the share of the white, black, hispanic, asian and native american population in each US State using a bar chart with sub sections."
      ]
    },
    {
      "cell_type": "code",
      "metadata": {
        "id": "YQbXb6Ex09D9",
        "colab": {
          "base_uri": "https://localhost:8080/",
          "height": 542
        },
        "outputId": "0e300b01-a9dd-4b9f-b224-66f12ced8f36"
      },
      "source": [
        "df_share_race_city.columns = ['State', 'City', 'share_white', 'share_black', 'share_native_american', 'share_asian', 'share_hispanic']\n",
        "\n",
        "# Convert share columns to numeric, coercing errors\n",
        "for col in ['share_white', 'share_black', 'share_native_american', 'share_asian', 'share_hispanic']:\n",
        "    df_share_race_city[col] = pd.to_numeric(df_share_race_city[col], errors='coerce')\n",
        "\n",
        "df_race_by_state = df_share_race_city.groupby('State')[['share_white', 'share_black', 'share_native_american', 'share_asian', 'share_hispanic']].mean().reset_index()\n",
        "\n",
        "fig = px.bar(df_race_by_state,\n",
        "             x='State',\n",
        "             y=['share_white', 'share_black', 'share_native_american', 'share_asian', 'share_hispanic'],\n",
        "             title='Racial Makeup of Each US State')\n",
        "fig.show()"
      ],
      "execution_count": 15,
      "outputs": [
        {
          "output_type": "display_data",
          "data": {
            "text/html": [
              "<html>\n",
              "<head><meta charset=\"utf-8\" /></head>\n",
              "<body>\n",
              "    <div>            <script src=\"https://cdnjs.cloudflare.com/ajax/libs/mathjax/2.7.5/MathJax.js?config=TeX-AMS-MML_SVG\"></script><script type=\"text/javascript\">if (window.MathJax && window.MathJax.Hub && window.MathJax.Hub.Config) {window.MathJax.Hub.Config({SVG: {font: \"STIX-Web\"}});}</script>                <script type=\"text/javascript\">window.PlotlyConfig = {MathJaxConfig: 'local'};</script>\n",
              "        <script charset=\"utf-8\" src=\"https://cdn.plot.ly/plotly-3.1.0.min.js\" integrity=\"sha256-Ei4740bWZhaUTQuD6q9yQlgVCMPBz6CZWhevDYPv93A=\" crossorigin=\"anonymous\"></script>                <div id=\"b1ffa3a4-4994-485f-9b32-6383f86d506e\" class=\"plotly-graph-div\" style=\"height:525px; width:100%;\"></div>            <script type=\"text/javascript\">                window.PLOTLYENV=window.PLOTLYENV || {};                                if (document.getElementById(\"b1ffa3a4-4994-485f-9b32-6383f86d506e\")) {                    Plotly.newPlot(                        \"b1ffa3a4-4994-485f-9b32-6383f86d506e\",                        [{\"hovertemplate\":\"variable=share_white\\u003cbr\\u003eState=%{x}\\u003cbr\\u003evalue=%{y}\\u003cextra\\u003e\\u003c\\u002fextra\\u003e\",\"legendgroup\":\"share_white\",\"marker\":{\"color\":\"#636efa\",\"pattern\":{\"shape\":\"\"}},\"name\":\"share_white\",\"orientation\":\"v\",\"showlegend\":true,\"textposition\":\"auto\",\"x\":[\"AK\",\"AL\",\"AR\",\"AZ\",\"CA\",\"CO\",\"CT\",\"DC\",\"DE\",\"FL\",\"GA\",\"HI\",\"IA\",\"ID\",\"IL\",\"IN\",\"KS\",\"KY\",\"LA\",\"MA\",\"MD\",\"ME\",\"MI\",\"MN\",\"MO\",\"MS\",\"MT\",\"NC\",\"ND\",\"NE\",\"NH\",\"NJ\",\"NM\",\"NV\",\"NY\",\"OH\",\"OK\",\"OR\",\"PA\",\"RI\",\"SC\",\"SD\",\"TN\",\"TX\",\"UT\",\"VA\",\"VT\",\"WA\",\"WI\",\"WV\",\"WY\"],\"xaxis\":\"x\",\"y\":{\"dtype\":\"f8\",\"bdata\":\"MzMzMzPTRkDROqQNdyBSQHH2lDrFnFNA969u\\u002f+r2TUB6yKxXcfdRQPx8GX4s8VVAyaoJD8KGVUAAAAAAAEBDQHxuiVO\\u002fD1NA16NwPQqrU0Bx+glft0tPQAGKM\\u002fhMr0BAVG92miwtWECv+aPnUzRWQKx+Dg\\u002fallZAhaxLyLq0V0Blz0Ygmz1XQN5b0tOEDldAr3CbNCI0UECTfVRRAmtWQHgL2j9zB1JAHFkkrevrV0DkHXtg+qpWQNtMGNE281ZAKk8xSWmcVkBmZmZmZuZKQBvjDf10HlVA41\\u002foeg7hUUB1LSwOzRJXQJursu7srVdAmZmZmZnrV0ApPZE+7jhUQJFt1N7IWlBAMU6\\u002fBuOUVEBCAMoVNjhWQF63CuF1M1dAi0NpDUA7UkChRAO3COhVQM3rBfE0UFdAfn5+fn5OVkA4Wvic4\\u002fxOQKzuHRJVNFVAhG6iD508VkA4oaA94qVUQM9UrjteXFZAze+QRTemUkDhcpfgcvdXQBb8S6cPmFRAAmXDink9V0C3znkuRMJXQJ2aB7nrF1dA\"},\"yaxis\":\"y\",\"type\":\"bar\"},{\"hovertemplate\":\"variable=share_black\\u003cbr\\u003eState=%{x}\\u003cbr\\u003evalue=%{y}\\u003cextra\\u003e\\u003c\\u002fextra\\u003e\",\"legendgroup\":\"share_black\",\"marker\":{\"color\":\"#EF553B\",\"pattern\":{\"shape\":\"\"}},\"name\":\"share_black\",\"orientation\":\"v\",\"showlegend\":true,\"textposition\":\"auto\",\"x\":[\"AK\",\"AL\",\"AR\",\"AZ\",\"CA\",\"CO\",\"CT\",\"DC\",\"DE\",\"FL\",\"GA\",\"HI\",\"IA\",\"ID\",\"IL\",\"IN\",\"KS\",\"KY\",\"LA\",\"MA\",\"MD\",\"ME\",\"MI\",\"MN\",\"MO\",\"MS\",\"MT\",\"NC\",\"ND\",\"NE\",\"NH\",\"NJ\",\"NM\",\"NV\",\"NY\",\"OH\",\"OK\",\"OR\",\"PA\",\"RI\",\"SC\",\"SD\",\"TN\",\"TX\",\"UT\",\"VA\",\"VT\",\"WA\",\"WI\",\"WV\",\"WY\"],\"xaxis\":\"x\",\"y\":{\"dtype\":\"f8\",\"bdata\":\"pwR5SpAn4j9HVmV0g1I3QKZsRN3+SzBAjC666KKL7j\\u002ftPLv6QIkFQIrqXyuuXe0\\u002fgh\\u002f4gR\\u002f4E0CamZmZmVlJQJg49XtuyS5AgWGbneK9KkBGJo4XMKI+QGLvShE\\u002fIvE\\u002fjwBBY2wI4j\\u002fjnfxgzuPSPxMXCDg40RJABHMyMCcD+z\\u002fBmXOPeLzuP4N9uRJArxFA\\u002fPMak4XGPkA4ipAunWoGQGxTBiDCdjNAWrXQdjA86j\\u002f5uO+WQn8QQA9zdigqA\\u002fA\\u002f5ZpvxYCEF0DWOrDJv+pEQG02\\u002fLprAM0\\u002fa73OKP1mNECGQptA7t7WP6w1yCXB6do\\u002fZ2ZmZmbm5j80y8lscuYbQKLFXlRqWOU\\u002f3kOR6j0U+T8RUy9d7AcQQJ+70Q8Drg9AMYxZnpUCC0ACerCa1vHgP5dyKZdyKQpA6Ofn5+fnB0CY5ludzmpAQI\\u002fC9Shcj9I\\u002fSlZNeBA2HUD\\u002fuO273IQXQL7NX2FWo9g\\u002fKCc0ssWCMECpqKioqKjoP18ry4FS0\\u002fY\\u002ffE\\u002fQTwP+7T9NCEOnWlIHQHbYPTZ9kdk\\u002f\"},\"yaxis\":\"y\",\"type\":\"bar\"},{\"hovertemplate\":\"variable=share_native_american\\u003cbr\\u003eState=%{x}\\u003cbr\\u003evalue=%{y}\\u003cextra\\u003e\\u003c\\u002fextra\\u003e\",\"legendgroup\":\"share_native_american\",\"marker\":{\"color\":\"#00cc96\",\"pattern\":{\"shape\":\"\"}},\"name\":\"share_native_american\",\"orientation\":\"v\",\"showlegend\":true,\"textposition\":\"auto\",\"x\":[\"AK\",\"AL\",\"AR\",\"AZ\",\"CA\",\"CO\",\"CT\",\"DC\",\"DE\",\"FL\",\"GA\",\"HI\",\"IA\",\"ID\",\"IL\",\"IN\",\"KS\",\"KY\",\"LA\",\"MA\",\"MD\",\"ME\",\"MI\",\"MN\",\"MO\",\"MS\",\"MT\",\"NC\",\"ND\",\"NE\",\"NH\",\"NJ\",\"NM\",\"NV\",\"NY\",\"OH\",\"OK\",\"OR\",\"PA\",\"RI\",\"SC\",\"SD\",\"TN\",\"TX\",\"UT\",\"VA\",\"VT\",\"WA\",\"WI\",\"WV\",\"WY\"],\"xaxis\":\"x\",\"y\":{\"dtype\":\"f8\",\"bdata\":\"9w1r37DuRkBHCs6RVRnlP6o8D+8CUeg\\u002fl9JvKf2WPEDSL7K\\u002fw5H7PwG40YaN\\u002f\\u002fk\\u002feme97TgD5T8zMzMzMzPTPyCMtGMFwuA\\u002fUvkw7tcl3T8GwbQ7bzjTP\\u002folMEZL1tg\\u002fAuyhBe1d0T8cvCL6hTIEQJXks0+QwdA\\u002fpwFtGtCm0T8wNUWvhfj9P28KVZhm5Mo\\u002fVcV1wCai7j\\u002fC1wAEUwrRPxxdR\\u002fm90dU\\u002fqtJL4vNw4T+5TraYfDvxP82euySz5wpAGcMHBAdr4T+Jg\\u002fetkdX5PxKfUlPuvSdAn7S\\u002fXwac\\u002fD9EuYHo11EVQA+EYsUN9fg\\u002fZ2ZmZmZm0j9vOqp8vXPQPzkovLxJri5AYOkkB5ZOFkBepM96vB\\u002fXP3qsSmk1hss\\u002fKUsMUKbDLECBWwT0YLUEQCzdG1AmrsQ\\u002fdnV1dXV15T9HEiUuRJ7dPw102kCnDShA4CyIa1tC1D9iatTTcBXlP9zLOThD9g5AtnAhOkPo1T8Y86kX86nXP0HWf\\u002fimAA5AKoAZV2X2BEAmiq6FxaHJP2AbmlCpwghA\"},\"yaxis\":\"y\",\"type\":\"bar\"},{\"hovertemplate\":\"variable=share_asian\\u003cbr\\u003eState=%{x}\\u003cbr\\u003evalue=%{y}\\u003cextra\\u003e\\u003c\\u002fextra\\u003e\",\"legendgroup\":\"share_asian\",\"marker\":{\"color\":\"#ab63fa\",\"pattern\":{\"shape\":\"\"}},\"name\":\"share_asian\",\"orientation\":\"v\",\"showlegend\":true,\"textposition\":\"auto\",\"x\":[\"AK\",\"AL\",\"AR\",\"AZ\",\"CA\",\"CO\",\"CT\",\"DC\",\"DE\",\"FL\",\"GA\",\"HI\",\"IA\",\"ID\",\"IL\",\"IN\",\"KS\",\"KY\",\"LA\",\"MA\",\"MD\",\"ME\",\"MI\",\"MN\",\"MO\",\"MS\",\"MT\",\"NC\",\"ND\",\"NE\",\"NH\",\"NJ\",\"NM\",\"NV\",\"NY\",\"OH\",\"OK\",\"OR\",\"PA\",\"RI\",\"SC\",\"SD\",\"TN\",\"TX\",\"UT\",\"VA\",\"VT\",\"WA\",\"WI\",\"WV\",\"WY\"],\"xaxis\":\"x\",\"y\":{\"dtype\":\"f8\",\"bdata\":\"9w1r37A29j\\u002fxSqX\\u002fWbTeP4EDq2F4iN4\\u002fQOcFdF5A5z\\u002fgLhO+10UWQBfGWjoTevI\\u002f1\\u002fi7eYTqB0AAAAAAAAAMQAAAAAAAAABACxi22Sne+T9utKVHUt33P31r8eirpzlASG8THZem2T+QD3UX6DXfP923YXU2ZvU\\u002fx4JxLBjH4j+WwbU2yUnbP3+ptu\\u002fmwOY\\u002fqNpMwsEq6T+xCa669tMGQHUd5fdG1wdAfdGYd1KD8D8kRvMKu4juP\\u002fQ+i7BWafA\\u002ffLuI5GeY4T\\u002f5V0ER63nhP\\u002fWsT8jsaNQ\\u002fO\\u002f1Xltqj7T8L\\u002fCI2+MjSPyIa3t9urtI\\u002fvLu7u7t79T9E6Yn0cccXQKb8moUknN8\\u002fneTA0kkOAEDuOIZrN8EFQNB67kY\\u002fDOg\\u002fGHTidjpL2z9KNHCLgB72P4PDXBXope8\\u002fAwMDAwMD+z+uR+F6FK7nP5RFWZRFWdQ\\u002f7tHBqLpk5D9YSZ6xdDzwPzVZXEbgqug\\u002f3JkwTS9aDUCNaB+NaB\\u002ftPzfY2SSfmAhA8PS+RVtO6T+huPLHWtXVP6bBEnNF79g\\u002f\"},\"yaxis\":\"y\",\"type\":\"bar\"},{\"hovertemplate\":\"variable=share_hispanic\\u003cbr\\u003eState=%{x}\\u003cbr\\u003evalue=%{y}\\u003cextra\\u003e\\u003c\\u002fextra\\u003e\",\"legendgroup\":\"share_hispanic\",\"marker\":{\"color\":\"#FFA15A\",\"pattern\":{\"shape\":\"\"}},\"name\":\"share_hispanic\",\"orientation\":\"v\",\"showlegend\":true,\"textposition\":\"auto\",\"x\":[\"AK\",\"AL\",\"AR\",\"AZ\",\"CA\",\"CO\",\"CT\",\"DC\",\"DE\",\"FL\",\"GA\",\"HI\",\"IA\",\"ID\",\"IL\",\"IN\",\"KS\",\"KY\",\"LA\",\"MA\",\"MD\",\"ME\",\"MI\",\"MN\",\"MO\",\"MS\",\"MT\",\"NC\",\"ND\",\"NE\",\"NH\",\"NJ\",\"NM\",\"NV\",\"NY\",\"OH\",\"OK\",\"OR\",\"PA\",\"RI\",\"SC\",\"SD\",\"TN\",\"TX\",\"UT\",\"VA\",\"VT\",\"WA\",\"WI\",\"WV\",\"WY\"],\"xaxis\":\"x\",\"y\":{\"dtype\":\"f8\",\"bdata\":\"0UUXXXQxAUDmfBOqQNcHQFSXMbSQFxFAJSZQYgIlNEDxBQzBXaY9QGiwg4sQ5jFA+0xb4+\\u002fmH0AzMzMzMzMiQLMCYaQdqx1AprWYF3WHMECjNtrSI6kZQCdErTtwtyRAcefT8F6NBkC8sdQ\\u002f62MlQAx\\u002fQKKcrhRAjC666KKLCkC\\u002fTmiLZ0kUQCb+Um3fzQFANrmlafDPB0DGKgv1y8gTQJ3LZojSuRdApORZRvQB9T\\u002fVMDs4gkgMQNlSW5gcOwlA54Q53CbrAkBpnlALGJMCQMkLLAZUiQFA21AfhMOmGUAim73nxSr9P4FK+UbbRxBAq6qqqqrq+z\\u002fvo0Nw8T4mQK9Wnuqet0ZAfY4FyudYKkBQPiHcSIQaQMNnXnUOCwFAzlos9SrJFkBvTijRwI0jQMQ93MM93AVAq6urq6urGkA+2SyK2uYRQIfRflOeSwBAxueqaHPZBkD3QSUytK5DQHkT3lMbpx5AbqSC1KGcGECmyhOmyhP2P6gegmGFNyVA0vLe6haWCkAkyyV4h+\\u002fsP5Byjt8\\u002fEhhA\"},\"yaxis\":\"y\",\"type\":\"bar\"}],                        {\"template\":{\"data\":{\"histogram2dcontour\":[{\"type\":\"histogram2dcontour\",\"colorbar\":{\"outlinewidth\":0,\"ticks\":\"\"},\"colorscale\":[[0.0,\"#0d0887\"],[0.1111111111111111,\"#46039f\"],[0.2222222222222222,\"#7201a8\"],[0.3333333333333333,\"#9c179e\"],[0.4444444444444444,\"#bd3786\"],[0.5555555555555556,\"#d8576b\"],[0.6666666666666666,\"#ed7953\"],[0.7777777777777778,\"#fb9f3a\"],[0.8888888888888888,\"#fdca26\"],[1.0,\"#f0f921\"]]}],\"choropleth\":[{\"type\":\"choropleth\",\"colorbar\":{\"outlinewidth\":0,\"ticks\":\"\"}}],\"histogram2d\":[{\"type\":\"histogram2d\",\"colorbar\":{\"outlinewidth\":0,\"ticks\":\"\"},\"colorscale\":[[0.0,\"#0d0887\"],[0.1111111111111111,\"#46039f\"],[0.2222222222222222,\"#7201a8\"],[0.3333333333333333,\"#9c179e\"],[0.4444444444444444,\"#bd3786\"],[0.5555555555555556,\"#d8576b\"],[0.6666666666666666,\"#ed7953\"],[0.7777777777777778,\"#fb9f3a\"],[0.8888888888888888,\"#fdca26\"],[1.0,\"#f0f921\"]]}],\"heatmap\":[{\"type\":\"heatmap\",\"colorbar\":{\"outlinewidth\":0,\"ticks\":\"\"},\"colorscale\":[[0.0,\"#0d0887\"],[0.1111111111111111,\"#46039f\"],[0.2222222222222222,\"#7201a8\"],[0.3333333333333333,\"#9c179e\"],[0.4444444444444444,\"#bd3786\"],[0.5555555555555556,\"#d8576b\"],[0.6666666666666666,\"#ed7953\"],[0.7777777777777778,\"#fb9f3a\"],[0.8888888888888888,\"#fdca26\"],[1.0,\"#f0f921\"]]}],\"contourcarpet\":[{\"type\":\"contourcarpet\",\"colorbar\":{\"outlinewidth\":0,\"ticks\":\"\"}}],\"contour\":[{\"type\":\"contour\",\"colorbar\":{\"outlinewidth\":0,\"ticks\":\"\"},\"colorscale\":[[0.0,\"#0d0887\"],[0.1111111111111111,\"#46039f\"],[0.2222222222222222,\"#7201a8\"],[0.3333333333333333,\"#9c179e\"],[0.4444444444444444,\"#bd3786\"],[0.5555555555555556,\"#d8576b\"],[0.6666666666666666,\"#ed7953\"],[0.7777777777777778,\"#fb9f3a\"],[0.8888888888888888,\"#fdca26\"],[1.0,\"#f0f921\"]]}],\"surface\":[{\"type\":\"surface\",\"colorbar\":{\"outlinewidth\":0,\"ticks\":\"\"},\"colorscale\":[[0.0,\"#0d0887\"],[0.1111111111111111,\"#46039f\"],[0.2222222222222222,\"#7201a8\"],[0.3333333333333333,\"#9c179e\"],[0.4444444444444444,\"#bd3786\"],[0.5555555555555556,\"#d8576b\"],[0.6666666666666666,\"#ed7953\"],[0.7777777777777778,\"#fb9f3a\"],[0.8888888888888888,\"#fdca26\"],[1.0,\"#f0f921\"]]}],\"mesh3d\":[{\"type\":\"mesh3d\",\"colorbar\":{\"outlinewidth\":0,\"ticks\":\"\"}}],\"scatter\":[{\"fillpattern\":{\"fillmode\":\"overlay\",\"size\":10,\"solidity\":0.2},\"type\":\"scatter\"}],\"parcoords\":[{\"type\":\"parcoords\",\"line\":{\"colorbar\":{\"outlinewidth\":0,\"ticks\":\"\"}}}],\"scatterpolargl\":[{\"type\":\"scatterpolargl\",\"marker\":{\"colorbar\":{\"outlinewidth\":0,\"ticks\":\"\"}}}],\"bar\":[{\"error_x\":{\"color\":\"#2a3f5f\"},\"error_y\":{\"color\":\"#2a3f5f\"},\"marker\":{\"line\":{\"color\":\"#E5ECF6\",\"width\":0.5},\"pattern\":{\"fillmode\":\"overlay\",\"size\":10,\"solidity\":0.2}},\"type\":\"bar\"}],\"scattergeo\":[{\"type\":\"scattergeo\",\"marker\":{\"colorbar\":{\"outlinewidth\":0,\"ticks\":\"\"}}}],\"scatterpolar\":[{\"type\":\"scatterpolar\",\"marker\":{\"colorbar\":{\"outlinewidth\":0,\"ticks\":\"\"}}}],\"histogram\":[{\"marker\":{\"pattern\":{\"fillmode\":\"overlay\",\"size\":10,\"solidity\":0.2}},\"type\":\"histogram\"}],\"scattergl\":[{\"type\":\"scattergl\",\"marker\":{\"colorbar\":{\"outlinewidth\":0,\"ticks\":\"\"}}}],\"scatter3d\":[{\"type\":\"scatter3d\",\"line\":{\"colorbar\":{\"outlinewidth\":0,\"ticks\":\"\"}},\"marker\":{\"colorbar\":{\"outlinewidth\":0,\"ticks\":\"\"}}}],\"scattermap\":[{\"type\":\"scattermap\",\"marker\":{\"colorbar\":{\"outlinewidth\":0,\"ticks\":\"\"}}}],\"scattermapbox\":[{\"type\":\"scattermapbox\",\"marker\":{\"colorbar\":{\"outlinewidth\":0,\"ticks\":\"\"}}}],\"scatterternary\":[{\"type\":\"scatterternary\",\"marker\":{\"colorbar\":{\"outlinewidth\":0,\"ticks\":\"\"}}}],\"scattercarpet\":[{\"type\":\"scattercarpet\",\"marker\":{\"colorbar\":{\"outlinewidth\":0,\"ticks\":\"\"}}}],\"carpet\":[{\"aaxis\":{\"endlinecolor\":\"#2a3f5f\",\"gridcolor\":\"white\",\"linecolor\":\"white\",\"minorgridcolor\":\"white\",\"startlinecolor\":\"#2a3f5f\"},\"baxis\":{\"endlinecolor\":\"#2a3f5f\",\"gridcolor\":\"white\",\"linecolor\":\"white\",\"minorgridcolor\":\"white\",\"startlinecolor\":\"#2a3f5f\"},\"type\":\"carpet\"}],\"table\":[{\"cells\":{\"fill\":{\"color\":\"#EBF0F8\"},\"line\":{\"color\":\"white\"}},\"header\":{\"fill\":{\"color\":\"#C8D4E3\"},\"line\":{\"color\":\"white\"}},\"type\":\"table\"}],\"barpolar\":[{\"marker\":{\"line\":{\"color\":\"#E5ECF6\",\"width\":0.5},\"pattern\":{\"fillmode\":\"overlay\",\"size\":10,\"solidity\":0.2}},\"type\":\"barpolar\"}],\"pie\":[{\"automargin\":true,\"type\":\"pie\"}]},\"layout\":{\"autotypenumbers\":\"strict\",\"colorway\":[\"#636efa\",\"#EF553B\",\"#00cc96\",\"#ab63fa\",\"#FFA15A\",\"#19d3f3\",\"#FF6692\",\"#B6E880\",\"#FF97FF\",\"#FECB52\"],\"font\":{\"color\":\"#2a3f5f\"},\"hovermode\":\"closest\",\"hoverlabel\":{\"align\":\"left\"},\"paper_bgcolor\":\"white\",\"plot_bgcolor\":\"#E5ECF6\",\"polar\":{\"bgcolor\":\"#E5ECF6\",\"angularaxis\":{\"gridcolor\":\"white\",\"linecolor\":\"white\",\"ticks\":\"\"},\"radialaxis\":{\"gridcolor\":\"white\",\"linecolor\":\"white\",\"ticks\":\"\"}},\"ternary\":{\"bgcolor\":\"#E5ECF6\",\"aaxis\":{\"gridcolor\":\"white\",\"linecolor\":\"white\",\"ticks\":\"\"},\"baxis\":{\"gridcolor\":\"white\",\"linecolor\":\"white\",\"ticks\":\"\"},\"caxis\":{\"gridcolor\":\"white\",\"linecolor\":\"white\",\"ticks\":\"\"}},\"coloraxis\":{\"colorbar\":{\"outlinewidth\":0,\"ticks\":\"\"}},\"colorscale\":{\"sequential\":[[0.0,\"#0d0887\"],[0.1111111111111111,\"#46039f\"],[0.2222222222222222,\"#7201a8\"],[0.3333333333333333,\"#9c179e\"],[0.4444444444444444,\"#bd3786\"],[0.5555555555555556,\"#d8576b\"],[0.6666666666666666,\"#ed7953\"],[0.7777777777777778,\"#fb9f3a\"],[0.8888888888888888,\"#fdca26\"],[1.0,\"#f0f921\"]],\"sequentialminus\":[[0.0,\"#0d0887\"],[0.1111111111111111,\"#46039f\"],[0.2222222222222222,\"#7201a8\"],[0.3333333333333333,\"#9c179e\"],[0.4444444444444444,\"#bd3786\"],[0.5555555555555556,\"#d8576b\"],[0.6666666666666666,\"#ed7953\"],[0.7777777777777778,\"#fb9f3a\"],[0.8888888888888888,\"#fdca26\"],[1.0,\"#f0f921\"]],\"diverging\":[[0,\"#8e0152\"],[0.1,\"#c51b7d\"],[0.2,\"#de77ae\"],[0.3,\"#f1b6da\"],[0.4,\"#fde0ef\"],[0.5,\"#f7f7f7\"],[0.6,\"#e6f5d0\"],[0.7,\"#b8e186\"],[0.8,\"#7fbc41\"],[0.9,\"#4d9221\"],[1,\"#276419\"]]},\"xaxis\":{\"gridcolor\":\"white\",\"linecolor\":\"white\",\"ticks\":\"\",\"title\":{\"standoff\":15},\"zerolinecolor\":\"white\",\"automargin\":true,\"zerolinewidth\":2},\"yaxis\":{\"gridcolor\":\"white\",\"linecolor\":\"white\",\"ticks\":\"\",\"title\":{\"standoff\":15},\"zerolinecolor\":\"white\",\"automargin\":true,\"zerolinewidth\":2},\"scene\":{\"xaxis\":{\"backgroundcolor\":\"#E5ECF6\",\"gridcolor\":\"white\",\"linecolor\":\"white\",\"showbackground\":true,\"ticks\":\"\",\"zerolinecolor\":\"white\",\"gridwidth\":2},\"yaxis\":{\"backgroundcolor\":\"#E5ECF6\",\"gridcolor\":\"white\",\"linecolor\":\"white\",\"showbackground\":true,\"ticks\":\"\",\"zerolinecolor\":\"white\",\"gridwidth\":2},\"zaxis\":{\"backgroundcolor\":\"#E5ECF6\",\"gridcolor\":\"white\",\"linecolor\":\"white\",\"showbackground\":true,\"ticks\":\"\",\"zerolinecolor\":\"white\",\"gridwidth\":2}},\"shapedefaults\":{\"line\":{\"color\":\"#2a3f5f\"}},\"annotationdefaults\":{\"arrowcolor\":\"#2a3f5f\",\"arrowhead\":0,\"arrowwidth\":1},\"geo\":{\"bgcolor\":\"white\",\"landcolor\":\"#E5ECF6\",\"subunitcolor\":\"white\",\"showland\":true,\"showlakes\":true,\"lakecolor\":\"white\"},\"title\":{\"x\":0.05},\"mapbox\":{\"style\":\"light\"}}},\"xaxis\":{\"anchor\":\"y\",\"domain\":[0.0,1.0],\"title\":{\"text\":\"State\"}},\"yaxis\":{\"anchor\":\"x\",\"domain\":[0.0,1.0],\"title\":{\"text\":\"value\"}},\"legend\":{\"title\":{\"text\":\"variable\"},\"tracegroupgap\":0},\"title\":{\"text\":\"Racial Makeup of Each US State\"},\"barmode\":\"relative\"},                        {\"responsive\": true}                    ).then(function(){\n",
              "                            \n",
              "var gd = document.getElementById('b1ffa3a4-4994-485f-9b32-6383f86d506e');\n",
              "var x = new MutationObserver(function (mutations, observer) {{\n",
              "        var display = window.getComputedStyle(gd).display;\n",
              "        if (!display || display === 'none') {{\n",
              "            console.log([gd, 'removed!']);\n",
              "            Plotly.purge(gd);\n",
              "            observer.disconnect();\n",
              "        }}\n",
              "}});\n",
              "\n",
              "// Listen for the removal of the full notebook cells\n",
              "var notebookContainer = gd.closest('#notebook-container');\n",
              "if (notebookContainer) {{\n",
              "    x.observe(notebookContainer, {childList: true});\n",
              "}}\n",
              "\n",
              "// Listen for the clearing of the current output cell\n",
              "var outputEl = gd.closest('.output');\n",
              "if (outputEl) {{\n",
              "    x.observe(outputEl, {childList: true});\n",
              "}}\n",
              "\n",
              "                        })                };            </script>        </div>\n",
              "</body>\n",
              "</html>"
            ]
          },
          "metadata": {}
        }
      ]
    },
    {
      "cell_type": "markdown",
      "source": [
        "Most states have a majority **White** population (blue bars), often making up **70%–90%** of the state population. States in the Midwest (e.g., **Iowa, North Dakota, South Dakota, Vermont, Maine**) show some of the **highest White shares**, with very small minority populations.\n",
        "\n",
        "**Southern states** such as **Mississippi, Georgia, South Carolina, Alabama, and Louisiana** show **large Black populations** (red segments). These states often have **20–35% Black populations**, reflecting historic settlement patterns.\n",
        "\n",
        "**New Mexico and Texas** stand out with very **high Hispanic shares** (orange segments). Other southwestern states like **California, Arizona, and Nevada** also have significant Hispanic populations. In **New Mexico**, Hispanics may make up the **largest share**, rivaling or exceeding the White population.\n",
        "\n",
        "**Alaska, Oklahoma, New Mexico, Arizona, and South Dakota** show larger **Native American populations** (green segments). This reflects both tribal homelands and reservation areas.\n",
        "\n",
        "**Hawaii** is unique, with a very large **Asian population** (purple segment) — in fact, Asians are the **largest group** there. Other states with noticeable Asian populations include **California, New York, and New Jersey**.\n",
        "\n",
        "**Least diverse states:** Mostly rural, northern states like **Maine, Vermont, New Hampshire, West Virginia, and Montana**, which are overwhelmingly White. **Most diverse states:** **Hawaii, California, Texas, New Mexico, and Nevada**, which have large shares of Hispanic, Asian, and/or Native American populations.\n"
      ],
      "metadata": {
        "id": "U6PbNKX7w-KQ"
      }
    },
    {
      "cell_type": "markdown",
      "metadata": {
        "id": "kr-8Rezn3Bep"
      },
      "source": [
        "# Create a Chart Comparing the Total Number of Deaths of Men and Women\n",
        "\n",
        "Use `df_fatalities` to illustrate how many more men are killed compared to women."
      ]
    },
    {
      "cell_type": "code",
      "metadata": {
        "id": "joH1L4303BsJ",
        "colab": {
          "base_uri": "https://localhost:8080/",
          "height": 542
        },
        "outputId": "f8273ec3-0880-4a14-ee89-f88df9bb85cd"
      },
      "source": [
        "# Count number of fatalities by gender\n",
        "gender_counts = df_fatalities[\"gender\"].value_counts().reset_index()\n",
        "gender_counts.columns = [\"Gender\", \"Deaths\"]\n",
        "\n",
        "# Bar chart\n",
        "fig = px.bar(\n",
        "    gender_counts,\n",
        "    x=\"Gender\",\n",
        "    y=\"Deaths\",\n",
        "    text=\"Deaths\",\n",
        "    color=\"Gender\",\n",
        "    title=\"Total Number of Deaths of Men and Women\",\n",
        "    labels={\"Deaths\": \"Number of Deaths\"}\n",
        ")\n",
        "\n",
        "fig.update_traces(textposition=\"outside\")\n",
        "fig.show()"
      ],
      "execution_count": 16,
      "outputs": [
        {
          "output_type": "display_data",
          "data": {
            "text/html": [
              "<html>\n",
              "<head><meta charset=\"utf-8\" /></head>\n",
              "<body>\n",
              "    <div>            <script src=\"https://cdnjs.cloudflare.com/ajax/libs/mathjax/2.7.5/MathJax.js?config=TeX-AMS-MML_SVG\"></script><script type=\"text/javascript\">if (window.MathJax && window.MathJax.Hub && window.MathJax.Hub.Config) {window.MathJax.Hub.Config({SVG: {font: \"STIX-Web\"}});}</script>                <script type=\"text/javascript\">window.PlotlyConfig = {MathJaxConfig: 'local'};</script>\n",
              "        <script charset=\"utf-8\" src=\"https://cdn.plot.ly/plotly-3.1.0.min.js\" integrity=\"sha256-Ei4740bWZhaUTQuD6q9yQlgVCMPBz6CZWhevDYPv93A=\" crossorigin=\"anonymous\"></script>                <div id=\"56821d58-dc9c-4888-8aa0-81f4dfb5940d\" class=\"plotly-graph-div\" style=\"height:525px; width:100%;\"></div>            <script type=\"text/javascript\">                window.PLOTLYENV=window.PLOTLYENV || {};                                if (document.getElementById(\"56821d58-dc9c-4888-8aa0-81f4dfb5940d\")) {                    Plotly.newPlot(                        \"56821d58-dc9c-4888-8aa0-81f4dfb5940d\",                        [{\"hovertemplate\":\"Gender=%{x}\\u003cbr\\u003eNumber of Deaths=%{text}\\u003cextra\\u003e\\u003c\\u002fextra\\u003e\",\"legendgroup\":\"M\",\"marker\":{\"color\":\"#636efa\",\"pattern\":{\"shape\":\"\"}},\"name\":\"M\",\"orientation\":\"v\",\"showlegend\":true,\"text\":{\"dtype\":\"f8\",\"bdata\":\"AAAAAAD4okA=\"},\"textposition\":\"outside\",\"x\":[\"M\"],\"xaxis\":\"x\",\"y\":{\"dtype\":\"i2\",\"bdata\":\"fAk=\"},\"yaxis\":\"y\",\"type\":\"bar\"},{\"hovertemplate\":\"Gender=%{x}\\u003cbr\\u003eNumber of Deaths=%{text}\\u003cextra\\u003e\\u003c\\u002fextra\\u003e\",\"legendgroup\":\"F\",\"marker\":{\"color\":\"#EF553B\",\"pattern\":{\"shape\":\"\"}},\"name\":\"F\",\"orientation\":\"v\",\"showlegend\":true,\"text\":{\"dtype\":\"f8\",\"bdata\":\"AAAAAADAWkA=\"},\"textposition\":\"outside\",\"x\":[\"F\"],\"xaxis\":\"x\",\"y\":{\"dtype\":\"i1\",\"bdata\":\"aw==\"},\"yaxis\":\"y\",\"type\":\"bar\"}],                        {\"template\":{\"data\":{\"histogram2dcontour\":[{\"type\":\"histogram2dcontour\",\"colorbar\":{\"outlinewidth\":0,\"ticks\":\"\"},\"colorscale\":[[0.0,\"#0d0887\"],[0.1111111111111111,\"#46039f\"],[0.2222222222222222,\"#7201a8\"],[0.3333333333333333,\"#9c179e\"],[0.4444444444444444,\"#bd3786\"],[0.5555555555555556,\"#d8576b\"],[0.6666666666666666,\"#ed7953\"],[0.7777777777777778,\"#fb9f3a\"],[0.8888888888888888,\"#fdca26\"],[1.0,\"#f0f921\"]]}],\"choropleth\":[{\"type\":\"choropleth\",\"colorbar\":{\"outlinewidth\":0,\"ticks\":\"\"}}],\"histogram2d\":[{\"type\":\"histogram2d\",\"colorbar\":{\"outlinewidth\":0,\"ticks\":\"\"},\"colorscale\":[[0.0,\"#0d0887\"],[0.1111111111111111,\"#46039f\"],[0.2222222222222222,\"#7201a8\"],[0.3333333333333333,\"#9c179e\"],[0.4444444444444444,\"#bd3786\"],[0.5555555555555556,\"#d8576b\"],[0.6666666666666666,\"#ed7953\"],[0.7777777777777778,\"#fb9f3a\"],[0.8888888888888888,\"#fdca26\"],[1.0,\"#f0f921\"]]}],\"heatmap\":[{\"type\":\"heatmap\",\"colorbar\":{\"outlinewidth\":0,\"ticks\":\"\"},\"colorscale\":[[0.0,\"#0d0887\"],[0.1111111111111111,\"#46039f\"],[0.2222222222222222,\"#7201a8\"],[0.3333333333333333,\"#9c179e\"],[0.4444444444444444,\"#bd3786\"],[0.5555555555555556,\"#d8576b\"],[0.6666666666666666,\"#ed7953\"],[0.7777777777777778,\"#fb9f3a\"],[0.8888888888888888,\"#fdca26\"],[1.0,\"#f0f921\"]]}],\"contourcarpet\":[{\"type\":\"contourcarpet\",\"colorbar\":{\"outlinewidth\":0,\"ticks\":\"\"}}],\"contour\":[{\"type\":\"contour\",\"colorbar\":{\"outlinewidth\":0,\"ticks\":\"\"},\"colorscale\":[[0.0,\"#0d0887\"],[0.1111111111111111,\"#46039f\"],[0.2222222222222222,\"#7201a8\"],[0.3333333333333333,\"#9c179e\"],[0.4444444444444444,\"#bd3786\"],[0.5555555555555556,\"#d8576b\"],[0.6666666666666666,\"#ed7953\"],[0.7777777777777778,\"#fb9f3a\"],[0.8888888888888888,\"#fdca26\"],[1.0,\"#f0f921\"]]}],\"surface\":[{\"type\":\"surface\",\"colorbar\":{\"outlinewidth\":0,\"ticks\":\"\"},\"colorscale\":[[0.0,\"#0d0887\"],[0.1111111111111111,\"#46039f\"],[0.2222222222222222,\"#7201a8\"],[0.3333333333333333,\"#9c179e\"],[0.4444444444444444,\"#bd3786\"],[0.5555555555555556,\"#d8576b\"],[0.6666666666666666,\"#ed7953\"],[0.7777777777777778,\"#fb9f3a\"],[0.8888888888888888,\"#fdca26\"],[1.0,\"#f0f921\"]]}],\"mesh3d\":[{\"type\":\"mesh3d\",\"colorbar\":{\"outlinewidth\":0,\"ticks\":\"\"}}],\"scatter\":[{\"fillpattern\":{\"fillmode\":\"overlay\",\"size\":10,\"solidity\":0.2},\"type\":\"scatter\"}],\"parcoords\":[{\"type\":\"parcoords\",\"line\":{\"colorbar\":{\"outlinewidth\":0,\"ticks\":\"\"}}}],\"scatterpolargl\":[{\"type\":\"scatterpolargl\",\"marker\":{\"colorbar\":{\"outlinewidth\":0,\"ticks\":\"\"}}}],\"bar\":[{\"error_x\":{\"color\":\"#2a3f5f\"},\"error_y\":{\"color\":\"#2a3f5f\"},\"marker\":{\"line\":{\"color\":\"#E5ECF6\",\"width\":0.5},\"pattern\":{\"fillmode\":\"overlay\",\"size\":10,\"solidity\":0.2}},\"type\":\"bar\"}],\"scattergeo\":[{\"type\":\"scattergeo\",\"marker\":{\"colorbar\":{\"outlinewidth\":0,\"ticks\":\"\"}}}],\"scatterpolar\":[{\"type\":\"scatterpolar\",\"marker\":{\"colorbar\":{\"outlinewidth\":0,\"ticks\":\"\"}}}],\"histogram\":[{\"marker\":{\"pattern\":{\"fillmode\":\"overlay\",\"size\":10,\"solidity\":0.2}},\"type\":\"histogram\"}],\"scattergl\":[{\"type\":\"scattergl\",\"marker\":{\"colorbar\":{\"outlinewidth\":0,\"ticks\":\"\"}}}],\"scatter3d\":[{\"type\":\"scatter3d\",\"line\":{\"colorbar\":{\"outlinewidth\":0,\"ticks\":\"\"}},\"marker\":{\"colorbar\":{\"outlinewidth\":0,\"ticks\":\"\"}}}],\"scattermap\":[{\"type\":\"scattermap\",\"marker\":{\"colorbar\":{\"outlinewidth\":0,\"ticks\":\"\"}}}],\"scattermapbox\":[{\"type\":\"scattermapbox\",\"marker\":{\"colorbar\":{\"outlinewidth\":0,\"ticks\":\"\"}}}],\"scatterternary\":[{\"type\":\"scatterternary\",\"marker\":{\"colorbar\":{\"outlinewidth\":0,\"ticks\":\"\"}}}],\"scattercarpet\":[{\"type\":\"scattercarpet\",\"marker\":{\"colorbar\":{\"outlinewidth\":0,\"ticks\":\"\"}}}],\"carpet\":[{\"aaxis\":{\"endlinecolor\":\"#2a3f5f\",\"gridcolor\":\"white\",\"linecolor\":\"white\",\"minorgridcolor\":\"white\",\"startlinecolor\":\"#2a3f5f\"},\"baxis\":{\"endlinecolor\":\"#2a3f5f\",\"gridcolor\":\"white\",\"linecolor\":\"white\",\"minorgridcolor\":\"white\",\"startlinecolor\":\"#2a3f5f\"},\"type\":\"carpet\"}],\"table\":[{\"cells\":{\"fill\":{\"color\":\"#EBF0F8\"},\"line\":{\"color\":\"white\"}},\"header\":{\"fill\":{\"color\":\"#C8D4E3\"},\"line\":{\"color\":\"white\"}},\"type\":\"table\"}],\"barpolar\":[{\"marker\":{\"line\":{\"color\":\"#E5ECF6\",\"width\":0.5},\"pattern\":{\"fillmode\":\"overlay\",\"size\":10,\"solidity\":0.2}},\"type\":\"barpolar\"}],\"pie\":[{\"automargin\":true,\"type\":\"pie\"}]},\"layout\":{\"autotypenumbers\":\"strict\",\"colorway\":[\"#636efa\",\"#EF553B\",\"#00cc96\",\"#ab63fa\",\"#FFA15A\",\"#19d3f3\",\"#FF6692\",\"#B6E880\",\"#FF97FF\",\"#FECB52\"],\"font\":{\"color\":\"#2a3f5f\"},\"hovermode\":\"closest\",\"hoverlabel\":{\"align\":\"left\"},\"paper_bgcolor\":\"white\",\"plot_bgcolor\":\"#E5ECF6\",\"polar\":{\"bgcolor\":\"#E5ECF6\",\"angularaxis\":{\"gridcolor\":\"white\",\"linecolor\":\"white\",\"ticks\":\"\"},\"radialaxis\":{\"gridcolor\":\"white\",\"linecolor\":\"white\",\"ticks\":\"\"}},\"ternary\":{\"bgcolor\":\"#E5ECF6\",\"aaxis\":{\"gridcolor\":\"white\",\"linecolor\":\"white\",\"ticks\":\"\"},\"baxis\":{\"gridcolor\":\"white\",\"linecolor\":\"white\",\"ticks\":\"\"},\"caxis\":{\"gridcolor\":\"white\",\"linecolor\":\"white\",\"ticks\":\"\"}},\"coloraxis\":{\"colorbar\":{\"outlinewidth\":0,\"ticks\":\"\"}},\"colorscale\":{\"sequential\":[[0.0,\"#0d0887\"],[0.1111111111111111,\"#46039f\"],[0.2222222222222222,\"#7201a8\"],[0.3333333333333333,\"#9c179e\"],[0.4444444444444444,\"#bd3786\"],[0.5555555555555556,\"#d8576b\"],[0.6666666666666666,\"#ed7953\"],[0.7777777777777778,\"#fb9f3a\"],[0.8888888888888888,\"#fdca26\"],[1.0,\"#f0f921\"]],\"sequentialminus\":[[0.0,\"#0d0887\"],[0.1111111111111111,\"#46039f\"],[0.2222222222222222,\"#7201a8\"],[0.3333333333333333,\"#9c179e\"],[0.4444444444444444,\"#bd3786\"],[0.5555555555555556,\"#d8576b\"],[0.6666666666666666,\"#ed7953\"],[0.7777777777777778,\"#fb9f3a\"],[0.8888888888888888,\"#fdca26\"],[1.0,\"#f0f921\"]],\"diverging\":[[0,\"#8e0152\"],[0.1,\"#c51b7d\"],[0.2,\"#de77ae\"],[0.3,\"#f1b6da\"],[0.4,\"#fde0ef\"],[0.5,\"#f7f7f7\"],[0.6,\"#e6f5d0\"],[0.7,\"#b8e186\"],[0.8,\"#7fbc41\"],[0.9,\"#4d9221\"],[1,\"#276419\"]]},\"xaxis\":{\"gridcolor\":\"white\",\"linecolor\":\"white\",\"ticks\":\"\",\"title\":{\"standoff\":15},\"zerolinecolor\":\"white\",\"automargin\":true,\"zerolinewidth\":2},\"yaxis\":{\"gridcolor\":\"white\",\"linecolor\":\"white\",\"ticks\":\"\",\"title\":{\"standoff\":15},\"zerolinecolor\":\"white\",\"automargin\":true,\"zerolinewidth\":2},\"scene\":{\"xaxis\":{\"backgroundcolor\":\"#E5ECF6\",\"gridcolor\":\"white\",\"linecolor\":\"white\",\"showbackground\":true,\"ticks\":\"\",\"zerolinecolor\":\"white\",\"gridwidth\":2},\"yaxis\":{\"backgroundcolor\":\"#E5ECF6\",\"gridcolor\":\"white\",\"linecolor\":\"white\",\"showbackground\":true,\"ticks\":\"\",\"zerolinecolor\":\"white\",\"gridwidth\":2},\"zaxis\":{\"backgroundcolor\":\"#E5ECF6\",\"gridcolor\":\"white\",\"linecolor\":\"white\",\"showbackground\":true,\"ticks\":\"\",\"zerolinecolor\":\"white\",\"gridwidth\":2}},\"shapedefaults\":{\"line\":{\"color\":\"#2a3f5f\"}},\"annotationdefaults\":{\"arrowcolor\":\"#2a3f5f\",\"arrowhead\":0,\"arrowwidth\":1},\"geo\":{\"bgcolor\":\"white\",\"landcolor\":\"#E5ECF6\",\"subunitcolor\":\"white\",\"showland\":true,\"showlakes\":true,\"lakecolor\":\"white\"},\"title\":{\"x\":0.05},\"mapbox\":{\"style\":\"light\"}}},\"xaxis\":{\"anchor\":\"y\",\"domain\":[0.0,1.0],\"title\":{\"text\":\"Gender\"},\"categoryorder\":\"array\",\"categoryarray\":[\"M\",\"F\"]},\"yaxis\":{\"anchor\":\"x\",\"domain\":[0.0,1.0],\"title\":{\"text\":\"Number of Deaths\"}},\"legend\":{\"title\":{\"text\":\"Gender\"},\"tracegroupgap\":0},\"title\":{\"text\":\"Total Number of Deaths of Men and Women\"},\"barmode\":\"relative\"},                        {\"responsive\": true}                    ).then(function(){\n",
              "                            \n",
              "var gd = document.getElementById('56821d58-dc9c-4888-8aa0-81f4dfb5940d');\n",
              "var x = new MutationObserver(function (mutations, observer) {{\n",
              "        var display = window.getComputedStyle(gd).display;\n",
              "        if (!display || display === 'none') {{\n",
              "            console.log([gd, 'removed!']);\n",
              "            Plotly.purge(gd);\n",
              "            observer.disconnect();\n",
              "        }}\n",
              "}});\n",
              "\n",
              "// Listen for the removal of the full notebook cells\n",
              "var notebookContainer = gd.closest('#notebook-container');\n",
              "if (notebookContainer) {{\n",
              "    x.observe(notebookContainer, {childList: true});\n",
              "}}\n",
              "\n",
              "// Listen for the clearing of the current output cell\n",
              "var outputEl = gd.closest('.output');\n",
              "if (outputEl) {{\n",
              "    x.observe(outputEl, {childList: true});\n",
              "}}\n",
              "\n",
              "                        })                };            </script>        </div>\n",
              "</body>\n",
              "</html>"
            ]
          },
          "metadata": {}
        }
      ]
    },
    {
      "cell_type": "markdown",
      "source": [
        "The number of male deaths is much higher than female deaths."
      ],
      "metadata": {
        "id": "EAwBzg5o4hsh"
      }
    },
    {
      "cell_type": "markdown",
      "metadata": {
        "_uuid": "cd1531c8421bfb6967cebf7039056779f9b960a6",
        "id": "ZxbBdvM0uRpQ"
      },
      "source": [
        "# Create a Box Plot Showing the Age and Manner of Death\n",
        "\n",
        "Break out the data by gender using `df_fatalities`. Is there a difference between men and women in the manner of death?"
      ]
    },
    {
      "cell_type": "code",
      "metadata": {
        "id": "WdPPZLJY2shA",
        "colab": {
          "base_uri": "https://localhost:8080/",
          "height": 542
        },
        "outputId": "526523a8-b4e7-4ff4-b36d-1cee94aec324"
      },
      "source": [
        "fig = px.box(df_fatalities,\n",
        "             x=\"manner_of_death\",\n",
        "             y=\"age\",\n",
        "             color=\"gender\",\n",
        "             title=\"Age and Manner of Death by Gender\")\n",
        "fig.show()"
      ],
      "execution_count": 17,
      "outputs": [
        {
          "output_type": "display_data",
          "data": {
            "text/html": [
              "<html>\n",
              "<head><meta charset=\"utf-8\" /></head>\n",
              "<body>\n",
              "    <div>            <script src=\"https://cdnjs.cloudflare.com/ajax/libs/mathjax/2.7.5/MathJax.js?config=TeX-AMS-MML_SVG\"></script><script type=\"text/javascript\">if (window.MathJax && window.MathJax.Hub && window.MathJax.Hub.Config) {window.MathJax.Hub.Config({SVG: {font: \"STIX-Web\"}});}</script>                <script type=\"text/javascript\">window.PlotlyConfig = {MathJaxConfig: 'local'};</script>\n",
              "        <script charset=\"utf-8\" src=\"https://cdn.plot.ly/plotly-3.1.0.min.js\" integrity=\"sha256-Ei4740bWZhaUTQuD6q9yQlgVCMPBz6CZWhevDYPv93A=\" crossorigin=\"anonymous\"></script>                <div id=\"185f6fe5-6317-4756-a0de-bc26da0a7d68\" class=\"plotly-graph-div\" style=\"height:525px; width:100%;\"></div>            <script type=\"text/javascript\">                window.PLOTLYENV=window.PLOTLYENV || {};                                if (document.getElementById(\"185f6fe5-6317-4756-a0de-bc26da0a7d68\")) {                    Plotly.newPlot(                        \"185f6fe5-6317-4756-a0de-bc26da0a7d68\",                        [{\"alignmentgroup\":\"True\",\"hovertemplate\":\"gender=M\\u003cbr\\u003emanner_of_death=%{x}\\u003cbr\\u003eage=%{y}\\u003cextra\\u003e\\u003c\\u002fextra\\u003e\",\"legendgroup\":\"M\",\"marker\":{\"color\":\"#636efa\"},\"name\":\"M\",\"notched\":false,\"offsetgroup\":\"M\",\"orientation\":\"v\",\"showlegend\":true,\"x\":[\"shot\",\"shot\",\"shot and Tasered\",\"shot\",\"shot\",\"shot\",\"shot\",\"shot\",\"shot\",\"shot and Tasered\",\"shot\",\"shot\",\"shot\",\"shot\",\"shot\",\"shot\",\"shot\",\"shot\",\"shot\",\"shot\",\"shot\",\"shot\",\"shot and Tasered\",\"shot\",\"shot\",\"shot\",\"shot\",\"shot\",\"shot\",\"shot\",\"shot\",\"shot\",\"shot\",\"shot\",\"shot\",\"shot\",\"shot\",\"shot and Tasered\",\"shot\",\"shot\",\"shot\",\"shot\",\"shot and Tasered\",\"shot\",\"shot\",\"shot\",\"shot\",\"shot\",\"shot\",\"shot\",\"shot\",\"shot\",\"shot\",\"shot\",\"shot\",\"shot\",\"shot\",\"shot\",\"shot\",\"shot\",\"shot\",\"shot\",\"shot\",\"shot\",\"shot\",\"shot and Tasered\",\"shot\",\"shot\",\"shot\",\"shot\",\"shot\",\"shot and Tasered\",\"shot\",\"shot\",\"shot\",\"shot\",\"shot\",\"shot\",\"shot\",\"shot\",\"shot\",\"shot\",\"shot\",\"shot\",\"shot\",\"shot\",\"shot\",\"shot\",\"shot\",\"shot\",\"shot\",\"shot\",\"shot\",\"shot\",\"shot\",\"shot and Tasered\",\"shot\",\"shot\",\"shot\",\"shot\",\"shot\",\"shot\",\"shot\",\"shot\",\"shot\",\"shot\",\"shot\",\"shot and Tasered\",\"shot\",\"shot\",\"shot\",\"shot\",\"shot\",\"shot\",\"shot\",\"shot\",\"shot\",\"shot\",\"shot\",\"shot\",\"shot\",\"shot\",\"shot\",\"shot\",\"shot and Tasered\",\"shot and Tasered\",\"shot\",\"shot\",\"shot\",\"shot\",\"shot and Tasered\",\"shot\",\"shot\",\"shot and Tasered\",\"shot\",\"shot\",\"shot\",\"shot\",\"shot\",\"shot and Tasered\",\"shot\",\"shot\",\"shot\",\"shot\",\"shot and Tasered\",\"shot\",\"shot\",\"shot\",\"shot\",\"shot\",\"shot\",\"shot\",\"shot\",\"shot\",\"shot\",\"shot\",\"shot\",\"shot\",\"shot\",\"shot\",\"shot\",\"shot\",\"shot\",\"shot\",\"shot\",\"shot\",\"shot\",\"shot\",\"shot\",\"shot\",\"shot\",\"shot\",\"shot\",\"shot\",\"shot\",\"shot\",\"shot\",\"shot\",\"shot\",\"shot\",\"shot\",\"shot\",\"shot\",\"shot\",\"shot\",\"shot\",\"shot\",\"shot\",\"shot\",\"shot\",\"shot\",\"shot\",\"shot\",\"shot\",\"shot\",\"shot\",\"shot\",\"shot\",\"shot\",\"shot\",\"shot\",\"shot\",\"shot\",\"shot\",\"shot\",\"shot\",\"shot and Tasered\",\"shot and Tasered\",\"shot\",\"shot\",\"shot\",\"shot\",\"shot\",\"shot\",\"shot\",\"shot and Tasered\",\"shot\",\"shot\",\"shot\",\"shot\",\"shot\",\"shot\",\"shot\",\"shot\",\"shot\",\"shot\",\"shot\",\"shot\",\"shot\",\"shot\",\"shot\",\"shot\",\"shot and Tasered\",\"shot\",\"shot\",\"shot\",\"shot\",\"shot and Tasered\",\"shot\",\"shot\",\"shot\",\"shot\",\"shot\",\"shot\",\"shot\",\"shot\",\"shot\",\"shot\",\"shot\",\"shot\",\"shot and Tasered\",\"shot\",\"shot\",\"shot\",\"shot\",\"shot\",\"shot\",\"shot\",\"shot\",\"shot\",\"shot\",\"shot\",\"shot\",\"shot\",\"shot\",\"shot\",\"shot\",\"shot\",\"shot\",\"shot\",\"shot\",\"shot\",\"shot\",\"shot\",\"shot\",\"shot\",\"shot\",\"shot\",\"shot\",\"shot\",\"shot\",\"shot\",\"shot\",\"shot\",\"shot\",\"shot\",\"shot\",\"shot\",\"shot\",\"shot\",\"shot\",\"shot\",\"shot\",\"shot\",\"shot\",\"shot\",\"shot\",\"shot\",\"shot\",\"shot\",\"shot\",\"shot\",\"shot\",\"shot\",\"shot\",\"shot\",\"shot\",\"shot\",\"shot\",\"shot\",\"shot and Tasered\",\"shot\",\"shot\",\"shot\",\"shot\",\"shot\",\"shot\",\"shot\",\"shot\",\"shot\",\"shot\",\"shot\",\"shot\",\"shot\",\"shot\",\"shot\",\"shot\",\"shot\",\"shot\",\"shot\",\"shot\",\"shot\",\"shot\",\"shot\",\"shot and Tasered\",\"shot\",\"shot\",\"shot\",\"shot\",\"shot\",\"shot\",\"shot\",\"shot\",\"shot\",\"shot\",\"shot\",\"shot\",\"shot\",\"shot and Tasered\",\"shot\",\"shot\",\"shot\",\"shot\",\"shot\",\"shot\",\"shot\",\"shot\",\"shot\",\"shot\",\"shot\",\"shot\",\"shot\",\"shot\",\"shot\",\"shot\",\"shot\",\"shot\",\"shot and Tasered\",\"shot and Tasered\",\"shot\",\"shot\",\"shot\",\"shot and Tasered\",\"shot\",\"shot\",\"shot\",\"shot\",\"shot\",\"shot\",\"shot\",\"shot\",\"shot\",\"shot\",\"shot\",\"shot and Tasered\",\"shot\",\"shot\",\"shot\",\"shot\",\"shot and Tasered\",\"shot\",\"shot\",\"shot\",\"shot\",\"shot\",\"shot\",\"shot\",\"shot\",\"shot\",\"shot\",\"shot\",\"shot\",\"shot\",\"shot\",\"shot\",\"shot\",\"shot\",\"shot\",\"shot\",\"shot\",\"shot\",\"shot\",\"shot\",\"shot\",\"shot\",\"shot\",\"shot\",\"shot\",\"shot\",\"shot\",\"shot\",\"shot\",\"shot\",\"shot\",\"shot\",\"shot\",\"shot\",\"shot\",\"shot\",\"shot\",\"shot\",\"shot\",\"shot\",\"shot\",\"shot\",\"shot\",\"shot\",\"shot\",\"shot\",\"shot\",\"shot\",\"shot\",\"shot\",\"shot\",\"shot\",\"shot\",\"shot\",\"shot\",\"shot and Tasered\",\"shot\",\"shot\",\"shot\",\"shot\",\"shot\",\"shot\",\"shot\",\"shot\",\"shot\",\"shot and Tasered\",\"shot\",\"shot\",\"shot\",\"shot and Tasered\",\"shot and Tasered\",\"shot\",\"shot\",\"shot\",\"shot\",\"shot\",\"shot\",\"shot\",\"shot\",\"shot\",\"shot\",\"shot\",\"shot\",\"shot\",\"shot\",\"shot\",\"shot and Tasered\",\"shot\",\"shot\",\"shot\",\"shot\",\"shot\",\"shot\",\"shot and Tasered\",\"shot\",\"shot\",\"shot\",\"shot\",\"shot\",\"shot\",\"shot and Tasered\",\"shot\",\"shot\",\"shot and Tasered\",\"shot and Tasered\",\"shot\",\"shot\",\"shot\",\"shot\",\"shot\",\"shot\",\"shot\",\"shot and Tasered\",\"shot\",\"shot\",\"shot\",\"shot\",\"shot\",\"shot\",\"shot\",\"shot\",\"shot\",\"shot\",\"shot\",\"shot\",\"shot\",\"shot and Tasered\",\"shot\",\"shot\",\"shot and Tasered\",\"shot\",\"shot\",\"shot\",\"shot and Tasered\",\"shot\",\"shot\",\"shot\",\"shot\",\"shot\",\"shot\",\"shot\",\"shot\",\"shot and Tasered\",\"shot\",\"shot\",\"shot\",\"shot\",\"shot\",\"shot\",\"shot and Tasered\",\"shot\",\"shot\",\"shot\",\"shot\",\"shot\",\"shot\",\"shot\",\"shot\",\"shot\",\"shot\",\"shot\",\"shot\",\"shot\",\"shot\",\"shot\",\"shot\",\"shot\",\"shot\",\"shot\",\"shot\",\"shot\",\"shot\",\"shot\",\"shot\",\"shot\",\"shot\",\"shot\",\"shot\",\"shot\",\"shot\",\"shot\",\"shot\",\"shot\",\"shot\",\"shot\",\"shot and Tasered\",\"shot\",\"shot\",\"shot\",\"shot\",\"shot\",\"shot\",\"shot\",\"shot\",\"shot and Tasered\",\"shot and Tasered\",\"shot\",\"shot\",\"shot\",\"shot\",\"shot\",\"shot\",\"shot\",\"shot\",\"shot\",\"shot\",\"shot\",\"shot\",\"shot and Tasered\",\"shot\",\"shot\",\"shot\",\"shot\",\"shot\",\"shot and Tasered\",\"shot\",\"shot\",\"shot\",\"shot\",\"shot\",\"shot\",\"shot\",\"shot\",\"shot\",\"shot\",\"shot\",\"shot\",\"shot\",\"shot\",\"shot\",\"shot\",\"shot and Tasered\",\"shot\",\"shot\",\"shot\",\"shot\",\"shot\",\"shot\",\"shot\",\"shot\",\"shot\",\"shot\",\"shot\",\"shot\",\"shot\",\"shot\",\"shot\",\"shot\",\"shot\",\"shot\",\"shot\",\"shot and Tasered\",\"shot\",\"shot\",\"shot\",\"shot\",\"shot\",\"shot\",\"shot\",\"shot\",\"shot\",\"shot\",\"shot\",\"shot\",\"shot\",\"shot\",\"shot\",\"shot\",\"shot\",\"shot\",\"shot\",\"shot\",\"shot\",\"shot\",\"shot\",\"shot\",\"shot\",\"shot\",\"shot\",\"shot\",\"shot\",\"shot\",\"shot\",\"shot\",\"shot\",\"shot\",\"shot\",\"shot\",\"shot\",\"shot\",\"shot\",\"shot\",\"shot\",\"shot\",\"shot\",\"shot\",\"shot\",\"shot and Tasered\",\"shot\",\"shot\",\"shot\",\"shot\",\"shot\",\"shot\",\"shot\",\"shot\",\"shot\",\"shot\",\"shot\",\"shot\",\"shot\",\"shot\",\"shot\",\"shot and Tasered\",\"shot\",\"shot\",\"shot\",\"shot\",\"shot\",\"shot and Tasered\",\"shot\",\"shot\",\"shot\",\"shot\",\"shot\",\"shot and Tasered\",\"shot\",\"shot\",\"shot\",\"shot\",\"shot\",\"shot\",\"shot\",\"shot\",\"shot\",\"shot\",\"shot\",\"shot\",\"shot\",\"shot\",\"shot\",\"shot and Tasered\",\"shot\",\"shot\",\"shot\",\"shot\",\"shot\",\"shot\",\"shot\",\"shot\",\"shot\",\"shot\",\"shot\",\"shot\",\"shot\",\"shot\",\"shot\",\"shot\",\"shot\",\"shot\",\"shot\",\"shot\",\"shot and Tasered\",\"shot\",\"shot\",\"shot\",\"shot\",\"shot\",\"shot\",\"shot\",\"shot\",\"shot\",\"shot\",\"shot\",\"shot\",\"shot\",\"shot\",\"shot\",\"shot\",\"shot\",\"shot\",\"shot\",\"shot\",\"shot\",\"shot\",\"shot\",\"shot\",\"shot\",\"shot\",\"shot\",\"shot\",\"shot\",\"shot\",\"shot\",\"shot\",\"shot\",\"shot\",\"shot and Tasered\",\"shot\",\"shot\",\"shot\",\"shot\",\"shot\",\"shot\",\"shot\",\"shot\",\"shot\",\"shot\",\"shot\",\"shot\",\"shot\",\"shot\",\"shot\",\"shot\",\"shot\",\"shot\",\"shot\",\"shot\",\"shot\",\"shot and Tasered\",\"shot\",\"shot\",\"shot\",\"shot\",\"shot\",\"shot\",\"shot\",\"shot\",\"shot\",\"shot\",\"shot\",\"shot\",\"shot\",\"shot\",\"shot and Tasered\",\"shot\",\"shot\",\"shot\",\"shot\",\"shot\",\"shot\",\"shot\",\"shot\",\"shot\",\"shot\",\"shot\",\"shot\",\"shot\",\"shot\",\"shot\",\"shot\",\"shot\",\"shot\",\"shot\",\"shot\",\"shot\",\"shot and Tasered\",\"shot\",\"shot\",\"shot and Tasered\",\"shot\",\"shot\",\"shot\",\"shot\",\"shot\",\"shot\",\"shot\",\"shot\",\"shot\",\"shot\",\"shot\",\"shot\",\"shot\",\"shot\",\"shot\",\"shot\",\"shot\",\"shot\",\"shot\",\"shot\",\"shot\",\"shot\",\"shot and Tasered\",\"shot\",\"shot\",\"shot and Tasered\",\"shot\",\"shot\",\"shot\",\"shot\",\"shot\",\"shot\",\"shot\",\"shot\",\"shot\",\"shot\",\"shot\",\"shot\",\"shot\",\"shot\",\"shot\",\"shot\",\"shot\",\"shot\",\"shot\",\"shot\",\"shot\",\"shot\",\"shot\",\"shot\",\"shot\",\"shot and Tasered\",\"shot\",\"shot\",\"shot\",\"shot\",\"shot\",\"shot\",\"shot\",\"shot\",\"shot\",\"shot\",\"shot\",\"shot\",\"shot\",\"shot\",\"shot\",\"shot\",\"shot\",\"shot\",\"shot\",\"shot\",\"shot\",\"shot\",\"shot\",\"shot\",\"shot\",\"shot\",\"shot\",\"shot\",\"shot\",\"shot\",\"shot\",\"shot\",\"shot\",\"shot\",\"shot\",\"shot\",\"shot\",\"shot\",\"shot\",\"shot\",\"shot\",\"shot\",\"shot\",\"shot\",\"shot\",\"shot and Tasered\",\"shot\",\"shot\",\"shot\",\"shot\",\"shot\",\"shot\",\"shot\",\"shot\",\"shot\",\"shot\",\"shot and Tasered\",\"shot\",\"shot\",\"shot\",\"shot\",\"shot\",\"shot\",\"shot\",\"shot\",\"shot\",\"shot\",\"shot\",\"shot\",\"shot\",\"shot\",\"shot\",\"shot\",\"shot\",\"shot\",\"shot\",\"shot\",\"shot\",\"shot\",\"shot\",\"shot and Tasered\",\"shot and Tasered\",\"shot\",\"shot\",\"shot\",\"shot\",\"shot\",\"shot\",\"shot\",\"shot\",\"shot\",\"shot\",\"shot\",\"shot\",\"shot\",\"shot\",\"shot\",\"shot and Tasered\",\"shot\",\"shot\",\"shot\",\"shot\",\"shot\",\"shot\",\"shot\",\"shot\",\"shot\",\"shot\",\"shot\",\"shot\",\"shot\",\"shot\",\"shot\",\"shot\",\"shot\",\"shot and Tasered\",\"shot\",\"shot and Tasered\",\"shot\",\"shot\",\"shot\",\"shot and Tasered\",\"shot\",\"shot\",\"shot\",\"shot\",\"shot\",\"shot\",\"shot\",\"shot\",\"shot\",\"shot\",\"shot\",\"shot\",\"shot\",\"shot\",\"shot\",\"shot\",\"shot\",\"shot\",\"shot\",\"shot\",\"shot\",\"shot\",\"shot\",\"shot\",\"shot\",\"shot\",\"shot\",\"shot\",\"shot\",\"shot\",\"shot\",\"shot\",\"shot and Tasered\",\"shot\",\"shot\",\"shot\",\"shot\",\"shot\",\"shot\",\"shot\",\"shot\",\"shot\",\"shot\",\"shot\",\"shot and Tasered\",\"shot\",\"shot\",\"shot\",\"shot\",\"shot\",\"shot\",\"shot\",\"shot\",\"shot\",\"shot\",\"shot\",\"shot\",\"shot\",\"shot\",\"shot\",\"shot\",\"shot\",\"shot and Tasered\",\"shot\",\"shot\",\"shot\",\"shot\",\"shot\",\"shot\",\"shot\",\"shot\",\"shot\",\"shot\",\"shot\",\"shot\",\"shot\",\"shot\",\"shot\",\"shot\",\"shot\",\"shot\",\"shot\",\"shot\",\"shot and Tasered\",\"shot\",\"shot\",\"shot\",\"shot\",\"shot\",\"shot\",\"shot\",\"shot\",\"shot\",\"shot\",\"shot\",\"shot\",\"shot\",\"shot\",\"shot\",\"shot\",\"shot\",\"shot\",\"shot\",\"shot\",\"shot\",\"shot\",\"shot\",\"shot and Tasered\",\"shot and Tasered\",\"shot\",\"shot\",\"shot\",\"shot\",\"shot\",\"shot\",\"shot\",\"shot\",\"shot\",\"shot\",\"shot\",\"shot\",\"shot\",\"shot\",\"shot\",\"shot\",\"shot\",\"shot\",\"shot\",\"shot\",\"shot\",\"shot\",\"shot\",\"shot\",\"shot\",\"shot\",\"shot\",\"shot and Tasered\",\"shot\",\"shot\",\"shot\",\"shot\",\"shot\",\"shot\",\"shot\",\"shot\",\"shot\",\"shot\",\"shot\",\"shot\",\"shot\",\"shot\",\"shot\",\"shot\",\"shot\",\"shot\",\"shot\",\"shot\",\"shot\",\"shot and Tasered\",\"shot\",\"shot\",\"shot\",\"shot\",\"shot\",\"shot\",\"shot\",\"shot\",\"shot\",\"shot\",\"shot\",\"shot\",\"shot\",\"shot\",\"shot\",\"shot\",\"shot\",\"shot\",\"shot and Tasered\",\"shot\",\"shot\",\"shot\",\"shot\",\"shot\",\"shot\",\"shot\",\"shot\",\"shot\",\"shot\",\"shot\",\"shot\",\"shot\",\"shot\",\"shot\",\"shot\",\"shot\",\"shot and Tasered\",\"shot\",\"shot\",\"shot\",\"shot\",\"shot\",\"shot\",\"shot\",\"shot\",\"shot\",\"shot\",\"shot\",\"shot\",\"shot\",\"shot\",\"shot\",\"shot\",\"shot\",\"shot\",\"shot\",\"shot\",\"shot\",\"shot\",\"shot and Tasered\",\"shot\",\"shot\",\"shot\",\"shot\",\"shot\",\"shot\",\"shot\",\"shot\",\"shot and Tasered\",\"shot\",\"shot\",\"shot\",\"shot\",\"shot\",\"shot\",\"shot\",\"shot\",\"shot\",\"shot\",\"shot\",\"shot\",\"shot\",\"shot\",\"shot\",\"shot\",\"shot\",\"shot\",\"shot\",\"shot and Tasered\",\"shot\",\"shot\",\"shot\",\"shot\",\"shot\",\"shot\",\"shot\",\"shot\",\"shot\",\"shot\",\"shot\",\"shot\",\"shot\",\"shot\",\"shot\",\"shot\",\"shot and Tasered\",\"shot\",\"shot\",\"shot\",\"shot\",\"shot\",\"shot\",\"shot\",\"shot\",\"shot\",\"shot\",\"shot\",\"shot\",\"shot\",\"shot\",\"shot\",\"shot\",\"shot\",\"shot\",\"shot\",\"shot\",\"shot\",\"shot\",\"shot\",\"shot\",\"shot\",\"shot\",\"shot\",\"shot\",\"shot\",\"shot\",\"shot\",\"shot\",\"shot\",\"shot\",\"shot\",\"shot\",\"shot and Tasered\",\"shot\",\"shot\",\"shot\",\"shot\",\"shot\",\"shot\",\"shot\",\"shot\",\"shot\",\"shot\",\"shot\",\"shot\",\"shot\",\"shot\",\"shot\",\"shot\",\"shot\",\"shot\",\"shot\",\"shot\",\"shot\",\"shot\",\"shot\",\"shot\",\"shot\",\"shot\",\"shot\",\"shot\",\"shot\",\"shot\",\"shot\",\"shot\",\"shot\",\"shot\",\"shot\",\"shot\",\"shot\",\"shot\",\"shot\",\"shot\",\"shot\",\"shot\",\"shot\",\"shot\",\"shot\",\"shot\",\"shot\",\"shot\",\"shot\",\"shot\",\"shot\",\"shot\",\"shot\",\"shot\",\"shot\",\"shot and Tasered\",\"shot\",\"shot\",\"shot\",\"shot\",\"shot\",\"shot\",\"shot\",\"shot\",\"shot\",\"shot\",\"shot\",\"shot\",\"shot\",\"shot\",\"shot\",\"shot\",\"shot\",\"shot\",\"shot and Tasered\",\"shot\",\"shot\",\"shot\",\"shot\",\"shot\",\"shot\",\"shot\",\"shot\",\"shot\",\"shot\",\"shot\",\"shot\",\"shot\",\"shot\",\"shot\",\"shot\",\"shot\",\"shot\",\"shot\",\"shot\",\"shot and Tasered\",\"shot\",\"shot\",\"shot\",\"shot\",\"shot\",\"shot\",\"shot\",\"shot\",\"shot\",\"shot\",\"shot and Tasered\",\"shot\",\"shot\",\"shot\",\"shot\",\"shot\",\"shot\",\"shot\",\"shot\",\"shot\",\"shot\",\"shot\",\"shot\",\"shot\",\"shot\",\"shot\",\"shot\",\"shot\",\"shot\",\"shot\",\"shot\",\"shot\",\"shot and Tasered\",\"shot\",\"shot\",\"shot and Tasered\",\"shot\",\"shot\",\"shot\",\"shot\",\"shot\",\"shot\",\"shot\",\"shot\",\"shot\",\"shot\",\"shot\",\"shot\",\"shot\",\"shot\",\"shot\",\"shot\",\"shot\",\"shot\",\"shot\",\"shot\",\"shot\",\"shot\",\"shot\",\"shot\",\"shot\",\"shot\",\"shot\",\"shot\",\"shot\",\"shot\",\"shot\",\"shot\",\"shot\",\"shot\",\"shot\",\"shot\",\"shot\",\"shot\",\"shot\",\"shot\",\"shot\",\"shot\",\"shot\",\"shot\",\"shot\",\"shot\",\"shot\",\"shot\",\"shot\",\"shot\",\"shot\",\"shot\",\"shot\",\"shot\",\"shot\",\"shot\",\"shot\",\"shot\",\"shot\",\"shot\",\"shot\",\"shot and Tasered\",\"shot\",\"shot\",\"shot\",\"shot\",\"shot\",\"shot\",\"shot\",\"shot\",\"shot\",\"shot\",\"shot\",\"shot\",\"shot\",\"shot\",\"shot\",\"shot\",\"shot\",\"shot\",\"shot\",\"shot\",\"shot\",\"shot\",\"shot\",\"shot\",\"shot\",\"shot\",\"shot\",\"shot\",\"shot\",\"shot\",\"shot\",\"shot\",\"shot\",\"shot and Tasered\",\"shot\",\"shot\",\"shot\",\"shot\",\"shot and Tasered\",\"shot\",\"shot\",\"shot\",\"shot and Tasered\",\"shot and Tasered\",\"shot and Tasered\",\"shot\",\"shot\",\"shot and Tasered\",\"shot\",\"shot\",\"shot\",\"shot\",\"shot\",\"shot and Tasered\",\"shot\",\"shot\",\"shot\",\"shot\",\"shot\",\"shot\",\"shot\",\"shot\",\"shot\",\"shot\",\"shot\",\"shot\",\"shot\",\"shot\",\"shot\",\"shot\",\"shot\",\"shot\",\"shot\",\"shot\",\"shot\",\"shot\",\"shot\",\"shot\",\"shot\",\"shot\",\"shot\",\"shot\",\"shot\",\"shot\",\"shot\",\"shot\",\"shot\",\"shot and Tasered\",\"shot\",\"shot\",\"shot and Tasered\",\"shot\",\"shot\",\"shot\",\"shot\",\"shot\",\"shot\",\"shot\",\"shot\",\"shot\",\"shot\",\"shot\",\"shot\",\"shot\",\"shot\",\"shot\",\"shot\",\"shot\",\"shot\",\"shot\",\"shot\",\"shot\",\"shot\",\"shot\",\"shot\",\"shot\",\"shot\",\"shot\",\"shot\",\"shot\",\"shot\",\"shot\",\"shot\",\"shot\",\"shot\",\"shot\",\"shot\",\"shot\",\"shot\",\"shot\",\"shot\",\"shot\",\"shot\",\"shot\",\"shot\",\"shot\",\"shot\",\"shot\",\"shot\",\"shot\",\"shot\",\"shot\",\"shot\",\"shot\",\"shot\",\"shot\",\"shot\",\"shot\",\"shot\",\"shot\",\"shot\",\"shot\",\"shot\",\"shot\",\"shot\",\"shot\",\"shot\",\"shot\",\"shot and Tasered\",\"shot\",\"shot\",\"shot\",\"shot\",\"shot\",\"shot and Tasered\",\"shot\",\"shot\",\"shot and Tasered\",\"shot\",\"shot\",\"shot\",\"shot\",\"shot\",\"shot\",\"shot\",\"shot and Tasered\",\"shot\",\"shot\",\"shot\",\"shot\",\"shot\",\"shot\",\"shot\",\"shot\",\"shot\",\"shot and Tasered\",\"shot\",\"shot\",\"shot\",\"shot\",\"shot\",\"shot\",\"shot\",\"shot\",\"shot\",\"shot\",\"shot\",\"shot\",\"shot\",\"shot\",\"shot\",\"shot\",\"shot\",\"shot\",\"shot\",\"shot\",\"shot\",\"shot\",\"shot\",\"shot and Tasered\",\"shot\",\"shot and Tasered\",\"shot\",\"shot\",\"shot\",\"shot\",\"shot and Tasered\",\"shot\",\"shot\",\"shot\",\"shot\",\"shot\",\"shot\",\"shot and Tasered\",\"shot\",\"shot\",\"shot\",\"shot\",\"shot\",\"shot and Tasered\",\"shot\",\"shot\",\"shot\",\"shot\",\"shot\",\"shot\",\"shot\",\"shot and Tasered\",\"shot and Tasered\",\"shot\",\"shot and Tasered\",\"shot\",\"shot\",\"shot and Tasered\",\"shot\",\"shot\",\"shot\",\"shot\",\"shot\",\"shot\",\"shot\",\"shot\",\"shot\",\"shot\",\"shot\",\"shot\",\"shot\",\"shot\",\"shot\",\"shot\",\"shot\",\"shot\",\"shot and Tasered\",\"shot\",\"shot\",\"shot\",\"shot\",\"shot\",\"shot\",\"shot\",\"shot\",\"shot\",\"shot\",\"shot\",\"shot\",\"shot\",\"shot\",\"shot\",\"shot\",\"shot\",\"shot\",\"shot\",\"shot\",\"shot\",\"shot\",\"shot\",\"shot and Tasered\",\"shot and Tasered\",\"shot\",\"shot\",\"shot\",\"shot\",\"shot\",\"shot\",\"shot\",\"shot\",\"shot\",\"shot\",\"shot and Tasered\",\"shot\",\"shot\",\"shot\",\"shot\",\"shot\",\"shot\",\"shot\",\"shot and Tasered\",\"shot and Tasered\",\"shot\",\"shot\",\"shot\",\"shot\",\"shot\",\"shot\",\"shot\",\"shot\",\"shot\",\"shot\",\"shot\",\"shot\",\"shot\",\"shot\",\"shot\",\"shot\",\"shot\",\"shot\",\"shot\",\"shot\",\"shot and Tasered\",\"shot\",\"shot\",\"shot\",\"shot\",\"shot\",\"shot\",\"shot\",\"shot\",\"shot\",\"shot\",\"shot\",\"shot\",\"shot\",\"shot\",\"shot\",\"shot\",\"shot and Tasered\",\"shot and Tasered\",\"shot\",\"shot\",\"shot\",\"shot\",\"shot and Tasered\",\"shot\",\"shot\",\"shot\",\"shot\",\"shot and Tasered\",\"shot\",\"shot\",\"shot\",\"shot\",\"shot\",\"shot\",\"shot\",\"shot\",\"shot\",\"shot\",\"shot\",\"shot\",\"shot\",\"shot\",\"shot\",\"shot\",\"shot\",\"shot\",\"shot and Tasered\",\"shot\",\"shot\",\"shot\",\"shot\",\"shot\",\"shot\",\"shot\",\"shot\",\"shot and Tasered\",\"shot\",\"shot\",\"shot and Tasered\",\"shot\",\"shot\",\"shot and Tasered\",\"shot\",\"shot\",\"shot and Tasered\",\"shot\",\"shot\",\"shot\",\"shot\",\"shot and Tasered\",\"shot\",\"shot\",\"shot\",\"shot\",\"shot and Tasered\",\"shot\",\"shot\",\"shot\",\"shot\",\"shot\",\"shot\",\"shot\",\"shot and Tasered\",\"shot\",\"shot\",\"shot\",\"shot\",\"shot\",\"shot\",\"shot and Tasered\",\"shot\",\"shot\",\"shot\",\"shot\",\"shot\",\"shot\",\"shot\",\"shot\",\"shot\",\"shot\",\"shot\",\"shot\",\"shot\",\"shot\",\"shot\",\"shot\",\"shot\",\"shot and Tasered\",\"shot and Tasered\",\"shot and Tasered\",\"shot\",\"shot\",\"shot\",\"shot\",\"shot\",\"shot\",\"shot\",\"shot\",\"shot\",\"shot\",\"shot\",\"shot\",\"shot\",\"shot\",\"shot\",\"shot\",\"shot\",\"shot\",\"shot\",\"shot\",\"shot and Tasered\",\"shot and Tasered\",\"shot\",\"shot\",\"shot\",\"shot\",\"shot\",\"shot\",\"shot\",\"shot and Tasered\",\"shot and Tasered\",\"shot\",\"shot\",\"shot\",\"shot\",\"shot\",\"shot\",\"shot\",\"shot\",\"shot\",\"shot\",\"shot\",\"shot\",\"shot\",\"shot\",\"shot\",\"shot\",\"shot\",\"shot\",\"shot\",\"shot\",\"shot\",\"shot\",\"shot\",\"shot\",\"shot\",\"shot\",\"shot\",\"shot\",\"shot\",\"shot\",\"shot\",\"shot\",\"shot\",\"shot\",\"shot\",\"shot\",\"shot\",\"shot\",\"shot\",\"shot and Tasered\",\"shot\",\"shot\",\"shot\",\"shot\",\"shot\",\"shot\",\"shot\",\"shot\",\"shot\",\"shot\",\"shot\",\"shot\",\"shot\",\"shot\",\"shot\",\"shot\",\"shot\",\"shot\",\"shot\",\"shot\",\"shot\",\"shot\",\"shot\",\"shot\",\"shot\",\"shot\",\"shot\",\"shot\",\"shot\",\"shot\",\"shot\",\"shot\",\"shot\",\"shot\",\"shot and Tasered\",\"shot\",\"shot\",\"shot and Tasered\",\"shot\",\"shot\",\"shot\",\"shot and Tasered\",\"shot\",\"shot\",\"shot\",\"shot\",\"shot and Tasered\",\"shot\",\"shot\",\"shot\",\"shot\",\"shot\",\"shot\",\"shot\",\"shot\",\"shot\",\"shot\",\"shot\",\"shot\",\"shot and Tasered\",\"shot\",\"shot\",\"shot\",\"shot and Tasered\",\"shot\",\"shot\",\"shot\",\"shot\",\"shot\",\"shot\",\"shot\",\"shot\",\"shot\",\"shot\",\"shot\",\"shot\",\"shot\",\"shot\",\"shot\",\"shot\",\"shot\",\"shot\",\"shot\",\"shot\",\"shot\",\"shot\",\"shot\",\"shot\",\"shot\",\"shot\",\"shot\",\"shot\",\"shot\",\"shot\",\"shot\",\"shot\",\"shot\",\"shot\",\"shot\",\"shot and Tasered\",\"shot\",\"shot\",\"shot\",\"shot\",\"shot\",\"shot\",\"shot\",\"shot\",\"shot\",\"shot\",\"shot\",\"shot\",\"shot\",\"shot\",\"shot\",\"shot\",\"shot\",\"shot\",\"shot\",\"shot\",\"shot\",\"shot\",\"shot\",\"shot\",\"shot\",\"shot\",\"shot\",\"shot\",\"shot\",\"shot\",\"shot\",\"shot\",\"shot\",\"shot and Tasered\",\"shot\",\"shot\",\"shot\",\"shot\",\"shot\",\"shot\",\"shot\",\"shot\",\"shot\",\"shot\",\"shot\",\"shot\",\"shot\",\"shot\",\"shot and Tasered\",\"shot and Tasered\",\"shot\",\"shot\",\"shot\",\"shot\",\"shot\",\"shot\",\"shot\",\"shot\",\"shot\",\"shot\",\"shot\",\"shot\",\"shot\",\"shot\",\"shot and Tasered\",\"shot\",\"shot\",\"shot\",\"shot\",\"shot\",\"shot\",\"shot\",\"shot\",\"shot\",\"shot\",\"shot\",\"shot\",\"shot\",\"shot\",\"shot\",\"shot\",\"shot\",\"shot\",\"shot\",\"shot\",\"shot and Tasered\",\"shot\",\"shot and Tasered\",\"shot\",\"shot\",\"shot\",\"shot\",\"shot\",\"shot\",\"shot\",\"shot\",\"shot\",\"shot\",\"shot\",\"shot\",\"shot\",\"shot\",\"shot\",\"shot\",\"shot\",\"shot\",\"shot\",\"shot\",\"shot\",\"shot\",\"shot\",\"shot\",\"shot and Tasered\",\"shot\",\"shot\",\"shot\",\"shot\",\"shot\",\"shot\",\"shot\",\"shot\",\"shot\",\"shot\",\"shot\",\"shot\",\"shot\",\"shot and Tasered\",\"shot\",\"shot\",\"shot\",\"shot\",\"shot\",\"shot\",\"shot\",\"shot\",\"shot\",\"shot\",\"shot\",\"shot\",\"shot\",\"shot\",\"shot\",\"shot\",\"shot\",\"shot\",\"shot\",\"shot\",\"shot\",\"shot\",\"shot\",\"shot\",\"shot\",\"shot\",\"shot\",\"shot and Tasered\",\"shot\",\"shot\",\"shot and Tasered\",\"shot\",\"shot\",\"shot\",\"shot\",\"shot\",\"shot\",\"shot and Tasered\",\"shot\",\"shot\",\"shot\",\"shot\",\"shot\",\"shot\",\"shot\",\"shot and Tasered\",\"shot\",\"shot\",\"shot\",\"shot\",\"shot\",\"shot\",\"shot\",\"shot\",\"shot\",\"shot\",\"shot\",\"shot and Tasered\",\"shot\",\"shot\",\"shot\",\"shot\",\"shot\",\"shot\",\"shot\",\"shot\",\"shot\",\"shot\",\"shot\",\"shot\",\"shot\",\"shot\",\"shot\",\"shot\",\"shot\",\"shot\",\"shot and Tasered\",\"shot\",\"shot\",\"shot\",\"shot\",\"shot\",\"shot\",\"shot\",\"shot\",\"shot\",\"shot\",\"shot\",\"shot\",\"shot\",\"shot\",\"shot\",\"shot\",\"shot\",\"shot\",\"shot\",\"shot\",\"shot\",\"shot\",\"shot\",\"shot\",\"shot\",\"shot\",\"shot\",\"shot\",\"shot\",\"shot\",\"shot\",\"shot\",\"shot\",\"shot\",\"shot\",\"shot\",\"shot\",\"shot\",\"shot\",\"shot\",\"shot\",\"shot\",\"shot\",\"shot\",\"shot\",\"shot\",\"shot\",\"shot\",\"shot\",\"shot\",\"shot\",\"shot\",\"shot\",\"shot\",\"shot\",\"shot\",\"shot\",\"shot\",\"shot\",\"shot\",\"shot\",\"shot\",\"shot\",\"shot\",\"shot\",\"shot\",\"shot\",\"shot\",\"shot\",\"shot\",\"shot\",\"shot\",\"shot\",\"shot\",\"shot\",\"shot\",\"shot\",\"shot\",\"shot\",\"shot\",\"shot\",\"shot\",\"shot\",\"shot\",\"shot\",\"shot\",\"shot\",\"shot\",\"shot\",\"shot\",\"shot\"],\"x0\":\" \",\"xaxis\":\"x\",\"y\":{\"dtype\":\"f8\",\"bdata\":\"AAAAAACASkAAAAAAAIBHQAAAAAAAADdAAAAAAAAAQEAAAAAAAIBDQAAAAAAAADJAAAAAAAAANkAAAAAAAIBBQAAAAAAAgEdAAAAAAAAAOUAAAAAAAAA\\u002fQAAAAAAAgERAAAAAAAAAPkAAAAAAAIBCQAAAAAAAADxAAAAAAAAARUAAAAAAAABCQAAAAAAAgEhAAAAAAADAUUAAAAAAAIBAQAAAAAAAgENAAAAAAAAAN0AAAAAAAAA9QAAAAAAAAEFAAAAAAACARUAAAAAAAAA4QAAAAAAAAD1AAAAAAAAAQUAAAAAAAMBSQAAAAAAAAFFAAAAAAAAAQUAAAAAAAAA7QAAAAAAAgENAAAAAAAAAOEAAAAAAAABCQAAAAAAAgEBAAAAAAACAREAAAAAAAABIQAAAAAAAADVAAAAAAAAAOEAAAAAAAAA7QAAAAAAAAEBAAAAAAADAUEAAAAAAAIBIQAAAAAAAAEVAAAAAAAAAQkAAAAAAAABCQAAAAAAAADNAAAAAAAAAS0AAAAAAAAA5QAAAAAAAgE5AAAAAAAAAPUAAAAAAAABMQAAAAAAAAERAAAAAAACARkAAAAAAAAA6QAAAAAAAADpAAAAAAACATUAAAAAAAABRQAAAAAAAADhAAAAAAAAAQUAAAAAAAAA6QAAAAAAAAD1AAAAAAACAQEAAAAAAAIBGQAAAAAAAgEFAAAAAAAAAOkAAAAAAAABFQAAAAAAAAD9AAAAAAAAASEAAAAAAAAA\\u002fQAAAAAAAAEtAAAAAAAAAMUAAAAAAAIBNQAAAAAAAAEVAAAAAAAAAN0AAAAAAAAA9QAAAAAAAgEZAAAAAAAAAPEAAAAAAAIBCQAAAAAAAADxAAAAAAAAAPEAAAAAAAIBJQAAAAAAAAEJAAAAAAACATUAAAAAAAAA5QAAAAAAAADpAAAAAAACAUkAAAAAAAIBAQAAAAAAAADtAAAAAAACATEAAAAAAAABHQAAAAAAAgERAAAAAAACATkAAAAAAAIBGQAAAAAAAgEFAAAAAAACASEAAAAAAAIBGQAAAAAAAADdAAAAAAAAAR0AAAAAAAAA3QAAAAAAAADVAAAAAAACAQUAAAAAAAAA7QAAAAAAAgEJAAAAAAAAAMEAAAAAAAIBJQAAAAAAAADlAAAAAAAAAQUAAAAAAAABBQAAAAAAAAExAAAAAAAAAOkAAAAAAAAA4QAAAAAAAAD9AAAAAAAAAQEAAAAAAAAA+QAAAAAAAAElAAAAAAAAAAAAAAAAAAAA\\u002fQAAAAAAAAENAAAAAAABAU0AAAAAAAIBEQAAAAAAAgElAAAAAAAAASUAAAAAAAABFQAAAAAAAgENAAAAAAACAR0AAAAAAAIBCQAAAAAAAgERAAAAAAAAAMEAAAAAAAAA+QAAAAAAAADtAAAAAAACARUAAAAAAAAA\\u002fQAAAAAAAAEVAAAAAAAAANUAAAAAAAIBIQAAAAAAAADtAAAAAAAAAOEAAAAAAAAAxQAAAAAAAAEFAAAAAAAAAPEAAAAAAAABEQAAAAAAAgEhAAAAAAACARUAAAAAAAIBBQAAAAAAAADRAAAAAAAAAOUAAAAAAAAA5QAAAAAAAADpAAAAAAAAAPEAAAAAAAIBGQAAAAAAAAEJAAAAAAAAAQUAAAAAAAIBCQAAAAAAAAEhAAAAAAAAAM0AAAAAAAAA9QAAAAAAAAERAAAAAAACAQUAAAAAAAABNQAAAAAAAAEdAAAAAAAAAPkAAAAAAAAA7QAAAAAAAAD9AAAAAAAAAN0AAAAAAAIBCQAAAAAAAAFBAAAAAAAAAP0AAAAAAAIBDQAAAAAAAAD9AAAAAAAAAOUAAAAAAAABLQAAAAAAAgEpAAAAAAACAQkAAAAAAAIBBQAAAAAAAgE1AAAAAAAAAQkAAAAAAAABAQAAAAAAAgERAAAAAAAAAPUAAAAAAAIBKQAAAAAAAADpAAAAAAAAAO0AAAAAAAAA8QAAAAAAAAEpAAAAAAAAANEAAAAAAAAA2QAAAAAAAgEhAAAAAAAAAOEAAAAAAAIBHQAAAAAAAAFBAAAAAAAAAMEAAAAAAAAA0QAAAAAAAAEJAAAAAAACAQ0AAAAAAAAAyQAAAAAAAAD9AAAAAAAAAOEAAAAAAAIBPQAAAAAAAAEFAAAAAAAAARkAAAAAAAABOQAAAAAAAAEVAAAAAAAAANUAAAAAAAIBCQAAAAAAAAEJAAAAAAAAANUAAAAAAAAA4QAAAAAAAAENAAAAAAAAAPUAAAAAAAIBMQAAAAAAAADdAAAAAAAAAO0AAAAAAAAA8QAAAAAAAgE9AAAAAAACAQUAAAAAAAABMQAAAAAAAgENAAAAAAAAAN0AAAAAAAABEQAAAAAAAAEVAAAAAAACAREAAAAAAAAA6QAAAAAAAAD1AAAAAAACASEAAAAAAAABLQAAAAAAAAEJAAAAAAAAANUAAAAAAAIBCQAAAAAAAAEJAAAAAAAAAQEAAAAAAAIBPQAAAAAAAAEZAAAAAAAAAO0AAAAAAAABDQAAAAAAAADFAAAAAAAAASUAAAAAAAAA\\u002fQAAAAAAAAEFAAAAAAACASUAAAAAAAABMQAAAAAAAADdAAAAAAAAAOUAAAAAAAAA\\u002fQAAAAAAAAEBAAAAAAAAATkAAAAAAAABFQAAAAAAAgENAAAAAAAAAPEAAAAAAAABLQAAAAAAAADZAAAAAAAAAPUAAAAAAAAA\\u002fQAAAAAAAADxAAAAAAAAANUAAAAAAAABDQAAAAAAAgFBAAAAAAAAAQkAAAAAAAMBUQAAAAAAAAEBAAAAAAAAAO0AAAAAAAAA6QAAAAAAAAD9AAAAAAAAANkAAAAAAAIBEQAAAAAAAgERAAAAAAACASUAAAAAAAABSQAAAAAAAAEpAAAAAAACAR0AAAAAAAAAyQAAAAAAAAD1AAAAAAAAAN0AAAAAAAIBFQAAAAAAAgEZAAAAAAAAAREAAAAAAAABGQAAAAAAAADlAAAAAAACAQUAAAAAAAIBCQAAAAAAAgE1AAAAAAACAQUAAAAAAAAAyQAAAAAAAgElAAAAAAAAAPkAAAAAAAAA\\u002fQAAAAAAAgENAAAAAAAAAOkAAAAAAAIBJQAAAAAAAADNAAAAAAACASEAAAAAAAIBPQAAAAAAAADRAAAAAAAAAOUAAAAAAAAA4QAAAAAAAAE1AAAAAAAAAPUAAAAAAAABTQAAAAAAAgEZAAAAAAAAANEAAAAAAAABNQAAAAAAAADVAAAAAAAAAO0AAAAAAAAA6QAAAAAAAgEBAAAAAAAAAO0AAAAAAAIBKQAAAAAAAgEpAAAAAAAAARUAAAAAAAAA2QAAAAAAAAEpAAAAAAAAAQkAAAAAAAAA+QAAAAAAAAEFAAAAAAAAARkAAAAAAAIBKQAAAAAAAAEJAAAAAAAAAPUAAAAAAAABAQAAAAAAAAEdAAAAAAAAAMkAAAAAAAABSQAAAAAAAAENAAAAAAAAANUAAAAAAAIBBQAAAAAAAAE1AAAAAAAAASEAAAAAAAAA\\u002fQAAAAAAAgEdAAAAAAAAAQUAAAAAAAAA+QAAAAAAAADxAAAAAAAAAPEAAAAAAAABHQAAAAAAAAERAAAAAAACAQkAAAAAAAIBKQAAAAAAAgERAAAAAAAAARUAAAAAAAIBGQAAAAAAAAEFAAAAAAAAAMkAAAAAAAAA7QAAAAAAAAEtAAAAAAACAQUAAAAAAAAAxQAAAAAAAAD1AAAAAAAAASkAAAAAAAABDQAAAAAAAADpAAAAAAAAANkAAAAAAAAA9QAAAAAAAgEVAAAAAAAAAOEAAAAAAAABAQAAAAAAAAERAAAAAAAAAOUAAAAAAAIBHQAAAAAAAAERAAAAAAAAAQkAAAAAAAABPQAAAAAAAgElAAAAAAAAAOEAAAAAAAIBDQAAAAAAAADhAAAAAAACATEAAAAAAAAA0QAAAAAAAgEBAAAAAAAAATkAAAAAAAABAQAAAAAAAAERAAAAAAAAAMkAAAAAAAABCQAAAAAAAgEFAAAAAAACAS0AAAAAAAAAzQAAAAAAAgENAAAAAAAAAREAAAAAAAIBHQAAAAAAAADdAAAAAAAAAOkAAAAAAAAA6QAAAAAAAAEdAAAAAAAAAQkAAAAAAAAAyQAAAAAAAgEBAAAAAAAAATEAAAAAAAABJQAAAAAAAAD5AAAAAAACASkAAAAAAAIBGQAAAAAAAAEVAAAAAAAAAO0AAAAAAAABCQAAAAAAAAE1AAAAAAAAAS0AAAAAAAAA+QAAAAAAAQFFAAAAAAAAAPkAAAAAAAIBGQAAAAAAAADZAAAAAAAAAPEAAAAAAAAAzQAAAAAAAAERAAAAAAACAVUAAAAAAAABHQAAAAAAAADxAAAAAAAAANkAAAAAAAABHQAAAAAAAgEFAAAAAAACAQUAAAAAAAAA8QAAAAAAAAC5AAAAAAAAANkAAAAAAAAA8QAAAAAAAAD9AAAAAAAAASEAAAAAAAABNQAAAAAAAAEZAAAAAAAAANUAAAAAAAABJQAAAAAAAADdAAAAAAAAAOEAAAAAAAIBIQAAAAAAAAE5AAAAAAACAQUAAAAAAAAA9QAAAAAAAADRAAAAAAAAAQUAAAAAAAAA2QAAAAAAAgEhAAAAAAAAAQEAAAAAAAAA6QAAAAAAAgERAAAAAAACATkAAAAAAAIBIQAAAAAAAADxAAAAAAACAQUAAAAAAAAA9QAAAAAAAgElAAAAAAAAASkAAAAAAAAA4QAAAAAAAAEBAAAAAAACARkAAAAAAAABOQAAAAAAAADdAAAAAAACATUAAAAAAAAA7QAAAAAAAAEdAAAAAAACAQEAAAAAAAABEQAAAAAAAAEVAAAAAAACAQkAAAAAAAAA3QAAAAAAAAEJAAAAAAAAAM0AAAAAAAIBBQAAAAAAAADlAAAAAAACARUAAAAAAAAA0QAAAAAAAAEVAAAAAAAAARUAAAAAAAAA\\u002fQAAAAAAAAD1AAAAAAAAAMkAAAAAAAIBAQAAAAAAAgE1AAAAAAACAR0AAAAAAAIBDQAAAAAAAgEJAAAAAAACAQUAAAAAAAAA8QAAAAAAAgE1AAAAAAAAAT0AAAAAAAABJQAAAAAAAAFFAAAAAAAAAO0AAAAAAAAAxQAAAAAAAAENAAAAAAAAANUAAAAAAAABLQAAAAAAAADRAAAAAAAAAOUAAAAAAAAA\\u002fQAAAAAAAgEFAAAAAAAAAQkAAAAAAAABOQAAAAAAAADhAAAAAAAAAO0AAAAAAAAA0QAAAAAAAADhAAAAAAAAAN0AAAAAAAIBEQAAAAAAAADRAAAAAAAAAU0AAAAAAAIBFQAAAAAAAADlAAAAAAAAAPUAAAAAAAIBBQAAAAAAAAD5AAAAAAAAAOEAAAAAAAAA3QAAAAAAAAD1AAAAAAAAAO0AAAAAAAAA3QAAAAAAAAElAAAAAAAAAM0AAAAAAAAA4QAAAAAAAADZAAAAAAAAAR0AAAAAAAEBQQAAAAAAAgEVAAAAAAACAQUAAAAAAAABLQAAAAAAAgEdAAAAAAAAAOEAAAAAAAIBBQAAAAAAAADlAAAAAAAAAOkAAAAAAAAA7QAAAAAAAAEFAAAAAAAAAP0AAAAAAAABAQAAAAAAAgEdAAAAAAAAARkAAAAAAAAA+QAAAAAAAAE5AAAAAAAAASUAAAAAAAABCQAAAAAAAgE1AAAAAAACAQEAAAAAAAAAzQAAAAAAAAExAAAAAAACARkAAAAAAAAA2QAAAAAAAgERAAAAAAAAAQUAAAAAAAIBKQAAAAAAAAEhAAAAAAAAAOUAAAAAAAAA+QAAAAAAAgEdAAAAAAACAQEAAAAAAAABBQAAAAAAAAEpAAAAAAAAAPUAAAAAAAIBPQAAAAAAAgEhAAAAAAAAAMkAAAAAAAMBRQAAAAAAAgEFAAAAAAACAS0AAAAAAAAA\\u002fQAAAAAAAADJAAAAAAACASUAAAAAAAIBDQAAAAAAAADRAAAAAAAAAPUAAAAAAAABEQAAAAAAAAEVAAAAAAAAANkAAAAAAAAAzQAAAAAAAADhAAAAAAAAAPkAAAAAAAIBKQAAAAAAAADlAAAAAAAAAPEAAAAAAAIBAQAAAAAAAADhAAAAAAACATUAAAAAAAABHQAAAAAAAAC5AAAAAAACAREAAAAAAAEBTQAAAAAAAADZAAAAAAAAAOEAAAAAAAABBQAAAAAAAAEhAAAAAAAAAOEAAAAAAAAA7QAAAAAAAADtAAAAAAAAAO0AAAAAAAIBIQAAAAAAAAENAAAAAAAAAOkAAAAAAAAA+QAAAAAAAgEpAAAAAAACARUAAAAAAAAA3QAAAAAAAAEFAAAAAAAAAPkAAAAAAAAA9QAAAAAAAgEdAAAAAAACAQUAAAAAAAABEQAAAAAAAADJAAAAAAAAAOEAAAAAAAAA9QAAAAAAAAEZAAAAAAAAAM0AAAAAAAABJQAAAAAAAADFAAAAAAACATEAAAAAAAAA+QAAAAAAAAENAAAAAAAAAP0AAAAAAAIBDQAAAAAAAAD1AAAAAAAAAOkAAAAAAAABQQAAAAAAAAEJAAAAAAAAAQkAAAAAAAAA1QAAAAAAAgEpAAAAAAACATEAAAAAAAAA+QAAAAAAAAEFAAAAAAACASkAAAAAAAIBGQAAAAAAAADZAAAAAAAAANkAAAAAAAABHQAAAAAAAADtAAAAAAAAARUAAAAAAAAA+QAAAAAAAAEtAAAAAAAAAPUAAAAAAAIBEQAAAAAAAADxAAAAAAACATkAAAAAAAAA3QAAAAAAAADlAAAAAAAAAAAAAAAAAAAA9QAAAAAAAADRAAAAAAAAAREAAAAAAAIBGQAAAAAAAgEBAAAAAAAAAU0AAAAAAAIBHQAAAAAAAgEZAAAAAAAAAREAAAAAAAIBCQAAAAAAAgEhAAAAAAAAAO0AAAAAAAABCQAAAAAAAADdAAAAAAAAANUAAAAAAAABAQAAAAAAAgEFAAAAAAACATUAAAAAAAAA8QAAAAAAAgEZAAAAAAACARkAAAAAAAAAzQAAAAAAAADlAAAAAAACAQkAAAAAAAIBAQAAAAAAAgE1AAAAAAAAAP0AAAAAAAIBBQAAAAAAAAD1AAAAAAAAAQEAAAAAAAIBEQAAAAAAAAD9AAAAAAAAARkAAAAAAAAA3QAAAAAAAgEZAAAAAAACAQ0AAAAAAAMBQQAAAAAAAAD1AAAAAAAAAOUAAAAAAAAA8QAAAAAAAADVAAAAAAAAAQEAAAAAAAIBJQAAAAAAAgENAAAAAAAAAO0AAAAAAAAA\\u002fQAAAAAAAAElAAAAAAAAAAAAAAAAAAABAQAAAAAAAgEdAAAAAAAAAR0AAAAAAAIBMQAAAAAAAADdAAAAAAAAATEAAAAAAAAA4QAAAAAAAADtAAAAAAAAANUAAAAAAAAA6QAAAAAAAAEFAAAAAAAAAQEAAAAAAAIBAQAAAAAAAgEtAAAAAAAAAOkAAAAAAAABIQAAAAAAAgEFAAAAAAAAAM0AAAAAAAIBGQAAAAAAAADxAAAAAAAAARUAAAAAAAAAxQAAAAAAAAD5AAAAAAAAANUAAAAAAAIBAQAAAAAAAgEZAAAAAAAAAR0AAAAAAAAA3QAAAAAAAgEVAAAAAAAAAREAAAAAAAAA\\u002fQAAAAAAAgE1AAAAAAAAAR0AAAAAAAIBCQAAAAAAAADxAAAAAAAAAPEAAAAAAAAA6QAAAAAAAAD1AAAAAAACARkAAAAAAAAA7QAAAAAAAAD9AAAAAAACASUAAAAAAAABJQAAAAAAAADtAAAAAAAAAMkAAAAAAAIBDQAAAAAAAAEdAAAAAAAAAM0AAAAAAAIBIQAAAAAAAAD9AAAAAAAAAQ0AAAAAAAABEQAAAAAAAgEFAAAAAAAAAQUAAAAAAAABGQAAAAAAAADdAAAAAAACARUAAAAAAAAAAAAAAAAAAAD9AAAAAAAAAO0AAAAAAAAAyQAAAAAAAgE1AAAAAAACATEAAAAAAAAAuQAAAAAAAADlAAAAAAAAAP0AAAAAAAIBBQAAAAAAAADtAAAAAAAAANEAAAAAAAAA7QAAAAAAAgEZAAAAAAACAQEAAAAAAAAA2QAAAAAAAADxAAAAAAAAAP0AAAAAAAAA8QAAAAAAAgEpAAAAAAAAAPkAAAAAAAIBDQAAAAAAAAERAAAAAAAAAPkAAAAAAAAA1QAAAAAAAgEFAAAAAAAAANUAAAAAAAIBHQAAAAAAAAENAAAAAAAAAQkAAAAAAAIBKQAAAAAAAAAAAAAAAAAAAQUAAAAAAAABBQAAAAAAAAD5AAAAAAAAAPEAAAAAAAIBHQAAAAAAAgEhAAAAAAAAAQkAAAAAAAIBGQAAAAAAAADJAAAAAAAAAOUAAAAAAAAA9QAAAAAAAgExAAAAAAAAAQUAAAAAAAIBBQAAAAAAAAAAAAAAAAAAAMkAAAAAAAABPQAAAAAAAAD1AAAAAAAAAOUAAAAAAAAA+QAAAAAAAgEBAAAAAAAAATEAAAAAAAIBIQAAAAAAAADRAAAAAAAAAT0AAAAAAAABPQAAAAAAAABhAAAAAAAAAPkAAAAAAAIBMQAAAAAAAADJAAAAAAACAR0AAAAAAAABIQAAAAAAAADRAAAAAAAAAPkAAAAAAAIBJQAAAAAAAgEtAAAAAAAAASEAAAAAAAAA0QAAAAAAAADlAAAAAAAAAOkAAAAAAAIBGQAAAAAAAgEFAAAAAAACAT0AAAAAAAABBQAAAAAAAAEJAAAAAAAAANkAAAAAAAAA\\u002fQAAAAAAAADlAAAAAAACATEAAAAAAAABAQAAAAAAAAEVAAAAAAAAASkAAAAAAAAA5QAAAAAAAADlAAAAAAAAAP0AAAAAAAIBDQAAAAAAAAEBAAAAAAAAAMEAAAAAAAAA4QAAAAAAAADxAAAAAAAAAOUAAAAAAAIBEQAAAAAAAADxAAAAAAAAANUAAAAAAAAA+QAAAAAAAAE1AAAAAAACAR0AAAAAAAAA5QAAAAAAAAEZAAAAAAAAAQUAAAAAAAAA7QAAAAAAAAEFAAAAAAACAQ0AAAAAAAAA9QAAAAAAAADhAAAAAAACAR0AAAAAAAIBGQAAAAAAAADxAAAAAAACASEAAAAAAAABJQAAAAAAAgEZAAAAAAAAAQEAAAAAAAAA4QAAAAAAAADdAAAAAAAAASkAAAAAAAAA6QAAAAAAAAE1AAAAAAAAASUAAAAAAAAA2QAAAAAAAgEpAAAAAAABAUUAAAAAAAAA3QAAAAAAAAD1AAAAAAAAAOUAAAAAAAAAyQAAAAAAAAD9AAAAAAAAAN0AAAAAAAAAyQAAAAAAAgEFAAAAAAAAAPEAAAAAAAAA6QAAAAAAAAEBAAAAAAAAAQkAAAAAAAIBQQAAAAAAAgEdAAAAAAAAANUAAAAAAAAA4QAAAAAAAgElAAAAAAAAATkAAAAAAAABDQAAAAAAAgEFAAAAAAAAAR0AAAAAAAABIQAAAAAAAAEJAAAAAAACAQEAAAAAAAIBQQAAAAAAAgElAAAAAAAAAQUAAAAAAAIBLQAAAAAAAAEtAAAAAAAAAAAAAAAAAAABCQAAAAAAAADlAAAAAAAAAOEAAAAAAAAA8QAAAAAAAAEJAAAAAAAAANEAAAAAAAIBIQAAAAAAAAAAAAAAAAAAANUAAAAAAAAA+QAAAAAAAAEBAAAAAAACAQEAAAAAAAABKQAAAAAAAAExAAAAAAACAQ0AAAAAAAAAzQAAAAAAAgEZAAAAAAACAQEAAAAAAAIBJQAAAAAAAAAAAAAAAAAAAOUAAAAAAAAA4QAAAAAAAAEBAAAAAAAAATUAAAAAAAAA4QAAAAAAAADpAAAAAAAAAPkAAAAAAAAA\\u002fQAAAAAAAAEFAAAAAAAAASEAAAAAAAAAAAAAAAAAAADVAAAAAAACAQ0AAAAAAAAA5QAAAAAAAAD5AAAAAAACATkAAAAAAAABMQAAAAAAAAD1AAAAAAAAAM0AAAAAAAIBBQAAAAAAAAEJAAAAAAAAAS0AAAAAAAAA4QAAAAAAAADdAAAAAAAAAMkAAAAAAAAA\\u002fQAAAAAAAgERAAAAAAAAAM0AAAAAAAABDQAAAAAAAAEJAAAAAAAAAQUAAAAAAAABKQAAAAAAAADxAAAAAAAAAAAAAAAAAAIBLQAAAAAAAgENAAAAAAAAAN0AAAAAAAAA+QAAAAAAAgEJAAAAAAAAAS0AAAAAAAIBCQAAAAAAAAD5AAAAAAAAAO0AAAAAAAAA2QAAAAAAAAD1AAAAAAACAQ0AAAAAAAIBAQAAAAAAAAEpAAAAAAAAAPEAAAAAAAABLQAAAAAAAAENAAAAAAAAAQEAAAAAAAABBQAAAAAAAADpAAAAAAAAASUAAAAAAAIBCQAAAAAAAAExAAAAAAACARkAAAAAAAABAQAAAAAAAgEhAAAAAAAAATUAAAAAAAAA9QAAAAAAAAE5AAAAAAAAAREAAAAAAAIBDQAAAAAAAADpAAAAAAAAAOEAAAAAAAABBQAAAAAAAADtAAAAAAAAARkAAAAAAAIBLQAAAAAAAADNAAAAAAAAASkAAAAAAAAA4QAAAAAAAAENAAAAAAAAAP0AAAAAAAAA6QAAAAAAAgEBAAAAAAAAAPEAAAAAAAAA7QAAAAAAAgENAAAAAAAAAPUAAAAAAAABCQAAAAAAAgEtAAAAAAAAAPEAAAAAAAABEQAAAAAAAgEBAAAAAAACAQkAAAAAAAIBDQAAAAAAAgEVAAAAAAAAAQ0AAAAAAAIBLQAAAAAAAAEpAAAAAAAAAQEAAAAAAAAA\\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\\u002fQAAAAAAAAEBAAAAAAACAQkAAAAAAAAA8QAAAAAAAADJAAAAAAACAREAAAAAAAAAuQAAAAAAAAENAAAAAAACAREAAAAAAAABKQAAAAAAAAEhAAAAAAAAAPUAAAAAAAIBJQAAAAAAAADVAAAAAAAAAOEAAAAAAAAAyQAAAAAAAAD5AAAAAAACAQEAAAAAAAAA8QAAAAAAAADpAAAAAAAAARkAAAAAAAABCQAAAAAAAAEFAAAAAAAAANUAAAAAAAIBCQAAAAAAAgEpAAAAAAACARkAAAAAAAAA4QAAAAAAAAEhAAAAAAAAARUAAAAAAAIBAQAAAAAAAgEtAAAAAAAAAPEAAAAAAAAA5QAAAAAAAADxAAAAAAAAASkAAAAAAAIBNQAAAAAAAAEpAAAAAAACAQ0AAAAAAAAAyQAAAAAAAAERAAAAAAAAAQkAAAAAAAABDQAAAAAAAAAAAAAAAAAAAPUAAAAAAAIBCQAAAAAAAAD1AAAAAAAAANUAAAAAAAIBAQAAAAAAAgEBAAAAAAAAAN0AAAAAAAAA6QAAAAAAAgE1AAAAAAAAAPUAAAAAAAAA8QAAAAAAAgEFAAAAAAACAQEAAAAAAAAA4QAAAAAAAAAAAAAAAAAAAPEAAAAAAAAAzQAAAAAAAgEVAAAAAAACATUAAAAAAAABBQAAAAAAAgEFAAAAAAAAAN0AAAAAAAABCQAAAAAAAAEdAAAAAAAAARkAAAAAAAAA0QAAAAAAAAD5AAAAAAACAQUAAAAAAAABCQAAAAAAAADZAAAAAAAAAP0AAAAAAAIBPQAAAAAAAAENAAAAAAAAAP0AAAAAAAAA7QAAAAAAAgEFAAAAAAAAANkAAAAAAAAA8QAAAAAAAADpAAAAAAAAANkAAAAAAAIBMQAAAAAAAAD9AAAAAAACARUAAAAAAAAA4QAAAAAAAAD1AAAAAAACARUAAAAAAAAAAAAAAAAAAADVAAAAAAAAAM0AAAAAAAAA5QAAAAAAAgE1AAAAAAAAASUAAAAAAAABNQAAAAAAAADlAAAAAAAAAQEAAAAAAAIBKQAAAAAAAAENAAAAAAACAUUAAAAAAAIBAQAAAAAAAAEJAAAAAAAAAAAAAAAAAAAA1QAAAAAAAgElAAAAAAACARUAAAAAAAAAyQAAAAAAAgEBAAAAAAAAAQUAAAAAAAAA\\u002fQAAAAAAAgEFAAAAAAAAAP0AAAAAAAAA\\u002fQAAAAAAAADdAAAAAAAAAOUAAAAAAAAA5QAAAAAAAADVAAAAAAACASEAAAAAAAIBPQAAAAAAAgEVAAAAAAAAAQUAAAAAAAABDQAAAAAAAAEpAAAAAAAAAUUAAAAAAAAAAAAAAAAAAAD9AAAAAAAAAPUAAAAAAAABAQAAAAAAAAElAAAAAAAAAO0AAAAAAAAA\\u002fQAAAAAAAAD1AAAAAAAAAN0AAAAAAAIBOQAAAAAAAgEBAAAAAAAAAMkAAAAAAAABUQAAAAAAAgEVAAAAAAAAASUAAAAAAAIBHQAAAAAAAAEtAAAAAAAAANkAAAAAAAIBFQAAAAAAAAENAAAAAAAAANUAAAAAAAABCQAAAAAAAAD5AAAAAAAAAAAAAAAAAAABBQAAAAAAAADFAAAAAAACAQkAAAAAAAAA5QAAAAAAAAD5AAAAAAAAAN0AAAAAAAAA0QAAAAAAAADNAAAAAAAAASUAAAAAAAAA4QAAAAAAAADlAAAAAAAAANEAAAAAAAIBCQAAAAAAAAEZAAAAAAAAANkAAAAAAAAA\\u002fQAAAAAAAADlAAAAAAAAAAAAAAAAAAAA9QAAAAAAAAEJAAAAAAAAASUAAAAAAAABFQAAAAAAAADpAAAAAAAAAM0AAAAAAAIBNQAAAAAAAAEJAAAAAAAAAAAAAAAAAAIBJQAAAAAAAADtAAAAAAAAANkAAAAAAAAA+QAAAAAAAADxAAAAAAACAT0AAAAAAAABAQAAAAAAAADpAAAAAAAAAOUAAAAAAAAA7QAAAAAAAgE5AAAAAAAAAPkAAAAAAAAAAAAAAAAAAgEJAAAAAAACAREAAAAAAAAA5QAAAAAAAADhAAAAAAAAARkAAAAAAAIBPQAAAAAAAAD5AAAAAAAAATUAAAAAAAIBBQAAAAAAAAElAAAAAAAAAREAAAAAAAAAAAAAAAAAAADNAAAAAAAAAQUAAAAAAAAAyQAAAAAAAADVAAAAAAAAAAAAAAAAAAIBCQAAAAAAAAD1AAAAAAACASEAAAAAAAABAQAAAAAAAQFBAAAAAAACAQkAAAAAAAIBAQAAAAAAAgE9AAAAAAAAAPkAAAAAAAABEQAAAAAAAAENAAAAAAAAASUAAAAAAAIBEQAAAAAAAgERAAAAAAACAQ0AAAAAAAABGQAAAAAAAADdAAAAAAAAAQEAAAAAAAABMQAAAAAAAgEBAAAAAAACAT0AAAAAAAAA\\u002fQAAAAAAAADpAAAAAAACATEAAAAAAAIBDQAAAAAAAgEVAAAAAAAAARUAAAAAAAAA9QAAAAAAAAExAAAAAAAAAP0AAAAAAAABJQAAAAAAAAEJAAAAAAAAASUAAAAAAAABBQAAAAAAAgEhAAAAAAAAAP0AAAAAAAABCQAAAAAAAAD1AAAAAAAAAQEAAAAAAAAAyQAAAAAAAAElAAAAAAAAAQkAAAAAAAIBAQAAAAAAAADFAAAAAAAAAM0AAAAAAAAA4QAAAAAAAADhAAAAAAAAANEAAAAAAAIBEQAAAAAAAgEdAAAAAAAAAMkAAAAAAAAA\\u002fQAAAAAAAADtAAAAAAAAAQkAAAAAAAIBNQAAAAAAAAEBAAAAAAAAAQ0AAAAAAAAAyQAAAAAAAAEBAAAAAAACARUAAAAAAAMBQQAAAAAAAADZAAAAAAAAAP0AAAAAAAIBFQAAAAAAAAEFAAAAAAACASUAAAAAAAAA\\u002fQAAAAAAAAEtAAAAAAABAUUAAAAAAAABNQAAAAAAAADpAAAAAAAAAP0AAAAAAAIBNQAAAAAAAADlAAAAAAAAANEAAAAAAAEBRQAAAAAAAgExAAAAAAAAATEAAAAAAAABQQAAAAAAAAEFAAAAAAACARkAAAAAAAAAsQAAAAAAAAEZAAAAAAAAAS0AAAAAAAIBNQAAAAAAAgEBAAAAAAAAANkAAAAAAAIBIQAAAAAAAAEJAAAAAAAAAN0AAAAAAAABDQAAAAAAAgEpAAAAAAAAAPUAAAAAAAABFQAAAAAAAADlAAAAAAAAAMkAAAAAAAIBLQAAAAAAAAEJAAAAAAAAAQEAAAAAAAIBKQAAAAAAAAD5AAAAAAAAAO0AAAAAAAIBCQAAAAAAAAD1AAAAAAAAAREAAAAAAAABCQAAAAAAAAENAAAAAAAAAPUAAAAAAAIBNQAAAAAAAgEdAAAAAAAAANkAAAAAAAAA\\u002fQAAAAAAAAD1AAAAAAAAAS0AAAAAAAMBRQAAAAAAAAEJAAAAAAAAAQUAAAAAAAIBIQAAAAAAAAEJAAAAAAACARUAAAAAAAIBKQAAAAAAAgE9AAAAAAAAAP0AAAAAAAABAQAAAAAAAgERAAAAAAAAAOkAAAAAAAIBIQAAAAAAAgFRAAAAAAACAQkAAAAAAAAA4QAAAAAAAAExAAAAAAAAAPEAAAAAAAABCQAAAAAAAADZAAAAAAACATUAAAAAAAABCQAAAAAAAADVAAAAAAAAAQ0AAAAAAAABOQAAAAAAAADJAAAAAAAAAN0AAAAAAAAAAAAAAAAAAAENAAAAAAAAAREAAAAAAAAA2QAAAAAAAAENAAAAAAAAAOUAAAAAAAAA5QAAAAAAAAEJAAAAAAAAAAAAAAAAAAAAAAAAAAAAAAEZAAAAAAAAAQkAAAAAAAIBBQAAAAAAAADlAAAAAAABAUEAAAAAAAAA\\u002fQAAAAAAAgFFAAAAAAAAAOUAAAAAAAIBLQAAAAAAAgEFAAAAAAAAAOUAAAAAAAABAQAAAAAAAAENAAAAAAAAAQEAAAAAAAABQQAAAAAAAgEtAAAAAAABAUUAAAAAAAIBCQAAAAAAAAD9AAAAAAACAVUAAAAAAAAA5QAAAAAAAADlAAAAAAAAAKkAAAAAAAABAQAAAAAAAAEFAAAAAAABAUUAAAAAAAABHQAAAAAAAAERAAAAAAAAAPUAAAAAAAAA9QAAAAAAAAEVAAAAAAAAAOUAAAAAAAIBGQAAAAAAAgEtAAAAAAAAANkAAAAAAAIBOQAAAAAAAAD5AAAAAAAAATEAAAAAAAIBBQAAAAAAAADZAAAAAAAAAN0AAAAAAAIBFQAAAAAAAgEVAAAAAAACASEAAAAAAAAA3QAAAAAAAgERAAAAAAACAQEAAAAAAAAA+QAAAAAAAADlAAAAAAAAASkAAAAAAAABAQAAAAAAAAEdAAAAAAAAASEAAAAAAAABDQAAAAAAAADpAAAAAAAAAQEAAAAAAAAA8QAAAAAAAgEpAAAAAAAAAQ0AAAAAAAAAyQAAAAAAAAEBAAAAAAACAQkAAAAAAAAAyQAAAAAAAADRAAAAAAAAAPEAAAAAAAAAyQAAAAAAAADBAAAAAAAAAQkAAAAAAAIBMQAAAAAAAgEhAAAAAAAAAP0AAAAAAAAA6QAAAAAAAgElAAAAAAAAAPEAAAAAAAIBBQAAAAAAAgExAAAAAAAAAQkAAAAAAAABFQAAAAAAAAAAAAAAAAACASEAAAAAAAABPQAAAAAAAADVAAAAAAACAQ0AAAAAAAIBEQAAAAAAAAERAAAAAAAAASUAAAAAAAAA7QAAAAAAAADNAAAAAAAAAOkAAAAAAAABGQAAAAAAAAD5AAAAAAAAAP0AAAAAAAIBAQAAAAAAAADZAAAAAAAAASUAAAAAAAABHQAAAAAAAAENAAAAAAAAAN0AAAAAAAAA4QAAAAAAAADpAAAAAAAAAQ0AAAAAAAABAQAAAAAAAAElAAAAAAAAAMUAAAAAAAIBDQAAAAAAAADxAAAAAAAAARUAAAAAAAABBQAAAAAAAAENAAAAAAAAAOEAAAAAAAAA8QAAAAAAAAD1AAAAAAAAATUAAAAAAAAA1QAAAAAAAgEZAAAAAAAAAQ0AAAAAAAABEQAAAAAAAADNAAAAAAAAAR0AAAAAAAAA5QAAAAAAAgEJAAAAAAAAAOUAAAAAAAABCQAAAAAAAAEBAAAAAAACAQEAAAAAAAAA4QAAAAAAAgEJAAAAAAAAAQ0AAAAAAAIBGQAAAAAAAAD9AAAAAAAAAQUAAAAAAAAA3QAAAAAAAAENAAAAAAACAS0AAAAAAAABTQAAAAAAAgE1AAAAAAAAAREAAAAAAAAA3QAAAAAAAAFBAAAAAAAAAOkAAAAAAAIBBQAAAAAAAgEhAAAAAAAAAQkAAAAAAAABMQAAAAAAAgE1AAAAAAAAAQUAAAAAAAIBAQAAAAAAAgEVAAAAAAACARUAAAAAAAAA\\u002fQAAAAAAAADFAAAAAAAAAQEAAAAAAAAA\\u002fQAAAAAAAADNAAAAAAAAAN0AAAAAAAAA6QAAAAAAAgEZAAAAAAAAAQkAAAAAAAIBEQAAAAAAAgEpAAAAAAAAAAAAAAAAAAAA4QAAAAAAAAAAAAAAAAACAR0AAAAAAAABEQAAAAAAAAD1AAAAAAAAAQ0AAAAAAAAA2QAAAAAAAADVAAAAAAAAAOUAAAAAAAIBCQAAAAAAAAEhAAAAAAACAQkAAAAAAAABMQAAAAAAAgEFAAAAAAAAAOUAAAAAAAAA5QAAAAAAAAEhAAAAAAAAAOkAAAAAAAAA9QAAAAAAAAC5AAAAAAACAS0AAAAAAAAA1QAAAAAAAADhAAAAAAAAAMkAAAAAAAAAzQAAAAAAAADtAAAAAAACARkAAAAAAAABCQAAAAAAAAEFAAAAAAAAAN0AAAAAAAIBFQAAAAAAAgEVAAAAAAAAAM0AAAAAAAIBGQAAAAAAAgEJAAAAAAAAAN0AAAAAAAAA6QAAAAAAAADRAAAAAAAAASUAAAAAAAIBNQAAAAAAAgEBAAAAAAAAASEAAAAAAAAAyQAAAAAAAADdAAAAAAACAREAAAAAAAIBEQAAAAAAAgEtAAAAAAAAAPUAAAAAAAAA\\u002fQAAAAAAAADlAAAAAAAAAQ0AAAAAAAAAAAAAAAAAAwFRAAAAAAAAANkAAAAAAAIBAQAAAAAAAAEJAAAAAAAAAQ0AAAAAAAAA6QAAAAAAAAD1AAAAAAACAS0AAAAAAAIBHQAAAAAAAAEpAAAAAAACASEAAAAAAAAA\\u002fQAAAAAAAgEJAAAAAAACAQkAAAAAAAABCQAAAAAAAADRAAAAAAAAAAAAAAAAAAAA+QAAAAAAAAAAAAAAAAACAQUAAAAAAAIBBQAAAAAAAAEJAAAAAAACASkAAAAAAAIBDQAAAAAAAAD5AAAAAAAAAOEAAAAAAAEBSQAAAAAAAAD9AAAAAAAAAPEAAAAAAAAAyQAAAAAAAAEBAAAAAAAAATkAAAAAAAABCQAAAAAAAAEhAAAAAAACAQEAAAAAAAABGQAAAAAAAADRAAAAAAACAQkAAAAAAAABSQAAAAAAAAEpAAAAAAAAAP0AAAAAAAABHQAAAAAAAAAAAAAAAAAAAP0AAAAAAAAA5QAAAAAAAAEdAAAAAAAAAQ0AAAAAAAAA5QAAAAAAAAAAAAAAAAAAAO0AAAAAAAAA4QAAAAAAAADNAAAAAAAAAP0AAAAAAAIBLQAAAAAAAAAAAAAAAAAAAMkAAAAAAAAAAAAAAAAAAAEhAAAAAAAAAPUAAAAAAAAA+QAAAAAAAgEBAAAAAAACATkAAAAAAAIBBQAAAAAAAgERAAAAAAAAAQkAAAAAAAAA8QAAAAAAAAEpAAAAAAAAANUAAAAAAAAAAAAAAAAAAAD9AAAAAAACAQEAAAAAAAABHQAAAAAAAAEBAAAAAAAAARUAAAAAAAAAxQAAAAAAAAEZAAAAAAACAQUAAAAAAAAA3QAAAAAAAADVAAAAAAACASkAAAAAAAIBPQAAAAAAAADJAAAAAAACASUAAAAAAAABQQAAAAAAAgEZAAAAAAAAANEAAAAAAAIBEQAAAAAAAADdAAAAAAAAAQEAAAAAAAAA5QAAAAAAAAEVAAAAAAACAREAAAAAAAAA\\u002fQAAAAAAAAElAAAAAAAAAQ0AAAAAAAABGQAAAAAAAAENAAAAAAAAANUAAAAAAAABAQAAAAAAAADdAAAAAAACAREAAAAAAAIBEQAAAAAAAAENAAAAAAAAAS0AAAAAAAAA0QAAAAAAAADpAAAAAAAAAPUAAAAAAAIBHQAAAAAAAADxAAAAAAAAASEAAAAAAAABBQAAAAAAAgEBAAAAAAAAAQkAAAAAAAIBFQAAAAAAAAEBAAAAAAAAAPUAAAAAAAIBDQAAAAAAAADBAAAAAAAAAREAAAAAAAABJQAAAAAAAADNAAAAAAAAAPEAAAAAAAAA5QAAAAAAAgEhAAAAAAAAARkAAAAAAAIBDQAAAAAAAAEZAAAAAAAAASUAAAAAAAIBMQAAAAAAAgExAAAAAAACAQEAAAAAAAAA1QAAAAAAAAEpAAAAAAAAAO0AAAAAAAABOQAAAAAAAADlAAAAAAAAAQUAAAAAAAAA2QAAAAAAAADpAAAAAAAAAO0AAAAAAAAA9QAAAAAAAAD5AAAAAAAAAMkAAAAAAAABAQAAAAAAAgEJAAAAAAAAAS0AAAAAAAABJQAAAAAAAADxAAAAAAACATUAAAAAAAAA4QAAAAAAAAEFAAAAAAAAAOUAAAAAAAABIQAAAAAAAgEZAAAAAAAAAOUAAAAAAAAAxQAAAAAAAgEpAAAAAAAAAMkAAAAAAAABJQAAAAAAAAEJAAAAAAACARkAAAAAAAABFQAAAAAAAAAAAAAAAAAAAN0AAAAAAAAA\\u002fQAAAAAAAADJAAAAAAAAAOkAAAAAAAIBMQAAAAAAAADtAAAAAAACAREAAAAAAAIBAQAAAAAAAADZAAAAAAAAAQ0AAAAAAAAA6QAAAAAAAgEZAAAAAAAAAN0AAAAAAAABRQAAAAAAAAExAAAAAAACARkAAAAAAAIBEQAAAAAAAgEBAAAAAAAAANkAAAAAAAABJQAAAAAAAAEpAAAAAAAAAMkAAAAAAAIBBQAAAAAAAADJAAAAAAAAAQUAAAAAAAIBJQAAAAAAAAD1AAAAAAAAAQUAAAAAAAAA5QAAAAAAAADpAAAAAAACAQEAAAAAAAAAxQAAAAAAAAAAAAAAAAAAAOUAAAAAAAAA\\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\"},\"y0\":\" \",\"yaxis\":\"y\",\"type\":\"box\"},{\"alignmentgroup\":\"True\",\"hovertemplate\":\"gender=F\\u003cbr\\u003emanner_of_death=%{x}\\u003cbr\\u003eage=%{y}\\u003cextra\\u003e\\u003c\\u002fextra\\u003e\",\"legendgroup\":\"F\",\"marker\":{\"color\":\"#EF553B\"},\"name\":\"F\",\"notched\":false,\"offsetgroup\":\"F\",\"orientation\":\"v\",\"showlegend\":true,\"x\":[\"shot\",\"shot and Tasered\",\"shot\",\"shot\",\"shot\",\"shot\",\"shot\",\"shot\",\"shot\",\"shot\",\"shot\",\"shot\",\"shot\",\"shot\",\"shot\",\"shot\",\"shot\",\"shot\",\"shot and Tasered\",\"shot\",\"shot\",\"shot\",\"shot\",\"shot\",\"shot and Tasered\",\"shot\",\"shot\",\"shot\",\"shot\",\"shot\",\"shot\",\"shot\",\"shot\",\"shot\",\"shot\",\"shot\",\"shot\",\"shot\",\"shot\",\"shot\",\"shot\",\"shot\",\"shot\",\"shot\",\"shot\",\"shot\",\"shot\",\"shot\",\"shot\",\"shot\",\"shot\",\"shot\",\"shot\",\"shot\",\"shot\",\"shot\",\"shot\",\"shot\",\"shot\",\"shot\",\"shot\",\"shot\",\"shot\",\"shot\",\"shot\",\"shot\",\"shot\",\"shot\",\"shot\",\"shot\",\"shot\",\"shot\",\"shot\",\"shot\",\"shot\",\"shot\",\"shot\",\"shot\",\"shot\",\"shot\",\"shot\",\"shot\",\"shot and Tasered\",\"shot\",\"shot\",\"shot and Tasered\",\"shot\",\"shot\",\"shot\",\"shot\",\"shot\",\"shot\",\"shot\",\"shot\",\"shot\",\"shot\",\"shot\",\"shot\",\"shot\",\"shot\",\"shot\",\"shot\",\"shot\",\"shot\",\"shot\",\"shot\",\"shot\"],\"x0\":\" \",\"xaxis\":\"x\",\"y\":{\"dtype\":\"f8\",\"bdata\":\"AAAAAAAAQUAAAAAAAAAxQAAAAAAAADFAAAAAAACAQ0AAAAAAAABDQAAAAAAAgEVAAAAAAAAANEAAAAAAAABBQAAAAAAAADxAAAAAAACAQkAAAAAAAIBFQAAAAAAAADhAAAAAAACASEAAAAAAAIBKQAAAAAAAADpAAAAAAAAAO0AAAAAAAABHQAAAAAAAADlAAAAAAACAQ0AAAAAAAAA\\u002fQAAAAAAAgEZAAAAAAAAAMUAAAAAAAABEQAAAAAAAAEZAAAAAAAAAPkAAAAAAAAA8QAAAAAAAADdAAAAAAACAQkAAAAAAAIBLQAAAAAAAAE9AAAAAAAAAR0AAAAAAAABJQAAAAAAAADVAAAAAAAAAQkAAAAAAAIBCQAAAAAAAADtAAAAAAACATkAAAAAAAIBJQAAAAAAAAEhAAAAAAAAANkAAAAAAAIBLQAAAAAAAAElAAAAAAACARkAAAAAAAAAoQAAAAAAAADlAAAAAAAAAP0AAAAAAAABAQAAAAAAAgERAAAAAAAAAQEAAAAAAAABCQAAAAAAAAD9AAAAAAAAAQ0AAAAAAAABDQAAAAAAAADlAAAAAAAAAO0AAAAAAAABJQAAAAAAAAEJAAAAAAAAAREAAAAAAAAA5QAAAAAAAgEFAAAAAAAAATkAAAAAAAAA4QAAAAAAAADpAAAAAAAAAPUAAAAAAAAAAAAAAAAAAAEVAAAAAAAAAOEAAAAAAAABEQAAAAAAAADdAAAAAAACAQUAAAAAAAABHQAAAAAAAgEpAAAAAAAAAOkAAAAAAAIBQQAAAAAAAADdAAAAAAAAAOUAAAAAAAIBDQAAAAAAAAD9AAAAAAAAATEAAAAAAAABGQAAAAAAAgEpAAAAAAADAUUAAAAAAAIBCQAAAAAAAADVAAAAAAAAAMkAAAAAAAIBLQAAAAAAAAD5AAAAAAACAQEAAAAAAAABHQAAAAAAAADBAAAAAAACATUAAAAAAAAA1QAAAAAAAADFAAAAAAAAAS0AAAAAAAABJQAAAAAAAADtAAAAAAACAREAAAAAAAAAAAAAAAAAAADhAAAAAAAAAPEAAAAAAAAA+QAAAAAAAAAAAAAAAAAAAPUAAAAAAAABJQAAAAAAAAERAAAAAAAAAOUAAAAAAAABPQA==\"},\"y0\":\" \",\"yaxis\":\"y\",\"type\":\"box\"}],                        {\"template\":{\"data\":{\"histogram2dcontour\":[{\"type\":\"histogram2dcontour\",\"colorbar\":{\"outlinewidth\":0,\"ticks\":\"\"},\"colorscale\":[[0.0,\"#0d0887\"],[0.1111111111111111,\"#46039f\"],[0.2222222222222222,\"#7201a8\"],[0.3333333333333333,\"#9c179e\"],[0.4444444444444444,\"#bd3786\"],[0.5555555555555556,\"#d8576b\"],[0.6666666666666666,\"#ed7953\"],[0.7777777777777778,\"#fb9f3a\"],[0.8888888888888888,\"#fdca26\"],[1.0,\"#f0f921\"]]}],\"choropleth\":[{\"type\":\"choropleth\",\"colorbar\":{\"outlinewidth\":0,\"ticks\":\"\"}}],\"histogram2d\":[{\"type\":\"histogram2d\",\"colorbar\":{\"outlinewidth\":0,\"ticks\":\"\"},\"colorscale\":[[0.0,\"#0d0887\"],[0.1111111111111111,\"#46039f\"],[0.2222222222222222,\"#7201a8\"],[0.3333333333333333,\"#9c179e\"],[0.4444444444444444,\"#bd3786\"],[0.5555555555555556,\"#d8576b\"],[0.6666666666666666,\"#ed7953\"],[0.7777777777777778,\"#fb9f3a\"],[0.8888888888888888,\"#fdca26\"],[1.0,\"#f0f921\"]]}],\"heatmap\":[{\"type\":\"heatmap\",\"colorbar\":{\"outlinewidth\":0,\"ticks\":\"\"},\"colorscale\":[[0.0,\"#0d0887\"],[0.1111111111111111,\"#46039f\"],[0.2222222222222222,\"#7201a8\"],[0.3333333333333333,\"#9c179e\"],[0.4444444444444444,\"#bd3786\"],[0.5555555555555556,\"#d8576b\"],[0.6666666666666666,\"#ed7953\"],[0.7777777777777778,\"#fb9f3a\"],[0.8888888888888888,\"#fdca26\"],[1.0,\"#f0f921\"]]}],\"contourcarpet\":[{\"type\":\"contourcarpet\",\"colorbar\":{\"outlinewidth\":0,\"ticks\":\"\"}}],\"contour\":[{\"type\":\"contour\",\"colorbar\":{\"outlinewidth\":0,\"ticks\":\"\"},\"colorscale\":[[0.0,\"#0d0887\"],[0.1111111111111111,\"#46039f\"],[0.2222222222222222,\"#7201a8\"],[0.3333333333333333,\"#9c179e\"],[0.4444444444444444,\"#bd3786\"],[0.5555555555555556,\"#d8576b\"],[0.6666666666666666,\"#ed7953\"],[0.7777777777777778,\"#fb9f3a\"],[0.8888888888888888,\"#fdca26\"],[1.0,\"#f0f921\"]]}],\"surface\":[{\"type\":\"surface\",\"colorbar\":{\"outlinewidth\":0,\"ticks\":\"\"},\"colorscale\":[[0.0,\"#0d0887\"],[0.1111111111111111,\"#46039f\"],[0.2222222222222222,\"#7201a8\"],[0.3333333333333333,\"#9c179e\"],[0.4444444444444444,\"#bd3786\"],[0.5555555555555556,\"#d8576b\"],[0.6666666666666666,\"#ed7953\"],[0.7777777777777778,\"#fb9f3a\"],[0.8888888888888888,\"#fdca26\"],[1.0,\"#f0f921\"]]}],\"mesh3d\":[{\"type\":\"mesh3d\",\"colorbar\":{\"outlinewidth\":0,\"ticks\":\"\"}}],\"scatter\":[{\"fillpattern\":{\"fillmode\":\"overlay\",\"size\":10,\"solidity\":0.2},\"type\":\"scatter\"}],\"parcoords\":[{\"type\":\"parcoords\",\"line\":{\"colorbar\":{\"outlinewidth\":0,\"ticks\":\"\"}}}],\"scatterpolargl\":[{\"type\":\"scatterpolargl\",\"marker\":{\"colorbar\":{\"outlinewidth\":0,\"ticks\":\"\"}}}],\"bar\":[{\"error_x\":{\"color\":\"#2a3f5f\"},\"error_y\":{\"color\":\"#2a3f5f\"},\"marker\":{\"line\":{\"color\":\"#E5ECF6\",\"width\":0.5},\"pattern\":{\"fillmode\":\"overlay\",\"size\":10,\"solidity\":0.2}},\"type\":\"bar\"}],\"scattergeo\":[{\"type\":\"scattergeo\",\"marker\":{\"colorbar\":{\"outlinewidth\":0,\"ticks\":\"\"}}}],\"scatterpolar\":[{\"type\":\"scatterpolar\",\"marker\":{\"colorbar\":{\"outlinewidth\":0,\"ticks\":\"\"}}}],\"histogram\":[{\"marker\":{\"pattern\":{\"fillmode\":\"overlay\",\"size\":10,\"solidity\":0.2}},\"type\":\"histogram\"}],\"scattergl\":[{\"type\":\"scattergl\",\"marker\":{\"colorbar\":{\"outlinewidth\":0,\"ticks\":\"\"}}}],\"scatter3d\":[{\"type\":\"scatter3d\",\"line\":{\"colorbar\":{\"outlinewidth\":0,\"ticks\":\"\"}},\"marker\":{\"colorbar\":{\"outlinewidth\":0,\"ticks\":\"\"}}}],\"scattermap\":[{\"type\":\"scattermap\",\"marker\":{\"colorbar\":{\"outlinewidth\":0,\"ticks\":\"\"}}}],\"scattermapbox\":[{\"type\":\"scattermapbox\",\"marker\":{\"colorbar\":{\"outlinewidth\":0,\"ticks\":\"\"}}}],\"scatterternary\":[{\"type\":\"scatterternary\",\"marker\":{\"colorbar\":{\"outlinewidth\":0,\"ticks\":\"\"}}}],\"scattercarpet\":[{\"type\":\"scattercarpet\",\"marker\":{\"colorbar\":{\"outlinewidth\":0,\"ticks\":\"\"}}}],\"carpet\":[{\"aaxis\":{\"endlinecolor\":\"#2a3f5f\",\"gridcolor\":\"white\",\"linecolor\":\"white\",\"minorgridcolor\":\"white\",\"startlinecolor\":\"#2a3f5f\"},\"baxis\":{\"endlinecolor\":\"#2a3f5f\",\"gridcolor\":\"white\",\"linecolor\":\"white\",\"minorgridcolor\":\"white\",\"startlinecolor\":\"#2a3f5f\"},\"type\":\"carpet\"}],\"table\":[{\"cells\":{\"fill\":{\"color\":\"#EBF0F8\"},\"line\":{\"color\":\"white\"}},\"header\":{\"fill\":{\"color\":\"#C8D4E3\"},\"line\":{\"color\":\"white\"}},\"type\":\"table\"}],\"barpolar\":[{\"marker\":{\"line\":{\"color\":\"#E5ECF6\",\"width\":0.5},\"pattern\":{\"fillmode\":\"overlay\",\"size\":10,\"solidity\":0.2}},\"type\":\"barpolar\"}],\"pie\":[{\"automargin\":true,\"type\":\"pie\"}]},\"layout\":{\"autotypenumbers\":\"strict\",\"colorway\":[\"#636efa\",\"#EF553B\",\"#00cc96\",\"#ab63fa\",\"#FFA15A\",\"#19d3f3\",\"#FF6692\",\"#B6E880\",\"#FF97FF\",\"#FECB52\"],\"font\":{\"color\":\"#2a3f5f\"},\"hovermode\":\"closest\",\"hoverlabel\":{\"align\":\"left\"},\"paper_bgcolor\":\"white\",\"plot_bgcolor\":\"#E5ECF6\",\"polar\":{\"bgcolor\":\"#E5ECF6\",\"angularaxis\":{\"gridcolor\":\"white\",\"linecolor\":\"white\",\"ticks\":\"\"},\"radialaxis\":{\"gridcolor\":\"white\",\"linecolor\":\"white\",\"ticks\":\"\"}},\"ternary\":{\"bgcolor\":\"#E5ECF6\",\"aaxis\":{\"gridcolor\":\"white\",\"linecolor\":\"white\",\"ticks\":\"\"},\"baxis\":{\"gridcolor\":\"white\",\"linecolor\":\"white\",\"ticks\":\"\"},\"caxis\":{\"gridcolor\":\"white\",\"linecolor\":\"white\",\"ticks\":\"\"}},\"coloraxis\":{\"colorbar\":{\"outlinewidth\":0,\"ticks\":\"\"}},\"colorscale\":{\"sequential\":[[0.0,\"#0d0887\"],[0.1111111111111111,\"#46039f\"],[0.2222222222222222,\"#7201a8\"],[0.3333333333333333,\"#9c179e\"],[0.4444444444444444,\"#bd3786\"],[0.5555555555555556,\"#d8576b\"],[0.6666666666666666,\"#ed7953\"],[0.7777777777777778,\"#fb9f3a\"],[0.8888888888888888,\"#fdca26\"],[1.0,\"#f0f921\"]],\"sequentialminus\":[[0.0,\"#0d0887\"],[0.1111111111111111,\"#46039f\"],[0.2222222222222222,\"#7201a8\"],[0.3333333333333333,\"#9c179e\"],[0.4444444444444444,\"#bd3786\"],[0.5555555555555556,\"#d8576b\"],[0.6666666666666666,\"#ed7953\"],[0.7777777777777778,\"#fb9f3a\"],[0.8888888888888888,\"#fdca26\"],[1.0,\"#f0f921\"]],\"diverging\":[[0,\"#8e0152\"],[0.1,\"#c51b7d\"],[0.2,\"#de77ae\"],[0.3,\"#f1b6da\"],[0.4,\"#fde0ef\"],[0.5,\"#f7f7f7\"],[0.6,\"#e6f5d0\"],[0.7,\"#b8e186\"],[0.8,\"#7fbc41\"],[0.9,\"#4d9221\"],[1,\"#276419\"]]},\"xaxis\":{\"gridcolor\":\"white\",\"linecolor\":\"white\",\"ticks\":\"\",\"title\":{\"standoff\":15},\"zerolinecolor\":\"white\",\"automargin\":true,\"zerolinewidth\":2},\"yaxis\":{\"gridcolor\":\"white\",\"linecolor\":\"white\",\"ticks\":\"\",\"title\":{\"standoff\":15},\"zerolinecolor\":\"white\",\"automargin\":true,\"zerolinewidth\":2},\"scene\":{\"xaxis\":{\"backgroundcolor\":\"#E5ECF6\",\"gridcolor\":\"white\",\"linecolor\":\"white\",\"showbackground\":true,\"ticks\":\"\",\"zerolinecolor\":\"white\",\"gridwidth\":2},\"yaxis\":{\"backgroundcolor\":\"#E5ECF6\",\"gridcolor\":\"white\",\"linecolor\":\"white\",\"showbackground\":true,\"ticks\":\"\",\"zerolinecolor\":\"white\",\"gridwidth\":2},\"zaxis\":{\"backgroundcolor\":\"#E5ECF6\",\"gridcolor\":\"white\",\"linecolor\":\"white\",\"showbackground\":true,\"ticks\":\"\",\"zerolinecolor\":\"white\",\"gridwidth\":2}},\"shapedefaults\":{\"line\":{\"color\":\"#2a3f5f\"}},\"annotationdefaults\":{\"arrowcolor\":\"#2a3f5f\",\"arrowhead\":0,\"arrowwidth\":1},\"geo\":{\"bgcolor\":\"white\",\"landcolor\":\"#E5ECF6\",\"subunitcolor\":\"white\",\"showland\":true,\"showlakes\":true,\"lakecolor\":\"white\"},\"title\":{\"x\":0.05},\"mapbox\":{\"style\":\"light\"}}},\"xaxis\":{\"anchor\":\"y\",\"domain\":[0.0,1.0],\"title\":{\"text\":\"manner_of_death\"}},\"yaxis\":{\"anchor\":\"x\",\"domain\":[0.0,1.0],\"title\":{\"text\":\"age\"}},\"legend\":{\"title\":{\"text\":\"gender\"},\"tracegroupgap\":0},\"title\":{\"text\":\"Age and Manner of Death by Gender\"},\"boxmode\":\"group\"},                        {\"responsive\": true}                    ).then(function(){\n",
              "                            \n",
              "var gd = document.getElementById('185f6fe5-6317-4756-a0de-bc26da0a7d68');\n",
              "var x = new MutationObserver(function (mutations, observer) {{\n",
              "        var display = window.getComputedStyle(gd).display;\n",
              "        if (!display || display === 'none') {{\n",
              "            console.log([gd, 'removed!']);\n",
              "            Plotly.purge(gd);\n",
              "            observer.disconnect();\n",
              "        }}\n",
              "}});\n",
              "\n",
              "// Listen for the removal of the full notebook cells\n",
              "var notebookContainer = gd.closest('#notebook-container');\n",
              "if (notebookContainer) {{\n",
              "    x.observe(notebookContainer, {childList: true});\n",
              "}}\n",
              "\n",
              "// Listen for the clearing of the current output cell\n",
              "var outputEl = gd.closest('.output');\n",
              "if (outputEl) {{\n",
              "    x.observe(outputEl, {childList: true});\n",
              "}}\n",
              "\n",
              "                        })                };            </script>        </div>\n",
              "</body>\n",
              "</html>"
            ]
          },
          "metadata": {}
        }
      ]
    },
    {
      "cell_type": "markdown",
      "source": [
        "**Most cases** fall under the category **“shot”** for both men and women. **“Shot and tasered”** cases are fewer but follow a similar age pattern.\n",
        "\n",
        "For both men and women, the **median age is around 30–40 years**. The **interquartile range (IQR)** (middle 50% of cases) mostly spans **mid-20s to mid-40s**. There are **outliers at very young ages (close to 0)** and at **older ages (70–90+)**, especially for men.\n",
        "\n",
        "**Men (blue):** Show a slightly wider spread of ages compared to women. Have more **extreme outliers**, including individuals above 80 years.\n",
        "\n",
        "**Women (red):** Median ages are quite close to men’s, but distributions are **slightly narrower** (less spread). Outliers are present, but fewer in number compared to men.\n",
        "\n",
        "Deaths (whether by shooting or shooting with tasering) **primarily affect younger to middle-aged adults**. **Men are disproportionately represented** (consistent with the earlier total deaths chart). The presence of **both very young and elderly victims** highlights that while most are adults, the phenomenon affects all age groups.\n",
        "\n",
        "Victims are most often in their **30s–40s**. Men have a **broader age range** of victims, including more elderly outliers. Women’s cases are **less frequent** and more tightly clustered around the 30–40 age group.\n"
      ],
      "metadata": {
        "id": "FNjfCP0QaFsW"
      }
    },
    {
      "cell_type": "markdown",
      "metadata": {
        "id": "h1pAgkyb3Xb0"
      },
      "source": [
        "# Were People Armed?\n",
        "\n",
        "In what percentage of police killings were people armed? Create chart that show what kind of weapon (if any) the deceased was carrying. How many of the people killed by police were armed with guns versus unarmed?"
      ]
    },
    {
      "cell_type": "code",
      "source": [
        "# Count number of fatalities\n",
        "df_fatalities['armed_or_unarmed'] = df_fatalities['armed'].apply(lambda x: 'unarmed' if x == 'unarmed' else 'armed')\n",
        "armed_counts = df_fatalities[\"armed_or_unarmed\"].value_counts().reset_index()\n",
        "armed_counts.columns = [\"Armed\", \"Deaths\"]\n",
        "\n",
        "# Bar chart\n",
        "fig = px.bar(\n",
        "    armed_counts,\n",
        "    x=\"Armed\",\n",
        "    y=\"Deaths\",\n",
        "    text=\"Deaths\",\n",
        "    color=\"Armed\",\n",
        "    title=\"Were People Armed?\"\n",
        ")\n",
        "\n",
        "fig.update_traces(textposition=\"outside\")\n",
        "fig.show()"
      ],
      "metadata": {
        "colab": {
          "base_uri": "https://localhost:8080/",
          "height": 542
        },
        "id": "gQwIvObBckN0",
        "outputId": "947ac3ce-ba47-4d55-ce28-e5a5244d1047"
      },
      "execution_count": 18,
      "outputs": [
        {
          "output_type": "display_data",
          "data": {
            "text/html": [
              "<html>\n",
              "<head><meta charset=\"utf-8\" /></head>\n",
              "<body>\n",
              "    <div>            <script src=\"https://cdnjs.cloudflare.com/ajax/libs/mathjax/2.7.5/MathJax.js?config=TeX-AMS-MML_SVG\"></script><script type=\"text/javascript\">if (window.MathJax && window.MathJax.Hub && window.MathJax.Hub.Config) {window.MathJax.Hub.Config({SVG: {font: \"STIX-Web\"}});}</script>                <script type=\"text/javascript\">window.PlotlyConfig = {MathJaxConfig: 'local'};</script>\n",
              "        <script charset=\"utf-8\" src=\"https://cdn.plot.ly/plotly-3.1.0.min.js\" integrity=\"sha256-Ei4740bWZhaUTQuD6q9yQlgVCMPBz6CZWhevDYPv93A=\" crossorigin=\"anonymous\"></script>                <div id=\"d7d1877f-f678-4943-9b66-35a6e94411a1\" class=\"plotly-graph-div\" style=\"height:525px; width:100%;\"></div>            <script type=\"text/javascript\">                window.PLOTLYENV=window.PLOTLYENV || {};                                if (document.getElementById(\"d7d1877f-f678-4943-9b66-35a6e94411a1\")) {                    Plotly.newPlot(                        \"d7d1877f-f678-4943-9b66-35a6e94411a1\",                        [{\"hovertemplate\":\"Armed=%{x}\\u003cbr\\u003eDeaths=%{text}\\u003cextra\\u003e\\u003c\\u002fextra\\u003e\",\"legendgroup\":\"armed\",\"marker\":{\"color\":\"#636efa\",\"pattern\":{\"shape\":\"\"}},\"name\":\"armed\",\"orientation\":\"v\",\"showlegend\":true,\"text\":{\"dtype\":\"f8\",\"bdata\":\"AAAAAAB4okA=\"},\"textposition\":\"outside\",\"x\":[\"armed\"],\"xaxis\":\"x\",\"y\":{\"dtype\":\"i2\",\"bdata\":\"PAk=\"},\"yaxis\":\"y\",\"type\":\"bar\"},{\"hovertemplate\":\"Armed=%{x}\\u003cbr\\u003eDeaths=%{text}\\u003cextra\\u003e\\u003c\\u002fextra\\u003e\",\"legendgroup\":\"unarmed\",\"marker\":{\"color\":\"#EF553B\",\"pattern\":{\"shape\":\"\"}},\"name\":\"unarmed\",\"orientation\":\"v\",\"showlegend\":true,\"text\":{\"dtype\":\"f8\",\"bdata\":\"AAAAAABgZUA=\"},\"textposition\":\"outside\",\"x\":[\"unarmed\"],\"xaxis\":\"x\",\"y\":{\"dtype\":\"i2\",\"bdata\":\"qwA=\"},\"yaxis\":\"y\",\"type\":\"bar\"}],                        {\"template\":{\"data\":{\"histogram2dcontour\":[{\"type\":\"histogram2dcontour\",\"colorbar\":{\"outlinewidth\":0,\"ticks\":\"\"},\"colorscale\":[[0.0,\"#0d0887\"],[0.1111111111111111,\"#46039f\"],[0.2222222222222222,\"#7201a8\"],[0.3333333333333333,\"#9c179e\"],[0.4444444444444444,\"#bd3786\"],[0.5555555555555556,\"#d8576b\"],[0.6666666666666666,\"#ed7953\"],[0.7777777777777778,\"#fb9f3a\"],[0.8888888888888888,\"#fdca26\"],[1.0,\"#f0f921\"]]}],\"choropleth\":[{\"type\":\"choropleth\",\"colorbar\":{\"outlinewidth\":0,\"ticks\":\"\"}}],\"histogram2d\":[{\"type\":\"histogram2d\",\"colorbar\":{\"outlinewidth\":0,\"ticks\":\"\"},\"colorscale\":[[0.0,\"#0d0887\"],[0.1111111111111111,\"#46039f\"],[0.2222222222222222,\"#7201a8\"],[0.3333333333333333,\"#9c179e\"],[0.4444444444444444,\"#bd3786\"],[0.5555555555555556,\"#d8576b\"],[0.6666666666666666,\"#ed7953\"],[0.7777777777777778,\"#fb9f3a\"],[0.8888888888888888,\"#fdca26\"],[1.0,\"#f0f921\"]]}],\"heatmap\":[{\"type\":\"heatmap\",\"colorbar\":{\"outlinewidth\":0,\"ticks\":\"\"},\"colorscale\":[[0.0,\"#0d0887\"],[0.1111111111111111,\"#46039f\"],[0.2222222222222222,\"#7201a8\"],[0.3333333333333333,\"#9c179e\"],[0.4444444444444444,\"#bd3786\"],[0.5555555555555556,\"#d8576b\"],[0.6666666666666666,\"#ed7953\"],[0.7777777777777778,\"#fb9f3a\"],[0.8888888888888888,\"#fdca26\"],[1.0,\"#f0f921\"]]}],\"contourcarpet\":[{\"type\":\"contourcarpet\",\"colorbar\":{\"outlinewidth\":0,\"ticks\":\"\"}}],\"contour\":[{\"type\":\"contour\",\"colorbar\":{\"outlinewidth\":0,\"ticks\":\"\"},\"colorscale\":[[0.0,\"#0d0887\"],[0.1111111111111111,\"#46039f\"],[0.2222222222222222,\"#7201a8\"],[0.3333333333333333,\"#9c179e\"],[0.4444444444444444,\"#bd3786\"],[0.5555555555555556,\"#d8576b\"],[0.6666666666666666,\"#ed7953\"],[0.7777777777777778,\"#fb9f3a\"],[0.8888888888888888,\"#fdca26\"],[1.0,\"#f0f921\"]]}],\"surface\":[{\"type\":\"surface\",\"colorbar\":{\"outlinewidth\":0,\"ticks\":\"\"},\"colorscale\":[[0.0,\"#0d0887\"],[0.1111111111111111,\"#46039f\"],[0.2222222222222222,\"#7201a8\"],[0.3333333333333333,\"#9c179e\"],[0.4444444444444444,\"#bd3786\"],[0.5555555555555556,\"#d8576b\"],[0.6666666666666666,\"#ed7953\"],[0.7777777777777778,\"#fb9f3a\"],[0.8888888888888888,\"#fdca26\"],[1.0,\"#f0f921\"]]}],\"mesh3d\":[{\"type\":\"mesh3d\",\"colorbar\":{\"outlinewidth\":0,\"ticks\":\"\"}}],\"scatter\":[{\"fillpattern\":{\"fillmode\":\"overlay\",\"size\":10,\"solidity\":0.2},\"type\":\"scatter\"}],\"parcoords\":[{\"type\":\"parcoords\",\"line\":{\"colorbar\":{\"outlinewidth\":0,\"ticks\":\"\"}}}],\"scatterpolargl\":[{\"type\":\"scatterpolargl\",\"marker\":{\"colorbar\":{\"outlinewidth\":0,\"ticks\":\"\"}}}],\"bar\":[{\"error_x\":{\"color\":\"#2a3f5f\"},\"error_y\":{\"color\":\"#2a3f5f\"},\"marker\":{\"line\":{\"color\":\"#E5ECF6\",\"width\":0.5},\"pattern\":{\"fillmode\":\"overlay\",\"size\":10,\"solidity\":0.2}},\"type\":\"bar\"}],\"scattergeo\":[{\"type\":\"scattergeo\",\"marker\":{\"colorbar\":{\"outlinewidth\":0,\"ticks\":\"\"}}}],\"scatterpolar\":[{\"type\":\"scatterpolar\",\"marker\":{\"colorbar\":{\"outlinewidth\":0,\"ticks\":\"\"}}}],\"histogram\":[{\"marker\":{\"pattern\":{\"fillmode\":\"overlay\",\"size\":10,\"solidity\":0.2}},\"type\":\"histogram\"}],\"scattergl\":[{\"type\":\"scattergl\",\"marker\":{\"colorbar\":{\"outlinewidth\":0,\"ticks\":\"\"}}}],\"scatter3d\":[{\"type\":\"scatter3d\",\"line\":{\"colorbar\":{\"outlinewidth\":0,\"ticks\":\"\"}},\"marker\":{\"colorbar\":{\"outlinewidth\":0,\"ticks\":\"\"}}}],\"scattermap\":[{\"type\":\"scattermap\",\"marker\":{\"colorbar\":{\"outlinewidth\":0,\"ticks\":\"\"}}}],\"scattermapbox\":[{\"type\":\"scattermapbox\",\"marker\":{\"colorbar\":{\"outlinewidth\":0,\"ticks\":\"\"}}}],\"scatterternary\":[{\"type\":\"scatterternary\",\"marker\":{\"colorbar\":{\"outlinewidth\":0,\"ticks\":\"\"}}}],\"scattercarpet\":[{\"type\":\"scattercarpet\",\"marker\":{\"colorbar\":{\"outlinewidth\":0,\"ticks\":\"\"}}}],\"carpet\":[{\"aaxis\":{\"endlinecolor\":\"#2a3f5f\",\"gridcolor\":\"white\",\"linecolor\":\"white\",\"minorgridcolor\":\"white\",\"startlinecolor\":\"#2a3f5f\"},\"baxis\":{\"endlinecolor\":\"#2a3f5f\",\"gridcolor\":\"white\",\"linecolor\":\"white\",\"minorgridcolor\":\"white\",\"startlinecolor\":\"#2a3f5f\"},\"type\":\"carpet\"}],\"table\":[{\"cells\":{\"fill\":{\"color\":\"#EBF0F8\"},\"line\":{\"color\":\"white\"}},\"header\":{\"fill\":{\"color\":\"#C8D4E3\"},\"line\":{\"color\":\"white\"}},\"type\":\"table\"}],\"barpolar\":[{\"marker\":{\"line\":{\"color\":\"#E5ECF6\",\"width\":0.5},\"pattern\":{\"fillmode\":\"overlay\",\"size\":10,\"solidity\":0.2}},\"type\":\"barpolar\"}],\"pie\":[{\"automargin\":true,\"type\":\"pie\"}]},\"layout\":{\"autotypenumbers\":\"strict\",\"colorway\":[\"#636efa\",\"#EF553B\",\"#00cc96\",\"#ab63fa\",\"#FFA15A\",\"#19d3f3\",\"#FF6692\",\"#B6E880\",\"#FF97FF\",\"#FECB52\"],\"font\":{\"color\":\"#2a3f5f\"},\"hovermode\":\"closest\",\"hoverlabel\":{\"align\":\"left\"},\"paper_bgcolor\":\"white\",\"plot_bgcolor\":\"#E5ECF6\",\"polar\":{\"bgcolor\":\"#E5ECF6\",\"angularaxis\":{\"gridcolor\":\"white\",\"linecolor\":\"white\",\"ticks\":\"\"},\"radialaxis\":{\"gridcolor\":\"white\",\"linecolor\":\"white\",\"ticks\":\"\"}},\"ternary\":{\"bgcolor\":\"#E5ECF6\",\"aaxis\":{\"gridcolor\":\"white\",\"linecolor\":\"white\",\"ticks\":\"\"},\"baxis\":{\"gridcolor\":\"white\",\"linecolor\":\"white\",\"ticks\":\"\"},\"caxis\":{\"gridcolor\":\"white\",\"linecolor\":\"white\",\"ticks\":\"\"}},\"coloraxis\":{\"colorbar\":{\"outlinewidth\":0,\"ticks\":\"\"}},\"colorscale\":{\"sequential\":[[0.0,\"#0d0887\"],[0.1111111111111111,\"#46039f\"],[0.2222222222222222,\"#7201a8\"],[0.3333333333333333,\"#9c179e\"],[0.4444444444444444,\"#bd3786\"],[0.5555555555555556,\"#d8576b\"],[0.6666666666666666,\"#ed7953\"],[0.7777777777777778,\"#fb9f3a\"],[0.8888888888888888,\"#fdca26\"],[1.0,\"#f0f921\"]],\"sequentialminus\":[[0.0,\"#0d0887\"],[0.1111111111111111,\"#46039f\"],[0.2222222222222222,\"#7201a8\"],[0.3333333333333333,\"#9c179e\"],[0.4444444444444444,\"#bd3786\"],[0.5555555555555556,\"#d8576b\"],[0.6666666666666666,\"#ed7953\"],[0.7777777777777778,\"#fb9f3a\"],[0.8888888888888888,\"#fdca26\"],[1.0,\"#f0f921\"]],\"diverging\":[[0,\"#8e0152\"],[0.1,\"#c51b7d\"],[0.2,\"#de77ae\"],[0.3,\"#f1b6da\"],[0.4,\"#fde0ef\"],[0.5,\"#f7f7f7\"],[0.6,\"#e6f5d0\"],[0.7,\"#b8e186\"],[0.8,\"#7fbc41\"],[0.9,\"#4d9221\"],[1,\"#276419\"]]},\"xaxis\":{\"gridcolor\":\"white\",\"linecolor\":\"white\",\"ticks\":\"\",\"title\":{\"standoff\":15},\"zerolinecolor\":\"white\",\"automargin\":true,\"zerolinewidth\":2},\"yaxis\":{\"gridcolor\":\"white\",\"linecolor\":\"white\",\"ticks\":\"\",\"title\":{\"standoff\":15},\"zerolinecolor\":\"white\",\"automargin\":true,\"zerolinewidth\":2},\"scene\":{\"xaxis\":{\"backgroundcolor\":\"#E5ECF6\",\"gridcolor\":\"white\",\"linecolor\":\"white\",\"showbackground\":true,\"ticks\":\"\",\"zerolinecolor\":\"white\",\"gridwidth\":2},\"yaxis\":{\"backgroundcolor\":\"#E5ECF6\",\"gridcolor\":\"white\",\"linecolor\":\"white\",\"showbackground\":true,\"ticks\":\"\",\"zerolinecolor\":\"white\",\"gridwidth\":2},\"zaxis\":{\"backgroundcolor\":\"#E5ECF6\",\"gridcolor\":\"white\",\"linecolor\":\"white\",\"showbackground\":true,\"ticks\":\"\",\"zerolinecolor\":\"white\",\"gridwidth\":2}},\"shapedefaults\":{\"line\":{\"color\":\"#2a3f5f\"}},\"annotationdefaults\":{\"arrowcolor\":\"#2a3f5f\",\"arrowhead\":0,\"arrowwidth\":1},\"geo\":{\"bgcolor\":\"white\",\"landcolor\":\"#E5ECF6\",\"subunitcolor\":\"white\",\"showland\":true,\"showlakes\":true,\"lakecolor\":\"white\"},\"title\":{\"x\":0.05},\"mapbox\":{\"style\":\"light\"}}},\"xaxis\":{\"anchor\":\"y\",\"domain\":[0.0,1.0],\"title\":{\"text\":\"Armed\"},\"categoryorder\":\"array\",\"categoryarray\":[\"armed\",\"unarmed\"]},\"yaxis\":{\"anchor\":\"x\",\"domain\":[0.0,1.0],\"title\":{\"text\":\"Deaths\"}},\"legend\":{\"title\":{\"text\":\"Armed\"},\"tracegroupgap\":0},\"title\":{\"text\":\"Were People Armed?\"},\"barmode\":\"relative\"},                        {\"responsive\": true}                    ).then(function(){\n",
              "                            \n",
              "var gd = document.getElementById('d7d1877f-f678-4943-9b66-35a6e94411a1');\n",
              "var x = new MutationObserver(function (mutations, observer) {{\n",
              "        var display = window.getComputedStyle(gd).display;\n",
              "        if (!display || display === 'none') {{\n",
              "            console.log([gd, 'removed!']);\n",
              "            Plotly.purge(gd);\n",
              "            observer.disconnect();\n",
              "        }}\n",
              "}});\n",
              "\n",
              "// Listen for the removal of the full notebook cells\n",
              "var notebookContainer = gd.closest('#notebook-container');\n",
              "if (notebookContainer) {{\n",
              "    x.observe(notebookContainer, {childList: true});\n",
              "}}\n",
              "\n",
              "// Listen for the clearing of the current output cell\n",
              "var outputEl = gd.closest('.output');\n",
              "if (outputEl) {{\n",
              "    x.observe(outputEl, {childList: true});\n",
              "}}\n",
              "\n",
              "                        })                };            </script>        </div>\n",
              "</body>\n",
              "</html>"
            ]
          },
          "metadata": {}
        }
      ]
    },
    {
      "cell_type": "markdown",
      "source": [
        "The vast majority of people (over 90%) were armed with some type of weapon when killed. A smaller, but still significant, number of people were unarmed."
      ],
      "metadata": {
        "id": "PL_Hlz9tgMqw"
      }
    },
    {
      "cell_type": "code",
      "metadata": {
        "id": "qnO_rckl4WuJ",
        "colab": {
          "base_uri": "https://localhost:8080/",
          "height": 542
        },
        "outputId": "0fab45b3-2641-4d3c-f62d-7ceafb0487c9"
      },
      "source": [
        "# Count number of fatalities\n",
        "weapon_counts = df_fatalities[df_fatalities[\"armed\"] != \"unarmed\"][\"armed\"].value_counts().reset_index()\n",
        "weapon_counts.columns = [\"Weapon\", \"Deaths\"]\n",
        "\n",
        "# Bar chart\n",
        "fig = px.bar(\n",
        "    weapon_counts,\n",
        "    x=\"Weapon\",\n",
        "    y=\"Deaths\",\n",
        "    text=\"Deaths\",\n",
        "    color=\"Weapon\",\n",
        "    title=\"What Kind of Weapons Were the Deceased Carrying?\"\n",
        ")\n",
        "\n",
        "fig.update_traces(textposition=\"outside\")\n",
        "fig.show()"
      ],
      "execution_count": 19,
      "outputs": [
        {
          "output_type": "display_data",
          "data": {
            "text/html": [
              "<html>\n",
              "<head><meta charset=\"utf-8\" /></head>\n",
              "<body>\n",
              "    <div>            <script src=\"https://cdnjs.cloudflare.com/ajax/libs/mathjax/2.7.5/MathJax.js?config=TeX-AMS-MML_SVG\"></script><script type=\"text/javascript\">if (window.MathJax && window.MathJax.Hub && window.MathJax.Hub.Config) {window.MathJax.Hub.Config({SVG: {font: \"STIX-Web\"}});}</script>                <script type=\"text/javascript\">window.PlotlyConfig = {MathJaxConfig: 'local'};</script>\n",
              "        <script charset=\"utf-8\" src=\"https://cdn.plot.ly/plotly-3.1.0.min.js\" integrity=\"sha256-Ei4740bWZhaUTQuD6q9yQlgVCMPBz6CZWhevDYPv93A=\" crossorigin=\"anonymous\"></script>                <div id=\"3dbc9761-0311-4018-91ee-931d6b30a474\" class=\"plotly-graph-div\" style=\"height:525px; width:100%;\"></div>            <script type=\"text/javascript\">                window.PLOTLYENV=window.PLOTLYENV || {};                                if (document.getElementById(\"3dbc9761-0311-4018-91ee-931d6b30a474\")) {                    Plotly.newPlot(                        \"3dbc9761-0311-4018-91ee-931d6b30a474\",                        [{\"hovertemplate\":\"Weapon=%{x}\\u003cbr\\u003eDeaths=%{text}\\u003cextra\\u003e\\u003c\\u002fextra\\u003e\",\"legendgroup\":\"gun\",\"marker\":{\"color\":\"#636efa\",\"pattern\":{\"shape\":\"\"}},\"name\":\"gun\",\"orientation\":\"v\",\"showlegend\":true,\"text\":{\"dtype\":\"f8\",\"bdata\":\"AAAAAADYlUA=\"},\"textposition\":\"outside\",\"x\":[\"gun\"],\"xaxis\":\"x\",\"y\":{\"dtype\":\"i2\",\"bdata\":\"dgU=\"},\"yaxis\":\"y\",\"type\":\"bar\"},{\"hovertemplate\":\"Weapon=%{x}\\u003cbr\\u003eDeaths=%{text}\\u003cextra\\u003e\\u003c\\u002fextra\\u003e\",\"legendgroup\":\"knife\",\"marker\":{\"color\":\"#EF553B\",\"pattern\":{\"shape\":\"\"}},\"name\":\"knife\",\"orientation\":\"v\",\"showlegend\":true,\"text\":{\"dtype\":\"f8\",\"bdata\":\"AAAAAABQd0A=\"},\"textposition\":\"outside\",\"x\":[\"knife\"],\"xaxis\":\"x\",\"y\":{\"dtype\":\"i2\",\"bdata\":\"dQE=\"},\"yaxis\":\"y\",\"type\":\"bar\"},{\"hovertemplate\":\"Weapon=%{x}\\u003cbr\\u003eDeaths=%{text}\\u003cextra\\u003e\\u003c\\u002fextra\\u003e\",\"legendgroup\":\"vehicle\",\"marker\":{\"color\":\"#00cc96\",\"pattern\":{\"shape\":\"\"}},\"name\":\"vehicle\",\"orientation\":\"v\",\"showlegend\":true,\"text\":{\"dtype\":\"f8\",\"bdata\":\"AAAAAAAgZkA=\"},\"textposition\":\"outside\",\"x\":[\"vehicle\"],\"xaxis\":\"x\",\"y\":{\"dtype\":\"i2\",\"bdata\":\"sQA=\"},\"yaxis\":\"y\",\"type\":\"bar\"},{\"hovertemplate\":\"Weapon=%{x}\\u003cbr\\u003eDeaths=%{text}\\u003cextra\\u003e\\u003c\\u002fextra\\u003e\",\"legendgroup\":\"undetermined\",\"marker\":{\"color\":\"#ab63fa\",\"pattern\":{\"shape\":\"\"}},\"name\":\"undetermined\",\"orientation\":\"v\",\"showlegend\":true,\"text\":{\"dtype\":\"f8\",\"bdata\":\"AAAAAABAXUA=\"},\"textposition\":\"outside\",\"x\":[\"undetermined\"],\"xaxis\":\"x\",\"y\":{\"dtype\":\"i1\",\"bdata\":\"dQ==\"},\"yaxis\":\"y\",\"type\":\"bar\"},{\"hovertemplate\":\"Weapon=%{x}\\u003cbr\\u003eDeaths=%{text}\\u003cextra\\u003e\\u003c\\u002fextra\\u003e\",\"legendgroup\":\"toy weapon\",\"marker\":{\"color\":\"#FFA15A\",\"pattern\":{\"shape\":\"\"}},\"name\":\"toy weapon\",\"orientation\":\"v\",\"showlegend\":true,\"text\":{\"dtype\":\"f8\",\"bdata\":\"AAAAAAAAWkA=\"},\"textposition\":\"outside\",\"x\":[\"toy weapon\"],\"xaxis\":\"x\",\"y\":{\"dtype\":\"i1\",\"bdata\":\"aA==\"},\"yaxis\":\"y\",\"type\":\"bar\"},{\"hovertemplate\":\"Weapon=%{x}\\u003cbr\\u003eDeaths=%{text}\\u003cextra\\u003e\\u003c\\u002fextra\\u003e\",\"legendgroup\":\"machete\",\"marker\":{\"color\":\"#19d3f3\",\"pattern\":{\"shape\":\"\"}},\"name\":\"machete\",\"orientation\":\"v\",\"showlegend\":true,\"text\":{\"dtype\":\"f8\",\"bdata\":\"AAAAAAAAMkA=\"},\"textposition\":\"outside\",\"x\":[\"machete\"],\"xaxis\":\"x\",\"y\":{\"dtype\":\"i1\",\"bdata\":\"Eg==\"},\"yaxis\":\"y\",\"type\":\"bar\"},{\"hovertemplate\":\"Weapon=%{x}\\u003cbr\\u003eDeaths=%{text}\\u003cextra\\u003e\\u003c\\u002fextra\\u003e\",\"legendgroup\":\"unknown weapon\",\"marker\":{\"color\":\"#FF6692\",\"pattern\":{\"shape\":\"\"}},\"name\":\"unknown weapon\",\"orientation\":\"v\",\"showlegend\":true,\"text\":{\"dtype\":\"f8\",\"bdata\":\"AAAAAAAAMkA=\"},\"textposition\":\"outside\",\"x\":[\"unknown weapon\"],\"xaxis\":\"x\",\"y\":{\"dtype\":\"i1\",\"bdata\":\"Eg==\"},\"yaxis\":\"y\",\"type\":\"bar\"},{\"hovertemplate\":\"Weapon=%{x}\\u003cbr\\u003eDeaths=%{text}\\u003cextra\\u003e\\u003c\\u002fextra\\u003e\",\"legendgroup\":\"Taser\",\"marker\":{\"color\":\"#B6E880\",\"pattern\":{\"shape\":\"\"}},\"name\":\"Taser\",\"orientation\":\"v\",\"showlegend\":true,\"text\":{\"dtype\":\"f8\",\"bdata\":\"AAAAAAAAIkA=\"},\"textposition\":\"outside\",\"x\":[\"Taser\"],\"xaxis\":\"x\",\"y\":{\"dtype\":\"i1\",\"bdata\":\"CQ==\"},\"yaxis\":\"y\",\"type\":\"bar\"},{\"hovertemplate\":\"Weapon=%{x}\\u003cbr\\u003eDeaths=%{text}\\u003cextra\\u003e\\u003c\\u002fextra\\u003e\",\"legendgroup\":\"ax\",\"marker\":{\"color\":\"#FF97FF\",\"pattern\":{\"shape\":\"\"}},\"name\":\"ax\",\"orientation\":\"v\",\"showlegend\":true,\"text\":{\"dtype\":\"f8\",\"bdata\":\"AAAAAAAAIkA=\"},\"textposition\":\"outside\",\"x\":[\"ax\"],\"xaxis\":\"x\",\"y\":{\"dtype\":\"i1\",\"bdata\":\"CQ==\"},\"yaxis\":\"y\",\"type\":\"bar\"},{\"hovertemplate\":\"Weapon=%{x}\\u003cbr\\u003eDeaths=%{text}\\u003cextra\\u003e\\u003c\\u002fextra\\u003e\",\"legendgroup\":\"0\",\"marker\":{\"color\":\"#FECB52\",\"pattern\":{\"shape\":\"\"}},\"name\":\"0\",\"orientation\":\"v\",\"showlegend\":true,\"text\":{\"dtype\":\"f8\",\"bdata\":\"AAAAAAAAIkA=\"},\"textposition\":\"outside\",\"x\":[0],\"xaxis\":\"x\",\"y\":{\"dtype\":\"i1\",\"bdata\":\"CQ==\"},\"yaxis\":\"y\",\"type\":\"bar\"},{\"hovertemplate\":\"Weapon=%{x}\\u003cbr\\u003eDeaths=%{text}\\u003cextra\\u003e\\u003c\\u002fextra\\u003e\",\"legendgroup\":\"baseball bat\",\"marker\":{\"color\":\"#636efa\",\"pattern\":{\"shape\":\"\"}},\"name\":\"baseball bat\",\"orientation\":\"v\",\"showlegend\":true,\"text\":{\"dtype\":\"f8\",\"bdata\":\"AAAAAAAAIEA=\"},\"textposition\":\"outside\",\"x\":[\"baseball bat\"],\"xaxis\":\"x\",\"y\":{\"dtype\":\"i1\",\"bdata\":\"CA==\"},\"yaxis\":\"y\",\"type\":\"bar\"},{\"hovertemplate\":\"Weapon=%{x}\\u003cbr\\u003eDeaths=%{text}\\u003cextra\\u003e\\u003c\\u002fextra\\u003e\",\"legendgroup\":\"sword\",\"marker\":{\"color\":\"#EF553B\",\"pattern\":{\"shape\":\"\"}},\"name\":\"sword\",\"orientation\":\"v\",\"showlegend\":true,\"text\":{\"dtype\":\"f8\",\"bdata\":\"AAAAAAAAIEA=\"},\"textposition\":\"outside\",\"x\":[\"sword\"],\"xaxis\":\"x\",\"y\":{\"dtype\":\"i1\",\"bdata\":\"CA==\"},\"yaxis\":\"y\",\"type\":\"bar\"},{\"hovertemplate\":\"Weapon=%{x}\\u003cbr\\u003eDeaths=%{text}\\u003cextra\\u003e\\u003c\\u002fextra\\u003e\",\"legendgroup\":\"metal pipe\",\"marker\":{\"color\":\"#00cc96\",\"pattern\":{\"shape\":\"\"}},\"name\":\"metal pipe\",\"orientation\":\"v\",\"showlegend\":true,\"text\":{\"dtype\":\"f8\",\"bdata\":\"AAAAAAAAHEA=\"},\"textposition\":\"outside\",\"x\":[\"metal pipe\"],\"xaxis\":\"x\",\"y\":{\"dtype\":\"i1\",\"bdata\":\"Bw==\"},\"yaxis\":\"y\",\"type\":\"bar\"},{\"hovertemplate\":\"Weapon=%{x}\\u003cbr\\u003eDeaths=%{text}\\u003cextra\\u003e\\u003c\\u002fextra\\u003e\",\"legendgroup\":\"box cutter\",\"marker\":{\"color\":\"#ab63fa\",\"pattern\":{\"shape\":\"\"}},\"name\":\"box cutter\",\"orientation\":\"v\",\"showlegend\":true,\"text\":{\"dtype\":\"f8\",\"bdata\":\"AAAAAAAAHEA=\"},\"textposition\":\"outside\",\"x\":[\"box cutter\"],\"xaxis\":\"x\",\"y\":{\"dtype\":\"i1\",\"bdata\":\"Bw==\"},\"yaxis\":\"y\",\"type\":\"bar\"},{\"hovertemplate\":\"Weapon=%{x}\\u003cbr\\u003eDeaths=%{text}\\u003cextra\\u003e\\u003c\\u002fextra\\u003e\",\"legendgroup\":\"hammer\",\"marker\":{\"color\":\"#FFA15A\",\"pattern\":{\"shape\":\"\"}},\"name\":\"hammer\",\"orientation\":\"v\",\"showlegend\":true,\"text\":{\"dtype\":\"f8\",\"bdata\":\"AAAAAAAAHEA=\"},\"textposition\":\"outside\",\"x\":[\"hammer\"],\"xaxis\":\"x\",\"y\":{\"dtype\":\"i1\",\"bdata\":\"Bw==\"},\"yaxis\":\"y\",\"type\":\"bar\"},{\"hovertemplate\":\"Weapon=%{x}\\u003cbr\\u003eDeaths=%{text}\\u003cextra\\u003e\\u003c\\u002fextra\\u003e\",\"legendgroup\":\"hatchet\",\"marker\":{\"color\":\"#19d3f3\",\"pattern\":{\"shape\":\"\"}},\"name\":\"hatchet\",\"orientation\":\"v\",\"showlegend\":true,\"text\":{\"dtype\":\"f8\",\"bdata\":\"AAAAAAAAGEA=\"},\"textposition\":\"outside\",\"x\":[\"hatchet\"],\"xaxis\":\"x\",\"y\":{\"dtype\":\"i1\",\"bdata\":\"Bg==\"},\"yaxis\":\"y\",\"type\":\"bar\"},{\"hovertemplate\":\"Weapon=%{x}\\u003cbr\\u003eDeaths=%{text}\\u003cextra\\u003e\\u003c\\u002fextra\\u003e\",\"legendgroup\":\"crossbow\",\"marker\":{\"color\":\"#FF6692\",\"pattern\":{\"shape\":\"\"}},\"name\":\"crossbow\",\"orientation\":\"v\",\"showlegend\":true,\"text\":{\"dtype\":\"f8\",\"bdata\":\"AAAAAAAAGEA=\"},\"textposition\":\"outside\",\"x\":[\"crossbow\"],\"xaxis\":\"x\",\"y\":{\"dtype\":\"i1\",\"bdata\":\"Bg==\"},\"yaxis\":\"y\",\"type\":\"bar\"},{\"hovertemplate\":\"Weapon=%{x}\\u003cbr\\u003eDeaths=%{text}\\u003cextra\\u003e\\u003c\\u002fextra\\u003e\",\"legendgroup\":\"gun and knife\",\"marker\":{\"color\":\"#B6E880\",\"pattern\":{\"shape\":\"\"}},\"name\":\"gun and knife\",\"orientation\":\"v\",\"showlegend\":true,\"text\":{\"dtype\":\"f8\",\"bdata\":\"AAAAAAAAFEA=\"},\"textposition\":\"outside\",\"x\":[\"gun and knife\"],\"xaxis\":\"x\",\"y\":{\"dtype\":\"i1\",\"bdata\":\"BQ==\"},\"yaxis\":\"y\",\"type\":\"bar\"},{\"hovertemplate\":\"Weapon=%{x}\\u003cbr\\u003eDeaths=%{text}\\u003cextra\\u003e\\u003c\\u002fextra\\u003e\",\"legendgroup\":\"screwdriver\",\"marker\":{\"color\":\"#FF97FF\",\"pattern\":{\"shape\":\"\"}},\"name\":\"screwdriver\",\"orientation\":\"v\",\"showlegend\":true,\"text\":{\"dtype\":\"f8\",\"bdata\":\"AAAAAAAAFEA=\"},\"textposition\":\"outside\",\"x\":[\"screwdriver\"],\"xaxis\":\"x\",\"y\":{\"dtype\":\"i1\",\"bdata\":\"BQ==\"},\"yaxis\":\"y\",\"type\":\"bar\"},{\"hovertemplate\":\"Weapon=%{x}\\u003cbr\\u003eDeaths=%{text}\\u003cextra\\u003e\\u003c\\u002fextra\\u003e\",\"legendgroup\":\"blunt object\",\"marker\":{\"color\":\"#FECB52\",\"pattern\":{\"shape\":\"\"}},\"name\":\"blunt object\",\"orientation\":\"v\",\"showlegend\":true,\"text\":{\"dtype\":\"f8\",\"bdata\":\"AAAAAAAAFEA=\"},\"textposition\":\"outside\",\"x\":[\"blunt object\"],\"xaxis\":\"x\",\"y\":{\"dtype\":\"i1\",\"bdata\":\"BQ==\"},\"yaxis\":\"y\",\"type\":\"bar\"},{\"hovertemplate\":\"Weapon=%{x}\\u003cbr\\u003eDeaths=%{text}\\u003cextra\\u003e\\u003c\\u002fextra\\u003e\",\"legendgroup\":\"guns and explosives\",\"marker\":{\"color\":\"#636efa\",\"pattern\":{\"shape\":\"\"}},\"name\":\"guns and explosives\",\"orientation\":\"v\",\"showlegend\":true,\"text\":{\"dtype\":\"f8\",\"bdata\":\"AAAAAAAACEA=\"},\"textposition\":\"outside\",\"x\":[\"guns and explosives\"],\"xaxis\":\"x\",\"y\":{\"dtype\":\"i1\",\"bdata\":\"Aw==\"},\"yaxis\":\"y\",\"type\":\"bar\"},{\"hovertemplate\":\"Weapon=%{x}\\u003cbr\\u003eDeaths=%{text}\\u003cextra\\u003e\\u003c\\u002fextra\\u003e\",\"legendgroup\":\"scissors\",\"marker\":{\"color\":\"#EF553B\",\"pattern\":{\"shape\":\"\"}},\"name\":\"scissors\",\"orientation\":\"v\",\"showlegend\":true,\"text\":{\"dtype\":\"f8\",\"bdata\":\"AAAAAAAACEA=\"},\"textposition\":\"outside\",\"x\":[\"scissors\"],\"xaxis\":\"x\",\"y\":{\"dtype\":\"i1\",\"bdata\":\"Aw==\"},\"yaxis\":\"y\",\"type\":\"bar\"},{\"hovertemplate\":\"Weapon=%{x}\\u003cbr\\u003eDeaths=%{text}\\u003cextra\\u003e\\u003c\\u002fextra\\u003e\",\"legendgroup\":\"metal stick\",\"marker\":{\"color\":\"#00cc96\",\"pattern\":{\"shape\":\"\"}},\"name\":\"metal stick\",\"orientation\":\"v\",\"showlegend\":true,\"text\":{\"dtype\":\"f8\",\"bdata\":\"AAAAAAAACEA=\"},\"textposition\":\"outside\",\"x\":[\"metal stick\"],\"xaxis\":\"x\",\"y\":{\"dtype\":\"i1\",\"bdata\":\"Aw==\"},\"yaxis\":\"y\",\"type\":\"bar\"},{\"hovertemplate\":\"Weapon=%{x}\\u003cbr\\u003eDeaths=%{text}\\u003cextra\\u003e\\u003c\\u002fextra\\u003e\",\"legendgroup\":\"rock\",\"marker\":{\"color\":\"#ab63fa\",\"pattern\":{\"shape\":\"\"}},\"name\":\"rock\",\"orientation\":\"v\",\"showlegend\":true,\"text\":{\"dtype\":\"f8\",\"bdata\":\"AAAAAAAACEA=\"},\"textposition\":\"outside\",\"x\":[\"rock\"],\"xaxis\":\"x\",\"y\":{\"dtype\":\"i1\",\"bdata\":\"Aw==\"},\"yaxis\":\"y\",\"type\":\"bar\"},{\"hovertemplate\":\"Weapon=%{x}\\u003cbr\\u003eDeaths=%{text}\\u003cextra\\u003e\\u003c\\u002fextra\\u003e\",\"legendgroup\":\"brick\",\"marker\":{\"color\":\"#FFA15A\",\"pattern\":{\"shape\":\"\"}},\"name\":\"brick\",\"orientation\":\"v\",\"showlegend\":true,\"text\":{\"dtype\":\"f8\",\"bdata\":\"AAAAAAAAAEA=\"},\"textposition\":\"outside\",\"x\":[\"brick\"],\"xaxis\":\"x\",\"y\":{\"dtype\":\"i1\",\"bdata\":\"Ag==\"},\"yaxis\":\"y\",\"type\":\"bar\"},{\"hovertemplate\":\"Weapon=%{x}\\u003cbr\\u003eDeaths=%{text}\\u003cextra\\u003e\\u003c\\u002fextra\\u003e\",\"legendgroup\":\"beer bottle\",\"marker\":{\"color\":\"#19d3f3\",\"pattern\":{\"shape\":\"\"}},\"name\":\"beer bottle\",\"orientation\":\"v\",\"showlegend\":true,\"text\":{\"dtype\":\"f8\",\"bdata\":\"AAAAAAAAAEA=\"},\"textposition\":\"outside\",\"x\":[\"beer bottle\"],\"xaxis\":\"x\",\"y\":{\"dtype\":\"i1\",\"bdata\":\"Ag==\"},\"yaxis\":\"y\",\"type\":\"bar\"},{\"hovertemplate\":\"Weapon=%{x}\\u003cbr\\u003eDeaths=%{text}\\u003cextra\\u003e\\u003c\\u002fextra\\u003e\",\"legendgroup\":\"meat cleaver\",\"marker\":{\"color\":\"#FF6692\",\"pattern\":{\"shape\":\"\"}},\"name\":\"meat cleaver\",\"orientation\":\"v\",\"showlegend\":true,\"text\":{\"dtype\":\"f8\",\"bdata\":\"AAAAAAAAAEA=\"},\"textposition\":\"outside\",\"x\":[\"meat cleaver\"],\"xaxis\":\"x\",\"y\":{\"dtype\":\"i1\",\"bdata\":\"Ag==\"},\"yaxis\":\"y\",\"type\":\"bar\"},{\"hovertemplate\":\"Weapon=%{x}\\u003cbr\\u003eDeaths=%{text}\\u003cextra\\u003e\\u003c\\u002fextra\\u003e\",\"legendgroup\":\"shovel\",\"marker\":{\"color\":\"#B6E880\",\"pattern\":{\"shape\":\"\"}},\"name\":\"shovel\",\"orientation\":\"v\",\"showlegend\":true,\"text\":{\"dtype\":\"f8\",\"bdata\":\"AAAAAAAAAEA=\"},\"textposition\":\"outside\",\"x\":[\"shovel\"],\"xaxis\":\"x\",\"y\":{\"dtype\":\"i1\",\"bdata\":\"Ag==\"},\"yaxis\":\"y\",\"type\":\"bar\"},{\"hovertemplate\":\"Weapon=%{x}\\u003cbr\\u003eDeaths=%{text}\\u003cextra\\u003e\\u003c\\u002fextra\\u003e\",\"legendgroup\":\"hatchet and gun\",\"marker\":{\"color\":\"#FF97FF\",\"pattern\":{\"shape\":\"\"}},\"name\":\"hatchet and gun\",\"orientation\":\"v\",\"showlegend\":true,\"text\":{\"dtype\":\"f8\",\"bdata\":\"AAAAAAAAAEA=\"},\"textposition\":\"outside\",\"x\":[\"hatchet and gun\"],\"xaxis\":\"x\",\"y\":{\"dtype\":\"i1\",\"bdata\":\"Ag==\"},\"yaxis\":\"y\",\"type\":\"bar\"},{\"hovertemplate\":\"Weapon=%{x}\\u003cbr\\u003eDeaths=%{text}\\u003cextra\\u003e\\u003c\\u002fextra\\u003e\",\"legendgroup\":\"baton\",\"marker\":{\"color\":\"#FECB52\",\"pattern\":{\"shape\":\"\"}},\"name\":\"baton\",\"orientation\":\"v\",\"showlegend\":true,\"text\":{\"dtype\":\"f8\",\"bdata\":\"AAAAAAAAAEA=\"},\"textposition\":\"outside\",\"x\":[\"baton\"],\"xaxis\":\"x\",\"y\":{\"dtype\":\"i1\",\"bdata\":\"Ag==\"},\"yaxis\":\"y\",\"type\":\"bar\"},{\"hovertemplate\":\"Weapon=%{x}\\u003cbr\\u003eDeaths=%{text}\\u003cextra\\u003e\\u003c\\u002fextra\\u003e\",\"legendgroup\":\"chain saw\",\"marker\":{\"color\":\"#636efa\",\"pattern\":{\"shape\":\"\"}},\"name\":\"chain saw\",\"orientation\":\"v\",\"showlegend\":true,\"text\":{\"dtype\":\"f8\",\"bdata\":\"AAAAAAAAAEA=\"},\"textposition\":\"outside\",\"x\":[\"chain saw\"],\"xaxis\":\"x\",\"y\":{\"dtype\":\"i1\",\"bdata\":\"Ag==\"},\"yaxis\":\"y\",\"type\":\"bar\"},{\"hovertemplate\":\"Weapon=%{x}\\u003cbr\\u003eDeaths=%{text}\\u003cextra\\u003e\\u003c\\u002fextra\\u003e\",\"legendgroup\":\"metal pole\",\"marker\":{\"color\":\"#EF553B\",\"pattern\":{\"shape\":\"\"}},\"name\":\"metal pole\",\"orientation\":\"v\",\"showlegend\":true,\"text\":{\"dtype\":\"f8\",\"bdata\":\"AAAAAAAAAEA=\"},\"textposition\":\"outside\",\"x\":[\"metal pole\"],\"xaxis\":\"x\",\"y\":{\"dtype\":\"i1\",\"bdata\":\"Ag==\"},\"yaxis\":\"y\",\"type\":\"bar\"},{\"hovertemplate\":\"Weapon=%{x}\\u003cbr\\u003eDeaths=%{text}\\u003cextra\\u003e\\u003c\\u002fextra\\u003e\",\"legendgroup\":\"metal object\",\"marker\":{\"color\":\"#00cc96\",\"pattern\":{\"shape\":\"\"}},\"name\":\"metal object\",\"orientation\":\"v\",\"showlegend\":true,\"text\":{\"dtype\":\"f8\",\"bdata\":\"AAAAAAAAAEA=\"},\"textposition\":\"outside\",\"x\":[\"metal object\"],\"xaxis\":\"x\",\"y\":{\"dtype\":\"i1\",\"bdata\":\"Ag==\"},\"yaxis\":\"y\",\"type\":\"bar\"},{\"hovertemplate\":\"Weapon=%{x}\\u003cbr\\u003eDeaths=%{text}\\u003cextra\\u003e\\u003c\\u002fextra\\u003e\",\"legendgroup\":\"sharp object\",\"marker\":{\"color\":\"#ab63fa\",\"pattern\":{\"shape\":\"\"}},\"name\":\"sharp object\",\"orientation\":\"v\",\"showlegend\":true,\"text\":{\"dtype\":\"f8\",\"bdata\":\"AAAAAAAAAEA=\"},\"textposition\":\"outside\",\"x\":[\"sharp object\"],\"xaxis\":\"x\",\"y\":{\"dtype\":\"i1\",\"bdata\":\"Ag==\"},\"yaxis\":\"y\",\"type\":\"bar\"},{\"hovertemplate\":\"Weapon=%{x}\\u003cbr\\u003eDeaths=%{text}\\u003cextra\\u003e\\u003c\\u002fextra\\u003e\",\"legendgroup\":\"pipe\",\"marker\":{\"color\":\"#FFA15A\",\"pattern\":{\"shape\":\"\"}},\"name\":\"pipe\",\"orientation\":\"v\",\"showlegend\":true,\"text\":{\"dtype\":\"f8\",\"bdata\":\"AAAAAAAAAEA=\"},\"textposition\":\"outside\",\"x\":[\"pipe\"],\"xaxis\":\"x\",\"y\":{\"dtype\":\"i1\",\"bdata\":\"Ag==\"},\"yaxis\":\"y\",\"type\":\"bar\"},{\"hovertemplate\":\"Weapon=%{x}\\u003cbr\\u003eDeaths=%{text}\\u003cextra\\u003e\\u003c\\u002fextra\\u003e\",\"legendgroup\":\"piece of wood\",\"marker\":{\"color\":\"#19d3f3\",\"pattern\":{\"shape\":\"\"}},\"name\":\"piece of wood\",\"orientation\":\"v\",\"showlegend\":true,\"text\":{\"dtype\":\"f8\",\"bdata\":\"AAAAAAAAAEA=\"},\"textposition\":\"outside\",\"x\":[\"piece of wood\"],\"xaxis\":\"x\",\"y\":{\"dtype\":\"i1\",\"bdata\":\"Ag==\"},\"yaxis\":\"y\",\"type\":\"bar\"},{\"hovertemplate\":\"Weapon=%{x}\\u003cbr\\u003eDeaths=%{text}\\u003cextra\\u003e\\u003c\\u002fextra\\u003e\",\"legendgroup\":\"nail gun\",\"marker\":{\"color\":\"#FF6692\",\"pattern\":{\"shape\":\"\"}},\"name\":\"nail gun\",\"orientation\":\"v\",\"showlegend\":true,\"text\":{\"dtype\":\"f8\",\"bdata\":\"AAAAAAAA8D8=\"},\"textposition\":\"outside\",\"x\":[\"nail gun\"],\"xaxis\":\"x\",\"y\":{\"dtype\":\"i1\",\"bdata\":\"AQ==\"},\"yaxis\":\"y\",\"type\":\"bar\"},{\"hovertemplate\":\"Weapon=%{x}\\u003cbr\\u003eDeaths=%{text}\\u003cextra\\u003e\\u003c\\u002fextra\\u003e\",\"legendgroup\":\"bean-bag gun\",\"marker\":{\"color\":\"#B6E880\",\"pattern\":{\"shape\":\"\"}},\"name\":\"bean-bag gun\",\"orientation\":\"v\",\"showlegend\":true,\"text\":{\"dtype\":\"f8\",\"bdata\":\"AAAAAAAA8D8=\"},\"textposition\":\"outside\",\"x\":[\"bean-bag gun\"],\"xaxis\":\"x\",\"y\":{\"dtype\":\"i1\",\"bdata\":\"AQ==\"},\"yaxis\":\"y\",\"type\":\"bar\"},{\"hovertemplate\":\"Weapon=%{x}\\u003cbr\\u003eDeaths=%{text}\\u003cextra\\u003e\\u003c\\u002fextra\\u003e\",\"legendgroup\":\"baseball bat and fireplace poker\",\"marker\":{\"color\":\"#FF97FF\",\"pattern\":{\"shape\":\"\"}},\"name\":\"baseball bat and fireplace poker\",\"orientation\":\"v\",\"showlegend\":true,\"text\":{\"dtype\":\"f8\",\"bdata\":\"AAAAAAAA8D8=\"},\"textposition\":\"outside\",\"x\":[\"baseball bat and fireplace poker\"],\"xaxis\":\"x\",\"y\":{\"dtype\":\"i1\",\"bdata\":\"AQ==\"},\"yaxis\":\"y\",\"type\":\"bar\"},{\"hovertemplate\":\"Weapon=%{x}\\u003cbr\\u003eDeaths=%{text}\\u003cextra\\u003e\\u003c\\u002fextra\\u003e\",\"legendgroup\":\"contractor's level\",\"marker\":{\"color\":\"#FECB52\",\"pattern\":{\"shape\":\"\"}},\"name\":\"contractor's level\",\"orientation\":\"v\",\"showlegend\":true,\"text\":{\"dtype\":\"f8\",\"bdata\":\"AAAAAAAA8D8=\"},\"textposition\":\"outside\",\"x\":[\"contractor's level\"],\"xaxis\":\"x\",\"y\":{\"dtype\":\"i1\",\"bdata\":\"AQ==\"},\"yaxis\":\"y\",\"type\":\"bar\"},{\"hovertemplate\":\"Weapon=%{x}\\u003cbr\\u003eDeaths=%{text}\\u003cextra\\u003e\\u003c\\u002fextra\\u003e\",\"legendgroup\":\"carjack\",\"marker\":{\"color\":\"#636efa\",\"pattern\":{\"shape\":\"\"}},\"name\":\"carjack\",\"orientation\":\"v\",\"showlegend\":true,\"text\":{\"dtype\":\"f8\",\"bdata\":\"AAAAAAAA8D8=\"},\"textposition\":\"outside\",\"x\":[\"carjack\"],\"xaxis\":\"x\",\"y\":{\"dtype\":\"i1\",\"bdata\":\"AQ==\"},\"yaxis\":\"y\",\"type\":\"bar\"},{\"hovertemplate\":\"Weapon=%{x}\\u003cbr\\u003eDeaths=%{text}\\u003cextra\\u003e\\u003c\\u002fextra\\u003e\",\"legendgroup\":\"chain\",\"marker\":{\"color\":\"#EF553B\",\"pattern\":{\"shape\":\"\"}},\"name\":\"chain\",\"orientation\":\"v\",\"showlegend\":true,\"text\":{\"dtype\":\"f8\",\"bdata\":\"AAAAAAAA8D8=\"},\"textposition\":\"outside\",\"x\":[\"chain\"],\"xaxis\":\"x\",\"y\":{\"dtype\":\"i1\",\"bdata\":\"AQ==\"},\"yaxis\":\"y\",\"type\":\"bar\"},{\"hovertemplate\":\"Weapon=%{x}\\u003cbr\\u003eDeaths=%{text}\\u003cextra\\u003e\\u003c\\u002fextra\\u003e\",\"legendgroup\":\"metal hand tool\",\"marker\":{\"color\":\"#00cc96\",\"pattern\":{\"shape\":\"\"}},\"name\":\"metal hand tool\",\"orientation\":\"v\",\"showlegend\":true,\"text\":{\"dtype\":\"f8\",\"bdata\":\"AAAAAAAA8D8=\"},\"textposition\":\"outside\",\"x\":[\"metal hand tool\"],\"xaxis\":\"x\",\"y\":{\"dtype\":\"i1\",\"bdata\":\"AQ==\"},\"yaxis\":\"y\",\"type\":\"bar\"},{\"hovertemplate\":\"Weapon=%{x}\\u003cbr\\u003eDeaths=%{text}\\u003cextra\\u003e\\u003c\\u002fextra\\u003e\",\"legendgroup\":\"cordless drill\",\"marker\":{\"color\":\"#ab63fa\",\"pattern\":{\"shape\":\"\"}},\"name\":\"cordless drill\",\"orientation\":\"v\",\"showlegend\":true,\"text\":{\"dtype\":\"f8\",\"bdata\":\"AAAAAAAA8D8=\"},\"textposition\":\"outside\",\"x\":[\"cordless drill\"],\"xaxis\":\"x\",\"y\":{\"dtype\":\"i1\",\"bdata\":\"AQ==\"},\"yaxis\":\"y\",\"type\":\"bar\"},{\"hovertemplate\":\"Weapon=%{x}\\u003cbr\\u003eDeaths=%{text}\\u003cextra\\u003e\\u003c\\u002fextra\\u003e\",\"legendgroup\":\"flagpole\",\"marker\":{\"color\":\"#FFA15A\",\"pattern\":{\"shape\":\"\"}},\"name\":\"flagpole\",\"orientation\":\"v\",\"showlegend\":true,\"text\":{\"dtype\":\"f8\",\"bdata\":\"AAAAAAAA8D8=\"},\"textposition\":\"outside\",\"x\":[\"flagpole\"],\"xaxis\":\"x\",\"y\":{\"dtype\":\"i1\",\"bdata\":\"AQ==\"},\"yaxis\":\"y\",\"type\":\"bar\"},{\"hovertemplate\":\"Weapon=%{x}\\u003cbr\\u003eDeaths=%{text}\\u003cextra\\u003e\\u003c\\u002fextra\\u003e\",\"legendgroup\":\"lawn mower blade\",\"marker\":{\"color\":\"#19d3f3\",\"pattern\":{\"shape\":\"\"}},\"name\":\"lawn mower blade\",\"orientation\":\"v\",\"showlegend\":true,\"text\":{\"dtype\":\"f8\",\"bdata\":\"AAAAAAAA8D8=\"},\"textposition\":\"outside\",\"x\":[\"lawn mower blade\"],\"xaxis\":\"x\",\"y\":{\"dtype\":\"i1\",\"bdata\":\"AQ==\"},\"yaxis\":\"y\",\"type\":\"bar\"},{\"hovertemplate\":\"Weapon=%{x}\\u003cbr\\u003eDeaths=%{text}\\u003cextra\\u003e\\u003c\\u002fextra\\u003e\",\"legendgroup\":\"stapler\",\"marker\":{\"color\":\"#FF6692\",\"pattern\":{\"shape\":\"\"}},\"name\":\"stapler\",\"orientation\":\"v\",\"showlegend\":true,\"text\":{\"dtype\":\"f8\",\"bdata\":\"AAAAAAAA8D8=\"},\"textposition\":\"outside\",\"x\":[\"stapler\"],\"xaxis\":\"x\",\"y\":{\"dtype\":\"i1\",\"bdata\":\"AQ==\"},\"yaxis\":\"y\",\"type\":\"bar\"},{\"hovertemplate\":\"Weapon=%{x}\\u003cbr\\u003eDeaths=%{text}\\u003cextra\\u003e\\u003c\\u002fextra\\u003e\",\"legendgroup\":\"garden tool\",\"marker\":{\"color\":\"#B6E880\",\"pattern\":{\"shape\":\"\"}},\"name\":\"garden tool\",\"orientation\":\"v\",\"showlegend\":true,\"text\":{\"dtype\":\"f8\",\"bdata\":\"AAAAAAAA8D8=\"},\"textposition\":\"outside\",\"x\":[\"garden tool\"],\"xaxis\":\"x\",\"y\":{\"dtype\":\"i1\",\"bdata\":\"AQ==\"},\"yaxis\":\"y\",\"type\":\"bar\"},{\"hovertemplate\":\"Weapon=%{x}\\u003cbr\\u003eDeaths=%{text}\\u003cextra\\u003e\\u003c\\u002fextra\\u003e\",\"legendgroup\":\"flashlight\",\"marker\":{\"color\":\"#FF97FF\",\"pattern\":{\"shape\":\"\"}},\"name\":\"flashlight\",\"orientation\":\"v\",\"showlegend\":true,\"text\":{\"dtype\":\"f8\",\"bdata\":\"AAAAAAAA8D8=\"},\"textposition\":\"outside\",\"x\":[\"flashlight\"],\"xaxis\":\"x\",\"y\":{\"dtype\":\"i1\",\"bdata\":\"AQ==\"},\"yaxis\":\"y\",\"type\":\"bar\"},{\"hovertemplate\":\"Weapon=%{x}\\u003cbr\\u003eDeaths=%{text}\\u003cextra\\u003e\\u003c\\u002fextra\\u003e\",\"legendgroup\":\"hand torch\",\"marker\":{\"color\":\"#FECB52\",\"pattern\":{\"shape\":\"\"}},\"name\":\"hand torch\",\"orientation\":\"v\",\"showlegend\":true,\"text\":{\"dtype\":\"f8\",\"bdata\":\"AAAAAAAA8D8=\"},\"textposition\":\"outside\",\"x\":[\"hand torch\"],\"xaxis\":\"x\",\"y\":{\"dtype\":\"i1\",\"bdata\":\"AQ==\"},\"yaxis\":\"y\",\"type\":\"bar\"},{\"hovertemplate\":\"Weapon=%{x}\\u003cbr\\u003eDeaths=%{text}\\u003cextra\\u003e\\u003c\\u002fextra\\u003e\",\"legendgroup\":\"straight edge razor\",\"marker\":{\"color\":\"#636efa\",\"pattern\":{\"shape\":\"\"}},\"name\":\"straight edge razor\",\"orientation\":\"v\",\"showlegend\":true,\"text\":{\"dtype\":\"f8\",\"bdata\":\"AAAAAAAA8D8=\"},\"textposition\":\"outside\",\"x\":[\"straight edge razor\"],\"xaxis\":\"x\",\"y\":{\"dtype\":\"i1\",\"bdata\":\"AQ==\"},\"yaxis\":\"y\",\"type\":\"bar\"},{\"hovertemplate\":\"Weapon=%{x}\\u003cbr\\u003eDeaths=%{text}\\u003cextra\\u003e\\u003c\\u002fextra\\u003e\",\"legendgroup\":\"pole\",\"marker\":{\"color\":\"#EF553B\",\"pattern\":{\"shape\":\"\"}},\"name\":\"pole\",\"orientation\":\"v\",\"showlegend\":true,\"text\":{\"dtype\":\"f8\",\"bdata\":\"AAAAAAAA8D8=\"},\"textposition\":\"outside\",\"x\":[\"pole\"],\"xaxis\":\"x\",\"y\":{\"dtype\":\"i1\",\"bdata\":\"AQ==\"},\"yaxis\":\"y\",\"type\":\"bar\"},{\"hovertemplate\":\"Weapon=%{x}\\u003cbr\\u003eDeaths=%{text}\\u003cextra\\u003e\\u003c\\u002fextra\\u003e\",\"legendgroup\":\"pitchfork\",\"marker\":{\"color\":\"#00cc96\",\"pattern\":{\"shape\":\"\"}},\"name\":\"pitchfork\",\"orientation\":\"v\",\"showlegend\":true,\"text\":{\"dtype\":\"f8\",\"bdata\":\"AAAAAAAA8D8=\"},\"textposition\":\"outside\",\"x\":[\"pitchfork\"],\"xaxis\":\"x\",\"y\":{\"dtype\":\"i1\",\"bdata\":\"AQ==\"},\"yaxis\":\"y\",\"type\":\"bar\"},{\"hovertemplate\":\"Weapon=%{x}\\u003cbr\\u003eDeaths=%{text}\\u003cextra\\u003e\\u003c\\u002fextra\\u003e\",\"legendgroup\":\"spear\",\"marker\":{\"color\":\"#ab63fa\",\"pattern\":{\"shape\":\"\"}},\"name\":\"spear\",\"orientation\":\"v\",\"showlegend\":true,\"text\":{\"dtype\":\"f8\",\"bdata\":\"AAAAAAAA8D8=\"},\"textposition\":\"outside\",\"x\":[\"spear\"],\"xaxis\":\"x\",\"y\":{\"dtype\":\"i1\",\"bdata\":\"AQ==\"},\"yaxis\":\"y\",\"type\":\"bar\"},{\"hovertemplate\":\"Weapon=%{x}\\u003cbr\\u003eDeaths=%{text}\\u003cextra\\u003e\\u003c\\u002fextra\\u003e\",\"legendgroup\":\"pick-axe\",\"marker\":{\"color\":\"#FFA15A\",\"pattern\":{\"shape\":\"\"}},\"name\":\"pick-axe\",\"orientation\":\"v\",\"showlegend\":true,\"text\":{\"dtype\":\"f8\",\"bdata\":\"AAAAAAAA8D8=\"},\"textposition\":\"outside\",\"x\":[\"pick-axe\"],\"xaxis\":\"x\",\"y\":{\"dtype\":\"i1\",\"bdata\":\"AQ==\"},\"yaxis\":\"y\",\"type\":\"bar\"},{\"hovertemplate\":\"Weapon=%{x}\\u003cbr\\u003eDeaths=%{text}\\u003cextra\\u003e\\u003c\\u002fextra\\u003e\",\"legendgroup\":\"bayonet\",\"marker\":{\"color\":\"#19d3f3\",\"pattern\":{\"shape\":\"\"}},\"name\":\"bayonet\",\"orientation\":\"v\",\"showlegend\":true,\"text\":{\"dtype\":\"f8\",\"bdata\":\"AAAAAAAA8D8=\"},\"textposition\":\"outside\",\"x\":[\"bayonet\"],\"xaxis\":\"x\",\"y\":{\"dtype\":\"i1\",\"bdata\":\"AQ==\"},\"yaxis\":\"y\",\"type\":\"bar\"},{\"hovertemplate\":\"Weapon=%{x}\\u003cbr\\u003eDeaths=%{text}\\u003cextra\\u003e\\u003c\\u002fextra\\u003e\",\"legendgroup\":\"glass shard\",\"marker\":{\"color\":\"#FF6692\",\"pattern\":{\"shape\":\"\"}},\"name\":\"glass shard\",\"orientation\":\"v\",\"showlegend\":true,\"text\":{\"dtype\":\"f8\",\"bdata\":\"AAAAAAAA8D8=\"},\"textposition\":\"outside\",\"x\":[\"glass shard\"],\"xaxis\":\"x\",\"y\":{\"dtype\":\"i1\",\"bdata\":\"AQ==\"},\"yaxis\":\"y\",\"type\":\"bar\"},{\"hovertemplate\":\"Weapon=%{x}\\u003cbr\\u003eDeaths=%{text}\\u003cextra\\u003e\\u003c\\u002fextra\\u003e\",\"legendgroup\":\"motorcycle\",\"marker\":{\"color\":\"#B6E880\",\"pattern\":{\"shape\":\"\"}},\"name\":\"motorcycle\",\"orientation\":\"v\",\"showlegend\":true,\"text\":{\"dtype\":\"f8\",\"bdata\":\"AAAAAAAA8D8=\"},\"textposition\":\"outside\",\"x\":[\"motorcycle\"],\"xaxis\":\"x\",\"y\":{\"dtype\":\"i1\",\"bdata\":\"AQ==\"},\"yaxis\":\"y\",\"type\":\"bar\"},{\"hovertemplate\":\"Weapon=%{x}\\u003cbr\\u003eDeaths=%{text}\\u003cextra\\u003e\\u003c\\u002fextra\\u003e\",\"legendgroup\":\"metal rake\",\"marker\":{\"color\":\"#FF97FF\",\"pattern\":{\"shape\":\"\"}},\"name\":\"metal rake\",\"orientation\":\"v\",\"showlegend\":true,\"text\":{\"dtype\":\"f8\",\"bdata\":\"AAAAAAAA8D8=\"},\"textposition\":\"outside\",\"x\":[\"metal rake\"],\"xaxis\":\"x\",\"y\":{\"dtype\":\"i1\",\"bdata\":\"AQ==\"},\"yaxis\":\"y\",\"type\":\"bar\"},{\"hovertemplate\":\"Weapon=%{x}\\u003cbr\\u003eDeaths=%{text}\\u003cextra\\u003e\\u003c\\u002fextra\\u003e\",\"legendgroup\":\"crowbar\",\"marker\":{\"color\":\"#FECB52\",\"pattern\":{\"shape\":\"\"}},\"name\":\"crowbar\",\"orientation\":\"v\",\"showlegend\":true,\"text\":{\"dtype\":\"f8\",\"bdata\":\"AAAAAAAA8D8=\"},\"textposition\":\"outside\",\"x\":[\"crowbar\"],\"xaxis\":\"x\",\"y\":{\"dtype\":\"i1\",\"bdata\":\"AQ==\"},\"yaxis\":\"y\",\"type\":\"bar\"},{\"hovertemplate\":\"Weapon=%{x}\\u003cbr\\u003eDeaths=%{text}\\u003cextra\\u003e\\u003c\\u002fextra\\u003e\",\"legendgroup\":\"oar\",\"marker\":{\"color\":\"#636efa\",\"pattern\":{\"shape\":\"\"}},\"name\":\"oar\",\"orientation\":\"v\",\"showlegend\":true,\"text\":{\"dtype\":\"f8\",\"bdata\":\"AAAAAAAA8D8=\"},\"textposition\":\"outside\",\"x\":[\"oar\"],\"xaxis\":\"x\",\"y\":{\"dtype\":\"i1\",\"bdata\":\"AQ==\"},\"yaxis\":\"y\",\"type\":\"bar\"},{\"hovertemplate\":\"Weapon=%{x}\\u003cbr\\u003eDeaths=%{text}\\u003cextra\\u003e\\u003c\\u002fextra\\u003e\",\"legendgroup\":\"machete and gun\",\"marker\":{\"color\":\"#EF553B\",\"pattern\":{\"shape\":\"\"}},\"name\":\"machete and gun\",\"orientation\":\"v\",\"showlegend\":true,\"text\":{\"dtype\":\"f8\",\"bdata\":\"AAAAAAAA8D8=\"},\"textposition\":\"outside\",\"x\":[\"machete and gun\"],\"xaxis\":\"x\",\"y\":{\"dtype\":\"i1\",\"bdata\":\"AQ==\"},\"yaxis\":\"y\",\"type\":\"bar\"},{\"hovertemplate\":\"Weapon=%{x}\\u003cbr\\u003eDeaths=%{text}\\u003cextra\\u003e\\u003c\\u002fextra\\u003e\",\"legendgroup\":\"tire iron\",\"marker\":{\"color\":\"#00cc96\",\"pattern\":{\"shape\":\"\"}},\"name\":\"tire iron\",\"orientation\":\"v\",\"showlegend\":true,\"text\":{\"dtype\":\"f8\",\"bdata\":\"AAAAAAAA8D8=\"},\"textposition\":\"outside\",\"x\":[\"tire iron\"],\"xaxis\":\"x\",\"y\":{\"dtype\":\"i1\",\"bdata\":\"AQ==\"},\"yaxis\":\"y\",\"type\":\"bar\"},{\"hovertemplate\":\"Weapon=%{x}\\u003cbr\\u003eDeaths=%{text}\\u003cextra\\u003e\\u003c\\u002fextra\\u003e\",\"legendgroup\":\"air conditioner\",\"marker\":{\"color\":\"#ab63fa\",\"pattern\":{\"shape\":\"\"}},\"name\":\"air conditioner\",\"orientation\":\"v\",\"showlegend\":true,\"text\":{\"dtype\":\"f8\",\"bdata\":\"AAAAAAAA8D8=\"},\"textposition\":\"outside\",\"x\":[\"air conditioner\"],\"xaxis\":\"x\",\"y\":{\"dtype\":\"i1\",\"bdata\":\"AQ==\"},\"yaxis\":\"y\",\"type\":\"bar\"},{\"hovertemplate\":\"Weapon=%{x}\\u003cbr\\u003eDeaths=%{text}\\u003cextra\\u003e\\u003c\\u002fextra\\u003e\",\"legendgroup\":\"pole and knife\",\"marker\":{\"color\":\"#FFA15A\",\"pattern\":{\"shape\":\"\"}},\"name\":\"pole and knife\",\"orientation\":\"v\",\"showlegend\":true,\"text\":{\"dtype\":\"f8\",\"bdata\":\"AAAAAAAA8D8=\"},\"textposition\":\"outside\",\"x\":[\"pole and knife\"],\"xaxis\":\"x\",\"y\":{\"dtype\":\"i1\",\"bdata\":\"AQ==\"},\"yaxis\":\"y\",\"type\":\"bar\"},{\"hovertemplate\":\"Weapon=%{x}\\u003cbr\\u003eDeaths=%{text}\\u003cextra\\u003e\\u003c\\u002fextra\\u003e\",\"legendgroup\":\"baseball bat and bottle\",\"marker\":{\"color\":\"#19d3f3\",\"pattern\":{\"shape\":\"\"}},\"name\":\"baseball bat and bottle\",\"orientation\":\"v\",\"showlegend\":true,\"text\":{\"dtype\":\"f8\",\"bdata\":\"AAAAAAAA8D8=\"},\"textposition\":\"outside\",\"x\":[\"baseball bat and bottle\"],\"xaxis\":\"x\",\"y\":{\"dtype\":\"i1\",\"bdata\":\"AQ==\"},\"yaxis\":\"y\",\"type\":\"bar\"},{\"hovertemplate\":\"Weapon=%{x}\\u003cbr\\u003eDeaths=%{text}\\u003cextra\\u003e\\u003c\\u002fextra\\u003e\",\"legendgroup\":\"fireworks\",\"marker\":{\"color\":\"#FF6692\",\"pattern\":{\"shape\":\"\"}},\"name\":\"fireworks\",\"orientation\":\"v\",\"showlegend\":true,\"text\":{\"dtype\":\"f8\",\"bdata\":\"AAAAAAAA8D8=\"},\"textposition\":\"outside\",\"x\":[\"fireworks\"],\"xaxis\":\"x\",\"y\":{\"dtype\":\"i1\",\"bdata\":\"AQ==\"},\"yaxis\":\"y\",\"type\":\"bar\"},{\"hovertemplate\":\"Weapon=%{x}\\u003cbr\\u003eDeaths=%{text}\\u003cextra\\u003e\\u003c\\u002fextra\\u003e\",\"legendgroup\":\"pen\",\"marker\":{\"color\":\"#B6E880\",\"pattern\":{\"shape\":\"\"}},\"name\":\"pen\",\"orientation\":\"v\",\"showlegend\":true,\"text\":{\"dtype\":\"f8\",\"bdata\":\"AAAAAAAA8D8=\"},\"textposition\":\"outside\",\"x\":[\"pen\"],\"xaxis\":\"x\",\"y\":{\"dtype\":\"i1\",\"bdata\":\"AQ==\"},\"yaxis\":\"y\",\"type\":\"bar\"}],                        {\"template\":{\"data\":{\"histogram2dcontour\":[{\"type\":\"histogram2dcontour\",\"colorbar\":{\"outlinewidth\":0,\"ticks\":\"\"},\"colorscale\":[[0.0,\"#0d0887\"],[0.1111111111111111,\"#46039f\"],[0.2222222222222222,\"#7201a8\"],[0.3333333333333333,\"#9c179e\"],[0.4444444444444444,\"#bd3786\"],[0.5555555555555556,\"#d8576b\"],[0.6666666666666666,\"#ed7953\"],[0.7777777777777778,\"#fb9f3a\"],[0.8888888888888888,\"#fdca26\"],[1.0,\"#f0f921\"]]}],\"choropleth\":[{\"type\":\"choropleth\",\"colorbar\":{\"outlinewidth\":0,\"ticks\":\"\"}}],\"histogram2d\":[{\"type\":\"histogram2d\",\"colorbar\":{\"outlinewidth\":0,\"ticks\":\"\"},\"colorscale\":[[0.0,\"#0d0887\"],[0.1111111111111111,\"#46039f\"],[0.2222222222222222,\"#7201a8\"],[0.3333333333333333,\"#9c179e\"],[0.4444444444444444,\"#bd3786\"],[0.5555555555555556,\"#d8576b\"],[0.6666666666666666,\"#ed7953\"],[0.7777777777777778,\"#fb9f3a\"],[0.8888888888888888,\"#fdca26\"],[1.0,\"#f0f921\"]]}],\"heatmap\":[{\"type\":\"heatmap\",\"colorbar\":{\"outlinewidth\":0,\"ticks\":\"\"},\"colorscale\":[[0.0,\"#0d0887\"],[0.1111111111111111,\"#46039f\"],[0.2222222222222222,\"#7201a8\"],[0.3333333333333333,\"#9c179e\"],[0.4444444444444444,\"#bd3786\"],[0.5555555555555556,\"#d8576b\"],[0.6666666666666666,\"#ed7953\"],[0.7777777777777778,\"#fb9f3a\"],[0.8888888888888888,\"#fdca26\"],[1.0,\"#f0f921\"]]}],\"contourcarpet\":[{\"type\":\"contourcarpet\",\"colorbar\":{\"outlinewidth\":0,\"ticks\":\"\"}}],\"contour\":[{\"type\":\"contour\",\"colorbar\":{\"outlinewidth\":0,\"ticks\":\"\"},\"colorscale\":[[0.0,\"#0d0887\"],[0.1111111111111111,\"#46039f\"],[0.2222222222222222,\"#7201a8\"],[0.3333333333333333,\"#9c179e\"],[0.4444444444444444,\"#bd3786\"],[0.5555555555555556,\"#d8576b\"],[0.6666666666666666,\"#ed7953\"],[0.7777777777777778,\"#fb9f3a\"],[0.8888888888888888,\"#fdca26\"],[1.0,\"#f0f921\"]]}],\"surface\":[{\"type\":\"surface\",\"colorbar\":{\"outlinewidth\":0,\"ticks\":\"\"},\"colorscale\":[[0.0,\"#0d0887\"],[0.1111111111111111,\"#46039f\"],[0.2222222222222222,\"#7201a8\"],[0.3333333333333333,\"#9c179e\"],[0.4444444444444444,\"#bd3786\"],[0.5555555555555556,\"#d8576b\"],[0.6666666666666666,\"#ed7953\"],[0.7777777777777778,\"#fb9f3a\"],[0.8888888888888888,\"#fdca26\"],[1.0,\"#f0f921\"]]}],\"mesh3d\":[{\"type\":\"mesh3d\",\"colorbar\":{\"outlinewidth\":0,\"ticks\":\"\"}}],\"scatter\":[{\"fillpattern\":{\"fillmode\":\"overlay\",\"size\":10,\"solidity\":0.2},\"type\":\"scatter\"}],\"parcoords\":[{\"type\":\"parcoords\",\"line\":{\"colorbar\":{\"outlinewidth\":0,\"ticks\":\"\"}}}],\"scatterpolargl\":[{\"type\":\"scatterpolargl\",\"marker\":{\"colorbar\":{\"outlinewidth\":0,\"ticks\":\"\"}}}],\"bar\":[{\"error_x\":{\"color\":\"#2a3f5f\"},\"error_y\":{\"color\":\"#2a3f5f\"},\"marker\":{\"line\":{\"color\":\"#E5ECF6\",\"width\":0.5},\"pattern\":{\"fillmode\":\"overlay\",\"size\":10,\"solidity\":0.2}},\"type\":\"bar\"}],\"scattergeo\":[{\"type\":\"scattergeo\",\"marker\":{\"colorbar\":{\"outlinewidth\":0,\"ticks\":\"\"}}}],\"scatterpolar\":[{\"type\":\"scatterpolar\",\"marker\":{\"colorbar\":{\"outlinewidth\":0,\"ticks\":\"\"}}}],\"histogram\":[{\"marker\":{\"pattern\":{\"fillmode\":\"overlay\",\"size\":10,\"solidity\":0.2}},\"type\":\"histogram\"}],\"scattergl\":[{\"type\":\"scattergl\",\"marker\":{\"colorbar\":{\"outlinewidth\":0,\"ticks\":\"\"}}}],\"scatter3d\":[{\"type\":\"scatter3d\",\"line\":{\"colorbar\":{\"outlinewidth\":0,\"ticks\":\"\"}},\"marker\":{\"colorbar\":{\"outlinewidth\":0,\"ticks\":\"\"}}}],\"scattermap\":[{\"type\":\"scattermap\",\"marker\":{\"colorbar\":{\"outlinewidth\":0,\"ticks\":\"\"}}}],\"scattermapbox\":[{\"type\":\"scattermapbox\",\"marker\":{\"colorbar\":{\"outlinewidth\":0,\"ticks\":\"\"}}}],\"scatterternary\":[{\"type\":\"scatterternary\",\"marker\":{\"colorbar\":{\"outlinewidth\":0,\"ticks\":\"\"}}}],\"scattercarpet\":[{\"type\":\"scattercarpet\",\"marker\":{\"colorbar\":{\"outlinewidth\":0,\"ticks\":\"\"}}}],\"carpet\":[{\"aaxis\":{\"endlinecolor\":\"#2a3f5f\",\"gridcolor\":\"white\",\"linecolor\":\"white\",\"minorgridcolor\":\"white\",\"startlinecolor\":\"#2a3f5f\"},\"baxis\":{\"endlinecolor\":\"#2a3f5f\",\"gridcolor\":\"white\",\"linecolor\":\"white\",\"minorgridcolor\":\"white\",\"startlinecolor\":\"#2a3f5f\"},\"type\":\"carpet\"}],\"table\":[{\"cells\":{\"fill\":{\"color\":\"#EBF0F8\"},\"line\":{\"color\":\"white\"}},\"header\":{\"fill\":{\"color\":\"#C8D4E3\"},\"line\":{\"color\":\"white\"}},\"type\":\"table\"}],\"barpolar\":[{\"marker\":{\"line\":{\"color\":\"#E5ECF6\",\"width\":0.5},\"pattern\":{\"fillmode\":\"overlay\",\"size\":10,\"solidity\":0.2}},\"type\":\"barpolar\"}],\"pie\":[{\"automargin\":true,\"type\":\"pie\"}]},\"layout\":{\"autotypenumbers\":\"strict\",\"colorway\":[\"#636efa\",\"#EF553B\",\"#00cc96\",\"#ab63fa\",\"#FFA15A\",\"#19d3f3\",\"#FF6692\",\"#B6E880\",\"#FF97FF\",\"#FECB52\"],\"font\":{\"color\":\"#2a3f5f\"},\"hovermode\":\"closest\",\"hoverlabel\":{\"align\":\"left\"},\"paper_bgcolor\":\"white\",\"plot_bgcolor\":\"#E5ECF6\",\"polar\":{\"bgcolor\":\"#E5ECF6\",\"angularaxis\":{\"gridcolor\":\"white\",\"linecolor\":\"white\",\"ticks\":\"\"},\"radialaxis\":{\"gridcolor\":\"white\",\"linecolor\":\"white\",\"ticks\":\"\"}},\"ternary\":{\"bgcolor\":\"#E5ECF6\",\"aaxis\":{\"gridcolor\":\"white\",\"linecolor\":\"white\",\"ticks\":\"\"},\"baxis\":{\"gridcolor\":\"white\",\"linecolor\":\"white\",\"ticks\":\"\"},\"caxis\":{\"gridcolor\":\"white\",\"linecolor\":\"white\",\"ticks\":\"\"}},\"coloraxis\":{\"colorbar\":{\"outlinewidth\":0,\"ticks\":\"\"}},\"colorscale\":{\"sequential\":[[0.0,\"#0d0887\"],[0.1111111111111111,\"#46039f\"],[0.2222222222222222,\"#7201a8\"],[0.3333333333333333,\"#9c179e\"],[0.4444444444444444,\"#bd3786\"],[0.5555555555555556,\"#d8576b\"],[0.6666666666666666,\"#ed7953\"],[0.7777777777777778,\"#fb9f3a\"],[0.8888888888888888,\"#fdca26\"],[1.0,\"#f0f921\"]],\"sequentialminus\":[[0.0,\"#0d0887\"],[0.1111111111111111,\"#46039f\"],[0.2222222222222222,\"#7201a8\"],[0.3333333333333333,\"#9c179e\"],[0.4444444444444444,\"#bd3786\"],[0.5555555555555556,\"#d8576b\"],[0.6666666666666666,\"#ed7953\"],[0.7777777777777778,\"#fb9f3a\"],[0.8888888888888888,\"#fdca26\"],[1.0,\"#f0f921\"]],\"diverging\":[[0,\"#8e0152\"],[0.1,\"#c51b7d\"],[0.2,\"#de77ae\"],[0.3,\"#f1b6da\"],[0.4,\"#fde0ef\"],[0.5,\"#f7f7f7\"],[0.6,\"#e6f5d0\"],[0.7,\"#b8e186\"],[0.8,\"#7fbc41\"],[0.9,\"#4d9221\"],[1,\"#276419\"]]},\"xaxis\":{\"gridcolor\":\"white\",\"linecolor\":\"white\",\"ticks\":\"\",\"title\":{\"standoff\":15},\"zerolinecolor\":\"white\",\"automargin\":true,\"zerolinewidth\":2},\"yaxis\":{\"gridcolor\":\"white\",\"linecolor\":\"white\",\"ticks\":\"\",\"title\":{\"standoff\":15},\"zerolinecolor\":\"white\",\"automargin\":true,\"zerolinewidth\":2},\"scene\":{\"xaxis\":{\"backgroundcolor\":\"#E5ECF6\",\"gridcolor\":\"white\",\"linecolor\":\"white\",\"showbackground\":true,\"ticks\":\"\",\"zerolinecolor\":\"white\",\"gridwidth\":2},\"yaxis\":{\"backgroundcolor\":\"#E5ECF6\",\"gridcolor\":\"white\",\"linecolor\":\"white\",\"showbackground\":true,\"ticks\":\"\",\"zerolinecolor\":\"white\",\"gridwidth\":2},\"zaxis\":{\"backgroundcolor\":\"#E5ECF6\",\"gridcolor\":\"white\",\"linecolor\":\"white\",\"showbackground\":true,\"ticks\":\"\",\"zerolinecolor\":\"white\",\"gridwidth\":2}},\"shapedefaults\":{\"line\":{\"color\":\"#2a3f5f\"}},\"annotationdefaults\":{\"arrowcolor\":\"#2a3f5f\",\"arrowhead\":0,\"arrowwidth\":1},\"geo\":{\"bgcolor\":\"white\",\"landcolor\":\"#E5ECF6\",\"subunitcolor\":\"white\",\"showland\":true,\"showlakes\":true,\"lakecolor\":\"white\"},\"title\":{\"x\":0.05},\"mapbox\":{\"style\":\"light\"}}},\"xaxis\":{\"anchor\":\"y\",\"domain\":[0.0,1.0],\"title\":{\"text\":\"Weapon\"},\"categoryorder\":\"array\",\"categoryarray\":[\"gun\",\"knife\",\"vehicle\",\"undetermined\",\"toy weapon\",\"machete\",\"unknown weapon\",\"Taser\",\"ax\",0,\"baseball bat\",\"sword\",\"metal pipe\",\"box cutter\",\"hammer\",\"hatchet\",\"crossbow\",\"gun and knife\",\"screwdriver\",\"blunt object\",\"guns and explosives\",\"scissors\",\"metal stick\",\"rock\",\"brick\",\"beer bottle\",\"meat cleaver\",\"shovel\",\"hatchet and gun\",\"baton\",\"chain saw\",\"metal pole\",\"metal object\",\"sharp object\",\"pipe\",\"piece of wood\",\"nail gun\",\"bean-bag gun\",\"baseball bat and fireplace poker\",\"contractor's level\",\"carjack\",\"chain\",\"metal hand tool\",\"cordless drill\",\"flagpole\",\"lawn mower blade\",\"stapler\",\"garden tool\",\"flashlight\",\"hand torch\",\"straight edge razor\",\"pole\",\"pitchfork\",\"spear\",\"pick-axe\",\"bayonet\",\"glass shard\",\"motorcycle\",\"metal rake\",\"crowbar\",\"oar\",\"machete and gun\",\"tire iron\",\"air conditioner\",\"pole and knife\",\"baseball bat and bottle\",\"fireworks\",\"pen\"]},\"yaxis\":{\"anchor\":\"x\",\"domain\":[0.0,1.0],\"title\":{\"text\":\"Deaths\"}},\"legend\":{\"title\":{\"text\":\"Weapon\"},\"tracegroupgap\":0},\"title\":{\"text\":\"What Kind of Weapons Were the Deceased Carrying?\"},\"barmode\":\"relative\"},                        {\"responsive\": true}                    ).then(function(){\n",
              "                            \n",
              "var gd = document.getElementById('3dbc9761-0311-4018-91ee-931d6b30a474');\n",
              "var x = new MutationObserver(function (mutations, observer) {{\n",
              "        var display = window.getComputedStyle(gd).display;\n",
              "        if (!display || display === 'none') {{\n",
              "            console.log([gd, 'removed!']);\n",
              "            Plotly.purge(gd);\n",
              "            observer.disconnect();\n",
              "        }}\n",
              "}});\n",
              "\n",
              "// Listen for the removal of the full notebook cells\n",
              "var notebookContainer = gd.closest('#notebook-container');\n",
              "if (notebookContainer) {{\n",
              "    x.observe(notebookContainer, {childList: true});\n",
              "}}\n",
              "\n",
              "// Listen for the clearing of the current output cell\n",
              "var outputEl = gd.closest('.output');\n",
              "if (outputEl) {{\n",
              "    x.observe(outputEl, {childList: true});\n",
              "}}\n",
              "\n",
              "                        })                };            </script>        </div>\n",
              "</body>\n",
              "</html>"
            ]
          },
          "metadata": {}
        }
      ]
    },
    {
      "cell_type": "markdown",
      "source": [
        "The majority of cases involve people carrying guns (1396 deaths).\n",
        "\n",
        "The second most common weapon is a knife (373 deaths), followed by vehicles (177), and cases marked as undetermined (117).\n",
        "\n",
        "Other weapon types (e.g., toy weapons, machetes, Tasers, pipes, bats, etc.) appear in much smaller numbers.\n",
        "\n",
        "A long tail of rare items exists (e.g., pen, fireworks, pickaxe, etc.), each involved in only 1–2 deaths.\n",
        "\n",
        "This shows that most fatal encounters involve firearms, with knives and vehicles far behind. While there is diversity in weapon types, the overwhelming majority are concentrated in just a few categories."
      ],
      "metadata": {
        "id": "sYG1uvQMgSPg"
      }
    },
    {
      "cell_type": "markdown",
      "metadata": {
        "id": "IgD2a5-L4W_I"
      },
      "source": [
        "# How Old Were the People Killed?"
      ]
    },
    {
      "cell_type": "markdown",
      "metadata": {
        "id": "BNPrdT-W9lf3"
      },
      "source": [
        "Work out what percentage of people killed were under 25 years old.  "
      ]
    },
    {
      "cell_type": "code",
      "metadata": {
        "id": "zSyDgzb542O9",
        "colab": {
          "base_uri": "https://localhost:8080/",
          "height": 542
        },
        "outputId": "091dcbcf-3737-4b31-a18f-c24dedd5f279"
      },
      "source": [
        "df_fatalities['age_category'] = df_fatalities['age'].apply(lambda x: 'under 25' if x < 25 else '25 or older')\n",
        "age_counts = df_fatalities[\"age_category\"].value_counts().reset_index()\n",
        "age_counts.columns = [\"Age\", \"Deaths\"]\n",
        "\n",
        "# Bar chart\n",
        "fig = px.bar(\n",
        "    age_counts,\n",
        "    x=\"Age\",\n",
        "    y=\"Deaths\",\n",
        "    text=\"Deaths\",\n",
        "    color=\"Age\",\n",
        "    title=\"How Old Were the People Killed?\"\n",
        ")\n",
        "\n",
        "fig.update_traces(textposition=\"outside\")\n",
        "fig.show()"
      ],
      "execution_count": 20,
      "outputs": [
        {
          "output_type": "display_data",
          "data": {
            "text/html": [
              "<html>\n",
              "<head><meta charset=\"utf-8\" /></head>\n",
              "<body>\n",
              "    <div>            <script src=\"https://cdnjs.cloudflare.com/ajax/libs/mathjax/2.7.5/MathJax.js?config=TeX-AMS-MML_SVG\"></script><script type=\"text/javascript\">if (window.MathJax && window.MathJax.Hub && window.MathJax.Hub.Config) {window.MathJax.Hub.Config({SVG: {font: \"STIX-Web\"}});}</script>                <script type=\"text/javascript\">window.PlotlyConfig = {MathJaxConfig: 'local'};</script>\n",
              "        <script charset=\"utf-8\" src=\"https://cdn.plot.ly/plotly-3.1.0.min.js\" integrity=\"sha256-Ei4740bWZhaUTQuD6q9yQlgVCMPBz6CZWhevDYPv93A=\" crossorigin=\"anonymous\"></script>                <div id=\"9f828106-6719-41d8-9c95-539441098f3e\" class=\"plotly-graph-div\" style=\"height:525px; width:100%;\"></div>            <script type=\"text/javascript\">                window.PLOTLYENV=window.PLOTLYENV || {};                                if (document.getElementById(\"9f828106-6719-41d8-9c95-539441098f3e\")) {                    Plotly.newPlot(                        \"9f828106-6719-41d8-9c95-539441098f3e\",                        [{\"hovertemplate\":\"Age=%{x}\\u003cbr\\u003eDeaths=%{text}\\u003cextra\\u003e\\u003c\\u002fextra\\u003e\",\"legendgroup\":\"25 or older\",\"marker\":{\"color\":\"#636efa\",\"pattern\":{\"shape\":\"\"}},\"name\":\"25 or older\",\"orientation\":\"v\",\"showlegend\":true,\"text\":{\"dtype\":\"f8\",\"bdata\":\"AAAAAABgn0A=\"},\"textposition\":\"outside\",\"x\":[\"25 or older\"],\"xaxis\":\"x\",\"y\":{\"dtype\":\"i2\",\"bdata\":\"2Ac=\"},\"yaxis\":\"y\",\"type\":\"bar\"},{\"hovertemplate\":\"Age=%{x}\\u003cbr\\u003eDeaths=%{text}\\u003cextra\\u003e\\u003c\\u002fextra\\u003e\",\"legendgroup\":\"under 25\",\"marker\":{\"color\":\"#EF553B\",\"pattern\":{\"shape\":\"\"}},\"name\":\"under 25\",\"orientation\":\"v\",\"showlegend\":true,\"text\":{\"dtype\":\"f8\",\"bdata\":\"AAAAAAB4gEA=\"},\"textposition\":\"outside\",\"x\":[\"under 25\"],\"xaxis\":\"x\",\"y\":{\"dtype\":\"i2\",\"bdata\":\"DwI=\"},\"yaxis\":\"y\",\"type\":\"bar\"}],                        {\"template\":{\"data\":{\"histogram2dcontour\":[{\"type\":\"histogram2dcontour\",\"colorbar\":{\"outlinewidth\":0,\"ticks\":\"\"},\"colorscale\":[[0.0,\"#0d0887\"],[0.1111111111111111,\"#46039f\"],[0.2222222222222222,\"#7201a8\"],[0.3333333333333333,\"#9c179e\"],[0.4444444444444444,\"#bd3786\"],[0.5555555555555556,\"#d8576b\"],[0.6666666666666666,\"#ed7953\"],[0.7777777777777778,\"#fb9f3a\"],[0.8888888888888888,\"#fdca26\"],[1.0,\"#f0f921\"]]}],\"choropleth\":[{\"type\":\"choropleth\",\"colorbar\":{\"outlinewidth\":0,\"ticks\":\"\"}}],\"histogram2d\":[{\"type\":\"histogram2d\",\"colorbar\":{\"outlinewidth\":0,\"ticks\":\"\"},\"colorscale\":[[0.0,\"#0d0887\"],[0.1111111111111111,\"#46039f\"],[0.2222222222222222,\"#7201a8\"],[0.3333333333333333,\"#9c179e\"],[0.4444444444444444,\"#bd3786\"],[0.5555555555555556,\"#d8576b\"],[0.6666666666666666,\"#ed7953\"],[0.7777777777777778,\"#fb9f3a\"],[0.8888888888888888,\"#fdca26\"],[1.0,\"#f0f921\"]]}],\"heatmap\":[{\"type\":\"heatmap\",\"colorbar\":{\"outlinewidth\":0,\"ticks\":\"\"},\"colorscale\":[[0.0,\"#0d0887\"],[0.1111111111111111,\"#46039f\"],[0.2222222222222222,\"#7201a8\"],[0.3333333333333333,\"#9c179e\"],[0.4444444444444444,\"#bd3786\"],[0.5555555555555556,\"#d8576b\"],[0.6666666666666666,\"#ed7953\"],[0.7777777777777778,\"#fb9f3a\"],[0.8888888888888888,\"#fdca26\"],[1.0,\"#f0f921\"]]}],\"contourcarpet\":[{\"type\":\"contourcarpet\",\"colorbar\":{\"outlinewidth\":0,\"ticks\":\"\"}}],\"contour\":[{\"type\":\"contour\",\"colorbar\":{\"outlinewidth\":0,\"ticks\":\"\"},\"colorscale\":[[0.0,\"#0d0887\"],[0.1111111111111111,\"#46039f\"],[0.2222222222222222,\"#7201a8\"],[0.3333333333333333,\"#9c179e\"],[0.4444444444444444,\"#bd3786\"],[0.5555555555555556,\"#d8576b\"],[0.6666666666666666,\"#ed7953\"],[0.7777777777777778,\"#fb9f3a\"],[0.8888888888888888,\"#fdca26\"],[1.0,\"#f0f921\"]]}],\"surface\":[{\"type\":\"surface\",\"colorbar\":{\"outlinewidth\":0,\"ticks\":\"\"},\"colorscale\":[[0.0,\"#0d0887\"],[0.1111111111111111,\"#46039f\"],[0.2222222222222222,\"#7201a8\"],[0.3333333333333333,\"#9c179e\"],[0.4444444444444444,\"#bd3786\"],[0.5555555555555556,\"#d8576b\"],[0.6666666666666666,\"#ed7953\"],[0.7777777777777778,\"#fb9f3a\"],[0.8888888888888888,\"#fdca26\"],[1.0,\"#f0f921\"]]}],\"mesh3d\":[{\"type\":\"mesh3d\",\"colorbar\":{\"outlinewidth\":0,\"ticks\":\"\"}}],\"scatter\":[{\"fillpattern\":{\"fillmode\":\"overlay\",\"size\":10,\"solidity\":0.2},\"type\":\"scatter\"}],\"parcoords\":[{\"type\":\"parcoords\",\"line\":{\"colorbar\":{\"outlinewidth\":0,\"ticks\":\"\"}}}],\"scatterpolargl\":[{\"type\":\"scatterpolargl\",\"marker\":{\"colorbar\":{\"outlinewidth\":0,\"ticks\":\"\"}}}],\"bar\":[{\"error_x\":{\"color\":\"#2a3f5f\"},\"error_y\":{\"color\":\"#2a3f5f\"},\"marker\":{\"line\":{\"color\":\"#E5ECF6\",\"width\":0.5},\"pattern\":{\"fillmode\":\"overlay\",\"size\":10,\"solidity\":0.2}},\"type\":\"bar\"}],\"scattergeo\":[{\"type\":\"scattergeo\",\"marker\":{\"colorbar\":{\"outlinewidth\":0,\"ticks\":\"\"}}}],\"scatterpolar\":[{\"type\":\"scatterpolar\",\"marker\":{\"colorbar\":{\"outlinewidth\":0,\"ticks\":\"\"}}}],\"histogram\":[{\"marker\":{\"pattern\":{\"fillmode\":\"overlay\",\"size\":10,\"solidity\":0.2}},\"type\":\"histogram\"}],\"scattergl\":[{\"type\":\"scattergl\",\"marker\":{\"colorbar\":{\"outlinewidth\":0,\"ticks\":\"\"}}}],\"scatter3d\":[{\"type\":\"scatter3d\",\"line\":{\"colorbar\":{\"outlinewidth\":0,\"ticks\":\"\"}},\"marker\":{\"colorbar\":{\"outlinewidth\":0,\"ticks\":\"\"}}}],\"scattermap\":[{\"type\":\"scattermap\",\"marker\":{\"colorbar\":{\"outlinewidth\":0,\"ticks\":\"\"}}}],\"scattermapbox\":[{\"type\":\"scattermapbox\",\"marker\":{\"colorbar\":{\"outlinewidth\":0,\"ticks\":\"\"}}}],\"scatterternary\":[{\"type\":\"scatterternary\",\"marker\":{\"colorbar\":{\"outlinewidth\":0,\"ticks\":\"\"}}}],\"scattercarpet\":[{\"type\":\"scattercarpet\",\"marker\":{\"colorbar\":{\"outlinewidth\":0,\"ticks\":\"\"}}}],\"carpet\":[{\"aaxis\":{\"endlinecolor\":\"#2a3f5f\",\"gridcolor\":\"white\",\"linecolor\":\"white\",\"minorgridcolor\":\"white\",\"startlinecolor\":\"#2a3f5f\"},\"baxis\":{\"endlinecolor\":\"#2a3f5f\",\"gridcolor\":\"white\",\"linecolor\":\"white\",\"minorgridcolor\":\"white\",\"startlinecolor\":\"#2a3f5f\"},\"type\":\"carpet\"}],\"table\":[{\"cells\":{\"fill\":{\"color\":\"#EBF0F8\"},\"line\":{\"color\":\"white\"}},\"header\":{\"fill\":{\"color\":\"#C8D4E3\"},\"line\":{\"color\":\"white\"}},\"type\":\"table\"}],\"barpolar\":[{\"marker\":{\"line\":{\"color\":\"#E5ECF6\",\"width\":0.5},\"pattern\":{\"fillmode\":\"overlay\",\"size\":10,\"solidity\":0.2}},\"type\":\"barpolar\"}],\"pie\":[{\"automargin\":true,\"type\":\"pie\"}]},\"layout\":{\"autotypenumbers\":\"strict\",\"colorway\":[\"#636efa\",\"#EF553B\",\"#00cc96\",\"#ab63fa\",\"#FFA15A\",\"#19d3f3\",\"#FF6692\",\"#B6E880\",\"#FF97FF\",\"#FECB52\"],\"font\":{\"color\":\"#2a3f5f\"},\"hovermode\":\"closest\",\"hoverlabel\":{\"align\":\"left\"},\"paper_bgcolor\":\"white\",\"plot_bgcolor\":\"#E5ECF6\",\"polar\":{\"bgcolor\":\"#E5ECF6\",\"angularaxis\":{\"gridcolor\":\"white\",\"linecolor\":\"white\",\"ticks\":\"\"},\"radialaxis\":{\"gridcolor\":\"white\",\"linecolor\":\"white\",\"ticks\":\"\"}},\"ternary\":{\"bgcolor\":\"#E5ECF6\",\"aaxis\":{\"gridcolor\":\"white\",\"linecolor\":\"white\",\"ticks\":\"\"},\"baxis\":{\"gridcolor\":\"white\",\"linecolor\":\"white\",\"ticks\":\"\"},\"caxis\":{\"gridcolor\":\"white\",\"linecolor\":\"white\",\"ticks\":\"\"}},\"coloraxis\":{\"colorbar\":{\"outlinewidth\":0,\"ticks\":\"\"}},\"colorscale\":{\"sequential\":[[0.0,\"#0d0887\"],[0.1111111111111111,\"#46039f\"],[0.2222222222222222,\"#7201a8\"],[0.3333333333333333,\"#9c179e\"],[0.4444444444444444,\"#bd3786\"],[0.5555555555555556,\"#d8576b\"],[0.6666666666666666,\"#ed7953\"],[0.7777777777777778,\"#fb9f3a\"],[0.8888888888888888,\"#fdca26\"],[1.0,\"#f0f921\"]],\"sequentialminus\":[[0.0,\"#0d0887\"],[0.1111111111111111,\"#46039f\"],[0.2222222222222222,\"#7201a8\"],[0.3333333333333333,\"#9c179e\"],[0.4444444444444444,\"#bd3786\"],[0.5555555555555556,\"#d8576b\"],[0.6666666666666666,\"#ed7953\"],[0.7777777777777778,\"#fb9f3a\"],[0.8888888888888888,\"#fdca26\"],[1.0,\"#f0f921\"]],\"diverging\":[[0,\"#8e0152\"],[0.1,\"#c51b7d\"],[0.2,\"#de77ae\"],[0.3,\"#f1b6da\"],[0.4,\"#fde0ef\"],[0.5,\"#f7f7f7\"],[0.6,\"#e6f5d0\"],[0.7,\"#b8e186\"],[0.8,\"#7fbc41\"],[0.9,\"#4d9221\"],[1,\"#276419\"]]},\"xaxis\":{\"gridcolor\":\"white\",\"linecolor\":\"white\",\"ticks\":\"\",\"title\":{\"standoff\":15},\"zerolinecolor\":\"white\",\"automargin\":true,\"zerolinewidth\":2},\"yaxis\":{\"gridcolor\":\"white\",\"linecolor\":\"white\",\"ticks\":\"\",\"title\":{\"standoff\":15},\"zerolinecolor\":\"white\",\"automargin\":true,\"zerolinewidth\":2},\"scene\":{\"xaxis\":{\"backgroundcolor\":\"#E5ECF6\",\"gridcolor\":\"white\",\"linecolor\":\"white\",\"showbackground\":true,\"ticks\":\"\",\"zerolinecolor\":\"white\",\"gridwidth\":2},\"yaxis\":{\"backgroundcolor\":\"#E5ECF6\",\"gridcolor\":\"white\",\"linecolor\":\"white\",\"showbackground\":true,\"ticks\":\"\",\"zerolinecolor\":\"white\",\"gridwidth\":2},\"zaxis\":{\"backgroundcolor\":\"#E5ECF6\",\"gridcolor\":\"white\",\"linecolor\":\"white\",\"showbackground\":true,\"ticks\":\"\",\"zerolinecolor\":\"white\",\"gridwidth\":2}},\"shapedefaults\":{\"line\":{\"color\":\"#2a3f5f\"}},\"annotationdefaults\":{\"arrowcolor\":\"#2a3f5f\",\"arrowhead\":0,\"arrowwidth\":1},\"geo\":{\"bgcolor\":\"white\",\"landcolor\":\"#E5ECF6\",\"subunitcolor\":\"white\",\"showland\":true,\"showlakes\":true,\"lakecolor\":\"white\"},\"title\":{\"x\":0.05},\"mapbox\":{\"style\":\"light\"}}},\"xaxis\":{\"anchor\":\"y\",\"domain\":[0.0,1.0],\"title\":{\"text\":\"Age\"},\"categoryorder\":\"array\",\"categoryarray\":[\"25 or older\",\"under 25\"]},\"yaxis\":{\"anchor\":\"x\",\"domain\":[0.0,1.0],\"title\":{\"text\":\"Deaths\"}},\"legend\":{\"title\":{\"text\":\"Age\"},\"tracegroupgap\":0},\"title\":{\"text\":\"How Old Were the People Killed?\"},\"barmode\":\"relative\"},                        {\"responsive\": true}                    ).then(function(){\n",
              "                            \n",
              "var gd = document.getElementById('9f828106-6719-41d8-9c95-539441098f3e');\n",
              "var x = new MutationObserver(function (mutations, observer) {{\n",
              "        var display = window.getComputedStyle(gd).display;\n",
              "        if (!display || display === 'none') {{\n",
              "            console.log([gd, 'removed!']);\n",
              "            Plotly.purge(gd);\n",
              "            observer.disconnect();\n",
              "        }}\n",
              "}});\n",
              "\n",
              "// Listen for the removal of the full notebook cells\n",
              "var notebookContainer = gd.closest('#notebook-container');\n",
              "if (notebookContainer) {{\n",
              "    x.observe(notebookContainer, {childList: true});\n",
              "}}\n",
              "\n",
              "// Listen for the clearing of the current output cell\n",
              "var outputEl = gd.closest('.output');\n",
              "if (outputEl) {{\n",
              "    x.observe(outputEl, {childList: true});\n",
              "}}\n",
              "\n",
              "                        })                };            </script>        </div>\n",
              "</body>\n",
              "</html>"
            ]
          },
          "metadata": {}
        }
      ]
    },
    {
      "cell_type": "markdown",
      "source": [
        "The majority (about 79%) of people killed were 25 or older, while around 21% were under 25. This suggests that police killings disproportionately involve adults rather than younger individuals, though a substantial minority are still under 25."
      ],
      "metadata": {
        "id": "U8XpbqDhmTox"
      }
    },
    {
      "cell_type": "markdown",
      "metadata": {
        "id": "5XrAD_ey9qBB"
      },
      "source": [
        "Create a histogram and KDE plot that shows the distribution of ages of the people killed by police."
      ]
    },
    {
      "cell_type": "code",
      "metadata": {
        "id": "U6B1Qp7l42H8",
        "colab": {
          "base_uri": "https://localhost:8080/",
          "height": 472
        },
        "outputId": "592bf26a-a7e2-43cc-afe2-8620778f11dc"
      },
      "source": [
        "sns.histplot(data=df_fatalities, x=\"age\", kde=True, bins=20)\n",
        "plt.xlabel(\"Age\")\n",
        "plt.ylabel(\"Frequency\")\n",
        "plt.title(\"Distribution of Ages of People Killed by Police\")\n",
        "plt.show()"
      ],
      "execution_count": 21,
      "outputs": [
        {
          "output_type": "display_data",
          "data": {
            "text/plain": [
              "<Figure size 640x480 with 1 Axes>"
            ],
            "image/png": "[encoded data removed]"
          },
          "metadata": {}
        }
      ]
    },
    {
      "cell_type": "markdown",
      "source": [
        "The distribution is concentrated in early adulthood (ages 20–40).\n",
        "\n",
        "The peak frequency is in the mid-20s to early 30s.\n",
        "\n",
        "There are fewer deaths among children and the elderly, though some cases exist at both extremes.\n",
        "\n",
        "After age 40, the frequency declines steadily, with very few cases over 70.\n",
        "\n",
        "This shows that most victims are young to middle-aged adults, particularly between their 20s and 30s, aligning with the broader adult dominance shown in the first chart. The long right tail reflects that killings still occur at older ages, but they are much less frequent."
      ],
      "metadata": {
        "id": "XlN9cY0FmfP6"
      }
    },
    {
      "cell_type": "markdown",
      "metadata": {
        "id": "JkcHvMUt43uE"
      },
      "source": [
        "# Race of People Killed\n",
        "\n",
        "Create a chart that shows the total number of people killed by race."
      ]
    },
    {
      "cell_type": "code",
      "metadata": {
        "id": "e8wZvBrt5BEb",
        "colab": {
          "base_uri": "https://localhost:8080/",
          "height": 542
        },
        "outputId": "772af73b-f222-45d3-c8eb-21d2a87406d3"
      },
      "source": [
        "df_fatalities[\"race\"] = df_fatalities[\"race\"].apply(lambda x: \"O\" if x == 0 else x)\n",
        "race_counts = df_fatalities[\"race\"].value_counts().reset_index()\n",
        "race_counts.columns = [\"Race\", \"Deaths\"]\n",
        "\n",
        "# Bar chart\n",
        "fig = px.bar(\n",
        "    race_counts,\n",
        "    x=\"Race\",\n",
        "    y=\"Deaths\",\n",
        "    text=\"Deaths\",\n",
        "    color=\"Race\",\n",
        "    title=\"Race of People Killed\"\n",
        ")\n",
        "\n",
        "fig.update_traces(textposition=\"outside\")\n",
        "fig.show()"
      ],
      "execution_count": 22,
      "outputs": [
        {
          "output_type": "display_data",
          "data": {
            "text/html": [
              "<html>\n",
              "<head><meta charset=\"utf-8\" /></head>\n",
              "<body>\n",
              "    <div>            <script src=\"https://cdnjs.cloudflare.com/ajax/libs/mathjax/2.7.5/MathJax.js?config=TeX-AMS-MML_SVG\"></script><script type=\"text/javascript\">if (window.MathJax && window.MathJax.Hub && window.MathJax.Hub.Config) {window.MathJax.Hub.Config({SVG: {font: \"STIX-Web\"}});}</script>                <script type=\"text/javascript\">window.PlotlyConfig = {MathJaxConfig: 'local'};</script>\n",
              "        <script charset=\"utf-8\" src=\"https://cdn.plot.ly/plotly-3.1.0.min.js\" integrity=\"sha256-Ei4740bWZhaUTQuD6q9yQlgVCMPBz6CZWhevDYPv93A=\" crossorigin=\"anonymous\"></script>                <div id=\"a283b1be-4f45-4f13-b157-22b010910d08\" class=\"plotly-graph-div\" style=\"height:525px; width:100%;\"></div>            <script type=\"text/javascript\">                window.PLOTLYENV=window.PLOTLYENV || {};                                if (document.getElementById(\"a283b1be-4f45-4f13-b157-22b010910d08\")) {                    Plotly.newPlot(                        \"a283b1be-4f45-4f13-b157-22b010910d08\",                        [{\"hovertemplate\":\"Race=%{x}\\u003cbr\\u003eDeaths=%{text}\\u003cextra\\u003e\\u003c\\u002fextra\\u003e\",\"legendgroup\":\"W\",\"marker\":{\"color\":\"#636efa\",\"pattern\":{\"shape\":\"\"}},\"name\":\"W\",\"orientation\":\"v\",\"showlegend\":true,\"text\":{\"dtype\":\"f8\",\"bdata\":\"AAAAAADEkkA=\"},\"textposition\":\"outside\",\"x\":[\"W\"],\"xaxis\":\"x\",\"y\":{\"dtype\":\"i2\",\"bdata\":\"sQQ=\"},\"yaxis\":\"y\",\"type\":\"bar\"},{\"hovertemplate\":\"Race=%{x}\\u003cbr\\u003eDeaths=%{text}\\u003cextra\\u003e\\u003c\\u002fextra\\u003e\",\"legendgroup\":\"B\",\"marker\":{\"color\":\"#EF553B\",\"pattern\":{\"shape\":\"\"}},\"name\":\"B\",\"orientation\":\"v\",\"showlegend\":true,\"text\":{\"dtype\":\"f8\",\"bdata\":\"AAAAAABQg0A=\"},\"textposition\":\"outside\",\"x\":[\"B\"],\"xaxis\":\"x\",\"y\":{\"dtype\":\"i2\",\"bdata\":\"agI=\"},\"yaxis\":\"y\",\"type\":\"bar\"},{\"hovertemplate\":\"Race=%{x}\\u003cbr\\u003eDeaths=%{text}\\u003cextra\\u003e\\u003c\\u002fextra\\u003e\",\"legendgroup\":\"H\",\"marker\":{\"color\":\"#00cc96\",\"pattern\":{\"shape\":\"\"}},\"name\":\"H\",\"orientation\":\"v\",\"showlegend\":true,\"text\":{\"dtype\":\"f8\",\"bdata\":\"AAAAAABwekA=\"},\"textposition\":\"outside\",\"x\":[\"H\"],\"xaxis\":\"x\",\"y\":{\"dtype\":\"i2\",\"bdata\":\"pwE=\"},\"yaxis\":\"y\",\"type\":\"bar\"},{\"hovertemplate\":\"Race=%{x}\\u003cbr\\u003eDeaths=%{text}\\u003cextra\\u003e\\u003c\\u002fextra\\u003e\",\"legendgroup\":\"O\",\"marker\":{\"color\":\"#ab63fa\",\"pattern\":{\"shape\":\"\"}},\"name\":\"O\",\"orientation\":\"v\",\"showlegend\":true,\"text\":{\"dtype\":\"f8\",\"bdata\":\"AAAAAADga0A=\"},\"textposition\":\"outside\",\"x\":[\"O\"],\"xaxis\":\"x\",\"y\":{\"dtype\":\"i2\",\"bdata\":\"3wA=\"},\"yaxis\":\"y\",\"type\":\"bar\"},{\"hovertemplate\":\"Race=%{x}\\u003cbr\\u003eDeaths=%{text}\\u003cextra\\u003e\\u003c\\u002fextra\\u003e\",\"legendgroup\":\"A\",\"marker\":{\"color\":\"#FFA15A\",\"pattern\":{\"shape\":\"\"}},\"name\":\"A\",\"orientation\":\"v\",\"showlegend\":true,\"text\":{\"dtype\":\"f8\",\"bdata\":\"AAAAAACAQ0A=\"},\"textposition\":\"outside\",\"x\":[\"A\"],\"xaxis\":\"x\",\"y\":{\"dtype\":\"i1\",\"bdata\":\"Jw==\"},\"yaxis\":\"y\",\"type\":\"bar\"},{\"hovertemplate\":\"Race=%{x}\\u003cbr\\u003eDeaths=%{text}\\u003cextra\\u003e\\u003c\\u002fextra\\u003e\",\"legendgroup\":\"N\",\"marker\":{\"color\":\"#19d3f3\",\"pattern\":{\"shape\":\"\"}},\"name\":\"N\",\"orientation\":\"v\",\"showlegend\":true,\"text\":{\"dtype\":\"f8\",\"bdata\":\"AAAAAAAAP0A=\"},\"textposition\":\"outside\",\"x\":[\"N\"],\"xaxis\":\"x\",\"y\":{\"dtype\":\"i1\",\"bdata\":\"Hw==\"},\"yaxis\":\"y\",\"type\":\"bar\"}],                        {\"template\":{\"data\":{\"histogram2dcontour\":[{\"type\":\"histogram2dcontour\",\"colorbar\":{\"outlinewidth\":0,\"ticks\":\"\"},\"colorscale\":[[0.0,\"#0d0887\"],[0.1111111111111111,\"#46039f\"],[0.2222222222222222,\"#7201a8\"],[0.3333333333333333,\"#9c179e\"],[0.4444444444444444,\"#bd3786\"],[0.5555555555555556,\"#d8576b\"],[0.6666666666666666,\"#ed7953\"],[0.7777777777777778,\"#fb9f3a\"],[0.8888888888888888,\"#fdca26\"],[1.0,\"#f0f921\"]]}],\"choropleth\":[{\"type\":\"choropleth\",\"colorbar\":{\"outlinewidth\":0,\"ticks\":\"\"}}],\"histogram2d\":[{\"type\":\"histogram2d\",\"colorbar\":{\"outlinewidth\":0,\"ticks\":\"\"},\"colorscale\":[[0.0,\"#0d0887\"],[0.1111111111111111,\"#46039f\"],[0.2222222222222222,\"#7201a8\"],[0.3333333333333333,\"#9c179e\"],[0.4444444444444444,\"#bd3786\"],[0.5555555555555556,\"#d8576b\"],[0.6666666666666666,\"#ed7953\"],[0.7777777777777778,\"#fb9f3a\"],[0.8888888888888888,\"#fdca26\"],[1.0,\"#f0f921\"]]}],\"heatmap\":[{\"type\":\"heatmap\",\"colorbar\":{\"outlinewidth\":0,\"ticks\":\"\"},\"colorscale\":[[0.0,\"#0d0887\"],[0.1111111111111111,\"#46039f\"],[0.2222222222222222,\"#7201a8\"],[0.3333333333333333,\"#9c179e\"],[0.4444444444444444,\"#bd3786\"],[0.5555555555555556,\"#d8576b\"],[0.6666666666666666,\"#ed7953\"],[0.7777777777777778,\"#fb9f3a\"],[0.8888888888888888,\"#fdca26\"],[1.0,\"#f0f921\"]]}],\"contourcarpet\":[{\"type\":\"contourcarpet\",\"colorbar\":{\"outlinewidth\":0,\"ticks\":\"\"}}],\"contour\":[{\"type\":\"contour\",\"colorbar\":{\"outlinewidth\":0,\"ticks\":\"\"},\"colorscale\":[[0.0,\"#0d0887\"],[0.1111111111111111,\"#46039f\"],[0.2222222222222222,\"#7201a8\"],[0.3333333333333333,\"#9c179e\"],[0.4444444444444444,\"#bd3786\"],[0.5555555555555556,\"#d8576b\"],[0.6666666666666666,\"#ed7953\"],[0.7777777777777778,\"#fb9f3a\"],[0.8888888888888888,\"#fdca26\"],[1.0,\"#f0f921\"]]}],\"surface\":[{\"type\":\"surface\",\"colorbar\":{\"outlinewidth\":0,\"ticks\":\"\"},\"colorscale\":[[0.0,\"#0d0887\"],[0.1111111111111111,\"#46039f\"],[0.2222222222222222,\"#7201a8\"],[0.3333333333333333,\"#9c179e\"],[0.4444444444444444,\"#bd3786\"],[0.5555555555555556,\"#d8576b\"],[0.6666666666666666,\"#ed7953\"],[0.7777777777777778,\"#fb9f3a\"],[0.8888888888888888,\"#fdca26\"],[1.0,\"#f0f921\"]]}],\"mesh3d\":[{\"type\":\"mesh3d\",\"colorbar\":{\"outlinewidth\":0,\"ticks\":\"\"}}],\"scatter\":[{\"fillpattern\":{\"fillmode\":\"overlay\",\"size\":10,\"solidity\":0.2},\"type\":\"scatter\"}],\"parcoords\":[{\"type\":\"parcoords\",\"line\":{\"colorbar\":{\"outlinewidth\":0,\"ticks\":\"\"}}}],\"scatterpolargl\":[{\"type\":\"scatterpolargl\",\"marker\":{\"colorbar\":{\"outlinewidth\":0,\"ticks\":\"\"}}}],\"bar\":[{\"error_x\":{\"color\":\"#2a3f5f\"},\"error_y\":{\"color\":\"#2a3f5f\"},\"marker\":{\"line\":{\"color\":\"#E5ECF6\",\"width\":0.5},\"pattern\":{\"fillmode\":\"overlay\",\"size\":10,\"solidity\":0.2}},\"type\":\"bar\"}],\"scattergeo\":[{\"type\":\"scattergeo\",\"marker\":{\"colorbar\":{\"outlinewidth\":0,\"ticks\":\"\"}}}],\"scatterpolar\":[{\"type\":\"scatterpolar\",\"marker\":{\"colorbar\":{\"outlinewidth\":0,\"ticks\":\"\"}}}],\"histogram\":[{\"marker\":{\"pattern\":{\"fillmode\":\"overlay\",\"size\":10,\"solidity\":0.2}},\"type\":\"histogram\"}],\"scattergl\":[{\"type\":\"scattergl\",\"marker\":{\"colorbar\":{\"outlinewidth\":0,\"ticks\":\"\"}}}],\"scatter3d\":[{\"type\":\"scatter3d\",\"line\":{\"colorbar\":{\"outlinewidth\":0,\"ticks\":\"\"}},\"marker\":{\"colorbar\":{\"outlinewidth\":0,\"ticks\":\"\"}}}],\"scattermap\":[{\"type\":\"scattermap\",\"marker\":{\"colorbar\":{\"outlinewidth\":0,\"ticks\":\"\"}}}],\"scattermapbox\":[{\"type\":\"scattermapbox\",\"marker\":{\"colorbar\":{\"outlinewidth\":0,\"ticks\":\"\"}}}],\"scatterternary\":[{\"type\":\"scatterternary\",\"marker\":{\"colorbar\":{\"outlinewidth\":0,\"ticks\":\"\"}}}],\"scattercarpet\":[{\"type\":\"scattercarpet\",\"marker\":{\"colorbar\":{\"outlinewidth\":0,\"ticks\":\"\"}}}],\"carpet\":[{\"aaxis\":{\"endlinecolor\":\"#2a3f5f\",\"gridcolor\":\"white\",\"linecolor\":\"white\",\"minorgridcolor\":\"white\",\"startlinecolor\":\"#2a3f5f\"},\"baxis\":{\"endlinecolor\":\"#2a3f5f\",\"gridcolor\":\"white\",\"linecolor\":\"white\",\"minorgridcolor\":\"white\",\"startlinecolor\":\"#2a3f5f\"},\"type\":\"carpet\"}],\"table\":[{\"cells\":{\"fill\":{\"color\":\"#EBF0F8\"},\"line\":{\"color\":\"white\"}},\"header\":{\"fill\":{\"color\":\"#C8D4E3\"},\"line\":{\"color\":\"white\"}},\"type\":\"table\"}],\"barpolar\":[{\"marker\":{\"line\":{\"color\":\"#E5ECF6\",\"width\":0.5},\"pattern\":{\"fillmode\":\"overlay\",\"size\":10,\"solidity\":0.2}},\"type\":\"barpolar\"}],\"pie\":[{\"automargin\":true,\"type\":\"pie\"}]},\"layout\":{\"autotypenumbers\":\"strict\",\"colorway\":[\"#636efa\",\"#EF553B\",\"#00cc96\",\"#ab63fa\",\"#FFA15A\",\"#19d3f3\",\"#FF6692\",\"#B6E880\",\"#FF97FF\",\"#FECB52\"],\"font\":{\"color\":\"#2a3f5f\"},\"hovermode\":\"closest\",\"hoverlabel\":{\"align\":\"left\"},\"paper_bgcolor\":\"white\",\"plot_bgcolor\":\"#E5ECF6\",\"polar\":{\"bgcolor\":\"#E5ECF6\",\"angularaxis\":{\"gridcolor\":\"white\",\"linecolor\":\"white\",\"ticks\":\"\"},\"radialaxis\":{\"gridcolor\":\"white\",\"linecolor\":\"white\",\"ticks\":\"\"}},\"ternary\":{\"bgcolor\":\"#E5ECF6\",\"aaxis\":{\"gridcolor\":\"white\",\"linecolor\":\"white\",\"ticks\":\"\"},\"baxis\":{\"gridcolor\":\"white\",\"linecolor\":\"white\",\"ticks\":\"\"},\"caxis\":{\"gridcolor\":\"white\",\"linecolor\":\"white\",\"ticks\":\"\"}},\"coloraxis\":{\"colorbar\":{\"outlinewidth\":0,\"ticks\":\"\"}},\"colorscale\":{\"sequential\":[[0.0,\"#0d0887\"],[0.1111111111111111,\"#46039f\"],[0.2222222222222222,\"#7201a8\"],[0.3333333333333333,\"#9c179e\"],[0.4444444444444444,\"#bd3786\"],[0.5555555555555556,\"#d8576b\"],[0.6666666666666666,\"#ed7953\"],[0.7777777777777778,\"#fb9f3a\"],[0.8888888888888888,\"#fdca26\"],[1.0,\"#f0f921\"]],\"sequentialminus\":[[0.0,\"#0d0887\"],[0.1111111111111111,\"#46039f\"],[0.2222222222222222,\"#7201a8\"],[0.3333333333333333,\"#9c179e\"],[0.4444444444444444,\"#bd3786\"],[0.5555555555555556,\"#d8576b\"],[0.6666666666666666,\"#ed7953\"],[0.7777777777777778,\"#fb9f3a\"],[0.8888888888888888,\"#fdca26\"],[1.0,\"#f0f921\"]],\"diverging\":[[0,\"#8e0152\"],[0.1,\"#c51b7d\"],[0.2,\"#de77ae\"],[0.3,\"#f1b6da\"],[0.4,\"#fde0ef\"],[0.5,\"#f7f7f7\"],[0.6,\"#e6f5d0\"],[0.7,\"#b8e186\"],[0.8,\"#7fbc41\"],[0.9,\"#4d9221\"],[1,\"#276419\"]]},\"xaxis\":{\"gridcolor\":\"white\",\"linecolor\":\"white\",\"ticks\":\"\",\"title\":{\"standoff\":15},\"zerolinecolor\":\"white\",\"automargin\":true,\"zerolinewidth\":2},\"yaxis\":{\"gridcolor\":\"white\",\"linecolor\":\"white\",\"ticks\":\"\",\"title\":{\"standoff\":15},\"zerolinecolor\":\"white\",\"automargin\":true,\"zerolinewidth\":2},\"scene\":{\"xaxis\":{\"backgroundcolor\":\"#E5ECF6\",\"gridcolor\":\"white\",\"linecolor\":\"white\",\"showbackground\":true,\"ticks\":\"\",\"zerolinecolor\":\"white\",\"gridwidth\":2},\"yaxis\":{\"backgroundcolor\":\"#E5ECF6\",\"gridcolor\":\"white\",\"linecolor\":\"white\",\"showbackground\":true,\"ticks\":\"\",\"zerolinecolor\":\"white\",\"gridwidth\":2},\"zaxis\":{\"backgroundcolor\":\"#E5ECF6\",\"gridcolor\":\"white\",\"linecolor\":\"white\",\"showbackground\":true,\"ticks\":\"\",\"zerolinecolor\":\"white\",\"gridwidth\":2}},\"shapedefaults\":{\"line\":{\"color\":\"#2a3f5f\"}},\"annotationdefaults\":{\"arrowcolor\":\"#2a3f5f\",\"arrowhead\":0,\"arrowwidth\":1},\"geo\":{\"bgcolor\":\"white\",\"landcolor\":\"#E5ECF6\",\"subunitcolor\":\"white\",\"showland\":true,\"showlakes\":true,\"lakecolor\":\"white\"},\"title\":{\"x\":0.05},\"mapbox\":{\"style\":\"light\"}}},\"xaxis\":{\"anchor\":\"y\",\"domain\":[0.0,1.0],\"title\":{\"text\":\"Race\"},\"categoryorder\":\"array\",\"categoryarray\":[\"W\",\"B\",\"H\",\"O\",\"A\",\"N\"]},\"yaxis\":{\"anchor\":\"x\",\"domain\":[0.0,1.0],\"title\":{\"text\":\"Deaths\"}},\"legend\":{\"title\":{\"text\":\"Race\"},\"tracegroupgap\":0},\"title\":{\"text\":\"Race of People Killed\"},\"barmode\":\"relative\"},                        {\"responsive\": true}                    ).then(function(){\n",
              "                            \n",
              "var gd = document.getElementById('a283b1be-4f45-4f13-b157-22b010910d08');\n",
              "var x = new MutationObserver(function (mutations, observer) {{\n",
              "        var display = window.getComputedStyle(gd).display;\n",
              "        if (!display || display === 'none') {{\n",
              "            console.log([gd, 'removed!']);\n",
              "            Plotly.purge(gd);\n",
              "            observer.disconnect();\n",
              "        }}\n",
              "}});\n",
              "\n",
              "// Listen for the removal of the full notebook cells\n",
              "var notebookContainer = gd.closest('#notebook-container');\n",
              "if (notebookContainer) {{\n",
              "    x.observe(notebookContainer, {childList: true});\n",
              "}}\n",
              "\n",
              "// Listen for the clearing of the current output cell\n",
              "var outputEl = gd.closest('.output');\n",
              "if (outputEl) {{\n",
              "    x.observe(outputEl, {childList: true});\n",
              "}}\n",
              "\n",
              "                        })                };            </script>        </div>\n",
              "</body>\n",
              "</html>"
            ]
          },
          "metadata": {}
        }
      ]
    },
    {
      "cell_type": "markdown",
      "source": [
        "Interpretation\n",
        "\n",
        "Absolute numbers:\n",
        "Most people killed are White, followed by Black and Hispanic individuals.\n",
        "\n",
        "Proportional context:\n",
        "Since White people make up the majority of the U.S. population, their absolute numbers are expected to be higher.\n",
        "However, Black and Native American deaths are disproportionately high relative to their share of the U.S. population.\n",
        "\n",
        "Black people (~13% of the U.S. population) represent over 20% of deaths here.\n",
        "\n",
        "Native Americans (~1% of the population) also appear overrepresented given 31 deaths.\n",
        "\n",
        "Key Takeaway\n",
        "\n",
        "While White individuals make up the largest number of deaths in raw counts, the data suggests a disproportionate impact on minority groups, particularly Black and Native American people, when adjusted for population size."
      ],
      "metadata": {
        "id": "HC8tG5amoVok"
      }
    },
    {
      "cell_type": "markdown",
      "metadata": {
        "id": "SJaNm4rC5nWm"
      },
      "source": [
        "# Mental Illness and Police Killings\n",
        "\n",
        "What percentage of people killed by police have been diagnosed with a mental illness?"
      ]
    },
    {
      "cell_type": "code",
      "metadata": {
        "id": "dbuGvCnN5ytC",
        "colab": {
          "base_uri": "https://localhost:8080/",
          "height": 542
        },
        "outputId": "3c71a3a0-6d5b-4549-a3bb-c021dd76ceff"
      },
      "source": [
        "mental_illness_counts = df_fatalities[\"signs_of_mental_illness\"].value_counts().reset_index()\n",
        "mental_illness_counts.columns = [\"Mental Illness\", \"Deaths\"]\n",
        "\n",
        "# Bar chart\n",
        "fig = px.bar(\n",
        "    mental_illness_counts,\n",
        "    x=\"Mental Illness\",\n",
        "    y=\"Deaths\",\n",
        "    text=\"Deaths\",\n",
        "    color=\"Mental Illness\",\n",
        "    title=\"Mental Illness and Police Killings\"\n",
        ")\n",
        "\n",
        "fig.update_traces(textposition=\"outside\")\n",
        "fig.show()"
      ],
      "execution_count": 23,
      "outputs": [
        {
          "output_type": "display_data",
          "data": {
            "text/html": [
              "<html>\n",
              "<head><meta charset=\"utf-8\" /></head>\n",
              "<body>\n",
              "    <div>            <script src=\"https://cdnjs.cloudflare.com/ajax/libs/mathjax/2.7.5/MathJax.js?config=TeX-AMS-MML_SVG\"></script><script type=\"text/javascript\">if (window.MathJax && window.MathJax.Hub && window.MathJax.Hub.Config) {window.MathJax.Hub.Config({SVG: {font: \"STIX-Web\"}});}</script>                <script type=\"text/javascript\">window.PlotlyConfig = {MathJaxConfig: 'local'};</script>\n",
              "        <script charset=\"utf-8\" src=\"https://cdn.plot.ly/plotly-3.1.0.min.js\" integrity=\"sha256-Ei4740bWZhaUTQuD6q9yQlgVCMPBz6CZWhevDYPv93A=\" crossorigin=\"anonymous\"></script>                <div id=\"980c2296-fd36-4c4e-ab47-297671ce1435\" class=\"plotly-graph-div\" style=\"height:525px; width:100%;\"></div>            <script type=\"text/javascript\">                window.PLOTLYENV=window.PLOTLYENV || {};                                if (document.getElementById(\"980c2296-fd36-4c4e-ab47-297671ce1435\")) {                    Plotly.newPlot(                        \"980c2296-fd36-4c4e-ab47-297671ce1435\",                        [{\"hovertemplate\":\"Mental Illness=%{x}\\u003cbr\\u003eDeaths=%{text}\\u003cextra\\u003e\\u003c\\u002fextra\\u003e\",\"legendgroup\":\"False\",\"marker\":{\"color\":\"#636efa\",\"pattern\":{\"shape\":\"\"}},\"name\":\"False\",\"orientation\":\"v\",\"showlegend\":true,\"text\":{\"dtype\":\"f8\",\"bdata\":\"AAAAAAC4nUA=\"},\"textposition\":\"outside\",\"x\":[false],\"xaxis\":\"x\",\"y\":{\"dtype\":\"i2\",\"bdata\":\"bgc=\"},\"yaxis\":\"y\",\"type\":\"bar\"},{\"hovertemplate\":\"Mental Illness=%{x}\\u003cbr\\u003eDeaths=%{text}\\u003cextra\\u003e\\u003c\\u002fextra\\u003e\",\"legendgroup\":\"True\",\"marker\":{\"color\":\"#EF553B\",\"pattern\":{\"shape\":\"\"}},\"name\":\"True\",\"orientation\":\"v\",\"showlegend\":true,\"text\":{\"dtype\":\"f8\",\"bdata\":\"AAAAAADIg0A=\"},\"textposition\":\"outside\",\"x\":[true],\"xaxis\":\"x\",\"y\":{\"dtype\":\"i2\",\"bdata\":\"eQI=\"},\"yaxis\":\"y\",\"type\":\"bar\"}],                        {\"template\":{\"data\":{\"histogram2dcontour\":[{\"type\":\"histogram2dcontour\",\"colorbar\":{\"outlinewidth\":0,\"ticks\":\"\"},\"colorscale\":[[0.0,\"#0d0887\"],[0.1111111111111111,\"#46039f\"],[0.2222222222222222,\"#7201a8\"],[0.3333333333333333,\"#9c179e\"],[0.4444444444444444,\"#bd3786\"],[0.5555555555555556,\"#d8576b\"],[0.6666666666666666,\"#ed7953\"],[0.7777777777777778,\"#fb9f3a\"],[0.8888888888888888,\"#fdca26\"],[1.0,\"#f0f921\"]]}],\"choropleth\":[{\"type\":\"choropleth\",\"colorbar\":{\"outlinewidth\":0,\"ticks\":\"\"}}],\"histogram2d\":[{\"type\":\"histogram2d\",\"colorbar\":{\"outlinewidth\":0,\"ticks\":\"\"},\"colorscale\":[[0.0,\"#0d0887\"],[0.1111111111111111,\"#46039f\"],[0.2222222222222222,\"#7201a8\"],[0.3333333333333333,\"#9c179e\"],[0.4444444444444444,\"#bd3786\"],[0.5555555555555556,\"#d8576b\"],[0.6666666666666666,\"#ed7953\"],[0.7777777777777778,\"#fb9f3a\"],[0.8888888888888888,\"#fdca26\"],[1.0,\"#f0f921\"]]}],\"heatmap\":[{\"type\":\"heatmap\",\"colorbar\":{\"outlinewidth\":0,\"ticks\":\"\"},\"colorscale\":[[0.0,\"#0d0887\"],[0.1111111111111111,\"#46039f\"],[0.2222222222222222,\"#7201a8\"],[0.3333333333333333,\"#9c179e\"],[0.4444444444444444,\"#bd3786\"],[0.5555555555555556,\"#d8576b\"],[0.6666666666666666,\"#ed7953\"],[0.7777777777777778,\"#fb9f3a\"],[0.8888888888888888,\"#fdca26\"],[1.0,\"#f0f921\"]]}],\"contourcarpet\":[{\"type\":\"contourcarpet\",\"colorbar\":{\"outlinewidth\":0,\"ticks\":\"\"}}],\"contour\":[{\"type\":\"contour\",\"colorbar\":{\"outlinewidth\":0,\"ticks\":\"\"},\"colorscale\":[[0.0,\"#0d0887\"],[0.1111111111111111,\"#46039f\"],[0.2222222222222222,\"#7201a8\"],[0.3333333333333333,\"#9c179e\"],[0.4444444444444444,\"#bd3786\"],[0.5555555555555556,\"#d8576b\"],[0.6666666666666666,\"#ed7953\"],[0.7777777777777778,\"#fb9f3a\"],[0.8888888888888888,\"#fdca26\"],[1.0,\"#f0f921\"]]}],\"surface\":[{\"type\":\"surface\",\"colorbar\":{\"outlinewidth\":0,\"ticks\":\"\"},\"colorscale\":[[0.0,\"#0d0887\"],[0.1111111111111111,\"#46039f\"],[0.2222222222222222,\"#7201a8\"],[0.3333333333333333,\"#9c179e\"],[0.4444444444444444,\"#bd3786\"],[0.5555555555555556,\"#d8576b\"],[0.6666666666666666,\"#ed7953\"],[0.7777777777777778,\"#fb9f3a\"],[0.8888888888888888,\"#fdca26\"],[1.0,\"#f0f921\"]]}],\"mesh3d\":[{\"type\":\"mesh3d\",\"colorbar\":{\"outlinewidth\":0,\"ticks\":\"\"}}],\"scatter\":[{\"fillpattern\":{\"fillmode\":\"overlay\",\"size\":10,\"solidity\":0.2},\"type\":\"scatter\"}],\"parcoords\":[{\"type\":\"parcoords\",\"line\":{\"colorbar\":{\"outlinewidth\":0,\"ticks\":\"\"}}}],\"scatterpolargl\":[{\"type\":\"scatterpolargl\",\"marker\":{\"colorbar\":{\"outlinewidth\":0,\"ticks\":\"\"}}}],\"bar\":[{\"error_x\":{\"color\":\"#2a3f5f\"},\"error_y\":{\"color\":\"#2a3f5f\"},\"marker\":{\"line\":{\"color\":\"#E5ECF6\",\"width\":0.5},\"pattern\":{\"fillmode\":\"overlay\",\"size\":10,\"solidity\":0.2}},\"type\":\"bar\"}],\"scattergeo\":[{\"type\":\"scattergeo\",\"marker\":{\"colorbar\":{\"outlinewidth\":0,\"ticks\":\"\"}}}],\"scatterpolar\":[{\"type\":\"scatterpolar\",\"marker\":{\"colorbar\":{\"outlinewidth\":0,\"ticks\":\"\"}}}],\"histogram\":[{\"marker\":{\"pattern\":{\"fillmode\":\"overlay\",\"size\":10,\"solidity\":0.2}},\"type\":\"histogram\"}],\"scattergl\":[{\"type\":\"scattergl\",\"marker\":{\"colorbar\":{\"outlinewidth\":0,\"ticks\":\"\"}}}],\"scatter3d\":[{\"type\":\"scatter3d\",\"line\":{\"colorbar\":{\"outlinewidth\":0,\"ticks\":\"\"}},\"marker\":{\"colorbar\":{\"outlinewidth\":0,\"ticks\":\"\"}}}],\"scattermap\":[{\"type\":\"scattermap\",\"marker\":{\"colorbar\":{\"outlinewidth\":0,\"ticks\":\"\"}}}],\"scattermapbox\":[{\"type\":\"scattermapbox\",\"marker\":{\"colorbar\":{\"outlinewidth\":0,\"ticks\":\"\"}}}],\"scatterternary\":[{\"type\":\"scatterternary\",\"marker\":{\"colorbar\":{\"outlinewidth\":0,\"ticks\":\"\"}}}],\"scattercarpet\":[{\"type\":\"scattercarpet\",\"marker\":{\"colorbar\":{\"outlinewidth\":0,\"ticks\":\"\"}}}],\"carpet\":[{\"aaxis\":{\"endlinecolor\":\"#2a3f5f\",\"gridcolor\":\"white\",\"linecolor\":\"white\",\"minorgridcolor\":\"white\",\"startlinecolor\":\"#2a3f5f\"},\"baxis\":{\"endlinecolor\":\"#2a3f5f\",\"gridcolor\":\"white\",\"linecolor\":\"white\",\"minorgridcolor\":\"white\",\"startlinecolor\":\"#2a3f5f\"},\"type\":\"carpet\"}],\"table\":[{\"cells\":{\"fill\":{\"color\":\"#EBF0F8\"},\"line\":{\"color\":\"white\"}},\"header\":{\"fill\":{\"color\":\"#C8D4E3\"},\"line\":{\"color\":\"white\"}},\"type\":\"table\"}],\"barpolar\":[{\"marker\":{\"line\":{\"color\":\"#E5ECF6\",\"width\":0.5},\"pattern\":{\"fillmode\":\"overlay\",\"size\":10,\"solidity\":0.2}},\"type\":\"barpolar\"}],\"pie\":[{\"automargin\":true,\"type\":\"pie\"}]},\"layout\":{\"autotypenumbers\":\"strict\",\"colorway\":[\"#636efa\",\"#EF553B\",\"#00cc96\",\"#ab63fa\",\"#FFA15A\",\"#19d3f3\",\"#FF6692\",\"#B6E880\",\"#FF97FF\",\"#FECB52\"],\"font\":{\"color\":\"#2a3f5f\"},\"hovermode\":\"closest\",\"hoverlabel\":{\"align\":\"left\"},\"paper_bgcolor\":\"white\",\"plot_bgcolor\":\"#E5ECF6\",\"polar\":{\"bgcolor\":\"#E5ECF6\",\"angularaxis\":{\"gridcolor\":\"white\",\"linecolor\":\"white\",\"ticks\":\"\"},\"radialaxis\":{\"gridcolor\":\"white\",\"linecolor\":\"white\",\"ticks\":\"\"}},\"ternary\":{\"bgcolor\":\"#E5ECF6\",\"aaxis\":{\"gridcolor\":\"white\",\"linecolor\":\"white\",\"ticks\":\"\"},\"baxis\":{\"gridcolor\":\"white\",\"linecolor\":\"white\",\"ticks\":\"\"},\"caxis\":{\"gridcolor\":\"white\",\"linecolor\":\"white\",\"ticks\":\"\"}},\"coloraxis\":{\"colorbar\":{\"outlinewidth\":0,\"ticks\":\"\"}},\"colorscale\":{\"sequential\":[[0.0,\"#0d0887\"],[0.1111111111111111,\"#46039f\"],[0.2222222222222222,\"#7201a8\"],[0.3333333333333333,\"#9c179e\"],[0.4444444444444444,\"#bd3786\"],[0.5555555555555556,\"#d8576b\"],[0.6666666666666666,\"#ed7953\"],[0.7777777777777778,\"#fb9f3a\"],[0.8888888888888888,\"#fdca26\"],[1.0,\"#f0f921\"]],\"sequentialminus\":[[0.0,\"#0d0887\"],[0.1111111111111111,\"#46039f\"],[0.2222222222222222,\"#7201a8\"],[0.3333333333333333,\"#9c179e\"],[0.4444444444444444,\"#bd3786\"],[0.5555555555555556,\"#d8576b\"],[0.6666666666666666,\"#ed7953\"],[0.7777777777777778,\"#fb9f3a\"],[0.8888888888888888,\"#fdca26\"],[1.0,\"#f0f921\"]],\"diverging\":[[0,\"#8e0152\"],[0.1,\"#c51b7d\"],[0.2,\"#de77ae\"],[0.3,\"#f1b6da\"],[0.4,\"#fde0ef\"],[0.5,\"#f7f7f7\"],[0.6,\"#e6f5d0\"],[0.7,\"#b8e186\"],[0.8,\"#7fbc41\"],[0.9,\"#4d9221\"],[1,\"#276419\"]]},\"xaxis\":{\"gridcolor\":\"white\",\"linecolor\":\"white\",\"ticks\":\"\",\"title\":{\"standoff\":15},\"zerolinecolor\":\"white\",\"automargin\":true,\"zerolinewidth\":2},\"yaxis\":{\"gridcolor\":\"white\",\"linecolor\":\"white\",\"ticks\":\"\",\"title\":{\"standoff\":15},\"zerolinecolor\":\"white\",\"automargin\":true,\"zerolinewidth\":2},\"scene\":{\"xaxis\":{\"backgroundcolor\":\"#E5ECF6\",\"gridcolor\":\"white\",\"linecolor\":\"white\",\"showbackground\":true,\"ticks\":\"\",\"zerolinecolor\":\"white\",\"gridwidth\":2},\"yaxis\":{\"backgroundcolor\":\"#E5ECF6\",\"gridcolor\":\"white\",\"linecolor\":\"white\",\"showbackground\":true,\"ticks\":\"\",\"zerolinecolor\":\"white\",\"gridwidth\":2},\"zaxis\":{\"backgroundcolor\":\"#E5ECF6\",\"gridcolor\":\"white\",\"linecolor\":\"white\",\"showbackground\":true,\"ticks\":\"\",\"zerolinecolor\":\"white\",\"gridwidth\":2}},\"shapedefaults\":{\"line\":{\"color\":\"#2a3f5f\"}},\"annotationdefaults\":{\"arrowcolor\":\"#2a3f5f\",\"arrowhead\":0,\"arrowwidth\":1},\"geo\":{\"bgcolor\":\"white\",\"landcolor\":\"#E5ECF6\",\"subunitcolor\":\"white\",\"showland\":true,\"showlakes\":true,\"lakecolor\":\"white\"},\"title\":{\"x\":0.05},\"mapbox\":{\"style\":\"light\"}}},\"xaxis\":{\"anchor\":\"y\",\"domain\":[0.0,1.0],\"title\":{\"text\":\"Mental Illness\"},\"categoryorder\":\"array\",\"categoryarray\":[false,true]},\"yaxis\":{\"anchor\":\"x\",\"domain\":[0.0,1.0],\"title\":{\"text\":\"Deaths\"}},\"legend\":{\"title\":{\"text\":\"Mental Illness\"},\"tracegroupgap\":0},\"title\":{\"text\":\"Mental Illness and Police Killings\"},\"barmode\":\"relative\"},                        {\"responsive\": true}                    ).then(function(){\n",
              "                            \n",
              "var gd = document.getElementById('980c2296-fd36-4c4e-ab47-297671ce1435');\n",
              "var x = new MutationObserver(function (mutations, observer) {{\n",
              "        var display = window.getComputedStyle(gd).display;\n",
              "        if (!display || display === 'none') {{\n",
              "            console.log([gd, 'removed!']);\n",
              "            Plotly.purge(gd);\n",
              "            observer.disconnect();\n",
              "        }}\n",
              "}});\n",
              "\n",
              "// Listen for the removal of the full notebook cells\n",
              "var notebookContainer = gd.closest('#notebook-container');\n",
              "if (notebookContainer) {{\n",
              "    x.observe(notebookContainer, {childList: true});\n",
              "}}\n",
              "\n",
              "// Listen for the clearing of the current output cell\n",
              "var outputEl = gd.closest('.output');\n",
              "if (outputEl) {{\n",
              "    x.observe(outputEl, {childList: true});\n",
              "}}\n",
              "\n",
              "                        })                };            </script>        </div>\n",
              "</body>\n",
              "</html>"
            ]
          },
          "metadata": {}
        }
      ]
    },
    {
      "cell_type": "markdown",
      "source": [
        "Most victims (about 75%) were not reported to have a mental illness. It suggests that the majority of cases involve people without a diagnosed or noted mental health condition.\n",
        "\n",
        "A significant minority (about 25%) did have mental illness. This is notable because the prevalence of serious mental illness in the general U.S. adult population is much lower (roughly 5–6%). That means people with mental illness appear to be overrepresented among those killed by police compared to their share of the population.\n",
        "\n",
        "While most people killed by police did not have mental illness, the data suggests that individuals with mental illness are disproportionately affected.\n",
        "\n",
        "This could point to gaps in crisis intervention, de-escalation practices, or access to mental health services."
      ],
      "metadata": {
        "id": "1tJ2_lc6pDJt"
      }
    },
    {
      "cell_type": "markdown",
      "metadata": {
        "id": "R0WSPeKD5Cir"
      },
      "source": [
        "# In Which Cities Do the Most Police Killings Take Place?\n",
        "\n",
        "Create a chart ranking the top 10 cities with the most police killings. Which cities are the most dangerous?  "
      ]
    },
    {
      "cell_type": "code",
      "metadata": {
        "id": "NYVwo3qy5UV3",
        "colab": {
          "base_uri": "https://localhost:8080/",
          "height": 580
        },
        "outputId": "a994ebc7-9ba6-4c25-8d74-5d89a1c6dfc0"
      },
      "source": [
        "df_fatalities"
      ],
      "execution_count": 24,
      "outputs": [
        {
          "output_type": "execute_result",
          "data": {
            "text/plain": [
              "        id                name      date   manner_of_death       armed   age  \\\n",
              "0        3          Tim Elliot  02/01/15              shot         gun 53.00   \n",
              "1        4    Lewis Lee Lembke  02/01/15              shot         gun 47.00   \n",
              "2        5  John Paul Quintero  03/01/15  shot and Tasered     unarmed 23.00   \n",
              "3        8     Matthew Hoffman  04/01/15              shot  toy weapon 32.00   \n",
              "4        9   Michael Rodriguez  04/01/15              shot    nail gun 39.00   \n",
              "...    ...                 ...       ...               ...         ...   ...   \n",
              "2530  2822    Rodney E. Jacobs  28/07/17              shot         gun 31.00   \n",
              "2531  2813               TK TK  28/07/17              shot     vehicle  0.00   \n",
              "2532  2818  Dennis W. Robinson  29/07/17              shot         gun 48.00   \n",
              "2533  2817       Isaiah Tucker  31/07/17              shot     vehicle 28.00   \n",
              "2534  2815        Dwayne Jeune  31/07/17              shot       knife 32.00   \n",
              "\n",
              "     gender race           city state  signs_of_mental_illness threat_level  \\\n",
              "0         M    A        Shelton    WA                     True       attack   \n",
              "1         M    W          Aloha    OR                    False       attack   \n",
              "2         M    H        Wichita    KS                    False        other   \n",
              "3         M    W  San Francisco    CA                     True       attack   \n",
              "4         M    H          Evans    CO                    False       attack   \n",
              "...     ...  ...            ...   ...                      ...          ...   \n",
              "2530      M    O    Kansas City    MO                    False       attack   \n",
              "2531      M    O    Albuquerque    NM                    False       attack   \n",
              "2532      M    O          Melba    ID                    False       attack   \n",
              "2533      M    B        Oshkosh    WI                    False       attack   \n",
              "2534      M    B       Brooklyn    NY                     True       attack   \n",
              "\n",
              "             flee  body_camera armed_or_unarmed age_category  \n",
              "0     Not fleeing        False            armed  25 or older  \n",
              "1     Not fleeing        False            armed  25 or older  \n",
              "2     Not fleeing        False          unarmed     under 25  \n",
              "3     Not fleeing        False            armed  25 or older  \n",
              "4     Not fleeing        False            armed  25 or older  \n",
              "...           ...          ...              ...          ...  \n",
              "2530  Not fleeing        False            armed  25 or older  \n",
              "2531          Car        False            armed     under 25  \n",
              "2532          Car        False            armed  25 or older  \n",
              "2533          Car         True            armed  25 or older  \n",
              "2534  Not fleeing        False            armed  25 or older  \n",
              "\n",
              "[2535 rows x 16 columns]"
            ],
            "text/html": [
              "\n",
              "  <div id=\"df-b2282e15-ec41-4257-9398-346bbfe71360\" class=\"colab-df-container\">\n",
              "    <div>\n",
              "<style scoped>\n",
              "    .dataframe tbody tr th:only-of-type {\n",
              "        vertical-align: middle;\n",
              "    }\n",
              "\n",
              "    .dataframe tbody tr th {\n",
              "        vertical-align: top;\n",
              "    }\n",
              "\n",
              "    .dataframe thead th {\n",
              "        text-align: right;\n",
              "    }\n",
              "</style>\n",
              "<table border=\"1\" class=\"dataframe\">\n",
              "  <thead>\n",
              "    <tr style=\"text-align: right;\">\n",
              "      <th></th>\n",
              "      <th>id</th>\n",
              "      <th>name</th>\n",
              "      <th>date</th>\n",
              "      <th>manner_of_death</th>\n",
              "      <th>armed</th>\n",
              "      <th>age</th>\n",
              "      <th>gender</th>\n",
              "      <th>race</th>\n",
              "      <th>city</th>\n",
              "      <th>state</th>\n",
              "      <th>signs_of_mental_illness</th>\n",
              "      <th>threat_level</th>\n",
              "      <th>flee</th>\n",
              "      <th>body_camera</th>\n",
              "      <th>armed_or_unarmed</th>\n",
              "      <th>age_category</th>\n",
              "    </tr>\n",
              "  </thead>\n",
              "  <tbody>\n",
              "    <tr>\n",
              "      <th>0</th>\n",
              "      <td>3</td>\n",
              "      <td>Tim Elliot</td>\n",
              "      <td>02/01/15</td>\n",
              "      <td>shot</td>\n",
              "      <td>gun</td>\n",
              "      <td>53.00</td>\n",
              "      <td>M</td>\n",
              "      <td>A</td>\n",
              "      <td>Shelton</td>\n",
              "      <td>WA</td>\n",
              "      <td>True</td>\n",
              "      <td>attack</td>\n",
              "      <td>Not fleeing</td>\n",
              "      <td>False</td>\n",
              "      <td>armed</td>\n",
              "      <td>25 or older</td>\n",
              "    </tr>\n",
              "    <tr>\n",
              "      <th>1</th>\n",
              "      <td>4</td>\n",
              "      <td>Lewis Lee Lembke</td>\n",
              "      <td>02/01/15</td>\n",
              "      <td>shot</td>\n",
              "      <td>gun</td>\n",
              "      <td>47.00</td>\n",
              "      <td>M</td>\n",
              "      <td>W</td>\n",
              "      <td>Aloha</td>\n",
              "      <td>OR</td>\n",
              "      <td>False</td>\n",
              "      <td>attack</td>\n",
              "      <td>Not fleeing</td>\n",
              "      <td>False</td>\n",
              "      <td>armed</td>\n",
              "      <td>25 or older</td>\n",
              "    </tr>\n",
              "    <tr>\n",
              "      <th>2</th>\n",
              "      <td>5</td>\n",
              "      <td>John Paul Quintero</td>\n",
              "      <td>03/01/15</td>\n",
              "      <td>shot and Tasered</td>\n",
              "      <td>unarmed</td>\n",
              "      <td>23.00</td>\n",
              "      <td>M</td>\n",
              "      <td>H</td>\n",
              "      <td>Wichita</td>\n",
              "      <td>KS</td>\n",
              "      <td>False</td>\n",
              "      <td>other</td>\n",
              "      <td>Not fleeing</td>\n",
              "      <td>False</td>\n",
              "      <td>unarmed</td>\n",
              "      <td>under 25</td>\n",
              "    </tr>\n",
              "    <tr>\n",
              "      <th>3</th>\n",
              "      <td>8</td>\n",
              "      <td>Matthew Hoffman</td>\n",
              "      <td>04/01/15</td>\n",
              "      <td>shot</td>\n",
              "      <td>toy weapon</td>\n",
              "      <td>32.00</td>\n",
              "      <td>M</td>\n",
              "      <td>W</td>\n",
              "      <td>San Francisco</td>\n",
              "      <td>CA</td>\n",
              "      <td>True</td>\n",
              "      <td>attack</td>\n",
              "      <td>Not fleeing</td>\n",
              "      <td>False</td>\n",
              "      <td>armed</td>\n",
              "      <td>25 or older</td>\n",
              "    </tr>\n",
              "    <tr>\n",
              "      <th>4</th>\n",
              "      <td>9</td>\n",
              "      <td>Michael Rodriguez</td>\n",
              "      <td>04/01/15</td>\n",
              "      <td>shot</td>\n",
              "      <td>nail gun</td>\n",
              "      <td>39.00</td>\n",
              "      <td>M</td>\n",
              "      <td>H</td>\n",
              "      <td>Evans</td>\n",
              "      <td>CO</td>\n",
              "      <td>False</td>\n",
              "      <td>attack</td>\n",
              "      <td>Not fleeing</td>\n",
              "      <td>False</td>\n",
              "      <td>armed</td>\n",
              "      <td>25 or older</td>\n",
              "    </tr>\n",
              "    <tr>\n",
              "      <th>...</th>\n",
              "      <td>...</td>\n",
              "      <td>...</td>\n",
              "      <td>...</td>\n",
              "      <td>...</td>\n",
              "      <td>...</td>\n",
              "      <td>...</td>\n",
              "      <td>...</td>\n",
              "      <td>...</td>\n",
              "      <td>...</td>\n",
              "      <td>...</td>\n",
              "      <td>...</td>\n",
              "      <td>...</td>\n",
              "      <td>...</td>\n",
              "      <td>...</td>\n",
              "      <td>...</td>\n",
              "      <td>...</td>\n",
              "    </tr>\n",
              "    <tr>\n",
              "      <th>2530</th>\n",
              "      <td>2822</td>\n",
              "      <td>Rodney E. Jacobs</td>\n",
              "      <td>28/07/17</td>\n",
              "      <td>shot</td>\n",
              "      <td>gun</td>\n",
              "      <td>31.00</td>\n",
              "      <td>M</td>\n",
              "      <td>O</td>\n",
              "      <td>Kansas City</td>\n",
              "      <td>MO</td>\n",
              "      <td>False</td>\n",
              "      <td>attack</td>\n",
              "      <td>Not fleeing</td>\n",
              "      <td>False</td>\n",
              "      <td>armed</td>\n",
              "      <td>25 or older</td>\n",
              "    </tr>\n",
              "    <tr>\n",
              "      <th>2531</th>\n",
              "      <td>2813</td>\n",
              "      <td>TK TK</td>\n",
              "      <td>28/07/17</td>\n",
              "      <td>shot</td>\n",
              "      <td>vehicle</td>\n",
              "      <td>0.00</td>\n",
              "      <td>M</td>\n",
              "      <td>O</td>\n",
              "      <td>Albuquerque</td>\n",
              "      <td>NM</td>\n",
              "      <td>False</td>\n",
              "      <td>attack</td>\n",
              "      <td>Car</td>\n",
              "      <td>False</td>\n",
              "      <td>armed</td>\n",
              "      <td>under 25</td>\n",
              "    </tr>\n",
              "    <tr>\n",
              "      <th>2532</th>\n",
              "      <td>2818</td>\n",
              "      <td>Dennis W. Robinson</td>\n",
              "      <td>29/07/17</td>\n",
              "      <td>shot</td>\n",
              "      <td>gun</td>\n",
              "      <td>48.00</td>\n",
              "      <td>M</td>\n",
              "      <td>O</td>\n",
              "      <td>Melba</td>\n",
              "      <td>ID</td>\n",
              "      <td>False</td>\n",
              "      <td>attack</td>\n",
              "      <td>Car</td>\n",
              "      <td>False</td>\n",
              "      <td>armed</td>\n",
              "      <td>25 or older</td>\n",
              "    </tr>\n",
              "    <tr>\n",
              "      <th>2533</th>\n",
              "      <td>2817</td>\n",
              "      <td>Isaiah Tucker</td>\n",
              "      <td>31/07/17</td>\n",
              "      <td>shot</td>\n",
              "      <td>vehicle</td>\n",
              "      <td>28.00</td>\n",
              "      <td>M</td>\n",
              "      <td>B</td>\n",
              "      <td>Oshkosh</td>\n",
              "      <td>WI</td>\n",
              "      <td>False</td>\n",
              "      <td>attack</td>\n",
              "      <td>Car</td>\n",
              "      <td>True</td>\n",
              "      <td>armed</td>\n",
              "      <td>25 or older</td>\n",
              "    </tr>\n",
              "    <tr>\n",
              "      <th>2534</th>\n",
              "      <td>2815</td>\n",
              "      <td>Dwayne Jeune</td>\n",
              "      <td>31/07/17</td>\n",
              "      <td>shot</td>\n",
              "      <td>knife</td>\n",
              "      <td>32.00</td>\n",
              "      <td>M</td>\n",
              "      <td>B</td>\n",
              "      <td>Brooklyn</td>\n",
              "      <td>NY</td>\n",
              "      <td>True</td>\n",
              "      <td>attack</td>\n",
              "      <td>Not fleeing</td>\n",
              "      <td>False</td>\n",
              "      <td>armed</td>\n",
              "      <td>25 or older</td>\n",
              "    </tr>\n",
              "  </tbody>\n",
              "</table>\n",
              "<p>2535 rows × 16 columns</p>\n",
              "</div>\n",
              "    <div class=\"colab-df-buttons\">\n",
              "\n",
              "  <div class=\"colab-df-container\">\n",
              "    <button class=\"colab-df-convert\" onclick=\"convertToInteractive('df-b2282e15-ec41-4257-9398-346bbfe71360')\"\n",
              "            title=\"Convert this dataframe to an interactive table.\"\n",
              "            style=\"display:none;\">\n",
              "\n",
              "  <svg xmlns=\"http://www.w3.org/2000/svg\" height=\"24px\" viewBox=\"0 -960 960 960\">\n",
              "    <path d=\"M120-120v-720h720v720H120Zm60-500h600v-160H180v160Zm220 220h160v-160H400v160Zm0 220h160v-160H400v160ZM180-400h160v-160H180v160Zm440 0h160v-160H620v160ZM180-180h160v-160H180v160Zm440 0h160v-160H620v160Z\"/>\n",
              "  </svg>\n",
              "    </button>\n",
              "\n",
              "  <style>\n",
              "    .colab-df-container {\n",
              "      display:flex;\n",
              "      gap: 12px;\n",
              "    }\n",
              "\n",
              "    .colab-df-convert {\n",
              "      background-color: #E8F0FE;\n",
              "      border: none;\n",
              "      border-radius: 50%;\n",
              "      cursor: pointer;\n",
              "      display: none;\n",
              "      fill: #1967D2;\n",
              "      height: 32px;\n",
              "      padding: 0 0 0 0;\n",
              "      width: 32px;\n",
              "    }\n",
              "\n",
              "    .colab-df-convert:hover {\n",
              "      background-color: #E2EBFA;\n",
              "      box-shadow: 0px 1px 2px rgba(60, 64, 67, 0.3), 0px 1px 3px 1px rgba(60, 64, 67, 0.15);\n",
              "      fill: #174EA6;\n",
              "    }\n",
              "\n",
              "    .colab-df-buttons div {\n",
              "      margin-bottom: 4px;\n",
              "    }\n",
              "\n",
              "    [theme=dark] .colab-df-convert {\n",
              "      background-color: #3B4455;\n",
              "      fill: #D2E3FC;\n",
              "    }\n",
              "\n",
              "    [theme=dark] .colab-df-convert:hover {\n",
              "      background-color: #434B5C;\n",
              "      box-shadow: 0px 1px 3px 1px rgba(0, 0, 0, 0.15);\n",
              "      filter: drop-shadow(0px 1px 2px rgba(0, 0, 0, 0.3));\n",
              "      fill: #FFFFFF;\n",
              "    }\n",
              "  </style>\n",
              "\n",
              "    <script>\n",
              "      const buttonEl =\n",
              "        document.querySelector('#df-b2282e15-ec41-4257-9398-346bbfe71360 button.colab-df-convert');\n",
              "      buttonEl.style.display =\n",
              "        google.colab.kernel.accessAllowed ? 'block' : 'none';\n",
              "\n",
              "      async function convertToInteractive(key) {\n",
              "        const element = document.querySelector('#df-b2282e15-ec41-4257-9398-346bbfe71360');\n",
              "        const dataTable =\n",
              "          await google.colab.kernel.invokeFunction('convertToInteractive',\n",
              "                                                    [key], {});\n",
              "        if (!dataTable) return;\n",
              "\n",
              "        const docLinkHtml = 'Like what you see? Visit the ' +\n",
              "          '<a target=\"_blank\" href=https://colab.research.google.com/notebooks/data_table.ipynb>data table notebook</a>'\n",
              "          + ' to learn more about interactive tables.';\n",
              "        element.innerHTML = '';\n",
              "        dataTable['output_type'] = 'display_data';\n",
              "        await google.colab.output.renderOutput(dataTable, element);\n",
              "        const docLink = document.createElement('div');\n",
              "        docLink.innerHTML = docLinkHtml;\n",
              "        element.appendChild(docLink);\n",
              "      }\n",
              "    </script>\n",
              "  </div>\n",
              "\n",
              "\n",
              "    <div id=\"df-a849b44a-47dc-42b3-ad04-6ffef0a7c078\">\n",
              "      <button class=\"colab-df-quickchart\" onclick=\"quickchart('df-a849b44a-47dc-42b3-ad04-6ffef0a7c078')\"\n",
              "                title=\"Suggest charts\"\n",
              "                style=\"display:none;\">\n",
              "\n",
              "<svg xmlns=\"http://www.w3.org/2000/svg\" height=\"24px\"viewBox=\"0 0 24 24\"\n",
              "     width=\"24px\">\n",
              "    <g>\n",
              "        <path d=\"M19 3H5c-1.1 0-2 .9-2 2v14c0 1.1.9 2 2 2h14c1.1 0 2-.9 2-2V5c0-1.1-.9-2-2-2zM9 17H7v-7h2v7zm4 0h-2V7h2v10zm4 0h-2v-4h2v4z\"/>\n",
              "    </g>\n",
              "</svg>\n",
              "      </button>\n",
              "\n",
              "<style>\n",
              "  .colab-df-quickchart {\n",
              "      --bg-color: #E8F0FE;\n",
              "      --fill-color: #1967D2;\n",
              "      --hover-bg-color: #E2EBFA;\n",
              "      --hover-fill-color: #174EA6;\n",
              "      --disabled-fill-color: #AAA;\n",
              "      --disabled-bg-color: #DDD;\n",
              "  }\n",
              "\n",
              "  [theme=dark] .colab-df-quickchart {\n",
              "      --bg-color: #3B4455;\n",
              "      --fill-color: #D2E3FC;\n",
              "      --hover-bg-color: #434B5C;\n",
              "      --hover-fill-color: #FFFFFF;\n",
              "      --disabled-bg-color: #3B4455;\n",
              "      --disabled-fill-color: #666;\n",
              "  }\n",
              "\n",
              "  .colab-df-quickchart {\n",
              "    background-color: var(--bg-color);\n",
              "    border: none;\n",
              "    border-radius: 50%;\n",
              "    cursor: pointer;\n",
              "    display: none;\n",
              "    fill: var(--fill-color);\n",
              "    height: 32px;\n",
              "    padding: 0;\n",
              "    width: 32px;\n",
              "  }\n",
              "\n",
              "  .colab-df-quickchart:hover {\n",
              "    background-color: var(--hover-bg-color);\n",
              "    box-shadow: 0 1px 2px rgba(60, 64, 67, 0.3), 0 1px 3px 1px rgba(60, 64, 67, 0.15);\n",
              "    fill: var(--button-hover-fill-color);\n",
              "  }\n",
              "\n",
              "  .colab-df-quickchart-complete:disabled,\n",
              "  .colab-df-quickchart-complete:disabled:hover {\n",
              "    background-color: var(--disabled-bg-color);\n",
              "    fill: var(--disabled-fill-color);\n",
              "    box-shadow: none;\n",
              "  }\n",
              "\n",
              "  .colab-df-spinner {\n",
              "    border: 2px solid var(--fill-color);\n",
              "    border-color: transparent;\n",
              "    border-bottom-color: var(--fill-color);\n",
              "    animation:\n",
              "      spin 1s steps(1) infinite;\n",
              "  }\n",
              "\n",
              "  @keyframes spin {\n",
              "    0% {\n",
              "      border-color: transparent;\n",
              "      border-bottom-color: var(--fill-color);\n",
              "      border-left-color: var(--fill-color);\n",
              "    }\n",
              "    20% {\n",
              "      border-color: transparent;\n",
              "      border-left-color: var(--fill-color);\n",
              "      border-top-color: var(--fill-color);\n",
              "    }\n",
              "    30% {\n",
              "      border-color: transparent;\n",
              "      border-left-color: var(--fill-color);\n",
              "      border-top-color: var(--fill-color);\n",
              "      border-right-color: var(--fill-color);\n",
              "    }\n",
              "    40% {\n",
              "      border-color: transparent;\n",
              "      border-right-color: var(--fill-color);\n",
              "      border-top-color: var(--fill-color);\n",
              "    }\n",
              "    60% {\n",
              "      border-color: transparent;\n",
              "      border-right-color: var(--fill-color);\n",
              "    }\n",
              "    80% {\n",
              "      border-color: transparent;\n",
              "      border-right-color: var(--fill-color);\n",
              "      border-bottom-color: var(--fill-color);\n",
              "    }\n",
              "    90% {\n",
              "      border-color: transparent;\n",
              "      border-bottom-color: var(--fill-color);\n",
              "    }\n",
              "  }\n",
              "</style>\n",
              "\n",
              "      <script>\n",
              "        async function quickchart(key) {\n",
              "          const quickchartButtonEl =\n",
              "            document.querySelector('#' + key + ' button');\n",
              "          quickchartButtonEl.disabled = true;  // To prevent multiple clicks.\n",
              "          quickchartButtonEl.classList.add('colab-df-spinner');\n",
              "          try {\n",
              "            const charts = await google.colab.kernel.invokeFunction(\n",
              "                'suggestCharts', [key], {});\n",
              "          } catch (error) {\n",
              "            console.error('Error during call to suggestCharts:', error);\n",
              "          }\n",
              "          quickchartButtonEl.classList.remove('colab-df-spinner');\n",
              "          quickchartButtonEl.classList.add('colab-df-quickchart-complete');\n",
              "        }\n",
              "        (() => {\n",
              "          let quickchartButtonEl =\n",
              "            document.querySelector('#df-a849b44a-47dc-42b3-ad04-6ffef0a7c078 button');\n",
              "          quickchartButtonEl.style.display =\n",
              "            google.colab.kernel.accessAllowed ? 'block' : 'none';\n",
              "        })();\n",
              "      </script>\n",
              "    </div>\n",
              "\n",
              "  <div id=\"id_71bf741c-d992-491a-a20c-2fe3f8b673d8\">\n",
              "    <style>\n",
              "      .colab-df-generate {\n",
              "        background-color: #E8F0FE;\n",
              "        border: none;\n",
              "        border-radius: 50%;\n",
              "        cursor: pointer;\n",
              "        display: none;\n",
              "        fill: #1967D2;\n",
              "        height: 32px;\n",
              "        padding: 0 0 0 0;\n",
              "        width: 32px;\n",
              "      }\n",
              "\n",
              "      .colab-df-generate:hover {\n",
              "        background-color: #E2EBFA;\n",
              "        box-shadow: 0px 1px 2px rgba(60, 64, 67, 0.3), 0px 1px 3px 1px rgba(60, 64, 67, 0.15);\n",
              "        fill: #174EA6;\n",
              "      }\n",
              "\n",
              "      [theme=dark] .colab-df-generate {\n",
              "        background-color: #3B4455;\n",
              "        fill: #D2E3FC;\n",
              "      }\n",
              "\n",
              "      [theme=dark] .colab-df-generate:hover {\n",
              "        background-color: #434B5C;\n",
              "        box-shadow: 0px 1px 3px 1px rgba(0, 0, 0, 0.15);\n",
              "        filter: drop-shadow(0px 1px 2px rgba(0, 0, 0, 0.3));\n",
              "        fill: #FFFFFF;\n",
              "      }\n",
              "    </style>\n",
              "    <button class=\"colab-df-generate\" onclick=\"generateWithVariable('df_fatalities')\"\n",
              "            title=\"Generate code using this dataframe.\"\n",
              "            style=\"display:none;\">\n",
              "\n",
              "  <svg xmlns=\"http://www.w3.org/2000/svg\" height=\"24px\"viewBox=\"0 0 24 24\"\n",
              "       width=\"24px\">\n",
              "    <path d=\"M7,19H8.4L18.45,9,17,7.55,7,17.6ZM5,21V16.75L18.45,3.32a2,2,0,0,1,2.83,0l1.4,1.43a1.91,1.91,0,0,1,.58,1.4,1.91,1.91,0,0,1-.58,1.4L9.25,21ZM18.45,9,17,7.55Zm-12,3A5.31,5.31,0,0,0,4.9,8.1,5.31,5.31,0,0,0,1,6.5,5.31,5.31,0,0,0,4.9,4.9,5.31,5.31,0,0,0,6.5,1,5.31,5.31,0,0,0,8.1,4.9,5.31,5.31,0,0,0,12,6.5,5.46,5.46,0,0,0,6.5,12Z\"/>\n",
              "  </svg>\n",
              "    </button>\n",
              "    <script>\n",
              "      (() => {\n",
              "      const buttonEl =\n",
              "        document.querySelector('#id_71bf741c-d992-491a-a20c-2fe3f8b673d8 button.colab-df-generate');\n",
              "      buttonEl.style.display =\n",
              "        google.colab.kernel.accessAllowed ? 'block' : 'none';\n",
              "\n",
              "      buttonEl.onclick = () => {\n",
              "        google.colab.notebook.generateWithVariable('df_fatalities');\n",
              "      }\n",
              "      })();\n",
              "    </script>\n",
              "  </div>\n",
              "\n",
              "    </div>\n",
              "  </div>\n"
            ],
            "application/vnd.google.colaboratory.intrinsic+json": {
              "type": "dataframe",
              "variable_name": "df_fatalities",
              "summary": "{\n  \"name\": \"df_fatalities\",\n  \"rows\": 2535,\n  \"fields\": [\n    {\n      \"column\": \"id\",\n      \"properties\": {\n        \"dtype\": \"number\",\n        \"std\": 794,\n        \"min\": 3,\n        \"max\": 2822,\n        \"num_unique_values\": 2535,\n        \"samples\": [\n          1602,\n          1985,\n          2581\n        ],\n        \"semantic_type\": \"\",\n        \"description\": \"\"\n      }\n    },\n    {\n      \"column\": \"name\",\n      \"properties\": {\n        \"dtype\": \"string\",\n        \"num_unique_values\": 2481,\n        \"samples\": [\n          \"Paul Anderson\",\n          \"Mansur Ball-Bey\",\n          \"Thomas Jeffery Burns\"\n        ],\n        \"semantic_type\": \"\",\n        \"description\": \"\"\n      }\n    },\n    {\n      \"column\": \"date\",\n      \"properties\": {\n        \"dtype\": \"object\",\n        \"num_unique_values\": 879,\n        \"samples\": [\n          \"22/12/15\",\n          \"21/09/15\",\n          \"28/04/17\"\n        ],\n        \"semantic_type\": \"\",\n        \"description\": \"\"\n      }\n    },\n    {\n      \"column\": \"manner_of_death\",\n      \"properties\": {\n        \"dtype\": \"category\",\n        \"num_unique_values\": 2,\n        \"samples\": [\n          \"shot and Tasered\",\n          \"shot\"\n        ],\n        \"semantic_type\": \"\",\n        \"description\": \"\"\n      }\n    },\n    {\n      \"column\": \"armed\",\n      \"properties\": {\n        \"dtype\": \"category\",\n        \"num_unique_values\": 69,\n        \"samples\": [\n          \"metal pipe\",\n          \"gun\"\n        ],\n        \"semantic_type\": \"\",\n        \"description\": \"\"\n      }\n    },\n    {\n      \"column\": \"age\",\n      \"properties\": {\n        \"dtype\": \"number\",\n        \"std\": 14.287106282270592,\n        \"min\": 0.0,\n        \"max\": 91.0,\n        \"num_unique_values\": 74,\n        \"samples\": [\n          39.0,\n          65.0\n        ],\n        \"semantic_type\": \"\",\n        \"description\": \"\"\n      }\n    },\n    {\n      \"column\": \"gender\",\n      \"properties\": {\n        \"dtype\": \"category\",\n        \"num_unique_values\": 2,\n        \"samples\": [\n          \"F\",\n          \"M\"\n        ],\n        \"semantic_type\": \"\",\n        \"description\": \"\"\n      }\n    },\n    {\n      \"column\": \"race\",\n      \"properties\": {\n        \"dtype\": \"category\",\n        \"num_unique_values\": 6,\n        \"samples\": [\n          \"A\",\n          \"W\"\n        ],\n        \"semantic_type\": \"\",\n        \"description\": \"\"\n      }\n    },\n    {\n      \"column\": \"city\",\n      \"properties\": {\n        \"dtype\": \"string\",\n        \"num_unique_values\": 1417,\n        \"samples\": [\n          \"Longview\",\n          \"Arab\"\n        ],\n        \"semantic_type\": \"\",\n        \"description\": \"\"\n      }\n    },\n    {\n      \"column\": \"state\",\n      \"properties\": {\n        \"dtype\": \"category\",\n        \"num_unique_values\": 51,\n        \"samples\": [\n          \"WV\",\n          \"SC\"\n        ],\n        \"semantic_type\": \"\",\n        \"description\": \"\"\n      }\n    },\n    {\n      \"column\": \"signs_of_mental_illness\",\n      \"properties\": {\n        \"dtype\": \"boolean\",\n        \"num_unique_values\": 2,\n        \"samples\": [\n          false,\n          true\n        ],\n        \"semantic_type\": \"\",\n        \"description\": \"\"\n      }\n    },\n    {\n      \"column\": \"threat_level\",\n      \"properties\": {\n        \"dtype\": \"category\",\n        \"num_unique_values\": 3,\n        \"samples\": [\n          \"attack\",\n          \"other\"\n        ],\n        \"semantic_type\": \"\",\n        \"description\": \"\"\n      }\n    },\n    {\n      \"column\": \"flee\",\n      \"properties\": {\n        \"dtype\": \"category\",\n        \"num_unique_values\": 5,\n        \"samples\": [\n          \"Car\",\n          0\n        ],\n        \"semantic_type\": \"\",\n        \"description\": \"\"\n      }\n    },\n    {\n      \"column\": \"body_camera\",\n      \"properties\": {\n        \"dtype\": \"boolean\",\n        \"num_unique_values\": 2,\n        \"samples\": [\n          true,\n          false\n        ],\n        \"semantic_type\": \"\",\n        \"description\": \"\"\n      }\n    },\n    {\n      \"column\": \"armed_or_unarmed\",\n      \"properties\": {\n        \"dtype\": \"category\",\n        \"num_unique_values\": 2,\n        \"samples\": [\n          \"unarmed\",\n          \"armed\"\n        ],\n        \"semantic_type\": \"\",\n        \"description\": \"\"\n      }\n    },\n    {\n      \"column\": \"age_category\",\n      \"properties\": {\n        \"dtype\": \"category\",\n        \"num_unique_values\": 2,\n        \"samples\": [\n          \"under 25\",\n          \"25 or older\"\n        ],\n        \"semantic_type\": \"\",\n        \"description\": \"\"\n      }\n    }\n  ]\n}"
            }
          },
          "metadata": {},
          "execution_count": 24
        }
      ]
    },
    {
      "cell_type": "code",
      "metadata": {
        "id": "T_FU4GFk5Upa",
        "colab": {
          "base_uri": "https://localhost:8080/",
          "height": 542
        },
        "outputId": "9d13cb96-f967-4285-e236-da8e1818f499"
      },
      "source": [
        "city_counts = df_fatalities[\"city\"].value_counts().reset_index()\n",
        "city_counts.columns = [\"City\", \"Deaths\"]\n",
        "\n",
        "# Bar chart\n",
        "fig = px.bar(\n",
        "    city_counts.sort_values(by='Deaths', ascending=False).head(10),\n",
        "    x=\"City\",\n",
        "    y=\"Deaths\",\n",
        "    text=\"Deaths\",\n",
        "    color=\"City\",\n",
        "    title=\"Top 10 Cities with Most Police Killings\"\n",
        ")\n",
        "\n",
        "fig.update_traces(textposition=\"outside\")\n",
        "fig.show()"
      ],
      "execution_count": 25,
      "outputs": [
        {
          "output_type": "display_data",
          "data": {
            "text/html": [
              "<html>\n",
              "<head><meta charset=\"utf-8\" /></head>\n",
              "<body>\n",
              "    <div>            <script src=\"https://cdnjs.cloudflare.com/ajax/libs/mathjax/2.7.5/MathJax.js?config=TeX-AMS-MML_SVG\"></script><script type=\"text/javascript\">if (window.MathJax && window.MathJax.Hub && window.MathJax.Hub.Config) {window.MathJax.Hub.Config({SVG: {font: \"STIX-Web\"}});}</script>                <script type=\"text/javascript\">window.PlotlyConfig = {MathJaxConfig: 'local'};</script>\n",
              "        <script charset=\"utf-8\" src=\"https://cdn.plot.ly/plotly-3.1.0.min.js\" integrity=\"sha256-Ei4740bWZhaUTQuD6q9yQlgVCMPBz6CZWhevDYPv93A=\" crossorigin=\"anonymous\"></script>                <div id=\"0ba7548f-fd27-42e7-85dc-ab73d5e4114c\" class=\"plotly-graph-div\" style=\"height:525px; width:100%;\"></div>            <script type=\"text/javascript\">                window.PLOTLYENV=window.PLOTLYENV || {};                                if (document.getElementById(\"0ba7548f-fd27-42e7-85dc-ab73d5e4114c\")) {                    Plotly.newPlot(                        \"0ba7548f-fd27-42e7-85dc-ab73d5e4114c\",                        [{\"hovertemplate\":\"City=%{x}\\u003cbr\\u003eDeaths=%{text}\\u003cextra\\u003e\\u003c\\u002fextra\\u003e\",\"legendgroup\":\"Los Angeles\",\"marker\":{\"color\":\"#636efa\",\"pattern\":{\"shape\":\"\"}},\"name\":\"Los Angeles\",\"orientation\":\"v\",\"showlegend\":true,\"text\":{\"dtype\":\"f8\",\"bdata\":\"AAAAAACAQ0A=\"},\"textposition\":\"outside\",\"x\":[\"Los Angeles\"],\"xaxis\":\"x\",\"y\":{\"dtype\":\"i1\",\"bdata\":\"Jw==\"},\"yaxis\":\"y\",\"type\":\"bar\"},{\"hovertemplate\":\"City=%{x}\\u003cbr\\u003eDeaths=%{text}\\u003cextra\\u003e\\u003c\\u002fextra\\u003e\",\"legendgroup\":\"Phoenix\",\"marker\":{\"color\":\"#EF553B\",\"pattern\":{\"shape\":\"\"}},\"name\":\"Phoenix\",\"orientation\":\"v\",\"showlegend\":true,\"text\":{\"dtype\":\"f8\",\"bdata\":\"AAAAAAAAP0A=\"},\"textposition\":\"outside\",\"x\":[\"Phoenix\"],\"xaxis\":\"x\",\"y\":{\"dtype\":\"i1\",\"bdata\":\"Hw==\"},\"yaxis\":\"y\",\"type\":\"bar\"},{\"hovertemplate\":\"City=%{x}\\u003cbr\\u003eDeaths=%{text}\\u003cextra\\u003e\\u003c\\u002fextra\\u003e\",\"legendgroup\":\"Houston\",\"marker\":{\"color\":\"#00cc96\",\"pattern\":{\"shape\":\"\"}},\"name\":\"Houston\",\"orientation\":\"v\",\"showlegend\":true,\"text\":{\"dtype\":\"f8\",\"bdata\":\"AAAAAAAAO0A=\"},\"textposition\":\"outside\",\"x\":[\"Houston\"],\"xaxis\":\"x\",\"y\":{\"dtype\":\"i1\",\"bdata\":\"Gw==\"},\"yaxis\":\"y\",\"type\":\"bar\"},{\"hovertemplate\":\"City=%{x}\\u003cbr\\u003eDeaths=%{text}\\u003cextra\\u003e\\u003c\\u002fextra\\u003e\",\"legendgroup\":\"Chicago\",\"marker\":{\"color\":\"#ab63fa\",\"pattern\":{\"shape\":\"\"}},\"name\":\"Chicago\",\"orientation\":\"v\",\"showlegend\":true,\"text\":{\"dtype\":\"f8\",\"bdata\":\"AAAAAAAAOUA=\"},\"textposition\":\"outside\",\"x\":[\"Chicago\"],\"xaxis\":\"x\",\"y\":{\"dtype\":\"i1\",\"bdata\":\"GQ==\"},\"yaxis\":\"y\",\"type\":\"bar\"},{\"hovertemplate\":\"City=%{x}\\u003cbr\\u003eDeaths=%{text}\\u003cextra\\u003e\\u003c\\u002fextra\\u003e\",\"legendgroup\":\"Las Vegas\",\"marker\":{\"color\":\"#FFA15A\",\"pattern\":{\"shape\":\"\"}},\"name\":\"Las Vegas\",\"orientation\":\"v\",\"showlegend\":true,\"text\":{\"dtype\":\"f8\",\"bdata\":\"AAAAAAAANUA=\"},\"textposition\":\"outside\",\"x\":[\"Las Vegas\"],\"xaxis\":\"x\",\"y\":{\"dtype\":\"i1\",\"bdata\":\"FQ==\"},\"yaxis\":\"y\",\"type\":\"bar\"},{\"hovertemplate\":\"City=%{x}\\u003cbr\\u003eDeaths=%{text}\\u003cextra\\u003e\\u003c\\u002fextra\\u003e\",\"legendgroup\":\"San Antonio\",\"marker\":{\"color\":\"#19d3f3\",\"pattern\":{\"shape\":\"\"}},\"name\":\"San Antonio\",\"orientation\":\"v\",\"showlegend\":true,\"text\":{\"dtype\":\"f8\",\"bdata\":\"AAAAAAAANEA=\"},\"textposition\":\"outside\",\"x\":[\"San Antonio\"],\"xaxis\":\"x\",\"y\":{\"dtype\":\"i1\",\"bdata\":\"FA==\"},\"yaxis\":\"y\",\"type\":\"bar\"},{\"hovertemplate\":\"City=%{x}\\u003cbr\\u003eDeaths=%{text}\\u003cextra\\u003e\\u003c\\u002fextra\\u003e\",\"legendgroup\":\"Columbus\",\"marker\":{\"color\":\"#FF6692\",\"pattern\":{\"shape\":\"\"}},\"name\":\"Columbus\",\"orientation\":\"v\",\"showlegend\":true,\"text\":{\"dtype\":\"f8\",\"bdata\":\"AAAAAAAAM0A=\"},\"textposition\":\"outside\",\"x\":[\"Columbus\"],\"xaxis\":\"x\",\"y\":{\"dtype\":\"i1\",\"bdata\":\"Ew==\"},\"yaxis\":\"y\",\"type\":\"bar\"},{\"hovertemplate\":\"City=%{x}\\u003cbr\\u003eDeaths=%{text}\\u003cextra\\u003e\\u003c\\u002fextra\\u003e\",\"legendgroup\":\"Austin\",\"marker\":{\"color\":\"#B6E880\",\"pattern\":{\"shape\":\"\"}},\"name\":\"Austin\",\"orientation\":\"v\",\"showlegend\":true,\"text\":{\"dtype\":\"f8\",\"bdata\":\"AAAAAAAAMkA=\"},\"textposition\":\"outside\",\"x\":[\"Austin\"],\"xaxis\":\"x\",\"y\":{\"dtype\":\"i1\",\"bdata\":\"Eg==\"},\"yaxis\":\"y\",\"type\":\"bar\"},{\"hovertemplate\":\"City=%{x}\\u003cbr\\u003eDeaths=%{text}\\u003cextra\\u003e\\u003c\\u002fextra\\u003e\",\"legendgroup\":\"Miami\",\"marker\":{\"color\":\"#FF97FF\",\"pattern\":{\"shape\":\"\"}},\"name\":\"Miami\",\"orientation\":\"v\",\"showlegend\":true,\"text\":{\"dtype\":\"f8\",\"bdata\":\"AAAAAAAAMkA=\"},\"textposition\":\"outside\",\"x\":[\"Miami\"],\"xaxis\":\"x\",\"y\":{\"dtype\":\"i1\",\"bdata\":\"Eg==\"},\"yaxis\":\"y\",\"type\":\"bar\"},{\"hovertemplate\":\"City=%{x}\\u003cbr\\u003eDeaths=%{text}\\u003cextra\\u003e\\u003c\\u002fextra\\u003e\",\"legendgroup\":\"St. Louis\",\"marker\":{\"color\":\"#FECB52\",\"pattern\":{\"shape\":\"\"}},\"name\":\"St. Louis\",\"orientation\":\"v\",\"showlegend\":true,\"text\":{\"dtype\":\"f8\",\"bdata\":\"AAAAAAAALkA=\"},\"textposition\":\"outside\",\"x\":[\"St. Louis\"],\"xaxis\":\"x\",\"y\":{\"dtype\":\"i1\",\"bdata\":\"Dw==\"},\"yaxis\":\"y\",\"type\":\"bar\"}],                        {\"template\":{\"data\":{\"histogram2dcontour\":[{\"type\":\"histogram2dcontour\",\"colorbar\":{\"outlinewidth\":0,\"ticks\":\"\"},\"colorscale\":[[0.0,\"#0d0887\"],[0.1111111111111111,\"#46039f\"],[0.2222222222222222,\"#7201a8\"],[0.3333333333333333,\"#9c179e\"],[0.4444444444444444,\"#bd3786\"],[0.5555555555555556,\"#d8576b\"],[0.6666666666666666,\"#ed7953\"],[0.7777777777777778,\"#fb9f3a\"],[0.8888888888888888,\"#fdca26\"],[1.0,\"#f0f921\"]]}],\"choropleth\":[{\"type\":\"choropleth\",\"colorbar\":{\"outlinewidth\":0,\"ticks\":\"\"}}],\"histogram2d\":[{\"type\":\"histogram2d\",\"colorbar\":{\"outlinewidth\":0,\"ticks\":\"\"},\"colorscale\":[[0.0,\"#0d0887\"],[0.1111111111111111,\"#46039f\"],[0.2222222222222222,\"#7201a8\"],[0.3333333333333333,\"#9c179e\"],[0.4444444444444444,\"#bd3786\"],[0.5555555555555556,\"#d8576b\"],[0.6666666666666666,\"#ed7953\"],[0.7777777777777778,\"#fb9f3a\"],[0.8888888888888888,\"#fdca26\"],[1.0,\"#f0f921\"]]}],\"heatmap\":[{\"type\":\"heatmap\",\"colorbar\":{\"outlinewidth\":0,\"ticks\":\"\"},\"colorscale\":[[0.0,\"#0d0887\"],[0.1111111111111111,\"#46039f\"],[0.2222222222222222,\"#7201a8\"],[0.3333333333333333,\"#9c179e\"],[0.4444444444444444,\"#bd3786\"],[0.5555555555555556,\"#d8576b\"],[0.6666666666666666,\"#ed7953\"],[0.7777777777777778,\"#fb9f3a\"],[0.8888888888888888,\"#fdca26\"],[1.0,\"#f0f921\"]]}],\"contourcarpet\":[{\"type\":\"contourcarpet\",\"colorbar\":{\"outlinewidth\":0,\"ticks\":\"\"}}],\"contour\":[{\"type\":\"contour\",\"colorbar\":{\"outlinewidth\":0,\"ticks\":\"\"},\"colorscale\":[[0.0,\"#0d0887\"],[0.1111111111111111,\"#46039f\"],[0.2222222222222222,\"#7201a8\"],[0.3333333333333333,\"#9c179e\"],[0.4444444444444444,\"#bd3786\"],[0.5555555555555556,\"#d8576b\"],[0.6666666666666666,\"#ed7953\"],[0.7777777777777778,\"#fb9f3a\"],[0.8888888888888888,\"#fdca26\"],[1.0,\"#f0f921\"]]}],\"surface\":[{\"type\":\"surface\",\"colorbar\":{\"outlinewidth\":0,\"ticks\":\"\"},\"colorscale\":[[0.0,\"#0d0887\"],[0.1111111111111111,\"#46039f\"],[0.2222222222222222,\"#7201a8\"],[0.3333333333333333,\"#9c179e\"],[0.4444444444444444,\"#bd3786\"],[0.5555555555555556,\"#d8576b\"],[0.6666666666666666,\"#ed7953\"],[0.7777777777777778,\"#fb9f3a\"],[0.8888888888888888,\"#fdca26\"],[1.0,\"#f0f921\"]]}],\"mesh3d\":[{\"type\":\"mesh3d\",\"colorbar\":{\"outlinewidth\":0,\"ticks\":\"\"}}],\"scatter\":[{\"fillpattern\":{\"fillmode\":\"overlay\",\"size\":10,\"solidity\":0.2},\"type\":\"scatter\"}],\"parcoords\":[{\"type\":\"parcoords\",\"line\":{\"colorbar\":{\"outlinewidth\":0,\"ticks\":\"\"}}}],\"scatterpolargl\":[{\"type\":\"scatterpolargl\",\"marker\":{\"colorbar\":{\"outlinewidth\":0,\"ticks\":\"\"}}}],\"bar\":[{\"error_x\":{\"color\":\"#2a3f5f\"},\"error_y\":{\"color\":\"#2a3f5f\"},\"marker\":{\"line\":{\"color\":\"#E5ECF6\",\"width\":0.5},\"pattern\":{\"fillmode\":\"overlay\",\"size\":10,\"solidity\":0.2}},\"type\":\"bar\"}],\"scattergeo\":[{\"type\":\"scattergeo\",\"marker\":{\"colorbar\":{\"outlinewidth\":0,\"ticks\":\"\"}}}],\"scatterpolar\":[{\"type\":\"scatterpolar\",\"marker\":{\"colorbar\":{\"outlinewidth\":0,\"ticks\":\"\"}}}],\"histogram\":[{\"marker\":{\"pattern\":{\"fillmode\":\"overlay\",\"size\":10,\"solidity\":0.2}},\"type\":\"histogram\"}],\"scattergl\":[{\"type\":\"scattergl\",\"marker\":{\"colorbar\":{\"outlinewidth\":0,\"ticks\":\"\"}}}],\"scatter3d\":[{\"type\":\"scatter3d\",\"line\":{\"colorbar\":{\"outlinewidth\":0,\"ticks\":\"\"}},\"marker\":{\"colorbar\":{\"outlinewidth\":0,\"ticks\":\"\"}}}],\"scattermap\":[{\"type\":\"scattermap\",\"marker\":{\"colorbar\":{\"outlinewidth\":0,\"ticks\":\"\"}}}],\"scattermapbox\":[{\"type\":\"scattermapbox\",\"marker\":{\"colorbar\":{\"outlinewidth\":0,\"ticks\":\"\"}}}],\"scatterternary\":[{\"type\":\"scatterternary\",\"marker\":{\"colorbar\":{\"outlinewidth\":0,\"ticks\":\"\"}}}],\"scattercarpet\":[{\"type\":\"scattercarpet\",\"marker\":{\"colorbar\":{\"outlinewidth\":0,\"ticks\":\"\"}}}],\"carpet\":[{\"aaxis\":{\"endlinecolor\":\"#2a3f5f\",\"gridcolor\":\"white\",\"linecolor\":\"white\",\"minorgridcolor\":\"white\",\"startlinecolor\":\"#2a3f5f\"},\"baxis\":{\"endlinecolor\":\"#2a3f5f\",\"gridcolor\":\"white\",\"linecolor\":\"white\",\"minorgridcolor\":\"white\",\"startlinecolor\":\"#2a3f5f\"},\"type\":\"carpet\"}],\"table\":[{\"cells\":{\"fill\":{\"color\":\"#EBF0F8\"},\"line\":{\"color\":\"white\"}},\"header\":{\"fill\":{\"color\":\"#C8D4E3\"},\"line\":{\"color\":\"white\"}},\"type\":\"table\"}],\"barpolar\":[{\"marker\":{\"line\":{\"color\":\"#E5ECF6\",\"width\":0.5},\"pattern\":{\"fillmode\":\"overlay\",\"size\":10,\"solidity\":0.2}},\"type\":\"barpolar\"}],\"pie\":[{\"automargin\":true,\"type\":\"pie\"}]},\"layout\":{\"autotypenumbers\":\"strict\",\"colorway\":[\"#636efa\",\"#EF553B\",\"#00cc96\",\"#ab63fa\",\"#FFA15A\",\"#19d3f3\",\"#FF6692\",\"#B6E880\",\"#FF97FF\",\"#FECB52\"],\"font\":{\"color\":\"#2a3f5f\"},\"hovermode\":\"closest\",\"hoverlabel\":{\"align\":\"left\"},\"paper_bgcolor\":\"white\",\"plot_bgcolor\":\"#E5ECF6\",\"polar\":{\"bgcolor\":\"#E5ECF6\",\"angularaxis\":{\"gridcolor\":\"white\",\"linecolor\":\"white\",\"ticks\":\"\"},\"radialaxis\":{\"gridcolor\":\"white\",\"linecolor\":\"white\",\"ticks\":\"\"}},\"ternary\":{\"bgcolor\":\"#E5ECF6\",\"aaxis\":{\"gridcolor\":\"white\",\"linecolor\":\"white\",\"ticks\":\"\"},\"baxis\":{\"gridcolor\":\"white\",\"linecolor\":\"white\",\"ticks\":\"\"},\"caxis\":{\"gridcolor\":\"white\",\"linecolor\":\"white\",\"ticks\":\"\"}},\"coloraxis\":{\"colorbar\":{\"outlinewidth\":0,\"ticks\":\"\"}},\"colorscale\":{\"sequential\":[[0.0,\"#0d0887\"],[0.1111111111111111,\"#46039f\"],[0.2222222222222222,\"#7201a8\"],[0.3333333333333333,\"#9c179e\"],[0.4444444444444444,\"#bd3786\"],[0.5555555555555556,\"#d8576b\"],[0.6666666666666666,\"#ed7953\"],[0.7777777777777778,\"#fb9f3a\"],[0.8888888888888888,\"#fdca26\"],[1.0,\"#f0f921\"]],\"sequentialminus\":[[0.0,\"#0d0887\"],[0.1111111111111111,\"#46039f\"],[0.2222222222222222,\"#7201a8\"],[0.3333333333333333,\"#9c179e\"],[0.4444444444444444,\"#bd3786\"],[0.5555555555555556,\"#d8576b\"],[0.6666666666666666,\"#ed7953\"],[0.7777777777777778,\"#fb9f3a\"],[0.8888888888888888,\"#fdca26\"],[1.0,\"#f0f921\"]],\"diverging\":[[0,\"#8e0152\"],[0.1,\"#c51b7d\"],[0.2,\"#de77ae\"],[0.3,\"#f1b6da\"],[0.4,\"#fde0ef\"],[0.5,\"#f7f7f7\"],[0.6,\"#e6f5d0\"],[0.7,\"#b8e186\"],[0.8,\"#7fbc41\"],[0.9,\"#4d9221\"],[1,\"#276419\"]]},\"xaxis\":{\"gridcolor\":\"white\",\"linecolor\":\"white\",\"ticks\":\"\",\"title\":{\"standoff\":15},\"zerolinecolor\":\"white\",\"automargin\":true,\"zerolinewidth\":2},\"yaxis\":{\"gridcolor\":\"white\",\"linecolor\":\"white\",\"ticks\":\"\",\"title\":{\"standoff\":15},\"zerolinecolor\":\"white\",\"automargin\":true,\"zerolinewidth\":2},\"scene\":{\"xaxis\":{\"backgroundcolor\":\"#E5ECF6\",\"gridcolor\":\"white\",\"linecolor\":\"white\",\"showbackground\":true,\"ticks\":\"\",\"zerolinecolor\":\"white\",\"gridwidth\":2},\"yaxis\":{\"backgroundcolor\":\"#E5ECF6\",\"gridcolor\":\"white\",\"linecolor\":\"white\",\"showbackground\":true,\"ticks\":\"\",\"zerolinecolor\":\"white\",\"gridwidth\":2},\"zaxis\":{\"backgroundcolor\":\"#E5ECF6\",\"gridcolor\":\"white\",\"linecolor\":\"white\",\"showbackground\":true,\"ticks\":\"\",\"zerolinecolor\":\"white\",\"gridwidth\":2}},\"shapedefaults\":{\"line\":{\"color\":\"#2a3f5f\"}},\"annotationdefaults\":{\"arrowcolor\":\"#2a3f5f\",\"arrowhead\":0,\"arrowwidth\":1},\"geo\":{\"bgcolor\":\"white\",\"landcolor\":\"#E5ECF6\",\"subunitcolor\":\"white\",\"showland\":true,\"showlakes\":true,\"lakecolor\":\"white\"},\"title\":{\"x\":0.05},\"mapbox\":{\"style\":\"light\"}}},\"xaxis\":{\"anchor\":\"y\",\"domain\":[0.0,1.0],\"title\":{\"text\":\"City\"},\"categoryorder\":\"array\",\"categoryarray\":[\"Los Angeles\",\"Phoenix\",\"Houston\",\"Chicago\",\"Las Vegas\",\"San Antonio\",\"Columbus\",\"Austin\",\"Miami\",\"St. Louis\"]},\"yaxis\":{\"anchor\":\"x\",\"domain\":[0.0,1.0],\"title\":{\"text\":\"Deaths\"}},\"legend\":{\"title\":{\"text\":\"City\"},\"tracegroupgap\":0},\"title\":{\"text\":\"Top 10 Cities with Most Police Killings\"},\"barmode\":\"relative\"},                        {\"responsive\": true}                    ).then(function(){\n",
              "                            \n",
              "var gd = document.getElementById('0ba7548f-fd27-42e7-85dc-ab73d5e4114c');\n",
              "var x = new MutationObserver(function (mutations, observer) {{\n",
              "        var display = window.getComputedStyle(gd).display;\n",
              "        if (!display || display === 'none') {{\n",
              "            console.log([gd, 'removed!']);\n",
              "            Plotly.purge(gd);\n",
              "            observer.disconnect();\n",
              "        }}\n",
              "}});\n",
              "\n",
              "// Listen for the removal of the full notebook cells\n",
              "var notebookContainer = gd.closest('#notebook-container');\n",
              "if (notebookContainer) {{\n",
              "    x.observe(notebookContainer, {childList: true});\n",
              "}}\n",
              "\n",
              "// Listen for the clearing of the current output cell\n",
              "var outputEl = gd.closest('.output');\n",
              "if (outputEl) {{\n",
              "    x.observe(outputEl, {childList: true});\n",
              "}}\n",
              "\n",
              "                        })                };            </script>        </div>\n",
              "</body>\n",
              "</html>"
            ]
          },
          "metadata": {}
        }
      ]
    },
    {
      "cell_type": "markdown",
      "source": [
        "With **39 deaths**, Los Angeles stands out as the city with the highest number of police killings, significantly above the others.\n",
        "\n",
        "Phoenix (**31**), Houston (**27**), and Chicago (**25**) also have notably high numbers. These are all large cities with high populations, which suggests a link between city size and number of incidents.\n",
        "\n",
        "After Los Angeles, the numbers drop by 8 deaths to Phoenix. By the time you reach St. Louis (**15 deaths**), the total is less than half of Los Angeles.\n",
        "\n",
        "The list includes cities across different regions:\n",
        "\n",
        "  * **West**: Los Angeles, Phoenix, Las Vegas\n",
        "  * **South**: Houston, San Antonio, Austin, Miami\n",
        "  * **Midwest**: Chicago, Columbus, St. Louis\n",
        "This indicates that the issue is not isolated to one region of the country.\n",
        "\n",
        "High numbers may correlate with **larger populations, higher crime rates, and heavier police presence**, but they also highlight **systemic concerns about policing practices** in urban centers. It shows that police killings are concentrated in major cities rather than spread evenly across smaller towns.\n"
      ],
      "metadata": {
        "id": "wkJRh5cB5A3S"
      }
    },
    {
      "cell_type": "markdown",
      "metadata": {
        "id": "1HUJksrI5WFb"
      },
      "source": [
        "# Create a Choropleth Map of Police Killings by US State\n",
        "\n",
        "Which states are the most dangerous? Compare your map with your previous chart. Are these the same states with high degrees of poverty?"
      ]
    },
    {
      "cell_type": "code",
      "metadata": {
        "id": "u3UuX4Yo5dBA",
        "colab": {
          "base_uri": "https://localhost:8080/",
          "height": 542
        },
        "outputId": "15389c67-8473-44a3-8a05-425221fd4900"
      },
      "source": [
        "fatalities_by_state = df_fatalities.groupby('state').size().reset_index(name='Deaths')\n",
        "\n",
        "fig = px.choropleth(fatalities_by_state,\n",
        "                    locations='state',\n",
        "                    locationmode='USA-states',\n",
        "                    color='Deaths',\n",
        "                    scope='usa',\n",
        "                    color_continuous_scale=\"Viridis\",\n",
        "                    title='Police Killings by US State')\n",
        "fig.show()"
      ],
      "execution_count": 26,
      "outputs": [
        {
          "output_type": "display_data",
          "data": {
            "text/html": [
              "<html>\n",
              "<head><meta charset=\"utf-8\" /></head>\n",
              "<body>\n",
              "    <div>            <script src=\"https://cdnjs.cloudflare.com/ajax/libs/mathjax/2.7.5/MathJax.js?config=TeX-AMS-MML_SVG\"></script><script type=\"text/javascript\">if (window.MathJax && window.MathJax.Hub && window.MathJax.Hub.Config) {window.MathJax.Hub.Config({SVG: {font: \"STIX-Web\"}});}</script>                <script type=\"text/javascript\">window.PlotlyConfig = {MathJaxConfig: 'local'};</script>\n",
              "        <script charset=\"utf-8\" src=\"https://cdn.plot.ly/plotly-3.1.0.min.js\" integrity=\"sha256-Ei4740bWZhaUTQuD6q9yQlgVCMPBz6CZWhevDYPv93A=\" crossorigin=\"anonymous\"></script>                <div id=\"f663535d-73b8-43d2-b554-00d1e2567fa2\" class=\"plotly-graph-div\" style=\"height:525px; width:100%;\"></div>            <script type=\"text/javascript\">                window.PLOTLYENV=window.PLOTLYENV || {};                                if (document.getElementById(\"f663535d-73b8-43d2-b554-00d1e2567fa2\")) {                    Plotly.newPlot(                        \"f663535d-73b8-43d2-b554-00d1e2567fa2\",                        [{\"coloraxis\":\"coloraxis\",\"geo\":\"geo\",\"hovertemplate\":\"state=%{location}\\u003cbr\\u003eDeaths=%{z}\\u003cextra\\u003e\\u003c\\u002fextra\\u003e\",\"locationmode\":\"USA-states\",\"locations\":[\"AK\",\"AL\",\"AR\",\"AZ\",\"CA\",\"CO\",\"CT\",\"DC\",\"DE\",\"FL\",\"GA\",\"HI\",\"IA\",\"ID\",\"IL\",\"IN\",\"KS\",\"KY\",\"LA\",\"MA\",\"MD\",\"ME\",\"MI\",\"MN\",\"MO\",\"MS\",\"MT\",\"NC\",\"ND\",\"NE\",\"NH\",\"NJ\",\"NM\",\"NV\",\"NY\",\"OH\",\"OK\",\"OR\",\"PA\",\"RI\",\"SC\",\"SD\",\"TN\",\"TX\",\"UT\",\"VA\",\"VT\",\"WA\",\"WI\",\"WV\",\"WY\"],\"name\":\"\",\"z\":{\"dtype\":\"i2\",\"bdata\":\"DwAyABoAdgCoAUoACQALAAgAmgBGAAsADAARAD4AKwAYACsAOQAWACYADQAlACAAQAAXAAsARQAEAA8ABwAjADMAKgAtAE8ATgAmADMAAgAsAAoAOwDhABcALwADAD4AKwAbAAgA\"},\"type\":\"choropleth\"}],                        {\"template\":{\"data\":{\"histogram2dcontour\":[{\"type\":\"histogram2dcontour\",\"colorbar\":{\"outlinewidth\":0,\"ticks\":\"\"},\"colorscale\":[[0.0,\"#0d0887\"],[0.1111111111111111,\"#46039f\"],[0.2222222222222222,\"#7201a8\"],[0.3333333333333333,\"#9c179e\"],[0.4444444444444444,\"#bd3786\"],[0.5555555555555556,\"#d8576b\"],[0.6666666666666666,\"#ed7953\"],[0.7777777777777778,\"#fb9f3a\"],[0.8888888888888888,\"#fdca26\"],[1.0,\"#f0f921\"]]}],\"choropleth\":[{\"type\":\"choropleth\",\"colorbar\":{\"outlinewidth\":0,\"ticks\":\"\"}}],\"histogram2d\":[{\"type\":\"histogram2d\",\"colorbar\":{\"outlinewidth\":0,\"ticks\":\"\"},\"colorscale\":[[0.0,\"#0d0887\"],[0.1111111111111111,\"#46039f\"],[0.2222222222222222,\"#7201a8\"],[0.3333333333333333,\"#9c179e\"],[0.4444444444444444,\"#bd3786\"],[0.5555555555555556,\"#d8576b\"],[0.6666666666666666,\"#ed7953\"],[0.7777777777777778,\"#fb9f3a\"],[0.8888888888888888,\"#fdca26\"],[1.0,\"#f0f921\"]]}],\"heatmap\":[{\"type\":\"heatmap\",\"colorbar\":{\"outlinewidth\":0,\"ticks\":\"\"},\"colorscale\":[[0.0,\"#0d0887\"],[0.1111111111111111,\"#46039f\"],[0.2222222222222222,\"#7201a8\"],[0.3333333333333333,\"#9c179e\"],[0.4444444444444444,\"#bd3786\"],[0.5555555555555556,\"#d8576b\"],[0.6666666666666666,\"#ed7953\"],[0.7777777777777778,\"#fb9f3a\"],[0.8888888888888888,\"#fdca26\"],[1.0,\"#f0f921\"]]}],\"contourcarpet\":[{\"type\":\"contourcarpet\",\"colorbar\":{\"outlinewidth\":0,\"ticks\":\"\"}}],\"contour\":[{\"type\":\"contour\",\"colorbar\":{\"outlinewidth\":0,\"ticks\":\"\"},\"colorscale\":[[0.0,\"#0d0887\"],[0.1111111111111111,\"#46039f\"],[0.2222222222222222,\"#7201a8\"],[0.3333333333333333,\"#9c179e\"],[0.4444444444444444,\"#bd3786\"],[0.5555555555555556,\"#d8576b\"],[0.6666666666666666,\"#ed7953\"],[0.7777777777777778,\"#fb9f3a\"],[0.8888888888888888,\"#fdca26\"],[1.0,\"#f0f921\"]]}],\"surface\":[{\"type\":\"surface\",\"colorbar\":{\"outlinewidth\":0,\"ticks\":\"\"},\"colorscale\":[[0.0,\"#0d0887\"],[0.1111111111111111,\"#46039f\"],[0.2222222222222222,\"#7201a8\"],[0.3333333333333333,\"#9c179e\"],[0.4444444444444444,\"#bd3786\"],[0.5555555555555556,\"#d8576b\"],[0.6666666666666666,\"#ed7953\"],[0.7777777777777778,\"#fb9f3a\"],[0.8888888888888888,\"#fdca26\"],[1.0,\"#f0f921\"]]}],\"mesh3d\":[{\"type\":\"mesh3d\",\"colorbar\":{\"outlinewidth\":0,\"ticks\":\"\"}}],\"scatter\":[{\"fillpattern\":{\"fillmode\":\"overlay\",\"size\":10,\"solidity\":0.2},\"type\":\"scatter\"}],\"parcoords\":[{\"type\":\"parcoords\",\"line\":{\"colorbar\":{\"outlinewidth\":0,\"ticks\":\"\"}}}],\"scatterpolargl\":[{\"type\":\"scatterpolargl\",\"marker\":{\"colorbar\":{\"outlinewidth\":0,\"ticks\":\"\"}}}],\"bar\":[{\"error_x\":{\"color\":\"#2a3f5f\"},\"error_y\":{\"color\":\"#2a3f5f\"},\"marker\":{\"line\":{\"color\":\"#E5ECF6\",\"width\":0.5},\"pattern\":{\"fillmode\":\"overlay\",\"size\":10,\"solidity\":0.2}},\"type\":\"bar\"}],\"scattergeo\":[{\"type\":\"scattergeo\",\"marker\":{\"colorbar\":{\"outlinewidth\":0,\"ticks\":\"\"}}}],\"scatterpolar\":[{\"type\":\"scatterpolar\",\"marker\":{\"colorbar\":{\"outlinewidth\":0,\"ticks\":\"\"}}}],\"histogram\":[{\"marker\":{\"pattern\":{\"fillmode\":\"overlay\",\"size\":10,\"solidity\":0.2}},\"type\":\"histogram\"}],\"scattergl\":[{\"type\":\"scattergl\",\"marker\":{\"colorbar\":{\"outlinewidth\":0,\"ticks\":\"\"}}}],\"scatter3d\":[{\"type\":\"scatter3d\",\"line\":{\"colorbar\":{\"outlinewidth\":0,\"ticks\":\"\"}},\"marker\":{\"colorbar\":{\"outlinewidth\":0,\"ticks\":\"\"}}}],\"scattermap\":[{\"type\":\"scattermap\",\"marker\":{\"colorbar\":{\"outlinewidth\":0,\"ticks\":\"\"}}}],\"scattermapbox\":[{\"type\":\"scattermapbox\",\"marker\":{\"colorbar\":{\"outlinewidth\":0,\"ticks\":\"\"}}}],\"scatterternary\":[{\"type\":\"scatterternary\",\"marker\":{\"colorbar\":{\"outlinewidth\":0,\"ticks\":\"\"}}}],\"scattercarpet\":[{\"type\":\"scattercarpet\",\"marker\":{\"colorbar\":{\"outlinewidth\":0,\"ticks\":\"\"}}}],\"carpet\":[{\"aaxis\":{\"endlinecolor\":\"#2a3f5f\",\"gridcolor\":\"white\",\"linecolor\":\"white\",\"minorgridcolor\":\"white\",\"startlinecolor\":\"#2a3f5f\"},\"baxis\":{\"endlinecolor\":\"#2a3f5f\",\"gridcolor\":\"white\",\"linecolor\":\"white\",\"minorgridcolor\":\"white\",\"startlinecolor\":\"#2a3f5f\"},\"type\":\"carpet\"}],\"table\":[{\"cells\":{\"fill\":{\"color\":\"#EBF0F8\"},\"line\":{\"color\":\"white\"}},\"header\":{\"fill\":{\"color\":\"#C8D4E3\"},\"line\":{\"color\":\"white\"}},\"type\":\"table\"}],\"barpolar\":[{\"marker\":{\"line\":{\"color\":\"#E5ECF6\",\"width\":0.5},\"pattern\":{\"fillmode\":\"overlay\",\"size\":10,\"solidity\":0.2}},\"type\":\"barpolar\"}],\"pie\":[{\"automargin\":true,\"type\":\"pie\"}]},\"layout\":{\"autotypenumbers\":\"strict\",\"colorway\":[\"#636efa\",\"#EF553B\",\"#00cc96\",\"#ab63fa\",\"#FFA15A\",\"#19d3f3\",\"#FF6692\",\"#B6E880\",\"#FF97FF\",\"#FECB52\"],\"font\":{\"color\":\"#2a3f5f\"},\"hovermode\":\"closest\",\"hoverlabel\":{\"align\":\"left\"},\"paper_bgcolor\":\"white\",\"plot_bgcolor\":\"#E5ECF6\",\"polar\":{\"bgcolor\":\"#E5ECF6\",\"angularaxis\":{\"gridcolor\":\"white\",\"linecolor\":\"white\",\"ticks\":\"\"},\"radialaxis\":{\"gridcolor\":\"white\",\"linecolor\":\"white\",\"ticks\":\"\"}},\"ternary\":{\"bgcolor\":\"#E5ECF6\",\"aaxis\":{\"gridcolor\":\"white\",\"linecolor\":\"white\",\"ticks\":\"\"},\"baxis\":{\"gridcolor\":\"white\",\"linecolor\":\"white\",\"ticks\":\"\"},\"caxis\":{\"gridcolor\":\"white\",\"linecolor\":\"white\",\"ticks\":\"\"}},\"coloraxis\":{\"colorbar\":{\"outlinewidth\":0,\"ticks\":\"\"}},\"colorscale\":{\"sequential\":[[0.0,\"#0d0887\"],[0.1111111111111111,\"#46039f\"],[0.2222222222222222,\"#7201a8\"],[0.3333333333333333,\"#9c179e\"],[0.4444444444444444,\"#bd3786\"],[0.5555555555555556,\"#d8576b\"],[0.6666666666666666,\"#ed7953\"],[0.7777777777777778,\"#fb9f3a\"],[0.8888888888888888,\"#fdca26\"],[1.0,\"#f0f921\"]],\"sequentialminus\":[[0.0,\"#0d0887\"],[0.1111111111111111,\"#46039f\"],[0.2222222222222222,\"#7201a8\"],[0.3333333333333333,\"#9c179e\"],[0.4444444444444444,\"#bd3786\"],[0.5555555555555556,\"#d8576b\"],[0.6666666666666666,\"#ed7953\"],[0.7777777777777778,\"#fb9f3a\"],[0.8888888888888888,\"#fdca26\"],[1.0,\"#f0f921\"]],\"diverging\":[[0,\"#8e0152\"],[0.1,\"#c51b7d\"],[0.2,\"#de77ae\"],[0.3,\"#f1b6da\"],[0.4,\"#fde0ef\"],[0.5,\"#f7f7f7\"],[0.6,\"#e6f5d0\"],[0.7,\"#b8e186\"],[0.8,\"#7fbc41\"],[0.9,\"#4d9221\"],[1,\"#276419\"]]},\"xaxis\":{\"gridcolor\":\"white\",\"linecolor\":\"white\",\"ticks\":\"\",\"title\":{\"standoff\":15},\"zerolinecolor\":\"white\",\"automargin\":true,\"zerolinewidth\":2},\"yaxis\":{\"gridcolor\":\"white\",\"linecolor\":\"white\",\"ticks\":\"\",\"title\":{\"standoff\":15},\"zerolinecolor\":\"white\",\"automargin\":true,\"zerolinewidth\":2},\"scene\":{\"xaxis\":{\"backgroundcolor\":\"#E5ECF6\",\"gridcolor\":\"white\",\"linecolor\":\"white\",\"showbackground\":true,\"ticks\":\"\",\"zerolinecolor\":\"white\",\"gridwidth\":2},\"yaxis\":{\"backgroundcolor\":\"#E5ECF6\",\"gridcolor\":\"white\",\"linecolor\":\"white\",\"showbackground\":true,\"ticks\":\"\",\"zerolinecolor\":\"white\",\"gridwidth\":2},\"zaxis\":{\"backgroundcolor\":\"#E5ECF6\",\"gridcolor\":\"white\",\"linecolor\":\"white\",\"showbackground\":true,\"ticks\":\"\",\"zerolinecolor\":\"white\",\"gridwidth\":2}},\"shapedefaults\":{\"line\":{\"color\":\"#2a3f5f\"}},\"annotationdefaults\":{\"arrowcolor\":\"#2a3f5f\",\"arrowhead\":0,\"arrowwidth\":1},\"geo\":{\"bgcolor\":\"white\",\"landcolor\":\"#E5ECF6\",\"subunitcolor\":\"white\",\"showland\":true,\"showlakes\":true,\"lakecolor\":\"white\"},\"title\":{\"x\":0.05},\"mapbox\":{\"style\":\"light\"}}},\"geo\":{\"domain\":{\"x\":[0.0,1.0],\"y\":[0.0,1.0]},\"center\":{},\"scope\":\"usa\"},\"coloraxis\":{\"colorbar\":{\"title\":{\"text\":\"Deaths\"}},\"colorscale\":[[0.0,\"#440154\"],[0.1111111111111111,\"#482878\"],[0.2222222222222222,\"#3e4989\"],[0.3333333333333333,\"#31688e\"],[0.4444444444444444,\"#26828e\"],[0.5555555555555556,\"#1f9e89\"],[0.6666666666666666,\"#35b779\"],[0.7777777777777778,\"#6ece58\"],[0.8888888888888888,\"#b5de2b\"],[1.0,\"#fde725\"]]},\"legend\":{\"tracegroupgap\":0},\"title\":{\"text\":\"Police Killings by US State\"}},                        {\"responsive\": true}                    ).then(function(){\n",
              "                            \n",
              "var gd = document.getElementById('f663535d-73b8-43d2-b554-00d1e2567fa2');\n",
              "var x = new MutationObserver(function (mutations, observer) {{\n",
              "        var display = window.getComputedStyle(gd).display;\n",
              "        if (!display || display === 'none') {{\n",
              "            console.log([gd, 'removed!']);\n",
              "            Plotly.purge(gd);\n",
              "            observer.disconnect();\n",
              "        }}\n",
              "}});\n",
              "\n",
              "// Listen for the removal of the full notebook cells\n",
              "var notebookContainer = gd.closest('#notebook-container');\n",
              "if (notebookContainer) {{\n",
              "    x.observe(notebookContainer, {childList: true});\n",
              "}}\n",
              "\n",
              "// Listen for the clearing of the current output cell\n",
              "var outputEl = gd.closest('.output');\n",
              "if (outputEl) {{\n",
              "    x.observe(outputEl, {childList: true});\n",
              "}}\n",
              "\n",
              "                        })                };            </script>        </div>\n",
              "</body>\n",
              "</html>"
            ]
          },
          "metadata": {}
        }
      ]
    },
    {
      "cell_type": "markdown",
      "source": [
        "Looking at the choropleth map of police killings by state, we can see that states with higher populations like California, Texas, and Florida have a higher number of police killings.\n",
        "\n",
        "When comparing this map to the poverty rate map, there seems to be some overlap. States with higher poverty rates such as Mississippi, Arkansas, and Louisiana also appear to have a relatively high number of police killings, although the relationship is not as strong as the correlation between poverty and high school graduation rates. It's important to consider that population size is a major factor in the total number of police killings, and a per capita analysis might reveal a different picture."
      ],
      "metadata": {
        "id": "i4ynKWcALLWd"
      }
    },
    {
      "cell_type": "markdown",
      "metadata": {
        "id": "37UsmVYF6hA2"
      },
      "source": [
        "# Number of Police Killings Over Time\n",
        "\n",
        "Analyse the Number of Police Killings over Time. Is there a trend in the data?"
      ]
    },
    {
      "cell_type": "code",
      "metadata": {
        "id": "nITf1IhP6gpI"
      },
      "source": [
        "df_fatalities['date'] = pd.to_datetime(df_fatalities['date'], format='%d/%m/%y', errors='coerce')"
      ],
      "execution_count": 27,
      "outputs": []
    },
    {
      "cell_type": "code",
      "metadata": {
        "id": "Q_vxjD_A7JRh",
        "colab": {
          "base_uri": "https://localhost:8080/",
          "height": 542
        },
        "outputId": "b262d0dc-5914-4984-bab5-f05aed3bc850"
      },
      "source": [
        "fatalities_over_time = df_fatalities.groupby(df_fatalities['date'].dt.to_period('M')).size().reset_index(name='Deaths')\n",
        "fatalities_over_time['date'] = fatalities_over_time['date'].astype(str)\n",
        "\n",
        "fig = px.line(fatalities_over_time,\n",
        "              x='date',\n",
        "              y='Deaths',\n",
        "              title='Number of Police Killings Over Time (Monthly)')\n",
        "fig.show()"
      ],
      "execution_count": 28,
      "outputs": [
        {
          "output_type": "display_data",
          "data": {
            "text/html": [
              "<html>\n",
              "<head><meta charset=\"utf-8\" /></head>\n",
              "<body>\n",
              "    <div>            <script src=\"https://cdnjs.cloudflare.com/ajax/libs/mathjax/2.7.5/MathJax.js?config=TeX-AMS-MML_SVG\"></script><script type=\"text/javascript\">if (window.MathJax && window.MathJax.Hub && window.MathJax.Hub.Config) {window.MathJax.Hub.Config({SVG: {font: \"STIX-Web\"}});}</script>                <script type=\"text/javascript\">window.PlotlyConfig = {MathJaxConfig: 'local'};</script>\n",
              "        <script charset=\"utf-8\" src=\"https://cdn.plot.ly/plotly-3.1.0.min.js\" integrity=\"sha256-Ei4740bWZhaUTQuD6q9yQlgVCMPBz6CZWhevDYPv93A=\" crossorigin=\"anonymous\"></script>                <div id=\"eedb1e47-6b33-4cd6-9b74-809e1952b26f\" class=\"plotly-graph-div\" style=\"height:525px; width:100%;\"></div>            <script type=\"text/javascript\">                window.PLOTLYENV=window.PLOTLYENV || {};                                if (document.getElementById(\"eedb1e47-6b33-4cd6-9b74-809e1952b26f\")) {                    Plotly.newPlot(                        \"eedb1e47-6b33-4cd6-9b74-809e1952b26f\",                        [{\"hovertemplate\":\"date=%{x}\\u003cbr\\u003eDeaths=%{y}\\u003cextra\\u003e\\u003c\\u002fextra\\u003e\",\"legendgroup\":\"\",\"line\":{\"color\":\"#636efa\",\"dash\":\"solid\"},\"marker\":{\"symbol\":\"circle\"},\"mode\":\"lines\",\"name\":\"\",\"orientation\":\"v\",\"showlegend\":false,\"x\":[\"2015-01\",\"2015-02\",\"2015-03\",\"2015-04\",\"2015-05\",\"2015-06\",\"2015-07\",\"2015-08\",\"2015-09\",\"2015-10\",\"2015-11\",\"2015-12\",\"2016-01\",\"2016-02\",\"2016-03\",\"2016-04\",\"2016-05\",\"2016-06\",\"2016-07\",\"2016-08\",\"2016-09\",\"2016-10\",\"2016-11\",\"2016-12\",\"2017-01\",\"2017-02\",\"2017-03\",\"2017-04\",\"2017-05\",\"2017-06\",\"2017-07\"],\"xaxis\":\"x\",\"y\":{\"dtype\":\"i1\",\"bdata\":\"TE1cVEdBaF5SUUxZUVZcSUpcSFJOTU5OXGRMQ0pUWA==\"},\"yaxis\":\"y\",\"type\":\"scatter\"}],                        {\"template\":{\"data\":{\"histogram2dcontour\":[{\"type\":\"histogram2dcontour\",\"colorbar\":{\"outlinewidth\":0,\"ticks\":\"\"},\"colorscale\":[[0.0,\"#0d0887\"],[0.1111111111111111,\"#46039f\"],[0.2222222222222222,\"#7201a8\"],[0.3333333333333333,\"#9c179e\"],[0.4444444444444444,\"#bd3786\"],[0.5555555555555556,\"#d8576b\"],[0.6666666666666666,\"#ed7953\"],[0.7777777777777778,\"#fb9f3a\"],[0.8888888888888888,\"#fdca26\"],[1.0,\"#f0f921\"]]}],\"choropleth\":[{\"type\":\"choropleth\",\"colorbar\":{\"outlinewidth\":0,\"ticks\":\"\"}}],\"histogram2d\":[{\"type\":\"histogram2d\",\"colorbar\":{\"outlinewidth\":0,\"ticks\":\"\"},\"colorscale\":[[0.0,\"#0d0887\"],[0.1111111111111111,\"#46039f\"],[0.2222222222222222,\"#7201a8\"],[0.3333333333333333,\"#9c179e\"],[0.4444444444444444,\"#bd3786\"],[0.5555555555555556,\"#d8576b\"],[0.6666666666666666,\"#ed7953\"],[0.7777777777777778,\"#fb9f3a\"],[0.8888888888888888,\"#fdca26\"],[1.0,\"#f0f921\"]]}],\"heatmap\":[{\"type\":\"heatmap\",\"colorbar\":{\"outlinewidth\":0,\"ticks\":\"\"},\"colorscale\":[[0.0,\"#0d0887\"],[0.1111111111111111,\"#46039f\"],[0.2222222222222222,\"#7201a8\"],[0.3333333333333333,\"#9c179e\"],[0.4444444444444444,\"#bd3786\"],[0.5555555555555556,\"#d8576b\"],[0.6666666666666666,\"#ed7953\"],[0.7777777777777778,\"#fb9f3a\"],[0.8888888888888888,\"#fdca26\"],[1.0,\"#f0f921\"]]}],\"contourcarpet\":[{\"type\":\"contourcarpet\",\"colorbar\":{\"outlinewidth\":0,\"ticks\":\"\"}}],\"contour\":[{\"type\":\"contour\",\"colorbar\":{\"outlinewidth\":0,\"ticks\":\"\"},\"colorscale\":[[0.0,\"#0d0887\"],[0.1111111111111111,\"#46039f\"],[0.2222222222222222,\"#7201a8\"],[0.3333333333333333,\"#9c179e\"],[0.4444444444444444,\"#bd3786\"],[0.5555555555555556,\"#d8576b\"],[0.6666666666666666,\"#ed7953\"],[0.7777777777777778,\"#fb9f3a\"],[0.8888888888888888,\"#fdca26\"],[1.0,\"#f0f921\"]]}],\"surface\":[{\"type\":\"surface\",\"colorbar\":{\"outlinewidth\":0,\"ticks\":\"\"},\"colorscale\":[[0.0,\"#0d0887\"],[0.1111111111111111,\"#46039f\"],[0.2222222222222222,\"#7201a8\"],[0.3333333333333333,\"#9c179e\"],[0.4444444444444444,\"#bd3786\"],[0.5555555555555556,\"#d8576b\"],[0.6666666666666666,\"#ed7953\"],[0.7777777777777778,\"#fb9f3a\"],[0.8888888888888888,\"#fdca26\"],[1.0,\"#f0f921\"]]}],\"mesh3d\":[{\"type\":\"mesh3d\",\"colorbar\":{\"outlinewidth\":0,\"ticks\":\"\"}}],\"scatter\":[{\"fillpattern\":{\"fillmode\":\"overlay\",\"size\":10,\"solidity\":0.2},\"type\":\"scatter\"}],\"parcoords\":[{\"type\":\"parcoords\",\"line\":{\"colorbar\":{\"outlinewidth\":0,\"ticks\":\"\"}}}],\"scatterpolargl\":[{\"type\":\"scatterpolargl\",\"marker\":{\"colorbar\":{\"outlinewidth\":0,\"ticks\":\"\"}}}],\"bar\":[{\"error_x\":{\"color\":\"#2a3f5f\"},\"error_y\":{\"color\":\"#2a3f5f\"},\"marker\":{\"line\":{\"color\":\"#E5ECF6\",\"width\":0.5},\"pattern\":{\"fillmode\":\"overlay\",\"size\":10,\"solidity\":0.2}},\"type\":\"bar\"}],\"scattergeo\":[{\"type\":\"scattergeo\",\"marker\":{\"colorbar\":{\"outlinewidth\":0,\"ticks\":\"\"}}}],\"scatterpolar\":[{\"type\":\"scatterpolar\",\"marker\":{\"colorbar\":{\"outlinewidth\":0,\"ticks\":\"\"}}}],\"histogram\":[{\"marker\":{\"pattern\":{\"fillmode\":\"overlay\",\"size\":10,\"solidity\":0.2}},\"type\":\"histogram\"}],\"scattergl\":[{\"type\":\"scattergl\",\"marker\":{\"colorbar\":{\"outlinewidth\":0,\"ticks\":\"\"}}}],\"scatter3d\":[{\"type\":\"scatter3d\",\"line\":{\"colorbar\":{\"outlinewidth\":0,\"ticks\":\"\"}},\"marker\":{\"colorbar\":{\"outlinewidth\":0,\"ticks\":\"\"}}}],\"scattermap\":[{\"type\":\"scattermap\",\"marker\":{\"colorbar\":{\"outlinewidth\":0,\"ticks\":\"\"}}}],\"scattermapbox\":[{\"type\":\"scattermapbox\",\"marker\":{\"colorbar\":{\"outlinewidth\":0,\"ticks\":\"\"}}}],\"scatterternary\":[{\"type\":\"scatterternary\",\"marker\":{\"colorbar\":{\"outlinewidth\":0,\"ticks\":\"\"}}}],\"scattercarpet\":[{\"type\":\"scattercarpet\",\"marker\":{\"colorbar\":{\"outlinewidth\":0,\"ticks\":\"\"}}}],\"carpet\":[{\"aaxis\":{\"endlinecolor\":\"#2a3f5f\",\"gridcolor\":\"white\",\"linecolor\":\"white\",\"minorgridcolor\":\"white\",\"startlinecolor\":\"#2a3f5f\"},\"baxis\":{\"endlinecolor\":\"#2a3f5f\",\"gridcolor\":\"white\",\"linecolor\":\"white\",\"minorgridcolor\":\"white\",\"startlinecolor\":\"#2a3f5f\"},\"type\":\"carpet\"}],\"table\":[{\"cells\":{\"fill\":{\"color\":\"#EBF0F8\"},\"line\":{\"color\":\"white\"}},\"header\":{\"fill\":{\"color\":\"#C8D4E3\"},\"line\":{\"color\":\"white\"}},\"type\":\"table\"}],\"barpolar\":[{\"marker\":{\"line\":{\"color\":\"#E5ECF6\",\"width\":0.5},\"pattern\":{\"fillmode\":\"overlay\",\"size\":10,\"solidity\":0.2}},\"type\":\"barpolar\"}],\"pie\":[{\"automargin\":true,\"type\":\"pie\"}]},\"layout\":{\"autotypenumbers\":\"strict\",\"colorway\":[\"#636efa\",\"#EF553B\",\"#00cc96\",\"#ab63fa\",\"#FFA15A\",\"#19d3f3\",\"#FF6692\",\"#B6E880\",\"#FF97FF\",\"#FECB52\"],\"font\":{\"color\":\"#2a3f5f\"},\"hovermode\":\"closest\",\"hoverlabel\":{\"align\":\"left\"},\"paper_bgcolor\":\"white\",\"plot_bgcolor\":\"#E5ECF6\",\"polar\":{\"bgcolor\":\"#E5ECF6\",\"angularaxis\":{\"gridcolor\":\"white\",\"linecolor\":\"white\",\"ticks\":\"\"},\"radialaxis\":{\"gridcolor\":\"white\",\"linecolor\":\"white\",\"ticks\":\"\"}},\"ternary\":{\"bgcolor\":\"#E5ECF6\",\"aaxis\":{\"gridcolor\":\"white\",\"linecolor\":\"white\",\"ticks\":\"\"},\"baxis\":{\"gridcolor\":\"white\",\"linecolor\":\"white\",\"ticks\":\"\"},\"caxis\":{\"gridcolor\":\"white\",\"linecolor\":\"white\",\"ticks\":\"\"}},\"coloraxis\":{\"colorbar\":{\"outlinewidth\":0,\"ticks\":\"\"}},\"colorscale\":{\"sequential\":[[0.0,\"#0d0887\"],[0.1111111111111111,\"#46039f\"],[0.2222222222222222,\"#7201a8\"],[0.3333333333333333,\"#9c179e\"],[0.4444444444444444,\"#bd3786\"],[0.5555555555555556,\"#d8576b\"],[0.6666666666666666,\"#ed7953\"],[0.7777777777777778,\"#fb9f3a\"],[0.8888888888888888,\"#fdca26\"],[1.0,\"#f0f921\"]],\"sequentialminus\":[[0.0,\"#0d0887\"],[0.1111111111111111,\"#46039f\"],[0.2222222222222222,\"#7201a8\"],[0.3333333333333333,\"#9c179e\"],[0.4444444444444444,\"#bd3786\"],[0.5555555555555556,\"#d8576b\"],[0.6666666666666666,\"#ed7953\"],[0.7777777777777778,\"#fb9f3a\"],[0.8888888888888888,\"#fdca26\"],[1.0,\"#f0f921\"]],\"diverging\":[[0,\"#8e0152\"],[0.1,\"#c51b7d\"],[0.2,\"#de77ae\"],[0.3,\"#f1b6da\"],[0.4,\"#fde0ef\"],[0.5,\"#f7f7f7\"],[0.6,\"#e6f5d0\"],[0.7,\"#b8e186\"],[0.8,\"#7fbc41\"],[0.9,\"#4d9221\"],[1,\"#276419\"]]},\"xaxis\":{\"gridcolor\":\"white\",\"linecolor\":\"white\",\"ticks\":\"\",\"title\":{\"standoff\":15},\"zerolinecolor\":\"white\",\"automargin\":true,\"zerolinewidth\":2},\"yaxis\":{\"gridcolor\":\"white\",\"linecolor\":\"white\",\"ticks\":\"\",\"title\":{\"standoff\":15},\"zerolinecolor\":\"white\",\"automargin\":true,\"zerolinewidth\":2},\"scene\":{\"xaxis\":{\"backgroundcolor\":\"#E5ECF6\",\"gridcolor\":\"white\",\"linecolor\":\"white\",\"showbackground\":true,\"ticks\":\"\",\"zerolinecolor\":\"white\",\"gridwidth\":2},\"yaxis\":{\"backgroundcolor\":\"#E5ECF6\",\"gridcolor\":\"white\",\"linecolor\":\"white\",\"showbackground\":true,\"ticks\":\"\",\"zerolinecolor\":\"white\",\"gridwidth\":2},\"zaxis\":{\"backgroundcolor\":\"#E5ECF6\",\"gridcolor\":\"white\",\"linecolor\":\"white\",\"showbackground\":true,\"ticks\":\"\",\"zerolinecolor\":\"white\",\"gridwidth\":2}},\"shapedefaults\":{\"line\":{\"color\":\"#2a3f5f\"}},\"annotationdefaults\":{\"arrowcolor\":\"#2a3f5f\",\"arrowhead\":0,\"arrowwidth\":1},\"geo\":{\"bgcolor\":\"white\",\"landcolor\":\"#E5ECF6\",\"subunitcolor\":\"white\",\"showland\":true,\"showlakes\":true,\"lakecolor\":\"white\"},\"title\":{\"x\":0.05},\"mapbox\":{\"style\":\"light\"}}},\"xaxis\":{\"anchor\":\"y\",\"domain\":[0.0,1.0],\"title\":{\"text\":\"date\"}},\"yaxis\":{\"anchor\":\"x\",\"domain\":[0.0,1.0],\"title\":{\"text\":\"Deaths\"}},\"legend\":{\"tracegroupgap\":0},\"title\":{\"text\":\"Number of Police Killings Over Time (Monthly)\"}},                        {\"responsive\": true}                    ).then(function(){\n",
              "                            \n",
              "var gd = document.getElementById('eedb1e47-6b33-4cd6-9b74-809e1952b26f');\n",
              "var x = new MutationObserver(function (mutations, observer) {{\n",
              "        var display = window.getComputedStyle(gd).display;\n",
              "        if (!display || display === 'none') {{\n",
              "            console.log([gd, 'removed!']);\n",
              "            Plotly.purge(gd);\n",
              "            observer.disconnect();\n",
              "        }}\n",
              "}});\n",
              "\n",
              "// Listen for the removal of the full notebook cells\n",
              "var notebookContainer = gd.closest('#notebook-container');\n",
              "if (notebookContainer) {{\n",
              "    x.observe(notebookContainer, {childList: true});\n",
              "}}\n",
              "\n",
              "// Listen for the clearing of the current output cell\n",
              "var outputEl = gd.closest('.output');\n",
              "if (outputEl) {{\n",
              "    x.observe(outputEl, {childList: true});\n",
              "}}\n",
              "\n",
              "                        })                };            </script>        </div>\n",
              "</body>\n",
              "</html>"
            ]
          },
          "metadata": {}
        }
      ]
    },
    {
      "cell_type": "markdown",
      "source": [
        "The number of killings is not steady — it rises and falls significantly across months. Peaks occur around **mid-2015 (July \\~104 deaths)**, **early 2016 (March \\~92 deaths)**, and **early 2017 (February \\~100 deaths)**. Lows occur in **mid-2015 (June \\~65 deaths)**, **spring 2016 (April \\~73 deaths)**, and **spring 2017 (April \\~67 deaths)**.\n",
        "\n",
        "Over the \\~2.5 years shown, the overall numbers hover between \\~65 and \\~105 deaths monthly. While there are sharp spikes, the average level does not show a consistent increase or decrease.\n",
        "\n",
        "There may be **seasonal cycles** — peaks in summer or early winter, and dips in spring. For example, high counts around mid-2015, mid-2016, and early 2017, with lower counts in April–June each year.\n",
        "\n",
        "The data suggests that the number of police killings in the U.S. remained **highly variable but relatively stable on average** over this period, with occasional spikes that might relate to particular events or broader conditions.\n"
      ],
      "metadata": {
        "id": "PVVZrZ4eOkfA"
      }
    },
    {
      "cell_type": "markdown",
      "metadata": {
        "id": "a433aa12"
      },
      "source": [
        "# Rate of Death by Race\n",
        "\n",
        "Find the share of each race in the top 10 cities. Contrast this with the top 10 cities of police killings to work out the rate at which people are killed by race for each city."
      ]
    },
    {
      "cell_type": "code",
      "source": [
        "# Define a consistent color mapping\n",
        "race_color_map = {\n",
        "    \"share_white\": \"lightgray\",\n",
        "    \"share_black\": \"black\",\n",
        "    \"share_native_american\": \"brown\",\n",
        "    \"share_asian\": \"orange\",\n",
        "    \"share_hispanic\": \"green\",\n",
        "    \"W\": \"lightgray\",\n",
        "    \"B\": \"black\",\n",
        "    \"N\": \"brown\",\n",
        "    \"A\": \"orange\",\n",
        "    \"H\": \"green\",\n",
        "    \"O\": \"blue\"\n",
        "}"
      ],
      "metadata": {
        "id": "fJUWdmbl3NgF"
      },
      "execution_count": 58,
      "outputs": []
    },
    {
      "cell_type": "code",
      "source": [
        "# Identify the top 10 cities with the most police killings\n",
        "top_10_cities = df_fatalities[\"city\"].value_counts().head(10).index.tolist()\n",
        "\n",
        "# Clean city names in the top_10_cities list\n",
        "cleaned_top_10_cities = [city.lower().replace(' city', '').replace(' town', '').replace(' cdp', '').replace(' ', '') for city in top_10_cities]\n",
        "\n",
        "# Clean city names in both dataframes\n",
        "df_share_race_city['cleaned_city'] = df_share_race_city['City'].str.lower().str.replace(' city', '', regex=False).str.replace(' town', '', regex=False).str.replace(' cdp', '', regex=False).str.replace(' ', '', regex=False)\n",
        "df_fatalities['cleaned_city'] = df_fatalities['city'].str.lower().str.replace(' city', '', regex=False).str.replace(' town', '', regex=False).str.replace(' cdp', '', regex=False).str.replace(' ', '', regex=False)\n",
        "\n",
        "# Filter the race share data for the top 10 cities using cleaned city names\n",
        "df_share_race_top_cities = df_share_race_city[df_share_race_city[\"cleaned_city\"].isin(cleaned_top_10_cities)]\n",
        "\n",
        "cols = ['share_white', 'share_black', 'share_native_american', 'share_asian', 'share_hispanic']\n",
        "\n",
        "# Calculate the average share of each race in the top 10 cities\n",
        "df_race_distribution_top_cities = df_share_race_top_cities.groupby('cleaned_city')[cols].mean().reset_index()\n",
        "\n",
        "# Normalize so that each city sums to 100%\n",
        "df_race_distribution_top_cities[cols] = (\n",
        "    df_race_distribution_top_cities[cols]\n",
        "    .div(df_race_distribution_top_cities[cols].sum(axis=1), axis=0) * 100\n",
        ")\n",
        "\n",
        "# Melt the DataFrame for plotting\n",
        "df_melted_race_share = df_race_distribution_top_cities.melt(\n",
        "    id_vars='cleaned_city',\n",
        "    value_vars=cols,\n",
        "    var_name='Race',\n",
        "    value_name='Share'\n",
        ")\n",
        "\n",
        "# Chart for Race Share in Top 10 Cities\n",
        "fig_race_share = px.bar(\n",
        "    df_melted_race_share,\n",
        "    x=\"cleaned_city\",\n",
        "    y=\"Share\",\n",
        "    color=\"Race\",\n",
        "    title=\"Share of Each Race in Top 10 Cities with Most Police Killings\",\n",
        "    color_discrete_map=race_color_map,\n",
        "    width = 1500,\n",
        "    height = 600\n",
        ")\n",
        "fig_race_share.show()\n",
        "\n",
        "\n",
        "# Filter the fatalities data for the top 10 cities using cleaned city names\n",
        "df_fatalities_top_cities = df_fatalities[df_fatalities[\"cleaned_city\"].isin(cleaned_top_10_cities)]\n",
        "\n",
        "# Count deaths by race in the top 10 cities\n",
        "df_deaths_by_race_top_cities = df_fatalities_top_cities.groupby([\"cleaned_city\", \"race\"]).size().reset_index(name=\"Deaths\")\n",
        "\n",
        "# Chart for Deaths by Race in Top 10 Cities\n",
        "fig_deaths_by_race = px.bar(\n",
        "    df_deaths_by_race_top_cities,\n",
        "    x=\"cleaned_city\",\n",
        "    y=\"Deaths\",\n",
        "    color=\"race\",\n",
        "    title=\"Number of Deaths by Race in Top 10 Cities with Most Police Killings\",\n",
        "    color_discrete_map=race_color_map,\n",
        "    width = 1500,\n",
        "    height = 600\n",
        ")\n",
        "fig_deaths_by_race.show()"
      ],
      "metadata": {
        "colab": {
          "base_uri": "https://localhost:8080/",
          "height": 1000
        },
        "id": "rhabZQeZ1TXW",
        "outputId": "942cc33f-c79b-47ba-e299-8e39b45b808d"
      },
      "execution_count": 59,
      "outputs": [
        {
          "output_type": "display_data",
          "data": {
            "text/html": [
              "<html>\n",
              "<head><meta charset=\"utf-8\" /></head>\n",
              "<body>\n",
              "    <div>            <script src=\"https://cdnjs.cloudflare.com/ajax/libs/mathjax/2.7.5/MathJax.js?config=TeX-AMS-MML_SVG\"></script><script type=\"text/javascript\">if (window.MathJax && window.MathJax.Hub && window.MathJax.Hub.Config) {window.MathJax.Hub.Config({SVG: {font: \"STIX-Web\"}});}</script>                <script type=\"text/javascript\">window.PlotlyConfig = {MathJaxConfig: 'local'};</script>\n",
              "        <script charset=\"utf-8\" src=\"https://cdn.plot.ly/plotly-3.1.0.min.js\" integrity=\"sha256-Ei4740bWZhaUTQuD6q9yQlgVCMPBz6CZWhevDYPv93A=\" crossorigin=\"anonymous\"></script>                <div id=\"ce325edc-6f2c-4d93-9fe9-ea11c31aa2f4\" class=\"plotly-graph-div\" style=\"height:600px; width:1500px;\"></div>            <script type=\"text/javascript\">                window.PLOTLYENV=window.PLOTLYENV || {};                                if (document.getElementById(\"ce325edc-6f2c-4d93-9fe9-ea11c31aa2f4\")) {                    Plotly.newPlot(                        \"ce325edc-6f2c-4d93-9fe9-ea11c31aa2f4\",                        [{\"hovertemplate\":\"Race=share_white\\u003cbr\\u003ecleaned_city=%{x}\\u003cbr\\u003eShare=%{y}\\u003cextra\\u003e\\u003c\\u002fextra\\u003e\",\"legendgroup\":\"share_white\",\"marker\":{\"color\":\"lightgray\",\"pattern\":{\"shape\":\"\"}},\"name\":\"share_white\",\"orientation\":\"v\",\"showlegend\":true,\"textposition\":\"auto\",\"x\":[\"austin\",\"chicago\",\"columbus\",\"houston\",\"lasvegas\",\"losangeles\",\"miami\",\"phoenix\",\"sanantonio\",\"st.louis\"],\"xaxis\":\"x\",\"y\":{\"dtype\":\"f8\",\"bdata\":\"4xnPeMazVEAVxOQKYvJDQAS\\u002fTWH9cFNA6t3uuoDWU0BmI4fxUUFIQPW4GfvDYENAfHktCrM2UUC27q3nft9QQPYZ2CQrdlBA2PbaANZaUEA=\"},\"yaxis\":\"y\",\"type\":\"bar\"},{\"hovertemplate\":\"Race=share_black\\u003cbr\\u003ecleaned_city=%{x}\\u003cbr\\u003eShare=%{y}\\u003cextra\\u003e\\u003c\\u002fextra\\u003e\",\"legendgroup\":\"share_black\",\"marker\":{\"color\":\"black\",\"pattern\":{\"shape\":\"\"}},\"name\":\"share_black\",\"orientation\":\"v\",\"showlegend\":true,\"textposition\":\"auto\",\"x\":[\"austin\",\"chicago\",\"columbus\",\"houston\",\"lasvegas\",\"losangeles\",\"miami\",\"phoenix\",\"sanantonio\",\"st.louis\"],\"xaxis\":\"x\",\"y\":{\"dtype\":\"f8\",\"bdata\":\"QbRMEC0TBECqqqqqqio9QDdFfG37GSdA5xhHfAXCI0C4+pYszNwTQAUZF2RckBlAaxoSUs87DUAwu0jNl6cKQJThEVEq0f8\\u002fgi2sEzopOkA=\"},\"yaxis\":\"y\",\"type\":\"bar\"},{\"hovertemplate\":\"Race=share_native_american\\u003cbr\\u003ecleaned_city=%{x}\\u003cbr\\u003eShare=%{y}\\u003cextra\\u003e\\u003c\\u002fextra\\u003e\",\"legendgroup\":\"share_native_american\",\"marker\":{\"color\":\"brown\",\"pattern\":{\"shape\":\"\"}},\"name\":\"share_native_american\",\"orientation\":\"v\",\"showlegend\":true,\"textposition\":\"auto\",\"x\":[\"austin\",\"chicago\",\"columbus\",\"houston\",\"lasvegas\",\"losangeles\",\"miami\",\"phoenix\",\"sanantonio\",\"st.louis\"],\"xaxis\":\"x\",\"y\":{\"dtype\":\"f8\",\"bdata\":\"uR1DbseQ2z\\u002fwJxJOaV7cP\\u002fDYGAsjfOU\\u002fvEvG20IJ9D8ckWKovxzxPwlH5gQ8n84\\u002f+RNFg79WC0Awu0jNl6f6Py5pzbzf3Nc\\u002fUzo2ZuVmDUA=\"},\"yaxis\":\"y\",\"type\":\"bar\"},{\"hovertemplate\":\"Race=share_asian\\u003cbr\\u003ecleaned_city=%{x}\\u003cbr\\u003eShare=%{y}\\u003cextra\\u003e\\u003c\\u002fextra\\u003e\",\"legendgroup\":\"share_asian\",\"marker\":{\"color\":\"orange\",\"pattern\":{\"shape\":\"\"}},\"name\":\"share_asian\",\"orientation\":\"v\",\"showlegend\":true,\"textposition\":\"auto\",\"x\":[\"austin\",\"chicago\",\"columbus\",\"houston\",\"lasvegas\",\"losangeles\",\"miami\",\"phoenix\",\"sanantonio\",\"st.louis\"],\"xaxis\":\"x\",\"y\":{\"dtype\":\"f8\",\"bdata\":\"1gN09QBd\\u002fT91e6xl6IATQIvENiaG3fk\\u002faoDJXU3s8j9kNXuS72MFQPd58UQ65Q5Ax7MffGKS1D+I4HRyezUAQL3\\u002fG\\u002fhjC+s\\u002fFFT5rW6S8D8=\"},\"yaxis\":\"y\",\"type\":\"bar\"},{\"hovertemplate\":\"Race=share_hispanic\\u003cbr\\u003ecleaned_city=%{x}\\u003cbr\\u003eShare=%{y}\\u003cextra\\u003e\\u003c\\u002fextra\\u003e\",\"legendgroup\":\"share_hispanic\",\"marker\":{\"color\":\"green\",\"pattern\":{\"shape\":\"\"}},\"name\":\"share_hispanic\",\"orientation\":\"v\",\"showlegend\":true,\"textposition\":\"auto\",\"x\":[\"austin\",\"chicago\",\"columbus\",\"houston\",\"lasvegas\",\"losangeles\",\"miami\",\"phoenix\",\"sanantonio\",\"st.louis\"],\"xaxis\":\"x\",\"y\":{\"dtype\":\"f8\",\"bdata\":\"bmpTm9rUKECsZeiA3Z45QIBcnZKmyiBAS\\u002f4PpUKrIEBkNXuS72NFQANmD5g9YElAeLWucpjAN0D+BXx86Hs5QGlk2ihy8j5AdNQMilKrDUA=\"},\"yaxis\":\"y\",\"type\":\"bar\"}],                        {\"template\":{\"data\":{\"histogram2dcontour\":[{\"type\":\"histogram2dcontour\",\"colorbar\":{\"outlinewidth\":0,\"ticks\":\"\"},\"colorscale\":[[0.0,\"#0d0887\"],[0.1111111111111111,\"#46039f\"],[0.2222222222222222,\"#7201a8\"],[0.3333333333333333,\"#9c179e\"],[0.4444444444444444,\"#bd3786\"],[0.5555555555555556,\"#d8576b\"],[0.6666666666666666,\"#ed7953\"],[0.7777777777777778,\"#fb9f3a\"],[0.8888888888888888,\"#fdca26\"],[1.0,\"#f0f921\"]]}],\"choropleth\":[{\"type\":\"choropleth\",\"colorbar\":{\"outlinewidth\":0,\"ticks\":\"\"}}],\"histogram2d\":[{\"type\":\"histogram2d\",\"colorbar\":{\"outlinewidth\":0,\"ticks\":\"\"},\"colorscale\":[[0.0,\"#0d0887\"],[0.1111111111111111,\"#46039f\"],[0.2222222222222222,\"#7201a8\"],[0.3333333333333333,\"#9c179e\"],[0.4444444444444444,\"#bd3786\"],[0.5555555555555556,\"#d8576b\"],[0.6666666666666666,\"#ed7953\"],[0.7777777777777778,\"#fb9f3a\"],[0.8888888888888888,\"#fdca26\"],[1.0,\"#f0f921\"]]}],\"heatmap\":[{\"type\":\"heatmap\",\"colorbar\":{\"outlinewidth\":0,\"ticks\":\"\"},\"colorscale\":[[0.0,\"#0d0887\"],[0.1111111111111111,\"#46039f\"],[0.2222222222222222,\"#7201a8\"],[0.3333333333333333,\"#9c179e\"],[0.4444444444444444,\"#bd3786\"],[0.5555555555555556,\"#d8576b\"],[0.6666666666666666,\"#ed7953\"],[0.7777777777777778,\"#fb9f3a\"],[0.8888888888888888,\"#fdca26\"],[1.0,\"#f0f921\"]]}],\"contourcarpet\":[{\"type\":\"contourcarpet\",\"colorbar\":{\"outlinewidth\":0,\"ticks\":\"\"}}],\"contour\":[{\"type\":\"contour\",\"colorbar\":{\"outlinewidth\":0,\"ticks\":\"\"},\"colorscale\":[[0.0,\"#0d0887\"],[0.1111111111111111,\"#46039f\"],[0.2222222222222222,\"#7201a8\"],[0.3333333333333333,\"#9c179e\"],[0.4444444444444444,\"#bd3786\"],[0.5555555555555556,\"#d8576b\"],[0.6666666666666666,\"#ed7953\"],[0.7777777777777778,\"#fb9f3a\"],[0.8888888888888888,\"#fdca26\"],[1.0,\"#f0f921\"]]}],\"surface\":[{\"type\":\"surface\",\"colorbar\":{\"outlinewidth\":0,\"ticks\":\"\"},\"colorscale\":[[0.0,\"#0d0887\"],[0.1111111111111111,\"#46039f\"],[0.2222222222222222,\"#7201a8\"],[0.3333333333333333,\"#9c179e\"],[0.4444444444444444,\"#bd3786\"],[0.5555555555555556,\"#d8576b\"],[0.6666666666666666,\"#ed7953\"],[0.7777777777777778,\"#fb9f3a\"],[0.8888888888888888,\"#fdca26\"],[1.0,\"#f0f921\"]]}],\"mesh3d\":[{\"type\":\"mesh3d\",\"colorbar\":{\"outlinewidth\":0,\"ticks\":\"\"}}],\"scatter\":[{\"fillpattern\":{\"fillmode\":\"overlay\",\"size\":10,\"solidity\":0.2},\"type\":\"scatter\"}],\"parcoords\":[{\"type\":\"parcoords\",\"line\":{\"colorbar\":{\"outlinewidth\":0,\"ticks\":\"\"}}}],\"scatterpolargl\":[{\"type\":\"scatterpolargl\",\"marker\":{\"colorbar\":{\"outlinewidth\":0,\"ticks\":\"\"}}}],\"bar\":[{\"error_x\":{\"color\":\"#2a3f5f\"},\"error_y\":{\"color\":\"#2a3f5f\"},\"marker\":{\"line\":{\"color\":\"#E5ECF6\",\"width\":0.5},\"pattern\":{\"fillmode\":\"overlay\",\"size\":10,\"solidity\":0.2}},\"type\":\"bar\"}],\"scattergeo\":[{\"type\":\"scattergeo\",\"marker\":{\"colorbar\":{\"outlinewidth\":0,\"ticks\":\"\"}}}],\"scatterpolar\":[{\"type\":\"scatterpolar\",\"marker\":{\"colorbar\":{\"outlinewidth\":0,\"ticks\":\"\"}}}],\"histogram\":[{\"marker\":{\"pattern\":{\"fillmode\":\"overlay\",\"size\":10,\"solidity\":0.2}},\"type\":\"histogram\"}],\"scattergl\":[{\"type\":\"scattergl\",\"marker\":{\"colorbar\":{\"outlinewidth\":0,\"ticks\":\"\"}}}],\"scatter3d\":[{\"type\":\"scatter3d\",\"line\":{\"colorbar\":{\"outlinewidth\":0,\"ticks\":\"\"}},\"marker\":{\"colorbar\":{\"outlinewidth\":0,\"ticks\":\"\"}}}],\"scattermap\":[{\"type\":\"scattermap\",\"marker\":{\"colorbar\":{\"outlinewidth\":0,\"ticks\":\"\"}}}],\"scattermapbox\":[{\"type\":\"scattermapbox\",\"marker\":{\"colorbar\":{\"outlinewidth\":0,\"ticks\":\"\"}}}],\"scatterternary\":[{\"type\":\"scatterternary\",\"marker\":{\"colorbar\":{\"outlinewidth\":0,\"ticks\":\"\"}}}],\"scattercarpet\":[{\"type\":\"scattercarpet\",\"marker\":{\"colorbar\":{\"outlinewidth\":0,\"ticks\":\"\"}}}],\"carpet\":[{\"aaxis\":{\"endlinecolor\":\"#2a3f5f\",\"gridcolor\":\"white\",\"linecolor\":\"white\",\"minorgridcolor\":\"white\",\"startlinecolor\":\"#2a3f5f\"},\"baxis\":{\"endlinecolor\":\"#2a3f5f\",\"gridcolor\":\"white\",\"linecolor\":\"white\",\"minorgridcolor\":\"white\",\"startlinecolor\":\"#2a3f5f\"},\"type\":\"carpet\"}],\"table\":[{\"cells\":{\"fill\":{\"color\":\"#EBF0F8\"},\"line\":{\"color\":\"white\"}},\"header\":{\"fill\":{\"color\":\"#C8D4E3\"},\"line\":{\"color\":\"white\"}},\"type\":\"table\"}],\"barpolar\":[{\"marker\":{\"line\":{\"color\":\"#E5ECF6\",\"width\":0.5},\"pattern\":{\"fillmode\":\"overlay\",\"size\":10,\"solidity\":0.2}},\"type\":\"barpolar\"}],\"pie\":[{\"automargin\":true,\"type\":\"pie\"}]},\"layout\":{\"autotypenumbers\":\"strict\",\"colorway\":[\"#636efa\",\"#EF553B\",\"#00cc96\",\"#ab63fa\",\"#FFA15A\",\"#19d3f3\",\"#FF6692\",\"#B6E880\",\"#FF97FF\",\"#FECB52\"],\"font\":{\"color\":\"#2a3f5f\"},\"hovermode\":\"closest\",\"hoverlabel\":{\"align\":\"left\"},\"paper_bgcolor\":\"white\",\"plot_bgcolor\":\"#E5ECF6\",\"polar\":{\"bgcolor\":\"#E5ECF6\",\"angularaxis\":{\"gridcolor\":\"white\",\"linecolor\":\"white\",\"ticks\":\"\"},\"radialaxis\":{\"gridcolor\":\"white\",\"linecolor\":\"white\",\"ticks\":\"\"}},\"ternary\":{\"bgcolor\":\"#E5ECF6\",\"aaxis\":{\"gridcolor\":\"white\",\"linecolor\":\"white\",\"ticks\":\"\"},\"baxis\":{\"gridcolor\":\"white\",\"linecolor\":\"white\",\"ticks\":\"\"},\"caxis\":{\"gridcolor\":\"white\",\"linecolor\":\"white\",\"ticks\":\"\"}},\"coloraxis\":{\"colorbar\":{\"outlinewidth\":0,\"ticks\":\"\"}},\"colorscale\":{\"sequential\":[[0.0,\"#0d0887\"],[0.1111111111111111,\"#46039f\"],[0.2222222222222222,\"#7201a8\"],[0.3333333333333333,\"#9c179e\"],[0.4444444444444444,\"#bd3786\"],[0.5555555555555556,\"#d8576b\"],[0.6666666666666666,\"#ed7953\"],[0.7777777777777778,\"#fb9f3a\"],[0.8888888888888888,\"#fdca26\"],[1.0,\"#f0f921\"]],\"sequentialminus\":[[0.0,\"#0d0887\"],[0.1111111111111111,\"#46039f\"],[0.2222222222222222,\"#7201a8\"],[0.3333333333333333,\"#9c179e\"],[0.4444444444444444,\"#bd3786\"],[0.5555555555555556,\"#d8576b\"],[0.6666666666666666,\"#ed7953\"],[0.7777777777777778,\"#fb9f3a\"],[0.8888888888888888,\"#fdca26\"],[1.0,\"#f0f921\"]],\"diverging\":[[0,\"#8e0152\"],[0.1,\"#c51b7d\"],[0.2,\"#de77ae\"],[0.3,\"#f1b6da\"],[0.4,\"#fde0ef\"],[0.5,\"#f7f7f7\"],[0.6,\"#e6f5d0\"],[0.7,\"#b8e186\"],[0.8,\"#7fbc41\"],[0.9,\"#4d9221\"],[1,\"#276419\"]]},\"xaxis\":{\"gridcolor\":\"white\",\"linecolor\":\"white\",\"ticks\":\"\",\"title\":{\"standoff\":15},\"zerolinecolor\":\"white\",\"automargin\":true,\"zerolinewidth\":2},\"yaxis\":{\"gridcolor\":\"white\",\"linecolor\":\"white\",\"ticks\":\"\",\"title\":{\"standoff\":15},\"zerolinecolor\":\"white\",\"automargin\":true,\"zerolinewidth\":2},\"scene\":{\"xaxis\":{\"backgroundcolor\":\"#E5ECF6\",\"gridcolor\":\"white\",\"linecolor\":\"white\",\"showbackground\":true,\"ticks\":\"\",\"zerolinecolor\":\"white\",\"gridwidth\":2},\"yaxis\":{\"backgroundcolor\":\"#E5ECF6\",\"gridcolor\":\"white\",\"linecolor\":\"white\",\"showbackground\":true,\"ticks\":\"\",\"zerolinecolor\":\"white\",\"gridwidth\":2},\"zaxis\":{\"backgroundcolor\":\"#E5ECF6\",\"gridcolor\":\"white\",\"linecolor\":\"white\",\"showbackground\":true,\"ticks\":\"\",\"zerolinecolor\":\"white\",\"gridwidth\":2}},\"shapedefaults\":{\"line\":{\"color\":\"#2a3f5f\"}},\"annotationdefaults\":{\"arrowcolor\":\"#2a3f5f\",\"arrowhead\":0,\"arrowwidth\":1},\"geo\":{\"bgcolor\":\"white\",\"landcolor\":\"#E5ECF6\",\"subunitcolor\":\"white\",\"showland\":true,\"showlakes\":true,\"lakecolor\":\"white\"},\"title\":{\"x\":0.05},\"mapbox\":{\"style\":\"light\"}}},\"xaxis\":{\"anchor\":\"y\",\"domain\":[0.0,1.0],\"title\":{\"text\":\"cleaned_city\"}},\"yaxis\":{\"anchor\":\"x\",\"domain\":[0.0,1.0],\"title\":{\"text\":\"Share\"}},\"legend\":{\"title\":{\"text\":\"Race\"},\"tracegroupgap\":0},\"title\":{\"text\":\"Share of Each Race in Top 10 Cities with Most Police Killings\"},\"barmode\":\"relative\",\"height\":600,\"width\":1500},                        {\"responsive\": true}                    ).then(function(){\n",
              "                            \n",
              "var gd = document.getElementById('ce325edc-6f2c-4d93-9fe9-ea11c31aa2f4');\n",
              "var x = new MutationObserver(function (mutations, observer) {{\n",
              "        var display = window.getComputedStyle(gd).display;\n",
              "        if (!display || display === 'none') {{\n",
              "            console.log([gd, 'removed!']);\n",
              "            Plotly.purge(gd);\n",
              "            observer.disconnect();\n",
              "        }}\n",
              "}});\n",
              "\n",
              "// Listen for the removal of the full notebook cells\n",
              "var notebookContainer = gd.closest('#notebook-container');\n",
              "if (notebookContainer) {{\n",
              "    x.observe(notebookContainer, {childList: true});\n",
              "}}\n",
              "\n",
              "// Listen for the clearing of the current output cell\n",
              "var outputEl = gd.closest('.output');\n",
              "if (outputEl) {{\n",
              "    x.observe(outputEl, {childList: true});\n",
              "}}\n",
              "\n",
              "                        })                };            </script>        </div>\n",
              "</body>\n",
              "</html>"
            ]
          },
          "metadata": {}
        },
        {
          "output_type": "display_data",
          "data": {
            "text/html": [
              "<html>\n",
              "<head><meta charset=\"utf-8\" /></head>\n",
              "<body>\n",
              "    <div>            <script src=\"https://cdnjs.cloudflare.com/ajax/libs/mathjax/2.7.5/MathJax.js?config=TeX-AMS-MML_SVG\"></script><script type=\"text/javascript\">if (window.MathJax && window.MathJax.Hub && window.MathJax.Hub.Config) {window.MathJax.Hub.Config({SVG: {font: \"STIX-Web\"}});}</script>                <script type=\"text/javascript\">window.PlotlyConfig = {MathJaxConfig: 'local'};</script>\n",
              "        <script charset=\"utf-8\" src=\"https://cdn.plot.ly/plotly-3.1.0.min.js\" integrity=\"sha256-Ei4740bWZhaUTQuD6q9yQlgVCMPBz6CZWhevDYPv93A=\" crossorigin=\"anonymous\"></script>                <div id=\"fdd8756c-73a0-4cd8-ab66-422f800d8024\" class=\"plotly-graph-div\" style=\"height:600px; width:1500px;\"></div>            <script type=\"text/javascript\">                window.PLOTLYENV=window.PLOTLYENV || {};                                if (document.getElementById(\"fdd8756c-73a0-4cd8-ab66-422f800d8024\")) {                    Plotly.newPlot(                        \"fdd8756c-73a0-4cd8-ab66-422f800d8024\",                        [{\"hovertemplate\":\"race=B\\u003cbr\\u003ecleaned_city=%{x}\\u003cbr\\u003eDeaths=%{y}\\u003cextra\\u003e\\u003c\\u002fextra\\u003e\",\"legendgroup\":\"B\",\"marker\":{\"color\":\"black\",\"pattern\":{\"shape\":\"\"}},\"name\":\"B\",\"orientation\":\"v\",\"showlegend\":true,\"textposition\":\"auto\",\"x\":[\"austin\",\"chicago\",\"columbus\",\"houston\",\"lasvegas\",\"losangeles\",\"miami\",\"phoenix\",\"sanantonio\",\"st.louis\"],\"xaxis\":\"x\",\"y\":{\"dtype\":\"i1\",\"bdata\":\"AxULDwMKCAIDCw==\"},\"yaxis\":\"y\",\"type\":\"bar\"},{\"hovertemplate\":\"race=H\\u003cbr\\u003ecleaned_city=%{x}\\u003cbr\\u003eDeaths=%{y}\\u003cextra\\u003e\\u003c\\u002fextra\\u003e\",\"legendgroup\":\"H\",\"marker\":{\"color\":\"green\",\"pattern\":{\"shape\":\"\"}},\"name\":\"H\",\"orientation\":\"v\",\"showlegend\":true,\"textposition\":\"auto\",\"x\":[\"austin\",\"chicago\",\"houston\",\"lasvegas\",\"losangeles\",\"miami\",\"phoenix\",\"sanantonio\"],\"xaxis\":\"x\",\"y\":{\"dtype\":\"i1\",\"bdata\":\"AgEGBRMGCww=\"},\"yaxis\":\"y\",\"type\":\"bar\"},{\"hovertemplate\":\"race=W\\u003cbr\\u003ecleaned_city=%{x}\\u003cbr\\u003eDeaths=%{y}\\u003cextra\\u003e\\u003c\\u002fextra\\u003e\",\"legendgroup\":\"W\",\"marker\":{\"color\":\"lightgray\",\"pattern\":{\"shape\":\"\"}},\"name\":\"W\",\"orientation\":\"v\",\"showlegend\":true,\"textposition\":\"auto\",\"x\":[\"austin\",\"chicago\",\"columbus\",\"houston\",\"lasvegas\",\"losangeles\",\"miami\",\"phoenix\",\"sanantonio\",\"st.louis\"],\"xaxis\":\"x\",\"y\":{\"dtype\":\"i1\",\"bdata\":\"DQIGAwkGAwwDAw==\"},\"yaxis\":\"y\",\"type\":\"bar\"},{\"hovertemplate\":\"race=O\\u003cbr\\u003ecleaned_city=%{x}\\u003cbr\\u003eDeaths=%{y}\\u003cextra\\u003e\\u003c\\u002fextra\\u003e\",\"legendgroup\":\"O\",\"marker\":{\"color\":\"blue\",\"pattern\":{\"shape\":\"\"}},\"name\":\"O\",\"orientation\":\"v\",\"showlegend\":true,\"textposition\":\"auto\",\"x\":[\"chicago\",\"columbus\",\"houston\",\"lasvegas\",\"losangeles\",\"miami\",\"phoenix\",\"sanantonio\",\"st.louis\"],\"xaxis\":\"x\",\"y\":{\"dtype\":\"i1\",\"bdata\":\"AQIBBAMBAwIB\"},\"yaxis\":\"y\",\"type\":\"bar\"},{\"hovertemplate\":\"race=A\\u003cbr\\u003ecleaned_city=%{x}\\u003cbr\\u003eDeaths=%{y}\\u003cextra\\u003e\\u003c\\u002fextra\\u003e\",\"legendgroup\":\"A\",\"marker\":{\"color\":\"orange\",\"pattern\":{\"shape\":\"\"}},\"name\":\"A\",\"orientation\":\"v\",\"showlegend\":true,\"textposition\":\"auto\",\"x\":[\"houston\",\"losangeles\"],\"xaxis\":\"x\",\"y\":{\"dtype\":\"i1\",\"bdata\":\"AQE=\"},\"yaxis\":\"y\",\"type\":\"bar\"},{\"hovertemplate\":\"race=N\\u003cbr\\u003ecleaned_city=%{x}\\u003cbr\\u003eDeaths=%{y}\\u003cextra\\u003e\\u003c\\u002fextra\\u003e\",\"legendgroup\":\"N\",\"marker\":{\"color\":\"brown\",\"pattern\":{\"shape\":\"\"}},\"name\":\"N\",\"orientation\":\"v\",\"showlegend\":true,\"textposition\":\"auto\",\"x\":[\"houston\",\"phoenix\"],\"xaxis\":\"x\",\"y\":{\"dtype\":\"i1\",\"bdata\":\"AQM=\"},\"yaxis\":\"y\",\"type\":\"bar\"}],                        {\"template\":{\"data\":{\"histogram2dcontour\":[{\"type\":\"histogram2dcontour\",\"colorbar\":{\"outlinewidth\":0,\"ticks\":\"\"},\"colorscale\":[[0.0,\"#0d0887\"],[0.1111111111111111,\"#46039f\"],[0.2222222222222222,\"#7201a8\"],[0.3333333333333333,\"#9c179e\"],[0.4444444444444444,\"#bd3786\"],[0.5555555555555556,\"#d8576b\"],[0.6666666666666666,\"#ed7953\"],[0.7777777777777778,\"#fb9f3a\"],[0.8888888888888888,\"#fdca26\"],[1.0,\"#f0f921\"]]}],\"choropleth\":[{\"type\":\"choropleth\",\"colorbar\":{\"outlinewidth\":0,\"ticks\":\"\"}}],\"histogram2d\":[{\"type\":\"histogram2d\",\"colorbar\":{\"outlinewidth\":0,\"ticks\":\"\"},\"colorscale\":[[0.0,\"#0d0887\"],[0.1111111111111111,\"#46039f\"],[0.2222222222222222,\"#7201a8\"],[0.3333333333333333,\"#9c179e\"],[0.4444444444444444,\"#bd3786\"],[0.5555555555555556,\"#d8576b\"],[0.6666666666666666,\"#ed7953\"],[0.7777777777777778,\"#fb9f3a\"],[0.8888888888888888,\"#fdca26\"],[1.0,\"#f0f921\"]]}],\"heatmap\":[{\"type\":\"heatmap\",\"colorbar\":{\"outlinewidth\":0,\"ticks\":\"\"},\"colorscale\":[[0.0,\"#0d0887\"],[0.1111111111111111,\"#46039f\"],[0.2222222222222222,\"#7201a8\"],[0.3333333333333333,\"#9c179e\"],[0.4444444444444444,\"#bd3786\"],[0.5555555555555556,\"#d8576b\"],[0.6666666666666666,\"#ed7953\"],[0.7777777777777778,\"#fb9f3a\"],[0.8888888888888888,\"#fdca26\"],[1.0,\"#f0f921\"]]}],\"contourcarpet\":[{\"type\":\"contourcarpet\",\"colorbar\":{\"outlinewidth\":0,\"ticks\":\"\"}}],\"contour\":[{\"type\":\"contour\",\"colorbar\":{\"outlinewidth\":0,\"ticks\":\"\"},\"colorscale\":[[0.0,\"#0d0887\"],[0.1111111111111111,\"#46039f\"],[0.2222222222222222,\"#7201a8\"],[0.3333333333333333,\"#9c179e\"],[0.4444444444444444,\"#bd3786\"],[0.5555555555555556,\"#d8576b\"],[0.6666666666666666,\"#ed7953\"],[0.7777777777777778,\"#fb9f3a\"],[0.8888888888888888,\"#fdca26\"],[1.0,\"#f0f921\"]]}],\"surface\":[{\"type\":\"surface\",\"colorbar\":{\"outlinewidth\":0,\"ticks\":\"\"},\"colorscale\":[[0.0,\"#0d0887\"],[0.1111111111111111,\"#46039f\"],[0.2222222222222222,\"#7201a8\"],[0.3333333333333333,\"#9c179e\"],[0.4444444444444444,\"#bd3786\"],[0.5555555555555556,\"#d8576b\"],[0.6666666666666666,\"#ed7953\"],[0.7777777777777778,\"#fb9f3a\"],[0.8888888888888888,\"#fdca26\"],[1.0,\"#f0f921\"]]}],\"mesh3d\":[{\"type\":\"mesh3d\",\"colorbar\":{\"outlinewidth\":0,\"ticks\":\"\"}}],\"scatter\":[{\"fillpattern\":{\"fillmode\":\"overlay\",\"size\":10,\"solidity\":0.2},\"type\":\"scatter\"}],\"parcoords\":[{\"type\":\"parcoords\",\"line\":{\"colorbar\":{\"outlinewidth\":0,\"ticks\":\"\"}}}],\"scatterpolargl\":[{\"type\":\"scatterpolargl\",\"marker\":{\"colorbar\":{\"outlinewidth\":0,\"ticks\":\"\"}}}],\"bar\":[{\"error_x\":{\"color\":\"#2a3f5f\"},\"error_y\":{\"color\":\"#2a3f5f\"},\"marker\":{\"line\":{\"color\":\"#E5ECF6\",\"width\":0.5},\"pattern\":{\"fillmode\":\"overlay\",\"size\":10,\"solidity\":0.2}},\"type\":\"bar\"}],\"scattergeo\":[{\"type\":\"scattergeo\",\"marker\":{\"colorbar\":{\"outlinewidth\":0,\"ticks\":\"\"}}}],\"scatterpolar\":[{\"type\":\"scatterpolar\",\"marker\":{\"colorbar\":{\"outlinewidth\":0,\"ticks\":\"\"}}}],\"histogram\":[{\"marker\":{\"pattern\":{\"fillmode\":\"overlay\",\"size\":10,\"solidity\":0.2}},\"type\":\"histogram\"}],\"scattergl\":[{\"type\":\"scattergl\",\"marker\":{\"colorbar\":{\"outlinewidth\":0,\"ticks\":\"\"}}}],\"scatter3d\":[{\"type\":\"scatter3d\",\"line\":{\"colorbar\":{\"outlinewidth\":0,\"ticks\":\"\"}},\"marker\":{\"colorbar\":{\"outlinewidth\":0,\"ticks\":\"\"}}}],\"scattermap\":[{\"type\":\"scattermap\",\"marker\":{\"colorbar\":{\"outlinewidth\":0,\"ticks\":\"\"}}}],\"scattermapbox\":[{\"type\":\"scattermapbox\",\"marker\":{\"colorbar\":{\"outlinewidth\":0,\"ticks\":\"\"}}}],\"scatterternary\":[{\"type\":\"scatterternary\",\"marker\":{\"colorbar\":{\"outlinewidth\":0,\"ticks\":\"\"}}}],\"scattercarpet\":[{\"type\":\"scattercarpet\",\"marker\":{\"colorbar\":{\"outlinewidth\":0,\"ticks\":\"\"}}}],\"carpet\":[{\"aaxis\":{\"endlinecolor\":\"#2a3f5f\",\"gridcolor\":\"white\",\"linecolor\":\"white\",\"minorgridcolor\":\"white\",\"startlinecolor\":\"#2a3f5f\"},\"baxis\":{\"endlinecolor\":\"#2a3f5f\",\"gridcolor\":\"white\",\"linecolor\":\"white\",\"minorgridcolor\":\"white\",\"startlinecolor\":\"#2a3f5f\"},\"type\":\"carpet\"}],\"table\":[{\"cells\":{\"fill\":{\"color\":\"#EBF0F8\"},\"line\":{\"color\":\"white\"}},\"header\":{\"fill\":{\"color\":\"#C8D4E3\"},\"line\":{\"color\":\"white\"}},\"type\":\"table\"}],\"barpolar\":[{\"marker\":{\"line\":{\"color\":\"#E5ECF6\",\"width\":0.5},\"pattern\":{\"fillmode\":\"overlay\",\"size\":10,\"solidity\":0.2}},\"type\":\"barpolar\"}],\"pie\":[{\"automargin\":true,\"type\":\"pie\"}]},\"layout\":{\"autotypenumbers\":\"strict\",\"colorway\":[\"#636efa\",\"#EF553B\",\"#00cc96\",\"#ab63fa\",\"#FFA15A\",\"#19d3f3\",\"#FF6692\",\"#B6E880\",\"#FF97FF\",\"#FECB52\"],\"font\":{\"color\":\"#2a3f5f\"},\"hovermode\":\"closest\",\"hoverlabel\":{\"align\":\"left\"},\"paper_bgcolor\":\"white\",\"plot_bgcolor\":\"#E5ECF6\",\"polar\":{\"bgcolor\":\"#E5ECF6\",\"angularaxis\":{\"gridcolor\":\"white\",\"linecolor\":\"white\",\"ticks\":\"\"},\"radialaxis\":{\"gridcolor\":\"white\",\"linecolor\":\"white\",\"ticks\":\"\"}},\"ternary\":{\"bgcolor\":\"#E5ECF6\",\"aaxis\":{\"gridcolor\":\"white\",\"linecolor\":\"white\",\"ticks\":\"\"},\"baxis\":{\"gridcolor\":\"white\",\"linecolor\":\"white\",\"ticks\":\"\"},\"caxis\":{\"gridcolor\":\"white\",\"linecolor\":\"white\",\"ticks\":\"\"}},\"coloraxis\":{\"colorbar\":{\"outlinewidth\":0,\"ticks\":\"\"}},\"colorscale\":{\"sequential\":[[0.0,\"#0d0887\"],[0.1111111111111111,\"#46039f\"],[0.2222222222222222,\"#7201a8\"],[0.3333333333333333,\"#9c179e\"],[0.4444444444444444,\"#bd3786\"],[0.5555555555555556,\"#d8576b\"],[0.6666666666666666,\"#ed7953\"],[0.7777777777777778,\"#fb9f3a\"],[0.8888888888888888,\"#fdca26\"],[1.0,\"#f0f921\"]],\"sequentialminus\":[[0.0,\"#0d0887\"],[0.1111111111111111,\"#46039f\"],[0.2222222222222222,\"#7201a8\"],[0.3333333333333333,\"#9c179e\"],[0.4444444444444444,\"#bd3786\"],[0.5555555555555556,\"#d8576b\"],[0.6666666666666666,\"#ed7953\"],[0.7777777777777778,\"#fb9f3a\"],[0.8888888888888888,\"#fdca26\"],[1.0,\"#f0f921\"]],\"diverging\":[[0,\"#8e0152\"],[0.1,\"#c51b7d\"],[0.2,\"#de77ae\"],[0.3,\"#f1b6da\"],[0.4,\"#fde0ef\"],[0.5,\"#f7f7f7\"],[0.6,\"#e6f5d0\"],[0.7,\"#b8e186\"],[0.8,\"#7fbc41\"],[0.9,\"#4d9221\"],[1,\"#276419\"]]},\"xaxis\":{\"gridcolor\":\"white\",\"linecolor\":\"white\",\"ticks\":\"\",\"title\":{\"standoff\":15},\"zerolinecolor\":\"white\",\"automargin\":true,\"zerolinewidth\":2},\"yaxis\":{\"gridcolor\":\"white\",\"linecolor\":\"white\",\"ticks\":\"\",\"title\":{\"standoff\":15},\"zerolinecolor\":\"white\",\"automargin\":true,\"zerolinewidth\":2},\"scene\":{\"xaxis\":{\"backgroundcolor\":\"#E5ECF6\",\"gridcolor\":\"white\",\"linecolor\":\"white\",\"showbackground\":true,\"ticks\":\"\",\"zerolinecolor\":\"white\",\"gridwidth\":2},\"yaxis\":{\"backgroundcolor\":\"#E5ECF6\",\"gridcolor\":\"white\",\"linecolor\":\"white\",\"showbackground\":true,\"ticks\":\"\",\"zerolinecolor\":\"white\",\"gridwidth\":2},\"zaxis\":{\"backgroundcolor\":\"#E5ECF6\",\"gridcolor\":\"white\",\"linecolor\":\"white\",\"showbackground\":true,\"ticks\":\"\",\"zerolinecolor\":\"white\",\"gridwidth\":2}},\"shapedefaults\":{\"line\":{\"color\":\"#2a3f5f\"}},\"annotationdefaults\":{\"arrowcolor\":\"#2a3f5f\",\"arrowhead\":0,\"arrowwidth\":1},\"geo\":{\"bgcolor\":\"white\",\"landcolor\":\"#E5ECF6\",\"subunitcolor\":\"white\",\"showland\":true,\"showlakes\":true,\"lakecolor\":\"white\"},\"title\":{\"x\":0.05},\"mapbox\":{\"style\":\"light\"}}},\"xaxis\":{\"anchor\":\"y\",\"domain\":[0.0,1.0],\"title\":{\"text\":\"cleaned_city\"}},\"yaxis\":{\"anchor\":\"x\",\"domain\":[0.0,1.0],\"title\":{\"text\":\"Deaths\"}},\"legend\":{\"title\":{\"text\":\"race\"},\"tracegroupgap\":0},\"title\":{\"text\":\"Number of Deaths by Race in Top 10 Cities with Most Police Killings\"},\"barmode\":\"relative\",\"height\":600,\"width\":1500},                        {\"responsive\": true}                    ).then(function(){\n",
              "                            \n",
              "var gd = document.getElementById('fdd8756c-73a0-4cd8-ab66-422f800d8024');\n",
              "var x = new MutationObserver(function (mutations, observer) {{\n",
              "        var display = window.getComputedStyle(gd).display;\n",
              "        if (!display || display === 'none') {{\n",
              "            console.log([gd, 'removed!']);\n",
              "            Plotly.purge(gd);\n",
              "            observer.disconnect();\n",
              "        }}\n",
              "}});\n",
              "\n",
              "// Listen for the removal of the full notebook cells\n",
              "var notebookContainer = gd.closest('#notebook-container');\n",
              "if (notebookContainer) {{\n",
              "    x.observe(notebookContainer, {childList: true});\n",
              "}}\n",
              "\n",
              "// Listen for the clearing of the current output cell\n",
              "var outputEl = gd.closest('.output');\n",
              "if (outputEl) {{\n",
              "    x.observe(outputEl, {childList: true});\n",
              "}}\n",
              "\n",
              "                        })                };            </script>        </div>\n",
              "</body>\n",
              "</html>"
            ]
          },
          "metadata": {}
        }
      ]
    },
    {
      "cell_type": "markdown",
      "source": [
        "While White and Hispanic populations make up the largest demographic shares in most of the top 10 cities with the most police killings, the number of deaths shows a disproportionate impact on Black and Hispanic individuals. Black communities, in particular, experience significantly higher deaths relative to their population share, highlighting clear racial disparities in police violence across these cities."
      ],
      "metadata": {
        "id": "nUHlrC5f4xWy"
      }
    }
  ]
}